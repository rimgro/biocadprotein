{
 "cells": [
  {
   "cell_type": "markdown",
   "id": "486edba5",
   "metadata": {},
   "source": [
    "# Генерация белковых молекул"
   ]
  },
  {
   "cell_type": "markdown",
   "id": "93e10c56",
   "metadata": {},
   "source": [
    "! pip install --upgrade git+https://github.com/rimgro/biocadprotein.git"
   ]
  },
  {
   "cell_type": "code",
   "execution_count": 1,
   "id": "fd68f7e9",
   "metadata": {},
   "outputs": [],
   "source": [
    "from fpgen.generation.generator import ProteinGenerator\n",
    "from fpgen.generation.metrics import Metric\n",
    "from fpgen.utils import get_active_site_residues\n",
    "from fpgen.visualization import (\n",
    "    plot_3d_protein,\n",
    "    plot_2d_protein\n",
    ")\n",
    "\n",
    "from esm.models.esm3 import ESM3\n",
    "from esm.sdk.api import ESMProtein\n",
    "from esm.utils.structure.protein_chain import ProteinChain"
   ]
  },
  {
   "cell_type": "code",
   "execution_count": 2,
   "id": "81bd9db0",
   "metadata": {},
   "outputs": [
    {
     "data": {
      "application/vnd.jupyter.widget-view+json": {
       "model_id": "bc06a226bd6a45a5b5af50a59397e2b8",
       "version_major": 2,
       "version_minor": 0
      },
      "text/plain": [
       "Fetching 22 files:   0%|          | 0/22 [00:00<?, ?it/s]"
      ]
     },
     "metadata": {},
     "output_type": "display_data"
    }
   ],
   "source": [
    "# Создание модели ESM3 для генерации молекул\n",
    "model = ESM3.from_pretrained('esm3-open').to('cuda')"
   ]
  },
  {
   "cell_type": "code",
   "execution_count": 3,
   "id": "2076e107",
   "metadata": {},
   "outputs": [
    {
     "name": "stderr",
     "output_type": "stream",
     "text": [
      "c:\\Users\\User\\AppData\\Local\\Programs\\Python\\Python311\\Lib\\site-packages\\esm\\utils\\structure\\protein_complex.py:223: UserWarning: Entity ID not found in metadata, using None as default\n",
      "  warnings.warn(\"Entity ID not found in metadata, using None as default\")\n"
     ]
    }
   ],
   "source": [
    "gfp_protein = ESMProtein.from_protein_chain(\n",
    "    ProteinChain.from_rcsb('1qy3', chain_id='A')\n",
    ")\n",
    "\n",
    "idx_alpha_phelix = get_active_site_residues(\n",
    "    (56, 76),\n",
    "    protein=gfp_protein,\n",
    "    radius=5\n",
    ")"
   ]
  },
  {
   "cell_type": "code",
   "execution_count": 4,
   "id": "cce2431e",
   "metadata": {},
   "outputs": [],
   "source": [
    "generator = ProteinGenerator(gfp_protein, idx_alpha_phelix, model)"
   ]
  },
  {
   "cell_type": "code",
   "execution_count": 6,
   "id": "6a25130e",
   "metadata": {},
   "outputs": [
    {
     "name": "stderr",
     "output_type": "stream",
     "text": [
      "100%|██████████| 20/20 [00:15<00:00,  1.33it/s]\n",
      "100%|██████████| 20/20 [00:14<00:00,  1.37it/s]\n",
      "c:\\Users\\User\\AppData\\Local\\Programs\\Python\\Python311\\Lib\\site-packages\\esm\\utils\\structure\\protein_complex.py:223: UserWarning: Entity ID not found in metadata, using None as default\n",
      "  warnings.warn(\"Entity ID not found in metadata, using None as default\")\n"
     ]
    }
   ],
   "source": [
    "generated_protein, metric = generator.generate(\n",
    "    # (calculate_on_full_atom означает, что мы будем расчитывать метрику на полноатомной структуре),\n",
    "    # а не на бэкбоне\n",
    "    metric_list=[\n",
    "        Metric('rmsd', calculate_on_full_atom=True),\n",
    "        Metric('ptm'),\n",
    "        Metric('plddt')\n",
    "    ],\n",
    "    # Сгенерировать также полноатомную структуру белка\n",
    "    fix_protein=True\n",
    ")"
   ]
  },
  {
   "cell_type": "code",
   "execution_count": 7,
   "id": "44e4c0bd",
   "metadata": {},
   "outputs": [
    {
     "name": "stdout",
     "output_type": "stream",
     "text": [
      "RMSD: 2.081880391305786\n",
      "pTM: 0.8098708987236023\n",
      "pLDDT: 0.8426768183708191\n"
     ]
    }
   ],
   "source": [
    "metric_names = ['RMSD', 'pTM', 'pLDDT']\n",
    "\n",
    "for metric_name, metric_val in zip(metric_names, metric):\n",
    "    print(f'{metric_name}: {metric_val}')"
   ]
  },
  {
   "cell_type": "markdown",
   "id": "475b50b4",
   "metadata": {},
   "source": [
    "Теперь можно получить:\n",
    "\n",
    "- ```generated_protein['backbone']```: бэкбон молекулы\n",
    "- ```generated_protein['full_atom']```: полноатомную структуру белка"
   ]
  },
  {
   "cell_type": "code",
   "execution_count": null,
   "id": "4d0cc431",
   "metadata": {},
   "outputs": [],
   "source": [
    "# 3D визуализация белка\n",
    "plot_3d_protein(generated_protein['full_atom'])"
   ]
  }
 ],
 "metadata": {
  "kernelspec": {
   "display_name": "Python 3",
   "language": "python",
   "name": "python3"
  },
  "language_info": {
   "codemirror_mode": {
    "name": "ipython",
    "version": 3
   },
   "file_extension": ".py",
   "mimetype": "text/x-python",
   "name": "python",
   "nbconvert_exporter": "python",
   "pygments_lexer": "ipython3",
   "version": "3.11.9"
  }
 },
 "nbformat": 4,
 "nbformat_minor": 5
}

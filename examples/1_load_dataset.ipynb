{
 "cells": [
  {
   "cell_type": "markdown",
   "id": "9bb5c8e2",
   "metadata": {},
   "source": [
    "# Работа с датасетом FPbase"
   ]
  },
  {
   "cell_type": "code",
   "execution_count": 1,
   "id": "aae2f8f2",
   "metadata": {},
   "outputs": [],
   "source": [
    "from fpgen.prop_prediction.dataset import FPbase"
   ]
  },
  {
   "cell_type": "code",
   "execution_count": 3,
   "id": "3b9fba35",
   "metadata": {},
   "outputs": [],
   "source": [
    "dataset = FPbase('dataset.csv')"
   ]
  },
  {
   "cell_type": "markdown",
   "id": "5d9dd6ce",
   "metadata": {},
   "source": [
    "## Получение тренировочной выборки"
   ]
  },
  {
   "cell_type": "code",
   "execution_count": 4,
   "id": "ce6e4c45",
   "metadata": {},
   "outputs": [],
   "source": [
    "x_train, y_train = dataset.get_train('ex_max')"
   ]
  },
  {
   "cell_type": "code",
   "execution_count": 5,
   "id": "2015ec88",
   "metadata": {},
   "outputs": [
    {
     "data": {
      "text/plain": [
       "558    MVSKGEELFTGVVPILVEMDGDVNGRKFSVRGVGEGDATHGKLTLK...\n",
       "149    MSKGEELFTGVVPILVELDGDVNGHKFSVSGEGEGDATYGKLTLKF...\n",
       "184    MRSSKNVIKEFMRFKVRMEGTVNGHEFEIEGEGEGRPYEGHNTVKL...\n",
       "291    MSKGEELFTGIVPVLIELDGDVHGHKFSVRGEGEGDADYGKLEIKF...\n",
       "30     MALSKQEIKKEMTMDYVMDGCVNGHSFTVKGDGAGKPYEGHQRLSL...\n",
       "                             ...                        \n",
       "924    MVSTGEELFTGVVPFKFQLKGTINGKSFTVEGEGEGNSHEGSHKGK...\n",
       "86     MSKGEELFTGVVPILVELDGDVNGHKFSVSGEGEGDATYGKLTLKF...\n",
       "151    MSKGEELFTGVVPILVELDGDVNGHKFSVSGEGEGDATYGKLTLKF...\n",
       "525    MLLKENMHIKMYMEGTVNGHYFKCKGEGDGNPFAGTQSMRVHVTEG...\n",
       "779    MGSHHHHHHGMASMTGGQQMGRDLYDDDDKDLATMVDSSRRKWNKT...\n",
       "Name: sequence, Length: 676, dtype: object"
      ]
     },
     "execution_count": 5,
     "metadata": {},
     "output_type": "execute_result"
    }
   ],
   "source": [
    "x_train"
   ]
  },
  {
   "cell_type": "code",
   "execution_count": 6,
   "id": "ee46d381",
   "metadata": {},
   "outputs": [
    {
     "data": {
      "text/plain": [
       "558    385.0\n",
       "149    496.0\n",
       "184    561.0\n",
       "291    498.0\n",
       "30     494.0\n",
       "       ...  \n",
       "924    496.0\n",
       "86     383.0\n",
       "151    509.0\n",
       "525    587.0\n",
       "779    575.0\n",
       "Name: ex_max, Length: 676, dtype: float64"
      ]
     },
     "execution_count": 6,
     "metadata": {},
     "output_type": "execute_result"
    }
   ],
   "source": [
    "y_train"
   ]
  },
  {
   "cell_type": "markdown",
   "id": "20a2b2c0",
   "metadata": {},
   "source": [
    "## Получение тестовой выборки"
   ]
  },
  {
   "cell_type": "code",
   "execution_count": 8,
   "id": "cf34362f",
   "metadata": {},
   "outputs": [],
   "source": [
    "x_test, y_test = dataset.get_test('ex_max')"
   ]
  },
  {
   "cell_type": "code",
   "execution_count": 9,
   "id": "9b95f093",
   "metadata": {},
   "outputs": [
    {
     "data": {
      "text/plain": [
       "340    MGSSHHHHHHVSKGEELFTGVVPILVELDGDVNGHKFSVRGEGEGD...\n",
       "507    MVSAIKPDMRIKLRMEGNVNGHHFVIDGDGTGKPYEGKQTMDLEVK...\n",
       "645    MAIIKEFMRFKVHMEGSVNGHEFEIEGEGEGRPYEGTQTAKLKVTK...\n",
       "273    MVSKGEEVIKEFMRFKVRMEGSMNGHEFEIEGEGEGRPYEGTQTAK...\n",
       "616    MVSKGEEVIKEFMRFKVRMEGSVNGHEFEIEGEGEGRPYEGTQTAK...\n",
       "                             ...                        \n",
       "520    MSAIKPDMKIKLRMEGNVNGHHFVIDGDGTGKPFEGKQSMDLEVKE...\n",
       "841    MQSAGKKNVVKDFMKITLRMDGAVNGKPFAVNGTGDGNPYGGIQSL...\n",
       "33     MALSNKFIGDDMKMTYHMDGCVNGHYFTVKGEGNGKPYEGTQTSTF...\n",
       "947    MESDESGLPAMEIECRITGTLNGVEFELVGGGEGTPEQGRMTNKMK...\n",
       "746    MSSGALLFHGKIPYVVEMEGNVDGHTFSIRGKGYGDASVGKVDAQF...\n",
       "Name: sequence, Length: 173, dtype: object"
      ]
     },
     "execution_count": 9,
     "metadata": {},
     "output_type": "execute_result"
    }
   ],
   "source": [
    "x_test"
   ]
  },
  {
   "cell_type": "code",
   "execution_count": 10,
   "id": "afabafd2",
   "metadata": {},
   "outputs": [
    {
     "data": {
      "text/plain": [
       "340    501.0\n",
       "507    505.0\n",
       "645    581.0\n",
       "273    476.0\n",
       "616    598.0\n",
       "       ...  \n",
       "520    501.0\n",
       "841    497.0\n",
       "33     458.0\n",
       "947    482.0\n",
       "746    525.0\n",
       "Name: ex_max, Length: 173, dtype: float64"
      ]
     },
     "execution_count": 10,
     "metadata": {},
     "output_type": "execute_result"
    }
   ],
   "source": [
    "y_test"
   ]
  },
  {
   "cell_type": "markdown",
   "id": "bade4bf3",
   "metadata": {},
   "source": [
    "## Масштабирование таргетов"
   ]
  },
  {
   "cell_type": "code",
   "execution_count": 12,
   "id": "049dc49a",
   "metadata": {},
   "outputs": [],
   "source": [
    "y_train_scaled = dataset.scale_targets(y_train, 'ex_max')\n",
    "y_test_scaled = dataset.scale_targets(y_test, 'ex_max')"
   ]
  },
  {
   "cell_type": "code",
   "execution_count": 14,
   "id": "2daec7e3",
   "metadata": {},
   "outputs": [
    {
     "data": {
      "text/plain": [
       "array([[-0.13986462],\n",
       "       [-0.08000487],\n",
       "       [ 1.0573305 ],\n",
       "       [-0.5139881 ],\n",
       "       [ 1.31173446],\n",
       "       [-0.13986462],\n",
       "       [-1.15748048],\n",
       "       [-0.33440883],\n",
       "       [-1.69621828],\n",
       "       [-0.34937377]])"
      ]
     },
     "execution_count": 14,
     "metadata": {},
     "output_type": "execute_result"
    }
   ],
   "source": [
    "y_train_scaled[:10]"
   ]
  },
  {
   "cell_type": "markdown",
   "id": "e14edd0e",
   "metadata": {},
   "source": [
    "## Размаштабирование таргетов"
   ]
  },
  {
   "cell_type": "code",
   "execution_count": 17,
   "id": "7802c04f",
   "metadata": {},
   "outputs": [],
   "source": [
    "y_train_rescaled = dataset.rescale_targets(y_train_scaled, 'ex_max')\n",
    "y_test_recaled = dataset.rescale_targets(y_test_scaled, 'ex_max')"
   ]
  },
  {
   "cell_type": "code",
   "execution_count": 18,
   "id": "393cb013",
   "metadata": {},
   "outputs": [
    {
     "data": {
      "text/plain": [
       "array([[501.],\n",
       "       [505.],\n",
       "       [581.],\n",
       "       [476.],\n",
       "       [598.],\n",
       "       [501.],\n",
       "       [433.],\n",
       "       [488.],\n",
       "       [397.],\n",
       "       [487.]])"
      ]
     },
     "execution_count": 18,
     "metadata": {},
     "output_type": "execute_result"
    }
   ],
   "source": [
    "y_train_rescaled[:10]"
   ]
  },
  {
   "cell_type": "code",
   "execution_count": null,
   "id": "f7e2de8b",
   "metadata": {},
   "outputs": [],
   "source": []
  }
 ],
 "metadata": {
  "kernelspec": {
   "display_name": "Python 3",
   "language": "python",
   "name": "python3"
  },
  "language_info": {
   "codemirror_mode": {
    "name": "ipython",
    "version": 3
   },
   "file_extension": ".py",
   "mimetype": "text/x-python",
   "name": "python",
   "nbconvert_exporter": "python",
   "pygments_lexer": "ipython3",
   "version": "3.11.9"
  }
 },
 "nbformat": 4,
 "nbformat_minor": 5
}

{
 "cells": [
  {
   "cell_type": "markdown",
   "id": "9bb5c8e2",
   "metadata": {},
   "source": [
    "# Работа с датасетом FPbase"
   ]
  },
  {
   "cell_type": "code",
   "execution_count": null,
   "id": "cf731d00",
   "metadata": {},
   "outputs": [],
   "source": [
    "! pip install --upgrade git+https://github.com/rimgro/biocadprotein.git"
   ]
  },
  {
   "cell_type": "code",
   "execution_count": null,
   "id": "aae2f8f2",
   "metadata": {},
   "outputs": [],
   "source": [
    "from fpgen.prop_prediction.dataset import FPbase"
   ]
  },
  {
   "cell_type": "code",
   "execution_count": 25,
   "id": "3b9fba35",
   "metadata": {},
   "outputs": [],
   "source": [
    "dataset = FPbase('dataset.csv')"
   ]
  },
  {
   "cell_type": "markdown",
   "id": "5d9dd6ce",
   "metadata": {},
   "source": [
    "## Получение тренировочной выборки"
   ]
  },
  {
   "cell_type": "code",
   "execution_count": 26,
   "id": "ce6e4c45",
   "metadata": {},
   "outputs": [],
   "source": [
    "x_train, y_train = dataset.get_train('ex_max')"
   ]
  },
  {
   "cell_type": "code",
   "execution_count": 27,
   "id": "2015ec88",
   "metadata": {},
   "outputs": [
    {
     "data": {
      "text/plain": [
       "558    MVSKGEELFTGVVPILVEMDGDVNGRKFSVRGVGEGDATHGKLTLK...\n",
       "149    MSKGEELFTGVVPILVELDGDVNGHKFSVSGEGEGDATYGKLTLKF...\n",
       "184    MRSSKNVIKEFMRFKVRMEGTVNGHEFEIEGEGEGRPYEGHNTVKL...\n",
       "291    MSKGEELFTGIVPVLIELDGDVHGHKFSVRGEGEGDADYGKLEIKF...\n",
       "30     MALSKQEIKKEMTMDYVMDGCVNGHSFTVKGDGAGKPYEGHQRLSL...\n",
       "                             ...                        \n",
       "924    MVSTGEELFTGVVPFKFQLKGTINGKSFTVEGEGEGNSHEGSHKGK...\n",
       "86     MSKGEELFTGVVPILVELDGDVNGHKFSVSGEGEGDATYGKLTLKF...\n",
       "151    MSKGEELFTGVVPILVELDGDVNGHKFSVSGEGEGDATYGKLTLKF...\n",
       "525    MLLKENMHIKMYMEGTVNGHYFKCKGEGDGNPFAGTQSMRVHVTEG...\n",
       "779    MGSHHHHHHGMASMTGGQQMGRDLYDDDDKDLATMVDSSRRKWNKT...\n",
       "Name: sequence, Length: 676, dtype: object"
      ]
     },
     "execution_count": 27,
     "metadata": {},
     "output_type": "execute_result"
    }
   ],
   "source": [
    "x_train"
   ]
  },
  {
   "cell_type": "code",
   "execution_count": 28,
   "id": "ee46d381",
   "metadata": {},
   "outputs": [
    {
     "data": {
      "text/plain": [
       "558    385.0\n",
       "149    496.0\n",
       "184    561.0\n",
       "291    498.0\n",
       "30     494.0\n",
       "       ...  \n",
       "924    496.0\n",
       "86     383.0\n",
       "151    509.0\n",
       "525    587.0\n",
       "779    575.0\n",
       "Name: ex_max, Length: 676, dtype: float64"
      ]
     },
     "execution_count": 28,
     "metadata": {},
     "output_type": "execute_result"
    }
   ],
   "source": [
    "y_train"
   ]
  },
  {
   "cell_type": "markdown",
   "id": "20a2b2c0",
   "metadata": {},
   "source": [
    "## Получение тестовой выборки"
   ]
  },
  {
   "cell_type": "code",
   "execution_count": 29,
   "id": "cf34362f",
   "metadata": {},
   "outputs": [],
   "source": [
    "x_test, y_test = dataset.get_test('ex_max')"
   ]
  },
  {
   "cell_type": "code",
   "execution_count": 30,
   "id": "9b95f093",
   "metadata": {},
   "outputs": [
    {
     "data": {
      "text/plain": [
       "340    MGSSHHHHHHVSKGEELFTGVVPILVELDGDVNGHKFSVRGEGEGD...\n",
       "507    MVSAIKPDMRIKLRMEGNVNGHHFVIDGDGTGKPYEGKQTMDLEVK...\n",
       "645    MAIIKEFMRFKVHMEGSVNGHEFEIEGEGEGRPYEGTQTAKLKVTK...\n",
       "273    MVSKGEEVIKEFMRFKVRMEGSMNGHEFEIEGEGEGRPYEGTQTAK...\n",
       "616    MVSKGEEVIKEFMRFKVRMEGSVNGHEFEIEGEGEGRPYEGTQTAK...\n",
       "                             ...                        \n",
       "520    MSAIKPDMKIKLRMEGNVNGHHFVIDGDGTGKPFEGKQSMDLEVKE...\n",
       "841    MQSAGKKNVVKDFMKITLRMDGAVNGKPFAVNGTGDGNPYGGIQSL...\n",
       "33     MALSNKFIGDDMKMTYHMDGCVNGHYFTVKGEGNGKPYEGTQTSTF...\n",
       "947    MESDESGLPAMEIECRITGTLNGVEFELVGGGEGTPEQGRMTNKMK...\n",
       "746    MSSGALLFHGKIPYVVEMEGNVDGHTFSIRGKGYGDASVGKVDAQF...\n",
       "Name: sequence, Length: 173, dtype: object"
      ]
     },
     "execution_count": 30,
     "metadata": {},
     "output_type": "execute_result"
    }
   ],
   "source": [
    "x_test"
   ]
  },
  {
   "cell_type": "code",
   "execution_count": 31,
   "id": "afabafd2",
   "metadata": {},
   "outputs": [
    {
     "data": {
      "text/plain": [
       "340    501.0\n",
       "507    505.0\n",
       "645    581.0\n",
       "273    476.0\n",
       "616    598.0\n",
       "       ...  \n",
       "520    501.0\n",
       "841    497.0\n",
       "33     458.0\n",
       "947    482.0\n",
       "746    525.0\n",
       "Name: ex_max, Length: 173, dtype: float64"
      ]
     },
     "execution_count": 31,
     "metadata": {},
     "output_type": "execute_result"
    }
   ],
   "source": [
    "y_test"
   ]
  },
  {
   "cell_type": "markdown",
   "id": "bade4bf3",
   "metadata": {},
   "source": [
    "## Масштабирование таргетов"
   ]
  },
  {
   "cell_type": "code",
   "execution_count": 32,
   "id": "049dc49a",
   "metadata": {},
   "outputs": [],
   "source": [
    "y_train_scaled = dataset.scale_targets(y_train, 'ex_max')\n",
    "y_test_scaled = dataset.scale_targets(y_test, 'ex_max')"
   ]
  },
  {
   "cell_type": "code",
   "execution_count": 33,
   "id": "2daec7e3",
   "metadata": {},
   "outputs": [
    {
     "data": {
      "text/plain": [
       "array([[-1.87579755],\n",
       "       [-0.21468932],\n",
       "       [ 0.75803172],\n",
       "       [-0.18475944],\n",
       "       [-0.2446192 ],\n",
       "       [-0.28951401],\n",
       "       [ 1.16208507],\n",
       "       [ 1.04236556],\n",
       "       [-0.06503993],\n",
       "       [-0.15482956]])"
      ]
     },
     "execution_count": 33,
     "metadata": {},
     "output_type": "execute_result"
    }
   ],
   "source": [
    "y_train_scaled[:10]"
   ]
  },
  {
   "cell_type": "markdown",
   "id": "e14edd0e",
   "metadata": {},
   "source": [
    "## Размаштабирование таргетов"
   ]
  },
  {
   "cell_type": "code",
   "execution_count": 34,
   "id": "7802c04f",
   "metadata": {},
   "outputs": [],
   "source": [
    "y_train_rescaled = dataset.rescale_targets(y_train_scaled, 'ex_max')\n",
    "y_test_recaled = dataset.rescale_targets(y_test_scaled, 'ex_max')"
   ]
  },
  {
   "cell_type": "code",
   "execution_count": 35,
   "id": "393cb013",
   "metadata": {},
   "outputs": [
    {
     "data": {
      "text/plain": [
       "array([[385.],\n",
       "       [496.],\n",
       "       [561.],\n",
       "       [498.],\n",
       "       [494.],\n",
       "       [491.],\n",
       "       [588.],\n",
       "       [580.],\n",
       "       [506.],\n",
       "       [500.]])"
      ]
     },
     "execution_count": 35,
     "metadata": {},
     "output_type": "execute_result"
    }
   ],
   "source": [
    "y_train_rescaled[:10]"
   ]
  },
  {
   "cell_type": "markdown",
   "id": "d44724d7",
   "metadata": {},
   "source": [
    "# Работа с метриками"
   ]
  },
  {
   "cell_type": "code",
   "execution_count": 19,
   "id": "f7e2de8b",
   "metadata": {},
   "outputs": [],
   "source": [
    "from fpgen.prop_prediction.metrics import get_metrics"
   ]
  },
  {
   "cell_type": "markdown",
   "id": "b8198c70",
   "metadata": {},
   "source": [
    "Метрики для классификации"
   ]
  },
  {
   "cell_type": "code",
   "execution_count": 20,
   "id": "6381e838",
   "metadata": {},
   "outputs": [
    {
     "data": {
      "text/plain": [
       "{'accuracy': 0.2, 'precision': 0.2, 'recall': 0.2, 'f1': 0.2}"
      ]
     },
     "execution_count": 20,
     "metadata": {},
     "output_type": "execute_result"
    }
   ],
   "source": [
    "get_metrics([1, 2, 3, 4, 5], [2, 3, 1, 4, 8], 'class')"
   ]
  },
  {
   "cell_type": "markdown",
   "id": "e1cf6424",
   "metadata": {},
   "source": [
    "Метрики для регрессии"
   ]
  },
  {
   "cell_type": "code",
   "execution_count": 21,
   "id": "a82f7c45",
   "metadata": {},
   "outputs": [
    {
     "data": {
      "text/plain": [
       "{'rmse': 1.7320508075688772,\n",
       " 'mae': 1.4,\n",
       " 'r2': 0.48630136986301375,\n",
       " 'mae_median': 1.0}"
      ]
     },
     "execution_count": 21,
     "metadata": {},
     "output_type": "execute_result"
    }
   ],
   "source": [
    "get_metrics([1, 2, 3, 4, 5], [2, 3, 1, 4, 8], 'reg')"
   ]
  },
  {
   "cell_type": "code",
   "execution_count": null,
   "id": "ee1c752f",
   "metadata": {},
   "outputs": [],
   "source": []
  }
 ],
 "metadata": {
  "kernelspec": {
   "display_name": "Python 3",
   "language": "python",
   "name": "python3"
  },
  "language_info": {
   "codemirror_mode": {
    "name": "ipython",
    "version": 3
   },
   "file_extension": ".py",
   "mimetype": "text/x-python",
   "name": "python",
   "nbconvert_exporter": "python",
   "pygments_lexer": "ipython3",
   "version": "3.11.9"
  }
 },
 "nbformat": 4,
 "nbformat_minor": 5
}

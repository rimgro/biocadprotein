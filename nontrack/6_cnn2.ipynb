{
 "cells": [
  {
   "cell_type": "code",
   "execution_count": null,
   "id": "25e15c20",
   "metadata": {},
   "outputs": [
    {
     "name": "stdout",
     "output_type": "stream",
     "text": [
      "Collecting git+https://github.com/rimgro/biocadprotein.git\n",
      "  Cloning https://github.com/rimgro/biocadprotein.git to c:\\users\\user\\appdata\\local\\temp\\pip-req-build-phse_ilv\n",
      "  Resolved https://github.com/rimgro/biocadprotein.git to commit f6383093e0cc385d31415f512b5397b3f3cc069c\n",
      "  Installing build dependencies: started\n",
      "  Installing build dependencies: finished with status 'done'\n",
      "  Getting requirements to build wheel: started\n",
      "  Getting requirements to build wheel: finished with status 'done'\n",
      "  Preparing metadata (pyproject.toml): started\n",
      "  Preparing metadata (pyproject.toml): finished with status 'done'\n",
      "Requirement already satisfied: numpy>=1.21 in c:\\users\\user\\anaconda3\\envs\\biocadproteinenv\\lib\\site-packages (from fpgen==0.0.18) (2.0.1)\n",
      "Requirement already satisfied: torch>=1.10 in c:\\users\\user\\anaconda3\\envs\\biocadproteinenv\\lib\\site-packages (from fpgen==0.0.18) (2.5.1)\n",
      "Collecting esm@ git+https://github.com/evolutionaryscale/esm.git (from fpgen==0.0.18)\n",
      "  Cloning https://github.com/evolutionaryscale/esm.git to c:\\users\\user\\appdata\\local\\temp\\pip-install-d8fgvn_v\\esm_7bfb5a1180864b408ffc61594a7d87ec\n",
      "  Resolved https://github.com/evolutionaryscale/esm.git to commit b237fe781ccd290bf458d9d4a7484a21ac00c7bc\n",
      "  Installing build dependencies: started\n",
      "  Installing build dependencies: finished with status 'done'\n",
      "  Getting requirements to build wheel: started\n",
      "  Getting requirements to build wheel: finished with status 'done'\n",
      "  Preparing metadata (pyproject.toml): started\n",
      "  Preparing metadata (pyproject.toml): finished with status 'done'\n",
      "Collecting pdbfixer@ git+https://github.com/openmm/pdbfixer.git@5a6c129fb5b508610542634eafa218fb0e0671fe (from fpgen==0.0.18)\n",
      "  Cloning https://github.com/openmm/pdbfixer.git (to revision 5a6c129fb5b508610542634eafa218fb0e0671fe) to c:\\users\\user\\appdata\\local\\temp\\pip-install-d8fgvn_v\\pdbfixer_3627320566fb42ddb163b0c7d9970745\n",
      "  Resolved https://github.com/openmm/pdbfixer.git to commit 5a6c129fb5b508610542634eafa218fb0e0671fe\n",
      "  Preparing metadata (setup.py): started\n",
      "  Preparing metadata (setup.py): finished with status 'done'\n",
      "Collecting OpenMM==8.3.0 (from fpgen==0.0.18)\n",
      "  Downloading openmm-8.3.0-cp310-cp310-win_amd64.whl.metadata (1.1 kB)\n",
      "Collecting httpx>=0.28.1 (from fpgen==0.0.18)\n",
      "  Downloading httpx-0.28.1-py3-none-any.whl.metadata (7.1 kB)\n",
      "Collecting py3Dmol>=2.5.1 (from fpgen==0.0.18)\n",
      "  Downloading py3dmol-2.5.1-py2.py3-none-any.whl.metadata (2.1 kB)\n",
      "Collecting MDAnalysis>=2.9.0 (from fpgen==0.0.18)\n",
      "  Downloading mdanalysis-2.9.0-cp310-cp310-win_amd64.whl.metadata (110 kB)\n",
      "Requirement already satisfied: torchvision in c:\\users\\user\\anaconda3\\envs\\biocadproteinenv\\lib\\site-packages (from esm@ git+https://github.com/evolutionaryscale/esm.git->fpgen==0.0.18) (0.20.1)\n",
      "Requirement already satisfied: torchtext in c:\\users\\user\\anaconda3\\envs\\biocadproteinenv\\lib\\site-packages (from esm@ git+https://github.com/evolutionaryscale/esm.git->fpgen==0.0.18) (0.18.0)\n",
      "Requirement already satisfied: transformers<4.48.2 in c:\\users\\user\\anaconda3\\envs\\biocadproteinenv\\lib\\site-packages (from esm@ git+https://github.com/evolutionaryscale/esm.git->fpgen==0.0.18) (4.48.1)\n",
      "Requirement already satisfied: ipython in c:\\users\\user\\anaconda3\\envs\\biocadproteinenv\\lib\\site-packages (from esm@ git+https://github.com/evolutionaryscale/esm.git->fpgen==0.0.18) (8.37.0)\n",
      "Requirement already satisfied: einops in c:\\users\\user\\anaconda3\\envs\\biocadproteinenv\\lib\\site-packages (from esm@ git+https://github.com/evolutionaryscale/esm.git->fpgen==0.0.18) (0.8.1)\n",
      "Requirement already satisfied: biotite>=1.0.0 in c:\\users\\user\\anaconda3\\envs\\biocadproteinenv\\lib\\site-packages (from esm@ git+https://github.com/evolutionaryscale/esm.git->fpgen==0.0.18) (1.2.0)\n",
      "Requirement already satisfied: msgpack-numpy in c:\\users\\user\\anaconda3\\envs\\biocadproteinenv\\lib\\site-packages (from esm@ git+https://github.com/evolutionaryscale/esm.git->fpgen==0.0.18) (0.4.8)\n",
      "Requirement already satisfied: biopython in c:\\users\\user\\anaconda3\\envs\\biocadproteinenv\\lib\\site-packages (from esm@ git+https://github.com/evolutionaryscale/esm.git->fpgen==0.0.18) (1.85)\n",
      "Requirement already satisfied: scikit-learn in c:\\users\\user\\anaconda3\\envs\\biocadproteinenv\\lib\\site-packages (from esm@ git+https://github.com/evolutionaryscale/esm.git->fpgen==0.0.18) (1.7.0)\n",
      "Requirement already satisfied: brotli in c:\\users\\user\\anaconda3\\envs\\biocadproteinenv\\lib\\site-packages (from esm@ git+https://github.com/evolutionaryscale/esm.git->fpgen==0.0.18) (1.1.0)\n",
      "Requirement already satisfied: attrs in c:\\users\\user\\anaconda3\\envs\\biocadproteinenv\\lib\\site-packages (from esm@ git+https://github.com/evolutionaryscale/esm.git->fpgen==0.0.18) (25.3.0)\n",
      "Requirement already satisfied: pandas in c:\\users\\user\\anaconda3\\envs\\biocadproteinenv\\lib\\site-packages (from esm@ git+https://github.com/evolutionaryscale/esm.git->fpgen==0.0.18) (2.3.1)\n",
      "Requirement already satisfied: cloudpathlib in c:\\users\\user\\anaconda3\\envs\\biocadproteinenv\\lib\\site-packages (from esm@ git+https://github.com/evolutionaryscale/esm.git->fpgen==0.0.18) (0.21.1)\n",
      "Requirement already satisfied: tenacity in c:\\users\\user\\anaconda3\\envs\\biocadproteinenv\\lib\\site-packages (from esm@ git+https://github.com/evolutionaryscale/esm.git->fpgen==0.0.18) (9.1.2)\n",
      "Requirement already satisfied: zstd in c:\\users\\user\\anaconda3\\envs\\biocadproteinenv\\lib\\site-packages (from esm@ git+https://github.com/evolutionaryscale/esm.git->fpgen==0.0.18) (1.5.7.2)\n",
      "Requirement already satisfied: filelock in c:\\users\\user\\anaconda3\\envs\\biocadproteinenv\\lib\\site-packages (from transformers<4.48.2->esm@ git+https://github.com/evolutionaryscale/esm.git->fpgen==0.0.18) (3.17.0)\n",
      "Requirement already satisfied: huggingface-hub<1.0,>=0.24.0 in c:\\users\\user\\anaconda3\\envs\\biocadproteinenv\\lib\\site-packages (from transformers<4.48.2->esm@ git+https://github.com/evolutionaryscale/esm.git->fpgen==0.0.18) (0.33.4)\n",
      "Requirement already satisfied: packaging>=20.0 in c:\\users\\user\\anaconda3\\envs\\biocadproteinenv\\lib\\site-packages (from transformers<4.48.2->esm@ git+https://github.com/evolutionaryscale/esm.git->fpgen==0.0.18) (25.0)\n",
      "Requirement already satisfied: pyyaml>=5.1 in c:\\users\\user\\anaconda3\\envs\\biocadproteinenv\\lib\\site-packages (from transformers<4.48.2->esm@ git+https://github.com/evolutionaryscale/esm.git->fpgen==0.0.18) (6.0.2)\n",
      "Requirement already satisfied: regex!=2019.12.17 in c:\\users\\user\\anaconda3\\envs\\biocadproteinenv\\lib\\site-packages (from transformers<4.48.2->esm@ git+https://github.com/evolutionaryscale/esm.git->fpgen==0.0.18) (2024.11.6)\n",
      "Requirement already satisfied: requests in c:\\users\\user\\anaconda3\\envs\\biocadproteinenv\\lib\\site-packages (from transformers<4.48.2->esm@ git+https://github.com/evolutionaryscale/esm.git->fpgen==0.0.18) (2.32.4)\n",
      "Requirement already satisfied: tokenizers<0.22,>=0.21 in c:\\users\\user\\anaconda3\\envs\\biocadproteinenv\\lib\\site-packages (from transformers<4.48.2->esm@ git+https://github.com/evolutionaryscale/esm.git->fpgen==0.0.18) (0.21.2)\n",
      "Requirement already satisfied: safetensors>=0.4.1 in c:\\users\\user\\anaconda3\\envs\\biocadproteinenv\\lib\\site-packages (from transformers<4.48.2->esm@ git+https://github.com/evolutionaryscale/esm.git->fpgen==0.0.18) (0.5.3)\n",
      "Requirement already satisfied: tqdm>=4.27 in c:\\users\\user\\anaconda3\\envs\\biocadproteinenv\\lib\\site-packages (from transformers<4.48.2->esm@ git+https://github.com/evolutionaryscale/esm.git->fpgen==0.0.18) (4.67.1)\n",
      "Requirement already satisfied: fsspec>=2023.5.0 in c:\\users\\user\\anaconda3\\envs\\biocadproteinenv\\lib\\site-packages (from huggingface-hub<1.0,>=0.24.0->transformers<4.48.2->esm@ git+https://github.com/evolutionaryscale/esm.git->fpgen==0.0.18) (2025.5.1)\n",
      "Requirement already satisfied: typing-extensions>=3.7.4.3 in c:\\users\\user\\anaconda3\\envs\\biocadproteinenv\\lib\\site-packages (from huggingface-hub<1.0,>=0.24.0->transformers<4.48.2->esm@ git+https://github.com/evolutionaryscale/esm.git->fpgen==0.0.18) (4.12.2)\n",
      "Requirement already satisfied: biotraj<2.0,>=1.0 in c:\\users\\user\\anaconda3\\envs\\biocadproteinenv\\lib\\site-packages (from biotite>=1.0.0->esm@ git+https://github.com/evolutionaryscale/esm.git->fpgen==0.0.18) (1.2.2)\n",
      "Requirement already satisfied: msgpack>=0.5.6 in c:\\users\\user\\anaconda3\\envs\\biocadproteinenv\\lib\\site-packages (from biotite>=1.0.0->esm@ git+https://github.com/evolutionaryscale/esm.git->fpgen==0.0.18) (1.1.1)\n",
      "Requirement already satisfied: networkx>=2.0 in c:\\users\\user\\anaconda3\\envs\\biocadproteinenv\\lib\\site-packages (from biotite>=1.0.0->esm@ git+https://github.com/evolutionaryscale/esm.git->fpgen==0.0.18) (3.4.2)\n",
      "Requirement already satisfied: scipy>=1.13 in c:\\users\\user\\anaconda3\\envs\\biocadproteinenv\\lib\\site-packages (from biotraj<2.0,>=1.0->biotite>=1.0.0->esm@ git+https://github.com/evolutionaryscale/esm.git->fpgen==0.0.18) (1.15.2)\n",
      "Collecting anyio (from httpx>=0.28.1->fpgen==0.0.18)\n",
      "  Downloading anyio-4.9.0-py3-none-any.whl.metadata (4.7 kB)\n",
      "Requirement already satisfied: certifi in c:\\users\\user\\anaconda3\\envs\\biocadproteinenv\\lib\\site-packages (from httpx>=0.28.1->fpgen==0.0.18) (2025.7.14)\n",
      "Collecting httpcore==1.* (from httpx>=0.28.1->fpgen==0.0.18)\n",
      "  Downloading httpcore-1.0.9-py3-none-any.whl.metadata (21 kB)\n",
      "Requirement already satisfied: idna in c:\\users\\user\\anaconda3\\envs\\biocadproteinenv\\lib\\site-packages (from httpx>=0.28.1->fpgen==0.0.18) (3.7)\n",
      "Collecting h11>=0.16 (from httpcore==1.*->httpx>=0.28.1->fpgen==0.0.18)\n",
      "  Downloading h11-0.16.0-py3-none-any.whl.metadata (8.3 kB)\n",
      "Collecting GridDataFormats>=0.4.0 (from MDAnalysis>=2.9.0->fpgen==0.0.18)\n",
      "  Downloading GridDataFormats-1.0.2-py3-none-any.whl.metadata (4.9 kB)\n",
      "Collecting mmtf-python>=1.0.0 (from MDAnalysis>=2.9.0->fpgen==0.0.18)\n",
      "  Downloading mmtf_python-1.1.3-py2.py3-none-any.whl.metadata (1.2 kB)\n",
      "Requirement already satisfied: joblib>=0.12 in c:\\users\\user\\anaconda3\\envs\\biocadproteinenv\\lib\\site-packages (from MDAnalysis>=2.9.0->fpgen==0.0.18) (1.5.1)\n",
      "Requirement already satisfied: matplotlib>=1.5.1 in c:\\users\\user\\anaconda3\\envs\\biocadproteinenv\\lib\\site-packages (from MDAnalysis>=2.9.0->fpgen==0.0.18) (3.9.1)\n",
      "Requirement already satisfied: threadpoolctl in c:\\users\\user\\anaconda3\\envs\\biocadproteinenv\\lib\\site-packages (from MDAnalysis>=2.9.0->fpgen==0.0.18) (3.6.0)\n",
      "Collecting mda-xdrlib (from MDAnalysis>=2.9.0->fpgen==0.0.18)\n",
      "  Downloading mda_xdrlib-0.2.0-py3-none-any.whl.metadata (19 kB)\n",
      "Collecting mrcfile (from GridDataFormats>=0.4.0->MDAnalysis>=2.9.0->fpgen==0.0.18)\n",
      "  Downloading mrcfile-1.5.4-py2.py3-none-any.whl.metadata (7.0 kB)\n",
      "Requirement already satisfied: contourpy>=1.0.1 in c:\\users\\user\\anaconda3\\envs\\biocadproteinenv\\lib\\site-packages (from matplotlib>=1.5.1->MDAnalysis>=2.9.0->fpgen==0.0.18) (1.3.2)\n",
      "Requirement already satisfied: cycler>=0.10 in c:\\users\\user\\anaconda3\\envs\\biocadproteinenv\\lib\\site-packages (from matplotlib>=1.5.1->MDAnalysis>=2.9.0->fpgen==0.0.18) (0.12.1)\n",
      "Requirement already satisfied: fonttools>=4.22.0 in c:\\users\\user\\anaconda3\\envs\\biocadproteinenv\\lib\\site-packages (from matplotlib>=1.5.1->MDAnalysis>=2.9.0->fpgen==0.0.18) (4.58.5)\n",
      "Requirement already satisfied: kiwisolver>=1.3.1 in c:\\users\\user\\anaconda3\\envs\\biocadproteinenv\\lib\\site-packages (from matplotlib>=1.5.1->MDAnalysis>=2.9.0->fpgen==0.0.18) (1.4.8)\n",
      "Requirement already satisfied: pillow>=8 in c:\\users\\user\\anaconda3\\envs\\biocadproteinenv\\lib\\site-packages (from matplotlib>=1.5.1->MDAnalysis>=2.9.0->fpgen==0.0.18) (11.1.0)\n",
      "Requirement already satisfied: pyparsing>=2.3.1 in c:\\users\\user\\anaconda3\\envs\\biocadproteinenv\\lib\\site-packages (from matplotlib>=1.5.1->MDAnalysis>=2.9.0->fpgen==0.0.18) (3.2.3)\n",
      "Requirement already satisfied: python-dateutil>=2.7 in c:\\users\\user\\anaconda3\\envs\\biocadproteinenv\\lib\\site-packages (from matplotlib>=1.5.1->MDAnalysis>=2.9.0->fpgen==0.0.18) (2.9.0.post0)\n",
      "Requirement already satisfied: six>=1.5 in c:\\users\\user\\anaconda3\\envs\\biocadproteinenv\\lib\\site-packages (from python-dateutil>=2.7->matplotlib>=1.5.1->MDAnalysis>=2.9.0->fpgen==0.0.18) (1.17.0)\n",
      "Requirement already satisfied: charset_normalizer<4,>=2 in c:\\users\\user\\anaconda3\\envs\\biocadproteinenv\\lib\\site-packages (from requests->transformers<4.48.2->esm@ git+https://github.com/evolutionaryscale/esm.git->fpgen==0.0.18) (3.3.2)\n",
      "Requirement already satisfied: urllib3<3,>=1.21.1 in c:\\users\\user\\anaconda3\\envs\\biocadproteinenv\\lib\\site-packages (from requests->transformers<4.48.2->esm@ git+https://github.com/evolutionaryscale/esm.git->fpgen==0.0.18) (2.5.0)\n",
      "Requirement already satisfied: jinja2 in c:\\users\\user\\anaconda3\\envs\\biocadproteinenv\\lib\\site-packages (from torch>=1.10->fpgen==0.0.18) (3.1.6)\n",
      "Requirement already satisfied: sympy==1.13.1 in c:\\users\\user\\anaconda3\\envs\\biocadproteinenv\\lib\\site-packages (from torch>=1.10->fpgen==0.0.18) (1.13.1)\n",
      "Requirement already satisfied: mpmath<1.4,>=1.1.0 in c:\\users\\user\\anaconda3\\envs\\biocadproteinenv\\lib\\site-packages (from sympy==1.13.1->torch>=1.10->fpgen==0.0.18) (1.3.0)\n",
      "Requirement already satisfied: colorama in c:\\users\\user\\anaconda3\\envs\\biocadproteinenv\\lib\\site-packages (from tqdm>=4.27->transformers<4.48.2->esm@ git+https://github.com/evolutionaryscale/esm.git->fpgen==0.0.18) (0.4.6)\n",
      "Requirement already satisfied: exceptiongroup>=1.0.2 in c:\\users\\user\\anaconda3\\envs\\biocadproteinenv\\lib\\site-packages (from anyio->httpx>=0.28.1->fpgen==0.0.18) (1.3.0)\n",
      "Collecting sniffio>=1.1 (from anyio->httpx>=0.28.1->fpgen==0.0.18)\n",
      "  Downloading sniffio-1.3.1-py3-none-any.whl.metadata (3.9 kB)\n",
      "Requirement already satisfied: decorator in c:\\users\\user\\anaconda3\\envs\\biocadproteinenv\\lib\\site-packages (from ipython->esm@ git+https://github.com/evolutionaryscale/esm.git->fpgen==0.0.18) (5.2.1)\n",
      "Requirement already satisfied: jedi>=0.16 in c:\\users\\user\\anaconda3\\envs\\biocadproteinenv\\lib\\site-packages (from ipython->esm@ git+https://github.com/evolutionaryscale/esm.git->fpgen==0.0.18) (0.19.2)\n",
      "Requirement already satisfied: matplotlib-inline in c:\\users\\user\\anaconda3\\envs\\biocadproteinenv\\lib\\site-packages (from ipython->esm@ git+https://github.com/evolutionaryscale/esm.git->fpgen==0.0.18) (0.1.7)\n",
      "Requirement already satisfied: prompt_toolkit<3.1.0,>=3.0.41 in c:\\users\\user\\anaconda3\\envs\\biocadproteinenv\\lib\\site-packages (from ipython->esm@ git+https://github.com/evolutionaryscale/esm.git->fpgen==0.0.18) (3.0.51)\n",
      "Requirement already satisfied: pygments>=2.4.0 in c:\\users\\user\\anaconda3\\envs\\biocadproteinenv\\lib\\site-packages (from ipython->esm@ git+https://github.com/evolutionaryscale/esm.git->fpgen==0.0.18) (2.19.2)\n",
      "Requirement already satisfied: stack_data in c:\\users\\user\\anaconda3\\envs\\biocadproteinenv\\lib\\site-packages (from ipython->esm@ git+https://github.com/evolutionaryscale/esm.git->fpgen==0.0.18) (0.6.3)\n",
      "Requirement already satisfied: traitlets>=5.13.0 in c:\\users\\user\\anaconda3\\envs\\biocadproteinenv\\lib\\site-packages (from ipython->esm@ git+https://github.com/evolutionaryscale/esm.git->fpgen==0.0.18) (5.14.3)\n",
      "Requirement already satisfied: wcwidth in c:\\users\\user\\anaconda3\\envs\\biocadproteinenv\\lib\\site-packages (from prompt_toolkit<3.1.0,>=3.0.41->ipython->esm@ git+https://github.com/evolutionaryscale/esm.git->fpgen==0.0.18) (0.2.13)\n",
      "Requirement already satisfied: parso<0.9.0,>=0.8.4 in c:\\users\\user\\anaconda3\\envs\\biocadproteinenv\\lib\\site-packages (from jedi>=0.16->ipython->esm@ git+https://github.com/evolutionaryscale/esm.git->fpgen==0.0.18) (0.8.4)\n",
      "Requirement already satisfied: MarkupSafe>=2.0 in c:\\users\\user\\anaconda3\\envs\\biocadproteinenv\\lib\\site-packages (from jinja2->torch>=1.10->fpgen==0.0.18) (3.0.2)\n",
      "Requirement already satisfied: pytz>=2020.1 in c:\\users\\user\\anaconda3\\envs\\biocadproteinenv\\lib\\site-packages (from pandas->esm@ git+https://github.com/evolutionaryscale/esm.git->fpgen==0.0.18) (2025.2)\n",
      "Requirement already satisfied: tzdata>=2022.7 in c:\\users\\user\\anaconda3\\envs\\biocadproteinenv\\lib\\site-packages (from pandas->esm@ git+https://github.com/evolutionaryscale/esm.git->fpgen==0.0.18) (2025.2)\n",
      "Requirement already satisfied: executing>=1.2.0 in c:\\users\\user\\anaconda3\\envs\\biocadproteinenv\\lib\\site-packages (from stack_data->ipython->esm@ git+https://github.com/evolutionaryscale/esm.git->fpgen==0.0.18) (2.2.0)\n",
      "Requirement already satisfied: asttokens>=2.1.0 in c:\\users\\user\\anaconda3\\envs\\biocadproteinenv\\lib\\site-packages (from stack_data->ipython->esm@ git+https://github.com/evolutionaryscale/esm.git->fpgen==0.0.18) (3.0.0)\n",
      "Requirement already satisfied: pure_eval in c:\\users\\user\\anaconda3\\envs\\biocadproteinenv\\lib\\site-packages (from stack_data->ipython->esm@ git+https://github.com/evolutionaryscale/esm.git->fpgen==0.0.18) (0.2.3)\n",
      "Downloading openmm-8.3.0-cp310-cp310-win_amd64.whl (12.8 MB)\n",
      "   ---------------------------------------- 0.0/12.8 MB ? eta -:--:--\n",
      "   - -------------------------------------- 0.5/12.8 MB 3.4 MB/s eta 0:00:04\n",
      "   -------- ------------------------------- 2.6/12.8 MB 8.9 MB/s eta 0:00:02\n",
      "   --------- ------------------------------ 3.1/12.8 MB 6.8 MB/s eta 0:00:02\n",
      "   ------------ --------------------------- 3.9/12.8 MB 5.7 MB/s eta 0:00:02\n",
      "   ---------------- ----------------------- 5.2/12.8 MB 5.6 MB/s eta 0:00:02\n",
      "   ------------------- -------------------- 6.3/12.8 MB 5.8 MB/s eta 0:00:02\n",
      "   ------------------------ --------------- 7.9/12.8 MB 5.8 MB/s eta 0:00:01\n",
      "   ------------------------------- -------- 10.2/12.8 MB 6.7 MB/s eta 0:00:01\n",
      "   -------------------------------------- - 12.3/12.8 MB 7.1 MB/s eta 0:00:01\n",
      "   ---------------------------------------- 12.8/12.8 MB 7.0 MB/s eta 0:00:00\n",
      "Downloading httpx-0.28.1-py3-none-any.whl (73 kB)\n",
      "Downloading httpcore-1.0.9-py3-none-any.whl (78 kB)\n",
      "Downloading h11-0.16.0-py3-none-any.whl (37 kB)\n",
      "Downloading mdanalysis-2.9.0-cp310-cp310-win_amd64.whl (6.4 MB)\n",
      "   ---------------------------------------- 0.0/6.4 MB ? eta -:--:--\n",
      "   ------------- -------------------------- 2.1/6.4 MB 11.7 MB/s eta 0:00:01\n",
      "   --------------------------- ------------ 4.5/6.4 MB 11.2 MB/s eta 0:00:01\n",
      "   ------------------------------------- -- 6.0/6.4 MB 10.2 MB/s eta 0:00:01\n",
      "   ---------------------------------------- 6.4/6.4 MB 9.8 MB/s eta 0:00:00\n",
      "Downloading GridDataFormats-1.0.2-py3-none-any.whl (2.1 MB)\n",
      "   ---------------------------------------- 0.0/2.1 MB ? eta -:--:--\n",
      "   ---------------------------------------- 2.1/2.1 MB 12.0 MB/s eta 0:00:00\n",
      "Downloading mmtf_python-1.1.3-py2.py3-none-any.whl (25 kB)\n",
      "Downloading py3dmol-2.5.1-py2.py3-none-any.whl (7.2 kB)\n",
      "Downloading anyio-4.9.0-py3-none-any.whl (100 kB)\n",
      "Downloading sniffio-1.3.1-py3-none-any.whl (10 kB)\n",
      "Downloading mda_xdrlib-0.2.0-py3-none-any.whl (14 kB)\n",
      "Downloading mrcfile-1.5.4-py2.py3-none-any.whl (45 kB)\n",
      "Building wheels for collected packages: fpgen, pdbfixer\n",
      "  Building wheel for fpgen (pyproject.toml): started\n",
      "  Building wheel for fpgen (pyproject.toml): finished with status 'done'\n",
      "  Created wheel for fpgen: filename=fpgen-0.0.18-py3-none-any.whl size=6337 sha256=fde446dc64508124cc131a00f19875605fafc9784e3e02c3407dd6781d3e2680\n",
      "  Stored in directory: C:\\Users\\User\\AppData\\Local\\Temp\\pip-ephem-wheel-cache-bpoqw_3e\\wheels\\e2\\6f\\e6\\069623b6ab20b18ad6eefca3ee3f1a009ba6a92e141a27d8c7\n",
      "  Building wheel for pdbfixer (setup.py): started\n",
      "  Building wheel for pdbfixer (setup.py): finished with status 'done'\n",
      "  Created wheel for pdbfixer: filename=pdbfixer-1.11.0-py3-none-any.whl size=684965 sha256=e60330618482a13d4b80043ce2a5f86fbacd392df2c4275705c073e0a5ef572b\n",
      "  Stored in directory: c:\\users\\user\\appdata\\local\\pip\\cache\\wheels\\b2\\33\\0d\\dc07944c88ecec41d9f3c0bde0bb023cad705880be2ab029c4\n",
      "Successfully built fpgen pdbfixer\n",
      "Installing collected packages: py3Dmol, sniffio, OpenMM, mrcfile, mmtf-python, mda-xdrlib, h11, pdbfixer, httpcore, GridDataFormats, anyio, MDAnalysis, httpx, fpgen\n",
      "\n",
      "   ----- ----------------------------------  2/14 [OpenMM]\n",
      "   ----- ----------------------------------  2/14 [OpenMM]\n",
      "   ----- ----------------------------------  2/14 [OpenMM]\n",
      "   ----- ----------------------------------  2/14 [OpenMM]\n",
      "   ----------------- ----------------------  6/14 [h11]\n",
      "   ---------------------- -----------------  8/14 [httpcore]\n",
      "   ---------------------------- ----------- 10/14 [anyio]\n",
      "   ------------------------------- -------- 11/14 [MDAnalysis]\n",
      "   ------------------------------- -------- 11/14 [MDAnalysis]\n",
      "   ------------------------------- -------- 11/14 [MDAnalysis]\n",
      "   ------------------------------- -------- 11/14 [MDAnalysis]\n",
      "   ------------------------------- -------- 11/14 [MDAnalysis]\n",
      "   ------------------------------------- -- 13/14 [fpgen]\n",
      "   ---------------------------------------- 14/14 [fpgen]\n",
      "\n",
      "Successfully installed GridDataFormats-1.0.2 MDAnalysis-2.9.0 OpenMM-8.3.0 anyio-4.9.0 fpgen-0.0.18 h11-0.16.0 httpcore-1.0.9 httpx-0.28.1 mda-xdrlib-0.2.0 mmtf-python-1.1.3 mrcfile-1.5.4 pdbfixer-1.11.0 py3Dmol-2.5.1 sniffio-1.3.1\n"
     ]
    },
    {
     "name": "stderr",
     "output_type": "stream",
     "text": [
      "  Running command git clone --filter=blob:none --quiet https://github.com/rimgro/biocadprotein.git 'C:\\Users\\User\\AppData\\Local\\Temp\\pip-req-build-phse_ilv'\n",
      "  Running command git clone --filter=blob:none --quiet https://github.com/evolutionaryscale/esm.git 'C:\\Users\\User\\AppData\\Local\\Temp\\pip-install-d8fgvn_v\\esm_7bfb5a1180864b408ffc61594a7d87ec'\n",
      "  Running command git clone --filter=blob:none --quiet https://github.com/openmm/pdbfixer.git 'C:\\Users\\User\\AppData\\Local\\Temp\\pip-install-d8fgvn_v\\pdbfixer_3627320566fb42ddb163b0c7d9970745'\n",
      "  Running command git rev-parse -q --verify 'sha^5a6c129fb5b508610542634eafa218fb0e0671fe'\n",
      "  Running command git fetch -q https://github.com/openmm/pdbfixer.git 5a6c129fb5b508610542634eafa218fb0e0671fe\n",
      "  DEPRECATION: Building 'pdbfixer' using the legacy setup.py bdist_wheel mechanism, which will be removed in a future version. pip 25.3 will enforce this behaviour change. A possible replacement is to use the standardized build interface by setting the `--use-pep517` option, (possibly combined with `--no-build-isolation`), or adding a `pyproject.toml` file to the source tree of 'pdbfixer'. Discussion can be found at https://github.com/pypa/pip/issues/6334\n"
     ]
    }
   ],
   "source": [
    "#! pip install torch tqdm\n",
    "# ! pip install --upgrade git+https://github.com/rimgro/biocadprotein.git"
   ]
  },
  {
   "cell_type": "code",
   "execution_count": 1,
   "id": "a2e0b325",
   "metadata": {},
   "outputs": [
    {
     "name": "stdout",
     "output_type": "stream",
     "text": [
      "Using device: cuda\n"
     ]
    }
   ],
   "source": [
    "import torch\n",
    "import torch.nn as nn\n",
    "import torch.nn.functional as F\n",
    "\n",
    "import numpy as np\n",
    "import pandas as pd\n",
    "import matplotlib.pyplot as plt\n",
    "\n",
    "from tqdm import tqdm\n",
    "\n",
    "import warnings\n",
    "warnings.filterwarnings('ignore')\n",
    "\n",
    "\n",
    "device = torch.device('cuda' if torch.cuda.is_available() else 'cpu')\n",
    "print(f'Using device: {device}')"
   ]
  },
  {
   "cell_type": "markdown",
   "id": "bae8d796",
   "metadata": {},
   "source": [
    "<h3>Подготовка данных</h3>"
   ]
  },
  {
   "cell_type": "code",
   "execution_count": 2,
   "id": "39dac96d",
   "metadata": {},
   "outputs": [],
   "source": [
    "from fpgen.prop_prediction.dataset import FPbase\n",
    "from fpgen.prop_prediction.metrics import get_regression_metrics\n",
    "from torch.utils.data import TensorDataset, DataLoader"
   ]
  },
  {
   "cell_type": "code",
   "execution_count": 4,
   "id": "f22651da",
   "metadata": {},
   "outputs": [],
   "source": [
    "dataset = FPbase('./data/dataset.csv')\n",
    "\n",
    "# one-hot encoding setup\n",
    "amino_acids = list('ACDEFGHIKLMNPQRSTVWY')\n",
    "vocab = {aa: i for i, aa in enumerate(amino_acids)}"
   ]
  },
  {
   "cell_type": "code",
   "execution_count": 5,
   "id": "cdca0d91",
   "metadata": {},
   "outputs": [],
   "source": [
    "x_train, y_train = dataset.get_train('em_max')\n",
    "from sklearn.model_selection import train_test_split\n",
    "\n",
    "# Split training data into train and validation sets (e.g., 80% train, 20% val)\n",
    "x_train, x_val, y_train, y_val = train_test_split(\n",
    "    x_train, y_train, test_size=0.2, random_state=42\n",
    ")\n",
    "\n",
    "x_test, y_test = dataset.get_test('em_max')"
   ]
  },
  {
   "cell_type": "code",
   "execution_count": 6,
   "id": "9b60d089",
   "metadata": {},
   "outputs": [],
   "source": [
    "def encode_sequences(sequences, vocab, max_length=None):\n",
    "    \"\"\"\n",
    "    One-hot encode protein sequences\n",
    "    \n",
    "    Args:\n",
    "        sequences: List of protein sequences (strings)\n",
    "        vocab: Amino acid vocabulary dictionary (only used for consistency)\n",
    "        max_length: Maximum sequence length (will pad/truncate)\n",
    "    \n",
    "    Returns:\n",
    "        One-hot encoded sequences as torch tensor of shape (num_sequences, max_length, 20)\n",
    "    \"\"\"\n",
    "    if max_length is None:\n",
    "        max_length = max(len(seq) for seq in sequences)\n",
    "    \n",
    "    # Standard 20 amino acids\n",
    "    amino_acids = 'ACDEFGHIKLMNPQRSTVWY'\n",
    "    aa_to_idx = {aa: i for i, aa in enumerate(amino_acids)}\n",
    "    \n",
    "    encoded = []\n",
    "    for seq in sequences:\n",
    "        # Initialize one-hot matrix for this sequence\n",
    "        seq_onehot = torch.zeros(max_length, 20)\n",
    "        \n",
    "        # Convert to uppercase and encode each amino acid\n",
    "        seq_upper = seq.upper()\n",
    "        for i, aa in enumerate(seq_upper):\n",
    "            if i >= max_length:\n",
    "                break\n",
    "            if aa in aa_to_idx:\n",
    "                seq_onehot[i, aa_to_idx[aa]] = 1.0\n",
    "            # If amino acid is not in standard 20, leave as zeros (unknown)\n",
    "        \n",
    "        encoded.append(seq_onehot)\n",
    "    \n",
    "    return torch.stack(encoded)"
   ]
  },
  {
   "cell_type": "markdown",
   "id": "26593681",
   "metadata": {},
   "source": [
    "<h3>Преобразование в one-hot encoding</h3>"
   ]
  },
  {
   "cell_type": "code",
   "execution_count": 7,
   "id": "41c93e64",
   "metadata": {},
   "outputs": [],
   "source": [
    "x_train_encoded = encode_sequences(x_train, vocab)\n",
    "x_val_encoded = encode_sequences(x_val, vocab)\n",
    "x_test_encoded = encode_sequences(x_test, vocab)"
   ]
  },
  {
   "cell_type": "code",
   "execution_count": 8,
   "id": "836496e2",
   "metadata": {},
   "outputs": [],
   "source": [
    "y_train_tensor = torch.tensor(y_train, dtype=torch.float32)\n",
    "y_val_tensor = torch.tensor(y_val, dtype=torch.float32)\n",
    "y_test_tensor = torch.tensor(y_test, dtype=torch.float32)"
   ]
  },
  {
   "cell_type": "code",
   "execution_count": 9,
   "id": "4c761921",
   "metadata": {},
   "outputs": [],
   "source": [
    "dataset_train = TensorDataset(x_train_encoded, y_train_tensor)\n",
    "train_loader = DataLoader(dataset_train, batch_size=32, shuffle=True)\n",
    "    \n",
    "dataset_val = TensorDataset(x_val_encoded, y_val_tensor)\n",
    "val_loader = DataLoader(dataset_val, batch_size=32, shuffle=False)\n",
    "    \n",
    "dataset_test = TensorDataset(x_test_encoded, y_test_tensor)\n",
    "test_loader = DataLoader(dataset_test, batch_size=32, shuffle=False)"
   ]
  },
  {
   "cell_type": "markdown",
   "id": "dfd7ae77",
   "metadata": {},
   "source": [
    "<h3>Доготовка данных для работы с embeddings ESM C</h3>"
   ]
  },
  {
   "cell_type": "code",
   "execution_count": 7,
   "id": "51290a3e",
   "metadata": {},
   "outputs": [],
   "source": [
    "import pickle\n",
    "\n",
    "with open('../data/sequence.pickle', 'rb') as file:\n",
    "    seq = pickle.load(file)"
   ]
  },
  {
   "cell_type": "code",
   "execution_count": 57,
   "id": "8232d169",
   "metadata": {},
   "outputs": [],
   "source": [
    "def preprocessing_x(x_tr, x_t, x_v):\n",
    "    matrix_tr = []\n",
    "    for i in range(len(x_tr)):\n",
    "        matrix_tr.append(seq[x_tr.iloc[i]])\n",
    "\n",
    "    matrix_t = []\n",
    "    for i in range(len(x_t)):\n",
    "        matrix_t.append(seq[x_t.iloc[i]])\n",
    "\n",
    "    matrix_v = []\n",
    "    for i in range(len(x_v)):\n",
    "        matrix_v.append(seq[x_v.iloc[i]])\n",
    "\n",
    "    max_h = max(max(t.shape[1] for t in matrix_tr), max(t.shape[1] for t in matrix_t), max(t.shape[1] for t in matrix_v))\n",
    "    max_w = max(max(t.shape[2] for t in matrix_tr), max(t.shape[2] for t in matrix_t), max(t.shape[2] for t in matrix_v))\n",
    "\n",
    "    def pad_tensor_list(tensor_list):\n",
    "        padded = []\n",
    "        for t in tensor_list:\n",
    "            c, h, w = t.shape\n",
    "            pad_h = max_h - h\n",
    "            pad_w = max_w - w\n",
    "            padded_tensor = F.pad(t, (0, pad_w, 0, pad_h))\n",
    "            padded.append(padded_tensor)\n",
    "        return torch.stack(padded)\n",
    "\n",
    "    train = pad_tensor_list(matrix_tr)\n",
    "    test = pad_tensor_list(matrix_t)\n",
    "    val = pad_tensor_list(matrix_v)\n",
    "    return train, test, val"
   ]
  },
  {
   "cell_type": "code",
   "execution_count": 58,
   "id": "283620d2",
   "metadata": {},
   "outputs": [],
   "source": [
    "x_train_p, x_test_p, x_val_p = preprocessing_x(x_train, x_test, x_val)"
   ]
  },
  {
   "cell_type": "code",
   "execution_count": 59,
   "id": "bca0338b",
   "metadata": {},
   "outputs": [
    {
     "data": {
      "text/plain": [
       "torch.Size([514, 1, 739, 960])"
      ]
     },
     "execution_count": 59,
     "metadata": {},
     "output_type": "execute_result"
    }
   ],
   "source": [
    "x_train_p.shape"
   ]
  },
  {
   "cell_type": "code",
   "execution_count": 60,
   "id": "aad49e76",
   "metadata": {},
   "outputs": [
    {
     "data": {
      "text/plain": [
       "torch.Size([129, 739, 960])"
      ]
     },
     "execution_count": 60,
     "metadata": {},
     "output_type": "execute_result"
    }
   ],
   "source": [
    "x_train_p = x_train_p.squeeze(1)\n",
    "x_test_p = x_test_p.squeeze(1)\n",
    "x_val_p = x_val_p.squeeze(1)\n",
    "\n",
    "x_train_p.shape\n",
    "x_test_p.shape\n",
    "x_val_p.shape"
   ]
  },
  {
   "cell_type": "code",
   "execution_count": 61,
   "id": "9c6a70a5",
   "metadata": {},
   "outputs": [],
   "source": [
    "y_train_p = torch.tensor(y_train, dtype=torch.float32).view(-1, 1)  # [643, 1]\n",
    "y_test_p = torch.tensor(y_test, dtype=torch.float32).view(-1, 1)\n",
    "y_val_p = torch.tensor(y_val, dtype=torch.float32).view(-1, 1)"
   ]
  },
  {
   "cell_type": "code",
   "execution_count": null,
   "id": "97b83eb6",
   "metadata": {},
   "outputs": [],
   "source": [
    "dataset_train = TensorDataset(x_train_p, y_train_p)\n",
    "train_loader = DataLoader(dataset_train, batch_size=32, shuffle=True)\n",
    "\n",
    "dataset_val = TensorDataset(x_val_p, y_val_p)\n",
    "val_loader = DataLoader(dataset_val, batch_size=32, shuffle=True)\n",
    "\n",
    "dataset_test = TensorDataset(x_test_p, y_test_p)\n",
    "test_loader = DataLoader(dataset_test, batch_size=32, shuffle=True)"
   ]
  },
  {
   "cell_type": "code",
   "execution_count": 63,
   "id": "1cf3757b",
   "metadata": {},
   "outputs": [
    {
     "data": {
      "text/plain": [
       "tensor([[[ 5.7537e-03, -2.2964e-03,  2.6722e-03,  ...,  5.8003e-03,\n",
       "          -6.2449e-03, -1.0297e-02],\n",
       "         [-3.5950e-04, -5.5967e-03,  3.3674e-02,  ...,  3.1661e-02,\n",
       "           1.4899e-02,  1.7556e-02],\n",
       "         [-3.5892e-02, -2.5552e-02,  4.4119e-03,  ...,  5.5391e-02,\n",
       "           2.1439e-03,  2.2918e-02],\n",
       "         ...,\n",
       "         [ 0.0000e+00,  0.0000e+00,  0.0000e+00,  ...,  0.0000e+00,\n",
       "           0.0000e+00,  0.0000e+00],\n",
       "         [ 0.0000e+00,  0.0000e+00,  0.0000e+00,  ...,  0.0000e+00,\n",
       "           0.0000e+00,  0.0000e+00],\n",
       "         [ 0.0000e+00,  0.0000e+00,  0.0000e+00,  ...,  0.0000e+00,\n",
       "           0.0000e+00,  0.0000e+00]],\n",
       "\n",
       "        [[ 1.2868e-02, -1.8333e-03,  3.3210e-03,  ...,  5.2421e-03,\n",
       "          -4.7548e-03, -9.2520e-03],\n",
       "         [ 2.5347e-03,  2.2133e-03,  1.4290e-03,  ...,  2.6560e-02,\n",
       "           1.4438e-03, -1.3619e-02],\n",
       "         [-5.9670e-02, -1.0463e-02,  2.0267e-02,  ...,  4.7756e-02,\n",
       "          -2.7080e-02,  3.9952e-02],\n",
       "         ...,\n",
       "         [ 0.0000e+00,  0.0000e+00,  0.0000e+00,  ...,  0.0000e+00,\n",
       "           0.0000e+00,  0.0000e+00],\n",
       "         [ 0.0000e+00,  0.0000e+00,  0.0000e+00,  ...,  0.0000e+00,\n",
       "           0.0000e+00,  0.0000e+00],\n",
       "         [ 0.0000e+00,  0.0000e+00,  0.0000e+00,  ...,  0.0000e+00,\n",
       "           0.0000e+00,  0.0000e+00]],\n",
       "\n",
       "        [[ 1.9136e-03,  5.3865e-03, -6.8531e-03,  ...,  3.3937e-03,\n",
       "          -2.5117e-03, -1.4343e-02],\n",
       "         [-7.8395e-03,  3.1466e-02,  3.2704e-02,  ..., -1.9645e-02,\n",
       "          -7.8316e-03,  1.9941e-02],\n",
       "         [-2.5531e-02,  1.9319e-02,  1.2367e-02,  ...,  4.5012e-02,\n",
       "          -2.0034e-02,  5.0268e-02],\n",
       "         ...,\n",
       "         [ 0.0000e+00,  0.0000e+00,  0.0000e+00,  ...,  0.0000e+00,\n",
       "           0.0000e+00,  0.0000e+00],\n",
       "         [ 0.0000e+00,  0.0000e+00,  0.0000e+00,  ...,  0.0000e+00,\n",
       "           0.0000e+00,  0.0000e+00],\n",
       "         [ 0.0000e+00,  0.0000e+00,  0.0000e+00,  ...,  0.0000e+00,\n",
       "           0.0000e+00,  0.0000e+00]],\n",
       "\n",
       "        ...,\n",
       "\n",
       "        [[ 4.5190e-03, -4.2255e-03,  1.9310e-04,  ...,  4.1102e-03,\n",
       "           3.4963e-04, -1.0008e-02],\n",
       "         [ 1.3644e-02, -4.9324e-03,  5.4916e-02,  ...,  3.6585e-02,\n",
       "           3.4807e-02,  2.1815e-02],\n",
       "         [-1.0172e-02, -1.4737e-02,  2.3466e-02,  ...,  3.3235e-02,\n",
       "           2.0307e-03,  2.0201e-03],\n",
       "         ...,\n",
       "         [ 0.0000e+00,  0.0000e+00,  0.0000e+00,  ...,  0.0000e+00,\n",
       "           0.0000e+00,  0.0000e+00],\n",
       "         [ 0.0000e+00,  0.0000e+00,  0.0000e+00,  ...,  0.0000e+00,\n",
       "           0.0000e+00,  0.0000e+00],\n",
       "         [ 0.0000e+00,  0.0000e+00,  0.0000e+00,  ...,  0.0000e+00,\n",
       "           0.0000e+00,  0.0000e+00]],\n",
       "\n",
       "        [[ 3.6815e-03,  3.7517e-05,  1.0571e-03,  ...,  1.9577e-03,\n",
       "           1.5965e-03, -9.9062e-03],\n",
       "         [ 5.3877e-03, -1.2923e-02,  3.0939e-02,  ...,  2.7459e-02,\n",
       "           7.2356e-03,  1.5172e-02],\n",
       "         [-3.2868e-02,  8.6175e-03,  3.5244e-02,  ...,  4.8286e-02,\n",
       "           8.9590e-03,  7.5304e-03],\n",
       "         ...,\n",
       "         [ 0.0000e+00,  0.0000e+00,  0.0000e+00,  ...,  0.0000e+00,\n",
       "           0.0000e+00,  0.0000e+00],\n",
       "         [ 0.0000e+00,  0.0000e+00,  0.0000e+00,  ...,  0.0000e+00,\n",
       "           0.0000e+00,  0.0000e+00],\n",
       "         [ 0.0000e+00,  0.0000e+00,  0.0000e+00,  ...,  0.0000e+00,\n",
       "           0.0000e+00,  0.0000e+00]],\n",
       "\n",
       "        [[ 4.7210e-03, -8.2263e-04,  1.8732e-03,  ...,  1.7629e-03,\n",
       "           2.4718e-03, -1.0866e-02],\n",
       "         [ 5.8121e-03, -8.0011e-03,  2.8242e-02,  ...,  2.3285e-02,\n",
       "           1.6982e-02,  1.1040e-02],\n",
       "         [-3.8405e-02,  6.6705e-03,  3.7266e-02,  ...,  5.0556e-02,\n",
       "           9.0631e-03,  1.6172e-02],\n",
       "         ...,\n",
       "         [ 0.0000e+00,  0.0000e+00,  0.0000e+00,  ...,  0.0000e+00,\n",
       "           0.0000e+00,  0.0000e+00],\n",
       "         [ 0.0000e+00,  0.0000e+00,  0.0000e+00,  ...,  0.0000e+00,\n",
       "           0.0000e+00,  0.0000e+00],\n",
       "         [ 0.0000e+00,  0.0000e+00,  0.0000e+00,  ...,  0.0000e+00,\n",
       "           0.0000e+00,  0.0000e+00]]])"
      ]
     },
     "execution_count": 63,
     "metadata": {},
     "output_type": "execute_result"
    }
   ],
   "source": [
    "x_train_p"
   ]
  },
  {
   "cell_type": "markdown",
   "id": "f7e96848",
   "metadata": {},
   "source": [
    "<h3>Классы с моделями</h3>"
   ]
  },
  {
   "cell_type": "code",
   "execution_count": 81,
   "id": "496ab5ad",
   "metadata": {},
   "outputs": [],
   "source": [
    "class EmbeddingLSTM(nn.Module):\n",
    "    \"\"\"LSTM-based model for precomputed protein embeddings.\"\"\"\n",
    "    \n",
    "    def __init__(self, embedding_dim, hidden_size=256, num_layers=3, dropout_rate=0.5):\n",
    "        super(EmbeddingLSTM, self).__init__()\n",
    "\n",
    "        self.hidden_size = hidden_size\n",
    "        self.num_layers = num_layers\n",
    "\n",
    "        self.lstm = nn.LSTM(\n",
    "            input_size=embedding_dim,\n",
    "            hidden_size=hidden_size,\n",
    "            num_layers=num_layers,\n",
    "            batch_first=True,\n",
    "            dropout=dropout_rate if num_layers > 1 else 0,\n",
    "            bidirectional=True\n",
    "        )\n",
    "\n",
    "        self.fc1 = nn.Linear(hidden_size * 2, 128)\n",
    "        self.fc2 = nn.Linear(128, 64)\n",
    "        self.fc3 = nn.Linear(64, 1)\n",
    "\n",
    "        self.dropout = nn.Dropout(dropout_rate)\n",
    "        self.layer_norm = nn.LayerNorm(hidden_size * 2)\n",
    "\n",
    "    def forward(self, x):\n",
    "        lstm_out, _ = self.lstm(x)\n",
    "        lstm_out = self.layer_norm(lstm_out)\n",
    "        mean_pool = torch.mean(lstm_out, dim=1)\n",
    "        max_pool = torch.max(lstm_out, dim=1)[0]\n",
    "        x = mean_pool + max_pool\n",
    "        x = F.relu(self.fc1(x))\n",
    "        x = F.relu(self.fc2(x))\n",
    "        x = self.dropout(x)\n",
    "        return self.fc3(x)"
   ]
  },
  {
   "cell_type": "code",
   "execution_count": 9,
   "id": "7376e238",
   "metadata": {},
   "outputs": [],
   "source": [
    "class ProteinLSTM(nn.Module):\n",
    "    def __init__(self, input_dim=20, hidden_dim=256, num_layers=2, \n",
    "                 output_dim=1, dropout=0.3, bidirectional=True):\n",
    "        \"\"\"\n",
    "        ProteinLSTM for fluorescent protein sequence analysis using one-hot encoding\n",
    "        \n",
    "        Args:\n",
    "            input_dim: Input dimension (20 for amino acids)\n",
    "            hidden_dim: Hidden dimension of LSTM layers\n",
    "            num_layers: Number of LSTM layers\n",
    "            output_dim: Output dimension (1 for regression, num_classes for classification)\n",
    "            dropout: Dropout rate\n",
    "            bidirectional: Whether to use bidirectional LSTM\n",
    "        \"\"\"\n",
    "        super(ProteinLSTM, self).__init__()\n",
    "        \n",
    "        self.hidden_dim = hidden_dim\n",
    "        self.num_layers = num_layers\n",
    "        self.bidirectional = bidirectional\n",
    "        \n",
    "        # LSTM layers (input is one-hot encoded amino acids)\n",
    "        self.lstm = nn.LSTM(\n",
    "            input_dim,  # 20 for one-hot encoded amino acids\n",
    "            hidden_dim, \n",
    "            num_layers, \n",
    "            dropout=dropout if num_layers > 1 else 0,\n",
    "            batch_first=True,\n",
    "            bidirectional=bidirectional\n",
    "        )\n",
    "        \n",
    "        # Determine final hidden size based on bidirectionality\n",
    "        final_hidden_dim = hidden_dim * 2 if bidirectional else hidden_dim\n",
    "        \n",
    "        # Fully connected layers\n",
    "        self.fc1 = nn.Linear(final_hidden_dim, hidden_dim)\n",
    "        self.dropout = nn.Dropout(dropout)\n",
    "        self.fc2 = nn.Linear(hidden_dim, output_dim)\n",
    "        \n",
    "        # Activation functions\n",
    "        self.relu = nn.ReLU()\n",
    "        \n",
    "    def forward(self, x):\n",
    "        \"\"\"\n",
    "        Forward pass\n",
    "        \n",
    "        Args:\n",
    "            x: Input tensor of shape (batch_size, sequence_length, 20) - one-hot encoded\n",
    "            \n",
    "        Returns:\n",
    "            Output tensor of shape (batch_size, output_dim)\n",
    "        \"\"\"\n",
    "        # LSTM (x is already one-hot encoded)\n",
    "        lstm_out, (hidden, cell) = self.lstm(x)\n",
    "        \n",
    "        # Use the last hidden state\n",
    "        if self.bidirectional:\n",
    "            # Concatenate forward and backward hidden states\n",
    "            hidden = torch.cat((hidden[-2,:,:], hidden[-1,:,:]), dim=1)\n",
    "        else:\n",
    "            hidden = hidden[-1,:,:]\n",
    "        \n",
    "        # Fully connected layers\n",
    "        out = self.relu(self.fc1(hidden))\n",
    "        out = self.dropout(out)\n",
    "        out = self.fc2(out)\n",
    "        \n",
    "        return out"
   ]
  },
  {
   "cell_type": "code",
   "execution_count": 10,
   "id": "927c2ac6",
   "metadata": {},
   "outputs": [],
   "source": [
    "class ProteinCNN(nn.Module):\n",
    "    def __init__(self, num_amino_acids=20, embedding_dim=64, num_filters=96, dropout_rate=0.4):\n",
    "        \"\"\"\n",
    "        Initialize the intermediate CNN architecture.\n",
    "        \n",
    "        Args:\n",
    "            num_amino_acids: Vocabulary size (e.g., 20).\n",
    "            embedding_dim: Size of the learned embedding vector.\n",
    "            num_filters: Number of filters. Increased slightly to 96 to give more capacity.\n",
    "            dropout_rate: A more moderate dropout rate.\n",
    "        \"\"\"\n",
    "        super(ProteinCNN, self).__init__()\n",
    "\n",
    "        self.embedding = nn.Embedding(num_embeddings=num_amino_acids, embedding_dim=embedding_dim)\n",
    "\n",
    "        self.conv1 = nn.Conv1d(embedding_dim, num_filters, kernel_size=3, padding=1)\n",
    "        self.conv2 = nn.Conv1d(embedding_dim, num_filters, kernel_size=5, padding=2)\n",
    "        self.conv3 = nn.Conv1d(embedding_dim, num_filters, kernel_size=7, padding=3)\n",
    "\n",
    "        self.batch_norm1 = nn.BatchNorm1d(num_filters)\n",
    "        self.batch_norm2 = nn.BatchNorm1d(num_filters)\n",
    "        self.batch_norm3 = nn.BatchNorm1d(num_filters)\n",
    "\n",
    "        self.conv4 = nn.Conv1d(num_filters * 3, num_filters * 2, kernel_size=3, padding=1)\n",
    "        self.batch_norm4 = nn.BatchNorm1d(num_filters * 2)\n",
    "        \n",
    "        self.global_pool = nn.AdaptiveAvgPool1d(1)\n",
    "\n",
    "        self.fc1 = nn.Linear(num_filters * 2, 256) \n",
    "        self.fc_out = nn.Linear(256, 1)\n",
    "        \n",
    "        self.dropout = nn.Dropout(dropout_rate)\n",
    "\n",
    "    def forward(self, x_one_hot):\n",
    "        \"\"\"\n",
    "        Forward pass.\n",
    "        \n",
    "        Args:\n",
    "            x_one_hot: Input tensor of one-hot vectors [batch, seq_len, num_amino_acids]\n",
    "        \"\"\"\n",
    "        x_indices = torch.argmax(x_one_hot, dim=2)\n",
    "        \n",
    "        x = self.embedding(x_indices)\n",
    "        x = x.transpose(1, 2)\n",
    "        \n",
    "        conv1_out = F.relu(self.batch_norm1(self.conv1(x)))\n",
    "        conv2_out = F.relu(self.batch_norm2(self.conv2(x)))\n",
    "        conv3_out = F.relu(self.batch_norm3(self.conv3(x)))\n",
    "        \n",
    "        x = torch.cat([conv1_out, conv2_out, conv3_out], dim=1)\n",
    "        \n",
    "        x = F.relu(self.batch_norm4(self.conv4(x)))\n",
    "        x = self.dropout(x) \n",
    "        \n",
    "        x = self.global_pool(x)\n",
    "        x = x.view(x.size(0), -1)\n",
    "        \n",
    "        x = F.relu(self.fc1(x))\n",
    "        x = self.dropout(x)\n",
    "        \n",
    "        x = self.fc_out(x)\n",
    "        \n",
    "        return x"
   ]
  },
  {
   "cell_type": "code",
   "execution_count": 11,
   "id": "be11b903",
   "metadata": {},
   "outputs": [],
   "source": [
    "def train_model(model, train_loader, val_loader, num_epochs=100, learning_rate=0.001):\n",
    "    \"\"\"Train the LSTM model.\"\"\"\n",
    "    device = torch.device('cuda' if torch.cuda.is_available() else 'cpu')\n",
    "    model.to(device)\n",
    "    \n",
    "    criterion = nn.MSELoss()\n",
    "    optimizer = torch.optim.Adam(model.parameters(), lr=learning_rate, weight_decay=1e-5)\n",
    "    \n",
    "    train_losses = []\n",
    "    val_losses = []\n",
    "    best_val_loss = float('inf')\n",
    "    best_model_state = None\n",
    "    \n",
    "    print(f\"Training on {device}\")\n",
    "    print(f\"Number of parameters: {sum(p.numel() for p in model.parameters()):,}\")\n",
    "    \n",
    "    for epoch in range(num_epochs):\n",
    "        # Training phase\n",
    "        model.train()\n",
    "        train_loss = 0.0\n",
    "        \n",
    "        for batch_idx, (sequences, targets) in enumerate(tqdm(train_loader, desc=f\"Epoch {epoch+1}/{num_epochs}\")):\n",
    "            sequences, targets = sequences.to(device), targets.to(device)\n",
    "            \n",
    "            optimizer.zero_grad()\n",
    "            predictions = model(sequences).squeeze()\n",
    "            loss = criterion(predictions, targets)\n",
    "            loss.backward()\n",
    "            \n",
    "            # Gradient clipping to prevent exploding gradients\n",
    "            torch.nn.utils.clip_grad_norm_(model.parameters(), max_norm=1.0)\n",
    "            \n",
    "            optimizer.step()\n",
    "            train_loss += loss.item()\n",
    "        \n",
    "        # Validation phase\n",
    "        model.eval()\n",
    "        val_loss = 0.0\n",
    "        \n",
    "        with torch.no_grad():\n",
    "            for sequences, targets in val_loader:\n",
    "                sequences, targets = sequences.to(device), targets.to(device)\n",
    "                predictions = model(sequences).squeeze()\n",
    "                loss = criterion(predictions, targets)\n",
    "                val_loss += loss.item()\n",
    "        \n",
    "        # Calculate average losses\n",
    "        avg_train_loss = train_loss / len(train_loader)\n",
    "        avg_val_loss = val_loss / len(val_loader)\n",
    "        \n",
    "        train_losses.append(avg_train_loss)\n",
    "        val_losses.append(avg_val_loss)\n",
    "        \n",
    "        # Save best model\n",
    "        if avg_val_loss < best_val_loss:\n",
    "            best_val_loss = avg_val_loss\n",
    "            best_model_state = model.state_dict().copy()\n",
    "        \n",
    "        # Print progress\n",
    "        if (epoch + 1) % 10 == 0:\n",
    "            print(f\"Epoch {epoch+1}/{num_epochs}\")\n",
    "            print(f\"Train Loss: {avg_train_loss:.4f}, Val Loss: {avg_val_loss:.4f}\")\n",
    "            print(f\"Learning Rate: {optimizer.param_groups[0]['lr']:.6f}\")\n",
    "            print(\"-\" * 50)\n",
    "    \n",
    "    # Load best model\n",
    "    model.load_state_dict(best_model_state)\n",
    "    \n",
    "    return model, train_losses, val_losses"
   ]
  },
  {
   "cell_type": "code",
   "execution_count": 12,
   "id": "9d3cfb81",
   "metadata": {},
   "outputs": [],
   "source": [
    "from sklearn.metrics import mean_squared_error, mean_absolute_error, r2_score"
   ]
  },
  {
   "cell_type": "code",
   "execution_count": 13,
   "id": "bfab222a",
   "metadata": {},
   "outputs": [],
   "source": [
    "def evaluate_model(model, data_loader, dataset=None, target_property=None):\n",
    "    model.eval()\n",
    "    predictions, true_values = [], []\n",
    "\n",
    "    with torch.no_grad():\n",
    "        for sequences, targets in data_loader:\n",
    "            sequences, targets = sequences.to(device), targets.to(device)\n",
    "\n",
    "            # Adjust input shape if needed\n",
    "            if sequences.ndim == 4:\n",
    "                sequences = sequences.permute(0, 2, 3, 1)  # B, H, W, C\n",
    "                sequences = sequences.reshape(sequences.shape[0], sequences.shape[1], -1)\n",
    "\n",
    "            outputs = model(sequences)\n",
    "            predictions.extend(outputs.squeeze().cpu().numpy())\n",
    "            true_values.extend(targets.squeeze().cpu().numpy())\n",
    "\n",
    "    predictions = np.array(predictions)\n",
    "    true_values = np.array(true_values)\n",
    "\n",
    "    # Denormalize if possible\n",
    "    if dataset is not None and hasattr(dataset, 'denormalize_target'):\n",
    "        predictions = np.array([dataset.denormalize_target(p, target_property) for p in predictions])\n",
    "        true_values = np.array([dataset.denormalize_target(t, target_property) for t in true_values])\n",
    "\n",
    "    # Calculate metrics\n",
    "    mse = mean_squared_error(true_values, predictions)\n",
    "    mae = mean_absolute_error(true_values, predictions)\n",
    "    r2 = r2_score(true_values, predictions)\n",
    "\n",
    "    print(f\"\\nTest MSE: {mse:.4f}\")\n",
    "    print(f\"Test MAE: {mae:.4f}\")\n",
    "    print(f\"Test R²:  {r2:.4f}\")\n",
    "\n",
    "    return predictions, true_values, mse, mae, r2"
   ]
  },
  {
   "cell_type": "code",
   "execution_count": 14,
   "id": "18daaf1f",
   "metadata": {},
   "outputs": [],
   "source": [
    "def plot_results(train_losses, val_losses, predictions, true_values, target_property):\n",
    "    \"\"\"Plot training results and predictions.\"\"\"\n",
    "    fig, (ax1, ax2) = plt.subplots(1, 2, figsize=(15, 5))\n",
    "    \n",
    "    # Plot training curves\n",
    "    ax1.plot(train_losses, label='Training Loss')\n",
    "    ax1.plot(val_losses, label='Validation Loss')\n",
    "    ax1.set_xlabel('Epoch')\n",
    "    ax1.set_ylabel('Loss')\n",
    "    ax1.set_title('Training and Validation Loss')\n",
    "    ax1.legend()\n",
    "    ax1.grid(True)\n",
    "    \n",
    "    # Plot predictions vs true values\n",
    "    ax2.scatter(true_values, predictions, alpha=0.7)\n",
    "    ax2.plot([min(true_values), max(true_values)], [min(true_values), max(true_values)], 'r--', lw=2)\n",
    "    ax2.set_xlabel(f'True {target_property}')\n",
    "    ax2.set_ylabel(f'Predicted {target_property}')\n",
    "    ax2.set_title(f'Predictions vs True Values\\n{target_property}')\n",
    "    ax2.grid(True)\n",
    "    \n",
    "    plt.tight_layout()\n",
    "    plt.show()"
   ]
  },
  {
   "cell_type": "code",
   "execution_count": 15,
   "id": "b1d288cb-6d42-4041-97a9-baea4958c09b",
   "metadata": {},
   "outputs": [],
   "source": [
    "from fpgen.prop_prediction.metrics import get_regression_metrics, get_classification_metrics"
   ]
  },
  {
   "cell_type": "markdown",
   "id": "98e19c47",
   "metadata": {},
   "source": [
    "<h3>Работа с ProteinLSTM</h3>"
   ]
  },
  {
   "cell_type": "code",
   "execution_count": null,
   "id": "edfe09d6",
   "metadata": {},
   "outputs": [
    {
     "name": "stdout",
     "output_type": "stream",
     "text": [
      "Training on cuda\n",
      "Number of parameters: 2,277,889\n"
     ]
    },
    {
     "name": "stderr",
     "output_type": "stream",
     "text": [
      "Epoch 1/20: 100%|██████████| 17/17 [00:01<00:00,  9.74it/s]\n",
      "Epoch 2/20: 100%|██████████| 17/17 [00:01<00:00, 11.51it/s]\n",
      "Epoch 3/20: 100%|██████████| 17/17 [00:01<00:00, 11.22it/s]\n",
      "Epoch 4/20: 100%|██████████| 17/17 [00:01<00:00, 11.21it/s]\n",
      "Epoch 5/20: 100%|██████████| 17/17 [00:01<00:00, 11.21it/s]\n",
      "Epoch 6/20: 100%|██████████| 17/17 [00:01<00:00, 11.11it/s]\n",
      "Epoch 7/20: 100%|██████████| 17/17 [00:01<00:00, 11.03it/s]\n",
      "Epoch 8/20: 100%|██████████| 17/17 [00:01<00:00, 11.42it/s]\n",
      "Epoch 9/20: 100%|██████████| 17/17 [00:01<00:00, 11.56it/s]\n",
      "Epoch 10/20: 100%|██████████| 17/17 [00:01<00:00, 11.44it/s]\n"
     ]
    },
    {
     "name": "stdout",
     "output_type": "stream",
     "text": [
      "Epoch 10/20\n",
      "Train Loss: 0.7490, Val Loss: 0.8158\n",
      "Learning Rate: 0.001000\n",
      "--------------------------------------------------\n"
     ]
    },
    {
     "name": "stderr",
     "output_type": "stream",
     "text": [
      "Epoch 11/20: 100%|██████████| 17/17 [00:01<00:00, 11.57it/s]\n",
      "Epoch 12/20: 100%|██████████| 17/17 [00:01<00:00, 11.63it/s]\n",
      "Epoch 13/20: 100%|██████████| 17/17 [00:01<00:00, 11.67it/s]\n",
      "Epoch 14/20: 100%|██████████| 17/17 [00:01<00:00, 11.67it/s]\n",
      "Epoch 15/20: 100%|██████████| 17/17 [00:01<00:00, 11.33it/s]\n",
      "Epoch 16/20: 100%|██████████| 17/17 [00:01<00:00, 11.54it/s]\n",
      "Epoch 17/20: 100%|██████████| 17/17 [00:01<00:00, 11.41it/s]\n",
      "Epoch 18/20: 100%|██████████| 17/17 [00:01<00:00, 11.27it/s]\n",
      "Epoch 19/20: 100%|██████████| 17/17 [00:01<00:00, 11.57it/s]\n",
      "Epoch 20/20: 100%|██████████| 17/17 [00:01<00:00, 11.31it/s]\n"
     ]
    },
    {
     "name": "stdout",
     "output_type": "stream",
     "text": [
      "Epoch 20/20\n",
      "Train Loss: 0.6255, Val Loss: 0.6514\n",
      "Learning Rate: 0.001000\n",
      "--------------------------------------------------\n",
      "\n",
      "Test MSE: 0.6092\n",
      "Test MAE: 0.5297\n",
      "Test R²:  0.3194\n"
     ]
    },
    {
     "data": {
      "image/png": "[encoded data removed]",
      "text/plain": [
       "<Figure size 1500x500 with 2 Axes>"
      ]
     },
     "metadata": {},
     "output_type": "display_data"
    },
    {
     "name": "stdout",
     "output_type": "stream",
     "text": [
      "\n",
      "Model saved as 'lstm_model_em_max_embeddings.pth'\n"
     ]
    }
   ],
   "source": [
    "\"\"\"Main training pipeline.\"\"\"\n",
    "TARGET_PROPERTY = 'em_max'  # Change this to predict different properties\n",
    "\n",
    "# Available properties from your dataset:\n",
    "# brightness, ex_max, em_max, ext_coeff, lifetime, maturation, pka, stokes_shift, qy, agg, switch_type\n",
    "\n",
    "# Hyperparameters\n",
    "MAX_LENGTH = 238\n",
    "BATCH_SIZE = 64\n",
    "NUM_EPOCHS = 20\n",
    "LEARNING_RATE = 0.001\n",
    "\n",
    "sample_batch = next(iter(train_loader))[0]\n",
    "embedding_dim = sample_batch.shape[-1]\n",
    "\n",
    "# Instantiate the new model\n",
    "# выбор между EmbeddingLSTM и ProteinLSTM\n",
    "model = ProteinLSTM(\n",
    "        input_dim=20,  # One-hot encoded amino acids\n",
    "        hidden_dim=256,\n",
    "        num_layers=2,\n",
    "        output_dim=1,\n",
    "        dropout=0.3,\n",
    "        bidirectional=True\n",
    "    )\n",
    "\n",
    "# Train the model\n",
    "trained_model, train_losses, val_losses = train_model(\n",
    "    model, train_loader, val_loader, NUM_EPOCHS, LEARNING_RATE\n",
    ")\n",
    "\n",
    "# Evaluate\n",
    "predictions1, true_values, mse, mae, r2 = evaluate_model(\n",
    "    trained_model, test_loader, dataset_test, TARGET_PROPERTY\n",
    ")\n",
    "\n",
    "# Plot\n",
    "plot_results(train_losses, val_losses, predictions1, true_values, TARGET_PROPERTY)\n",
    "\n",
    "# Save model\n",
    "torch.save(trained_model.state_dict(), f'lstm_model_{TARGET_PROPERTY}_onehot.pth')\n",
    "print(f\"\\nModel saved as 'lstm_model_{TARGET_PROPERTY}_onehot.pth'\")\n"
   ]
  },
  {
   "cell_type": "markdown",
   "id": "aaa5199b",
   "metadata": {},
   "source": [
    "<h3>Работа с EmbeddingLSTM</h3>"
   ]
  },
  {
   "cell_type": "code",
   "execution_count": null,
   "id": "00e2757f",
   "metadata": {
    "scrolled": true
   },
   "outputs": [
    {
     "name": "stdout",
     "output_type": "stream",
     "text": [
      "Training on cuda\n",
      "Number of parameters: 1,553,153\n"
     ]
    },
    {
     "name": "stderr",
     "output_type": "stream",
     "text": [
      "Epoch 1/200: 100%|██████████| 17/17 [00:01<00:00,  9.84it/s]\n",
      "Epoch 2/200: 100%|██████████| 17/17 [00:01<00:00, 12.57it/s]\n",
      "Epoch 3/200: 100%|██████████| 17/17 [00:01<00:00, 12.82it/s]\n",
      "Epoch 4/200: 100%|██████████| 17/17 [00:01<00:00, 12.64it/s]\n",
      "Epoch 5/200: 100%|██████████| 17/17 [00:01<00:00, 12.79it/s]\n",
      "Epoch 6/200: 100%|██████████| 17/17 [00:01<00:00, 12.64it/s]\n",
      "Epoch 7/200: 100%|██████████| 17/17 [00:01<00:00, 12.70it/s]\n",
      "Epoch 8/200: 100%|██████████| 17/17 [00:01<00:00, 12.70it/s]\n",
      "Epoch 9/200: 100%|██████████| 17/17 [00:01<00:00, 13.49it/s]\n",
      "Epoch 10/200: 100%|██████████| 17/17 [00:01<00:00, 13.21it/s]\n"
     ]
    },
    {
     "name": "stdout",
     "output_type": "stream",
     "text": [
      "Epoch 10/200\n",
      "Train Loss: 0.9622, Val Loss: 1.2318\n",
      "Learning Rate: 0.001000\n",
      "--------------------------------------------------\n"
     ]
    },
    {
     "name": "stderr",
     "output_type": "stream",
     "text": [
      "Epoch 11/200: 100%|██████████| 17/17 [00:01<00:00, 13.43it/s]\n",
      "Epoch 12/200: 100%|██████████| 17/17 [00:01<00:00, 13.48it/s]\n",
      "Epoch 13/200: 100%|██████████| 17/17 [00:01<00:00, 13.09it/s]\n",
      "Epoch 14/200: 100%|██████████| 17/17 [00:01<00:00, 13.34it/s]\n",
      "Epoch 15/200: 100%|██████████| 17/17 [00:01<00:00, 13.26it/s]\n",
      "Epoch 16/200: 100%|██████████| 17/17 [00:01<00:00, 13.34it/s]\n",
      "Epoch 17/200: 100%|██████████| 17/17 [00:01<00:00, 13.18it/s]\n",
      "Epoch 18/200: 100%|██████████| 17/17 [00:01<00:00, 13.26it/s]\n",
      "Epoch 19/200: 100%|██████████| 17/17 [00:01<00:00, 13.21it/s]\n",
      "Epoch 20/200: 100%|██████████| 17/17 [00:01<00:00, 13.33it/s]\n"
     ]
    },
    {
     "name": "stdout",
     "output_type": "stream",
     "text": [
      "Epoch 20/200\n",
      "Train Loss: 0.9559, Val Loss: 1.0025\n",
      "Learning Rate: 0.001000\n",
      "--------------------------------------------------\n"
     ]
    },
    {
     "name": "stderr",
     "output_type": "stream",
     "text": [
      "Epoch 21/200: 100%|██████████| 17/17 [00:01<00:00, 13.33it/s]\n",
      "Epoch 22/200: 100%|██████████| 17/17 [00:01<00:00, 12.66it/s]\n",
      "Epoch 23/200: 100%|██████████| 17/17 [00:01<00:00, 12.91it/s]\n",
      "Epoch 24/200: 100%|██████████| 17/17 [00:01<00:00, 12.51it/s]\n",
      "Epoch 25/200: 100%|██████████| 17/17 [00:01<00:00, 12.76it/s]\n",
      "Epoch 26/200: 100%|██████████| 17/17 [00:01<00:00, 12.77it/s]\n",
      "Epoch 27/200: 100%|██████████| 17/17 [00:01<00:00, 13.05it/s]\n",
      "Epoch 28/200: 100%|██████████| 17/17 [00:01<00:00, 12.95it/s]\n",
      "Epoch 29/200: 100%|██████████| 17/17 [00:01<00:00, 13.09it/s]\n",
      "Epoch 30/200: 100%|██████████| 17/17 [00:01<00:00, 13.00it/s]\n"
     ]
    },
    {
     "name": "stdout",
     "output_type": "stream",
     "text": [
      "Epoch 30/200\n",
      "Train Loss: 1.1004, Val Loss: 0.8401\n",
      "Learning Rate: 0.001000\n",
      "--------------------------------------------------\n"
     ]
    },
    {
     "name": "stderr",
     "output_type": "stream",
     "text": [
      "Epoch 31/200: 100%|██████████| 17/17 [00:01<00:00, 13.04it/s]\n",
      "Epoch 32/200: 100%|██████████| 17/17 [00:01<00:00, 12.95it/s]\n",
      "Epoch 33/200: 100%|██████████| 17/17 [00:01<00:00, 13.58it/s]\n",
      "Epoch 34/200: 100%|██████████| 17/17 [00:01<00:00, 13.29it/s]\n",
      "Epoch 35/200: 100%|██████████| 17/17 [00:01<00:00, 13.68it/s]\n",
      "Epoch 36/200: 100%|██████████| 17/17 [00:01<00:00, 13.71it/s]\n",
      "Epoch 37/200: 100%|██████████| 17/17 [00:01<00:00, 13.63it/s]\n",
      "Epoch 38/200: 100%|██████████| 17/17 [00:01<00:00, 13.58it/s]\n",
      "Epoch 39/200: 100%|██████████| 17/17 [00:01<00:00, 13.64it/s]\n",
      "Epoch 40/200: 100%|██████████| 17/17 [00:01<00:00, 13.60it/s]\n"
     ]
    },
    {
     "name": "stdout",
     "output_type": "stream",
     "text": [
      "Epoch 40/200\n",
      "Train Loss: 0.9507, Val Loss: 2.2785\n",
      "Learning Rate: 0.001000\n",
      "--------------------------------------------------\n"
     ]
    },
    {
     "name": "stderr",
     "output_type": "stream",
     "text": [
      "Epoch 41/200: 100%|██████████| 17/17 [00:01<00:00, 13.63it/s]\n",
      "Epoch 42/200: 100%|██████████| 17/17 [00:01<00:00, 13.66it/s]\n",
      "Epoch 43/200: 100%|██████████| 17/17 [00:01<00:00, 13.51it/s]\n",
      "Epoch 44/200: 100%|██████████| 17/17 [00:01<00:00, 13.69it/s]\n",
      "Epoch 45/200: 100%|██████████| 17/17 [00:01<00:00, 13.58it/s]\n",
      "Epoch 46/200: 100%|██████████| 17/17 [00:01<00:00, 13.80it/s]\n",
      "Epoch 47/200: 100%|██████████| 17/17 [00:01<00:00, 13.40it/s]\n",
      "Epoch 48/200: 100%|██████████| 17/17 [00:01<00:00, 13.27it/s]\n",
      "Epoch 49/200: 100%|██████████| 17/17 [00:01<00:00, 12.81it/s]\n",
      "Epoch 50/200: 100%|██████████| 17/17 [00:01<00:00, 12.89it/s]\n"
     ]
    },
    {
     "name": "stdout",
     "output_type": "stream",
     "text": [
      "Epoch 50/200\n",
      "Train Loss: 1.0033, Val Loss: 1.2278\n",
      "Learning Rate: 0.001000\n",
      "--------------------------------------------------\n"
     ]
    },
    {
     "name": "stderr",
     "output_type": "stream",
     "text": [
      "Epoch 51/200: 100%|██████████| 17/17 [00:01<00:00, 12.88it/s]\n",
      "Epoch 52/200: 100%|██████████| 17/17 [00:01<00:00, 11.59it/s]\n",
      "Epoch 53/200:  29%|██▉       | 5/17 [00:00<00:01,  9.34it/s]\n"
     ]
    },
    {
     "ename": "KeyboardInterrupt",
     "evalue": "",
     "output_type": "error",
     "traceback": [
      "\u001b[1;31m---------------------------------------------------------------------------\u001b[0m",
      "\u001b[1;31mKeyboardInterrupt\u001b[0m                         Traceback (most recent call last)",
      "Cell \u001b[1;32mIn[83], line 25\u001b[0m\n\u001b[0;32m     17\u001b[0m model \u001b[38;5;241m=\u001b[39m EmbeddingLSTM(\n\u001b[0;32m     18\u001b[0m     embedding_dim\u001b[38;5;241m=\u001b[39membedding_dim,\n\u001b[0;32m     19\u001b[0m     hidden_size\u001b[38;5;241m=\u001b[39m\u001b[38;5;241m128\u001b[39m,\n\u001b[0;32m     20\u001b[0m     num_layers\u001b[38;5;241m=\u001b[39m\u001b[38;5;241m2\u001b[39m,\n\u001b[0;32m     21\u001b[0m     dropout_rate\u001b[38;5;241m=\u001b[39m\u001b[38;5;241m0.1\u001b[39m\n\u001b[0;32m     22\u001b[0m )\u001b[38;5;241m.\u001b[39mto(device)\n\u001b[0;32m     24\u001b[0m \u001b[38;5;66;03m# Train the model\u001b[39;00m\n\u001b[1;32m---> 25\u001b[0m trained_model, train_losses, val_losses \u001b[38;5;241m=\u001b[39m \u001b[43mtrain_model\u001b[49m\u001b[43m(\u001b[49m\n\u001b[0;32m     26\u001b[0m \u001b[43m    \u001b[49m\u001b[43mmodel\u001b[49m\u001b[43m,\u001b[49m\u001b[43m \u001b[49m\u001b[43mtrain_loader\u001b[49m\u001b[43m,\u001b[49m\u001b[43m \u001b[49m\u001b[43mval_loader\u001b[49m\u001b[43m,\u001b[49m\u001b[43m \u001b[49m\u001b[43mNUM_EPOCHS\u001b[49m\u001b[43m,\u001b[49m\u001b[43m \u001b[49m\u001b[43mLEARNING_RATE\u001b[49m\n\u001b[0;32m     27\u001b[0m \u001b[43m)\u001b[49m\n\u001b[0;32m     29\u001b[0m \u001b[38;5;66;03m# Evaluate\u001b[39;00m\n\u001b[0;32m     30\u001b[0m predictions1, true_values, mse, mae, r2 \u001b[38;5;241m=\u001b[39m evaluate_model(\n\u001b[0;32m     31\u001b[0m     trained_model, test_loader, dataset_test, TARGET_PROPERTY\n\u001b[0;32m     32\u001b[0m )\n",
      "Cell \u001b[1;32mIn[65], line 34\u001b[0m, in \u001b[0;36mtrain_model\u001b[1;34m(model, train_loader, val_loader, num_epochs, learning_rate)\u001b[0m\n\u001b[0;32m     31\u001b[0m     torch\u001b[38;5;241m.\u001b[39mnn\u001b[38;5;241m.\u001b[39mutils\u001b[38;5;241m.\u001b[39mclip_grad_norm_(model\u001b[38;5;241m.\u001b[39mparameters(), max_norm\u001b[38;5;241m=\u001b[39m\u001b[38;5;241m1.0\u001b[39m)\n\u001b[0;32m     33\u001b[0m     optimizer\u001b[38;5;241m.\u001b[39mstep()\n\u001b[1;32m---> 34\u001b[0m     train_loss \u001b[38;5;241m+\u001b[39m\u001b[38;5;241m=\u001b[39m \u001b[43mloss\u001b[49m\u001b[38;5;241;43m.\u001b[39;49m\u001b[43mitem\u001b[49m\u001b[43m(\u001b[49m\u001b[43m)\u001b[49m\n\u001b[0;32m     36\u001b[0m \u001b[38;5;66;03m# Validation phase\u001b[39;00m\n\u001b[0;32m     37\u001b[0m model\u001b[38;5;241m.\u001b[39meval()\n",
      "\u001b[1;31mKeyboardInterrupt\u001b[0m: "
     ]
    }
   ],
   "source": [
    "\"\"\"Main training pipeline.\"\"\"\n",
    "TARGET_PROPERTY = 'em_max'  # Change this to predict different properties\n",
    "\n",
    "# Available properties from your dataset:\n",
    "# brightness, ex_max, em_max, ext_coeff, lifetime, maturation, pka, stokes_shift, qy, agg, switch_type\n",
    "\n",
    "# Hyperparameters\n",
    "MAX_LENGTH = 238\n",
    "BATCH_SIZE = 64\n",
    "NUM_EPOCHS = 200\n",
    "LEARNING_RATE = 0.001\n",
    "\n",
    "sample_batch = next(iter(train_loader))[0]\n",
    "embedding_dim = sample_batch.shape[-1]\n",
    "\n",
    "# Instantiate the new model\n",
    "# выбор между EmbeddingLSTM и ProteinLSTM\n",
    "model = EmbeddingLSTM(\n",
    "    embedding_dim=embedding_dim,\n",
    "    hidden_size=128,\n",
    "    num_layers=2,\n",
    "    dropout_rate=0.1\n",
    ").to(device)\n",
    "\n",
    "# Train the model\n",
    "trained_model, train_losses, val_losses = train_model(\n",
    "    model, train_loader, val_loader, NUM_EPOCHS, LEARNING_RATE\n",
    ")\n",
    "\n",
    "# Evaluate\n",
    "predictions1, true_values, mse, mae, r2 = evaluate_model(\n",
    "    trained_model, test_loader, dataset_test, TARGET_PROPERTY\n",
    ")\n",
    "\n",
    "# Plot\n",
    "plot_results(train_losses, val_losses, predictions1, true_values, TARGET_PROPERTY)\n",
    "\n",
    "# Save model\n",
    "torch.save(trained_model.state_dict(), f'lstm_model_{TARGET_PROPERTY}_embeddings.pth')\n",
    "print(f\"\\nModel saved as 'lstm_model_{TARGET_PROPERTY}_embeddings.pth'\")\n"
   ]
  },
  {
   "cell_type": "markdown",
   "id": "f983f0fe",
   "metadata": {},
   "source": [
    "### Обучение ProteinCNN"
   ]
  },
  {
   "cell_type": "code",
   "execution_count": 20,
   "id": "02e9d904",
   "metadata": {},
   "outputs": [
    {
     "name": "stdout",
     "output_type": "stream",
     "text": [
      "Training on cuda\n",
      "Number of parameters: 487,041\n"
     ]
    },
    {
     "name": "stderr",
     "output_type": "stream",
     "text": [
      "Epoch 1/1000: 100%|██████████| 17/17 [00:00<00:00, 28.77it/s]\n",
      "Epoch 2/1000: 100%|██████████| 17/17 [00:00<00:00, 51.34it/s]\n",
      "Epoch 3/1000: 100%|██████████| 17/17 [00:00<00:00, 50.41it/s]\n",
      "Epoch 4/1000: 100%|██████████| 17/17 [00:00<00:00, 49.51it/s]\n",
      "Epoch 5/1000: 100%|██████████| 17/17 [00:00<00:00, 53.57it/s]\n",
      "Epoch 6/1000: 100%|██████████| 17/17 [00:00<00:00, 53.86it/s]\n",
      "Epoch 7/1000: 100%|██████████| 17/17 [00:00<00:00, 49.66it/s]\n",
      "Epoch 8/1000: 100%|██████████| 17/17 [00:00<00:00, 55.75it/s]\n",
      "Epoch 9/1000: 100%|██████████| 17/17 [00:00<00:00, 56.05it/s]\n",
      "Epoch 10/1000: 100%|██████████| 17/17 [00:00<00:00, 56.97it/s]\n"
     ]
    },
    {
     "name": "stdout",
     "output_type": "stream",
     "text": [
      "Epoch 10/1000\n",
      "Train Loss: 0.3471, Val Loss: 1.5785\n",
      "Learning Rate: 0.001000\n",
      "--------------------------------------------------\n"
     ]
    },
    {
     "name": "stderr",
     "output_type": "stream",
     "text": [
      "Epoch 11/1000: 100%|██████████| 17/17 [00:00<00:00, 56.21it/s]\n",
      "Epoch 12/1000: 100%|██████████| 17/17 [00:00<00:00, 56.99it/s]\n",
      "Epoch 13/1000: 100%|██████████| 17/17 [00:00<00:00, 55.72it/s]\n",
      "Epoch 14/1000: 100%|██████████| 17/17 [00:00<00:00, 52.46it/s]\n",
      "Epoch 15/1000: 100%|██████████| 17/17 [00:00<00:00, 56.77it/s]\n",
      "Epoch 16/1000: 100%|██████████| 17/17 [00:00<00:00, 54.20it/s]\n",
      "Epoch 17/1000: 100%|██████████| 17/17 [00:00<00:00, 55.36it/s]\n",
      "Epoch 18/1000: 100%|██████████| 17/17 [00:00<00:00, 49.95it/s]\n",
      "Epoch 19/1000: 100%|██████████| 17/17 [00:00<00:00, 53.91it/s]\n",
      "Epoch 20/1000: 100%|██████████| 17/17 [00:00<00:00, 52.79it/s]\n"
     ]
    },
    {
     "name": "stdout",
     "output_type": "stream",
     "text": [
      "Epoch 20/1000\n",
      "Train Loss: 0.2507, Val Loss: 33.2978\n",
      "Learning Rate: 0.001000\n",
      "--------------------------------------------------\n"
     ]
    },
    {
     "name": "stderr",
     "output_type": "stream",
     "text": [
      "Epoch 21/1000: 100%|██████████| 17/17 [00:00<00:00, 52.19it/s]\n",
      "Epoch 22/1000: 100%|██████████| 17/17 [00:00<00:00, 54.10it/s]\n",
      "Epoch 23/1000: 100%|██████████| 17/17 [00:00<00:00, 54.70it/s]\n",
      "Epoch 24/1000: 100%|██████████| 17/17 [00:00<00:00, 56.77it/s]\n",
      "Epoch 25/1000: 100%|██████████| 17/17 [00:00<00:00, 57.74it/s]\n",
      "Epoch 26/1000: 100%|██████████| 17/17 [00:00<00:00, 55.13it/s]\n",
      "Epoch 27/1000: 100%|██████████| 17/17 [00:00<00:00, 53.12it/s]\n",
      "Epoch 28/1000: 100%|██████████| 17/17 [00:00<00:00, 56.38it/s]\n",
      "Epoch 29/1000: 100%|██████████| 17/17 [00:00<00:00, 55.88it/s]\n",
      "Epoch 30/1000: 100%|██████████| 17/17 [00:00<00:00, 55.39it/s]\n"
     ]
    },
    {
     "name": "stdout",
     "output_type": "stream",
     "text": [
      "Epoch 30/1000\n",
      "Train Loss: 0.2717, Val Loss: 0.2340\n",
      "Learning Rate: 0.001000\n",
      "--------------------------------------------------\n"
     ]
    },
    {
     "name": "stderr",
     "output_type": "stream",
     "text": [
      "Epoch 31/1000: 100%|██████████| 17/17 [00:00<00:00, 56.09it/s]\n",
      "Epoch 32/1000: 100%|██████████| 17/17 [00:00<00:00, 55.11it/s]\n",
      "Epoch 33/1000: 100%|██████████| 17/17 [00:00<00:00, 53.03it/s]\n",
      "Epoch 34/1000: 100%|██████████| 17/17 [00:00<00:00, 55.21it/s]\n",
      "Epoch 35/1000: 100%|██████████| 17/17 [00:00<00:00, 49.91it/s]\n",
      "Epoch 36/1000: 100%|██████████| 17/17 [00:00<00:00, 52.31it/s]\n",
      "Epoch 37/1000: 100%|██████████| 17/17 [00:00<00:00, 53.47it/s]\n",
      "Epoch 38/1000: 100%|██████████| 17/17 [00:00<00:00, 54.36it/s]\n",
      "Epoch 39/1000: 100%|██████████| 17/17 [00:00<00:00, 55.40it/s]\n",
      "Epoch 40/1000: 100%|██████████| 17/17 [00:00<00:00, 56.33it/s]\n"
     ]
    },
    {
     "name": "stdout",
     "output_type": "stream",
     "text": [
      "Epoch 40/1000\n",
      "Train Loss: 0.1734, Val Loss: 0.3239\n",
      "Learning Rate: 0.001000\n",
      "--------------------------------------------------\n"
     ]
    },
    {
     "name": "stderr",
     "output_type": "stream",
     "text": [
      "Epoch 41/1000: 100%|██████████| 17/17 [00:00<00:00, 49.92it/s]\n",
      "Epoch 42/1000: 100%|██████████| 17/17 [00:00<00:00, 49.65it/s]\n",
      "Epoch 43/1000: 100%|██████████| 17/17 [00:00<00:00, 48.62it/s]\n",
      "Epoch 44/1000: 100%|██████████| 17/17 [00:00<00:00, 49.20it/s]\n",
      "Epoch 45/1000: 100%|██████████| 17/17 [00:00<00:00, 50.68it/s]\n",
      "Epoch 46/1000: 100%|██████████| 17/17 [00:00<00:00, 44.67it/s]\n",
      "Epoch 47/1000: 100%|██████████| 17/17 [00:00<00:00, 48.23it/s]\n",
      "Epoch 48/1000: 100%|██████████| 17/17 [00:00<00:00, 47.81it/s]\n",
      "Epoch 49/1000: 100%|██████████| 17/17 [00:00<00:00, 47.33it/s]\n",
      "Epoch 50/1000: 100%|██████████| 17/17 [00:00<00:00, 46.35it/s]\n"
     ]
    },
    {
     "name": "stdout",
     "output_type": "stream",
     "text": [
      "Epoch 50/1000\n",
      "Train Loss: 0.1500, Val Loss: 0.2874\n",
      "Learning Rate: 0.001000\n",
      "--------------------------------------------------\n"
     ]
    },
    {
     "name": "stderr",
     "output_type": "stream",
     "text": [
      "Epoch 51/1000: 100%|██████████| 17/17 [00:00<00:00, 50.25it/s]\n",
      "Epoch 52/1000: 100%|██████████| 17/17 [00:00<00:00, 49.99it/s]\n",
      "Epoch 53/1000: 100%|██████████| 17/17 [00:00<00:00, 48.30it/s]\n",
      "Epoch 54/1000: 100%|██████████| 17/17 [00:00<00:00, 50.33it/s]\n",
      "Epoch 55/1000: 100%|██████████| 17/17 [00:00<00:00, 50.39it/s]\n",
      "Epoch 56/1000: 100%|██████████| 17/17 [00:00<00:00, 51.56it/s]\n",
      "Epoch 57/1000: 100%|██████████| 17/17 [00:00<00:00, 50.85it/s]\n",
      "Epoch 58/1000: 100%|██████████| 17/17 [00:00<00:00, 49.83it/s]\n",
      "Epoch 59/1000: 100%|██████████| 17/17 [00:00<00:00, 48.24it/s]\n",
      "Epoch 60/1000: 100%|██████████| 17/17 [00:00<00:00, 49.21it/s]\n"
     ]
    },
    {
     "name": "stdout",
     "output_type": "stream",
     "text": [
      "Epoch 60/1000\n",
      "Train Loss: 0.1889, Val Loss: 0.2309\n",
      "Learning Rate: 0.001000\n",
      "--------------------------------------------------\n"
     ]
    },
    {
     "name": "stderr",
     "output_type": "stream",
     "text": [
      "Epoch 61/1000: 100%|██████████| 17/17 [00:00<00:00, 50.09it/s]\n",
      "Epoch 62/1000: 100%|██████████| 17/17 [00:00<00:00, 50.06it/s]\n",
      "Epoch 63/1000: 100%|██████████| 17/17 [00:00<00:00, 51.15it/s]\n",
      "Epoch 64/1000: 100%|██████████| 17/17 [00:00<00:00, 49.29it/s]\n",
      "Epoch 65/1000: 100%|██████████| 17/17 [00:00<00:00, 49.60it/s]\n",
      "Epoch 66/1000: 100%|██████████| 17/17 [00:00<00:00, 46.18it/s]\n",
      "Epoch 67/1000: 100%|██████████| 17/17 [00:00<00:00, 50.14it/s]\n",
      "Epoch 68/1000: 100%|██████████| 17/17 [00:00<00:00, 49.53it/s]\n",
      "Epoch 69/1000: 100%|██████████| 17/17 [00:00<00:00, 49.21it/s]\n",
      "Epoch 70/1000: 100%|██████████| 17/17 [00:00<00:00, 49.99it/s]\n"
     ]
    },
    {
     "name": "stdout",
     "output_type": "stream",
     "text": [
      "Epoch 70/1000\n",
      "Train Loss: 0.1591, Val Loss: 1.6320\n",
      "Learning Rate: 0.001000\n",
      "--------------------------------------------------\n"
     ]
    },
    {
     "name": "stderr",
     "output_type": "stream",
     "text": [
      "Epoch 71/1000: 100%|██████████| 17/17 [00:00<00:00, 50.23it/s]\n",
      "Epoch 72/1000: 100%|██████████| 17/17 [00:00<00:00, 51.11it/s]\n",
      "Epoch 73/1000: 100%|██████████| 17/17 [00:00<00:00, 49.61it/s]\n",
      "Epoch 74/1000: 100%|██████████| 17/17 [00:00<00:00, 50.80it/s]\n",
      "Epoch 75/1000: 100%|██████████| 17/17 [00:00<00:00, 50.81it/s]\n",
      "Epoch 76/1000: 100%|██████████| 17/17 [00:00<00:00, 51.85it/s]\n",
      "Epoch 77/1000: 100%|██████████| 17/17 [00:00<00:00, 49.77it/s]\n",
      "Epoch 78/1000: 100%|██████████| 17/17 [00:00<00:00, 50.94it/s]\n",
      "Epoch 79/1000: 100%|██████████| 17/17 [00:00<00:00, 49.38it/s]\n",
      "Epoch 80/1000: 100%|██████████| 17/17 [00:00<00:00, 50.15it/s]\n"
     ]
    },
    {
     "name": "stdout",
     "output_type": "stream",
     "text": [
      "Epoch 80/1000\n",
      "Train Loss: 0.1587, Val Loss: 0.2813\n",
      "Learning Rate: 0.001000\n",
      "--------------------------------------------------\n"
     ]
    },
    {
     "name": "stderr",
     "output_type": "stream",
     "text": [
      "Epoch 81/1000: 100%|██████████| 17/17 [00:00<00:00, 50.04it/s]\n",
      "Epoch 82/1000: 100%|██████████| 17/17 [00:00<00:00, 50.45it/s]\n",
      "Epoch 83/1000: 100%|██████████| 17/17 [00:00<00:00, 48.43it/s]\n",
      "Epoch 84/1000: 100%|██████████| 17/17 [00:00<00:00, 50.28it/s]\n",
      "Epoch 85/1000: 100%|██████████| 17/17 [00:00<00:00, 50.00it/s]\n",
      "Epoch 86/1000: 100%|██████████| 17/17 [00:00<00:00, 49.72it/s]\n",
      "Epoch 87/1000: 100%|██████████| 17/17 [00:00<00:00, 54.81it/s]\n",
      "Epoch 88/1000: 100%|██████████| 17/17 [00:00<00:00, 56.66it/s]\n",
      "Epoch 89/1000: 100%|██████████| 17/17 [00:00<00:00, 54.40it/s]\n",
      "Epoch 90/1000: 100%|██████████| 17/17 [00:00<00:00, 53.25it/s]\n"
     ]
    },
    {
     "name": "stdout",
     "output_type": "stream",
     "text": [
      "Epoch 90/1000\n",
      "Train Loss: 0.1049, Val Loss: 0.2620\n",
      "Learning Rate: 0.001000\n",
      "--------------------------------------------------\n"
     ]
    },
    {
     "name": "stderr",
     "output_type": "stream",
     "text": [
      "Epoch 91/1000: 100%|██████████| 17/17 [00:00<00:00, 45.81it/s]\n",
      "Epoch 92/1000: 100%|██████████| 17/17 [00:00<00:00, 51.00it/s]\n",
      "Epoch 93/1000: 100%|██████████| 17/17 [00:00<00:00, 54.53it/s]\n",
      "Epoch 94/1000: 100%|██████████| 17/17 [00:00<00:00, 53.06it/s]\n",
      "Epoch 95/1000: 100%|██████████| 17/17 [00:00<00:00, 53.29it/s]\n",
      "Epoch 96/1000: 100%|██████████| 17/17 [00:00<00:00, 56.28it/s]\n",
      "Epoch 97/1000: 100%|██████████| 17/17 [00:00<00:00, 49.77it/s]\n",
      "Epoch 98/1000: 100%|██████████| 17/17 [00:00<00:00, 48.11it/s]\n",
      "Epoch 99/1000: 100%|██████████| 17/17 [00:00<00:00, 51.12it/s]\n",
      "Epoch 100/1000: 100%|██████████| 17/17 [00:00<00:00, 47.42it/s]\n"
     ]
    },
    {
     "name": "stdout",
     "output_type": "stream",
     "text": [
      "Epoch 100/1000\n",
      "Train Loss: 0.0975, Val Loss: 0.2754\n",
      "Learning Rate: 0.001000\n",
      "--------------------------------------------------\n"
     ]
    },
    {
     "name": "stderr",
     "output_type": "stream",
     "text": [
      "Epoch 101/1000: 100%|██████████| 17/17 [00:00<00:00, 56.13it/s]\n",
      "Epoch 102/1000: 100%|██████████| 17/17 [00:00<00:00, 56.09it/s]\n",
      "Epoch 103/1000: 100%|██████████| 17/17 [00:00<00:00, 54.55it/s]\n",
      "Epoch 104/1000: 100%|██████████| 17/17 [00:00<00:00, 52.90it/s]\n",
      "Epoch 105/1000: 100%|██████████| 17/17 [00:00<00:00, 52.93it/s]\n",
      "Epoch 106/1000: 100%|██████████| 17/17 [00:00<00:00, 53.56it/s]\n",
      "Epoch 107/1000: 100%|██████████| 17/17 [00:00<00:00, 52.87it/s]\n",
      "Epoch 108/1000: 100%|██████████| 17/17 [00:00<00:00, 53.17it/s]\n",
      "Epoch 109/1000: 100%|██████████| 17/17 [00:00<00:00, 49.40it/s]\n",
      "Epoch 110/1000: 100%|██████████| 17/17 [00:00<00:00, 47.30it/s]\n"
     ]
    },
    {
     "name": "stdout",
     "output_type": "stream",
     "text": [
      "Epoch 110/1000\n",
      "Train Loss: 0.0845, Val Loss: 0.6213\n",
      "Learning Rate: 0.001000\n",
      "--------------------------------------------------\n"
     ]
    },
    {
     "name": "stderr",
     "output_type": "stream",
     "text": [
      "Epoch 111/1000: 100%|██████████| 17/17 [00:00<00:00, 46.89it/s]\n",
      "Epoch 112/1000: 100%|██████████| 17/17 [00:00<00:00, 47.35it/s]\n",
      "Epoch 113/1000: 100%|██████████| 17/17 [00:00<00:00, 45.91it/s]\n",
      "Epoch 114/1000: 100%|██████████| 17/17 [00:00<00:00, 51.58it/s]\n",
      "Epoch 115/1000: 100%|██████████| 17/17 [00:00<00:00, 56.80it/s]\n",
      "Epoch 116/1000: 100%|██████████| 17/17 [00:00<00:00, 55.85it/s]\n",
      "Epoch 117/1000: 100%|██████████| 17/17 [00:00<00:00, 52.97it/s]\n",
      "Epoch 118/1000: 100%|██████████| 17/17 [00:00<00:00, 54.99it/s]\n",
      "Epoch 119/1000: 100%|██████████| 17/17 [00:00<00:00, 55.97it/s]\n",
      "Epoch 120/1000: 100%|██████████| 17/17 [00:00<00:00, 56.87it/s]\n"
     ]
    },
    {
     "name": "stdout",
     "output_type": "stream",
     "text": [
      "Epoch 120/1000\n",
      "Train Loss: 0.0872, Val Loss: 0.3221\n",
      "Learning Rate: 0.001000\n",
      "--------------------------------------------------\n"
     ]
    },
    {
     "name": "stderr",
     "output_type": "stream",
     "text": [
      "Epoch 121/1000: 100%|██████████| 17/17 [00:00<00:00, 57.44it/s]\n",
      "Epoch 122/1000: 100%|██████████| 17/17 [00:00<00:00, 56.84it/s]\n",
      "Epoch 123/1000: 100%|██████████| 17/17 [00:00<00:00, 55.87it/s]\n",
      "Epoch 124/1000: 100%|██████████| 17/17 [00:00<00:00, 56.34it/s]\n",
      "Epoch 125/1000: 100%|██████████| 17/17 [00:00<00:00, 56.09it/s]\n",
      "Epoch 126/1000: 100%|██████████| 17/17 [00:00<00:00, 55.82it/s]\n",
      "Epoch 127/1000: 100%|██████████| 17/17 [00:00<00:00, 54.82it/s]\n",
      "Epoch 128/1000: 100%|██████████| 17/17 [00:00<00:00, 56.52it/s]\n",
      "Epoch 129/1000: 100%|██████████| 17/17 [00:00<00:00, 56.12it/s]\n",
      "Epoch 130/1000: 100%|██████████| 17/17 [00:00<00:00, 56.36it/s]\n"
     ]
    },
    {
     "name": "stdout",
     "output_type": "stream",
     "text": [
      "Epoch 130/1000\n",
      "Train Loss: 0.0907, Val Loss: 0.3089\n",
      "Learning Rate: 0.001000\n",
      "--------------------------------------------------\n"
     ]
    },
    {
     "name": "stderr",
     "output_type": "stream",
     "text": [
      "Epoch 131/1000: 100%|██████████| 17/17 [00:00<00:00, 57.40it/s]\n",
      "Epoch 132/1000: 100%|██████████| 17/17 [00:00<00:00, 55.36it/s]\n",
      "Epoch 133/1000: 100%|██████████| 17/17 [00:00<00:00, 57.20it/s]\n",
      "Epoch 134/1000: 100%|██████████| 17/17 [00:00<00:00, 56.60it/s]\n",
      "Epoch 135/1000: 100%|██████████| 17/17 [00:00<00:00, 56.77it/s]\n",
      "Epoch 136/1000: 100%|██████████| 17/17 [00:00<00:00, 56.33it/s]\n",
      "Epoch 137/1000: 100%|██████████| 17/17 [00:00<00:00, 56.20it/s]\n",
      "Epoch 138/1000: 100%|██████████| 17/17 [00:00<00:00, 57.73it/s]\n",
      "Epoch 139/1000: 100%|██████████| 17/17 [00:00<00:00, 57.51it/s]\n",
      "Epoch 140/1000: 100%|██████████| 17/17 [00:00<00:00, 55.49it/s]\n"
     ]
    },
    {
     "name": "stdout",
     "output_type": "stream",
     "text": [
      "Epoch 140/1000\n",
      "Train Loss: 0.0879, Val Loss: 0.2687\n",
      "Learning Rate: 0.001000\n",
      "--------------------------------------------------\n"
     ]
    },
    {
     "name": "stderr",
     "output_type": "stream",
     "text": [
      "Epoch 141/1000: 100%|██████████| 17/17 [00:00<00:00, 58.05it/s]\n",
      "Epoch 142/1000: 100%|██████████| 17/17 [00:00<00:00, 57.14it/s]\n",
      "Epoch 143/1000: 100%|██████████| 17/17 [00:00<00:00, 56.74it/s]\n",
      "Epoch 144/1000: 100%|██████████| 17/17 [00:00<00:00, 56.06it/s]\n",
      "Epoch 145/1000: 100%|██████████| 17/17 [00:00<00:00, 55.94it/s]\n",
      "Epoch 146/1000: 100%|██████████| 17/17 [00:00<00:00, 56.78it/s]\n",
      "Epoch 147/1000: 100%|██████████| 17/17 [00:00<00:00, 54.17it/s]\n",
      "Epoch 148/1000: 100%|██████████| 17/17 [00:00<00:00, 57.85it/s]\n",
      "Epoch 149/1000: 100%|██████████| 17/17 [00:00<00:00, 56.13it/s]\n",
      "Epoch 150/1000: 100%|██████████| 17/17 [00:00<00:00, 56.20it/s]\n"
     ]
    },
    {
     "name": "stdout",
     "output_type": "stream",
     "text": [
      "Epoch 150/1000\n",
      "Train Loss: 0.1874, Val Loss: 0.1928\n",
      "Learning Rate: 0.001000\n",
      "--------------------------------------------------\n"
     ]
    },
    {
     "name": "stderr",
     "output_type": "stream",
     "text": [
      "Epoch 151/1000: 100%|██████████| 17/17 [00:00<00:00, 56.10it/s]\n",
      "Epoch 152/1000: 100%|██████████| 17/17 [00:00<00:00, 57.24it/s]\n",
      "Epoch 153/1000: 100%|██████████| 17/17 [00:00<00:00, 57.42it/s]\n",
      "Epoch 154/1000: 100%|██████████| 17/17 [00:00<00:00, 55.61it/s]\n",
      "Epoch 155/1000: 100%|██████████| 17/17 [00:00<00:00, 55.74it/s]\n",
      "Epoch 156/1000: 100%|██████████| 17/17 [00:00<00:00, 56.05it/s]\n",
      "Epoch 157/1000: 100%|██████████| 17/17 [00:00<00:00, 56.02it/s]\n",
      "Epoch 158/1000: 100%|██████████| 17/17 [00:00<00:00, 57.42it/s]\n",
      "Epoch 159/1000: 100%|██████████| 17/17 [00:00<00:00, 57.64it/s]\n",
      "Epoch 160/1000: 100%|██████████| 17/17 [00:00<00:00, 57.08it/s]\n"
     ]
    },
    {
     "name": "stdout",
     "output_type": "stream",
     "text": [
      "Epoch 160/1000\n",
      "Train Loss: 0.0919, Val Loss: 0.2327\n",
      "Learning Rate: 0.001000\n",
      "--------------------------------------------------\n"
     ]
    },
    {
     "name": "stderr",
     "output_type": "stream",
     "text": [
      "Epoch 161/1000: 100%|██████████| 17/17 [00:00<00:00, 56.26it/s]\n",
      "Epoch 162/1000: 100%|██████████| 17/17 [00:00<00:00, 54.75it/s]\n",
      "Epoch 163/1000: 100%|██████████| 17/17 [00:00<00:00, 56.34it/s]\n",
      "Epoch 164/1000: 100%|██████████| 17/17 [00:00<00:00, 56.94it/s]\n",
      "Epoch 165/1000: 100%|██████████| 17/17 [00:00<00:00, 56.54it/s]\n",
      "Epoch 166/1000: 100%|██████████| 17/17 [00:00<00:00, 56.96it/s]\n",
      "Epoch 167/1000: 100%|██████████| 17/17 [00:00<00:00, 54.57it/s]\n",
      "Epoch 168/1000: 100%|██████████| 17/17 [00:00<00:00, 53.82it/s]\n",
      "Epoch 169/1000: 100%|██████████| 17/17 [00:00<00:00, 51.47it/s]\n",
      "Epoch 170/1000: 100%|██████████| 17/17 [00:00<00:00, 55.15it/s]\n"
     ]
    },
    {
     "name": "stdout",
     "output_type": "stream",
     "text": [
      "Epoch 170/1000\n",
      "Train Loss: 0.0956, Val Loss: 0.2716\n",
      "Learning Rate: 0.001000\n",
      "--------------------------------------------------\n"
     ]
    },
    {
     "name": "stderr",
     "output_type": "stream",
     "text": [
      "Epoch 171/1000: 100%|██████████| 17/17 [00:00<00:00, 55.04it/s]\n",
      "Epoch 172/1000: 100%|██████████| 17/17 [00:00<00:00, 57.24it/s]\n",
      "Epoch 173/1000: 100%|██████████| 17/17 [00:00<00:00, 55.39it/s]\n",
      "Epoch 174/1000: 100%|██████████| 17/17 [00:00<00:00, 56.48it/s]\n",
      "Epoch 175/1000: 100%|██████████| 17/17 [00:00<00:00, 56.36it/s]\n",
      "Epoch 176/1000: 100%|██████████| 17/17 [00:00<00:00, 57.20it/s]\n",
      "Epoch 177/1000: 100%|██████████| 17/17 [00:00<00:00, 57.21it/s]\n",
      "Epoch 178/1000: 100%|██████████| 17/17 [00:00<00:00, 57.80it/s]\n",
      "Epoch 179/1000: 100%|██████████| 17/17 [00:00<00:00, 56.87it/s]\n",
      "Epoch 180/1000: 100%|██████████| 17/17 [00:00<00:00, 58.30it/s]\n"
     ]
    },
    {
     "name": "stdout",
     "output_type": "stream",
     "text": [
      "Epoch 180/1000\n",
      "Train Loss: 0.1228, Val Loss: 0.2660\n",
      "Learning Rate: 0.001000\n",
      "--------------------------------------------------\n"
     ]
    },
    {
     "name": "stderr",
     "output_type": "stream",
     "text": [
      "Epoch 181/1000: 100%|██████████| 17/17 [00:00<00:00, 56.87it/s]\n",
      "Epoch 182/1000: 100%|██████████| 17/17 [00:00<00:00, 56.75it/s]\n",
      "Epoch 183/1000: 100%|██████████| 17/17 [00:00<00:00, 58.59it/s]\n",
      "Epoch 184/1000: 100%|██████████| 17/17 [00:00<00:00, 56.75it/s]\n",
      "Epoch 185/1000: 100%|██████████| 17/17 [00:00<00:00, 56.77it/s]\n",
      "Epoch 186/1000: 100%|██████████| 17/17 [00:00<00:00, 57.00it/s]\n",
      "Epoch 187/1000: 100%|██████████| 17/17 [00:00<00:00, 56.51it/s]\n",
      "Epoch 188/1000: 100%|██████████| 17/17 [00:00<00:00, 58.53it/s]\n",
      "Epoch 189/1000: 100%|██████████| 17/17 [00:00<00:00, 56.71it/s]\n",
      "Epoch 190/1000: 100%|██████████| 17/17 [00:00<00:00, 57.76it/s]\n"
     ]
    },
    {
     "name": "stdout",
     "output_type": "stream",
     "text": [
      "Epoch 190/1000\n",
      "Train Loss: 0.0793, Val Loss: 0.2336\n",
      "Learning Rate: 0.001000\n",
      "--------------------------------------------------\n"
     ]
    },
    {
     "name": "stderr",
     "output_type": "stream",
     "text": [
      "Epoch 191/1000: 100%|██████████| 17/17 [00:00<00:00, 56.03it/s]\n",
      "Epoch 192/1000: 100%|██████████| 17/17 [00:00<00:00, 59.59it/s]\n",
      "Epoch 193/1000: 100%|██████████| 17/17 [00:00<00:00, 58.55it/s]\n",
      "Epoch 194/1000: 100%|██████████| 17/17 [00:00<00:00, 58.64it/s]\n",
      "Epoch 195/1000: 100%|██████████| 17/17 [00:00<00:00, 57.88it/s]\n",
      "Epoch 196/1000: 100%|██████████| 17/17 [00:00<00:00, 56.40it/s]\n",
      "Epoch 197/1000: 100%|██████████| 17/17 [00:00<00:00, 57.83it/s]\n",
      "Epoch 198/1000: 100%|██████████| 17/17 [00:00<00:00, 56.85it/s]\n",
      "Epoch 199/1000: 100%|██████████| 17/17 [00:00<00:00, 57.47it/s]\n",
      "Epoch 200/1000: 100%|██████████| 17/17 [00:00<00:00, 56.71it/s]\n"
     ]
    },
    {
     "name": "stdout",
     "output_type": "stream",
     "text": [
      "Epoch 200/1000\n",
      "Train Loss: 0.1014, Val Loss: 0.1852\n",
      "Learning Rate: 0.001000\n",
      "--------------------------------------------------\n"
     ]
    },
    {
     "name": "stderr",
     "output_type": "stream",
     "text": [
      "Epoch 201/1000: 100%|██████████| 17/17 [00:00<00:00, 55.68it/s]\n",
      "Epoch 202/1000: 100%|██████████| 17/17 [00:00<00:00, 56.69it/s]\n",
      "Epoch 203/1000: 100%|██████████| 17/17 [00:00<00:00, 57.05it/s]\n",
      "Epoch 204/1000: 100%|██████████| 17/17 [00:00<00:00, 55.50it/s]\n",
      "Epoch 205/1000: 100%|██████████| 17/17 [00:00<00:00, 56.47it/s]\n",
      "Epoch 206/1000: 100%|██████████| 17/17 [00:00<00:00, 56.29it/s]\n",
      "Epoch 207/1000: 100%|██████████| 17/17 [00:00<00:00, 56.27it/s]\n",
      "Epoch 208/1000: 100%|██████████| 17/17 [00:00<00:00, 57.90it/s]\n",
      "Epoch 209/1000: 100%|██████████| 17/17 [00:00<00:00, 57.08it/s]\n",
      "Epoch 210/1000: 100%|██████████| 17/17 [00:00<00:00, 57.22it/s]\n"
     ]
    },
    {
     "name": "stdout",
     "output_type": "stream",
     "text": [
      "Epoch 210/1000\n",
      "Train Loss: 0.0633, Val Loss: 0.2763\n",
      "Learning Rate: 0.001000\n",
      "--------------------------------------------------\n"
     ]
    },
    {
     "name": "stderr",
     "output_type": "stream",
     "text": [
      "Epoch 211/1000: 100%|██████████| 17/17 [00:00<00:00, 57.99it/s]\n",
      "Epoch 212/1000: 100%|██████████| 17/17 [00:00<00:00, 56.14it/s]\n",
      "Epoch 213/1000: 100%|██████████| 17/17 [00:00<00:00, 55.50it/s]\n",
      "Epoch 214/1000: 100%|██████████| 17/17 [00:00<00:00, 58.48it/s]\n",
      "Epoch 215/1000: 100%|██████████| 17/17 [00:00<00:00, 57.99it/s]\n",
      "Epoch 216/1000: 100%|██████████| 17/17 [00:00<00:00, 55.69it/s]\n",
      "Epoch 217/1000: 100%|██████████| 17/17 [00:00<00:00, 57.40it/s]\n",
      "Epoch 218/1000: 100%|██████████| 17/17 [00:00<00:00, 57.28it/s]\n",
      "Epoch 219/1000: 100%|██████████| 17/17 [00:00<00:00, 57.65it/s]\n",
      "Epoch 220/1000: 100%|██████████| 17/17 [00:00<00:00, 54.56it/s]\n"
     ]
    },
    {
     "name": "stdout",
     "output_type": "stream",
     "text": [
      "Epoch 220/1000\n",
      "Train Loss: 0.0545, Val Loss: 0.1669\n",
      "Learning Rate: 0.001000\n",
      "--------------------------------------------------\n"
     ]
    },
    {
     "name": "stderr",
     "output_type": "stream",
     "text": [
      "Epoch 221/1000: 100%|██████████| 17/17 [00:00<00:00, 56.84it/s]\n",
      "Epoch 222/1000: 100%|██████████| 17/17 [00:00<00:00, 53.57it/s]\n",
      "Epoch 223/1000: 100%|██████████| 17/17 [00:00<00:00, 56.92it/s]\n",
      "Epoch 224/1000: 100%|██████████| 17/17 [00:00<00:00, 53.68it/s]\n",
      "Epoch 225/1000: 100%|██████████| 17/17 [00:00<00:00, 54.48it/s]\n",
      "Epoch 226/1000: 100%|██████████| 17/17 [00:00<00:00, 57.88it/s]\n",
      "Epoch 227/1000: 100%|██████████| 17/17 [00:00<00:00, 57.32it/s]\n",
      "Epoch 228/1000: 100%|██████████| 17/17 [00:00<00:00, 52.62it/s]\n",
      "Epoch 229/1000: 100%|██████████| 17/17 [00:00<00:00, 56.28it/s]\n",
      "Epoch 230/1000: 100%|██████████| 17/17 [00:00<00:00, 53.56it/s]\n"
     ]
    },
    {
     "name": "stdout",
     "output_type": "stream",
     "text": [
      "Epoch 230/1000\n",
      "Train Loss: 0.2319, Val Loss: 0.2627\n",
      "Learning Rate: 0.001000\n",
      "--------------------------------------------------\n"
     ]
    },
    {
     "name": "stderr",
     "output_type": "stream",
     "text": [
      "Epoch 231/1000: 100%|██████████| 17/17 [00:00<00:00, 54.70it/s]\n",
      "Epoch 232/1000: 100%|██████████| 17/17 [00:00<00:00, 55.17it/s]\n",
      "Epoch 233/1000: 100%|██████████| 17/17 [00:00<00:00, 51.84it/s]\n",
      "Epoch 234/1000: 100%|██████████| 17/17 [00:00<00:00, 47.31it/s]\n",
      "Epoch 235/1000: 100%|██████████| 17/17 [00:00<00:00, 45.45it/s]\n",
      "Epoch 236/1000: 100%|██████████| 17/17 [00:00<00:00, 46.06it/s]\n",
      "Epoch 237/1000: 100%|██████████| 17/17 [00:00<00:00, 49.88it/s]\n",
      "Epoch 238/1000: 100%|██████████| 17/17 [00:00<00:00, 52.19it/s]\n",
      "Epoch 239/1000: 100%|██████████| 17/17 [00:00<00:00, 51.51it/s]\n",
      "Epoch 240/1000: 100%|██████████| 17/17 [00:00<00:00, 50.18it/s]\n"
     ]
    },
    {
     "name": "stdout",
     "output_type": "stream",
     "text": [
      "Epoch 240/1000\n",
      "Train Loss: 0.0762, Val Loss: 0.2442\n",
      "Learning Rate: 0.001000\n",
      "--------------------------------------------------\n"
     ]
    },
    {
     "name": "stderr",
     "output_type": "stream",
     "text": [
      "Epoch 241/1000: 100%|██████████| 17/17 [00:00<00:00, 50.57it/s]\n",
      "Epoch 242/1000: 100%|██████████| 17/17 [00:00<00:00, 49.75it/s]\n",
      "Epoch 243/1000: 100%|██████████| 17/17 [00:00<00:00, 49.91it/s]\n",
      "Epoch 244/1000: 100%|██████████| 17/17 [00:00<00:00, 47.55it/s]\n",
      "Epoch 245/1000: 100%|██████████| 17/17 [00:00<00:00, 51.34it/s]\n",
      "Epoch 246/1000: 100%|██████████| 17/17 [00:00<00:00, 48.99it/s]\n",
      "Epoch 247/1000: 100%|██████████| 17/17 [00:00<00:00, 55.29it/s]\n",
      "Epoch 248/1000: 100%|██████████| 17/17 [00:00<00:00, 57.68it/s]\n",
      "Epoch 249/1000: 100%|██████████| 17/17 [00:00<00:00, 54.70it/s]\n",
      "Epoch 250/1000: 100%|██████████| 17/17 [00:00<00:00, 52.80it/s]\n"
     ]
    },
    {
     "name": "stdout",
     "output_type": "stream",
     "text": [
      "Epoch 250/1000\n",
      "Train Loss: 0.0745, Val Loss: 0.1874\n",
      "Learning Rate: 0.001000\n",
      "--------------------------------------------------\n"
     ]
    },
    {
     "name": "stderr",
     "output_type": "stream",
     "text": [
      "Epoch 251/1000: 100%|██████████| 17/17 [00:00<00:00, 56.62it/s]\n",
      "Epoch 252/1000: 100%|██████████| 17/17 [00:00<00:00, 57.01it/s]\n",
      "Epoch 253/1000: 100%|██████████| 17/17 [00:00<00:00, 57.24it/s]\n",
      "Epoch 254/1000: 100%|██████████| 17/17 [00:00<00:00, 57.97it/s]\n",
      "Epoch 255/1000: 100%|██████████| 17/17 [00:00<00:00, 57.14it/s]\n",
      "Epoch 256/1000: 100%|██████████| 17/17 [00:00<00:00, 56.49it/s]\n",
      "Epoch 257/1000: 100%|██████████| 17/17 [00:00<00:00, 54.74it/s]\n",
      "Epoch 258/1000: 100%|██████████| 17/17 [00:00<00:00, 46.54it/s]\n",
      "Epoch 259/1000: 100%|██████████| 17/17 [00:00<00:00, 47.30it/s]\n",
      "Epoch 260/1000: 100%|██████████| 17/17 [00:00<00:00, 47.47it/s]\n"
     ]
    },
    {
     "name": "stdout",
     "output_type": "stream",
     "text": [
      "Epoch 260/1000\n",
      "Train Loss: 0.0579, Val Loss: 0.2412\n",
      "Learning Rate: 0.001000\n",
      "--------------------------------------------------\n"
     ]
    },
    {
     "name": "stderr",
     "output_type": "stream",
     "text": [
      "Epoch 261/1000: 100%|██████████| 17/17 [00:00<00:00, 47.08it/s]\n",
      "Epoch 262/1000: 100%|██████████| 17/17 [00:00<00:00, 46.00it/s]\n",
      "Epoch 263/1000: 100%|██████████| 17/17 [00:00<00:00, 47.39it/s]\n",
      "Epoch 264/1000: 100%|██████████| 17/17 [00:00<00:00, 48.79it/s]\n",
      "Epoch 265/1000: 100%|██████████| 17/17 [00:00<00:00, 47.59it/s]\n",
      "Epoch 266/1000: 100%|██████████| 17/17 [00:00<00:00, 47.56it/s]\n",
      "Epoch 267/1000: 100%|██████████| 17/17 [00:00<00:00, 48.08it/s]\n",
      "Epoch 268/1000: 100%|██████████| 17/17 [00:00<00:00, 48.74it/s]\n",
      "Epoch 269/1000: 100%|██████████| 17/17 [00:00<00:00, 48.48it/s]\n",
      "Epoch 270/1000: 100%|██████████| 17/17 [00:00<00:00, 49.27it/s]\n"
     ]
    },
    {
     "name": "stdout",
     "output_type": "stream",
     "text": [
      "Epoch 270/1000\n",
      "Train Loss: 0.0584, Val Loss: 0.2186\n",
      "Learning Rate: 0.001000\n",
      "--------------------------------------------------\n"
     ]
    },
    {
     "name": "stderr",
     "output_type": "stream",
     "text": [
      "Epoch 271/1000: 100%|██████████| 17/17 [00:00<00:00, 47.53it/s]\n",
      "Epoch 272/1000: 100%|██████████| 17/17 [00:00<00:00, 46.85it/s]\n",
      "Epoch 273/1000: 100%|██████████| 17/17 [00:00<00:00, 44.23it/s]\n",
      "Epoch 274/1000: 100%|██████████| 17/17 [00:00<00:00, 55.85it/s]\n",
      "Epoch 275/1000: 100%|██████████| 17/17 [00:00<00:00, 58.46it/s]\n",
      "Epoch 276/1000: 100%|██████████| 17/17 [00:00<00:00, 55.76it/s]\n",
      "Epoch 277/1000: 100%|██████████| 17/17 [00:00<00:00, 56.25it/s]\n",
      "Epoch 278/1000: 100%|██████████| 17/17 [00:00<00:00, 54.42it/s]\n",
      "Epoch 279/1000: 100%|██████████| 17/17 [00:00<00:00, 55.23it/s]\n",
      "Epoch 280/1000: 100%|██████████| 17/17 [00:00<00:00, 54.59it/s]\n"
     ]
    },
    {
     "name": "stdout",
     "output_type": "stream",
     "text": [
      "Epoch 280/1000\n",
      "Train Loss: 0.0598, Val Loss: 0.1817\n",
      "Learning Rate: 0.001000\n",
      "--------------------------------------------------\n"
     ]
    },
    {
     "name": "stderr",
     "output_type": "stream",
     "text": [
      "Epoch 281/1000: 100%|██████████| 17/17 [00:00<00:00, 57.10it/s]\n",
      "Epoch 282/1000: 100%|██████████| 17/17 [00:00<00:00, 53.49it/s]\n",
      "Epoch 283/1000: 100%|██████████| 17/17 [00:00<00:00, 53.03it/s]\n",
      "Epoch 284/1000: 100%|██████████| 17/17 [00:00<00:00, 56.60it/s]\n",
      "Epoch 285/1000: 100%|██████████| 17/17 [00:00<00:00, 58.02it/s]\n",
      "Epoch 286/1000: 100%|██████████| 17/17 [00:00<00:00, 58.54it/s]\n",
      "Epoch 287/1000: 100%|██████████| 17/17 [00:00<00:00, 57.58it/s]\n",
      "Epoch 288/1000: 100%|██████████| 17/17 [00:00<00:00, 57.58it/s]\n",
      "Epoch 289/1000: 100%|██████████| 17/17 [00:00<00:00, 59.69it/s]\n",
      "Epoch 290/1000: 100%|██████████| 17/17 [00:00<00:00, 57.06it/s]\n"
     ]
    },
    {
     "name": "stdout",
     "output_type": "stream",
     "text": [
      "Epoch 290/1000\n",
      "Train Loss: 0.0638, Val Loss: 0.1878\n",
      "Learning Rate: 0.001000\n",
      "--------------------------------------------------\n"
     ]
    },
    {
     "name": "stderr",
     "output_type": "stream",
     "text": [
      "Epoch 291/1000: 100%|██████████| 17/17 [00:00<00:00, 58.31it/s]\n",
      "Epoch 292/1000: 100%|██████████| 17/17 [00:00<00:00, 57.92it/s]\n",
      "Epoch 293/1000: 100%|██████████| 17/17 [00:00<00:00, 57.38it/s]\n",
      "Epoch 294/1000: 100%|██████████| 17/17 [00:00<00:00, 57.58it/s]\n",
      "Epoch 295/1000: 100%|██████████| 17/17 [00:00<00:00, 56.63it/s]\n",
      "Epoch 296/1000: 100%|██████████| 17/17 [00:00<00:00, 56.60it/s]\n",
      "Epoch 297/1000: 100%|██████████| 17/17 [00:00<00:00, 58.35it/s]\n",
      "Epoch 298/1000: 100%|██████████| 17/17 [00:00<00:00, 57.56it/s]\n",
      "Epoch 299/1000: 100%|██████████| 17/17 [00:00<00:00, 57.09it/s]\n",
      "Epoch 300/1000: 100%|██████████| 17/17 [00:00<00:00, 57.72it/s]\n"
     ]
    },
    {
     "name": "stdout",
     "output_type": "stream",
     "text": [
      "Epoch 300/1000\n",
      "Train Loss: 0.0782, Val Loss: 0.2566\n",
      "Learning Rate: 0.001000\n",
      "--------------------------------------------------\n"
     ]
    },
    {
     "name": "stderr",
     "output_type": "stream",
     "text": [
      "Epoch 301/1000: 100%|██████████| 17/17 [00:00<00:00, 57.86it/s]\n",
      "Epoch 302/1000: 100%|██████████| 17/17 [00:00<00:00, 58.30it/s]\n",
      "Epoch 303/1000: 100%|██████████| 17/17 [00:00<00:00, 57.61it/s]\n",
      "Epoch 304/1000: 100%|██████████| 17/17 [00:00<00:00, 56.54it/s]\n",
      "Epoch 305/1000: 100%|██████████| 17/17 [00:00<00:00, 55.15it/s]\n",
      "Epoch 306/1000: 100%|██████████| 17/17 [00:00<00:00, 58.42it/s]\n",
      "Epoch 307/1000: 100%|██████████| 17/17 [00:00<00:00, 58.25it/s]\n",
      "Epoch 308/1000: 100%|██████████| 17/17 [00:00<00:00, 56.91it/s]\n",
      "Epoch 309/1000: 100%|██████████| 17/17 [00:00<00:00, 56.99it/s]\n",
      "Epoch 310/1000: 100%|██████████| 17/17 [00:00<00:00, 55.19it/s]\n"
     ]
    },
    {
     "name": "stdout",
     "output_type": "stream",
     "text": [
      "Epoch 310/1000\n",
      "Train Loss: 0.0618, Val Loss: 0.2620\n",
      "Learning Rate: 0.001000\n",
      "--------------------------------------------------\n"
     ]
    },
    {
     "name": "stderr",
     "output_type": "stream",
     "text": [
      "Epoch 311/1000: 100%|██████████| 17/17 [00:00<00:00, 57.97it/s]\n",
      "Epoch 312/1000: 100%|██████████| 17/17 [00:00<00:00, 57.53it/s]\n",
      "Epoch 313/1000: 100%|██████████| 17/17 [00:00<00:00, 57.45it/s]\n",
      "Epoch 314/1000: 100%|██████████| 17/17 [00:00<00:00, 58.11it/s]\n",
      "Epoch 315/1000: 100%|██████████| 17/17 [00:00<00:00, 56.84it/s]\n",
      "Epoch 316/1000: 100%|██████████| 17/17 [00:00<00:00, 58.06it/s]\n",
      "Epoch 317/1000: 100%|██████████| 17/17 [00:00<00:00, 57.79it/s]\n",
      "Epoch 318/1000: 100%|██████████| 17/17 [00:00<00:00, 56.13it/s]\n",
      "Epoch 319/1000: 100%|██████████| 17/17 [00:00<00:00, 48.16it/s]\n",
      "Epoch 320/1000: 100%|██████████| 17/17 [00:00<00:00, 48.45it/s]\n"
     ]
    },
    {
     "name": "stdout",
     "output_type": "stream",
     "text": [
      "Epoch 320/1000\n",
      "Train Loss: 0.0542, Val Loss: 0.2956\n",
      "Learning Rate: 0.001000\n",
      "--------------------------------------------------\n"
     ]
    },
    {
     "name": "stderr",
     "output_type": "stream",
     "text": [
      "Epoch 321/1000: 100%|██████████| 17/17 [00:00<00:00, 49.20it/s]\n",
      "Epoch 322/1000: 100%|██████████| 17/17 [00:00<00:00, 48.60it/s]\n",
      "Epoch 323/1000: 100%|██████████| 17/17 [00:00<00:00, 51.96it/s]\n",
      "Epoch 324/1000: 100%|██████████| 17/17 [00:00<00:00, 57.34it/s]\n",
      "Epoch 325/1000: 100%|██████████| 17/17 [00:00<00:00, 55.16it/s]\n",
      "Epoch 326/1000: 100%|██████████| 17/17 [00:00<00:00, 51.47it/s]\n",
      "Epoch 327/1000: 100%|██████████| 17/17 [00:00<00:00, 53.87it/s]\n",
      "Epoch 328/1000: 100%|██████████| 17/17 [00:00<00:00, 56.37it/s]\n",
      "Epoch 329/1000: 100%|██████████| 17/17 [00:00<00:00, 57.27it/s]\n",
      "Epoch 330/1000: 100%|██████████| 17/17 [00:00<00:00, 56.50it/s]\n"
     ]
    },
    {
     "name": "stdout",
     "output_type": "stream",
     "text": [
      "Epoch 330/1000\n",
      "Train Loss: 0.0515, Val Loss: 0.2448\n",
      "Learning Rate: 0.001000\n",
      "--------------------------------------------------\n"
     ]
    },
    {
     "name": "stderr",
     "output_type": "stream",
     "text": [
      "Epoch 331/1000: 100%|██████████| 17/17 [00:00<00:00, 55.63it/s]\n",
      "Epoch 332/1000: 100%|██████████| 17/17 [00:00<00:00, 56.87it/s]\n",
      "Epoch 333/1000: 100%|██████████| 17/17 [00:00<00:00, 55.13it/s]\n",
      "Epoch 334/1000: 100%|██████████| 17/17 [00:00<00:00, 52.99it/s]\n",
      "Epoch 335/1000: 100%|██████████| 17/17 [00:00<00:00, 49.93it/s]\n",
      "Epoch 336/1000: 100%|██████████| 17/17 [00:00<00:00, 50.76it/s]\n",
      "Epoch 337/1000: 100%|██████████| 17/17 [00:00<00:00, 49.29it/s]\n",
      "Epoch 338/1000: 100%|██████████| 17/17 [00:00<00:00, 50.91it/s]\n",
      "Epoch 339/1000: 100%|██████████| 17/17 [00:00<00:00, 50.34it/s]\n",
      "Epoch 340/1000: 100%|██████████| 17/17 [00:00<00:00, 50.77it/s]\n"
     ]
    },
    {
     "name": "stdout",
     "output_type": "stream",
     "text": [
      "Epoch 340/1000\n",
      "Train Loss: 0.0767, Val Loss: 0.2076\n",
      "Learning Rate: 0.001000\n",
      "--------------------------------------------------\n"
     ]
    },
    {
     "name": "stderr",
     "output_type": "stream",
     "text": [
      "Epoch 341/1000: 100%|██████████| 17/17 [00:00<00:00, 50.85it/s]\n",
      "Epoch 342/1000: 100%|██████████| 17/17 [00:00<00:00, 51.87it/s]\n",
      "Epoch 343/1000: 100%|██████████| 17/17 [00:00<00:00, 50.08it/s]\n",
      "Epoch 344/1000: 100%|██████████| 17/17 [00:00<00:00, 49.90it/s]\n",
      "Epoch 345/1000: 100%|██████████| 17/17 [00:00<00:00, 50.19it/s]\n",
      "Epoch 346/1000: 100%|██████████| 17/17 [00:00<00:00, 54.52it/s]\n",
      "Epoch 347/1000: 100%|██████████| 17/17 [00:00<00:00, 57.28it/s]\n",
      "Epoch 348/1000: 100%|██████████| 17/17 [00:00<00:00, 53.76it/s]\n",
      "Epoch 349/1000: 100%|██████████| 17/17 [00:00<00:00, 53.40it/s]\n",
      "Epoch 350/1000: 100%|██████████| 17/17 [00:00<00:00, 55.94it/s]\n"
     ]
    },
    {
     "name": "stdout",
     "output_type": "stream",
     "text": [
      "Epoch 350/1000\n",
      "Train Loss: 0.0693, Val Loss: 0.2251\n",
      "Learning Rate: 0.001000\n",
      "--------------------------------------------------\n"
     ]
    },
    {
     "name": "stderr",
     "output_type": "stream",
     "text": [
      "Epoch 351/1000: 100%|██████████| 17/17 [00:00<00:00, 57.73it/s]\n",
      "Epoch 352/1000: 100%|██████████| 17/17 [00:00<00:00, 52.46it/s]\n",
      "Epoch 353/1000: 100%|██████████| 17/17 [00:00<00:00, 57.25it/s]\n",
      "Epoch 354/1000: 100%|██████████| 17/17 [00:00<00:00, 53.54it/s]\n",
      "Epoch 355/1000: 100%|██████████| 17/17 [00:00<00:00, 54.61it/s]\n",
      "Epoch 356/1000: 100%|██████████| 17/17 [00:00<00:00, 57.78it/s]\n",
      "Epoch 357/1000: 100%|██████████| 17/17 [00:00<00:00, 57.74it/s]\n",
      "Epoch 358/1000: 100%|██████████| 17/17 [00:00<00:00, 57.14it/s]\n",
      "Epoch 359/1000: 100%|██████████| 17/17 [00:00<00:00, 57.64it/s]\n",
      "Epoch 360/1000: 100%|██████████| 17/17 [00:00<00:00, 52.95it/s]\n"
     ]
    },
    {
     "name": "stdout",
     "output_type": "stream",
     "text": [
      "Epoch 360/1000\n",
      "Train Loss: 0.0679, Val Loss: 1.8037\n",
      "Learning Rate: 0.001000\n",
      "--------------------------------------------------\n"
     ]
    },
    {
     "name": "stderr",
     "output_type": "stream",
     "text": [
      "Epoch 361/1000: 100%|██████████| 17/17 [00:00<00:00, 55.69it/s]\n",
      "Epoch 362/1000: 100%|██████████| 17/17 [00:00<00:00, 57.70it/s]\n",
      "Epoch 363/1000: 100%|██████████| 17/17 [00:00<00:00, 56.45it/s]\n",
      "Epoch 364/1000: 100%|██████████| 17/17 [00:00<00:00, 56.81it/s]\n",
      "Epoch 365/1000: 100%|██████████| 17/17 [00:00<00:00, 56.50it/s]\n",
      "Epoch 366/1000: 100%|██████████| 17/17 [00:00<00:00, 55.89it/s]\n",
      "Epoch 367/1000: 100%|██████████| 17/17 [00:00<00:00, 55.76it/s]\n",
      "Epoch 368/1000: 100%|██████████| 17/17 [00:00<00:00, 57.16it/s]\n",
      "Epoch 369/1000: 100%|██████████| 17/17 [00:00<00:00, 54.39it/s]\n",
      "Epoch 370/1000: 100%|██████████| 17/17 [00:00<00:00, 56.95it/s]\n"
     ]
    },
    {
     "name": "stdout",
     "output_type": "stream",
     "text": [
      "Epoch 370/1000\n",
      "Train Loss: 0.0597, Val Loss: 0.2755\n",
      "Learning Rate: 0.001000\n",
      "--------------------------------------------------\n"
     ]
    },
    {
     "name": "stderr",
     "output_type": "stream",
     "text": [
      "Epoch 371/1000: 100%|██████████| 17/17 [00:00<00:00, 54.61it/s]\n",
      "Epoch 372/1000: 100%|██████████| 17/17 [00:00<00:00, 55.85it/s]\n",
      "Epoch 373/1000: 100%|██████████| 17/17 [00:00<00:00, 54.58it/s]\n",
      "Epoch 374/1000: 100%|██████████| 17/17 [00:00<00:00, 56.52it/s]\n",
      "Epoch 375/1000: 100%|██████████| 17/17 [00:00<00:00, 56.41it/s]\n",
      "Epoch 376/1000: 100%|██████████| 17/17 [00:00<00:00, 56.88it/s]\n",
      "Epoch 377/1000: 100%|██████████| 17/17 [00:00<00:00, 56.93it/s]\n",
      "Epoch 378/1000: 100%|██████████| 17/17 [00:00<00:00, 56.40it/s]\n",
      "Epoch 379/1000: 100%|██████████| 17/17 [00:00<00:00, 56.96it/s]\n",
      "Epoch 380/1000: 100%|██████████| 17/17 [00:00<00:00, 58.42it/s]\n"
     ]
    },
    {
     "name": "stdout",
     "output_type": "stream",
     "text": [
      "Epoch 380/1000\n",
      "Train Loss: 0.0598, Val Loss: 0.2486\n",
      "Learning Rate: 0.001000\n",
      "--------------------------------------------------\n"
     ]
    },
    {
     "name": "stderr",
     "output_type": "stream",
     "text": [
      "Epoch 381/1000: 100%|██████████| 17/17 [00:00<00:00, 56.26it/s]\n",
      "Epoch 382/1000: 100%|██████████| 17/17 [00:00<00:00, 57.37it/s]\n",
      "Epoch 383/1000: 100%|██████████| 17/17 [00:00<00:00, 58.09it/s]\n",
      "Epoch 384/1000: 100%|██████████| 17/17 [00:00<00:00, 57.32it/s]\n",
      "Epoch 385/1000: 100%|██████████| 17/17 [00:00<00:00, 59.31it/s]\n",
      "Epoch 386/1000: 100%|██████████| 17/17 [00:00<00:00, 58.10it/s]\n",
      "Epoch 387/1000: 100%|██████████| 17/17 [00:00<00:00, 57.33it/s]\n",
      "Epoch 388/1000: 100%|██████████| 17/17 [00:00<00:00, 54.62it/s]\n",
      "Epoch 389/1000: 100%|██████████| 17/17 [00:00<00:00, 57.88it/s]\n",
      "Epoch 390/1000: 100%|██████████| 17/17 [00:00<00:00, 57.74it/s]\n"
     ]
    },
    {
     "name": "stdout",
     "output_type": "stream",
     "text": [
      "Epoch 390/1000\n",
      "Train Loss: 0.1068, Val Loss: 0.2027\n",
      "Learning Rate: 0.001000\n",
      "--------------------------------------------------\n"
     ]
    },
    {
     "name": "stderr",
     "output_type": "stream",
     "text": [
      "Epoch 391/1000: 100%|██████████| 17/17 [00:00<00:00, 57.48it/s]\n",
      "Epoch 392/1000: 100%|██████████| 17/17 [00:00<00:00, 57.67it/s]\n",
      "Epoch 393/1000: 100%|██████████| 17/17 [00:00<00:00, 57.27it/s]\n",
      "Epoch 394/1000: 100%|██████████| 17/17 [00:00<00:00, 53.32it/s]\n",
      "Epoch 395/1000: 100%|██████████| 17/17 [00:00<00:00, 56.27it/s]\n",
      "Epoch 396/1000: 100%|██████████| 17/17 [00:00<00:00, 58.66it/s]\n",
      "Epoch 397/1000: 100%|██████████| 17/17 [00:00<00:00, 57.54it/s]\n",
      "Epoch 398/1000: 100%|██████████| 17/17 [00:00<00:00, 57.99it/s]\n",
      "Epoch 399/1000: 100%|██████████| 17/17 [00:00<00:00, 56.21it/s]\n",
      "Epoch 400/1000: 100%|██████████| 17/17 [00:00<00:00, 57.27it/s]\n"
     ]
    },
    {
     "name": "stdout",
     "output_type": "stream",
     "text": [
      "Epoch 400/1000\n",
      "Train Loss: 0.0543, Val Loss: 0.2564\n",
      "Learning Rate: 0.001000\n",
      "--------------------------------------------------\n"
     ]
    },
    {
     "name": "stderr",
     "output_type": "stream",
     "text": [
      "Epoch 401/1000: 100%|██████████| 17/17 [00:00<00:00, 58.15it/s]\n",
      "Epoch 402/1000: 100%|██████████| 17/17 [00:00<00:00, 57.40it/s]\n",
      "Epoch 403/1000: 100%|██████████| 17/17 [00:00<00:00, 57.21it/s]\n",
      "Epoch 404/1000: 100%|██████████| 17/17 [00:00<00:00, 57.64it/s]\n",
      "Epoch 405/1000: 100%|██████████| 17/17 [00:00<00:00, 57.71it/s]\n",
      "Epoch 406/1000: 100%|██████████| 17/17 [00:00<00:00, 57.81it/s]\n",
      "Epoch 407/1000: 100%|██████████| 17/17 [00:00<00:00, 56.50it/s]\n",
      "Epoch 408/1000: 100%|██████████| 17/17 [00:00<00:00, 56.79it/s]\n",
      "Epoch 409/1000: 100%|██████████| 17/17 [00:00<00:00, 57.90it/s]\n",
      "Epoch 410/1000: 100%|██████████| 17/17 [00:00<00:00, 57.08it/s]\n"
     ]
    },
    {
     "name": "stdout",
     "output_type": "stream",
     "text": [
      "Epoch 410/1000\n",
      "Train Loss: 0.0602, Val Loss: 0.1910\n",
      "Learning Rate: 0.001000\n",
      "--------------------------------------------------\n"
     ]
    },
    {
     "name": "stderr",
     "output_type": "stream",
     "text": [
      "Epoch 411/1000: 100%|██████████| 17/17 [00:00<00:00, 56.64it/s]\n",
      "Epoch 412/1000: 100%|██████████| 17/17 [00:00<00:00, 57.35it/s]\n",
      "Epoch 413/1000: 100%|██████████| 17/17 [00:00<00:00, 57.35it/s]\n",
      "Epoch 414/1000: 100%|██████████| 17/17 [00:00<00:00, 55.60it/s]\n",
      "Epoch 415/1000: 100%|██████████| 17/17 [00:00<00:00, 55.67it/s]\n",
      "Epoch 416/1000: 100%|██████████| 17/17 [00:00<00:00, 55.40it/s]\n",
      "Epoch 417/1000: 100%|██████████| 17/17 [00:00<00:00, 57.36it/s]\n",
      "Epoch 418/1000: 100%|██████████| 17/17 [00:00<00:00, 57.69it/s]\n",
      "Epoch 419/1000: 100%|██████████| 17/17 [00:00<00:00, 57.67it/s]\n",
      "Epoch 420/1000: 100%|██████████| 17/17 [00:00<00:00, 55.37it/s]\n"
     ]
    },
    {
     "name": "stdout",
     "output_type": "stream",
     "text": [
      "Epoch 420/1000\n",
      "Train Loss: 0.0483, Val Loss: 0.2194\n",
      "Learning Rate: 0.001000\n",
      "--------------------------------------------------\n"
     ]
    },
    {
     "name": "stderr",
     "output_type": "stream",
     "text": [
      "Epoch 421/1000: 100%|██████████| 17/17 [00:00<00:00, 56.92it/s]\n",
      "Epoch 422/1000: 100%|██████████| 17/17 [00:00<00:00, 58.08it/s]\n",
      "Epoch 423/1000: 100%|██████████| 17/17 [00:00<00:00, 57.35it/s]\n",
      "Epoch 424/1000: 100%|██████████| 17/17 [00:00<00:00, 57.81it/s]\n",
      "Epoch 425/1000: 100%|██████████| 17/17 [00:00<00:00, 57.82it/s]\n",
      "Epoch 426/1000: 100%|██████████| 17/17 [00:00<00:00, 57.74it/s]\n",
      "Epoch 427/1000: 100%|██████████| 17/17 [00:00<00:00, 58.26it/s]\n",
      "Epoch 428/1000: 100%|██████████| 17/17 [00:00<00:00, 57.62it/s]\n",
      "Epoch 429/1000: 100%|██████████| 17/17 [00:00<00:00, 57.77it/s]\n",
      "Epoch 430/1000: 100%|██████████| 17/17 [00:00<00:00, 57.33it/s]\n"
     ]
    },
    {
     "name": "stdout",
     "output_type": "stream",
     "text": [
      "Epoch 430/1000\n",
      "Train Loss: 0.0679, Val Loss: 0.2362\n",
      "Learning Rate: 0.001000\n",
      "--------------------------------------------------\n"
     ]
    },
    {
     "name": "stderr",
     "output_type": "stream",
     "text": [
      "Epoch 431/1000: 100%|██████████| 17/17 [00:00<00:00, 54.43it/s]\n",
      "Epoch 432/1000: 100%|██████████| 17/17 [00:00<00:00, 57.71it/s]\n",
      "Epoch 433/1000: 100%|██████████| 17/17 [00:00<00:00, 55.43it/s]\n",
      "Epoch 434/1000: 100%|██████████| 17/17 [00:00<00:00, 56.12it/s]\n",
      "Epoch 435/1000: 100%|██████████| 17/17 [00:00<00:00, 56.91it/s]\n",
      "Epoch 436/1000: 100%|██████████| 17/17 [00:00<00:00, 57.07it/s]\n",
      "Epoch 437/1000: 100%|██████████| 17/17 [00:00<00:00, 57.12it/s]\n",
      "Epoch 438/1000: 100%|██████████| 17/17 [00:00<00:00, 53.27it/s]\n",
      "Epoch 439/1000: 100%|██████████| 17/17 [00:00<00:00, 56.69it/s]\n",
      "Epoch 440/1000: 100%|██████████| 17/17 [00:00<00:00, 55.09it/s]\n"
     ]
    },
    {
     "name": "stdout",
     "output_type": "stream",
     "text": [
      "Epoch 440/1000\n",
      "Train Loss: 0.4077, Val Loss: 0.2123\n",
      "Learning Rate: 0.001000\n",
      "--------------------------------------------------\n"
     ]
    },
    {
     "name": "stderr",
     "output_type": "stream",
     "text": [
      "Epoch 441/1000: 100%|██████████| 17/17 [00:00<00:00, 53.35it/s]\n",
      "Epoch 442/1000: 100%|██████████| 17/17 [00:00<00:00, 56.29it/s]\n",
      "Epoch 443/1000: 100%|██████████| 17/17 [00:00<00:00, 56.94it/s]\n",
      "Epoch 444/1000: 100%|██████████| 17/17 [00:00<00:00, 57.75it/s]\n",
      "Epoch 445/1000: 100%|██████████| 17/17 [00:00<00:00, 57.30it/s]\n",
      "Epoch 446/1000: 100%|██████████| 17/17 [00:00<00:00, 57.06it/s]\n",
      "Epoch 447/1000: 100%|██████████| 17/17 [00:00<00:00, 56.57it/s]\n",
      "Epoch 448/1000: 100%|██████████| 17/17 [00:00<00:00, 57.66it/s]\n",
      "Epoch 449/1000: 100%|██████████| 17/17 [00:00<00:00, 57.45it/s]\n",
      "Epoch 450/1000: 100%|██████████| 17/17 [00:00<00:00, 57.10it/s]\n"
     ]
    },
    {
     "name": "stdout",
     "output_type": "stream",
     "text": [
      "Epoch 450/1000\n",
      "Train Loss: 0.0712, Val Loss: 0.2678\n",
      "Learning Rate: 0.001000\n",
      "--------------------------------------------------\n"
     ]
    },
    {
     "name": "stderr",
     "output_type": "stream",
     "text": [
      "Epoch 451/1000: 100%|██████████| 17/17 [00:00<00:00, 57.89it/s]\n",
      "Epoch 452/1000: 100%|██████████| 17/17 [00:00<00:00, 56.45it/s]\n",
      "Epoch 453/1000: 100%|██████████| 17/17 [00:00<00:00, 58.83it/s]\n",
      "Epoch 454/1000: 100%|██████████| 17/17 [00:00<00:00, 58.72it/s]\n",
      "Epoch 455/1000: 100%|██████████| 17/17 [00:00<00:00, 57.24it/s]\n",
      "Epoch 456/1000: 100%|██████████| 17/17 [00:00<00:00, 57.16it/s]\n",
      "Epoch 457/1000: 100%|██████████| 17/17 [00:00<00:00, 57.72it/s]\n",
      "Epoch 458/1000: 100%|██████████| 17/17 [00:00<00:00, 57.79it/s]\n",
      "Epoch 459/1000: 100%|██████████| 17/17 [00:00<00:00, 56.27it/s]\n",
      "Epoch 460/1000: 100%|██████████| 17/17 [00:00<00:00, 57.76it/s]\n"
     ]
    },
    {
     "name": "stdout",
     "output_type": "stream",
     "text": [
      "Epoch 460/1000\n",
      "Train Loss: 0.0545, Val Loss: 0.1787\n",
      "Learning Rate: 0.001000\n",
      "--------------------------------------------------\n"
     ]
    },
    {
     "name": "stderr",
     "output_type": "stream",
     "text": [
      "Epoch 461/1000: 100%|██████████| 17/17 [00:00<00:00, 57.56it/s]\n",
      "Epoch 462/1000: 100%|██████████| 17/17 [00:00<00:00, 57.19it/s]\n",
      "Epoch 463/1000: 100%|██████████| 17/17 [00:00<00:00, 57.62it/s]\n",
      "Epoch 464/1000: 100%|██████████| 17/17 [00:00<00:00, 58.24it/s]\n",
      "Epoch 465/1000: 100%|██████████| 17/17 [00:00<00:00, 57.59it/s]\n",
      "Epoch 466/1000: 100%|██████████| 17/17 [00:00<00:00, 57.16it/s]\n",
      "Epoch 467/1000: 100%|██████████| 17/17 [00:00<00:00, 57.58it/s]\n",
      "Epoch 468/1000: 100%|██████████| 17/17 [00:00<00:00, 57.80it/s]\n",
      "Epoch 469/1000: 100%|██████████| 17/17 [00:00<00:00, 58.21it/s]\n",
      "Epoch 470/1000: 100%|██████████| 17/17 [00:00<00:00, 57.73it/s]\n"
     ]
    },
    {
     "name": "stdout",
     "output_type": "stream",
     "text": [
      "Epoch 470/1000\n",
      "Train Loss: 0.0521, Val Loss: 0.2109\n",
      "Learning Rate: 0.001000\n",
      "--------------------------------------------------\n"
     ]
    },
    {
     "name": "stderr",
     "output_type": "stream",
     "text": [
      "Epoch 471/1000: 100%|██████████| 17/17 [00:00<00:00, 58.22it/s]\n",
      "Epoch 472/1000: 100%|██████████| 17/17 [00:00<00:00, 57.70it/s]\n",
      "Epoch 473/1000: 100%|██████████| 17/17 [00:00<00:00, 57.17it/s]\n",
      "Epoch 474/1000: 100%|██████████| 17/17 [00:00<00:00, 58.12it/s]\n",
      "Epoch 475/1000: 100%|██████████| 17/17 [00:00<00:00, 57.81it/s]\n",
      "Epoch 476/1000: 100%|██████████| 17/17 [00:00<00:00, 57.10it/s]\n",
      "Epoch 477/1000: 100%|██████████| 17/17 [00:00<00:00, 57.88it/s]\n",
      "Epoch 478/1000: 100%|██████████| 17/17 [00:00<00:00, 57.99it/s]\n",
      "Epoch 479/1000: 100%|██████████| 17/17 [00:00<00:00, 58.14it/s]\n",
      "Epoch 480/1000: 100%|██████████| 17/17 [00:00<00:00, 57.26it/s]\n"
     ]
    },
    {
     "name": "stdout",
     "output_type": "stream",
     "text": [
      "Epoch 480/1000\n",
      "Train Loss: 0.0418, Val Loss: 0.2763\n",
      "Learning Rate: 0.001000\n",
      "--------------------------------------------------\n"
     ]
    },
    {
     "name": "stderr",
     "output_type": "stream",
     "text": [
      "Epoch 481/1000: 100%|██████████| 17/17 [00:00<00:00, 58.05it/s]\n",
      "Epoch 482/1000: 100%|██████████| 17/17 [00:00<00:00, 57.47it/s]\n",
      "Epoch 483/1000: 100%|██████████| 17/17 [00:00<00:00, 56.97it/s]\n",
      "Epoch 484/1000: 100%|██████████| 17/17 [00:00<00:00, 57.39it/s]\n",
      "Epoch 485/1000: 100%|██████████| 17/17 [00:00<00:00, 57.59it/s]\n",
      "Epoch 486/1000: 100%|██████████| 17/17 [00:00<00:00, 57.61it/s]\n",
      "Epoch 487/1000: 100%|██████████| 17/17 [00:00<00:00, 57.71it/s]\n",
      "Epoch 488/1000: 100%|██████████| 17/17 [00:00<00:00, 57.34it/s]\n",
      "Epoch 489/1000: 100%|██████████| 17/17 [00:00<00:00, 56.80it/s]\n",
      "Epoch 490/1000: 100%|██████████| 17/17 [00:00<00:00, 57.85it/s]\n"
     ]
    },
    {
     "name": "stdout",
     "output_type": "stream",
     "text": [
      "Epoch 490/1000\n",
      "Train Loss: 0.0802, Val Loss: 0.2834\n",
      "Learning Rate: 0.001000\n",
      "--------------------------------------------------\n"
     ]
    },
    {
     "name": "stderr",
     "output_type": "stream",
     "text": [
      "Epoch 491/1000: 100%|██████████| 17/17 [00:00<00:00, 58.09it/s]\n",
      "Epoch 492/1000: 100%|██████████| 17/17 [00:00<00:00, 55.82it/s]\n",
      "Epoch 493/1000: 100%|██████████| 17/17 [00:00<00:00, 57.02it/s]\n",
      "Epoch 494/1000: 100%|██████████| 17/17 [00:00<00:00, 57.39it/s]\n",
      "Epoch 495/1000: 100%|██████████| 17/17 [00:00<00:00, 57.59it/s]\n",
      "Epoch 496/1000: 100%|██████████| 17/17 [00:00<00:00, 56.96it/s]\n",
      "Epoch 497/1000: 100%|██████████| 17/17 [00:00<00:00, 55.87it/s]\n",
      "Epoch 498/1000: 100%|██████████| 17/17 [00:00<00:00, 53.57it/s]\n",
      "Epoch 499/1000: 100%|██████████| 17/17 [00:00<00:00, 56.47it/s]\n",
      "Epoch 500/1000: 100%|██████████| 17/17 [00:00<00:00, 55.97it/s]\n"
     ]
    },
    {
     "name": "stdout",
     "output_type": "stream",
     "text": [
      "Epoch 500/1000\n",
      "Train Loss: 0.0493, Val Loss: 0.2509\n",
      "Learning Rate: 0.001000\n",
      "--------------------------------------------------\n"
     ]
    },
    {
     "name": "stderr",
     "output_type": "stream",
     "text": [
      "Epoch 501/1000: 100%|██████████| 17/17 [00:00<00:00, 54.15it/s]\n",
      "Epoch 502/1000: 100%|██████████| 17/17 [00:00<00:00, 57.89it/s]\n",
      "Epoch 503/1000: 100%|██████████| 17/17 [00:00<00:00, 56.46it/s]\n",
      "Epoch 504/1000: 100%|██████████| 17/17 [00:00<00:00, 58.04it/s]\n",
      "Epoch 505/1000: 100%|██████████| 17/17 [00:00<00:00, 57.51it/s]\n",
      "Epoch 506/1000: 100%|██████████| 17/17 [00:00<00:00, 57.41it/s]\n",
      "Epoch 507/1000: 100%|██████████| 17/17 [00:00<00:00, 54.48it/s]\n",
      "Epoch 508/1000: 100%|██████████| 17/17 [00:00<00:00, 56.31it/s]\n",
      "Epoch 509/1000: 100%|██████████| 17/17 [00:00<00:00, 56.11it/s]\n",
      "Epoch 510/1000: 100%|██████████| 17/17 [00:00<00:00, 56.84it/s]\n"
     ]
    },
    {
     "name": "stdout",
     "output_type": "stream",
     "text": [
      "Epoch 510/1000\n",
      "Train Loss: 0.0528, Val Loss: 0.2130\n",
      "Learning Rate: 0.001000\n",
      "--------------------------------------------------\n"
     ]
    },
    {
     "name": "stderr",
     "output_type": "stream",
     "text": [
      "Epoch 511/1000: 100%|██████████| 17/17 [00:00<00:00, 56.98it/s]\n",
      "Epoch 512/1000: 100%|██████████| 17/17 [00:00<00:00, 56.92it/s]\n",
      "Epoch 513/1000: 100%|██████████| 17/17 [00:00<00:00, 54.34it/s]\n",
      "Epoch 514/1000: 100%|██████████| 17/17 [00:00<00:00, 58.05it/s]\n",
      "Epoch 515/1000: 100%|██████████| 17/17 [00:00<00:00, 57.37it/s]\n",
      "Epoch 516/1000: 100%|██████████| 17/17 [00:00<00:00, 57.13it/s]\n",
      "Epoch 517/1000: 100%|██████████| 17/17 [00:00<00:00, 55.71it/s]\n",
      "Epoch 518/1000: 100%|██████████| 17/17 [00:00<00:00, 53.70it/s]\n",
      "Epoch 519/1000: 100%|██████████| 17/17 [00:00<00:00, 57.89it/s]\n",
      "Epoch 520/1000: 100%|██████████| 17/17 [00:00<00:00, 55.82it/s]\n"
     ]
    },
    {
     "name": "stdout",
     "output_type": "stream",
     "text": [
      "Epoch 520/1000\n",
      "Train Loss: 0.0820, Val Loss: 0.2050\n",
      "Learning Rate: 0.001000\n",
      "--------------------------------------------------\n"
     ]
    },
    {
     "name": "stderr",
     "output_type": "stream",
     "text": [
      "Epoch 521/1000: 100%|██████████| 17/17 [00:00<00:00, 53.77it/s]\n",
      "Epoch 522/1000: 100%|██████████| 17/17 [00:00<00:00, 56.36it/s]\n",
      "Epoch 523/1000: 100%|██████████| 17/17 [00:00<00:00, 53.63it/s]\n",
      "Epoch 524/1000: 100%|██████████| 17/17 [00:00<00:00, 57.65it/s]\n",
      "Epoch 525/1000: 100%|██████████| 17/17 [00:00<00:00, 56.24it/s]\n",
      "Epoch 526/1000: 100%|██████████| 17/17 [00:00<00:00, 57.31it/s]\n",
      "Epoch 527/1000: 100%|██████████| 17/17 [00:00<00:00, 54.82it/s]\n",
      "Epoch 528/1000: 100%|██████████| 17/17 [00:00<00:00, 55.48it/s]\n",
      "Epoch 529/1000: 100%|██████████| 17/17 [00:00<00:00, 56.74it/s]\n",
      "Epoch 530/1000: 100%|██████████| 17/17 [00:00<00:00, 52.61it/s]\n"
     ]
    },
    {
     "name": "stdout",
     "output_type": "stream",
     "text": [
      "Epoch 530/1000\n",
      "Train Loss: 0.0575, Val Loss: 0.2354\n",
      "Learning Rate: 0.001000\n",
      "--------------------------------------------------\n"
     ]
    },
    {
     "name": "stderr",
     "output_type": "stream",
     "text": [
      "Epoch 531/1000: 100%|██████████| 17/17 [00:00<00:00, 52.72it/s]\n",
      "Epoch 532/1000: 100%|██████████| 17/17 [00:00<00:00, 56.92it/s]\n",
      "Epoch 533/1000: 100%|██████████| 17/17 [00:00<00:00, 58.21it/s]\n",
      "Epoch 534/1000: 100%|██████████| 17/17 [00:00<00:00, 57.07it/s]\n",
      "Epoch 535/1000: 100%|██████████| 17/17 [00:00<00:00, 56.57it/s]\n",
      "Epoch 536/1000: 100%|██████████| 17/17 [00:00<00:00, 54.14it/s]\n",
      "Epoch 537/1000: 100%|██████████| 17/17 [00:00<00:00, 52.32it/s]\n",
      "Epoch 538/1000: 100%|██████████| 17/17 [00:00<00:00, 49.65it/s]\n",
      "Epoch 539/1000: 100%|██████████| 17/17 [00:00<00:00, 48.95it/s]\n",
      "Epoch 540/1000: 100%|██████████| 17/17 [00:00<00:00, 49.77it/s]\n"
     ]
    },
    {
     "name": "stdout",
     "output_type": "stream",
     "text": [
      "Epoch 540/1000\n",
      "Train Loss: 0.0784, Val Loss: 0.1999\n",
      "Learning Rate: 0.001000\n",
      "--------------------------------------------------\n"
     ]
    },
    {
     "name": "stderr",
     "output_type": "stream",
     "text": [
      "Epoch 541/1000: 100%|██████████| 17/17 [00:00<00:00, 51.86it/s]\n",
      "Epoch 542/1000: 100%|██████████| 17/17 [00:00<00:00, 45.90it/s]\n",
      "Epoch 543/1000: 100%|██████████| 17/17 [00:00<00:00, 52.69it/s]\n",
      "Epoch 544/1000: 100%|██████████| 17/17 [00:00<00:00, 54.54it/s]\n",
      "Epoch 545/1000: 100%|██████████| 17/17 [00:00<00:00, 52.61it/s]\n",
      "Epoch 546/1000: 100%|██████████| 17/17 [00:00<00:00, 51.96it/s]\n",
      "Epoch 547/1000: 100%|██████████| 17/17 [00:00<00:00, 55.42it/s]\n",
      "Epoch 548/1000: 100%|██████████| 17/17 [00:00<00:00, 55.87it/s]\n",
      "Epoch 549/1000: 100%|██████████| 17/17 [00:00<00:00, 53.92it/s]\n",
      "Epoch 550/1000: 100%|██████████| 17/17 [00:00<00:00, 55.84it/s]\n"
     ]
    },
    {
     "name": "stdout",
     "output_type": "stream",
     "text": [
      "Epoch 550/1000\n",
      "Train Loss: 0.0676, Val Loss: 0.2534\n",
      "Learning Rate: 0.001000\n",
      "--------------------------------------------------\n"
     ]
    },
    {
     "name": "stderr",
     "output_type": "stream",
     "text": [
      "Epoch 551/1000: 100%|██████████| 17/17 [00:00<00:00, 53.24it/s]\n",
      "Epoch 552/1000: 100%|██████████| 17/17 [00:00<00:00, 46.46it/s]\n",
      "Epoch 553/1000: 100%|██████████| 17/17 [00:00<00:00, 49.87it/s]\n",
      "Epoch 554/1000: 100%|██████████| 17/17 [00:00<00:00, 49.21it/s]\n",
      "Epoch 555/1000: 100%|██████████| 17/17 [00:00<00:00, 49.09it/s]\n",
      "Epoch 556/1000: 100%|██████████| 17/17 [00:00<00:00, 49.20it/s]\n",
      "Epoch 557/1000: 100%|██████████| 17/17 [00:00<00:00, 49.65it/s]\n",
      "Epoch 558/1000: 100%|██████████| 17/17 [00:00<00:00, 49.16it/s]\n",
      "Epoch 559/1000: 100%|██████████| 17/17 [00:00<00:00, 50.75it/s]\n",
      "Epoch 560/1000: 100%|██████████| 17/17 [00:00<00:00, 50.48it/s]\n"
     ]
    },
    {
     "name": "stdout",
     "output_type": "stream",
     "text": [
      "Epoch 560/1000\n",
      "Train Loss: 0.0605, Val Loss: 0.1795\n",
      "Learning Rate: 0.001000\n",
      "--------------------------------------------------\n"
     ]
    },
    {
     "name": "stderr",
     "output_type": "stream",
     "text": [
      "Epoch 561/1000: 100%|██████████| 17/17 [00:00<00:00, 49.00it/s]\n",
      "Epoch 562/1000: 100%|██████████| 17/17 [00:00<00:00, 49.03it/s]\n",
      "Epoch 563/1000: 100%|██████████| 17/17 [00:00<00:00, 49.13it/s]\n",
      "Epoch 564/1000: 100%|██████████| 17/17 [00:00<00:00, 50.09it/s]\n",
      "Epoch 565/1000: 100%|██████████| 17/17 [00:00<00:00, 49.11it/s]\n",
      "Epoch 566/1000: 100%|██████████| 17/17 [00:00<00:00, 49.60it/s]\n",
      "Epoch 567/1000: 100%|██████████| 17/17 [00:00<00:00, 48.77it/s]\n",
      "Epoch 568/1000: 100%|██████████| 17/17 [00:00<00:00, 49.33it/s]\n",
      "Epoch 569/1000: 100%|██████████| 17/17 [00:00<00:00, 50.32it/s]\n",
      "Epoch 570/1000: 100%|██████████| 17/17 [00:00<00:00, 48.88it/s]\n"
     ]
    },
    {
     "name": "stdout",
     "output_type": "stream",
     "text": [
      "Epoch 570/1000\n",
      "Train Loss: 0.0461, Val Loss: 0.2306\n",
      "Learning Rate: 0.001000\n",
      "--------------------------------------------------\n"
     ]
    },
    {
     "name": "stderr",
     "output_type": "stream",
     "text": [
      "Epoch 571/1000: 100%|██████████| 17/17 [00:00<00:00, 44.06it/s]\n",
      "Epoch 572/1000: 100%|██████████| 17/17 [00:00<00:00, 47.82it/s]\n",
      "Epoch 573/1000: 100%|██████████| 17/17 [00:00<00:00, 47.80it/s]\n",
      "Epoch 574/1000: 100%|██████████| 17/17 [00:00<00:00, 48.28it/s]\n",
      "Epoch 575/1000: 100%|██████████| 17/17 [00:00<00:00, 49.13it/s]\n",
      "Epoch 576/1000: 100%|██████████| 17/17 [00:00<00:00, 49.38it/s]\n",
      "Epoch 577/1000: 100%|██████████| 17/17 [00:00<00:00, 49.27it/s]\n",
      "Epoch 578/1000: 100%|██████████| 17/17 [00:00<00:00, 48.97it/s]\n",
      "Epoch 579/1000: 100%|██████████| 17/17 [00:00<00:00, 48.66it/s]\n",
      "Epoch 580/1000: 100%|██████████| 17/17 [00:00<00:00, 49.42it/s]\n"
     ]
    },
    {
     "name": "stdout",
     "output_type": "stream",
     "text": [
      "Epoch 580/1000\n",
      "Train Loss: 0.0480, Val Loss: 0.1784\n",
      "Learning Rate: 0.001000\n",
      "--------------------------------------------------\n"
     ]
    },
    {
     "name": "stderr",
     "output_type": "stream",
     "text": [
      "Epoch 581/1000: 100%|██████████| 17/17 [00:00<00:00, 47.91it/s]\n",
      "Epoch 582/1000: 100%|██████████| 17/17 [00:00<00:00, 49.72it/s]\n",
      "Epoch 583/1000: 100%|██████████| 17/17 [00:00<00:00, 49.99it/s]\n",
      "Epoch 584/1000: 100%|██████████| 17/17 [00:00<00:00, 49.89it/s]\n",
      "Epoch 585/1000: 100%|██████████| 17/17 [00:00<00:00, 50.24it/s]\n",
      "Epoch 586/1000: 100%|██████████| 17/17 [00:00<00:00, 49.36it/s]\n",
      "Epoch 587/1000: 100%|██████████| 17/17 [00:00<00:00, 48.95it/s]\n",
      "Epoch 588/1000: 100%|██████████| 17/17 [00:00<00:00, 49.85it/s]\n",
      "Epoch 589/1000: 100%|██████████| 17/17 [00:00<00:00, 49.38it/s]\n",
      "Epoch 590/1000: 100%|██████████| 17/17 [00:00<00:00, 49.55it/s]\n"
     ]
    },
    {
     "name": "stdout",
     "output_type": "stream",
     "text": [
      "Epoch 590/1000\n",
      "Train Loss: 0.0474, Val Loss: 0.2011\n",
      "Learning Rate: 0.001000\n",
      "--------------------------------------------------\n"
     ]
    },
    {
     "name": "stderr",
     "output_type": "stream",
     "text": [
      "Epoch 591/1000: 100%|██████████| 17/17 [00:00<00:00, 38.03it/s]\n",
      "Epoch 592/1000: 100%|██████████| 17/17 [00:00<00:00, 48.97it/s]\n",
      "Epoch 593/1000: 100%|██████████| 17/17 [00:00<00:00, 43.76it/s]\n",
      "Epoch 594/1000: 100%|██████████| 17/17 [00:00<00:00, 47.67it/s]\n",
      "Epoch 595/1000: 100%|██████████| 17/17 [00:00<00:00, 47.70it/s]\n",
      "Epoch 596/1000: 100%|██████████| 17/17 [00:00<00:00, 49.06it/s]\n",
      "Epoch 597/1000: 100%|██████████| 17/17 [00:00<00:00, 43.56it/s]\n",
      "Epoch 598/1000: 100%|██████████| 17/17 [00:00<00:00, 48.48it/s]\n",
      "Epoch 599/1000: 100%|██████████| 17/17 [00:00<00:00, 48.97it/s]\n",
      "Epoch 600/1000: 100%|██████████| 17/17 [00:00<00:00, 48.65it/s]\n"
     ]
    },
    {
     "name": "stdout",
     "output_type": "stream",
     "text": [
      "Epoch 600/1000\n",
      "Train Loss: 0.0487, Val Loss: 0.2235\n",
      "Learning Rate: 0.001000\n",
      "--------------------------------------------------\n"
     ]
    },
    {
     "name": "stderr",
     "output_type": "stream",
     "text": [
      "Epoch 601/1000: 100%|██████████| 17/17 [00:00<00:00, 49.21it/s]\n",
      "Epoch 602/1000: 100%|██████████| 17/17 [00:00<00:00, 49.04it/s]\n",
      "Epoch 603/1000: 100%|██████████| 17/17 [00:00<00:00, 54.97it/s]\n",
      "Epoch 604/1000: 100%|██████████| 17/17 [00:00<00:00, 51.51it/s]\n",
      "Epoch 605/1000: 100%|██████████| 17/17 [00:00<00:00, 52.19it/s]\n",
      "Epoch 606/1000: 100%|██████████| 17/17 [00:00<00:00, 56.81it/s]\n",
      "Epoch 607/1000: 100%|██████████| 17/17 [00:00<00:00, 54.73it/s]\n",
      "Epoch 608/1000: 100%|██████████| 17/17 [00:00<00:00, 53.31it/s]\n",
      "Epoch 609/1000: 100%|██████████| 17/17 [00:00<00:00, 54.22it/s]\n",
      "Epoch 610/1000: 100%|██████████| 17/17 [00:00<00:00, 53.84it/s]\n"
     ]
    },
    {
     "name": "stdout",
     "output_type": "stream",
     "text": [
      "Epoch 610/1000\n",
      "Train Loss: 0.0407, Val Loss: 0.2212\n",
      "Learning Rate: 0.001000\n",
      "--------------------------------------------------\n"
     ]
    },
    {
     "name": "stderr",
     "output_type": "stream",
     "text": [
      "Epoch 611/1000: 100%|██████████| 17/17 [00:00<00:00, 53.85it/s]\n",
      "Epoch 612/1000: 100%|██████████| 17/17 [00:00<00:00, 54.22it/s]\n",
      "Epoch 613/1000: 100%|██████████| 17/17 [00:00<00:00, 53.57it/s]\n",
      "Epoch 614/1000: 100%|██████████| 17/17 [00:00<00:00, 53.72it/s]\n",
      "Epoch 615/1000: 100%|██████████| 17/17 [00:00<00:00, 53.96it/s]\n",
      "Epoch 616/1000: 100%|██████████| 17/17 [00:00<00:00, 53.49it/s]\n",
      "Epoch 617/1000: 100%|██████████| 17/17 [00:00<00:00, 55.60it/s]\n",
      "Epoch 618/1000: 100%|██████████| 17/17 [00:00<00:00, 53.43it/s]\n",
      "Epoch 619/1000: 100%|██████████| 17/17 [00:00<00:00, 53.67it/s]\n",
      "Epoch 620/1000: 100%|██████████| 17/17 [00:00<00:00, 53.39it/s]\n"
     ]
    },
    {
     "name": "stdout",
     "output_type": "stream",
     "text": [
      "Epoch 620/1000\n",
      "Train Loss: 0.0553, Val Loss: 0.3473\n",
      "Learning Rate: 0.001000\n",
      "--------------------------------------------------\n"
     ]
    },
    {
     "name": "stderr",
     "output_type": "stream",
     "text": [
      "Epoch 621/1000: 100%|██████████| 17/17 [00:00<00:00, 53.32it/s]\n",
      "Epoch 622/1000: 100%|██████████| 17/17 [00:00<00:00, 53.44it/s]\n",
      "Epoch 623/1000: 100%|██████████| 17/17 [00:00<00:00, 54.19it/s]\n",
      "Epoch 624/1000: 100%|██████████| 17/17 [00:00<00:00, 53.94it/s]\n",
      "Epoch 625/1000: 100%|██████████| 17/17 [00:00<00:00, 54.27it/s]\n",
      "Epoch 626/1000: 100%|██████████| 17/17 [00:00<00:00, 52.58it/s]\n",
      "Epoch 627/1000: 100%|██████████| 17/17 [00:00<00:00, 53.67it/s]\n",
      "Epoch 628/1000: 100%|██████████| 17/17 [00:00<00:00, 57.10it/s]\n",
      "Epoch 629/1000: 100%|██████████| 17/17 [00:00<00:00, 53.70it/s]\n",
      "Epoch 630/1000: 100%|██████████| 17/17 [00:00<00:00, 58.44it/s]\n"
     ]
    },
    {
     "name": "stdout",
     "output_type": "stream",
     "text": [
      "Epoch 630/1000\n",
      "Train Loss: 0.0469, Val Loss: 0.1966\n",
      "Learning Rate: 0.001000\n",
      "--------------------------------------------------\n"
     ]
    },
    {
     "name": "stderr",
     "output_type": "stream",
     "text": [
      "Epoch 631/1000: 100%|██████████| 17/17 [00:00<00:00, 55.86it/s]\n",
      "Epoch 632/1000: 100%|██████████| 17/17 [00:00<00:00, 57.99it/s]\n",
      "Epoch 633/1000: 100%|██████████| 17/17 [00:00<00:00, 57.52it/s]\n",
      "Epoch 634/1000: 100%|██████████| 17/17 [00:00<00:00, 57.93it/s]\n",
      "Epoch 635/1000: 100%|██████████| 17/17 [00:00<00:00, 55.41it/s]\n",
      "Epoch 636/1000: 100%|██████████| 17/17 [00:00<00:00, 57.39it/s]\n",
      "Epoch 637/1000: 100%|██████████| 17/17 [00:00<00:00, 58.03it/s]\n",
      "Epoch 638/1000: 100%|██████████| 17/17 [00:00<00:00, 52.76it/s]\n",
      "Epoch 639/1000: 100%|██████████| 17/17 [00:00<00:00, 52.41it/s]\n",
      "Epoch 640/1000: 100%|██████████| 17/17 [00:00<00:00, 53.74it/s]\n"
     ]
    },
    {
     "name": "stdout",
     "output_type": "stream",
     "text": [
      "Epoch 640/1000\n",
      "Train Loss: 0.0519, Val Loss: 0.2197\n",
      "Learning Rate: 0.001000\n",
      "--------------------------------------------------\n"
     ]
    },
    {
     "name": "stderr",
     "output_type": "stream",
     "text": [
      "Epoch 641/1000: 100%|██████████| 17/17 [00:00<00:00, 55.30it/s]\n",
      "Epoch 642/1000: 100%|██████████| 17/17 [00:00<00:00, 53.04it/s]\n",
      "Epoch 643/1000: 100%|██████████| 17/17 [00:00<00:00, 54.12it/s]\n",
      "Epoch 644/1000: 100%|██████████| 17/17 [00:00<00:00, 54.16it/s]\n",
      "Epoch 645/1000: 100%|██████████| 17/17 [00:00<00:00, 53.42it/s]\n",
      "Epoch 646/1000: 100%|██████████| 17/17 [00:00<00:00, 56.74it/s]\n",
      "Epoch 647/1000: 100%|██████████| 17/17 [00:00<00:00, 58.27it/s]\n",
      "Epoch 648/1000: 100%|██████████| 17/17 [00:00<00:00, 57.38it/s]\n",
      "Epoch 649/1000: 100%|██████████| 17/17 [00:00<00:00, 52.27it/s]\n",
      "Epoch 650/1000: 100%|██████████| 17/17 [00:00<00:00, 55.35it/s]\n"
     ]
    },
    {
     "name": "stdout",
     "output_type": "stream",
     "text": [
      "Epoch 650/1000\n",
      "Train Loss: 0.0727, Val Loss: 0.1975\n",
      "Learning Rate: 0.001000\n",
      "--------------------------------------------------\n"
     ]
    },
    {
     "name": "stderr",
     "output_type": "stream",
     "text": [
      "Epoch 651/1000: 100%|██████████| 17/17 [00:00<00:00, 51.12it/s]\n",
      "Epoch 652/1000: 100%|██████████| 17/17 [00:00<00:00, 53.09it/s]\n",
      "Epoch 653/1000: 100%|██████████| 17/17 [00:00<00:00, 51.82it/s]\n",
      "Epoch 654/1000: 100%|██████████| 17/17 [00:00<00:00, 48.43it/s]\n",
      "Epoch 655/1000: 100%|██████████| 17/17 [00:00<00:00, 52.96it/s]\n",
      "Epoch 656/1000: 100%|██████████| 17/17 [00:00<00:00, 51.93it/s]\n",
      "Epoch 657/1000: 100%|██████████| 17/17 [00:00<00:00, 54.26it/s]\n",
      "Epoch 658/1000: 100%|██████████| 17/17 [00:00<00:00, 51.49it/s]\n",
      "Epoch 659/1000: 100%|██████████| 17/17 [00:00<00:00, 54.36it/s]\n",
      "Epoch 660/1000: 100%|██████████| 17/17 [00:00<00:00, 55.02it/s]\n"
     ]
    },
    {
     "name": "stdout",
     "output_type": "stream",
     "text": [
      "Epoch 660/1000\n",
      "Train Loss: 0.0474, Val Loss: 0.2235\n",
      "Learning Rate: 0.001000\n",
      "--------------------------------------------------\n"
     ]
    },
    {
     "name": "stderr",
     "output_type": "stream",
     "text": [
      "Epoch 661/1000: 100%|██████████| 17/17 [00:00<00:00, 53.40it/s]\n",
      "Epoch 662/1000: 100%|██████████| 17/17 [00:00<00:00, 53.28it/s]\n",
      "Epoch 663/1000: 100%|██████████| 17/17 [00:00<00:00, 51.20it/s]\n",
      "Epoch 664/1000: 100%|██████████| 17/17 [00:00<00:00, 50.52it/s]\n",
      "Epoch 665/1000: 100%|██████████| 17/17 [00:00<00:00, 52.62it/s]\n",
      "Epoch 666/1000: 100%|██████████| 17/17 [00:00<00:00, 51.42it/s]\n",
      "Epoch 667/1000: 100%|██████████| 17/17 [00:00<00:00, 52.68it/s]\n",
      "Epoch 668/1000: 100%|██████████| 17/17 [00:00<00:00, 54.96it/s]\n",
      "Epoch 669/1000: 100%|██████████| 17/17 [00:00<00:00, 52.58it/s]\n",
      "Epoch 670/1000: 100%|██████████| 17/17 [00:00<00:00, 53.35it/s]\n"
     ]
    },
    {
     "name": "stdout",
     "output_type": "stream",
     "text": [
      "Epoch 670/1000\n",
      "Train Loss: 0.0418, Val Loss: 0.2217\n",
      "Learning Rate: 0.001000\n",
      "--------------------------------------------------\n"
     ]
    },
    {
     "name": "stderr",
     "output_type": "stream",
     "text": [
      "Epoch 671/1000: 100%|██████████| 17/17 [00:00<00:00, 54.29it/s]\n",
      "Epoch 672/1000: 100%|██████████| 17/17 [00:00<00:00, 53.24it/s]\n",
      "Epoch 673/1000: 100%|██████████| 17/17 [00:00<00:00, 53.46it/s]\n",
      "Epoch 674/1000: 100%|██████████| 17/17 [00:00<00:00, 54.10it/s]\n",
      "Epoch 675/1000: 100%|██████████| 17/17 [00:00<00:00, 55.71it/s]\n",
      "Epoch 676/1000: 100%|██████████| 17/17 [00:00<00:00, 53.59it/s]\n",
      "Epoch 677/1000: 100%|██████████| 17/17 [00:00<00:00, 53.97it/s]\n",
      "Epoch 678/1000: 100%|██████████| 17/17 [00:00<00:00, 53.58it/s]\n",
      "Epoch 679/1000: 100%|██████████| 17/17 [00:00<00:00, 53.75it/s]\n",
      "Epoch 680/1000: 100%|██████████| 17/17 [00:00<00:00, 53.68it/s]\n"
     ]
    },
    {
     "name": "stdout",
     "output_type": "stream",
     "text": [
      "Epoch 680/1000\n",
      "Train Loss: 0.0496, Val Loss: 0.2455\n",
      "Learning Rate: 0.001000\n",
      "--------------------------------------------------\n"
     ]
    },
    {
     "name": "stderr",
     "output_type": "stream",
     "text": [
      "Epoch 681/1000: 100%|██████████| 17/17 [00:00<00:00, 53.62it/s]\n",
      "Epoch 682/1000: 100%|██████████| 17/17 [00:00<00:00, 53.96it/s]\n",
      "Epoch 683/1000: 100%|██████████| 17/17 [00:00<00:00, 54.27it/s]\n",
      "Epoch 684/1000: 100%|██████████| 17/17 [00:00<00:00, 53.50it/s]\n",
      "Epoch 685/1000: 100%|██████████| 17/17 [00:00<00:00, 53.95it/s]\n",
      "Epoch 686/1000: 100%|██████████| 17/17 [00:00<00:00, 53.24it/s]\n",
      "Epoch 687/1000: 100%|██████████| 17/17 [00:00<00:00, 49.59it/s]\n",
      "Epoch 688/1000: 100%|██████████| 17/17 [00:00<00:00, 53.83it/s]\n",
      "Epoch 689/1000: 100%|██████████| 17/17 [00:00<00:00, 54.00it/s]\n",
      "Epoch 690/1000: 100%|██████████| 17/17 [00:00<00:00, 54.53it/s]\n"
     ]
    },
    {
     "name": "stdout",
     "output_type": "stream",
     "text": [
      "Epoch 690/1000\n",
      "Train Loss: 0.0712, Val Loss: 0.1923\n",
      "Learning Rate: 0.001000\n",
      "--------------------------------------------------\n"
     ]
    },
    {
     "name": "stderr",
     "output_type": "stream",
     "text": [
      "Epoch 691/1000: 100%|██████████| 17/17 [00:00<00:00, 52.72it/s]\n",
      "Epoch 692/1000: 100%|██████████| 17/17 [00:00<00:00, 54.94it/s]\n",
      "Epoch 693/1000: 100%|██████████| 17/17 [00:00<00:00, 53.63it/s]\n",
      "Epoch 694/1000: 100%|██████████| 17/17 [00:00<00:00, 53.41it/s]\n",
      "Epoch 695/1000: 100%|██████████| 17/17 [00:00<00:00, 53.24it/s]\n",
      "Epoch 696/1000: 100%|██████████| 17/17 [00:00<00:00, 54.75it/s]\n",
      "Epoch 697/1000: 100%|██████████| 17/17 [00:00<00:00, 53.90it/s]\n",
      "Epoch 698/1000: 100%|██████████| 17/17 [00:00<00:00, 53.41it/s]\n",
      "Epoch 699/1000: 100%|██████████| 17/17 [00:00<00:00, 54.54it/s]\n",
      "Epoch 700/1000: 100%|██████████| 17/17 [00:00<00:00, 53.60it/s]\n"
     ]
    },
    {
     "name": "stdout",
     "output_type": "stream",
     "text": [
      "Epoch 700/1000\n",
      "Train Loss: 0.0655, Val Loss: 0.2585\n",
      "Learning Rate: 0.001000\n",
      "--------------------------------------------------\n"
     ]
    },
    {
     "name": "stderr",
     "output_type": "stream",
     "text": [
      "Epoch 701/1000: 100%|██████████| 17/17 [00:00<00:00, 52.70it/s]\n",
      "Epoch 702/1000: 100%|██████████| 17/17 [00:00<00:00, 47.72it/s]\n",
      "Epoch 703/1000: 100%|██████████| 17/17 [00:00<00:00, 47.44it/s]\n",
      "Epoch 704/1000: 100%|██████████| 17/17 [00:00<00:00, 50.88it/s]\n",
      "Epoch 705/1000: 100%|██████████| 17/17 [00:00<00:00, 50.39it/s]\n",
      "Epoch 706/1000: 100%|██████████| 17/17 [00:00<00:00, 51.10it/s]\n",
      "Epoch 707/1000: 100%|██████████| 17/17 [00:00<00:00, 52.36it/s]\n",
      "Epoch 708/1000: 100%|██████████| 17/17 [00:00<00:00, 50.79it/s]\n",
      "Epoch 709/1000: 100%|██████████| 17/17 [00:00<00:00, 50.87it/s]\n",
      "Epoch 710/1000: 100%|██████████| 17/17 [00:00<00:00, 52.76it/s]\n"
     ]
    },
    {
     "name": "stdout",
     "output_type": "stream",
     "text": [
      "Epoch 710/1000\n",
      "Train Loss: 0.1901, Val Loss: 0.3694\n",
      "Learning Rate: 0.001000\n",
      "--------------------------------------------------\n"
     ]
    },
    {
     "name": "stderr",
     "output_type": "stream",
     "text": [
      "Epoch 711/1000: 100%|██████████| 17/17 [00:00<00:00, 39.51it/s]\n",
      "Epoch 712/1000: 100%|██████████| 17/17 [00:00<00:00, 53.28it/s]\n",
      "Epoch 713/1000: 100%|██████████| 17/17 [00:00<00:00, 50.48it/s]\n",
      "Epoch 714/1000: 100%|██████████| 17/17 [00:00<00:00, 45.77it/s]\n",
      "Epoch 715/1000: 100%|██████████| 17/17 [00:00<00:00, 45.64it/s]\n",
      "Epoch 716/1000: 100%|██████████| 17/17 [00:00<00:00, 47.13it/s]\n",
      "Epoch 717/1000: 100%|██████████| 17/17 [00:00<00:00, 48.39it/s]\n",
      "Epoch 718/1000: 100%|██████████| 17/17 [00:00<00:00, 48.07it/s]\n",
      "Epoch 719/1000: 100%|██████████| 17/17 [00:00<00:00, 47.66it/s]\n",
      "Epoch 720/1000: 100%|██████████| 17/17 [00:00<00:00, 47.54it/s]\n"
     ]
    },
    {
     "name": "stdout",
     "output_type": "stream",
     "text": [
      "Epoch 720/1000\n",
      "Train Loss: 0.0497, Val Loss: 0.2133\n",
      "Learning Rate: 0.001000\n",
      "--------------------------------------------------\n"
     ]
    },
    {
     "name": "stderr",
     "output_type": "stream",
     "text": [
      "Epoch 721/1000: 100%|██████████| 17/17 [00:00<00:00, 46.32it/s]\n",
      "Epoch 722/1000: 100%|██████████| 17/17 [00:00<00:00, 47.73it/s]\n",
      "Epoch 723/1000: 100%|██████████| 17/17 [00:00<00:00, 46.89it/s]\n",
      "Epoch 724/1000: 100%|██████████| 17/17 [00:00<00:00, 48.23it/s]\n",
      "Epoch 725/1000: 100%|██████████| 17/17 [00:00<00:00, 47.95it/s]\n",
      "Epoch 726/1000: 100%|██████████| 17/17 [00:00<00:00, 47.51it/s]\n",
      "Epoch 727/1000: 100%|██████████| 17/17 [00:00<00:00, 47.98it/s]\n",
      "Epoch 728/1000: 100%|██████████| 17/17 [00:00<00:00, 47.66it/s]\n",
      "Epoch 729/1000: 100%|██████████| 17/17 [00:00<00:00, 45.20it/s]\n",
      "Epoch 730/1000: 100%|██████████| 17/17 [00:00<00:00, 46.87it/s]\n"
     ]
    },
    {
     "name": "stdout",
     "output_type": "stream",
     "text": [
      "Epoch 730/1000\n",
      "Train Loss: 0.0977, Val Loss: 0.1904\n",
      "Learning Rate: 0.001000\n",
      "--------------------------------------------------\n"
     ]
    },
    {
     "name": "stderr",
     "output_type": "stream",
     "text": [
      "Epoch 731/1000: 100%|██████████| 17/17 [00:00<00:00, 48.22it/s]\n",
      "Epoch 732/1000: 100%|██████████| 17/17 [00:00<00:00, 44.76it/s]\n",
      "Epoch 733/1000: 100%|██████████| 17/17 [00:00<00:00, 48.08it/s]\n",
      "Epoch 734/1000: 100%|██████████| 17/17 [00:00<00:00, 47.91it/s]\n",
      "Epoch 735/1000: 100%|██████████| 17/17 [00:00<00:00, 47.94it/s]\n",
      "Epoch 736/1000: 100%|██████████| 17/17 [00:00<00:00, 47.94it/s]\n",
      "Epoch 737/1000: 100%|██████████| 17/17 [00:00<00:00, 48.32it/s]\n",
      "Epoch 738/1000: 100%|██████████| 17/17 [00:00<00:00, 48.55it/s]\n",
      "Epoch 739/1000: 100%|██████████| 17/17 [00:00<00:00, 48.49it/s]\n",
      "Epoch 740/1000: 100%|██████████| 17/17 [00:00<00:00, 47.70it/s]\n"
     ]
    },
    {
     "name": "stdout",
     "output_type": "stream",
     "text": [
      "Epoch 740/1000\n",
      "Train Loss: 0.0502, Val Loss: 0.2250\n",
      "Learning Rate: 0.001000\n",
      "--------------------------------------------------\n"
     ]
    },
    {
     "name": "stderr",
     "output_type": "stream",
     "text": [
      "Epoch 741/1000: 100%|██████████| 17/17 [00:00<00:00, 48.28it/s]\n",
      "Epoch 742/1000: 100%|██████████| 17/17 [00:00<00:00, 48.19it/s]\n",
      "Epoch 743/1000: 100%|██████████| 17/17 [00:00<00:00, 47.30it/s]\n",
      "Epoch 744/1000: 100%|██████████| 17/17 [00:00<00:00, 48.10it/s]\n",
      "Epoch 745/1000: 100%|██████████| 17/17 [00:00<00:00, 48.62it/s]\n",
      "Epoch 746/1000: 100%|██████████| 17/17 [00:00<00:00, 48.12it/s]\n",
      "Epoch 747/1000: 100%|██████████| 17/17 [00:00<00:00, 47.39it/s]\n",
      "Epoch 748/1000: 100%|██████████| 17/17 [00:00<00:00, 46.08it/s]\n",
      "Epoch 749/1000: 100%|██████████| 17/17 [00:00<00:00, 47.02it/s]\n",
      "Epoch 750/1000: 100%|██████████| 17/17 [00:00<00:00, 42.37it/s]\n"
     ]
    },
    {
     "name": "stdout",
     "output_type": "stream",
     "text": [
      "Epoch 750/1000\n",
      "Train Loss: 0.0442, Val Loss: 0.2002\n",
      "Learning Rate: 0.001000\n",
      "--------------------------------------------------\n"
     ]
    },
    {
     "name": "stderr",
     "output_type": "stream",
     "text": [
      "Epoch 751/1000: 100%|██████████| 17/17 [00:00<00:00, 43.91it/s]\n",
      "Epoch 752/1000: 100%|██████████| 17/17 [00:00<00:00, 48.63it/s]\n",
      "Epoch 753/1000: 100%|██████████| 17/17 [00:00<00:00, 50.43it/s]\n",
      "Epoch 754/1000: 100%|██████████| 17/17 [00:00<00:00, 52.55it/s]\n",
      "Epoch 755/1000: 100%|██████████| 17/17 [00:00<00:00, 51.19it/s]\n",
      "Epoch 756/1000: 100%|██████████| 17/17 [00:00<00:00, 51.68it/s]\n",
      "Epoch 757/1000: 100%|██████████| 17/17 [00:00<00:00, 52.50it/s]\n",
      "Epoch 758/1000: 100%|██████████| 17/17 [00:00<00:00, 51.82it/s]\n",
      "Epoch 759/1000: 100%|██████████| 17/17 [00:00<00:00, 52.34it/s]\n",
      "Epoch 760/1000: 100%|██████████| 17/17 [00:00<00:00, 51.25it/s]\n"
     ]
    },
    {
     "name": "stdout",
     "output_type": "stream",
     "text": [
      "Epoch 760/1000\n",
      "Train Loss: 0.0644, Val Loss: 0.3549\n",
      "Learning Rate: 0.001000\n",
      "--------------------------------------------------\n"
     ]
    },
    {
     "name": "stderr",
     "output_type": "stream",
     "text": [
      "Epoch 761/1000: 100%|██████████| 17/17 [00:00<00:00, 48.11it/s]\n",
      "Epoch 762/1000: 100%|██████████| 17/17 [00:00<00:00, 44.30it/s]\n",
      "Epoch 763/1000: 100%|██████████| 17/17 [00:00<00:00, 44.58it/s]\n",
      "Epoch 764/1000: 100%|██████████| 17/17 [00:00<00:00, 48.50it/s]\n",
      "Epoch 765/1000: 100%|██████████| 17/17 [00:00<00:00, 46.75it/s]\n",
      "Epoch 766/1000: 100%|██████████| 17/17 [00:00<00:00, 47.67it/s]\n",
      "Epoch 767/1000: 100%|██████████| 17/17 [00:00<00:00, 46.97it/s]\n",
      "Epoch 768/1000: 100%|██████████| 17/17 [00:00<00:00, 46.30it/s]\n",
      "Epoch 769/1000: 100%|██████████| 17/17 [00:00<00:00, 47.43it/s]\n",
      "Epoch 770/1000: 100%|██████████| 17/17 [00:00<00:00, 47.41it/s]\n"
     ]
    },
    {
     "name": "stdout",
     "output_type": "stream",
     "text": [
      "Epoch 770/1000\n",
      "Train Loss: 0.0432, Val Loss: 0.1916\n",
      "Learning Rate: 0.001000\n",
      "--------------------------------------------------\n"
     ]
    },
    {
     "name": "stderr",
     "output_type": "stream",
     "text": [
      "Epoch 771/1000: 100%|██████████| 17/17 [00:00<00:00, 39.18it/s]\n",
      "Epoch 772/1000: 100%|██████████| 17/17 [00:00<00:00, 47.25it/s]\n",
      "Epoch 773/1000: 100%|██████████| 17/17 [00:00<00:00, 47.83it/s]\n",
      "Epoch 774/1000: 100%|██████████| 17/17 [00:00<00:00, 47.74it/s]\n",
      "Epoch 775/1000: 100%|██████████| 17/17 [00:00<00:00, 47.56it/s]\n",
      "Epoch 776/1000: 100%|██████████| 17/17 [00:00<00:00, 47.66it/s]\n",
      "Epoch 777/1000: 100%|██████████| 17/17 [00:00<00:00, 47.15it/s]\n",
      "Epoch 778/1000: 100%|██████████| 17/17 [00:00<00:00, 47.22it/s]\n",
      "Epoch 779/1000: 100%|██████████| 17/17 [00:00<00:00, 46.75it/s]\n",
      "Epoch 780/1000: 100%|██████████| 17/17 [00:00<00:00, 47.21it/s]\n"
     ]
    },
    {
     "name": "stdout",
     "output_type": "stream",
     "text": [
      "Epoch 780/1000\n",
      "Train Loss: 0.0465, Val Loss: 0.2119\n",
      "Learning Rate: 0.001000\n",
      "--------------------------------------------------\n"
     ]
    },
    {
     "name": "stderr",
     "output_type": "stream",
     "text": [
      "Epoch 781/1000: 100%|██████████| 17/17 [00:00<00:00, 47.14it/s]\n",
      "Epoch 782/1000: 100%|██████████| 17/17 [00:00<00:00, 46.86it/s]\n",
      "Epoch 783/1000: 100%|██████████| 17/17 [00:00<00:00, 47.14it/s]\n",
      "Epoch 784/1000: 100%|██████████| 17/17 [00:00<00:00, 47.54it/s]\n",
      "Epoch 785/1000: 100%|██████████| 17/17 [00:00<00:00, 43.72it/s]\n",
      "Epoch 786/1000: 100%|██████████| 17/17 [00:00<00:00, 47.06it/s]\n",
      "Epoch 787/1000: 100%|██████████| 17/17 [00:00<00:00, 46.84it/s]\n",
      "Epoch 788/1000: 100%|██████████| 17/17 [00:00<00:00, 43.63it/s]\n",
      "Epoch 789/1000: 100%|██████████| 17/17 [00:00<00:00, 50.55it/s]\n",
      "Epoch 790/1000: 100%|██████████| 17/17 [00:00<00:00, 50.48it/s]\n"
     ]
    },
    {
     "name": "stdout",
     "output_type": "stream",
     "text": [
      "Epoch 790/1000\n",
      "Train Loss: 0.0499, Val Loss: 0.2187\n",
      "Learning Rate: 0.001000\n",
      "--------------------------------------------------\n"
     ]
    },
    {
     "name": "stderr",
     "output_type": "stream",
     "text": [
      "Epoch 791/1000: 100%|██████████| 17/17 [00:00<00:00, 51.09it/s]\n",
      "Epoch 792/1000: 100%|██████████| 17/17 [00:00<00:00, 53.01it/s]\n",
      "Epoch 793/1000: 100%|██████████| 17/17 [00:00<00:00, 51.65it/s]\n",
      "Epoch 794/1000: 100%|██████████| 17/17 [00:00<00:00, 48.90it/s]\n",
      "Epoch 795/1000: 100%|██████████| 17/17 [00:00<00:00, 47.52it/s]\n",
      "Epoch 796/1000: 100%|██████████| 17/17 [00:00<00:00, 47.90it/s]\n",
      "Epoch 797/1000: 100%|██████████| 17/17 [00:00<00:00, 48.18it/s]\n",
      "Epoch 798/1000: 100%|██████████| 17/17 [00:00<00:00, 48.31it/s]\n",
      "Epoch 799/1000: 100%|██████████| 17/17 [00:00<00:00, 47.55it/s]\n",
      "Epoch 800/1000: 100%|██████████| 17/17 [00:00<00:00, 48.12it/s]\n"
     ]
    },
    {
     "name": "stdout",
     "output_type": "stream",
     "text": [
      "Epoch 800/1000\n",
      "Train Loss: 0.0532, Val Loss: 0.2141\n",
      "Learning Rate: 0.001000\n",
      "--------------------------------------------------\n"
     ]
    },
    {
     "name": "stderr",
     "output_type": "stream",
     "text": [
      "Epoch 801/1000: 100%|██████████| 17/17 [00:00<00:00, 51.20it/s]\n",
      "Epoch 802/1000: 100%|██████████| 17/17 [00:00<00:00, 50.64it/s]\n",
      "Epoch 803/1000: 100%|██████████| 17/17 [00:00<00:00, 51.39it/s]\n",
      "Epoch 804/1000: 100%|██████████| 17/17 [00:00<00:00, 49.82it/s]\n",
      "Epoch 805/1000: 100%|██████████| 17/17 [00:00<00:00, 52.00it/s]\n",
      "Epoch 806/1000: 100%|██████████| 17/17 [00:00<00:00, 50.16it/s]\n",
      "Epoch 807/1000: 100%|██████████| 17/17 [00:00<00:00, 50.75it/s]\n",
      "Epoch 808/1000: 100%|██████████| 17/17 [00:00<00:00, 50.83it/s]\n",
      "Epoch 809/1000: 100%|██████████| 17/17 [00:00<00:00, 51.49it/s]\n",
      "Epoch 810/1000: 100%|██████████| 17/17 [00:00<00:00, 52.70it/s]\n"
     ]
    },
    {
     "name": "stdout",
     "output_type": "stream",
     "text": [
      "Epoch 810/1000\n",
      "Train Loss: 0.0346, Val Loss: 0.1964\n",
      "Learning Rate: 0.001000\n",
      "--------------------------------------------------\n"
     ]
    },
    {
     "name": "stderr",
     "output_type": "stream",
     "text": [
      "Epoch 811/1000: 100%|██████████| 17/17 [00:00<00:00, 54.03it/s]\n",
      "Epoch 812/1000: 100%|██████████| 17/17 [00:00<00:00, 55.86it/s]\n",
      "Epoch 813/1000: 100%|██████████| 17/17 [00:00<00:00, 56.49it/s]\n",
      "Epoch 814/1000: 100%|██████████| 17/17 [00:00<00:00, 57.16it/s]\n",
      "Epoch 815/1000: 100%|██████████| 17/17 [00:00<00:00, 57.57it/s]\n",
      "Epoch 816/1000: 100%|██████████| 17/17 [00:00<00:00, 57.65it/s]\n",
      "Epoch 817/1000: 100%|██████████| 17/17 [00:00<00:00, 54.90it/s]\n",
      "Epoch 818/1000: 100%|██████████| 17/17 [00:00<00:00, 57.21it/s]\n",
      "Epoch 819/1000: 100%|██████████| 17/17 [00:00<00:00, 52.46it/s]\n",
      "Epoch 820/1000: 100%|██████████| 17/17 [00:00<00:00, 58.04it/s]\n"
     ]
    },
    {
     "name": "stdout",
     "output_type": "stream",
     "text": [
      "Epoch 820/1000\n",
      "Train Loss: 0.0455, Val Loss: 0.2632\n",
      "Learning Rate: 0.001000\n",
      "--------------------------------------------------\n"
     ]
    },
    {
     "name": "stderr",
     "output_type": "stream",
     "text": [
      "Epoch 821/1000: 100%|██████████| 17/17 [00:00<00:00, 54.44it/s]\n",
      "Epoch 822/1000: 100%|██████████| 17/17 [00:00<00:00, 54.52it/s]\n",
      "Epoch 823/1000: 100%|██████████| 17/17 [00:00<00:00, 57.66it/s]\n",
      "Epoch 824/1000: 100%|██████████| 17/17 [00:00<00:00, 57.39it/s]\n",
      "Epoch 825/1000: 100%|██████████| 17/17 [00:00<00:00, 58.07it/s]\n",
      "Epoch 826/1000: 100%|██████████| 17/17 [00:00<00:00, 56.05it/s]\n",
      "Epoch 827/1000: 100%|██████████| 17/17 [00:00<00:00, 55.56it/s]\n",
      "Epoch 828/1000: 100%|██████████| 17/17 [00:00<00:00, 55.19it/s]\n",
      "Epoch 829/1000: 100%|██████████| 17/17 [00:00<00:00, 56.39it/s]\n",
      "Epoch 830/1000: 100%|██████████| 17/17 [00:00<00:00, 55.33it/s]\n"
     ]
    },
    {
     "name": "stdout",
     "output_type": "stream",
     "text": [
      "Epoch 830/1000\n",
      "Train Loss: 0.0401, Val Loss: 0.2347\n",
      "Learning Rate: 0.001000\n",
      "--------------------------------------------------\n"
     ]
    },
    {
     "name": "stderr",
     "output_type": "stream",
     "text": [
      "Epoch 831/1000: 100%|██████████| 17/17 [00:00<00:00, 55.86it/s]\n",
      "Epoch 832/1000: 100%|██████████| 17/17 [00:00<00:00, 57.58it/s]\n",
      "Epoch 833/1000: 100%|██████████| 17/17 [00:00<00:00, 54.44it/s]\n",
      "Epoch 834/1000: 100%|██████████| 17/17 [00:00<00:00, 54.06it/s]\n",
      "Epoch 835/1000: 100%|██████████| 17/17 [00:00<00:00, 53.32it/s]\n",
      "Epoch 836/1000: 100%|██████████| 17/17 [00:00<00:00, 51.18it/s]\n",
      "Epoch 837/1000: 100%|██████████| 17/17 [00:00<00:00, 54.73it/s]\n",
      "Epoch 838/1000: 100%|██████████| 17/17 [00:00<00:00, 57.89it/s]\n",
      "Epoch 839/1000: 100%|██████████| 17/17 [00:00<00:00, 55.34it/s]\n",
      "Epoch 840/1000: 100%|██████████| 17/17 [00:00<00:00, 57.69it/s]\n"
     ]
    },
    {
     "name": "stdout",
     "output_type": "stream",
     "text": [
      "Epoch 840/1000\n",
      "Train Loss: 0.0500, Val Loss: 0.1809\n",
      "Learning Rate: 0.001000\n",
      "--------------------------------------------------\n"
     ]
    },
    {
     "name": "stderr",
     "output_type": "stream",
     "text": [
      "Epoch 841/1000: 100%|██████████| 17/17 [00:00<00:00, 58.05it/s]\n",
      "Epoch 842/1000: 100%|██████████| 17/17 [00:00<00:00, 58.05it/s]\n",
      "Epoch 843/1000: 100%|██████████| 17/17 [00:00<00:00, 54.81it/s]\n",
      "Epoch 844/1000: 100%|██████████| 17/17 [00:00<00:00, 57.22it/s]\n",
      "Epoch 845/1000: 100%|██████████| 17/17 [00:00<00:00, 54.06it/s]\n",
      "Epoch 846/1000: 100%|██████████| 17/17 [00:00<00:00, 54.65it/s]\n",
      "Epoch 847/1000: 100%|██████████| 17/17 [00:00<00:00, 55.67it/s]\n",
      "Epoch 848/1000: 100%|██████████| 17/17 [00:00<00:00, 52.65it/s]\n",
      "Epoch 849/1000: 100%|██████████| 17/17 [00:00<00:00, 53.85it/s]\n",
      "Epoch 850/1000: 100%|██████████| 17/17 [00:00<00:00, 58.01it/s]\n"
     ]
    },
    {
     "name": "stdout",
     "output_type": "stream",
     "text": [
      "Epoch 850/1000\n",
      "Train Loss: 0.0631, Val Loss: 0.1772\n",
      "Learning Rate: 0.001000\n",
      "--------------------------------------------------\n"
     ]
    },
    {
     "name": "stderr",
     "output_type": "stream",
     "text": [
      "Epoch 851/1000: 100%|██████████| 17/17 [00:00<00:00, 58.64it/s]\n",
      "Epoch 852/1000: 100%|██████████| 17/17 [00:00<00:00, 56.00it/s]\n",
      "Epoch 853/1000: 100%|██████████| 17/17 [00:00<00:00, 56.81it/s]\n",
      "Epoch 854/1000: 100%|██████████| 17/17 [00:00<00:00, 57.47it/s]\n",
      "Epoch 855/1000: 100%|██████████| 17/17 [00:00<00:00, 55.25it/s]\n",
      "Epoch 856/1000: 100%|██████████| 17/17 [00:00<00:00, 55.00it/s]\n",
      "Epoch 857/1000: 100%|██████████| 17/17 [00:00<00:00, 53.02it/s]\n",
      "Epoch 858/1000: 100%|██████████| 17/17 [00:00<00:00, 53.98it/s]\n",
      "Epoch 859/1000: 100%|██████████| 17/17 [00:00<00:00, 57.59it/s]\n",
      "Epoch 860/1000: 100%|██████████| 17/17 [00:00<00:00, 54.60it/s]\n"
     ]
    },
    {
     "name": "stdout",
     "output_type": "stream",
     "text": [
      "Epoch 860/1000\n",
      "Train Loss: 0.0426, Val Loss: 0.1904\n",
      "Learning Rate: 0.001000\n",
      "--------------------------------------------------\n"
     ]
    },
    {
     "name": "stderr",
     "output_type": "stream",
     "text": [
      "Epoch 861/1000: 100%|██████████| 17/17 [00:00<00:00, 55.28it/s]\n",
      "Epoch 862/1000: 100%|██████████| 17/17 [00:00<00:00, 58.01it/s]\n",
      "Epoch 863/1000: 100%|██████████| 17/17 [00:00<00:00, 56.97it/s]\n",
      "Epoch 864/1000: 100%|██████████| 17/17 [00:00<00:00, 57.85it/s]\n",
      "Epoch 865/1000: 100%|██████████| 17/17 [00:00<00:00, 49.03it/s]\n",
      "Epoch 866/1000: 100%|██████████| 17/17 [00:00<00:00, 56.97it/s]\n",
      "Epoch 867/1000: 100%|██████████| 17/17 [00:00<00:00, 57.93it/s]\n",
      "Epoch 868/1000: 100%|██████████| 17/17 [00:00<00:00, 57.62it/s]\n",
      "Epoch 869/1000: 100%|██████████| 17/17 [00:00<00:00, 58.07it/s]\n",
      "Epoch 870/1000: 100%|██████████| 17/17 [00:00<00:00, 53.87it/s]\n"
     ]
    },
    {
     "name": "stdout",
     "output_type": "stream",
     "text": [
      "Epoch 870/1000\n",
      "Train Loss: 0.0473, Val Loss: 0.2080\n",
      "Learning Rate: 0.001000\n",
      "--------------------------------------------------\n"
     ]
    },
    {
     "name": "stderr",
     "output_type": "stream",
     "text": [
      "Epoch 871/1000: 100%|██████████| 17/17 [00:00<00:00, 57.26it/s]\n",
      "Epoch 872/1000: 100%|██████████| 17/17 [00:00<00:00, 57.89it/s]\n",
      "Epoch 873/1000: 100%|██████████| 17/17 [00:00<00:00, 57.20it/s]\n",
      "Epoch 874/1000: 100%|██████████| 17/17 [00:00<00:00, 57.30it/s]\n",
      "Epoch 875/1000: 100%|██████████| 17/17 [00:00<00:00, 58.10it/s]\n",
      "Epoch 876/1000: 100%|██████████| 17/17 [00:00<00:00, 57.12it/s]\n",
      "Epoch 877/1000: 100%|██████████| 17/17 [00:00<00:00, 58.57it/s]\n",
      "Epoch 878/1000: 100%|██████████| 17/17 [00:00<00:00, 58.50it/s]\n",
      "Epoch 879/1000: 100%|██████████| 17/17 [00:00<00:00, 57.04it/s]\n",
      "Epoch 880/1000: 100%|██████████| 17/17 [00:00<00:00, 57.85it/s]\n"
     ]
    },
    {
     "name": "stdout",
     "output_type": "stream",
     "text": [
      "Epoch 880/1000\n",
      "Train Loss: 0.0370, Val Loss: 0.2477\n",
      "Learning Rate: 0.001000\n",
      "--------------------------------------------------\n"
     ]
    },
    {
     "name": "stderr",
     "output_type": "stream",
     "text": [
      "Epoch 881/1000: 100%|██████████| 17/17 [00:00<00:00, 57.80it/s]\n",
      "Epoch 882/1000: 100%|██████████| 17/17 [00:00<00:00, 58.62it/s]\n",
      "Epoch 883/1000: 100%|██████████| 17/17 [00:00<00:00, 58.15it/s]\n",
      "Epoch 884/1000: 100%|██████████| 17/17 [00:00<00:00, 57.15it/s]\n",
      "Epoch 885/1000: 100%|██████████| 17/17 [00:00<00:00, 50.66it/s]\n",
      "Epoch 886/1000: 100%|██████████| 17/17 [00:00<00:00, 50.47it/s]\n",
      "Epoch 887/1000: 100%|██████████| 17/17 [00:00<00:00, 55.17it/s]\n",
      "Epoch 888/1000: 100%|██████████| 17/17 [00:00<00:00, 55.55it/s]\n",
      "Epoch 889/1000: 100%|██████████| 17/17 [00:00<00:00, 56.58it/s]\n",
      "Epoch 890/1000: 100%|██████████| 17/17 [00:00<00:00, 57.81it/s]\n"
     ]
    },
    {
     "name": "stdout",
     "output_type": "stream",
     "text": [
      "Epoch 890/1000\n",
      "Train Loss: 0.0562, Val Loss: 0.2197\n",
      "Learning Rate: 0.001000\n",
      "--------------------------------------------------\n"
     ]
    },
    {
     "name": "stderr",
     "output_type": "stream",
     "text": [
      "Epoch 891/1000: 100%|██████████| 17/17 [00:00<00:00, 55.51it/s]\n",
      "Epoch 892/1000: 100%|██████████| 17/17 [00:00<00:00, 53.96it/s]\n",
      "Epoch 893/1000: 100%|██████████| 17/17 [00:00<00:00, 57.63it/s]\n",
      "Epoch 894/1000: 100%|██████████| 17/17 [00:00<00:00, 56.74it/s]\n",
      "Epoch 895/1000: 100%|██████████| 17/17 [00:00<00:00, 57.13it/s]\n",
      "Epoch 896/1000: 100%|██████████| 17/17 [00:00<00:00, 56.83it/s]\n",
      "Epoch 897/1000: 100%|██████████| 17/17 [00:00<00:00, 58.13it/s]\n",
      "Epoch 898/1000: 100%|██████████| 17/17 [00:00<00:00, 57.38it/s]\n",
      "Epoch 899/1000: 100%|██████████| 17/17 [00:00<00:00, 57.59it/s]\n",
      "Epoch 900/1000: 100%|██████████| 17/17 [00:00<00:00, 56.81it/s]\n"
     ]
    },
    {
     "name": "stdout",
     "output_type": "stream",
     "text": [
      "Epoch 900/1000\n",
      "Train Loss: 0.0459, Val Loss: 0.1610\n",
      "Learning Rate: 0.001000\n",
      "--------------------------------------------------\n"
     ]
    },
    {
     "name": "stderr",
     "output_type": "stream",
     "text": [
      "Epoch 901/1000: 100%|██████████| 17/17 [00:00<00:00, 57.21it/s]\n",
      "Epoch 902/1000: 100%|██████████| 17/17 [00:00<00:00, 52.82it/s]\n",
      "Epoch 903/1000: 100%|██████████| 17/17 [00:00<00:00, 50.97it/s]\n",
      "Epoch 904/1000: 100%|██████████| 17/17 [00:00<00:00, 52.34it/s]\n",
      "Epoch 905/1000: 100%|██████████| 17/17 [00:00<00:00, 50.95it/s]\n",
      "Epoch 906/1000: 100%|██████████| 17/17 [00:00<00:00, 50.51it/s]\n",
      "Epoch 907/1000: 100%|██████████| 17/17 [00:00<00:00, 49.87it/s]\n",
      "Epoch 908/1000: 100%|██████████| 17/17 [00:00<00:00, 50.37it/s]\n",
      "Epoch 909/1000: 100%|██████████| 17/17 [00:00<00:00, 51.43it/s]\n",
      "Epoch 910/1000: 100%|██████████| 17/17 [00:00<00:00, 48.04it/s]\n"
     ]
    },
    {
     "name": "stdout",
     "output_type": "stream",
     "text": [
      "Epoch 910/1000\n",
      "Train Loss: 0.0525, Val Loss: 0.2111\n",
      "Learning Rate: 0.001000\n",
      "--------------------------------------------------\n"
     ]
    },
    {
     "name": "stderr",
     "output_type": "stream",
     "text": [
      "Epoch 911/1000: 100%|██████████| 17/17 [00:00<00:00, 46.79it/s]\n",
      "Epoch 912/1000: 100%|██████████| 17/17 [00:00<00:00, 48.09it/s]\n",
      "Epoch 913/1000: 100%|██████████| 17/17 [00:00<00:00, 49.97it/s]\n",
      "Epoch 914/1000: 100%|██████████| 17/17 [00:00<00:00, 51.73it/s]\n",
      "Epoch 915/1000: 100%|██████████| 17/17 [00:00<00:00, 52.83it/s]\n",
      "Epoch 916/1000: 100%|██████████| 17/17 [00:00<00:00, 52.84it/s]\n",
      "Epoch 917/1000: 100%|██████████| 17/17 [00:00<00:00, 52.41it/s]\n",
      "Epoch 918/1000: 100%|██████████| 17/17 [00:00<00:00, 53.01it/s]\n",
      "Epoch 919/1000: 100%|██████████| 17/17 [00:00<00:00, 51.32it/s]\n",
      "Epoch 920/1000: 100%|██████████| 17/17 [00:00<00:00, 53.74it/s]\n"
     ]
    },
    {
     "name": "stdout",
     "output_type": "stream",
     "text": [
      "Epoch 920/1000\n",
      "Train Loss: 0.0432, Val Loss: 0.2438\n",
      "Learning Rate: 0.001000\n",
      "--------------------------------------------------\n"
     ]
    },
    {
     "name": "stderr",
     "output_type": "stream",
     "text": [
      "Epoch 921/1000: 100%|██████████| 17/17 [00:00<00:00, 51.63it/s]\n",
      "Epoch 922/1000: 100%|██████████| 17/17 [00:00<00:00, 52.73it/s]\n",
      "Epoch 923/1000: 100%|██████████| 17/17 [00:00<00:00, 53.36it/s]\n",
      "Epoch 924/1000: 100%|██████████| 17/17 [00:00<00:00, 52.19it/s]\n",
      "Epoch 925/1000: 100%|██████████| 17/17 [00:00<00:00, 53.26it/s]\n",
      "Epoch 926/1000: 100%|██████████| 17/17 [00:00<00:00, 53.32it/s]\n",
      "Epoch 927/1000: 100%|██████████| 17/17 [00:00<00:00, 53.26it/s]\n",
      "Epoch 928/1000: 100%|██████████| 17/17 [00:00<00:00, 52.67it/s]\n",
      "Epoch 929/1000: 100%|██████████| 17/17 [00:00<00:00, 53.10it/s]\n",
      "Epoch 930/1000: 100%|██████████| 17/17 [00:00<00:00, 53.58it/s]\n"
     ]
    },
    {
     "name": "stdout",
     "output_type": "stream",
     "text": [
      "Epoch 930/1000\n",
      "Train Loss: 0.0582, Val Loss: 0.1831\n",
      "Learning Rate: 0.001000\n",
      "--------------------------------------------------\n"
     ]
    },
    {
     "name": "stderr",
     "output_type": "stream",
     "text": [
      "Epoch 931/1000: 100%|██████████| 17/17 [00:00<00:00, 47.09it/s]\n",
      "Epoch 932/1000: 100%|██████████| 17/17 [00:00<00:00, 51.32it/s]\n",
      "Epoch 933/1000: 100%|██████████| 17/17 [00:00<00:00, 51.54it/s]\n",
      "Epoch 934/1000: 100%|██████████| 17/17 [00:00<00:00, 49.86it/s]\n",
      "Epoch 935/1000: 100%|██████████| 17/17 [00:00<00:00, 51.02it/s]\n",
      "Epoch 936/1000: 100%|██████████| 17/17 [00:00<00:00, 53.35it/s]\n",
      "Epoch 937/1000: 100%|██████████| 17/17 [00:00<00:00, 53.20it/s]\n",
      "Epoch 938/1000: 100%|██████████| 17/17 [00:00<00:00, 51.75it/s]\n",
      "Epoch 939/1000: 100%|██████████| 17/17 [00:00<00:00, 53.55it/s]\n",
      "Epoch 940/1000: 100%|██████████| 17/17 [00:00<00:00, 52.82it/s]\n"
     ]
    },
    {
     "name": "stdout",
     "output_type": "stream",
     "text": [
      "Epoch 940/1000\n",
      "Train Loss: 0.0566, Val Loss: 0.2148\n",
      "Learning Rate: 0.001000\n",
      "--------------------------------------------------\n"
     ]
    },
    {
     "name": "stderr",
     "output_type": "stream",
     "text": [
      "Epoch 941/1000: 100%|██████████| 17/17 [00:00<00:00, 53.29it/s]\n",
      "Epoch 942/1000: 100%|██████████| 17/17 [00:00<00:00, 52.27it/s]\n",
      "Epoch 943/1000: 100%|██████████| 17/17 [00:00<00:00, 53.42it/s]\n",
      "Epoch 944/1000: 100%|██████████| 17/17 [00:00<00:00, 52.88it/s]\n",
      "Epoch 945/1000: 100%|██████████| 17/17 [00:00<00:00, 51.12it/s]\n",
      "Epoch 946/1000: 100%|██████████| 17/17 [00:00<00:00, 53.56it/s]\n",
      "Epoch 947/1000: 100%|██████████| 17/17 [00:00<00:00, 52.29it/s]\n",
      "Epoch 948/1000: 100%|██████████| 17/17 [00:00<00:00, 52.90it/s]\n",
      "Epoch 949/1000: 100%|██████████| 17/17 [00:00<00:00, 53.29it/s]\n",
      "Epoch 950/1000: 100%|██████████| 17/17 [00:00<00:00, 52.92it/s]\n"
     ]
    },
    {
     "name": "stdout",
     "output_type": "stream",
     "text": [
      "Epoch 950/1000\n",
      "Train Loss: 0.0422, Val Loss: 0.2019\n",
      "Learning Rate: 0.001000\n",
      "--------------------------------------------------\n"
     ]
    },
    {
     "name": "stderr",
     "output_type": "stream",
     "text": [
      "Epoch 951/1000: 100%|██████████| 17/17 [00:00<00:00, 52.54it/s]\n",
      "Epoch 952/1000: 100%|██████████| 17/17 [00:00<00:00, 52.58it/s]\n",
      "Epoch 953/1000: 100%|██████████| 17/17 [00:00<00:00, 53.40it/s]\n",
      "Epoch 954/1000: 100%|██████████| 17/17 [00:00<00:00, 52.00it/s]\n",
      "Epoch 955/1000: 100%|██████████| 17/17 [00:00<00:00, 52.73it/s]\n",
      "Epoch 956/1000: 100%|██████████| 17/17 [00:00<00:00, 53.18it/s]\n",
      "Epoch 957/1000: 100%|██████████| 17/17 [00:00<00:00, 51.88it/s]\n",
      "Epoch 958/1000: 100%|██████████| 17/17 [00:00<00:00, 53.38it/s]\n",
      "Epoch 959/1000: 100%|██████████| 17/17 [00:00<00:00, 53.20it/s]\n",
      "Epoch 960/1000: 100%|██████████| 17/17 [00:00<00:00, 52.13it/s]\n"
     ]
    },
    {
     "name": "stdout",
     "output_type": "stream",
     "text": [
      "Epoch 960/1000\n",
      "Train Loss: 0.0481, Val Loss: 0.2214\n",
      "Learning Rate: 0.001000\n",
      "--------------------------------------------------\n"
     ]
    },
    {
     "name": "stderr",
     "output_type": "stream",
     "text": [
      "Epoch 961/1000: 100%|██████████| 17/17 [00:00<00:00, 53.40it/s]\n",
      "Epoch 962/1000: 100%|██████████| 17/17 [00:00<00:00, 51.89it/s]\n",
      "Epoch 963/1000: 100%|██████████| 17/17 [00:00<00:00, 52.21it/s]\n",
      "Epoch 964/1000: 100%|██████████| 17/17 [00:00<00:00, 51.26it/s]\n",
      "Epoch 965/1000: 100%|██████████| 17/17 [00:00<00:00, 53.47it/s]\n",
      "Epoch 966/1000: 100%|██████████| 17/17 [00:00<00:00, 53.21it/s]\n",
      "Epoch 967/1000: 100%|██████████| 17/17 [00:00<00:00, 50.45it/s]\n",
      "Epoch 968/1000: 100%|██████████| 17/17 [00:00<00:00, 51.50it/s]\n",
      "Epoch 969/1000: 100%|██████████| 17/17 [00:00<00:00, 53.16it/s]\n",
      "Epoch 970/1000: 100%|██████████| 17/17 [00:00<00:00, 53.10it/s]\n"
     ]
    },
    {
     "name": "stdout",
     "output_type": "stream",
     "text": [
      "Epoch 970/1000\n",
      "Train Loss: 0.0404, Val Loss: 0.2456\n",
      "Learning Rate: 0.001000\n",
      "--------------------------------------------------\n"
     ]
    },
    {
     "name": "stderr",
     "output_type": "stream",
     "text": [
      "Epoch 971/1000: 100%|██████████| 17/17 [00:00<00:00, 53.16it/s]\n",
      "Epoch 972/1000: 100%|██████████| 17/17 [00:00<00:00, 52.27it/s]\n",
      "Epoch 973/1000: 100%|██████████| 17/17 [00:00<00:00, 53.27it/s]\n",
      "Epoch 974/1000: 100%|██████████| 17/17 [00:00<00:00, 52.92it/s]\n",
      "Epoch 975/1000: 100%|██████████| 17/17 [00:00<00:00, 51.61it/s]\n",
      "Epoch 976/1000: 100%|██████████| 17/17 [00:00<00:00, 53.34it/s]\n",
      "Epoch 977/1000: 100%|██████████| 17/17 [00:00<00:00, 51.40it/s]\n",
      "Epoch 978/1000: 100%|██████████| 17/17 [00:00<00:00, 53.54it/s]\n",
      "Epoch 979/1000: 100%|██████████| 17/17 [00:00<00:00, 52.49it/s]\n",
      "Epoch 980/1000: 100%|██████████| 17/17 [00:00<00:00, 52.20it/s]\n"
     ]
    },
    {
     "name": "stdout",
     "output_type": "stream",
     "text": [
      "Epoch 980/1000\n",
      "Train Loss: 0.0419, Val Loss: 0.2235\n",
      "Learning Rate: 0.001000\n",
      "--------------------------------------------------\n"
     ]
    },
    {
     "name": "stderr",
     "output_type": "stream",
     "text": [
      "Epoch 981/1000: 100%|██████████| 17/17 [00:00<00:00, 50.00it/s]\n",
      "Epoch 982/1000: 100%|██████████| 17/17 [00:00<00:00, 52.06it/s]\n",
      "Epoch 983/1000: 100%|██████████| 17/17 [00:00<00:00, 52.45it/s]\n",
      "Epoch 984/1000: 100%|██████████| 17/17 [00:00<00:00, 52.19it/s]\n",
      "Epoch 985/1000: 100%|██████████| 17/17 [00:00<00:00, 53.30it/s]\n",
      "Epoch 986/1000: 100%|██████████| 17/17 [00:00<00:00, 53.32it/s]\n",
      "Epoch 987/1000: 100%|██████████| 17/17 [00:00<00:00, 52.57it/s]\n",
      "Epoch 988/1000: 100%|██████████| 17/17 [00:00<00:00, 52.95it/s]\n",
      "Epoch 989/1000: 100%|██████████| 17/17 [00:00<00:00, 52.09it/s]\n",
      "Epoch 990/1000: 100%|██████████| 17/17 [00:00<00:00, 53.39it/s]\n"
     ]
    },
    {
     "name": "stdout",
     "output_type": "stream",
     "text": [
      "Epoch 990/1000\n",
      "Train Loss: 0.0368, Val Loss: 0.2464\n",
      "Learning Rate: 0.001000\n",
      "--------------------------------------------------\n"
     ]
    },
    {
     "name": "stderr",
     "output_type": "stream",
     "text": [
      "Epoch 991/1000: 100%|██████████| 17/17 [00:00<00:00, 51.31it/s]\n",
      "Epoch 992/1000: 100%|██████████| 17/17 [00:00<00:00, 51.54it/s]\n",
      "Epoch 993/1000: 100%|██████████| 17/17 [00:00<00:00, 52.67it/s]\n",
      "Epoch 994/1000: 100%|██████████| 17/17 [00:00<00:00, 52.13it/s]\n",
      "Epoch 995/1000: 100%|██████████| 17/17 [00:00<00:00, 52.28it/s]\n",
      "Epoch 996/1000: 100%|██████████| 17/17 [00:00<00:00, 50.90it/s]\n",
      "Epoch 997/1000: 100%|██████████| 17/17 [00:00<00:00, 52.11it/s]\n",
      "Epoch 998/1000: 100%|██████████| 17/17 [00:00<00:00, 52.42it/s]\n",
      "Epoch 999/1000: 100%|██████████| 17/17 [00:00<00:00, 51.68it/s]\n",
      "Epoch 1000/1000: 100%|██████████| 17/17 [00:00<00:00, 52.57it/s]\n"
     ]
    },
    {
     "name": "stdout",
     "output_type": "stream",
     "text": [
      "Epoch 1000/1000\n",
      "Train Loss: 0.0444, Val Loss: 0.2648\n",
      "Learning Rate: 0.001000\n",
      "--------------------------------------------------\n",
      "\n",
      "Test MSE: 0.2474\n",
      "Test MAE: 0.3352\n",
      "Test R²:  0.7236\n"
     ]
    },
    {
     "data": {
      "image/png": "[encoded data removed]",
      "text/plain": [
       "<Figure size 1500x500 with 2 Axes>"
      ]
     },
     "metadata": {},
     "output_type": "display_data"
    },
    {
     "name": "stdout",
     "output_type": "stream",
     "text": [
      "\n",
      "Model saved as 'cnn_model_em_max_onehot.pth'\n"
     ]
    }
   ],
   "source": [
    "\"\"\"Main training pipeline.\"\"\"\n",
    "TARGET_PROPERTY = 'em_max'  # Change this to predict different properties\n",
    "\n",
    "# Available properties from your dataset:\n",
    "# brightness, ex_max, em_max, ext_coeff, lifetime, maturation, pka, stokes_shift, qy, agg, switch_type\n",
    "\n",
    "# Hyperparameters\n",
    "MAX_LENGTH = 238\n",
    "BATCH_SIZE = 64\n",
    "NUM_EPOCHS = 1000\n",
    "LEARNING_RATE = 0.001\n",
    "\n",
    "sample_batch = next(iter(train_loader))[0]\n",
    "embedding_dim = sample_batch.shape[-1]\n",
    "\n",
    "# Instantiate the new model\n",
    "# выбор между EmbeddingLSTM и ProteinLSTM\n",
    "model = ProteinCNN(\n",
    "    num_amino_acids=20, \n",
    "    num_filters=128,\n",
    "    dropout_rate=0.5\n",
    ")\n",
    "\n",
    "# Train the model\n",
    "trained_model, train_losses, val_losses = train_model(\n",
    "    model, train_loader, val_loader, NUM_EPOCHS, LEARNING_RATE\n",
    ")\n",
    "\n",
    "# Evaluate\n",
    "predictions1, true_values, mse, mae, r2 = evaluate_model(\n",
    "    trained_model, test_loader, dataset_test, TARGET_PROPERTY\n",
    ")\n",
    "\n",
    "# Plot\n",
    "plot_results(train_losses, val_losses, predictions1, true_values, TARGET_PROPERTY)\n",
    "\n",
    "# Save model\n",
    "torch.save(trained_model.state_dict(), f'cnn_model_{TARGET_PROPERTY}_onehot.pth')\n",
    "print(f\"\\nModel saved as 'cnn_model_{TARGET_PROPERTY}_onehot.pth'\")"
   ]
  },
  {
   "cell_type": "code",
   "execution_count": 19,
   "id": "f01f60aa-9d66-4792-ab27-c5f020aa2bdd",
   "metadata": {},
   "outputs": [
    {
     "name": "stdout",
     "output_type": "stream",
     "text": [
      "\t RMSE: 31.98543930053711\n",
      "\t MAE: 24.92881965637207\n",
      "\t R2: 0.7231724858283997\n",
      "\t MAE (med.): 19.35626220703125\n"
     ]
    }
   ],
   "source": [
    "trained_model.eval()\n",
    "\n",
    "predictions = []\n",
    "true_values = []\n",
    "\n",
    "with torch.no_grad():\n",
    "    for sequences, targets in test_loader:\n",
    "        sequences, targets = sequences.to(device), targets.to(device)\n",
    "        batch_predictions = model(sequences).squeeze()\n",
    "\n",
    "        predictions.extend(batch_predictions.cpu().numpy())\n",
    "        true_values.extend(targets.cpu().numpy())\n",
    "\n",
    "    # Convert back to original scale\n",
    "predictions = np.array(predictions)\n",
    "true_values = np.array(true_values)\n",
    "\n",
    "zv = get_regression_metrics(\n",
    "    dataset.rescale_targets(predictions, TARGET_PROPERTY),\n",
    "    dataset.rescale_targets(true_values, TARGET_PROPERTY)\n",
    ")\n",
    "print(f'\\t RMSE: {zv[\"rmse\"]}')\n",
    "print(f'\\t MAE: {zv[\"mae\"]}')\n",
    "print(f'\\t R2: {zv[\"r2\"]}')\n",
    "print(f'\\t MAE (med.): {zv[\"mae_median\"]}')"
   ]
  },
  {
   "cell_type": "code",
   "execution_count": null,
   "id": "fac042b2-824f-4129-815b-68f17b7e6132",
   "metadata": {},
   "outputs": [],
   "source": []
  }
 ],
 "metadata": {
  "kernelspec": {
   "display_name": "venv",
   "language": "python",
   "name": "python3"
  },
  "language_info": {
   "codemirror_mode": {
    "name": "ipython",
    "version": 3
   },
   "file_extension": ".py",
   "mimetype": "text/x-python",
   "name": "python",
   "nbconvert_exporter": "python",
   "pygments_lexer": "ipython3",
   "version": "3.10.0"
  }
 },
 "nbformat": 4,
 "nbformat_minor": 5
}

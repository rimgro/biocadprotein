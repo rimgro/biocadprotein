{
 "cells": [
  {
   "cell_type": "markdown",
   "id": "7f49f573",
   "metadata": {},
   "source": [
    "## Baseline-решение предсказания свойств ФБ, с помощью KNN"
   ]
  },
  {
   "cell_type": "markdown",
   "id": "861e7e63",
   "metadata": {},
   "source": [
    "### Подготовка к работе"
   ]
  },
  {
   "cell_type": "code",
   "execution_count": null,
   "id": "b659754e",
   "metadata": {},
   "outputs": [],
   "source": [
    "! pip install --upgrade git+https://github.com/rimgro/biocadprotein.git"
   ]
  },
  {
   "cell_type": "code",
   "execution_count": null,
   "id": "30e8a818",
   "metadata": {},
   "outputs": [
    {
     "name": "stderr",
     "output_type": "stream",
     "text": [
      "/home/paa/Develop/biocadprotein/.venv/lib64/python3/site-packages/tqdm/auto.py:21: TqdmWarning: IProgress not found. Please update jupyter and ipywidgets. See https://ipywidgets.readthedocs.io/en/stable/user_install.html\n",
      "  from .autonotebook import tqdm as notebook_tqdm\n"
     ]
    }
   ],
   "source": [
    "from fpgen.prop_prediction.dataset import FPbase\n",
    "from fpgen.generation.metrics import identity\n",
    "\n",
    "from fpgen.prop_prediction.metrics import get_regression_metrics, get_classification_metrics\n",
    "\n",
    "from sklearn.model_selection import train_test_split, KFold\n",
    "\n",
    "from sklearn.model_selection import train_test_split, GridSearchCV, cross_validate\n",
    "from sklearn.neighbors import KNeighborsRegressor, KNeighborsClassifier\n",
    "from sklearn.metrics import mean_absolute_error, mean_squared_error, r2_score\n",
    "\n",
    "import pandas as pd\n",
    "import numpy as np\n",
    "from tqdm import tqdm\n",
    "from collections import Counter\n",
    "\n",
    "import ast"
   ]
  },
  {
   "cell_type": "markdown",
   "id": "8a824e8f",
   "metadata": {},
   "source": [
    "### Загрузка датасета"
   ]
  },
  {
   "cell_type": "code",
   "execution_count": 2,
   "id": "efe2b181",
   "metadata": {},
   "outputs": [],
   "source": [
    "dataset = FPbase('dataset.csv')\n",
    "#df_ident = pd.read_csv('../data/sequence_distance_matrix.csv', index_col=0)"
   ]
  },
  {
   "cell_type": "markdown",
   "id": "672d986b",
   "metadata": {},
   "source": [
    "### Реализация алгоритма KNN"
   ]
  },
  {
   "cell_type": "markdown",
   "id": "a85be76e",
   "metadata": {},
   "source": [
    "Реализация KNN в задаче регрессии и классификации."
   ]
  },
  {
   "cell_type": "code",
   "execution_count": 32,
   "id": "95e5845c",
   "metadata": {},
   "outputs": [],
   "source": [
    "def knn(x_train, y_train, x_test, knn_type):\n",
    "    params = {'n_neighbors' : range(1, 30)}\n",
    "\n",
    "    if knn_type == 'reg':\n",
    "\n",
    "        knn_regressor = KNeighborsRegressor()\n",
    "        grid = GridSearchCV(knn_regressor, params, cv=5, scoring='neg_mean_squared_error') # MSE\n",
    "        grid.fit(x_train, y_train)\n",
    "\n",
    "        knn_regressor = KNeighborsRegressor(n_neighbors=grid.best_params_['n_neighbors'])\n",
    "        knn_regressor.fit(x_train, y_train)\n",
    "        predictions = knn_regressor.predict(x_test)\n",
    "\n",
    "    elif knn_type == 'class':\n",
    "\n",
    "        knn_classif = KNeighborsClassifier()\n",
    "        grid = GridSearchCV(knn_classif, params, cv=5, scoring='accuracy')\n",
    "        grid.fit(x_train, y_train)\n",
    "\n",
    "        scoring = ['accuracy', 'precision_weighted', 'recall_weighted', 'f1_weighted'] # метрики\n",
    "        results = cross_validate(knn_classif, x_train, y_train, cv=5, scoring=scoring)\n",
    "\n",
    "        knn_classif = KNeighborsClassifier(n_neighbors=grid.best_params_['n_neighbors'])\n",
    "        knn_classif.fit(x_train, y_train)\n",
    "        predictions = knn_classif.predict(x_test)\n",
    "        \n",
    "    return predictions"
   ]
  },
  {
   "cell_type": "markdown",
   "id": "b2ff7b0c",
   "metadata": {},
   "source": [
    "## Метрики"
   ]
  },
  {
   "cell_type": "code",
   "execution_count": 4,
   "id": "0b74a2dc",
   "metadata": {},
   "outputs": [],
   "source": [
    "def metrics_reg(metrics):\n",
    "    print(f'\\t RMSE: {metrics['rmse']}')\n",
    "    print(f'\\t MAE: {metrics['mae']}')\n",
    "    print(f'\\t R2: {metrics['r2']}')\n",
    "    print(f'\\t MAE (med.): {metrics['mae_median']}')\n",
    "\n",
    "def metrics_class(metrics):\n",
    "    print(f'\\t Accuracy: {metrics['accuracy']}')\n",
    "    print(f'\\t Precision: {metrics['precision']}')\n",
    "    print(f'\\t Recall: {metrics['recall']}')\n",
    "    print(f'\\t F1: {metrics['f1']}')"
   ]
  },
  {
   "cell_type": "code",
   "execution_count": 28,
   "id": "fd5fe38a",
   "metadata": {},
   "outputs": [],
   "source": [
    "def preproc(data):\n",
    "    processed = []\n",
    "    for line in data:\n",
    "        clean_line = line.replace('\\n', ' ').strip('[]')\n",
    "        numbers = np.fromstring(clean_line, sep=' ')\n",
    "        processed.append(numbers.tolist())\n",
    "    return np.array(processed)"
   ]
  },
  {
   "cell_type": "code",
   "execution_count": 33,
   "id": "1cc9067d",
   "metadata": {},
   "outputs": [
    {
     "name": "stdout",
     "output_type": "stream",
     "text": [
      "brightness\n",
      "Scaled:\n",
      "\t RMSE: 0.8649779640509915\n",
      "\t MAE: 0.5486206497799242\n",
      "\t R2: 0.3045003834261304\n",
      "\t MAE (med.): 0.3480402924762287\n",
      "Rescaled:\n",
      "\t RMSE: 26.671208434412037\n",
      "\t MAE: 16.916472222222225\n",
      "\t R2: 0.3045003834261306\n",
      "\t MAE (med.): 10.731666666666667\n",
      "\n",
      "em_max\n",
      "Scaled:\n",
      "\t RMSE: 0.5803172595847197\n",
      "\t MAE: 0.3649787673252432\n",
      "\t R2: 0.6237802764003194\n",
      "\t MAE (med.): 0.20854598241252914\n",
      "Rescaled:\n",
      "\t RMSE: 37.28794574931144\n",
      "\t MAE: 23.451497005988028\n",
      "\t R2: 0.6237802764003193\n",
      "\t MAE (med.): 13.399999999999977\n",
      "\n",
      "ex_max\n",
      "Scaled:\n",
      "\t RMSE: 0.7192895445138199\n",
      "\t MAE: 0.4948954361019093\n",
      "\t R2: 0.452173517072031\n",
      "\t MAE (med.): 0.30179293745218827\n",
      "Rescaled:\n",
      "\t RMSE: 48.06498324145432\n",
      "\t MAE: 33.07032755298651\n",
      "\t R2: 0.4521735170720308\n",
      "\t MAE (med.): 20.16666666666663\n",
      "\n",
      "ext_coeff\n",
      "Scaled:\n",
      "\t RMSE: 0.954774649612648\n",
      "\t MAE: 0.6621336212847821\n",
      "\t R2: 0.2586937844734908\n",
      "\t MAE (med.): 0.47946678493033645\n",
      "Rescaled:\n",
      "\t RMSE: 36046.98229471582\n",
      "\t MAE: 24998.484126984127\n",
      "\t R2: 0.2586937844734908\n",
      "\t MAE (med.): 18102.0\n",
      "\n",
      "lifetime\n",
      "Scaled:\n",
      "\t RMSE: 1.8979913883620985\n",
      "\t MAE: 0.7346366954054352\n",
      "\t R2: 0.07497226816446112\n",
      "\t MAE (med.): 0.3354898257706318\n",
      "Rescaled:\n",
      "\t RMSE: 2.206375826035602\n",
      "\t MAE: 0.854\n",
      "\t R2: 0.0749722681644609\n",
      "\t MAE (med.): 0.3899999999999999\n",
      "\n",
      "maturation\n",
      "Scaled:\n",
      "\t RMSE: 0.8086387051696131\n",
      "\t MAE: 0.4061548241074735\n",
      "\t R2: -1.677669501203059\n",
      "\t MAE (med.): 0.1579039320689028\n",
      "Rescaled:\n",
      "\t RMSE: 171.300133780839\n",
      "\t MAE: 86.03888888888888\n",
      "\t R2: -1.6776695012030607\n",
      "\t MAE (med.): 33.45\n",
      "\n",
      "pka\n",
      "Scaled:\n",
      "\t RMSE: 1.1540383826710894\n",
      "\t MAE: 0.7716146738587802\n",
      "\t R2: 0.21359348126271815\n",
      "\t MAE (med.): 0.5110674753514715\n",
      "Rescaled:\n",
      "\t RMSE: 1.298404030856247\n",
      "\t MAE: 0.868140625\n",
      "\t R2: 0.21359348126271815\n",
      "\t MAE (med.): 0.5749999999999997\n",
      "\n",
      "stokes_shift\n",
      "Scaled:\n",
      "\t RMSE: 0.7245194854895736\n",
      "\t MAE: 0.4725860104405594\n",
      "\t R2: 0.08468648649884736\n",
      "\t MAE (med.): 0.24399527738452698\n",
      "Rescaled:\n",
      "\t RMSE: 27.318476562148316\n",
      "\t MAE: 17.819161676646704\n",
      "\t R2: 0.08468648649884725\n",
      "\t MAE (med.): 9.200000000000003\n",
      "\n",
      "qy\n",
      "Scaled:\n",
      "\t RMSE: 0.7213618667634389\n",
      "\t MAE: 0.5565624464472493\n",
      "\t R2: 0.45938935933208347\n",
      "\t MAE (med.): 0.45836299078812726\n",
      "Rescaled:\n",
      "\t RMSE: 0.19409936088975208\n",
      "\t MAE: 0.14975620437956208\n",
      "\t R2: 0.4593893593320836\n",
      "\t MAE (med.): 0.1233333333333334\n",
      "\n",
      "agg\n"
     ]
    },
    {
     "name": "stderr",
     "output_type": "stream",
     "text": [
      "/home/paa/Develop/biocadprotein/.venv/lib64/python3/site-packages/sklearn/metrics/_classification.py:1706: UndefinedMetricWarning: Precision is ill-defined and being set to 0.0 in labels with no predicted samples. Use `zero_division` parameter to control this behavior.\n",
      "  _warn_prf(average, modifier, f\"{metric.capitalize()} is\", result.shape[0])\n",
      "/home/paa/Develop/biocadprotein/.venv/lib64/python3/site-packages/sklearn/metrics/_classification.py:1706: UndefinedMetricWarning: Precision is ill-defined and being set to 0.0 in labels with no predicted samples. Use `zero_division` parameter to control this behavior.\n",
      "  _warn_prf(average, modifier, f\"{metric.capitalize()} is\", result.shape[0])\n",
      "/home/paa/Develop/biocadprotein/.venv/lib64/python3/site-packages/sklearn/model_selection/_split.py:811: UserWarning: The least populated class in y has only 4 members, which is less than n_splits=5.\n",
      "  warnings.warn(\n"
     ]
    },
    {
     "name": "stdout",
     "output_type": "stream",
     "text": [
      "\t Accuracy: 0.7762237762237763\n",
      "\t Precision: 0.7624345351618079\n",
      "\t Recall: 0.7762237762237763\n",
      "\t F1: 0.7646065758365224\n",
      "\n",
      "switch_type\n",
      "\t Accuracy: 0.864406779661017\n",
      "\t Precision: 0.7981510015408321\n",
      "\t Recall: 0.864406779661017\n",
      "\t F1: 0.8291210755917899\n",
      "\n"
     ]
    },
    {
     "name": "stderr",
     "output_type": "stream",
     "text": [
      "/home/paa/Develop/biocadprotein/.venv/lib64/python3/site-packages/sklearn/model_selection/_split.py:811: UserWarning: The least populated class in y has only 4 members, which is less than n_splits=5.\n",
      "  warnings.warn(\n",
      "/home/paa/Develop/biocadprotein/.venv/lib64/python3/site-packages/sklearn/metrics/_classification.py:1706: UndefinedMetricWarning: Precision is ill-defined and being set to 0.0 in labels with no predicted samples. Use `zero_division` parameter to control this behavior.\n",
      "  _warn_prf(average, modifier, f\"{metric.capitalize()} is\", result.shape[0])\n",
      "/home/paa/Develop/biocadprotein/.venv/lib64/python3/site-packages/sklearn/metrics/_classification.py:1706: UndefinedMetricWarning: Precision is ill-defined and being set to 0.0 in labels with no predicted samples. Use `zero_division` parameter to control this behavior.\n",
      "  _warn_prf(average, modifier, f\"{metric.capitalize()} is\", result.shape[0])\n",
      "/home/paa/Develop/biocadprotein/.venv/lib64/python3/site-packages/sklearn/metrics/_classification.py:1706: UndefinedMetricWarning: Precision is ill-defined and being set to 0.0 in labels with no predicted samples. Use `zero_division` parameter to control this behavior.\n",
      "  _warn_prf(average, modifier, f\"{metric.capitalize()} is\", result.shape[0])\n",
      "/home/paa/Develop/biocadprotein/.venv/lib64/python3/site-packages/sklearn/metrics/_classification.py:1706: UndefinedMetricWarning: Precision is ill-defined and being set to 0.0 in labels with no predicted samples. Use `zero_division` parameter to control this behavior.\n",
      "  _warn_prf(average, modifier, f\"{metric.capitalize()} is\", result.shape[0])\n",
      "/home/paa/Develop/biocadprotein/.venv/lib64/python3/site-packages/sklearn/metrics/_classification.py:1706: UndefinedMetricWarning: Precision is ill-defined and being set to 0.0 in labels with no predicted samples. Use `zero_division` parameter to control this behavior.\n",
      "  _warn_prf(average, modifier, f\"{metric.capitalize()} is\", result.shape[0])\n"
     ]
    }
   ],
   "source": [
    "for item in dataset.targets:\n",
    "    if item != 'agg' and item != 'switch_type':\n",
    "        print(item)\n",
    "        x_train, y_train = dataset.get_train(item)\n",
    "        x_test, y_test = dataset.get_test(item)\n",
    "\n",
    "        x_train_processed = preproc(x_train)\n",
    "        x_test_processed = preproc(x_test)\n",
    "        \n",
    "        y_pred = knn(x_train_processed, y_train, x_test_processed, 'reg')\n",
    "\n",
    "        y_test_rescaled = dataset.rescale_targets(y_test, item)\n",
    "        y_pred_rescaled = dataset.rescale_targets(y_pred, item)\n",
    "\n",
    "        print('Scaled:')\n",
    "        metrics_reg(get_regression_metrics(y_pred, y_test))\n",
    "        print('Rescaled:')\n",
    "        metrics_reg(get_regression_metrics(y_pred_rescaled, y_test_rescaled))\n",
    "        print('')\n",
    "    else:\n",
    "        print(item)\n",
    "        x_train, y_train = dataset.get_train(item, is_scaled=False)\n",
    "        x_test, y_test = dataset.get_test(item, is_scaled=False)\n",
    "\n",
    "        x_train_processed = preproc(x_train)\n",
    "        x_test_processed = preproc(x_test)\n",
    "        \n",
    "        y_pred = knn(x_train_processed, y_train, x_test_processed, 'class')\n",
    "        metrics_class(get_classification_metrics(y_pred, y_test))\n",
    "        print('')\n"
   ]
  }
 ],
 "metadata": {
  "kernelspec": {
   "display_name": ".venv",
   "language": "python",
   "name": "python3"
  },
  "language_info": {
   "codemirror_mode": {
    "name": "ipython",
    "version": 3
   },
   "file_extension": ".py",
   "mimetype": "text/x-python",
   "name": "python",
   "nbconvert_exporter": "python",
   "pygments_lexer": "ipython3",
   "version": "3.12.10"
  }
 },
 "nbformat": 4,
 "nbformat_minor": 5
}

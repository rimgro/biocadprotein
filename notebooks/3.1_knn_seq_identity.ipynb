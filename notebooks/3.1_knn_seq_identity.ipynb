{
 "cells": [
  {
   "cell_type": "markdown",
   "id": "7f49f573",
   "metadata": {},
   "source": [
    "## Baseline-решение предсказания свойств ФБ, с помощью kNN (сравнение последовательностей)"
   ]
  },
  {
   "cell_type": "markdown",
   "id": "861e7e63",
   "metadata": {},
   "source": [
    "### Подготовка к работе"
   ]
  },
  {
   "cell_type": "code",
   "execution_count": null,
   "id": "b659754e",
   "metadata": {},
   "outputs": [],
   "source": [
    "! pip install --upgrade git+https://github.com/rimgro/biocadprotein.git"
   ]
  },
  {
   "cell_type": "code",
   "execution_count": 16,
   "id": "30e8a818",
   "metadata": {},
   "outputs": [],
   "source": [
    "from fpgen.prop_prediction.dataset import FPbase\n",
    "from fpgen.generation.metrics import identity\n",
    "\n",
    "from fpgen.prop_prediction.metrics import get_regression_metrics, get_classification_metrics, bootstrap_metric_ci\n",
    "\n",
    "from sklearn.model_selection import train_test_split, KFold\n",
    "\n",
    "import pandas as pd\n",
    "import numpy as np\n",
    "from tqdm import tqdm\n",
    "from collections import Counter"
   ]
  },
  {
   "cell_type": "markdown",
   "id": "8a824e8f",
   "metadata": {},
   "source": [
    "### Загрузка датасета"
   ]
  },
  {
   "cell_type": "code",
   "execution_count": 17,
   "id": "efe2b181",
   "metadata": {},
   "outputs": [],
   "source": [
    "dataset = FPbase('data/fpbase.csv')\n",
    "df_ident = pd.read_csv('data/sequence_distance_matrix.csv', index_col=0)"
   ]
  },
  {
   "cell_type": "markdown",
   "id": "672d986b",
   "metadata": {},
   "source": [
    "### Реализация алгоритма KNN"
   ]
  },
  {
   "cell_type": "markdown",
   "id": "692da9a1",
   "metadata": {},
   "source": [
    "Поиск расстояния между последовательнотсями аминокислот."
   ]
  },
  {
   "cell_type": "code",
   "execution_count": 18,
   "id": "0a3a87b3",
   "metadata": {},
   "outputs": [],
   "source": [
    "def ident(seq_1, seq_2):\n",
    "    return df_ident.loc[seq_1.strip(), seq_2.strip()]"
   ]
  },
  {
   "cell_type": "markdown",
   "id": "a85be76e",
   "metadata": {},
   "source": [
    "Реализация KNN в задаче регрессии и классификации."
   ]
  },
  {
   "cell_type": "code",
   "execution_count": 19,
   "id": "95e5845c",
   "metadata": {},
   "outputs": [],
   "source": [
    "def knn(x_train, y_train, x_test, k, knn_type):\n",
    "    predictions = []\n",
    "    for test_seq in x_test:\n",
    "        similarities = []\n",
    "        for train_seq, train_target in zip(x_train, y_train):\n",
    "            sim = ident(test_seq, train_seq)\n",
    "            similarities.append((train_target, sim))\n",
    "        similarities.sort(key=lambda x: -x[1])\n",
    "        neighbors = similarities[:k]\n",
    "        if knn_type == 'reg':\n",
    "            pred = np.mean([neighbor[0] for neighbor in neighbors])\n",
    "            predictions.append(pred)\n",
    "        elif knn_type == 'class':\n",
    "            neighbor_classes = [neighbor[0] for neighbor in neighbors]\n",
    "            most_common_class = Counter(neighbor_classes).most_common(1)[0][0]\n",
    "            predictions.append(most_common_class)\n",
    "    return predictions"
   ]
  },
  {
   "cell_type": "markdown",
   "id": "2a7be260",
   "metadata": {},
   "source": [
    "Подбор гиперпараметров, методом кросс-валидации."
   ]
  },
  {
   "cell_type": "code",
   "execution_count": 21,
   "id": "592b0ea8",
   "metadata": {},
   "outputs": [],
   "source": [
    "def cross_validate(x_train, y_train, kf_split, k_max, problem_type='class'):\n",
    "    kf = KFold(n_splits=kf_split)\n",
    "    \n",
    "    if problem_type == 'reg':\n",
    "        best_score = np.inf\n",
    "    elif problem_type == 'class':\n",
    "        best_score = -np.inf\n",
    "    \n",
    "    best_k = 1\n",
    "\n",
    "    for k in tqdm(range(1, k_max + 1)):\n",
    "        fold_scores = []\n",
    "\n",
    "        for train_index, test_index in kf.split(x_train):\n",
    "            X_train, X_test = x_train[train_index], x_train[test_index]\n",
    "            y_train_fold, y_test = y_train[train_index], y_train[test_index]\n",
    "\n",
    "            if problem_type == 'reg':\n",
    "                predict = knn(X_train, y_train_fold, X_test, k, knn_type='reg')\n",
    "            elif problem_type == 'class':\n",
    "                predict = knn(X_train, y_train_fold, X_test, k, knn_type='class')\n",
    "\n",
    "            valid_mask = ~pd.isna(predict)\n",
    "            if sum(valid_mask) == 0:\n",
    "                continue\n",
    "\n",
    "            if problem_type == 'reg':\n",
    "                metrics = get_regression_metrics(np.array(predict)[valid_mask], y_test[valid_mask])\n",
    "                fold_scores.append(metrics['rmse'])\n",
    "            elif problem_type == 'class':\n",
    "                metrics = get_classification_metrics(np.array(predict)[valid_mask], y_test[valid_mask])\n",
    "                fold_scores.append(metrics['accuracy'])\n",
    "\n",
    "        if not fold_scores:\n",
    "            continue\n",
    "            \n",
    "        mean_score = np.mean(fold_scores)\n",
    "        \n",
    "        if problem_type == 'reg' and mean_score < best_score:\n",
    "            best_score = mean_score\n",
    "            best_k = k\n",
    "        elif problem_type == 'class' and mean_score > best_score:\n",
    "            best_score = mean_score\n",
    "            best_k = k\n",
    "            \n",
    "    return best_k"
   ]
  },
  {
   "cell_type": "markdown",
   "id": "b2ff7b0c",
   "metadata": {},
   "source": [
    "## Метрики"
   ]
  },
  {
   "cell_type": "code",
   "execution_count": 22,
   "id": "0b74a2dc",
   "metadata": {},
   "outputs": [],
   "source": [
    "def metrics_reg(metrics):\n",
    "    print(f'\\t RMSE: {metrics[\"rmse\"]}')\n",
    "    print(f'\\t MAE: {metrics[\"mae\"]}')\n",
    "    print(f'\\t R2: {metrics[\"r2\"]}')\n",
    "    print(f'\\t MAE (med.): {metrics[\"mae_median\"]}')\n",
    "\n",
    "def metrics_class(metrics):\n",
    "    print(f'\\t Accuracy: {metrics[\"accuracy\"]}')\n",
    "    print(f'\\t Precision: {metrics[\"precision\"]}')\n",
    "    print(f'\\t Recall: {metrics[\"recall\"]}')\n",
    "    print(f'\\t F1: {metrics[\"f1\"]}')"
   ]
  },
  {
   "cell_type": "code",
   "execution_count": 23,
   "id": "1cc9067d",
   "metadata": {},
   "outputs": [
    {
     "name": "stdout",
     "output_type": "stream",
     "text": [
      "brightness\n"
     ]
    },
    {
     "name": "stderr",
     "output_type": "stream",
     "text": [
      " 23%|██▎       | 7/30 [00:06<00:21,  1.08it/s]\n"
     ]
    },
    {
     "ename": "KeyboardInterrupt",
     "evalue": "",
     "output_type": "error",
     "traceback": [
      "\u001b[1;31m---------------------------------------------------------------------------\u001b[0m",
      "\u001b[1;31mKeyboardInterrupt\u001b[0m                         Traceback (most recent call last)",
      "Cell \u001b[1;32mIn[23], line 7\u001b[0m\n\u001b[0;32m      4\u001b[0m x_train, y_train \u001b[38;5;241m=\u001b[39m dataset\u001b[38;5;241m.\u001b[39mget_train(item)\n\u001b[0;32m      5\u001b[0m x_test, y_test \u001b[38;5;241m=\u001b[39m dataset\u001b[38;5;241m.\u001b[39mget_test(item)\n\u001b[1;32m----> 7\u001b[0m k \u001b[38;5;241m=\u001b[39m \u001b[43mcross_validate\u001b[49m\u001b[43m(\u001b[49m\u001b[43mx_train\u001b[49m\u001b[43m,\u001b[49m\u001b[43m \u001b[49m\u001b[43my_train\u001b[49m\u001b[43m,\u001b[49m\u001b[43m \u001b[49m\u001b[38;5;241;43m4\u001b[39;49m\u001b[43m,\u001b[49m\u001b[43m \u001b[49m\u001b[38;5;241;43m30\u001b[39;49m\u001b[43m,\u001b[49m\u001b[43m \u001b[49m\u001b[38;5;124;43m'\u001b[39;49m\u001b[38;5;124;43mreg\u001b[39;49m\u001b[38;5;124;43m'\u001b[39;49m\u001b[43m)\u001b[49m\n\u001b[0;32m      8\u001b[0m \u001b[38;5;28mprint\u001b[39m(\u001b[38;5;124mf\u001b[39m\u001b[38;5;124m'\u001b[39m\u001b[38;5;124mk: \u001b[39m\u001b[38;5;132;01m{\u001b[39;00mk\u001b[38;5;132;01m}\u001b[39;00m\u001b[38;5;124m'\u001b[39m)\n\u001b[0;32m      9\u001b[0m y_pred \u001b[38;5;241m=\u001b[39m knn(x_train, y_train, x_test, k, \u001b[38;5;124m'\u001b[39m\u001b[38;5;124mreg\u001b[39m\u001b[38;5;124m'\u001b[39m)\n",
      "Cell \u001b[1;32mIn[21], line 19\u001b[0m, in \u001b[0;36mcross_validate\u001b[1;34m(x_train, y_train, kf_split, k_max, problem_type)\u001b[0m\n\u001b[0;32m     16\u001b[0m y_train_fold, y_test \u001b[38;5;241m=\u001b[39m y_train[train_index], y_train[test_index]\n\u001b[0;32m     18\u001b[0m \u001b[38;5;28;01mif\u001b[39;00m problem_type \u001b[38;5;241m==\u001b[39m \u001b[38;5;124m'\u001b[39m\u001b[38;5;124mreg\u001b[39m\u001b[38;5;124m'\u001b[39m:\n\u001b[1;32m---> 19\u001b[0m     predict \u001b[38;5;241m=\u001b[39m \u001b[43mknn\u001b[49m\u001b[43m(\u001b[49m\u001b[43mX_train\u001b[49m\u001b[43m,\u001b[49m\u001b[43m \u001b[49m\u001b[43my_train_fold\u001b[49m\u001b[43m,\u001b[49m\u001b[43m \u001b[49m\u001b[43mX_test\u001b[49m\u001b[43m,\u001b[49m\u001b[43m \u001b[49m\u001b[43mk\u001b[49m\u001b[43m,\u001b[49m\u001b[43m \u001b[49m\u001b[43mknn_type\u001b[49m\u001b[38;5;241;43m=\u001b[39;49m\u001b[38;5;124;43m'\u001b[39;49m\u001b[38;5;124;43mreg\u001b[39;49m\u001b[38;5;124;43m'\u001b[39;49m\u001b[43m)\u001b[49m\n\u001b[0;32m     20\u001b[0m \u001b[38;5;28;01melif\u001b[39;00m problem_type \u001b[38;5;241m==\u001b[39m \u001b[38;5;124m'\u001b[39m\u001b[38;5;124mclass\u001b[39m\u001b[38;5;124m'\u001b[39m:\n\u001b[0;32m     21\u001b[0m     predict \u001b[38;5;241m=\u001b[39m knn(X_train, y_train_fold, X_test, k, knn_type\u001b[38;5;241m=\u001b[39m\u001b[38;5;124m'\u001b[39m\u001b[38;5;124mclass\u001b[39m\u001b[38;5;124m'\u001b[39m)\n",
      "Cell \u001b[1;32mIn[19], line 6\u001b[0m, in \u001b[0;36mknn\u001b[1;34m(x_train, y_train, x_test, k, knn_type)\u001b[0m\n\u001b[0;32m      4\u001b[0m similarities \u001b[38;5;241m=\u001b[39m []\n\u001b[0;32m      5\u001b[0m \u001b[38;5;28;01mfor\u001b[39;00m train_seq, train_target \u001b[38;5;129;01min\u001b[39;00m \u001b[38;5;28mzip\u001b[39m(x_train, y_train):\n\u001b[1;32m----> 6\u001b[0m     sim \u001b[38;5;241m=\u001b[39m \u001b[43mident\u001b[49m\u001b[43m(\u001b[49m\u001b[43mtest_seq\u001b[49m\u001b[43m,\u001b[49m\u001b[43m \u001b[49m\u001b[43mtrain_seq\u001b[49m\u001b[43m)\u001b[49m\n\u001b[0;32m      7\u001b[0m     similarities\u001b[38;5;241m.\u001b[39mappend((train_target, sim))\n\u001b[0;32m      8\u001b[0m similarities\u001b[38;5;241m.\u001b[39msort(key\u001b[38;5;241m=\u001b[39m\u001b[38;5;28;01mlambda\u001b[39;00m x: \u001b[38;5;241m-\u001b[39mx[\u001b[38;5;241m1\u001b[39m])\n",
      "Cell \u001b[1;32mIn[18], line 2\u001b[0m, in \u001b[0;36mident\u001b[1;34m(seq_1, seq_2)\u001b[0m\n\u001b[0;32m      1\u001b[0m \u001b[38;5;28;01mdef\u001b[39;00m\u001b[38;5;250m \u001b[39m\u001b[38;5;21mident\u001b[39m(seq_1, seq_2):\n\u001b[1;32m----> 2\u001b[0m     \u001b[38;5;28;01mreturn\u001b[39;00m \u001b[43mdf_ident\u001b[49m\u001b[38;5;241;43m.\u001b[39;49m\u001b[43mloc\u001b[49m\u001b[43m[\u001b[49m\u001b[43mseq_1\u001b[49m\u001b[38;5;241;43m.\u001b[39;49m\u001b[43mstrip\u001b[49m\u001b[43m(\u001b[49m\u001b[43m)\u001b[49m\u001b[43m,\u001b[49m\u001b[43m \u001b[49m\u001b[43mseq_2\u001b[49m\u001b[38;5;241;43m.\u001b[39;49m\u001b[43mstrip\u001b[49m\u001b[43m(\u001b[49m\u001b[43m)\u001b[49m\u001b[43m]\u001b[49m\n",
      "File \u001b[1;32mc:\\Users\\User\\Desktop\\biocadprotein\\venv\\lib\\site-packages\\pandas\\core\\indexing.py:1182\u001b[0m, in \u001b[0;36m_LocationIndexer.__getitem__\u001b[1;34m(self, key)\u001b[0m\n\u001b[0;32m   1180\u001b[0m key \u001b[38;5;241m=\u001b[39m \u001b[38;5;28mtuple\u001b[39m(\u001b[38;5;28mlist\u001b[39m(x) \u001b[38;5;28;01mif\u001b[39;00m is_iterator(x) \u001b[38;5;28;01melse\u001b[39;00m x \u001b[38;5;28;01mfor\u001b[39;00m x \u001b[38;5;129;01min\u001b[39;00m key)\n\u001b[0;32m   1181\u001b[0m key \u001b[38;5;241m=\u001b[39m \u001b[38;5;28mtuple\u001b[39m(com\u001b[38;5;241m.\u001b[39mapply_if_callable(x, \u001b[38;5;28mself\u001b[39m\u001b[38;5;241m.\u001b[39mobj) \u001b[38;5;28;01mfor\u001b[39;00m x \u001b[38;5;129;01min\u001b[39;00m key)\n\u001b[1;32m-> 1182\u001b[0m \u001b[38;5;28;01mif\u001b[39;00m \u001b[38;5;28;43mself\u001b[39;49m\u001b[38;5;241;43m.\u001b[39;49m\u001b[43m_is_scalar_access\u001b[49m\u001b[43m(\u001b[49m\u001b[43mkey\u001b[49m\u001b[43m)\u001b[49m:\n\u001b[0;32m   1183\u001b[0m     \u001b[38;5;28;01mreturn\u001b[39;00m \u001b[38;5;28mself\u001b[39m\u001b[38;5;241m.\u001b[39mobj\u001b[38;5;241m.\u001b[39m_get_value(\u001b[38;5;241m*\u001b[39mkey, takeable\u001b[38;5;241m=\u001b[39m\u001b[38;5;28mself\u001b[39m\u001b[38;5;241m.\u001b[39m_takeable)\n\u001b[0;32m   1184\u001b[0m \u001b[38;5;28;01mreturn\u001b[39;00m \u001b[38;5;28mself\u001b[39m\u001b[38;5;241m.\u001b[39m_getitem_tuple(key)\n",
      "File \u001b[1;32mc:\\Users\\User\\Desktop\\biocadprotein\\venv\\lib\\site-packages\\pandas\\core\\indexing.py:1277\u001b[0m, in \u001b[0;36m_LocIndexer._is_scalar_access\u001b[1;34m(self, key)\u001b[0m\n\u001b[0;32m   1272\u001b[0m     \u001b[38;5;28;01mif\u001b[39;00m \u001b[38;5;28misinstance\u001b[39m(k, \u001b[38;5;28mstr\u001b[39m) \u001b[38;5;129;01mand\u001b[39;00m ax\u001b[38;5;241m.\u001b[39m_supports_partial_string_indexing:\n\u001b[0;32m   1273\u001b[0m         \u001b[38;5;66;03m# partial string indexing, df.loc['2000', 'A']\u001b[39;00m\n\u001b[0;32m   1274\u001b[0m         \u001b[38;5;66;03m# should not be considered scalar\u001b[39;00m\n\u001b[0;32m   1275\u001b[0m         \u001b[38;5;28;01mreturn\u001b[39;00m \u001b[38;5;28;01mFalse\u001b[39;00m\n\u001b[1;32m-> 1277\u001b[0m     \u001b[38;5;28;01mif\u001b[39;00m \u001b[38;5;129;01mnot\u001b[39;00m ax\u001b[38;5;241m.\u001b[39m_index_as_unique:\n\u001b[0;32m   1278\u001b[0m         \u001b[38;5;28;01mreturn\u001b[39;00m \u001b[38;5;28;01mFalse\u001b[39;00m\n\u001b[0;32m   1280\u001b[0m \u001b[38;5;28;01mreturn\u001b[39;00m \u001b[38;5;28;01mTrue\u001b[39;00m\n",
      "\u001b[1;31mKeyboardInterrupt\u001b[0m: "
     ]
    }
   ],
   "source": [
    "for item in dataset.targets:\n",
    "    if item != 'agg' and item != 'switch_type':\n",
    "        print(item)\n",
    "        x_train, y_train = dataset.get_train(item)\n",
    "        x_test, y_test = dataset.get_test(item)\n",
    "\n",
    "        k = cross_validate(x_train, y_train, 4, 30, 'reg')\n",
    "        print(f'k: {k}')\n",
    "        y_pred = knn(x_train, y_train, x_test, k, 'reg')\n",
    "\n",
    "        y_test_rescaled = dataset.rescale_targets(y_test, item)\n",
    "        y_pred_rescaled = dataset.rescale_targets(y_pred, item)\n",
    "\n",
    "        print('Scaled:')\n",
    "        metrics_reg(get_regression_metrics(y_pred, y_test))\n",
    "        print('Rescaled:')\n",
    "        metrics_reg(get_regression_metrics(y_pred_rescaled, y_test_rescaled))\n",
    "        print('')\n",
    "    else:\n",
    "        print(item)\n",
    "        x_train, y_train = dataset.get_train(item, is_scaled=False)\n",
    "        x_test, y_test = dataset.get_test(item, is_scaled=False)\n",
    "\n",
    "        k = cross_validate(x_train, y_train, 4, 30, 'class')\n",
    "        print(f'k: {k}')\n",
    "        y_pred = knn(x_train, y_train, x_test, k, 'class')\n",
    "        \n",
    "        metrics_class(get_classification_metrics(y_pred, y_test))\n",
    "        print('')"
   ]
  },
  {
   "cell_type": "code",
   "execution_count": 26,
   "id": "a615ecf7",
   "metadata": {},
   "outputs": [
    {
     "name": "stdout",
     "output_type": "stream",
     "text": [
      "brightness\n"
     ]
    },
    {
     "name": "stderr",
     "output_type": "stream",
     "text": [
      "100%|██████████| 30/30 [00:23<00:00,  1.29it/s]\n"
     ]
    },
    {
     "name": "stdout",
     "output_type": "stream",
     "text": [
      "k: 5\n",
      "Scaled:\n",
      "\t RMSE: 0.7412173589207028\n",
      "\t MAE: 0.507162649397322\n",
      "\t R2: 0.48928575551555786\n",
      "\t MAE (med.): 0.3323219950617097\n",
      "Rescaled:\n",
      "\t RMSE: 22.855105559444116\n",
      "\t MAE: 15.638133333333334\n",
      "\t R2: 0.48928575551555775\n",
      "\t MAE (med.): 10.247\n",
      "\n",
      "\n",
      "\n",
      "Metrics with 95% confidence intervals:\n",
      "RMSE: 23.17 ± 5.63\n",
      "MAE: 15.68 ± 2.73\n",
      "R2: 0.47 ± 0.21\n",
      "MAE Median: 11.09 ± 3.01\n",
      "em_max\n"
     ]
    },
    {
     "name": "stderr",
     "output_type": "stream",
     "text": [
      "100%|██████████| 30/30 [00:47<00:00,  1.58s/it]\n"
     ]
    },
    {
     "name": "stdout",
     "output_type": "stream",
     "text": [
      "k: 1\n",
      "Scaled:\n",
      "\t RMSE: 0.5277660222068801\n",
      "\t MAE: 0.24677351033531916\n",
      "\t R2: 0.6888330674145302\n",
      "\t MAE (med.): 0.03112626603172086\n",
      "Rescaled:\n",
      "\t RMSE: 33.91129675940145\n",
      "\t MAE: 15.8562874251497\n",
      "\t R2: 0.6888330674145303\n",
      "\t MAE (med.): 2.0\n",
      "\n",
      "\n",
      "\n",
      "Metrics with 95% confidence intervals:\n",
      "RMSE: 33.36 ± 8.56\n",
      "MAE: 15.95 ± 4.39\n",
      "R2: 0.67 ± 0.16\n",
      "MAE Median: 3.50 ± 1.50\n",
      "ex_max\n"
     ]
    },
    {
     "name": "stderr",
     "output_type": "stream",
     "text": [
      "100%|██████████| 30/30 [01:05<00:00,  2.20s/it]\n"
     ]
    },
    {
     "name": "stdout",
     "output_type": "stream",
     "text": [
      "k: 3\n",
      "Scaled:\n",
      "\t RMSE: 0.560141054302693\n",
      "\t MAE: 0.3526708467947944\n",
      "\t R2: 0.6677765093830835\n",
      "\t MAE (med.): 0.1795792685665914\n",
      "Rescaled:\n",
      "\t RMSE: 37.43022624652124\n",
      "\t MAE: 23.566473988439306\n",
      "\t R2: 0.6677765093830835\n",
      "\t MAE (med.): 12.0\n",
      "\n",
      "\n",
      "\n",
      "Metrics with 95% confidence intervals:\n",
      "RMSE: 37.25 ± 6.97\n",
      "MAE: 23.88 ± 4.24\n",
      "R2: 0.65 ± 0.13\n",
      "MAE Median: 13.33 ± 4.00\n",
      "ext_coeff\n"
     ]
    },
    {
     "name": "stderr",
     "output_type": "stream",
     "text": [
      "100%|██████████| 30/30 [00:24<00:00,  1.21it/s]\n"
     ]
    },
    {
     "name": "stdout",
     "output_type": "stream",
     "text": [
      "k: 2\n",
      "Scaled:\n",
      "\t RMSE: 0.8337854146769339\n",
      "\t MAE: 0.5829458364789102\n",
      "\t R2: 0.4346668268309095\n",
      "\t MAE (med.): 0.35492514186645163\n",
      "Rescaled:\n",
      "\t RMSE: 31479.10147451571\n",
      "\t MAE: 22008.79365079365\n",
      "\t R2: 0.4346668268309094\n",
      "\t MAE (med.): 13400.0\n",
      "\n",
      "\n",
      "\n",
      "Metrics with 95% confidence intervals:\n",
      "RMSE: 31592.52 ± 6024.91\n",
      "MAE: 22285.22 ± 3953.62\n",
      "R2: 0.42 ± 0.15\n",
      "MAE Median: 15725.00 ± 3725.00\n",
      "lifetime\n"
     ]
    },
    {
     "name": "stderr",
     "output_type": "stream",
     "text": [
      "100%|██████████| 30/30 [00:02<00:00, 11.58it/s]\n"
     ]
    },
    {
     "name": "stdout",
     "output_type": "stream",
     "text": [
      "k: 4\n",
      "Scaled:\n",
      "\t RMSE: 1.5785460811112475\n",
      "\t MAE: 0.6631146885927949\n",
      "\t R2: 0.3601461220166019\n",
      "\t MAE (med.): 0.245165641909308\n",
      "Rescaled:\n",
      "\t RMSE: 1.8350272477541036\n",
      "\t MAE: 0.7708571428571429\n",
      "\t R2: 0.3601461220166018\n",
      "\t MAE (med.): 0.28500000000000014\n",
      "\n",
      "\n",
      "\n",
      "Metrics with 95% confidence intervals:\n",
      "RMSE: 1.77 ± 1.25\n",
      "MAE: 0.89 ± 0.52\n",
      "R2: 0.51 ± 0.30\n",
      "MAE Median: 0.34 ± 0.16\n",
      "maturation\n"
     ]
    },
    {
     "name": "stderr",
     "output_type": "stream",
     "text": [
      "100%|██████████| 30/30 [00:01<00:00, 15.20it/s]\n"
     ]
    },
    {
     "name": "stdout",
     "output_type": "stream",
     "text": [
      "k: 20\n",
      "Scaled:\n",
      "\t RMSE: 0.47439700100830845\n",
      "\t MAE: 0.3670827142930148\n",
      "\t R2: 0.07842265056394604\n",
      "\t MAE (med.): 0.3182861769729677\n",
      "Rescaled:\n",
      "\t RMSE: 100.49515218407302\n",
      "\t MAE: 77.76194444444444\n",
      "\t R2: 0.07842265056394582\n",
      "\t MAE (med.): 67.425\n",
      "\n",
      "\n",
      "\n",
      "Metrics with 95% confidence intervals:\n",
      "RMSE: 99.94 ± 24.16\n",
      "MAE: 78.72 ± 20.62\n",
      "R2: -1.21 ± 1.56\n",
      "MAE Median: 62.17 ± 24.81\n",
      "pka\n"
     ]
    },
    {
     "name": "stderr",
     "output_type": "stream",
     "text": [
      "100%|██████████| 30/30 [00:10<00:00,  2.96it/s]\n"
     ]
    },
    {
     "name": "stdout",
     "output_type": "stream",
     "text": [
      "k: 12\n",
      "Scaled:\n",
      "\t RMSE: 1.230376790021117\n",
      "\t MAE: 0.8062922685857539\n",
      "\t R2: 0.10611251314067638\n",
      "\t MAE (med.): 0.48329206908236994\n",
      "Rescaled:\n",
      "\t RMSE: 1.3842920717574583\n",
      "\t MAE: 0.9071562499999999\n",
      "\t R2: 0.10611251314067627\n",
      "\t MAE (med.): 0.5437499999999997\n",
      "\n",
      "\n",
      "\n",
      "Metrics with 95% confidence intervals:\n",
      "RMSE: 1.36 ± 0.35\n",
      "MAE: 0.91 ± 0.23\n",
      "R2: 0.09 ± 0.13\n",
      "MAE Median: 0.52 ± 0.15\n",
      "stokes_shift\n"
     ]
    },
    {
     "name": "stderr",
     "output_type": "stream",
     "text": [
      " 90%|█████████ | 27/30 [00:42<00:04,  1.57s/it]\n"
     ]
    },
    {
     "ename": "KeyboardInterrupt",
     "evalue": "",
     "output_type": "error",
     "traceback": [
      "\u001b[1;31m---------------------------------------------------------------------------\u001b[0m",
      "\u001b[1;31mKeyboardInterrupt\u001b[0m                         Traceback (most recent call last)",
      "Cell \u001b[1;32mIn[26], line 7\u001b[0m\n\u001b[0;32m      4\u001b[0m x_train, y_train \u001b[38;5;241m=\u001b[39m dataset\u001b[38;5;241m.\u001b[39mget_train(item)\n\u001b[0;32m      5\u001b[0m x_test, y_test \u001b[38;5;241m=\u001b[39m dataset\u001b[38;5;241m.\u001b[39mget_test(item)\n\u001b[1;32m----> 7\u001b[0m k \u001b[38;5;241m=\u001b[39m \u001b[43mcross_validate\u001b[49m\u001b[43m(\u001b[49m\u001b[43mx_train\u001b[49m\u001b[43m,\u001b[49m\u001b[43m \u001b[49m\u001b[43my_train\u001b[49m\u001b[43m,\u001b[49m\u001b[43m \u001b[49m\u001b[38;5;241;43m4\u001b[39;49m\u001b[43m,\u001b[49m\u001b[43m \u001b[49m\u001b[38;5;241;43m30\u001b[39;49m\u001b[43m,\u001b[49m\u001b[43m \u001b[49m\u001b[38;5;124;43m'\u001b[39;49m\u001b[38;5;124;43mreg\u001b[39;49m\u001b[38;5;124;43m'\u001b[39;49m\u001b[43m)\u001b[49m\n\u001b[0;32m      8\u001b[0m \u001b[38;5;28mprint\u001b[39m(\u001b[38;5;124mf\u001b[39m\u001b[38;5;124m'\u001b[39m\u001b[38;5;124mk: \u001b[39m\u001b[38;5;132;01m{\u001b[39;00mk\u001b[38;5;132;01m}\u001b[39;00m\u001b[38;5;124m'\u001b[39m)\n\u001b[0;32m      9\u001b[0m y_pred \u001b[38;5;241m=\u001b[39m knn(x_train, y_train, x_test, k, \u001b[38;5;124m'\u001b[39m\u001b[38;5;124mreg\u001b[39m\u001b[38;5;124m'\u001b[39m)\n",
      "Cell \u001b[1;32mIn[21], line 19\u001b[0m, in \u001b[0;36mcross_validate\u001b[1;34m(x_train, y_train, kf_split, k_max, problem_type)\u001b[0m\n\u001b[0;32m     16\u001b[0m y_train_fold, y_test \u001b[38;5;241m=\u001b[39m y_train[train_index], y_train[test_index]\n\u001b[0;32m     18\u001b[0m \u001b[38;5;28;01mif\u001b[39;00m problem_type \u001b[38;5;241m==\u001b[39m \u001b[38;5;124m'\u001b[39m\u001b[38;5;124mreg\u001b[39m\u001b[38;5;124m'\u001b[39m:\n\u001b[1;32m---> 19\u001b[0m     predict \u001b[38;5;241m=\u001b[39m \u001b[43mknn\u001b[49m\u001b[43m(\u001b[49m\u001b[43mX_train\u001b[49m\u001b[43m,\u001b[49m\u001b[43m \u001b[49m\u001b[43my_train_fold\u001b[49m\u001b[43m,\u001b[49m\u001b[43m \u001b[49m\u001b[43mX_test\u001b[49m\u001b[43m,\u001b[49m\u001b[43m \u001b[49m\u001b[43mk\u001b[49m\u001b[43m,\u001b[49m\u001b[43m \u001b[49m\u001b[43mknn_type\u001b[49m\u001b[38;5;241;43m=\u001b[39;49m\u001b[38;5;124;43m'\u001b[39;49m\u001b[38;5;124;43mreg\u001b[39;49m\u001b[38;5;124;43m'\u001b[39;49m\u001b[43m)\u001b[49m\n\u001b[0;32m     20\u001b[0m \u001b[38;5;28;01melif\u001b[39;00m problem_type \u001b[38;5;241m==\u001b[39m \u001b[38;5;124m'\u001b[39m\u001b[38;5;124mclass\u001b[39m\u001b[38;5;124m'\u001b[39m:\n\u001b[0;32m     21\u001b[0m     predict \u001b[38;5;241m=\u001b[39m knn(X_train, y_train_fold, X_test, k, knn_type\u001b[38;5;241m=\u001b[39m\u001b[38;5;124m'\u001b[39m\u001b[38;5;124mclass\u001b[39m\u001b[38;5;124m'\u001b[39m)\n",
      "Cell \u001b[1;32mIn[19], line 6\u001b[0m, in \u001b[0;36mknn\u001b[1;34m(x_train, y_train, x_test, k, knn_type)\u001b[0m\n\u001b[0;32m      4\u001b[0m similarities \u001b[38;5;241m=\u001b[39m []\n\u001b[0;32m      5\u001b[0m \u001b[38;5;28;01mfor\u001b[39;00m train_seq, train_target \u001b[38;5;129;01min\u001b[39;00m \u001b[38;5;28mzip\u001b[39m(x_train, y_train):\n\u001b[1;32m----> 6\u001b[0m     sim \u001b[38;5;241m=\u001b[39m \u001b[43mident\u001b[49m\u001b[43m(\u001b[49m\u001b[43mtest_seq\u001b[49m\u001b[43m,\u001b[49m\u001b[43m \u001b[49m\u001b[43mtrain_seq\u001b[49m\u001b[43m)\u001b[49m\n\u001b[0;32m      7\u001b[0m     similarities\u001b[38;5;241m.\u001b[39mappend((train_target, sim))\n\u001b[0;32m      8\u001b[0m similarities\u001b[38;5;241m.\u001b[39msort(key\u001b[38;5;241m=\u001b[39m\u001b[38;5;28;01mlambda\u001b[39;00m x: \u001b[38;5;241m-\u001b[39mx[\u001b[38;5;241m1\u001b[39m])\n",
      "Cell \u001b[1;32mIn[18], line 2\u001b[0m, in \u001b[0;36mident\u001b[1;34m(seq_1, seq_2)\u001b[0m\n\u001b[0;32m      1\u001b[0m \u001b[38;5;28;01mdef\u001b[39;00m\u001b[38;5;250m \u001b[39m\u001b[38;5;21mident\u001b[39m(seq_1, seq_2):\n\u001b[1;32m----> 2\u001b[0m     \u001b[38;5;28;01mreturn\u001b[39;00m \u001b[43mdf_ident\u001b[49m\u001b[38;5;241;43m.\u001b[39;49m\u001b[43mloc\u001b[49m[seq_1\u001b[38;5;241m.\u001b[39mstrip(), seq_2\u001b[38;5;241m.\u001b[39mstrip()]\n",
      "File \u001b[1;32mc:\\Users\\User\\Desktop\\biocadprotein\\venv\\lib\\site-packages\\pandas\\core\\indexing.py:609\u001b[0m, in \u001b[0;36mIndexingMixin.loc\u001b[1;34m(self)\u001b[0m\n\u001b[0;32m    305\u001b[0m \u001b[38;5;129m@property\u001b[39m\n\u001b[0;32m    306\u001b[0m \u001b[38;5;28;01mdef\u001b[39;00m\u001b[38;5;250m \u001b[39m\u001b[38;5;21mloc\u001b[39m(\u001b[38;5;28mself\u001b[39m) \u001b[38;5;241m-\u001b[39m\u001b[38;5;241m>\u001b[39m _LocIndexer:\n\u001b[0;32m    307\u001b[0m \u001b[38;5;250m    \u001b[39m\u001b[38;5;124;03m\"\"\"\u001b[39;00m\n\u001b[0;32m    308\u001b[0m \u001b[38;5;124;03m    Access a group of rows and columns by label(s) or a boolean array.\u001b[39;00m\n\u001b[0;32m    309\u001b[0m \n\u001b[1;32m   (...)\u001b[0m\n\u001b[0;32m    607\u001b[0m \u001b[38;5;124;03m    for more details and explanations of advanced indexing.\u001b[39;00m\n\u001b[0;32m    608\u001b[0m \u001b[38;5;124;03m    \"\"\"\u001b[39;00m\n\u001b[1;32m--> 609\u001b[0m     \u001b[38;5;28;01mreturn\u001b[39;00m \u001b[43m_LocIndexer\u001b[49m\u001b[43m(\u001b[49m\u001b[38;5;124;43m\"\u001b[39;49m\u001b[38;5;124;43mloc\u001b[39;49m\u001b[38;5;124;43m\"\u001b[39;49m\u001b[43m,\u001b[49m\u001b[43m \u001b[49m\u001b[38;5;28;43mself\u001b[39;49m\u001b[43m)\u001b[49m\n",
      "\u001b[1;31mKeyboardInterrupt\u001b[0m: "
     ]
    }
   ],
   "source": [
    "for item in dataset.targets:\n",
    "    if item != 'agg' and item != 'switch_type':\n",
    "        print(item)\n",
    "        x_train, y_train = dataset.get_train(item)\n",
    "        x_test, y_test = dataset.get_test(item)\n",
    "\n",
    "        k = cross_validate(x_train, y_train, 4, 30, 'reg')\n",
    "        print(f'k: {k}')\n",
    "        y_pred = knn(x_train, y_train, x_test, k, 'reg')\n",
    "\n",
    "        y_test_rescaled = dataset.rescale_targets(y_test, item)\n",
    "        y_pred_rescaled = dataset.rescale_targets(y_pred, item)\n",
    "\n",
    "        print('Scaled:')\n",
    "        metrics_reg(get_regression_metrics(y_pred, y_test))\n",
    "        print('Rescaled:')\n",
    "        metrics_reg(get_regression_metrics(y_pred_rescaled, y_test_rescaled))\n",
    "        print('')\n",
    "\n",
    "        print('')\n",
    "        metrics_ci = bootstrap_metric_ci(\n",
    "            y_pred_rescaled, y_test_rescaled, get_regression_metrics, \n",
    "            n_bootstrap=1000, alpha=0.05, random_state=42\n",
    "        )\n",
    "\n",
    "        print(\"\\nMetrics with 95% confidence intervals:\")\n",
    "        print(f\"RMSE: {(metrics_ci['rmse'][1] + metrics_ci['rmse'][2]) / 2:.2f} ± {(metrics_ci['rmse'][1] + metrics_ci['rmse'][2]) / 2 -metrics_ci['rmse'][1]:.2f}\")\n",
    "        print(f\"MAE: {(metrics_ci['mae'][1] + metrics_ci['mae'][2]) / 2:.2f} ± {(metrics_ci['mae'][1] + metrics_ci['mae'][2]) / 2 -metrics_ci['mae'][1]:.2f}\")\n",
    "        print(f\"R2: {(metrics_ci['r2'][1] + metrics_ci['r2'][2]) / 2:.2f} ± {(metrics_ci['r2'][1] + metrics_ci['r2'][2]) / 2 -metrics_ci['r2'][1]:.2f}\")\n",
    "        print(f\"MAE Median: {(metrics_ci['mae_median'][1] + metrics_ci['mae_median'][2]) / 2:.2f} ± {(metrics_ci['mae_median'][1] + metrics_ci['mae_median'][2]) / 2 -metrics_ci['mae_median'][1]:.2f}\")\n",
    "    else:\n",
    "        print(item)\n",
    "        x_train, y_train = dataset.get_train(item, is_scaled=False)\n",
    "        x_test, y_test = dataset.get_test(item, is_scaled=False)\n",
    "\n",
    "        k = cross_validate(x_train, y_train, 4, 30, 'class')\n",
    "        print(f'k: {k}')\n",
    "        y_pred = knn(x_train, y_train, x_test, k, 'class')\n",
    "        \n",
    "        metrics_class(get_classification_metrics(y_pred, y_test))\n",
    "        "
   ]
  }
 ],
 "metadata": {
  "kernelspec": {
   "display_name": "venv",
   "language": "python",
   "name": "python3"
  },
  "language_info": {
   "codemirror_mode": {
    "name": "ipython",
    "version": 3
   },
   "file_extension": ".py",
   "mimetype": "text/x-python",
   "name": "python",
   "nbconvert_exporter": "python",
   "pygments_lexer": "ipython3",
   "version": "3.10.0"
  }
 },
 "nbformat": 4,
 "nbformat_minor": 5
}

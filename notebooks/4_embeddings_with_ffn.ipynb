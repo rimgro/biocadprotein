{
 "cells": [
  {
   "cell_type": "markdown",
   "id": "6a215be2",
   "metadata": {},
   "source": [
    "# Обучение головы (FFN) на эмбеддингах"
   ]
  },
  {
   "cell_type": "markdown",
   "id": "b08e4476",
   "metadata": {},
   "source": [
    "Если запускаете, полностью клонировав репозиторий локально"
   ]
  },
  {
   "cell_type": "code",
   "execution_count": 2,
   "id": "cd674a79",
   "metadata": {},
   "outputs": [],
   "source": [
    "import sys\n",
    "import os\n",
    "\n",
    "sys.path.append(os.path.abspath(os.path.join(os.getcwd(), '..')))"
   ]
  },
  {
   "cell_type": "markdown",
   "id": "5710c146",
   "metadata": {},
   "source": [
    "Если используете блокнот независимо от проекта"
   ]
  },
  {
   "cell_type": "code",
   "execution_count": null,
   "id": "f39019df",
   "metadata": {},
   "outputs": [],
   "source": [
    "! pip install --upgrade git+https://github.com/rimgro/biocadprotein.git\n",
    "clear_output()"
   ]
  },
  {
   "cell_type": "code",
   "execution_count": 7,
   "id": "b9f40a4c",
   "metadata": {},
   "outputs": [],
   "source": [
    "import numpy as np\n",
    "\n",
    "from fpgen.prop_prediction.dataset import FPbase\n",
    "from fpgen.prop_prediction.metrics import (\n",
    "    get_regression_metrics,\n",
    "    get_classification_metrics\n",
    ")"
   ]
  },
  {
   "cell_type": "code",
   "execution_count": 24,
   "id": "e515b925",
   "metadata": {},
   "outputs": [],
   "source": [
    "def preproc(line):\n",
    "    clean_line = line.replace('\\n', ' ').strip('[]')\n",
    "    numbers = np.fromstring(clean_line, sep=' ')\n",
    "\n",
    "    return numbers"
   ]
  },
  {
   "cell_type": "code",
   "execution_count": 31,
   "id": "b28af7ef",
   "metadata": {},
   "outputs": [
    {
     "data": {
      "text/html": [
       "<div>\n",
       "<style scoped>\n",
       "    .dataframe tbody tr th:only-of-type {\n",
       "        vertical-align: middle;\n",
       "    }\n",
       "\n",
       "    .dataframe tbody tr th {\n",
       "        vertical-align: top;\n",
       "    }\n",
       "\n",
       "    .dataframe thead th {\n",
       "        text-align: right;\n",
       "    }\n",
       "</style>\n",
       "<table border=\"1\" class=\"dataframe\">\n",
       "  <thead>\n",
       "    <tr style=\"text-align: right;\">\n",
       "      <th></th>\n",
       "      <th>sequence</th>\n",
       "      <th>brightness</th>\n",
       "      <th>em_max</th>\n",
       "      <th>ex_max</th>\n",
       "      <th>ext_coeff</th>\n",
       "      <th>lifetime</th>\n",
       "      <th>maturation</th>\n",
       "      <th>pka</th>\n",
       "      <th>stokes_shift</th>\n",
       "      <th>qy</th>\n",
       "      <th>agg</th>\n",
       "      <th>switch_type</th>\n",
       "    </tr>\n",
       "  </thead>\n",
       "  <tbody>\n",
       "    <tr>\n",
       "      <th>558</th>\n",
       "      <td>[-0.00530367903, 0.00854283385, 0.00128412445,...</td>\n",
       "      <td>-0.516789</td>\n",
       "      <td>-1.357357</td>\n",
       "      <td>-1.875798</td>\n",
       "      <td>-0.814071</td>\n",
       "      <td>NaN</td>\n",
       "      <td>NaN</td>\n",
       "      <td>0.323540</td>\n",
       "      <td>0.923046</td>\n",
       "      <td>-0.056729</td>\n",
       "      <td>m</td>\n",
       "      <td>b</td>\n",
       "    </tr>\n",
       "    <tr>\n",
       "      <th>149</th>\n",
       "      <td>[-0.00167965586, 0.00413581124, 0.00335621182,...</td>\n",
       "      <td>-0.802832</td>\n",
       "      <td>-0.408006</td>\n",
       "      <td>-0.214689</td>\n",
       "      <td>-1.192834</td>\n",
       "      <td>NaN</td>\n",
       "      <td>NaN</td>\n",
       "      <td>1.878962</td>\n",
       "      <td>-0.403015</td>\n",
       "      <td>-0.465539</td>\n",
       "      <td>NaN</td>\n",
       "      <td>b</td>\n",
       "    </tr>\n",
       "    <tr>\n",
       "      <th>184</th>\n",
       "      <td>[-0.00447917636, -0.00560046919, 0.00733367307...</td>\n",
       "      <td>-1.040228</td>\n",
       "      <td>0.883734</td>\n",
       "      <td>0.758032</td>\n",
       "      <td>-0.257845</td>\n",
       "      <td>NaN</td>\n",
       "      <td>NaN</td>\n",
       "      <td>NaN</td>\n",
       "      <td>0.074367</td>\n",
       "      <td>-1.725418</td>\n",
       "      <td>NaN</td>\n",
       "      <td>b</td>\n",
       "    </tr>\n",
       "    <tr>\n",
       "      <th>291</th>\n",
       "      <td>[-0.00244280021, 0.0043460303, 0.00649108412, ...</td>\n",
       "      <td>NaN</td>\n",
       "      <td>-0.516948</td>\n",
       "      <td>-0.184759</td>\n",
       "      <td>NaN</td>\n",
       "      <td>NaN</td>\n",
       "      <td>NaN</td>\n",
       "      <td>NaN</td>\n",
       "      <td>-0.641706</td>\n",
       "      <td>NaN</td>\n",
       "      <td>m</td>\n",
       "      <td>b</td>\n",
       "    </tr>\n",
       "    <tr>\n",
       "      <th>30</th>\n",
       "      <td>[-0.00111842179, -0.00419556629, 0.00596778374...</td>\n",
       "      <td>NaN</td>\n",
       "      <td>-0.610327</td>\n",
       "      <td>-0.244619</td>\n",
       "      <td>NaN</td>\n",
       "      <td>NaN</td>\n",
       "      <td>NaN</td>\n",
       "      <td>NaN</td>\n",
       "      <td>-0.694749</td>\n",
       "      <td>NaN</td>\n",
       "      <td>t</td>\n",
       "      <td>b</td>\n",
       "    </tr>\n",
       "  </tbody>\n",
       "</table>\n",
       "</div>"
      ],
      "text/plain": [
       "                                              sequence  brightness    em_max  \\\n",
       "558  [-0.00530367903, 0.00854283385, 0.00128412445,...   -0.516789 -1.357357   \n",
       "149  [-0.00167965586, 0.00413581124, 0.00335621182,...   -0.802832 -0.408006   \n",
       "184  [-0.00447917636, -0.00560046919, 0.00733367307...   -1.040228  0.883734   \n",
       "291  [-0.00244280021, 0.0043460303, 0.00649108412, ...         NaN -0.516948   \n",
       "30   [-0.00111842179, -0.00419556629, 0.00596778374...         NaN -0.610327   \n",
       "\n",
       "       ex_max  ext_coeff  lifetime  maturation       pka  stokes_shift  \\\n",
       "558 -1.875798  -0.814071       NaN         NaN  0.323540      0.923046   \n",
       "149 -0.214689  -1.192834       NaN         NaN  1.878962     -0.403015   \n",
       "184  0.758032  -0.257845       NaN         NaN       NaN      0.074367   \n",
       "291 -0.184759        NaN       NaN         NaN       NaN     -0.641706   \n",
       "30  -0.244619        NaN       NaN         NaN       NaN     -0.694749   \n",
       "\n",
       "           qy  agg switch_type  \n",
       "558 -0.056729    m           b  \n",
       "149 -0.465539  NaN           b  \n",
       "184 -1.725418  NaN           b  \n",
       "291       NaN    m           b  \n",
       "30        NaN    t           b  "
      ]
     },
     "execution_count": 31,
     "metadata": {},
     "output_type": "execute_result"
    }
   ],
   "source": [
    "dataset = FPbase('../data/dataset_embedd.csv', preprocess_function=preproc)\n",
    "dataset.to_train_dataframe().head()"
   ]
  },
  {
   "cell_type": "code",
   "execution_count": null,
   "id": "983bf087",
   "metadata": {},
   "outputs": [],
   "source": []
  }
 ],
 "metadata": {
  "kernelspec": {
   "display_name": "Python 3",
   "language": "python",
   "name": "python3"
  },
  "language_info": {
   "codemirror_mode": {
    "name": "ipython",
    "version": 3
   },
   "file_extension": ".py",
   "mimetype": "text/x-python",
   "name": "python",
   "nbconvert_exporter": "python",
   "pygments_lexer": "ipython3",
   "version": "3.11.9"
  }
 },
 "nbformat": 4,
 "nbformat_minor": 5
}

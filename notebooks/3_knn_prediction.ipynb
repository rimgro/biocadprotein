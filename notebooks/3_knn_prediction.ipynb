{
 "cells": [
  {
   "cell_type": "markdown",
   "id": "13c47804",
   "metadata": {},
   "source": [
    "## Baseline-решение предсказания свойств флуоресцентных белков"
   ]
  },
  {
   "cell_type": "markdown",
   "id": "3db641d0",
   "metadata": {},
   "source": [
    "### Подготовка к работе"
   ]
  },
  {
   "cell_type": "code",
   "execution_count": 1,
   "id": "f71672b5",
   "metadata": {},
   "outputs": [
    {
     "name": "stdout",
     "output_type": "stream",
     "text": [
      "Requirement already satisfied: scikit-learn in /home/paa/Develop/biocadprotein/.venv/lib64/python3/site-packages (1.7.0)\n",
      "Requirement already satisfied: pandas in /home/paa/Develop/biocadprotein/.venv/lib64/python3/site-packages (2.3.1)\n",
      "Requirement already satisfied: numpy in /home/paa/Develop/biocadprotein/.venv/lib64/python3/site-packages (2.3.1)\n",
      "Requirement already satisfied: scipy>=1.8.0 in /home/paa/Develop/biocadprotein/.venv/lib64/python3/site-packages (from scikit-learn) (1.16.0)\n",
      "Requirement already satisfied: joblib>=1.2.0 in /home/paa/Develop/biocadprotein/.venv/lib64/python3/site-packages (from scikit-learn) (1.5.1)\n",
      "Requirement already satisfied: threadpoolctl>=3.1.0 in /home/paa/Develop/biocadprotein/.venv/lib64/python3/site-packages (from scikit-learn) (3.6.0)\n",
      "Requirement already satisfied: python-dateutil>=2.8.2 in /home/paa/Develop/biocadprotein/.venv/lib64/python3/site-packages (from pandas) (2.9.0.post0)\n",
      "Requirement already satisfied: pytz>=2020.1 in /home/paa/Develop/biocadprotein/.venv/lib64/python3/site-packages (from pandas) (2025.2)\n",
      "Requirement already satisfied: tzdata>=2022.7 in /home/paa/Develop/biocadprotein/.venv/lib64/python3/site-packages (from pandas) (2025.2)\n",
      "Requirement already satisfied: six>=1.5 in /home/paa/Develop/biocadprotein/.venv/lib64/python3/site-packages (from python-dateutil>=2.8.2->pandas) (1.17.0)\n"
     ]
    }
   ],
   "source": [
    "! pip install scikit-learn pandas numpy "
   ]
  },
  {
   "cell_type": "code",
   "execution_count": 1,
   "id": "038e6e3b",
   "metadata": {},
   "outputs": [],
   "source": [
    "from ast import literal_eval\n",
    "import pandas as pd\n",
    "import numpy as np\n",
    "from sklearn.model_selection import train_test_split, GridSearchCV, cross_validate\n",
    "from sklearn.neighbors import KNeighborsRegressor, KNeighborsClassifier\n",
    "from sklearn.metrics import mean_absolute_error, mean_squared_error, r2_score, accuracy_score, precision_score, recall_score, f1_score"
   ]
  },
  {
   "cell_type": "markdown",
   "id": "d3af5e9d",
   "metadata": {},
   "source": [
    "### Загрузка данных"
   ]
  },
  {
   "cell_type": "markdown",
   "id": "e2a453e4",
   "metadata": {},
   "source": [
    "Загрузим данные из csv файла. Разделеним на обучающую и тестовую выборки (80/20)."
   ]
  },
  {
   "cell_type": "code",
   "execution_count": 2,
   "id": "01554aa8",
   "metadata": {},
   "outputs": [],
   "source": [
    "df = pd.read_csv(\"dataset.csv\")\n",
    "df_train, df_test = train_test_split(df, test_size=0.2, random_state=2009) # test_size - размер тестовой выборки"
   ]
  },
  {
   "cell_type": "code",
   "execution_count": 3,
   "id": "33385a2a",
   "metadata": {},
   "outputs": [
    {
     "data": {
      "text/html": [
       "<div>\n",
       "<style scoped>\n",
       "    .dataframe tbody tr th:only-of-type {\n",
       "        vertical-align: middle;\n",
       "    }\n",
       "\n",
       "    .dataframe tbody tr th {\n",
       "        vertical-align: top;\n",
       "    }\n",
       "\n",
       "    .dataframe thead th {\n",
       "        text-align: right;\n",
       "    }\n",
       "</style>\n",
       "<table border=\"1\" class=\"dataframe\">\n",
       "  <thead>\n",
       "    <tr style=\"text-align: right;\">\n",
       "      <th></th>\n",
       "      <th>sequence</th>\n",
       "      <th>brightness</th>\n",
       "      <th>em_max</th>\n",
       "      <th>ex_max</th>\n",
       "      <th>ext_coeff</th>\n",
       "      <th>lifetime</th>\n",
       "      <th>maturation</th>\n",
       "      <th>pka</th>\n",
       "      <th>stokes_shift</th>\n",
       "      <th>qy</th>\n",
       "      <th>agg</th>\n",
       "    </tr>\n",
       "  </thead>\n",
       "  <tbody>\n",
       "    <tr>\n",
       "      <th>0</th>\n",
       "      <td>[-2.26386846e-03  6.68725092e-03  3.58870206e-...</td>\n",
       "      <td>NaN</td>\n",
       "      <td>525.0</td>\n",
       "      <td>513.0</td>\n",
       "      <td>30800.0</td>\n",
       "      <td>NaN</td>\n",
       "      <td>NaN</td>\n",
       "      <td>NaN</td>\n",
       "      <td>12.0</td>\n",
       "      <td>NaN</td>\n",
       "      <td>NaN</td>\n",
       "    </tr>\n",
       "    <tr>\n",
       "      <th>1</th>\n",
       "      <td>[-1.83722540e-03  6.83323620e-03  3.56744439e-...</td>\n",
       "      <td>NaN</td>\n",
       "      <td>512.0</td>\n",
       "      <td>502.0</td>\n",
       "      <td>33000.0</td>\n",
       "      <td>NaN</td>\n",
       "      <td>NaN</td>\n",
       "      <td>NaN</td>\n",
       "      <td>10.0</td>\n",
       "      <td>NaN</td>\n",
       "      <td>NaN</td>\n",
       "    </tr>\n",
       "    <tr>\n",
       "      <th>2</th>\n",
       "      <td>[-3.97243258e-03 -2.33210856e-03  1.56618573e-...</td>\n",
       "      <td>NaN</td>\n",
       "      <td>NaN</td>\n",
       "      <td>NaN</td>\n",
       "      <td>NaN</td>\n",
       "      <td>NaN</td>\n",
       "      <td>NaN</td>\n",
       "      <td>NaN</td>\n",
       "      <td>NaN</td>\n",
       "      <td>NaN</td>\n",
       "      <td>t</td>\n",
       "    </tr>\n",
       "    <tr>\n",
       "      <th>3</th>\n",
       "      <td>[-4.02820995e-03  5.53409010e-03  5.62726986e-...</td>\n",
       "      <td>NaN</td>\n",
       "      <td>514.0</td>\n",
       "      <td>484.0</td>\n",
       "      <td>NaN</td>\n",
       "      <td>NaN</td>\n",
       "      <td>NaN</td>\n",
       "      <td>NaN</td>\n",
       "      <td>30.0</td>\n",
       "      <td>NaN</td>\n",
       "      <td>NaN</td>\n",
       "    </tr>\n",
       "    <tr>\n",
       "      <th>4</th>\n",
       "      <td>[-1.98068423e-03  5.59785357e-03  3.69466911e-...</td>\n",
       "      <td>NaN</td>\n",
       "      <td>524.0</td>\n",
       "      <td>512.0</td>\n",
       "      <td>19400.0</td>\n",
       "      <td>NaN</td>\n",
       "      <td>NaN</td>\n",
       "      <td>NaN</td>\n",
       "      <td>12.0</td>\n",
       "      <td>NaN</td>\n",
       "      <td>NaN</td>\n",
       "    </tr>\n",
       "  </tbody>\n",
       "</table>\n",
       "</div>"
      ],
      "text/plain": [
       "                                            sequence  brightness  em_max  \\\n",
       "0  [-2.26386846e-03  6.68725092e-03  3.58870206e-...         NaN   525.0   \n",
       "1  [-1.83722540e-03  6.83323620e-03  3.56744439e-...         NaN   512.0   \n",
       "2  [-3.97243258e-03 -2.33210856e-03  1.56618573e-...         NaN     NaN   \n",
       "3  [-4.02820995e-03  5.53409010e-03  5.62726986e-...         NaN   514.0   \n",
       "4  [-1.98068423e-03  5.59785357e-03  3.69466911e-...         NaN   524.0   \n",
       "\n",
       "   ex_max  ext_coeff  lifetime  maturation  pka  stokes_shift  qy  agg  \n",
       "0   513.0    30800.0       NaN         NaN  NaN          12.0 NaN  NaN  \n",
       "1   502.0    33000.0       NaN         NaN  NaN          10.0 NaN  NaN  \n",
       "2     NaN        NaN       NaN         NaN  NaN           NaN NaN    t  \n",
       "3   484.0        NaN       NaN         NaN  NaN          30.0 NaN  NaN  \n",
       "4   512.0    19400.0       NaN         NaN  NaN          12.0 NaN  NaN  "
      ]
     },
     "execution_count": 3,
     "metadata": {},
     "output_type": "execute_result"
    }
   ],
   "source": [
    "df.head()"
   ]
  },
  {
   "cell_type": "markdown",
   "id": "d3f3389a",
   "metadata": {},
   "source": [
    "### Реализация метрик"
   ]
  },
  {
   "cell_type": "code",
   "execution_count": 42,
   "id": "93539b7a",
   "metadata": {},
   "outputs": [],
   "source": [
    "def regress_metrics(y_test, y_pred):\n",
    "    return [np.sqrt(mean_squared_error(y_test, y_pred))]\n",
    "\n",
    "def classif_metrics(y_test, y_pred):\n",
    "    return [accuracy_score(y_test, y_pred), precision_score(y_test, y_pred, average='weighted'), recall_score(y_test, y_pred, average='weighted'), f1_score(y_test, y_pred, average='weighted')]"
   ]
  },
  {
   "cell_type": "code",
   "execution_count": null,
   "id": "c7f1937f",
   "metadata": {},
   "outputs": [],
   "source": [
    "def preproc(row):\n",
    "    seq = literal_eval(row['sequence'])\n",
    "    seq = np.fromstring(\n",
    "        row['sequence'].strip('[]'), \n",
    "        sep=' ', \n",
    "        dtype=np.float32\n",
    "    )\n",
    "    return seq\n",
    "\n",
    "embeddings = df['column'].dropna().apply(preproc)"
   ]
  },
  {
   "cell_type": "markdown",
   "id": "209c4dce",
   "metadata": {},
   "source": [
    "### KNN"
   ]
  },
  {
   "cell_type": "markdown",
   "id": "9eef10e6",
   "metadata": {},
   "source": [
    "Извлечем последовательности и целевые значения из датафрейма. Пишем только те у которых есть числовые данные в таргетах."
   ]
  },
  {
   "cell_type": "code",
   "execution_count": 43,
   "id": "ef577f66",
   "metadata": {},
   "outputs": [],
   "source": [
    "def get_target(df, target):\n",
    "    sequences_list = []\n",
    "    target_list = []\n",
    "\n",
    "    for idx, row in df.iterrows():\n",
    "        if pd.notna(row[target]):\n",
    "            if isinstance(row['sequence'], str):\n",
    "                try:\n",
    "                    seq = literal_eval(row['sequence'])\n",
    "                except (SyntaxError, ValueError):\n",
    "                    seq = np.fromstring(\n",
    "                        row['sequence'].strip('[]'), \n",
    "                        sep=' ', \n",
    "                        dtype=np.float32\n",
    "                    )\n",
    "            else:\n",
    "                seq = row['sequence']\n",
    "            \n",
    "            sequences_list.append(seq)\n",
    "            target_list.append(row[target])\n",
    "\n",
    "    return [np.array(sequences_list), np.array(target_list)] # [эмбеддинги, свойства]"
   ]
  },
  {
   "cell_type": "markdown",
   "id": "bc7a3ca7",
   "metadata": {},
   "source": [
    "Настроим KNN регрессию, найдем лучшее количества соседей (k) методом кросс-валидации."
   ]
  },
  {
   "cell_type": "code",
   "execution_count": 44,
   "id": "d8bb8e1f",
   "metadata": {},
   "outputs": [],
   "source": [
    "def regressor_knn(X_train, X_test, y_train, y_test):\n",
    "    params = {'n_neighbors' : range(1, 30)}\n",
    "\n",
    "    knn_regressor = KNeighborsRegressor()\n",
    "    grid = GridSearchCV(knn_regressor, params, cv=5, scoring='neg_mean_squared_error') # MSE\n",
    "    grid.fit(X_train, y_train)\n",
    "\n",
    "    knn_regressor = KNeighborsRegressor(n_neighbors=grid.best_params_['n_neighbors'])\n",
    "    knn_regressor.fit(X_train, y_train)\n",
    "    predictions = knn_regressor.predict(X_test)\n",
    "\n",
    "    return [regress_metrics(y_test, predictions), grid.best_params_['n_neighbors'], knn_regressor, predictions] # метрики, гиперпараметры и предсказанные значения"
   ]
  },
  {
   "cell_type": "markdown",
   "id": "c07bfb69",
   "metadata": {},
   "source": [
    "Настроим KNN классификацию, найдем лучшее количество соседей (k) методом кросс-валидации."
   ]
  },
  {
   "cell_type": "code",
   "execution_count": 45,
   "id": "4b0327cb",
   "metadata": {},
   "outputs": [],
   "source": [
    "def classification_knn(X_train, X_test, y_train, y_test):\n",
    "    params = {'n_neighbors' : range(1, 30)} # ищем k ближайщих соседей из диапазона \n",
    "\n",
    "    knn_classif = KNeighborsClassifier()\n",
    "    grid = GridSearchCV(knn_classif, params, cv=5, scoring='accuracy')\n",
    "    grid.fit(X_train, y_train)\n",
    "\n",
    "    #scoring = ['accuracy', 'precision_weighted', 'recall_weighted', 'f1_weighted'] # метрики\n",
    "    #results = cross_validate(knn_classif, X_train, y_train, cv=5, scoring=scoring)\n",
    "\n",
    "    knn_classif = KNeighborsClassifier(n_neighbors=grid.best_params_['n_neighbors'])\n",
    "    knn_classif.fit(X_train, y_train)\n",
    "    predictions = knn_classif.predict(X_test)\n",
    "\n",
    "    return [classif_metrics(y_test, predictions), grid.best_score_, grid.best_params_['n_neighbors'], knn_classif, predictions] # метрики, гиперпараметры и предсказанные значения"
   ]
  },
  {
   "cell_type": "markdown",
   "id": "5abcc722",
   "metadata": {},
   "source": [
    "### Результаты и метрики"
   ]
  },
  {
   "cell_type": "code",
   "execution_count": 48,
   "id": "c0d7e095",
   "metadata": {},
   "outputs": [],
   "source": [
    "def metrics(results, target):\n",
    "    if len(results) == 4:\n",
    "        print(f'{target:<12} | RMSE: {results[0][0]}, k: {results[1]}')\n",
    "    else:\n",
    "        print(\n",
    "            f'{target:<12} | accuracy: {results[0][0]}' + \n",
    "            f', precision: {results[0][1]}' + \n",
    "            f', recall: {results[0][2]}' +\n",
    "            f', f1: {results[0][3]}'\n",
    "        )"
   ]
  },
  {
   "cell_type": "markdown",
   "id": "1b788eaf",
   "metadata": {},
   "source": [
    "Выведем полученные метрики."
   ]
  },
  {
   "cell_type": "code",
   "execution_count": 49,
   "id": "4e075451",
   "metadata": {},
   "outputs": [
    {
     "name": "stdout",
     "output_type": "stream",
     "text": [
      "brightness   | RMSE: 25.412417005672154, k: 5\n",
      "em_max       | RMSE: 35.23066413115074, k: 2\n",
      "ex_max       | RMSE: 50.016655462949764, k: 4\n",
      "ext_coeff    | RMSE: 33822.692336437874, k: 5\n",
      "lifetime     | RMSE: 0.7843074616784187, k: 24\n",
      "maturation   | RMSE: 287.7179410464352, k: 5\n",
      "pka          | RMSE: 1.0688153072720366, k: 7\n",
      "stokes_shift | RMSE: 36.83156211636082, k: 18\n",
      "qy           | RMSE: 0.23116155185839865, k: 3\n",
      "agg          | accuracy: 0.6230769230769231, precision: 0.587531305903399, recall: 0.6230769230769231, f1: 0.5995106780012441\n"
     ]
    }
   ],
   "source": [
    "target = ['brightness', 'em_max', 'ex_max', 'ext_coeff', 'lifetime', 'maturation', 'pka', 'stokes_shift', 'qy', 'agg'] # свойства белка\n",
    "\n",
    "for item in target:\n",
    "    params_train = get_target(df_train, item)\n",
    "    params_test = get_target(df_test, item)\n",
    "\n",
    "    if item != 'agg':\n",
    "        metrics(regressor_knn(params_train[0], params_test[0], params_train[1], params_test[1]), item)\n",
    "    else:\n",
    "        metrics(classification_knn(params_train[0], params_test[0], params_train[1], params_test[1]), item)"
   ]
  }
 ],
 "metadata": {
  "kernelspec": {
   "display_name": "Python 3",
   "language": "python",
   "name": "python3"
  },
  "language_info": {
   "codemirror_mode": {
    "name": "ipython",
    "version": 3
   },
   "file_extension": ".py",
   "mimetype": "text/x-python",
   "name": "python",
   "nbconvert_exporter": "python",
   "pygments_lexer": "ipython3",
   "version": "3.11.9"
  }
 },
 "nbformat": 4,
 "nbformat_minor": 5
}

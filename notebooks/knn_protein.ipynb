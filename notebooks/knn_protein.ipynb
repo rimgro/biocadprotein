{
 "cells": [
  {
   "cell_type": "markdown",
   "id": "13c47804",
   "metadata": {},
   "source": [
    "## Baseline-решение предсказания свойств флуоресцентных белков"
   ]
  },
  {
   "cell_type": "markdown",
   "id": "3db641d0",
   "metadata": {},
   "source": [
    "### Подготовка к работе"
   ]
  },
  {
   "cell_type": "code",
   "execution_count": 152,
   "id": "f71672b5",
   "metadata": {},
   "outputs": [
    {
     "name": "stdout",
     "output_type": "stream",
     "text": [
      "Requirement already satisfied: scikit-learn in ./.venv/lib64/python3/site-packages (1.7.0)\n",
      "Requirement already satisfied: pandas in ./.venv/lib64/python3/site-packages (2.3.0)\n",
      "Requirement already satisfied: numpy in ./.venv/lib64/python3/site-packages (2.3.1)\n",
      "Requirement already satisfied: scipy>=1.8.0 in ./.venv/lib64/python3/site-packages (from scikit-learn) (1.16.0)\n",
      "Requirement already satisfied: joblib>=1.2.0 in ./.venv/lib64/python3/site-packages (from scikit-learn) (1.5.1)\n",
      "Requirement already satisfied: threadpoolctl>=3.1.0 in ./.venv/lib64/python3/site-packages (from scikit-learn) (3.6.0)\n",
      "Requirement already satisfied: python-dateutil>=2.8.2 in ./.venv/lib64/python3/site-packages (from pandas) (2.9.0.post0)\n",
      "Requirement already satisfied: pytz>=2020.1 in ./.venv/lib64/python3/site-packages (from pandas) (2025.2)\n",
      "Requirement already satisfied: tzdata>=2022.7 in ./.venv/lib64/python3/site-packages (from pandas) (2025.2)\n",
      "Requirement already satisfied: six>=1.5 in ./.venv/lib64/python3/site-packages (from python-dateutil>=2.8.2->pandas) (1.17.0)\n"
     ]
    }
   ],
   "source": [
    "! pip install scikit-learn pandas numpy "
   ]
  },
  {
   "cell_type": "code",
   "execution_count": 153,
   "id": "038e6e3b",
   "metadata": {},
   "outputs": [],
   "source": [
    "from ast import literal_eval\n",
    "import pandas as pd\n",
    "import numpy as np\n",
    "from sklearn.model_selection import train_test_split, GridSearchCV, cross_validate\n",
    "from sklearn.neighbors import KNeighborsRegressor, KNeighborsClassifier\n",
    "from sklearn.metrics import mean_absolute_error, mean_squared_error, r2_score"
   ]
  },
  {
   "cell_type": "markdown",
   "id": "d3af5e9d",
   "metadata": {},
   "source": [
    "### Загрузка данных"
   ]
  },
  {
   "cell_type": "markdown",
   "id": "e2a453e4",
   "metadata": {},
   "source": [
    "Загрузим данные из csv файла. Разделеним на обучающую и тестовую выборки (80/20)."
   ]
  },
  {
   "cell_type": "code",
   "execution_count": null,
   "id": "01554aa8",
   "metadata": {},
   "outputs": [],
   "source": [
    "df = pd.read_csv(\"dataset.csv\")\n",
    "df_train, df_test = train_test_split(df, test_size=0.2, random_state=2009) # test_size - размер тестовой выборки"
   ]
  },
  {
   "cell_type": "markdown",
   "id": "209c4dce",
   "metadata": {},
   "source": [
    "### KNN"
   ]
  },
  {
   "cell_type": "markdown",
   "id": "9eef10e6",
   "metadata": {},
   "source": [
    "Извлечем последовательности и целевые значения из датафрейма. Пишем только те у которых есть числовые данные в таргетах."
   ]
  },
  {
   "cell_type": "code",
   "execution_count": null,
   "id": "ef577f66",
   "metadata": {},
   "outputs": [],
   "source": [
    "def get_target(df, target):\n",
    "    sequences_list = []\n",
    "    target_list = []\n",
    "\n",
    "    for idx, row in df.iterrows():\n",
    "        if pd.notna(row[target]):\n",
    "            if isinstance(row['sequence'], str):\n",
    "                try:\n",
    "                    seq = literal_eval(row['sequence'])\n",
    "                except (SyntaxError, ValueError):\n",
    "                    seq = np.fromstring(\n",
    "                        row['sequence'].strip('[]'), \n",
    "                        sep=' ', \n",
    "                        dtype=np.float32\n",
    "                    )\n",
    "            else:\n",
    "                seq = row['sequence']\n",
    "            \n",
    "            sequences_list.append(seq)\n",
    "            target_list.append(row[target])\n",
    "\n",
    "    return [np.array(sequences_list), np.array(target_list)] # [эмбеддинги, свойства]"
   ]
  },
  {
   "cell_type": "markdown",
   "id": "bc7a3ca7",
   "metadata": {},
   "source": [
    "Настроим KNN регрессию, найдем лучшее количества соседей (k) методом кросс-валидации."
   ]
  },
  {
   "cell_type": "code",
   "execution_count": null,
   "id": "d8bb8e1f",
   "metadata": {},
   "outputs": [],
   "source": [
    "def regressor_knn(X_train, X_test, y_train, y_test):\n",
    "    params = {'n_neighbors' : range(1, 30)}\n",
    "\n",
    "    knn_regressor = KNeighborsRegressor()\n",
    "    grid = GridSearchCV(knn_regressor, params, cv=5, scoring='neg_mean_squared_error') # MSE\n",
    "    grid.fit(X_train, y_train)\n",
    "\n",
    "    knn_regressor = KNeighborsRegressor(n_neighbors=grid.best_params_['n_neighbors'])\n",
    "    knn_regressor.fit(X_train, y_train)\n",
    "    predictions = knn_regressor.predict(X_test)\n",
    "\n",
    "    return [np.sqrt(-grid.best_score_), grid.best_params_['n_neighbors'], knn_regressor, predictions] # метрики, гиперпараметры и предсказанные значения"
   ]
  },
  {
   "cell_type": "markdown",
   "id": "c07bfb69",
   "metadata": {},
   "source": [
    "Настроим KNN классификацию, найдем лучшее количество соседей (k) методом кросс-валидации."
   ]
  },
  {
   "cell_type": "code",
   "execution_count": null,
   "id": "4b0327cb",
   "metadata": {},
   "outputs": [],
   "source": [
    "def classification_knn(X_train, X_test, y_train, y_test):\n",
    "    params = {'n_neighbors' : range(1, 30)} # ищем k ближайщих соседей из диапазона \n",
    "\n",
    "    knn_classif = KNeighborsClassifier()\n",
    "    grid = GridSearchCV(knn_classif, params, cv=5, scoring='accuracy')\n",
    "    grid.fit(X_train, y_train)\n",
    "\n",
    "    scoring = ['accuracy', 'precision_weighted', 'recall_weighted', 'f1_weighted'] # метрики\n",
    "    results = cross_validate(knn_classif, X_train, y_train, cv=5, scoring=scoring)\n",
    "\n",
    "    knn_classif = KNeighborsClassifier(n_neighbors=grid.best_params_['n_neighbors'])\n",
    "    knn_classif.fit(X_train, y_train)\n",
    "    predictions = knn_classif.predict(X_test)\n",
    "\n",
    "    return [results, grid.best_score_, grid.best_params_['n_neighbors'], knn_classif, predictions] # метрики, гиперпараметры и предсказанные значения"
   ]
  },
  {
   "cell_type": "markdown",
   "id": "b9760012",
   "metadata": {},
   "source": [
    "Нпишем функции для предсказания свойств флуоресцентных белков."
   ]
  },
  {
   "cell_type": "code",
   "execution_count": null,
   "id": "5cb2f960",
   "metadata": {},
   "outputs": [],
   "source": [
    "# Яркость\n",
    "def knn_brightness():\n",
    "    params_train = get_target(df_train, 'brightness')\n",
    "    params_test = get_target(df_test, 'brightness')\n",
    "\n",
    "    return regressor_knn(params_train[0], params_test[0], params_train[1], params_test[1])\n",
    "\n",
    "# Максимум длины волны испускания\n",
    "def knn_em_max():\n",
    "    params_train = get_target(df_train, 'em_max')\n",
    "    params_test = get_target(df_test, 'em_max')\n",
    "\n",
    "    return regressor_knn(params_train[0], params_test[0], params_train[1], params_test[1])\n",
    "\n",
    "# Максимум длины волны поглощения\n",
    "def knn_ex_max():\n",
    "    params_train = get_target(df_train, 'ex_max')\n",
    "    params_test = get_target(df_test, 'ex_max')\n",
    "\n",
    "    return regressor_knn(params_train[0], params_test[0], params_train[1], params_test[1])\n",
    "\n",
    "# Эффективность поглощения\n",
    "def knn_ext_coeff():\n",
    "    params_train = get_target(df_train, 'ext_coeff')\n",
    "    params_test = get_target(df_test, 'ext_coeff')\n",
    "\n",
    "    return regressor_knn(params_train[0], params_test[0], params_train[1], params_test[1])\n",
    "\n",
    "# Время жизни\n",
    "def knn_lifetime():\n",
    "    params_train = get_target(df_train, 'lifetime')\n",
    "    params_test = get_target(df_test, 'lifetime')\n",
    "\n",
    "    return regressor_knn(params_train[0], params_test[0], params_train[1], params_test[1])\n",
    "\n",
    "# Время созревания\n",
    "def knn_maturation():\n",
    "    params_train = get_target(df_train, 'maturation')\n",
    "    params_test = get_target(df_test, 'maturation')\n",
    "\n",
    "    return regressor_knn(params_train[0], params_test[0], params_train[1], params_test[1])\n",
    "\n",
    "# Устойчивость к кислотам\n",
    "def knn_pka():\n",
    "    params_train = get_target(df_train, 'pka')\n",
    "    params_test = get_target(df_test, 'pka')\n",
    "\n",
    "    return regressor_knn(params_train[0], params_test[0], params_train[1], params_test[1])\n",
    "\n",
    "# Стоксовский сдвиг\n",
    "def knn_stokes_shift():\n",
    "    params_train = get_target(df_train, 'stokes_shift')\n",
    "    params_test = get_target(df_test, 'stokes_shift')\n",
    "\n",
    "    return regressor_knn(params_train[0], params_test[0], params_train[1], params_test[1])\n",
    "\n",
    "# Квантовый выход\n",
    "def knn_qy():\n",
    "    params_train = get_target(df_train, 'qy')\n",
    "    params_test = get_target(df_test, 'qy')\n",
    "\n",
    "    return regressor_knn(params_train[0], params_test[0], params_train[1], params_test[1])\n",
    "\n",
    "# Агрегация\n",
    "def knn_agg():\n",
    "    params_train = get_target(df_train, 'agg')\n",
    "    params_test = get_target(df_test, 'agg')\n",
    "\n",
    "    return classification_knn(params_train[0], params_test[0], params_train[1], params_test[1])"
   ]
  },
  {
   "cell_type": "markdown",
   "id": "5abcc722",
   "metadata": {},
   "source": [
    "### Результаты и метрики"
   ]
  },
  {
   "cell_type": "markdown",
   "id": "1b788eaf",
   "metadata": {},
   "source": [
    "Выведем полученные метрики."
   ]
  },
  {
   "cell_type": "code",
   "execution_count": null,
   "id": "d280376c",
   "metadata": {},
   "outputs": [],
   "source": [
    "def metrics(results, target):\n",
    "    if len(results) == 4:\n",
    "        print(f'{target:<12} | RMSE: {results[0]}, k: {results[1]}')\n",
    "    else:\n",
    "        print(\n",
    "            f'{target:<12} | accuracy: {results[0]['test_accuracy'].mean()}' + \n",
    "            f', precision: {results[0]['test_precision_weighted'].mean()}' + \n",
    "            f', recall: {results[0]['test_recall_weighted'].mean()}' +\n",
    "            f', f1: {results[0]['test_f1_weighted'].mean()}'\n",
    "        )"
   ]
  },
  {
   "cell_type": "code",
   "execution_count": 150,
   "id": "bebb93c0",
   "metadata": {},
   "outputs": [
    {
     "name": "stdout",
     "output_type": "stream",
     "text": [
      "brightness   | RMSE: 25.745918761587454, k: 5\n",
      "ex_max       | RMSE: 46.881365072569494, k: 4\n",
      "em_max       | RMSE: 38.164471063026305, k: 2\n",
      "ext_coeff    | RMSE: 33260.04299675388, k: 5\n",
      "lifetime     | RMSE: 1.2675000406190717, k: 24\n",
      "maturation   | RMSE: 151.75877090035087, k: 5\n",
      "pka          | RMSE: 1.1087124833060096, k: 7\n",
      "stokes_shift | RMSE: 35.289969788204786, k: 18\n",
      "qy           | RMSE: 0.22867770525347184, k: 3\n",
      "agg          | accuracy: 0.7029221882432892, precision: 0.6745515232982797, recall: 0.7029221882432892, f1: 0.6770289846280668\n"
     ]
    }
   ],
   "source": [
    "metrics(knn_brightness(),'brightness')\n",
    "metrics(knn_ex_max(),'ex_max')\n",
    "metrics(knn_em_max(),'em_max')\n",
    "metrics(knn_ext_coeff(), 'ext_coeff')\n",
    "metrics(knn_lifetime(), 'lifetime')\n",
    "metrics(knn_maturation(), 'maturation')\n",
    "metrics(knn_pka(), 'pka')\n",
    "metrics(knn_stokes_shift(), 'stokes_shift')\n",
    "metrics(knn_qy(), 'qy')\n",
    "\n",
    "metrics(knn_agg(), 'agg')"
   ]
  }
 ],
 "metadata": {
  "kernelspec": {
   "display_name": ".venv",
   "language": "python",
   "name": "python3"
  },
  "language_info": {
   "codemirror_mode": {
    "name": "ipython",
    "version": 3
   },
   "file_extension": ".py",
   "mimetype": "text/x-python",
   "name": "python",
   "nbconvert_exporter": "python",
   "pygments_lexer": "ipython3",
   "version": "3.12.10"
  }
 },
 "nbformat": 4,
 "nbformat_minor": 5
}

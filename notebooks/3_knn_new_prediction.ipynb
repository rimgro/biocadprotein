{
 "cells": [
  {
   "cell_type": "markdown",
   "id": "7f49f573",
   "metadata": {},
   "source": [
    "## Baseline-решение предсказания свойств ФБ, с помощью KNN"
   ]
  },
  {
   "cell_type": "markdown",
   "id": "861e7e63",
   "metadata": {},
   "source": [
    "### Подготовка к работе"
   ]
  },
  {
   "cell_type": "code",
   "execution_count": null,
   "id": "b659754e",
   "metadata": {},
   "outputs": [],
   "source": [
    "! pip install --upgrade git+https://github.com/rimgro/biocadprotein.git"
   ]
  },
  {
   "cell_type": "code",
   "execution_count": 9,
   "id": "30e8a818",
   "metadata": {},
   "outputs": [],
   "source": [
    "from fpgen.prop_prediction.dataset import FPbase\n",
    "from fpgen.generation.metrics import identity\n",
    "\n",
    "from fpgen.prop_prediction.metrics import get_regression_metrics\n",
    "\n",
    "from sklearn.model_selection import train_test_split, KFold\n",
    "\n",
    "import pandas as pd\n",
    "import numpy as np\n",
    "from tqdm import tqdm"
   ]
  },
  {
   "cell_type": "markdown",
   "id": "8a824e8f",
   "metadata": {},
   "source": [
    "### Загрузка датасета"
   ]
  },
  {
   "cell_type": "code",
   "execution_count": null,
   "id": "efe2b181",
   "metadata": {},
   "outputs": [
    {
     "ename": "FileNotFoundError",
     "evalue": "[Errno 2] No such file or directory: 'dataset.csv'",
     "output_type": "error",
     "traceback": [
      "\u001b[31m---------------------------------------------------------------------------\u001b[39m",
      "\u001b[31mFileNotFoundError\u001b[39m                         Traceback (most recent call last)",
      "\u001b[36mCell\u001b[39m\u001b[36m \u001b[39m\u001b[32mIn[10]\u001b[39m\u001b[32m, line 1\u001b[39m\n\u001b[32m----> \u001b[39m\u001b[32m1\u001b[39m dataset = \u001b[43mFPbase\u001b[49m\u001b[43m(\u001b[49m\u001b[33;43m'\u001b[39;49m\u001b[33;43mdataset.csv\u001b[39;49m\u001b[33;43m'\u001b[39;49m\u001b[43m)\u001b[49m\n\u001b[32m      2\u001b[39m df_ident = pd.read_csv(\u001b[33m'\u001b[39m\u001b[33msequence_distance_matrix.csv\u001b[39m\u001b[33m'\u001b[39m, index_col=\u001b[32m0\u001b[39m)\n",
      "\u001b[36mFile \u001b[39m\u001b[32m~/Develop/biocadprotein/fpgen/prop_prediction/dataset.py:27\u001b[39m, in \u001b[36m__init__\u001b[39m\u001b[34m(self, dataset_path)\u001b[39m\n\u001b[32m     20\u001b[39m # --- Константы ---\n\u001b[32m     21\u001b[39m \n\u001b[32m     22\u001b[39m # Путь к датасету по умолчанию\n\u001b[32m     23\u001b[39m DEFAULT_DATASET_PATH = os.path.abspath(\n\u001b[32m     24\u001b[39m     os.path.join(os.path.dirname(__file__), '..', '..', 'data', 'dataset.csv')\n\u001b[32m     25\u001b[39m )\n\u001b[32m---> \u001b[39m\u001b[32m27\u001b[39m # --- Основной класс ---\n\u001b[32m     29\u001b[39m class FPbase:\n\u001b[32m     31\u001b[39m     '''\n\u001b[32m     32\u001b[39m     Класс для представления базы данных FPbase для обучения модели предсказывать свойства\n\u001b[32m     33\u001b[39m     Реализован как Singleton - может существовать только один экземпляр класса.\n\u001b[32m   (...)\u001b[39m\u001b[32m     42\u001b[39m         >>> x_test, y_test = dataset.get_test('ex_max', is_scaled=True)\n\u001b[32m     43\u001b[39m     '''\n",
      "\u001b[36mFile \u001b[39m\u001b[32m~/Develop/biocadprotein/.venv/lib64/python3/site-packages/pandas/io/parsers/readers.py:1026\u001b[39m, in \u001b[36mread_csv\u001b[39m\u001b[34m(filepath_or_buffer, sep, delimiter, header, names, index_col, usecols, dtype, engine, converters, true_values, false_values, skipinitialspace, skiprows, skipfooter, nrows, na_values, keep_default_na, na_filter, verbose, skip_blank_lines, parse_dates, infer_datetime_format, keep_date_col, date_parser, date_format, dayfirst, cache_dates, iterator, chunksize, compression, thousands, decimal, lineterminator, quotechar, quoting, doublequote, escapechar, comment, encoding, encoding_errors, dialect, on_bad_lines, delim_whitespace, low_memory, memory_map, float_precision, storage_options, dtype_backend)\u001b[39m\n\u001b[32m   1013\u001b[39m kwds_defaults = _refine_defaults_read(\n\u001b[32m   1014\u001b[39m     dialect,\n\u001b[32m   1015\u001b[39m     delimiter,\n\u001b[32m   (...)\u001b[39m\u001b[32m   1022\u001b[39m     dtype_backend=dtype_backend,\n\u001b[32m   1023\u001b[39m )\n\u001b[32m   1024\u001b[39m kwds.update(kwds_defaults)\n\u001b[32m-> \u001b[39m\u001b[32m1026\u001b[39m \u001b[38;5;28;01mreturn\u001b[39;00m \u001b[43m_read\u001b[49m\u001b[43m(\u001b[49m\u001b[43mfilepath_or_buffer\u001b[49m\u001b[43m,\u001b[49m\u001b[43m \u001b[49m\u001b[43mkwds\u001b[49m\u001b[43m)\u001b[49m\n",
      "\u001b[36mFile \u001b[39m\u001b[32m~/Develop/biocadprotein/.venv/lib64/python3/site-packages/pandas/io/parsers/readers.py:620\u001b[39m, in \u001b[36m_read\u001b[39m\u001b[34m(filepath_or_buffer, kwds)\u001b[39m\n\u001b[32m    617\u001b[39m _validate_names(kwds.get(\u001b[33m\"\u001b[39m\u001b[33mnames\u001b[39m\u001b[33m\"\u001b[39m, \u001b[38;5;28;01mNone\u001b[39;00m))\n\u001b[32m    619\u001b[39m \u001b[38;5;66;03m# Create the parser.\u001b[39;00m\n\u001b[32m--> \u001b[39m\u001b[32m620\u001b[39m parser = \u001b[43mTextFileReader\u001b[49m\u001b[43m(\u001b[49m\u001b[43mfilepath_or_buffer\u001b[49m\u001b[43m,\u001b[49m\u001b[43m \u001b[49m\u001b[43m*\u001b[49m\u001b[43m*\u001b[49m\u001b[43mkwds\u001b[49m\u001b[43m)\u001b[49m\n\u001b[32m    622\u001b[39m \u001b[38;5;28;01mif\u001b[39;00m chunksize \u001b[38;5;129;01mor\u001b[39;00m iterator:\n\u001b[32m    623\u001b[39m     \u001b[38;5;28;01mreturn\u001b[39;00m parser\n",
      "\u001b[36mFile \u001b[39m\u001b[32m~/Develop/biocadprotein/.venv/lib64/python3/site-packages/pandas/io/parsers/readers.py:1620\u001b[39m, in \u001b[36mTextFileReader.__init__\u001b[39m\u001b[34m(self, f, engine, **kwds)\u001b[39m\n\u001b[32m   1617\u001b[39m     \u001b[38;5;28mself\u001b[39m.options[\u001b[33m\"\u001b[39m\u001b[33mhas_index_names\u001b[39m\u001b[33m\"\u001b[39m] = kwds[\u001b[33m\"\u001b[39m\u001b[33mhas_index_names\u001b[39m\u001b[33m\"\u001b[39m]\n\u001b[32m   1619\u001b[39m \u001b[38;5;28mself\u001b[39m.handles: IOHandles | \u001b[38;5;28;01mNone\u001b[39;00m = \u001b[38;5;28;01mNone\u001b[39;00m\n\u001b[32m-> \u001b[39m\u001b[32m1620\u001b[39m \u001b[38;5;28mself\u001b[39m._engine = \u001b[38;5;28;43mself\u001b[39;49m\u001b[43m.\u001b[49m\u001b[43m_make_engine\u001b[49m\u001b[43m(\u001b[49m\u001b[43mf\u001b[49m\u001b[43m,\u001b[49m\u001b[43m \u001b[49m\u001b[38;5;28;43mself\u001b[39;49m\u001b[43m.\u001b[49m\u001b[43mengine\u001b[49m\u001b[43m)\u001b[49m\n",
      "\u001b[36mFile \u001b[39m\u001b[32m~/Develop/biocadprotein/.venv/lib64/python3/site-packages/pandas/io/parsers/readers.py:1880\u001b[39m, in \u001b[36mTextFileReader._make_engine\u001b[39m\u001b[34m(self, f, engine)\u001b[39m\n\u001b[32m   1878\u001b[39m     \u001b[38;5;28;01mif\u001b[39;00m \u001b[33m\"\u001b[39m\u001b[33mb\u001b[39m\u001b[33m\"\u001b[39m \u001b[38;5;129;01mnot\u001b[39;00m \u001b[38;5;129;01min\u001b[39;00m mode:\n\u001b[32m   1879\u001b[39m         mode += \u001b[33m\"\u001b[39m\u001b[33mb\u001b[39m\u001b[33m\"\u001b[39m\n\u001b[32m-> \u001b[39m\u001b[32m1880\u001b[39m \u001b[38;5;28mself\u001b[39m.handles = \u001b[43mget_handle\u001b[49m\u001b[43m(\u001b[49m\n\u001b[32m   1881\u001b[39m \u001b[43m    \u001b[49m\u001b[43mf\u001b[49m\u001b[43m,\u001b[49m\n\u001b[32m   1882\u001b[39m \u001b[43m    \u001b[49m\u001b[43mmode\u001b[49m\u001b[43m,\u001b[49m\n\u001b[32m   1883\u001b[39m \u001b[43m    \u001b[49m\u001b[43mencoding\u001b[49m\u001b[43m=\u001b[49m\u001b[38;5;28;43mself\u001b[39;49m\u001b[43m.\u001b[49m\u001b[43moptions\u001b[49m\u001b[43m.\u001b[49m\u001b[43mget\u001b[49m\u001b[43m(\u001b[49m\u001b[33;43m\"\u001b[39;49m\u001b[33;43mencoding\u001b[39;49m\u001b[33;43m\"\u001b[39;49m\u001b[43m,\u001b[49m\u001b[43m \u001b[49m\u001b[38;5;28;43;01mNone\u001b[39;49;00m\u001b[43m)\u001b[49m\u001b[43m,\u001b[49m\n\u001b[32m   1884\u001b[39m \u001b[43m    \u001b[49m\u001b[43mcompression\u001b[49m\u001b[43m=\u001b[49m\u001b[38;5;28;43mself\u001b[39;49m\u001b[43m.\u001b[49m\u001b[43moptions\u001b[49m\u001b[43m.\u001b[49m\u001b[43mget\u001b[49m\u001b[43m(\u001b[49m\u001b[33;43m\"\u001b[39;49m\u001b[33;43mcompression\u001b[39;49m\u001b[33;43m\"\u001b[39;49m\u001b[43m,\u001b[49m\u001b[43m \u001b[49m\u001b[38;5;28;43;01mNone\u001b[39;49;00m\u001b[43m)\u001b[49m\u001b[43m,\u001b[49m\n\u001b[32m   1885\u001b[39m \u001b[43m    \u001b[49m\u001b[43mmemory_map\u001b[49m\u001b[43m=\u001b[49m\u001b[38;5;28;43mself\u001b[39;49m\u001b[43m.\u001b[49m\u001b[43moptions\u001b[49m\u001b[43m.\u001b[49m\u001b[43mget\u001b[49m\u001b[43m(\u001b[49m\u001b[33;43m\"\u001b[39;49m\u001b[33;43mmemory_map\u001b[39;49m\u001b[33;43m\"\u001b[39;49m\u001b[43m,\u001b[49m\u001b[43m \u001b[49m\u001b[38;5;28;43;01mFalse\u001b[39;49;00m\u001b[43m)\u001b[49m\u001b[43m,\u001b[49m\n\u001b[32m   1886\u001b[39m \u001b[43m    \u001b[49m\u001b[43mis_text\u001b[49m\u001b[43m=\u001b[49m\u001b[43mis_text\u001b[49m\u001b[43m,\u001b[49m\n\u001b[32m   1887\u001b[39m \u001b[43m    \u001b[49m\u001b[43merrors\u001b[49m\u001b[43m=\u001b[49m\u001b[38;5;28;43mself\u001b[39;49m\u001b[43m.\u001b[49m\u001b[43moptions\u001b[49m\u001b[43m.\u001b[49m\u001b[43mget\u001b[49m\u001b[43m(\u001b[49m\u001b[33;43m\"\u001b[39;49m\u001b[33;43mencoding_errors\u001b[39;49m\u001b[33;43m\"\u001b[39;49m\u001b[43m,\u001b[49m\u001b[43m \u001b[49m\u001b[33;43m\"\u001b[39;49m\u001b[33;43mstrict\u001b[39;49m\u001b[33;43m\"\u001b[39;49m\u001b[43m)\u001b[49m\u001b[43m,\u001b[49m\n\u001b[32m   1888\u001b[39m \u001b[43m    \u001b[49m\u001b[43mstorage_options\u001b[49m\u001b[43m=\u001b[49m\u001b[38;5;28;43mself\u001b[39;49m\u001b[43m.\u001b[49m\u001b[43moptions\u001b[49m\u001b[43m.\u001b[49m\u001b[43mget\u001b[49m\u001b[43m(\u001b[49m\u001b[33;43m\"\u001b[39;49m\u001b[33;43mstorage_options\u001b[39;49m\u001b[33;43m\"\u001b[39;49m\u001b[43m,\u001b[49m\u001b[43m \u001b[49m\u001b[38;5;28;43;01mNone\u001b[39;49;00m\u001b[43m)\u001b[49m\u001b[43m,\u001b[49m\n\u001b[32m   1889\u001b[39m \u001b[43m\u001b[49m\u001b[43m)\u001b[49m\n\u001b[32m   1890\u001b[39m \u001b[38;5;28;01massert\u001b[39;00m \u001b[38;5;28mself\u001b[39m.handles \u001b[38;5;129;01mis\u001b[39;00m \u001b[38;5;129;01mnot\u001b[39;00m \u001b[38;5;28;01mNone\u001b[39;00m\n\u001b[32m   1891\u001b[39m f = \u001b[38;5;28mself\u001b[39m.handles.handle\n",
      "\u001b[36mFile \u001b[39m\u001b[32m~/Develop/biocadprotein/.venv/lib64/python3/site-packages/pandas/io/common.py:873\u001b[39m, in \u001b[36mget_handle\u001b[39m\u001b[34m(path_or_buf, mode, encoding, compression, memory_map, is_text, errors, storage_options)\u001b[39m\n\u001b[32m    868\u001b[39m \u001b[38;5;28;01melif\u001b[39;00m \u001b[38;5;28misinstance\u001b[39m(handle, \u001b[38;5;28mstr\u001b[39m):\n\u001b[32m    869\u001b[39m     \u001b[38;5;66;03m# Check whether the filename is to be opened in binary mode.\u001b[39;00m\n\u001b[32m    870\u001b[39m     \u001b[38;5;66;03m# Binary mode does not support 'encoding' and 'newline'.\u001b[39;00m\n\u001b[32m    871\u001b[39m     \u001b[38;5;28;01mif\u001b[39;00m ioargs.encoding \u001b[38;5;129;01mand\u001b[39;00m \u001b[33m\"\u001b[39m\u001b[33mb\u001b[39m\u001b[33m\"\u001b[39m \u001b[38;5;129;01mnot\u001b[39;00m \u001b[38;5;129;01min\u001b[39;00m ioargs.mode:\n\u001b[32m    872\u001b[39m         \u001b[38;5;66;03m# Encoding\u001b[39;00m\n\u001b[32m--> \u001b[39m\u001b[32m873\u001b[39m         handle = \u001b[38;5;28;43mopen\u001b[39;49m\u001b[43m(\u001b[49m\n\u001b[32m    874\u001b[39m \u001b[43m            \u001b[49m\u001b[43mhandle\u001b[49m\u001b[43m,\u001b[49m\n\u001b[32m    875\u001b[39m \u001b[43m            \u001b[49m\u001b[43mioargs\u001b[49m\u001b[43m.\u001b[49m\u001b[43mmode\u001b[49m\u001b[43m,\u001b[49m\n\u001b[32m    876\u001b[39m \u001b[43m            \u001b[49m\u001b[43mencoding\u001b[49m\u001b[43m=\u001b[49m\u001b[43mioargs\u001b[49m\u001b[43m.\u001b[49m\u001b[43mencoding\u001b[49m\u001b[43m,\u001b[49m\n\u001b[32m    877\u001b[39m \u001b[43m            \u001b[49m\u001b[43merrors\u001b[49m\u001b[43m=\u001b[49m\u001b[43merrors\u001b[49m\u001b[43m,\u001b[49m\n\u001b[32m    878\u001b[39m \u001b[43m            \u001b[49m\u001b[43mnewline\u001b[49m\u001b[43m=\u001b[49m\u001b[33;43m\"\u001b[39;49m\u001b[33;43m\"\u001b[39;49m\u001b[43m,\u001b[49m\n\u001b[32m    879\u001b[39m \u001b[43m        \u001b[49m\u001b[43m)\u001b[49m\n\u001b[32m    880\u001b[39m     \u001b[38;5;28;01melse\u001b[39;00m:\n\u001b[32m    881\u001b[39m         \u001b[38;5;66;03m# Binary mode\u001b[39;00m\n\u001b[32m    882\u001b[39m         handle = \u001b[38;5;28mopen\u001b[39m(handle, ioargs.mode)\n",
      "\u001b[31mFileNotFoundError\u001b[39m: [Errno 2] No such file or directory: 'dataset.csv'"
     ]
    }
   ],
   "source": [
    "dataset = FPbase('dataset.csv')\n",
    "df_ident = pd.read_csv('sequence_distance_matrix.csv', index_col=0)"
   ]
  },
  {
   "cell_type": "markdown",
   "id": "672d986b",
   "metadata": {},
   "source": [
    "### Реализация алгоритма KNN"
   ]
  },
  {
   "cell_type": "markdown",
   "id": "692da9a1",
   "metadata": {},
   "source": [
    "Поиск расстояния между последовательнотсями аминокислот."
   ]
  },
  {
   "cell_type": "code",
   "execution_count": 3,
   "id": "0a3a87b3",
   "metadata": {},
   "outputs": [],
   "source": [
    "def ident(seq_1, seq_2):\n",
    "    return df_ident.loc[seq_1.strip(), seq_2.strip()]"
   ]
  },
  {
   "cell_type": "markdown",
   "id": "a85be76e",
   "metadata": {},
   "source": [
    "Реализация KNN в задаче регрессии."
   ]
  },
  {
   "cell_type": "code",
   "execution_count": null,
   "id": "95e5845c",
   "metadata": {},
   "outputs": [],
   "source": [
    "def knn_regressor(x_train, y_train, x_test, k):\n",
    "    predictions = []\n",
    "    for test_seq in x_test:\n",
    "        similarities = []\n",
    "        for train_seq, train_target in zip(x_train, y_train):\n",
    "            sim = ident(test_seq, train_seq)\n",
    "            similarities.append((train_target, sim))\n",
    "        similarities.sort(key=lambda x: -x[1])\n",
    "        neighbors = similarities[:k]\n",
    "\n",
    "        pred = np.mean([neighbor[0] for neighbor in neighbors])\n",
    "        predictions.append(pred)\n",
    "\n",
    "    return predictions"
   ]
  },
  {
   "cell_type": "markdown",
   "id": "2a7be260",
   "metadata": {},
   "source": [
    "Подбор гиперпараметров, методом кросс-валидации."
   ]
  },
  {
   "cell_type": "code",
   "execution_count": null,
   "id": "04376015",
   "metadata": {},
   "outputs": [],
   "source": [
    "def cross_validate(x_train, y_train, kf_split, k_max):\n",
    "    kf = KFold(n_splits=kf_split)\n",
    "    best_k = 1\n",
    "    best_score = np.inf\n",
    "\n",
    "    for k in tqdm(range(1, k_max + 1)):\n",
    "        fold_scores = []\n",
    "\n",
    "        for train_index, test_index in kf.split(x_train):\n",
    "            X_train, X_test = x_train.iloc[train_index], x_train.iloc[test_index]\n",
    "            y_train_fold, y_test = y_train.iloc[train_index], y_train.iloc[test_index]\n",
    "\n",
    "            predict = knn_regressor(X_train, y_train_fold, X_test, k)\n",
    "\n",
    "            valid_mask = ~pd.isna(predict)\n",
    "            if sum(valid_mask) == 0:\n",
    "                continue\n",
    "                \n",
    "            metrics = get_regression_metrics(\n",
    "                np.array(predict)[valid_mask], \n",
    "                y_test[valid_mask], \n",
    "            )\n",
    "            fold_scores.append(metrics['rmse'])\n",
    "\n",
    "        if not fold_scores:\n",
    "            continue\n",
    "            \n",
    "        mean_score = np.mean(fold_scores)\n",
    "        \n",
    "        if mean_score < best_score:\n",
    "            best_score = mean_score\n",
    "            best_k = k\n",
    "    return best_k"
   ]
  },
  {
   "cell_type": "markdown",
   "id": "b2ff7b0c",
   "metadata": {},
   "source": [
    "## Метрики"
   ]
  },
  {
   "cell_type": "code",
   "execution_count": 6,
   "id": "0b74a2dc",
   "metadata": {},
   "outputs": [],
   "source": [
    "def metrics_reg(metrics):\n",
    "    print(f'\\t RMSE: {metrics['rmse']}')\n",
    "    print(f'\\t MAE: {metrics['mae']}')\n",
    "    print(f'\\t R2: {metrics['r2']}')\n",
    "    print(f'\\t MAE (med.): {metrics['mae_median']}')"
   ]
  },
  {
   "cell_type": "code",
   "execution_count": null,
   "id": "1cc9067d",
   "metadata": {},
   "outputs": [
    {
     "name": "stdout",
     "output_type": "stream",
     "text": [
      "brightness\n"
     ]
    },
    {
     "name": "stderr",
     "output_type": "stream",
     "text": [
      "100%|██████████| 30/30 [00:35<00:00,  1.17s/it]\n"
     ]
    },
    {
     "name": "stdout",
     "output_type": "stream",
     "text": [
      "k: 5\n",
      "Scaled:\n",
      "\t RMSE: 0.7412173589207028\n",
      "\t MAE: 0.507162649397322\n",
      "\t R2: 0.48928575551555786\n",
      "\t MAE (med.): 0.3323219950617097\n",
      "Rescaled:\n",
      "\t RMSE: 22.855105559444116\n",
      "\t MAE: 15.638133333333334\n",
      "\t R2: 0.48928575551555775\n",
      "\t MAE (med.): 10.247\n",
      "\n",
      "em_max\n"
     ]
    },
    {
     "name": "stderr",
     "output_type": "stream",
     "text": [
      "100%|██████████| 30/30 [01:09<00:00,  2.32s/it]\n"
     ]
    },
    {
     "name": "stdout",
     "output_type": "stream",
     "text": [
      "k: 1\n",
      "Scaled:\n",
      "\t RMSE: 0.5277660222068801\n",
      "\t MAE: 0.24677351033531916\n",
      "\t R2: 0.6888330674145302\n",
      "\t MAE (med.): 0.03112626603172086\n",
      "Rescaled:\n",
      "\t RMSE: 33.91129675940145\n",
      "\t MAE: 15.8562874251497\n",
      "\t R2: 0.6888330674145303\n",
      "\t MAE (med.): 2.0\n",
      "\n",
      "ex_max\n"
     ]
    },
    {
     "name": "stderr",
     "output_type": "stream",
     "text": [
      "100%|██████████| 30/30 [01:18<00:00,  2.61s/it]\n"
     ]
    },
    {
     "name": "stdout",
     "output_type": "stream",
     "text": [
      "k: 3\n",
      "Scaled:\n",
      "\t RMSE: 0.560141054302693\n",
      "\t MAE: 0.3526708467947944\n",
      "\t R2: 0.6677765093830835\n",
      "\t MAE (med.): 0.1795792685665914\n",
      "Rescaled:\n",
      "\t RMSE: 37.43022624652124\n",
      "\t MAE: 23.566473988439306\n",
      "\t R2: 0.6677765093830835\n",
      "\t MAE (med.): 12.0\n",
      "\n",
      "ext_coeff\n"
     ]
    },
    {
     "name": "stderr",
     "output_type": "stream",
     "text": [
      "100%|██████████| 30/30 [00:37<00:00,  1.26s/it]\n"
     ]
    },
    {
     "name": "stdout",
     "output_type": "stream",
     "text": [
      "k: 2\n",
      "Scaled:\n",
      "\t RMSE: 0.8337854146769339\n",
      "\t MAE: 0.5829458364789102\n",
      "\t R2: 0.4346668268309095\n",
      "\t MAE (med.): 0.35492514186645163\n",
      "Rescaled:\n",
      "\t RMSE: 31479.10147451571\n",
      "\t MAE: 22008.79365079365\n",
      "\t R2: 0.4346668268309094\n",
      "\t MAE (med.): 13400.0\n",
      "\n",
      "lifetime\n"
     ]
    },
    {
     "name": "stderr",
     "output_type": "stream",
     "text": [
      "100%|██████████| 30/30 [00:04<00:00,  7.48it/s]\n"
     ]
    },
    {
     "name": "stdout",
     "output_type": "stream",
     "text": [
      "k: 4\n",
      "Scaled:\n",
      "\t RMSE: 1.5785460811112475\n",
      "\t MAE: 0.6631146885927949\n",
      "\t R2: 0.3601461220166019\n",
      "\t MAE (med.): 0.245165641909308\n",
      "Rescaled:\n",
      "\t RMSE: 1.8350272477541036\n",
      "\t MAE: 0.7708571428571429\n",
      "\t R2: 0.3601461220166018\n",
      "\t MAE (med.): 0.28500000000000014\n",
      "\n",
      "maturation\n"
     ]
    },
    {
     "name": "stderr",
     "output_type": "stream",
     "text": [
      "100%|██████████| 30/30 [00:03<00:00,  9.84it/s]\n"
     ]
    },
    {
     "name": "stdout",
     "output_type": "stream",
     "text": [
      "k: 20\n",
      "Scaled:\n",
      "\t RMSE: 0.47439700100830845\n",
      "\t MAE: 0.3670827142930148\n",
      "\t R2: 0.07842265056394604\n",
      "\t MAE (med.): 0.3182861769729677\n",
      "Rescaled:\n",
      "\t RMSE: 100.49515218407302\n",
      "\t MAE: 77.76194444444444\n",
      "\t R2: 0.07842265056394582\n",
      "\t MAE (med.): 67.425\n",
      "\n",
      "pka\n"
     ]
    },
    {
     "name": "stderr",
     "output_type": "stream",
     "text": [
      "100%|██████████| 30/30 [00:15<00:00,  1.89it/s]\n"
     ]
    },
    {
     "name": "stdout",
     "output_type": "stream",
     "text": [
      "k: 12\n",
      "Scaled:\n",
      "\t RMSE: 1.230376790021117\n",
      "\t MAE: 0.8062922685857539\n",
      "\t R2: 0.10611251314067638\n",
      "\t MAE (med.): 0.48329206908236994\n",
      "Rescaled:\n",
      "\t RMSE: 1.3842920717574583\n",
      "\t MAE: 0.9071562499999999\n",
      "\t R2: 0.10611251314067627\n",
      "\t MAE (med.): 0.5437499999999997\n",
      "\n",
      "stokes_shift\n"
     ]
    },
    {
     "name": "stderr",
     "output_type": "stream",
     "text": [
      "100%|██████████| 30/30 [01:10<00:00,  2.35s/it]\n"
     ]
    },
    {
     "name": "stdout",
     "output_type": "stream",
     "text": [
      "k: 3\n",
      "Scaled:\n",
      "\t RMSE: 0.6036733152929479\n",
      "\t MAE: 0.35922762135108044\n",
      "\t R2: 0.36456125512938475\n",
      "\t MAE (med.): 0.1326061290133299\n",
      "Rescaled:\n",
      "\t RMSE: 22.7618934277263\n",
      "\t MAE: 13.544910179640718\n",
      "\t R2: 0.36456125512938464\n",
      "\t MAE (med.): 5.0\n",
      "\n",
      "qy\n"
     ]
    },
    {
     "name": "stderr",
     "output_type": "stream",
     "text": [
      "100%|██████████| 30/30 [00:48<00:00,  1.63s/it]\n"
     ]
    },
    {
     "name": "stdout",
     "output_type": "stream",
     "text": [
      "k: 3\n",
      "Scaled:\n",
      "\t RMSE: 0.6473622170033797\n",
      "\t MAE: 0.4850672240569276\n",
      "\t R2: 0.5646155386352791\n",
      "\t MAE (med.): 0.38403385714680943\n",
      "Rescaled:\n",
      "\t RMSE: 0.17418801627025163\n",
      "\t MAE: 0.13051873479318737\n",
      "\t R2: 0.5646155386352794\n",
      "\t MAE (med.): 0.10333333333333339\n",
      "\n"
     ]
    }
   ],
   "source": [
    "for item in dataset.properties:\n",
    "    if item != 'agg':\n",
    "        print(item)\n",
    "        x_train, y_train = dataset.get_train(item)\n",
    "        x_test, y_test = dataset.get_test(item)\n",
    "\n",
    "        k = cross_validate(x_train, y_train, 4, 30)\n",
    "        print(f'k: {k}')\n",
    "        y_pred = knn_regressor(x_train, y_train, x_test, k)\n",
    "\n",
    "        y_test_rescaled = dataset.rescale_targets(y_test, item)\n",
    "        y_pred_rescaled = dataset.rescale_targets(y_pred, item)\n",
    "\n",
    "        print('Scaled:')\n",
    "        metrics_reg(get_regression_metrics(y_pred, y_test))\n",
    "        print('Rescaled:')\n",
    "        metrics_reg(get_regression_metrics(y_pred_rescaled, y_test_rescaled))\n",
    "        print('')"
   ]
  }
 ],
 "metadata": {
  "kernelspec": {
   "display_name": ".venv",
   "language": "python",
   "name": "python3"
  },
  "language_info": {
   "codemirror_mode": {
    "name": "ipython",
    "version": 3
   },
   "file_extension": ".py",
   "mimetype": "text/x-python",
   "name": "python",
   "nbconvert_exporter": "python",
   "pygments_lexer": "ipython3",
   "version": "3.12.10"
  }
 },
 "nbformat": 4,
 "nbformat_minor": 5
}

{
 "cells": [
  {
   "cell_type": "markdown",
   "id": "7f49f573",
   "metadata": {},
   "source": [
    "## Baseline-решение предсказания свойств ФБ, с помощью KNN"
   ]
  },
  {
   "cell_type": "markdown",
   "id": "861e7e63",
   "metadata": {},
   "source": [
    "### Подготовка к работе"
   ]
  },
  {
   "cell_type": "code",
   "execution_count": null,
   "id": "b659754e",
   "metadata": {},
   "outputs": [],
   "source": [
    "! pip install --upgrade git+https://github.com/rimgro/biocadprotein.git"
   ]
  },
  {
   "cell_type": "code",
   "execution_count": 1,
   "id": "30e8a818",
   "metadata": {},
   "outputs": [
    {
     "name": "stderr",
     "output_type": "stream",
     "text": [
      "/home/paa/Develop/biocadprotein/.venv/lib64/python3/site-packages/tqdm/auto.py:21: TqdmWarning: IProgress not found. Please update jupyter and ipywidgets. See https://ipywidgets.readthedocs.io/en/stable/user_install.html\n",
      "  from .autonotebook import tqdm as notebook_tqdm\n"
     ]
    }
   ],
   "source": [
    "from fpgen.prop_prediction.dataset import FPbase\n",
    "from fpgen.generation.metrics import identity\n",
    "\n",
    "from fpgen.prop_prediction.metrics import get_regression_metrics\n",
    "\n",
    "from sklearn.model_selection import train_test_split, KFold\n",
    "\n",
    "import pandas as pd\n",
    "import numpy as np\n",
    "from tqdm import tqdm"
   ]
  },
  {
   "cell_type": "markdown",
   "id": "8a824e8f",
   "metadata": {},
   "source": [
    "### Загрузка датасета"
   ]
  },
  {
   "cell_type": "code",
   "execution_count": 2,
   "id": "efe2b181",
   "metadata": {},
   "outputs": [],
   "source": [
    "dataset = FPbase('dataset.csv')\n",
    "df_ident = pd.read_csv('sequence_distance_matrix.csv', index_col=0)"
   ]
  },
  {
   "cell_type": "markdown",
   "id": "672d986b",
   "metadata": {},
   "source": [
    "### Реализация алгоритма KNN"
   ]
  },
  {
   "cell_type": "markdown",
   "id": "692da9a1",
   "metadata": {},
   "source": [
    "Поиск расстояния между последовательнотсями аминокислот."
   ]
  },
  {
   "cell_type": "code",
   "execution_count": 3,
   "id": "0a3a87b3",
   "metadata": {},
   "outputs": [],
   "source": [
    "def ident(seq_1, seq_2):\n",
    "    return df_ident.loc[seq_1.strip(), seq_2.strip()]"
   ]
  },
  {
   "cell_type": "markdown",
   "id": "a85be76e",
   "metadata": {},
   "source": [
    "Реализация KNN в задаче регрессии."
   ]
  },
  {
   "cell_type": "code",
   "execution_count": null,
   "id": "95e5845c",
   "metadata": {},
   "outputs": [],
   "source": [
    "def knn_regressor(x_train, y_train, x_test, k):\n",
    "    predictions = []\n",
    "    for test_seq in x_test:\n",
    "        similarities = []\n",
    "        for train_seq, train_target in zip(x_train, y_train):\n",
    "            sim = ident(test_seq, train_seq)\n",
    "            similarities.append((train_target, sim))\n",
    "        similarities.sort(key=lambda x: -x[1])\n",
    "        neighbors = similarities[:k]\n",
    "\n",
    "        pred = np.mean([neighbor[0] for neighbor in neighbors])\n",
    "        predictions.append(pred)\n",
    "\n",
    "    return predictions"
   ]
  },
  {
   "cell_type": "markdown",
   "id": "2a7be260",
   "metadata": {},
   "source": [
    "Подбор гиперпараметров, методом кросс-валидации."
   ]
  },
  {
   "cell_type": "code",
   "execution_count": 5,
   "id": "04376015",
   "metadata": {},
   "outputs": [],
   "source": [
    "def cross_validate(x_train, y_train, kf_split, k_max):\n",
    "    kf = KFold(n_splits=kf_split)\n",
    "    best_k = 1\n",
    "    best_score = np.inf\n",
    "\n",
    "    for k in tqdm(range(1, k_max + 1)):\n",
    "        fold_scores = []\n",
    "\n",
    "        for train_index, test_index in kf.split(x_train):\n",
    "            X_train, X_test = x_train.iloc[train_index], x_train.iloc[test_index]\n",
    "            y_train_fold, y_test = y_train.iloc[train_index], y_train.iloc[test_index]\n",
    "\n",
    "            predict = knn_regressor(X_train, y_train_fold, X_test, k)\n",
    "\n",
    "            valid_mask = ~pd.isna(predict)\n",
    "            if sum(valid_mask) == 0:\n",
    "                continue\n",
    "                \n",
    "            metrics = get_regression_metrics(\n",
    "                np.array(predict)[valid_mask], \n",
    "                y_test[valid_mask], \n",
    "                'reg'\n",
    "            )\n",
    "            fold_scores.append(metrics['rmse'])\n",
    "\n",
    "        if not fold_scores:\n",
    "            continue\n",
    "            \n",
    "        mean_score = np.mean(fold_scores)\n",
    "        \n",
    "        if mean_score < best_score:\n",
    "            best_score = mean_score\n",
    "            best_k = k\n",
    "    return best_k"
   ]
  },
  {
   "cell_type": "markdown",
   "id": "b2ff7b0c",
   "metadata": {},
   "source": [
    "## Метрики"
   ]
  },
  {
   "cell_type": "code",
   "execution_count": 6,
   "id": "0b74a2dc",
   "metadata": {},
   "outputs": [],
   "source": [
    "def metrics_reg(metrics):\n",
    "    print(f'\\t RMSE: {metrics['rmse']}')\n",
    "    print(f'\\t MAE: {metrics['mae']}')\n",
    "    print(f'\\t R2: {metrics['r2']}')\n",
    "    print(f'\\t MAE (med.): {metrics['mae_median']}')"
   ]
  },
  {
   "cell_type": "code",
   "execution_count": 7,
   "id": "1cc9067d",
   "metadata": {},
   "outputs": [
    {
     "name": "stdout",
     "output_type": "stream",
     "text": [
      "brightness\n"
     ]
    },
    {
     "name": "stderr",
     "output_type": "stream",
     "text": [
      "100%|██████████| 30/30 [00:35<00:00,  1.17s/it]\n"
     ]
    },
    {
     "name": "stdout",
     "output_type": "stream",
     "text": [
      "k: 5\n",
      "Scaled:\n",
      "\t RMSE: 0.7412173589207028\n",
      "\t MAE: 0.507162649397322\n",
      "\t R2: 0.48928575551555786\n",
      "\t MAE (med.): 0.3323219950617097\n",
      "Rescaled:\n",
      "\t RMSE: 22.855105559444116\n",
      "\t MAE: 15.638133333333334\n",
      "\t R2: 0.48928575551555775\n",
      "\t MAE (med.): 10.247\n",
      "\n",
      "em_max\n"
     ]
    },
    {
     "name": "stderr",
     "output_type": "stream",
     "text": [
      "100%|██████████| 30/30 [01:09<00:00,  2.32s/it]\n"
     ]
    },
    {
     "name": "stdout",
     "output_type": "stream",
     "text": [
      "k: 1\n",
      "Scaled:\n",
      "\t RMSE: 0.5277660222068801\n",
      "\t MAE: 0.24677351033531916\n",
      "\t R2: 0.6888330674145302\n",
      "\t MAE (med.): 0.03112626603172086\n",
      "Rescaled:\n",
      "\t RMSE: 33.91129675940145\n",
      "\t MAE: 15.8562874251497\n",
      "\t R2: 0.6888330674145303\n",
      "\t MAE (med.): 2.0\n",
      "\n",
      "ex_max\n"
     ]
    },
    {
     "name": "stderr",
     "output_type": "stream",
     "text": [
      "100%|██████████| 30/30 [01:18<00:00,  2.61s/it]\n"
     ]
    },
    {
     "name": "stdout",
     "output_type": "stream",
     "text": [
      "k: 3\n",
      "Scaled:\n",
      "\t RMSE: 0.560141054302693\n",
      "\t MAE: 0.3526708467947944\n",
      "\t R2: 0.6677765093830835\n",
      "\t MAE (med.): 0.1795792685665914\n",
      "Rescaled:\n",
      "\t RMSE: 37.43022624652124\n",
      "\t MAE: 23.566473988439306\n",
      "\t R2: 0.6677765093830835\n",
      "\t MAE (med.): 12.0\n",
      "\n",
      "ext_coeff\n"
     ]
    },
    {
     "name": "stderr",
     "output_type": "stream",
     "text": [
      "100%|██████████| 30/30 [00:37<00:00,  1.26s/it]\n"
     ]
    },
    {
     "name": "stdout",
     "output_type": "stream",
     "text": [
      "k: 2\n",
      "Scaled:\n",
      "\t RMSE: 0.8337854146769339\n",
      "\t MAE: 0.5829458364789102\n",
      "\t R2: 0.4346668268309095\n",
      "\t MAE (med.): 0.35492514186645163\n",
      "Rescaled:\n",
      "\t RMSE: 31479.10147451571\n",
      "\t MAE: 22008.79365079365\n",
      "\t R2: 0.4346668268309094\n",
      "\t MAE (med.): 13400.0\n",
      "\n",
      "lifetime\n"
     ]
    },
    {
     "name": "stderr",
     "output_type": "stream",
     "text": [
      "100%|██████████| 30/30 [00:04<00:00,  7.48it/s]\n"
     ]
    },
    {
     "name": "stdout",
     "output_type": "stream",
     "text": [
      "k: 4\n",
      "Scaled:\n",
      "\t RMSE: 1.5785460811112475\n",
      "\t MAE: 0.6631146885927949\n",
      "\t R2: 0.3601461220166019\n",
      "\t MAE (med.): 0.245165641909308\n",
      "Rescaled:\n",
      "\t RMSE: 1.8350272477541036\n",
      "\t MAE: 0.7708571428571429\n",
      "\t R2: 0.3601461220166018\n",
      "\t MAE (med.): 0.28500000000000014\n",
      "\n",
      "maturation\n"
     ]
    },
    {
     "name": "stderr",
     "output_type": "stream",
     "text": [
      "100%|██████████| 30/30 [00:03<00:00,  9.84it/s]\n"
     ]
    },
    {
     "name": "stdout",
     "output_type": "stream",
     "text": [
      "k: 20\n",
      "Scaled:\n",
      "\t RMSE: 0.47439700100830845\n",
      "\t MAE: 0.3670827142930148\n",
      "\t R2: 0.07842265056394604\n",
      "\t MAE (med.): 0.3182861769729677\n",
      "Rescaled:\n",
      "\t RMSE: 100.49515218407302\n",
      "\t MAE: 77.76194444444444\n",
      "\t R2: 0.07842265056394582\n",
      "\t MAE (med.): 67.425\n",
      "\n",
      "pka\n"
     ]
    },
    {
     "name": "stderr",
     "output_type": "stream",
     "text": [
      "100%|██████████| 30/30 [00:15<00:00,  1.89it/s]\n"
     ]
    },
    {
     "name": "stdout",
     "output_type": "stream",
     "text": [
      "k: 12\n",
      "Scaled:\n",
      "\t RMSE: 1.230376790021117\n",
      "\t MAE: 0.8062922685857539\n",
      "\t R2: 0.10611251314067638\n",
      "\t MAE (med.): 0.48329206908236994\n",
      "Rescaled:\n",
      "\t RMSE: 1.3842920717574583\n",
      "\t MAE: 0.9071562499999999\n",
      "\t R2: 0.10611251314067627\n",
      "\t MAE (med.): 0.5437499999999997\n",
      "\n",
      "stokes_shift\n"
     ]
    },
    {
     "name": "stderr",
     "output_type": "stream",
     "text": [
      "100%|██████████| 30/30 [01:10<00:00,  2.35s/it]\n"
     ]
    },
    {
     "name": "stdout",
     "output_type": "stream",
     "text": [
      "k: 3\n",
      "Scaled:\n",
      "\t RMSE: 0.6036733152929479\n",
      "\t MAE: 0.35922762135108044\n",
      "\t R2: 0.36456125512938475\n",
      "\t MAE (med.): 0.1326061290133299\n",
      "Rescaled:\n",
      "\t RMSE: 22.7618934277263\n",
      "\t MAE: 13.544910179640718\n",
      "\t R2: 0.36456125512938464\n",
      "\t MAE (med.): 5.0\n",
      "\n",
      "qy\n"
     ]
    },
    {
     "name": "stderr",
     "output_type": "stream",
     "text": [
      "100%|██████████| 30/30 [00:48<00:00,  1.63s/it]\n"
     ]
    },
    {
     "name": "stdout",
     "output_type": "stream",
     "text": [
      "k: 3\n",
      "Scaled:\n",
      "\t RMSE: 0.6473622170033797\n",
      "\t MAE: 0.4850672240569276\n",
      "\t R2: 0.5646155386352791\n",
      "\t MAE (med.): 0.38403385714680943\n",
      "Rescaled:\n",
      "\t RMSE: 0.17418801627025163\n",
      "\t MAE: 0.13051873479318737\n",
      "\t R2: 0.5646155386352794\n",
      "\t MAE (med.): 0.10333333333333339\n",
      "\n"
     ]
    }
   ],
   "source": [
    "for item in dataset.properties:\n",
    "    if item != 'agg':\n",
    "        print(item)\n",
    "        x_train, y_train = dataset.get_train(item)\n",
    "        x_test, y_test = dataset.get_test(item)\n",
    "\n",
    "        k = cross_validate(x_train, y_train, 4, 30)\n",
    "        print(f'k: {k}')\n",
    "        y_pred = knn_regressor(x_train, y_train, x_test, k)\n",
    "\n",
    "        y_test_rescaled = dataset.rescale_targets(y_test, item)\n",
    "        y_pred_rescaled = dataset.rescale_targets(y_pred, item)\n",
    "\n",
    "        print('Scaled:')\n",
    "        metrics_reg(get_regression_metrics(y_pred, y_test, 'reg'))\n",
    "        print('Rescaled:')\n",
    "        metrics_reg(get_regression_metrics(y_pred_rescaled, y_test_rescaled, 'reg'))\n",
    "        print('')"
   ]
  }
 ],
 "metadata": {
  "kernelspec": {
   "display_name": ".venv",
   "language": "python",
   "name": "python3"
  },
  "language_info": {
   "codemirror_mode": {
    "name": "ipython",
    "version": 3
   },
   "file_extension": ".py",
   "mimetype": "text/x-python",
   "name": "python",
   "nbconvert_exporter": "python",
   "pygments_lexer": "ipython3",
   "version": "3.12.10"
  }
 },
 "nbformat": 4,
 "nbformat_minor": 5
}

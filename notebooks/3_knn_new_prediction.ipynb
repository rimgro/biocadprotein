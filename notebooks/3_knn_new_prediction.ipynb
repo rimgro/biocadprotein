{
 "cells": [
  {
   "cell_type": "markdown",
   "id": "7f49f573",
   "metadata": {},
   "source": [
    "## Baseline-решение предсказания свойств ФБ, с помощью KNN"
   ]
  },
  {
   "cell_type": "markdown",
   "id": "861e7e63",
   "metadata": {},
   "source": [
    "### Подготовка к работе"
   ]
  },
  {
   "cell_type": "code",
   "execution_count": null,
   "id": "b659754e",
   "metadata": {},
   "outputs": [],
   "source": [
    "! pip install --upgrade git+https://github.com/rimgro/biocadprotein.git"
   ]
  },
  {
   "cell_type": "code",
   "execution_count": null,
   "id": "30e8a818",
   "metadata": {},
   "outputs": [],
   "source": [
    "from fpgen.prop_prediction.dataset import FPbase\n",
    "from fpgen.generation.metrics import identity\n",
    "\n",
    "from fpgen.prop_prediction.metrics import get_regression_metrics, get_classification_metrics\n",
    "\n",
    "from sklearn.model_selection import train_test_split, KFold\n",
    "\n",
    "import pandas as pd\n",
    "import numpy as np\n",
    "from tqdm import tqdm\n",
    "from collections import Counter"
   ]
  },
  {
   "cell_type": "markdown",
   "id": "8a824e8f",
   "metadata": {},
   "source": [
    "### Загрузка датасета"
   ]
  },
  {
   "cell_type": "code",
   "execution_count": null,
   "id": "efe2b181",
   "metadata": {},
   "outputs": [],
   "source": [
    "dataset = FPbase('../data/dataset.csv')\n",
    "df_ident = pd.read_csv('../data/sequence_distance_matrix.csv', index_col=0)"
   ]
  },
  {
   "cell_type": "markdown",
   "id": "672d986b",
   "metadata": {},
   "source": [
    "### Реализация алгоритма KNN"
   ]
  },
  {
   "cell_type": "markdown",
   "id": "692da9a1",
   "metadata": {},
   "source": [
    "Поиск расстояния между последовательнотсями аминокислот."
   ]
  },
  {
   "cell_type": "code",
   "execution_count": null,
   "id": "0a3a87b3",
   "metadata": {},
   "outputs": [],
   "source": [
    "def ident(seq_1, seq_2):\n",
    "    return df_ident.loc[seq_1.strip(), seq_2.strip()]"
   ]
  },
  {
   "cell_type": "markdown",
   "id": "a85be76e",
   "metadata": {},
   "source": [
    "Реализация KNN в задаче регрессии."
   ]
  },
  {
   "cell_type": "code",
   "execution_count": null,
   "id": "95e5845c",
   "metadata": {},
   "outputs": [],
   "source": [
    "def knn(x_train, y_train, x_test, k, knn_type):\n",
    "    predictions = []\n",
    "    for test_seq in x_test:\n",
    "        similarities = []\n",
    "        for train_seq, train_target in zip(x_train, y_train):\n",
    "            sim = ident(test_seq, train_seq)\n",
    "            similarities.append((train_target, sim))\n",
    "        similarities.sort(key=lambda x: -x[1])\n",
    "        neighbors = similarities[:k]\n",
    "        if knn_type == 'reg':\n",
    "            pred = np.mean([neighbor[0] for neighbor in neighbors])\n",
    "            predictions.append(pred)\n",
    "        elif knn_type == 'class':\n",
    "            neighbor_classes = [neighbor[0] for neighbor in neighbors]\n",
    "            most_common_class = Counter(neighbor_classes).most_common(1)[0][0]\n",
    "            predictions.append(most_common_class)\n",
    "    return predictions"
   ]
  },
  {
   "cell_type": "markdown",
   "id": "2a7be260",
   "metadata": {},
   "source": [
    "Подбор гиперпараметров, методом кросс-валидации."
   ]
  },
  {
   "cell_type": "code",
   "execution_count": null,
   "id": "592b0ea8",
   "metadata": {},
   "outputs": [],
   "source": [
    "def cross_validate(x_train, y_train, kf_split, k_max, problem_type='class'):\n",
    "    kf = KFold(n_splits=kf_split)\n",
    "    \n",
    "    if problem_type == 'reg':\n",
    "        best_score = np.inf\n",
    "    elif problem_type == 'class':\n",
    "        best_score = -np.inf\n",
    "    \n",
    "    best_k = 1\n",
    "\n",
    "    for k in tqdm(range(1, k_max + 1)):\n",
    "        fold_scores = []\n",
    "\n",
    "        for train_index, test_index in kf.split(x_train):\n",
    "            X_train, X_test = x_train.iloc[train_index], x_train.iloc[test_index]\n",
    "            y_train_fold, y_test = y_train.iloc[train_index], y_train.iloc[test_index]\n",
    "\n",
    "            if problem_type == 'reg':\n",
    "                predict = knn(X_train, y_train_fold, X_test, k, knn_type='reg')\n",
    "            elif problem_type == 'class':\n",
    "                predict = knn(X_train, y_train_fold, X_test, k, knn_type='class')\n",
    "\n",
    "            valid_mask = ~pd.isna(predict)\n",
    "            if sum(valid_mask) == 0:\n",
    "                continue\n",
    "\n",
    "            if problem_type == 'reg':\n",
    "                metrics = get_regression_metrics(np.array(predict)[valid_mask], y_test[valid_mask])\n",
    "                fold_scores.append(metrics['rmse'])\n",
    "            elif problem_type == 'class':\n",
    "                metrics = get_classification_metrics(np.array(predict)[valid_mask], y_test[valid_mask])\n",
    "                fold_scores.append(metrics['accuracy'])\n",
    "\n",
    "        if not fold_scores:\n",
    "            continue\n",
    "            \n",
    "        mean_score = np.mean(fold_scores)\n",
    "        \n",
    "        if problem_type == 'reg' and mean_score < best_score:\n",
    "            best_score = mean_score\n",
    "            best_k = k\n",
    "        elif problem_type == 'class' and mean_score > best_score:\n",
    "            best_score = mean_score\n",
    "            best_k = k\n",
    "            \n",
    "    return best_k"
   ]
  },
  {
   "cell_type": "markdown",
   "id": "b2ff7b0c",
   "metadata": {},
   "source": [
    "## Метрики"
   ]
  },
  {
   "cell_type": "code",
   "execution_count": null,
   "id": "0b74a2dc",
   "metadata": {},
   "outputs": [],
   "source": [
    "def metrics_reg(metrics):\n",
    "    print(f'\\t RMSE: {metrics['rmse']}')\n",
    "    print(f'\\t MAE: {metrics['mae']}')\n",
    "    print(f'\\t R2: {metrics['r2']}')\n",
    "    print(f'\\t MAE (med.): {metrics['mae_median']}')\n",
    "\n",
    "def metrics_class(metrics):\n",
    "    print(f'\\t Accuracy: {metrics['accuracy']}')\n",
    "    print(f'\\t Precision: {metrics['precision']}')\n",
    "    print(f'\\t Recall: {metrics['recall']}')\n",
    "    print(f'\\t F1: {metrics['f1']}')"
   ]
  },
  {
   "cell_type": "code",
   "execution_count": null,
   "id": "1cc9067d",
   "metadata": {},
   "outputs": [],
   "source": [
    "for item in dataset.targets:\n",
    "    if item != 'agg' and item != 'switch_type':\n",
    "        print(item)\n",
    "        x_train, y_train = dataset.get_train(item)\n",
    "        x_test, y_test = dataset.get_test(item)\n",
    "\n",
    "        k = cross_validate(x_train, y_train, 4, 30, 'reg')\n",
    "        print(f'k: {k}')\n",
    "        y_pred = knn(x_train, y_train, x_test, k, 'reg')\n",
    "\n",
    "        y_test_rescaled = dataset.rescale_targets(y_test, item)\n",
    "        y_pred_rescaled = dataset.rescale_targets(y_pred, item)\n",
    "\n",
    "        print('Scaled:')\n",
    "        metrics_reg(get_regression_metrics(y_pred, y_test))\n",
    "        print('Rescaled:')\n",
    "        metrics_reg(get_regression_metrics(y_pred_rescaled, y_test_rescaled))\n",
    "        print('')\n",
    "    else:\n",
    "        print(item)\n",
    "        x_train, y_train = dataset.get_train(item, is_scaled=False)\n",
    "        x_test, y_test = dataset.get_test(item, is_scaled=False)\n",
    "\n",
    "        k = cross_validate(x_train, y_train, 4, 30, 'class')\n",
    "        print(f'k: {k}')\n",
    "        y_pred = knn(x_train, y_train, x_test, k, 'class')\n",
    "        metrics_class(get_classification_metrics(y_pred, y_test))\n",
    "        print('')\n"
   ]
  }
 ],
 "metadata": {
  "kernelspec": {
   "display_name": ".venv",
   "language": "python",
   "name": "python3"
  },
  "language_info": {
   "codemirror_mode": {
    "name": "ipython",
    "version": 3
   },
   "file_extension": ".py",
   "mimetype": "text/x-python",
   "name": "python",
   "nbconvert_exporter": "python",
   "pygments_lexer": "ipython3",
   "version": "3.12.10"
  }
 },
 "nbformat": 4,
 "nbformat_minor": 5
}

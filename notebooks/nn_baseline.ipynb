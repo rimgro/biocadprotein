{
 "cells": [
  {
   "cell_type": "code",
   "execution_count": 1,
   "id": "ad4d4111",
   "metadata": {},
   "outputs": [],
   "source": [
    "import torch\n",
    "import torch.nn as nn\n",
    "import torch.nn.functional as F\n",
    "import numpy as np\n",
    "from torch.utils.data import Dataset, DataLoader\n"
   ]
  },
  {
   "cell_type": "code",
   "execution_count": 2,
   "id": "fda49740",
   "metadata": {},
   "outputs": [
    {
     "data": {
      "text/plain": [
       "'cuda'"
      ]
     },
     "execution_count": 2,
     "metadata": {},
     "output_type": "execute_result"
    }
   ],
   "source": [
    "device = \"cuda\" if torch.cuda.is_available() else \"cpu\"\n",
    "device"
   ]
  },
  {
   "cell_type": "code",
   "execution_count": 3,
   "id": "9d27351e",
   "metadata": {},
   "outputs": [],
   "source": [
    "import torch\n",
    "import torch.nn as nn\n",
    "import torch.nn.functional as F\n",
    "import numpy as np\n",
    "from torch.utils.data import Dataset, DataLoader\n",
    "from sklearn.preprocessing import StandardScaler\n",
    "import pandas as pd\n",
    "\n",
    "# Define the amino acid alphabet\n",
    "AMINO_ACIDS = 'ACDEFGHIKLMNPQRSTVWY'\n",
    "AA_TO_IDX = {aa: idx for idx, aa in enumerate(AMINO_ACIDS)}\n",
    "IDX_TO_AA = {idx: aa for idx, aa in enumerate(AMINO_ACIDS)}\n",
    "\n",
    "class ProteinDataset(Dataset):\n",
    "    \"\"\"\n",
    "    Custom dataset class for protein sequences and their properties.\n",
    "    \n",
    "    This class handles the conversion from amino acid sequences to numerical\n",
    "    representations and manages the relationship between sequences and their\n",
    "    target properties.\n",
    "    \"\"\"\n",
    "    \n",
    "    def __init__(self, sequences, targets, max_length=500):\n",
    "        # If sequences/targets are pandas Series – drop old index and convert\n",
    "        if isinstance(sequences, pd.Series):\n",
    "            sequences = sequences.reset_index(drop=True).tolist()\n",
    "        if isinstance(targets, pd.Series):\n",
    "            targets = targets.reset_index(drop=True).tolist()\n",
    "\n",
    "        self.sequences = sequences          # now a simple Python list\n",
    "        self.targets   = targets            # plain list as well\n",
    "        self.max_length = max_length\n",
    "\n",
    "        # Normalise targets\n",
    "        self.target_scaler = StandardScaler()\n",
    "        self.normalized_targets = self.target_scaler.fit_transform(\n",
    "            np.array(self.targets).reshape(-1, 1)\n",
    "        ).flatten()\n",
    "\n",
    "    def __len__(self):\n",
    "        return len(self.sequences)\n",
    "\n",
    "    def __getitem__(self, idx):\n",
    "        sequence = self.sequences[idx]\n",
    "        target   = self.normalized_targets[idx]\n",
    "\n",
    "        sequence_tensor = self.sequence_to_tensor(sequence)\n",
    "        target_tensor   = torch.tensor(target, dtype=torch.float32)\n",
    "        return sequence_tensor, target_tensor\n",
    "    \n",
    "    def sequence_to_tensor(self, sequence):\n",
    "        \"\"\"\n",
    "        Convert a protein sequence string to a one-hot encoded tensor.\n",
    "        \n",
    "        This function handles padding and truncation to ensure all sequences\n",
    "        have the same length.\n",
    "        \"\"\"\n",
    "        # Truncate if too long\n",
    "        if len(sequence) > self.max_length:\n",
    "            sequence = sequence[:self.max_length]\n",
    "        \n",
    "        # Create one-hot encoding\n",
    "        tensor = torch.zeros(self.max_length, len(AMINO_ACIDS))\n",
    "        \n",
    "        for i, aa in enumerate(sequence):\n",
    "            if aa in AA_TO_IDX:\n",
    "                tensor[i, AA_TO_IDX[aa]] = 1.0\n",
    "        \n",
    "        return tensor\n",
    "    \n",
    "    def denormalize_target(self, normalized_value):\n",
    "        \"\"\"\n",
    "        Convert normalized target back to original scale.\n",
    "        \n",
    "        This is useful for interpreting model predictions.\n",
    "        \"\"\"\n",
    "        return self.target_scaler.inverse_transform([[normalized_value]])[0][0]"
   ]
  },
  {
   "cell_type": "code",
   "execution_count": 4,
   "id": "7ddebc5c",
   "metadata": {},
   "outputs": [],
   "source": [
    "import torch\n",
    "import torch.nn as nn\n",
    "import torch.nn.functional as F\n",
    "\n",
    "class ProteinCNN(nn.Module):\n",
    "    \"\"\"\n",
    "    An intermediate CNN that balances complexity and regularization.\n",
    "    - Restores one deeper convolutional layer to capture hierarchical patterns.\n",
    "    - Uses a moderately sized fully-connected head.\n",
    "    \"\"\" \n",
    "\n",
    "    def __init__(self, num_amino_acids=21, embedding_dim=64, num_filters=96, dropout_rate=0.4):\n",
    "        \"\"\"\n",
    "        Initialize the intermediate CNN architecture.\n",
    "        \n",
    "        Args:\n",
    "            num_amino_acids: Vocabulary size (e.g., 20 + 1 for padding).\n",
    "            embedding_dim: Size of the learned embedding vector.\n",
    "            num_filters: Number of filters. Increased slightly to 96 to give more capacity.\n",
    "            dropout_rate: A more moderate dropout rate.\n",
    "        \"\"\"\n",
    "        super(ProteinCNN, self).__init__()\n",
    "\n",
    "        self.embedding = nn.Embedding(num_embeddings=num_amino_acids, embedding_dim=embedding_dim)\n",
    "\n",
    "        # First block of convolutions with different kernel sizes\n",
    "        self.conv1 = nn.Conv1d(embedding_dim, num_filters, kernel_size=3, padding=1)\n",
    "        self.conv2 = nn.Conv1d(embedding_dim, num_filters, kernel_size=5, padding=2)\n",
    "        self.conv3 = nn.Conv1d(embedding_dim, num_filters, kernel_size=7, padding=3)\n",
    "\n",
    "        self.batch_norm1 = nn.BatchNorm1d(num_filters)\n",
    "        self.batch_norm2 = nn.BatchNorm1d(num_filters)\n",
    "        self.batch_norm3 = nn.BatchNorm1d(num_filters)\n",
    "\n",
    "        # --- RESTORED a deeper convolutional layer ---\n",
    "        # This allows the model to learn combinations of the initial motifs.\n",
    "        # It takes the concatenated output (num_filters * 3) as input.\n",
    "        self.conv4 = nn.Conv1d(num_filters * 3, num_filters * 2, kernel_size=3, padding=1)\n",
    "        self.batch_norm4 = nn.BatchNorm1d(num_filters * 2)\n",
    "        \n",
    "        self.global_pool = nn.AdaptiveAvgPool1d(1)\n",
    "        \n",
    "        # --- FC head is more powerful than before, but simpler than original ---\n",
    "        # The input is from conv4, which has num_filters * 2 channels.\n",
    "        self.fc1 = nn.Linear(num_filters * 2, 256) \n",
    "        self.fc_out = nn.Linear(256, 1)\n",
    "        \n",
    "        self.dropout = nn.Dropout(dropout_rate)\n",
    "\n",
    "    def forward(self, x_one_hot):\n",
    "        \"\"\"\n",
    "        Forward pass.\n",
    "        \n",
    "        Args:\n",
    "            x_one_hot: Input tensor of one-hot vectors [batch, seq_len, num_amino_acids]\n",
    "        \"\"\"\n",
    "        # Convert one-hot to indices on the fly\n",
    "        x_indices = torch.argmax(x_one_hot, dim=2)\n",
    "        \n",
    "        x = self.embedding(x_indices)\n",
    "        x = x.transpose(1, 2)\n",
    "        \n",
    "        # First conv block\n",
    "        conv1_out = F.relu(self.batch_norm1(self.conv1(x)))\n",
    "        conv2_out = F.relu(self.batch_norm2(self.conv2(x)))\n",
    "        conv3_out = F.relu(self.batch_norm3(self.conv3(x)))\n",
    "        \n",
    "        x = torch.cat([conv1_out, conv2_out, conv3_out], dim=1)\n",
    "        \n",
    "        # --- Apply the deeper conv layer ---\n",
    "        x = F.relu(self.batch_norm4(self.conv4(x)))\n",
    "        x = self.dropout(x) # Apply dropout after the main conv blocks\n",
    "        \n",
    "        x = self.global_pool(x)\n",
    "        x = x.view(x.size(0), -1)\n",
    "        \n",
    "        # FC layers\n",
    "        x = F.relu(self.fc1(x))\n",
    "        x = self.dropout(x)\n",
    "        \n",
    "        x = self.fc_out(x)\n",
    "        \n",
    "        return x"
   ]
  },
  {
   "cell_type": "code",
   "execution_count": 5,
   "id": "0c2f0fd9",
   "metadata": {},
   "outputs": [
    {
     "name": "stdout",
     "output_type": "stream",
     "text": [
      "Training on: cuda\n"
     ]
    }
   ],
   "source": [
    "import torch\n",
    "import torch.nn as nn\n",
    "import torch.optim as optim\n",
    "from torch.utils.data import DataLoader, random_split\n",
    "import numpy as np\n",
    "import matplotlib.pyplot as plt\n",
    "from fpgen.prop_prediction.metrics import get_regression_metrics\n",
    "import time\n",
    "\n",
    "# Set random seeds for reproducibility\n",
    "# This ensures that your results are consistent across runs\n",
    "torch.manual_seed(42)\n",
    "np.random.seed(42)\n",
    "\n",
    "# Check if GPU is available\n",
    "device = torch.device('cuda' if torch.cuda.is_available() else 'cpu')\n",
    "print(f\"Training on: {device}\")"
   ]
  },
  {
   "cell_type": "code",
   "execution_count": 6,
   "id": "a45656fc",
   "metadata": {},
   "outputs": [],
   "source": [
    "import tqdm\n",
    "\n",
    "\n",
    "def train_cnn_model(model, train_loader, val_loader, num_epochs=100, learning_rate=0.001):\n",
    "    \"\"\"\n",
    "    Train the CNN model with careful monitoring and early stopping.\n",
    "    \n",
    "    This function implements best practices for training neural networks on small datasets,\n",
    "    including learning rate scheduling, early stopping, and comprehensive monitoring.\n",
    "    \"\"\"\n",
    "    print(torch.cuda.device_count())\n",
    "    torch.cuda.set_device(0)\n",
    "    # Move model to the appropriate device (GPU if available)\n",
    "    model = model.to(device)\n",
    "    # print devices\n",
    "    \n",
    "    \n",
    "    # Choose optimizer and loss function\n",
    "    # Adam is generally a good choice for CNNs because it adapts the learning rate\n",
    "    optimizer = optim.Adam(model.parameters(), lr=learning_rate, weight_decay=1e-5)\n",
    "    \n",
    "    # Mean Squared Error for regression tasks\n",
    "    criterion = nn.MSELoss()\n",
    "    \n",
    "    # Learning rate scheduler - reduces learning rate when validation loss plateaus\n",
    "    scheduler = optim.lr_scheduler.ReduceLROnPlateau(\n",
    "        optimizer, mode='min', patience=10, factor=0.5\n",
    "    )\n",
    "    \n",
    "    # Early stopping to prevent overfitting\n",
    "    best_val_loss = float('inf')\n",
    "    patience_counter = 0\n",
    "    early_stopping_patience = 20\n",
    "    \n",
    "    # Track training history\n",
    "    train_losses = []\n",
    "    val_losses = []\n",
    "    learning_rates = []\n",
    "    \n",
    "    print(\"Starting training...\")\n",
    "    print(f\"Training batches per epoch: {len(train_loader)}\")\n",
    "    print(f\"Validation batches per epoch: {len(val_loader)}\")\n",
    "    \n",
    "    for epoch in tqdm.tqdm(range(num_epochs)):\n",
    "        # Training phase\n",
    "        model.train()  # Set model to training mode\n",
    "        train_loss = 0.0\n",
    "        train_batches = 0\n",
    "        for batch_idx, (sequences, targets) in enumerate(train_loader):\n",
    "            # Move data to device\n",
    "            sequences = sequences.to(device)\n",
    "            targets = targets.to(device)\n",
    "\n",
    "            # Zero the gradients\n",
    "            optimizer.zero_grad()\n",
    "            \n",
    "            # Forward pass\n",
    "            predictions = model(sequences)\n",
    "            \n",
    "            # Calculate loss\n",
    "            loss = criterion(predictions.squeeze(), targets)\n",
    "            \n",
    "            # Backward pass\n",
    "            loss.backward()\n",
    "            \n",
    "            # Gradient clipping to prevent exploding gradients\n",
    "            torch.nn.utils.clip_grad_norm_(model.parameters(), max_norm=1.0)\n",
    "            \n",
    "            # Update parameters\n",
    "            optimizer.step()\n",
    "            \n",
    "            train_loss += loss.item()\n",
    "            train_batches += 1\n",
    "            \n",
    "            # Print progress every 10 batches\n",
    "            if batch_idx % 10 == 0:\n",
    "                print(f'Epoch {epoch+1}, Batch {batch_idx}, Loss: {loss.item():.6f}')\n",
    "        \n",
    "        # Calculate average training loss\n",
    "        avg_train_loss = train_loss / train_batches\n",
    "        \n",
    "        # Validation phase\n",
    "        model.eval()  # Set model to evaluation mode\n",
    "        val_loss = 0.0\n",
    "        val_batches = 0\n",
    "        \n",
    "        with torch.no_grad():  # Disable gradient computation for efficiency\n",
    "            for sequences, targets in val_loader:\n",
    "                sequences = sequences.to(device)\n",
    "                targets = targets.to(device)\n",
    "                \n",
    "                predictions = model(sequences)\n",
    "                loss = criterion(predictions.squeeze(), targets)\n",
    "                \n",
    "                val_loss += loss.item()\n",
    "                val_batches += 1\n",
    "        \n",
    "        avg_val_loss = val_loss / val_batches\n",
    "        \n",
    "        # Record history\n",
    "        train_losses.append(avg_train_loss)\n",
    "        val_losses.append(avg_val_loss)\n",
    "        learning_rates.append(optimizer.param_groups[0]['lr'])\n",
    "        \n",
    "        # Print epoch summary\n",
    "        print(f'Epoch {epoch+1}/{num_epochs}:')\n",
    "        print(f'  Train Loss: {avg_train_loss:.6f}')\n",
    "        print(f'  Val Loss: {avg_val_loss:.6f}')\n",
    "        print(f'  Learning Rate: {optimizer.param_groups[0][\"lr\"]:.8f}')\n",
    "        print('-' * 50)\n",
    "        \n",
    "        # Learning rate scheduling\n",
    "        scheduler.step(avg_val_loss)\n",
    "        \n",
    "        # Early stopping check\n",
    "        if avg_val_loss < best_val_loss:\n",
    "            best_val_loss = avg_val_loss\n",
    "            patience_counter = 0\n",
    "            # Save the best model\n",
    "            torch.save(model.state_dict(), 'best_cnn_model.pth')\n",
    "            print(f'New best model saved with validation loss: {best_val_loss:.6f}')\n",
    "        else:\n",
    "            patience_counter += 1\n",
    "            \n",
    "        if patience_counter >= early_stopping_patience:\n",
    "            print(f'Early stopping triggered after {epoch+1} epochs')\n",
    "            break\n",
    "    \n",
    "    # Load the best model\n",
    "    model.load_state_dict(torch.load('best_cnn_model.pth'))\n",
    "    \n",
    "    return model, train_losses, val_losses, learning_rates"
   ]
  },
  {
   "cell_type": "code",
   "execution_count": 7,
   "id": "daa1b7b8",
   "metadata": {},
   "outputs": [],
   "source": [
    "def setup_data_loaders(fpbase_dataset, target_name='ex_max', batch_size=32, val_split=0.2):\n",
    "    \"\"\"\n",
    "    Create training and validation data loaders using FPbase's train/test split.\n",
    "    \n",
    "    Args:\n",
    "        fpbase_dataset: Instance of FPbase class\n",
    "        target_name: Name of the target property (e.g., 'ex_max')\n",
    "        batch_size: Batch size for DataLoader\n",
    "        val_split: Fraction of training data to use for validation\n",
    "    \n",
    "    Returns:\n",
    "        train_loader: DataLoader for training data\n",
    "        val_loader: DataLoader for validation data\n",
    "        test_loader: DataLoader for test data\n",
    "        train_dataset: ProteinDataset instance for training data\n",
    "    \"\"\"\n",
    "    \n",
    "    # Get train and test data from FPbase\n",
    "    x_train, y_train = fpbase_dataset.get_train(target_name, is_scaled=True)\n",
    "    x_test, y_test = fpbase_dataset.get_test(target_name, is_scaled=True)\n",
    "    \n",
    "    # Create full training dataset\n",
    "    train_full_dataset = ProteinDataset(x_train, y_train, max_length=500)\n",
    "    \n",
    "    # Split training data into train and validation\n",
    "    total_size = len(train_full_dataset)\n",
    "    train_size = int((1 - val_split) * total_size)\n",
    "    val_size = total_size - train_size\n",
    "    \n",
    "    print(f\"Full training set size: {total_size}\")\n",
    "    print(f\"Training set size: {train_size}\")\n",
    "    print(f\"Validation set size: {val_size}\")\n",
    "    print(f\"Test set size: {len(x_test)}\")\n",
    "    \n",
    "    # Split training dataset into train and validation\n",
    "    train_dataset, val_dataset = random_split(\n",
    "        train_full_dataset, \n",
    "        [train_size, val_size],\n",
    "        generator=torch.Generator().manual_seed(42)  # For reproducibility\n",
    "    )\n",
    "    \n",
    "    # Create test dataset\n",
    "    test_dataset = ProteinDataset(x_test, y_test, max_length=500)\n",
    "    \n",
    "    # Create data loaders\n",
    "    train_loader = DataLoader(\n",
    "        train_dataset, \n",
    "        batch_size=batch_size, \n",
    "        shuffle=True,\n",
    "        num_workers=0,\n",
    "        pin_memory=True if torch.cuda.is_available() else False\n",
    "    )\n",
    "    \n",
    "    val_loader = DataLoader(\n",
    "        val_dataset, \n",
    "        batch_size=batch_size, \n",
    "        shuffle=False,\n",
    "        num_workers=0,\n",
    "        pin_memory=True if torch.cuda.is_available() else False\n",
    "    )\n",
    "    \n",
    "    test_loader = DataLoader(\n",
    "        test_dataset,\n",
    "        batch_size=batch_size,\n",
    "        shuffle=False,\n",
    "        num_workers=0,\n",
    "        pin_memory=True if torch.cuda.is_available() else False\n",
    "    )\n",
    "    \n",
    "    return train_loader, val_loader, test_loader, train_full_dataset"
   ]
  },
  {
   "cell_type": "code",
   "execution_count": 8,
   "id": "f6790103",
   "metadata": {},
   "outputs": [],
   "source": [
    "def evaluate_model(model, data_loader, dataset, fpbase_dataset, target_name='ex_max'):\n",
    "    \"\"\"\n",
    "    Evaluate the trained model and calculate performance metrics.\n",
    "    \n",
    "    This function provides comprehensive evaluation including predictions\n",
    "    on both normalized and original scales using FPbase rescaling.\n",
    "    \n",
    "    Args:\n",
    "        model: The trained model\n",
    "        data_loader: DataLoader with test/validation data\n",
    "        dataset: ProteinDataset instance\n",
    "        fpbase_dataset: FPbase instance for proper rescaling\n",
    "        target_name: Name of the target property (default: 'ex_max')\n",
    "    \"\"\"\n",
    "    \n",
    "    model.eval()\n",
    "    all_predictions = []\n",
    "    all_targets = []\n",
    "    \n",
    "    with torch.no_grad():\n",
    "        for sequences, targets in data_loader:\n",
    "            sequences = sequences.to(device)\n",
    "            targets = targets.to(device)\n",
    "            \n",
    "            predictions = model(sequences)\n",
    "            \n",
    "            all_predictions.extend(predictions.squeeze().cpu().numpy())\n",
    "            all_targets.extend(targets.cpu().numpy())\n",
    "    \n",
    "    # Convert to numpy arrays\n",
    "    all_predictions = np.array(all_predictions)\n",
    "    all_targets = np.array(all_targets)\n",
    "    \n",
    "    # Calculate metrics on normalized scale\n",
    "    metrics_normalized = get_regression_metrics(all_predictions, all_targets)\n",
    "    \n",
    "    # Rescale using FPbase for interpretable metrics\n",
    "    targets_original = fpbase_dataset.rescale_targets(all_targets, target_name)\n",
    "    predictions_original = fpbase_dataset.rescale_targets(all_predictions, target_name)\n",
    "    \n",
    "    # Calculate metrics on original scale\n",
    "    metrics_original = get_regression_metrics(predictions_original, targets_original)\n",
    "    \n",
    "    print(\"\\nModel Evaluation Results:\")\n",
    "    print(f\"Normalized metrics:\")\n",
    "    print(f\"  R² Score: {metrics_normalized['r2']:.4f}\")\n",
    "    print(f\"  RMSE: {metrics_normalized['rmse']:.4f}\")\n",
    "    print(f\"  MAE: {metrics_normalized['mae']:.4f}\")\n",
    "    print(f\"  Median AE: {metrics_normalized['mae_median']:.4f}\")\n",
    "    \n",
    "    print(f\"\\nOriginal scale metrics:\")\n",
    "    print(f\"  R² Score: {metrics_original['r2']:.4f}\")\n",
    "    print(f\"  RMSE: {metrics_original['rmse']:.4f}\")\n",
    "    print(f\"  MAE: {metrics_original['mae']:.4f}\")\n",
    "    print(f\"  Median AE: {metrics_original['mae_median']:.4f}\")\n",
    "    \n",
    "    return {\n",
    "        'predictions_original': predictions_original,\n",
    "        'targets_original': targets_original,\n",
    "        **{f\"{k}_original\": v for k, v in metrics_original.items()},\n",
    "        **{f\"{k}_normalized\": v for k, v in metrics_normalized.items()}\n",
    "    }\n",
    "\n",
    "def plot_training_history(train_losses, val_losses, learning_rates):\n",
    "    \"\"\"\n",
    "    Visualize the training process to understand model behavior.\n",
    "    \n",
    "    These plots help you understand whether your model is learning properly,\n",
    "    overfitting, or if you need to adjust hyperparameters.\n",
    "    \"\"\"\n",
    "    \n",
    "    fig, axes = plt.subplots(2, 2, figsize=(15, 10))\n",
    "    \n",
    "    # Plot training and validation losses\n",
    "    axes[0, 0].plot(train_losses, label='Training Loss', color='blue')\n",
    "    axes[0, 0].plot(val_losses, label='Validation Loss', color='red')\n",
    "    axes[0, 0].set_xlabel('Epoch')\n",
    "    axes[0, 0].set_ylabel('Loss')\n",
    "    axes[0, 0].set_title('Training and Validation Loss')\n",
    "    axes[0, 0].legend()\n",
    "    axes[0, 0].grid(True)\n",
    "    \n",
    "    # Plot learning rate schedule\n",
    "    axes[0, 1].plot(learning_rates, color='green')\n",
    "    axes[0, 1].set_xlabel('Epoch')\n",
    "    axes[0, 1].set_ylabel('Learning Rate')\n",
    "    axes[0, 1].set_title('Learning Rate Schedule')\n",
    "    axes[0, 1].set_yscale('log')\n",
    "    axes[0, 1].grid(True)\n",
    "    \n",
    "    # Plot loss difference (overfitting indicator)\n",
    "    loss_diff = np.array(val_losses) - np.array(train_losses)\n",
    "    axes[1, 0].plot(loss_diff, color='purple')\n",
    "    axes[1, 0].set_xlabel('Epoch')\n",
    "    axes[1, 0].set_ylabel('Validation Loss - Training Loss')\n",
    "    axes[1, 0].set_title('Overfitting Indicator')\n",
    "    axes[1, 0].axhline(y=0, color='black', linestyle='--', alpha=0.5)\n",
    "    axes[1, 0].grid(True)\n",
    "    \n",
    "    # Plot validation loss with trend\n",
    "    axes[1, 1].plot(val_losses, color='red', alpha=0.7)\n",
    "    # Add trend line\n",
    "    z = np.polyfit(range(len(val_losses)), val_losses, 1)\n",
    "    p = np.poly1d(z)\n",
    "    axes[1, 1].plot(range(len(val_losses)), p(range(len(val_losses))), \n",
    "                   color='black', linestyle='--', label='Trend')\n",
    "    axes[1, 1].set_xlabel('Epoch')\n",
    "    axes[1, 1].set_ylabel('Validation Loss')\n",
    "    axes[1, 1].set_title('Validation Loss with Trend')\n",
    "    axes[1, 1].legend()\n",
    "    axes[1, 1].grid(True)\n",
    "    \n",
    "    plt.tight_layout()\n",
    "    plt.show()"
   ]
  },
  {
   "cell_type": "code",
   "execution_count": 9,
   "id": "13f0db30",
   "metadata": {},
   "outputs": [],
   "source": [
    "import sys\n",
    "import os\n",
    "sys.path.append(os.path.abspath(os.path.join(os.getcwd(), '..')))"
   ]
  },
  {
   "cell_type": "code",
   "execution_count": 10,
   "id": "858a0cca",
   "metadata": {},
   "outputs": [
    {
     "name": "stdout",
     "output_type": "stream",
     "text": [
      "Full training set size: 676\n",
      "Training set size: 540\n",
      "Validation set size: 136\n",
      "Test set size: 173\n"
     ]
    }
   ],
   "source": [
    "# Initialize FPbase dataset\n",
    "from fpgen.prop_prediction.dataset import FPbase\n",
    "dataset = FPbase()\n",
    "\n",
    "# Create data loaders using FPbase's train/test split\n",
    "batch_size = 32\n",
    "train_loader, val_loader, test_loader, train_dataset = setup_data_loaders(\n",
    "    fpbase_dataset=dataset,\n",
    "    target_name='ex_max',\n",
    "    batch_size=batch_size,\n",
    "    val_split=0.2  # 20% of training data for validation\n",
    ")"
   ]
  },
  {
   "cell_type": "code",
   "execution_count": 11,
   "id": "7d1098cc",
   "metadata": {},
   "outputs": [
    {
     "name": "stdout",
     "output_type": "stream",
     "text": [
      "CUDA available : True\n",
      "GPU count       : 1\n",
      "GPU 0 name     : NVIDIA GeForce RTX 4050 Laptop GPU\n",
      "GPU 0 capability: (8, 9)\n"
     ]
    }
   ],
   "source": [
    "import torch\n",
    "print(\"CUDA available :\", torch.cuda.is_available())\n",
    "print(\"GPU count       :\", torch.cuda.device_count())\n",
    "for i in range(torch.cuda.device_count()):\n",
    "    print(f\"GPU {i} name     :\", torch.cuda.get_device_name(i))\n",
    "    print(f\"GPU {i} capability:\",\n",
    "          torch.cuda.get_device_capability(i))"
   ]
  },
  {
   "cell_type": "code",
   "execution_count": 12,
   "id": "de63c8c8",
   "metadata": {},
   "outputs": [
    {
     "name": "stdout",
     "output_type": "stream",
     "text": [
      "Starting training...\n",
      "1\n",
      "Starting training...\n",
      "Training batches per epoch: 17\n",
      "Validation batches per epoch: 5\n"
     ]
    },
    {
     "name": "stderr",
     "output_type": "stream",
     "text": [
      "  0%|          | 0/200 [00:00<?, ?it/s]"
     ]
    },
    {
     "name": "stdout",
     "output_type": "stream",
     "text": [
      "Epoch 1, Batch 0, Loss: 0.926573\n",
      "Epoch 1, Batch 10, Loss: 0.658266\n"
     ]
    },
    {
     "name": "stderr",
     "output_type": "stream",
     "text": [
      "  0%|          | 1/200 [00:01<06:21,  1.92s/it]"
     ]
    },
    {
     "name": "stdout",
     "output_type": "stream",
     "text": [
      "Epoch 1/200:\n",
      "  Train Loss: 1.040372\n",
      "  Val Loss: 0.759118\n",
      "  Learning Rate: 0.00100000\n",
      "--------------------------------------------------\n",
      "New best model saved with validation loss: 0.759118\n",
      "Epoch 2, Batch 0, Loss: 0.750104\n",
      "Epoch 2, Batch 10, Loss: 0.817450\n"
     ]
    },
    {
     "name": "stderr",
     "output_type": "stream",
     "text": [
      "  1%|          | 2/200 [00:02<04:13,  1.28s/it]"
     ]
    },
    {
     "name": "stdout",
     "output_type": "stream",
     "text": [
      "Epoch 2/200:\n",
      "  Train Loss: 0.745727\n",
      "  Val Loss: 0.685618\n",
      "  Learning Rate: 0.00100000\n",
      "--------------------------------------------------\n",
      "New best model saved with validation loss: 0.685618\n",
      "Epoch 3, Batch 0, Loss: 0.461182\n",
      "Epoch 3, Batch 10, Loss: 1.136249\n"
     ]
    },
    {
     "name": "stderr",
     "output_type": "stream",
     "text": [
      "  2%|▏         | 3/200 [00:03<03:28,  1.06s/it]"
     ]
    },
    {
     "name": "stdout",
     "output_type": "stream",
     "text": [
      "Epoch 3/200:\n",
      "  Train Loss: 0.649153\n",
      "  Val Loss: 0.425615\n",
      "  Learning Rate: 0.00100000\n",
      "--------------------------------------------------\n",
      "New best model saved with validation loss: 0.425615\n",
      "Epoch 4, Batch 0, Loss: 0.738198\n",
      "Epoch 4, Batch 10, Loss: 0.650467\n"
     ]
    },
    {
     "name": "stderr",
     "output_type": "stream",
     "text": [
      "  2%|▏         | 4/200 [00:04<03:09,  1.03it/s]"
     ]
    },
    {
     "name": "stdout",
     "output_type": "stream",
     "text": [
      "Epoch 4/200:\n",
      "  Train Loss: 0.655219\n",
      "  Val Loss: 0.691698\n",
      "  Learning Rate: 0.00100000\n",
      "--------------------------------------------------\n",
      "Epoch 5, Batch 0, Loss: 0.479222\n",
      "Epoch 5, Batch 10, Loss: 0.833914\n"
     ]
    },
    {
     "name": "stderr",
     "output_type": "stream",
     "text": [
      "  2%|▎         | 5/200 [00:05<03:01,  1.07it/s]"
     ]
    },
    {
     "name": "stdout",
     "output_type": "stream",
     "text": [
      "Epoch 5/200:\n",
      "  Train Loss: 0.590800\n",
      "  Val Loss: 1.285917\n",
      "  Learning Rate: 0.00100000\n",
      "--------------------------------------------------\n",
      "Epoch 6, Batch 0, Loss: 0.410606\n",
      "Epoch 6, Batch 10, Loss: 0.753939\n"
     ]
    },
    {
     "name": "stderr",
     "output_type": "stream",
     "text": [
      "  3%|▎         | 6/200 [00:06<02:59,  1.08it/s]"
     ]
    },
    {
     "name": "stdout",
     "output_type": "stream",
     "text": [
      "Epoch 6/200:\n",
      "  Train Loss: 0.581698\n",
      "  Val Loss: 0.419301\n",
      "  Learning Rate: 0.00100000\n",
      "--------------------------------------------------\n",
      "New best model saved with validation loss: 0.419301\n",
      "Epoch 7, Batch 0, Loss: 0.215523\n",
      "Epoch 7, Batch 10, Loss: 0.705717\n"
     ]
    },
    {
     "name": "stderr",
     "output_type": "stream",
     "text": [
      "  4%|▎         | 7/200 [00:07<02:56,  1.09it/s]"
     ]
    },
    {
     "name": "stdout",
     "output_type": "stream",
     "text": [
      "Epoch 7/200:\n",
      "  Train Loss: 0.554229\n",
      "  Val Loss: 1.976931\n",
      "  Learning Rate: 0.00100000\n",
      "--------------------------------------------------\n",
      "Epoch 8, Batch 0, Loss: 0.452293\n",
      "Epoch 8, Batch 10, Loss: 0.473966\n"
     ]
    },
    {
     "name": "stderr",
     "output_type": "stream",
     "text": [
      "  4%|▍         | 8/200 [00:07<02:55,  1.10it/s]"
     ]
    },
    {
     "name": "stdout",
     "output_type": "stream",
     "text": [
      "Epoch 8/200:\n",
      "  Train Loss: 0.534412\n",
      "  Val Loss: 0.451979\n",
      "  Learning Rate: 0.00100000\n",
      "--------------------------------------------------\n",
      "Epoch 9, Batch 0, Loss: 0.565225\n",
      "Epoch 9, Batch 10, Loss: 0.779047\n"
     ]
    },
    {
     "name": "stderr",
     "output_type": "stream",
     "text": [
      "  4%|▍         | 9/200 [00:08<02:56,  1.08it/s]"
     ]
    },
    {
     "name": "stdout",
     "output_type": "stream",
     "text": [
      "Epoch 9/200:\n",
      "  Train Loss: 0.571721\n",
      "  Val Loss: 8.266220\n",
      "  Learning Rate: 0.00100000\n",
      "--------------------------------------------------\n",
      "Epoch 10, Batch 0, Loss: 0.241625\n",
      "Epoch 10, Batch 10, Loss: 0.639315\n"
     ]
    },
    {
     "name": "stderr",
     "output_type": "stream",
     "text": [
      "  5%|▌         | 10/200 [00:09<02:58,  1.06it/s]"
     ]
    },
    {
     "name": "stdout",
     "output_type": "stream",
     "text": [
      "Epoch 10/200:\n",
      "  Train Loss: 0.504689\n",
      "  Val Loss: 0.505750\n",
      "  Learning Rate: 0.00100000\n",
      "--------------------------------------------------\n",
      "Epoch 11, Batch 0, Loss: 0.403091\n",
      "Epoch 11, Batch 10, Loss: 0.522792\n"
     ]
    },
    {
     "name": "stderr",
     "output_type": "stream",
     "text": [
      "  6%|▌         | 11/200 [00:10<02:58,  1.06it/s]"
     ]
    },
    {
     "name": "stdout",
     "output_type": "stream",
     "text": [
      "Epoch 11/200:\n",
      "  Train Loss: 0.536743\n",
      "  Val Loss: 0.671214\n",
      "  Learning Rate: 0.00100000\n",
      "--------------------------------------------------\n",
      "Epoch 12, Batch 0, Loss: 0.447171\n",
      "Epoch 12, Batch 10, Loss: 0.469614\n"
     ]
    },
    {
     "name": "stderr",
     "output_type": "stream",
     "text": [
      "  6%|▌         | 12/200 [00:11<02:55,  1.07it/s]"
     ]
    },
    {
     "name": "stdout",
     "output_type": "stream",
     "text": [
      "Epoch 12/200:\n",
      "  Train Loss: 0.460037\n",
      "  Val Loss: 0.759633\n",
      "  Learning Rate: 0.00100000\n",
      "--------------------------------------------------\n",
      "Epoch 13, Batch 0, Loss: 0.526719\n",
      "Epoch 13, Batch 10, Loss: 0.343580\n"
     ]
    },
    {
     "name": "stderr",
     "output_type": "stream",
     "text": [
      "  6%|▋         | 13/200 [00:12<02:52,  1.08it/s]"
     ]
    },
    {
     "name": "stdout",
     "output_type": "stream",
     "text": [
      "Epoch 13/200:\n",
      "  Train Loss: 0.454736\n",
      "  Val Loss: 0.671374\n",
      "  Learning Rate: 0.00100000\n",
      "--------------------------------------------------\n",
      "Epoch 14, Batch 0, Loss: 0.351856\n",
      "Epoch 14, Batch 10, Loss: 0.372633\n"
     ]
    },
    {
     "name": "stderr",
     "output_type": "stream",
     "text": [
      "  7%|▋         | 14/200 [00:13<02:49,  1.10it/s]"
     ]
    },
    {
     "name": "stdout",
     "output_type": "stream",
     "text": [
      "Epoch 14/200:\n",
      "  Train Loss: 0.462788\n",
      "  Val Loss: 0.508944\n",
      "  Learning Rate: 0.00100000\n",
      "--------------------------------------------------\n",
      "Epoch 15, Batch 0, Loss: 0.201379\n",
      "Epoch 15, Batch 10, Loss: 0.452548\n"
     ]
    },
    {
     "name": "stderr",
     "output_type": "stream",
     "text": [
      "  8%|▊         | 15/200 [00:14<02:47,  1.11it/s]"
     ]
    },
    {
     "name": "stdout",
     "output_type": "stream",
     "text": [
      "Epoch 15/200:\n",
      "  Train Loss: 0.515147\n",
      "  Val Loss: 1.457157\n",
      "  Learning Rate: 0.00100000\n",
      "--------------------------------------------------\n",
      "Epoch 16, Batch 0, Loss: 0.449747\n",
      "Epoch 16, Batch 10, Loss: 0.279399\n"
     ]
    },
    {
     "name": "stderr",
     "output_type": "stream",
     "text": [
      "  8%|▊         | 16/200 [00:15<02:45,  1.11it/s]"
     ]
    },
    {
     "name": "stdout",
     "output_type": "stream",
     "text": [
      "Epoch 16/200:\n",
      "  Train Loss: 0.404714\n",
      "  Val Loss: 0.583375\n",
      "  Learning Rate: 0.00100000\n",
      "--------------------------------------------------\n",
      "Epoch 17, Batch 0, Loss: 0.497776\n",
      "Epoch 17, Batch 10, Loss: 0.396899\n"
     ]
    },
    {
     "name": "stderr",
     "output_type": "stream",
     "text": [
      "  8%|▊         | 17/200 [00:16<02:43,  1.12it/s]"
     ]
    },
    {
     "name": "stdout",
     "output_type": "stream",
     "text": [
      "Epoch 17/200:\n",
      "  Train Loss: 0.392472\n",
      "  Val Loss: 1.159167\n",
      "  Learning Rate: 0.00100000\n",
      "--------------------------------------------------\n",
      "Epoch 18, Batch 0, Loss: 0.240905\n",
      "Epoch 18, Batch 10, Loss: 0.500209\n"
     ]
    },
    {
     "name": "stderr",
     "output_type": "stream",
     "text": [
      "  9%|▉         | 18/200 [00:17<02:45,  1.10it/s]"
     ]
    },
    {
     "name": "stdout",
     "output_type": "stream",
     "text": [
      "Epoch 18/200:\n",
      "  Train Loss: 0.402836\n",
      "  Val Loss: 0.748838\n",
      "  Learning Rate: 0.00050000\n",
      "--------------------------------------------------\n",
      "Epoch 19, Batch 0, Loss: 0.322147\n",
      "Epoch 19, Batch 10, Loss: 0.305151\n"
     ]
    },
    {
     "name": "stderr",
     "output_type": "stream",
     "text": [
      " 10%|▉         | 19/200 [00:18<02:43,  1.10it/s]"
     ]
    },
    {
     "name": "stdout",
     "output_type": "stream",
     "text": [
      "Epoch 19/200:\n",
      "  Train Loss: 0.389387\n",
      "  Val Loss: 0.374301\n",
      "  Learning Rate: 0.00050000\n",
      "--------------------------------------------------\n",
      "New best model saved with validation loss: 0.374301\n",
      "Epoch 20, Batch 0, Loss: 0.231793\n",
      "Epoch 20, Batch 10, Loss: 0.425002\n"
     ]
    },
    {
     "name": "stderr",
     "output_type": "stream",
     "text": [
      " 10%|█         | 20/200 [00:18<02:42,  1.10it/s]"
     ]
    },
    {
     "name": "stdout",
     "output_type": "stream",
     "text": [
      "Epoch 20/200:\n",
      "  Train Loss: 0.369600\n",
      "  Val Loss: 0.389513\n",
      "  Learning Rate: 0.00050000\n",
      "--------------------------------------------------\n",
      "Epoch 21, Batch 0, Loss: 0.930994\n",
      "Epoch 21, Batch 10, Loss: 0.256456\n"
     ]
    },
    {
     "name": "stderr",
     "output_type": "stream",
     "text": [
      " 10%|█         | 21/200 [00:19<02:44,  1.09it/s]"
     ]
    },
    {
     "name": "stdout",
     "output_type": "stream",
     "text": [
      "Epoch 21/200:\n",
      "  Train Loss: 0.388113\n",
      "  Val Loss: 0.347452\n",
      "  Learning Rate: 0.00050000\n",
      "--------------------------------------------------\n",
      "New best model saved with validation loss: 0.347452\n",
      "Epoch 22, Batch 0, Loss: 0.338008\n",
      "Epoch 22, Batch 10, Loss: 0.461523\n"
     ]
    },
    {
     "name": "stderr",
     "output_type": "stream",
     "text": [
      " 11%|█         | 22/200 [00:20<02:44,  1.08it/s]"
     ]
    },
    {
     "name": "stdout",
     "output_type": "stream",
     "text": [
      "Epoch 22/200:\n",
      "  Train Loss: 0.385235\n",
      "  Val Loss: 0.352052\n",
      "  Learning Rate: 0.00050000\n",
      "--------------------------------------------------\n",
      "Epoch 23, Batch 0, Loss: 0.404553\n",
      "Epoch 23, Batch 10, Loss: 0.180001\n"
     ]
    },
    {
     "name": "stderr",
     "output_type": "stream",
     "text": [
      " 12%|█▏        | 23/200 [00:21<02:42,  1.09it/s]"
     ]
    },
    {
     "name": "stdout",
     "output_type": "stream",
     "text": [
      "Epoch 23/200:\n",
      "  Train Loss: 0.316213\n",
      "  Val Loss: 0.329393\n",
      "  Learning Rate: 0.00050000\n",
      "--------------------------------------------------\n",
      "New best model saved with validation loss: 0.329393\n",
      "Epoch 24, Batch 0, Loss: 0.290219\n",
      "Epoch 24, Batch 10, Loss: 0.352533\n"
     ]
    },
    {
     "name": "stderr",
     "output_type": "stream",
     "text": [
      " 12%|█▏        | 24/200 [00:22<02:39,  1.10it/s]"
     ]
    },
    {
     "name": "stdout",
     "output_type": "stream",
     "text": [
      "Epoch 24/200:\n",
      "  Train Loss: 0.335339\n",
      "  Val Loss: 0.556488\n",
      "  Learning Rate: 0.00050000\n",
      "--------------------------------------------------\n",
      "Epoch 25, Batch 0, Loss: 0.295020\n",
      "Epoch 25, Batch 10, Loss: 0.240271\n"
     ]
    },
    {
     "name": "stderr",
     "output_type": "stream",
     "text": [
      " 12%|█▎        | 25/200 [00:23<02:39,  1.10it/s]"
     ]
    },
    {
     "name": "stdout",
     "output_type": "stream",
     "text": [
      "Epoch 25/200:\n",
      "  Train Loss: 0.292212\n",
      "  Val Loss: 1.120354\n",
      "  Learning Rate: 0.00050000\n",
      "--------------------------------------------------\n",
      "Epoch 26, Batch 0, Loss: 0.442096\n",
      "Epoch 26, Batch 10, Loss: 0.280195\n"
     ]
    },
    {
     "name": "stderr",
     "output_type": "stream",
     "text": [
      " 13%|█▎        | 26/200 [00:24<02:45,  1.05it/s]"
     ]
    },
    {
     "name": "stdout",
     "output_type": "stream",
     "text": [
      "Epoch 26/200:\n",
      "  Train Loss: 0.278857\n",
      "  Val Loss: 0.469577\n",
      "  Learning Rate: 0.00050000\n",
      "--------------------------------------------------\n",
      "Epoch 27, Batch 0, Loss: 0.742764\n",
      "Epoch 27, Batch 10, Loss: 0.613273\n"
     ]
    },
    {
     "name": "stderr",
     "output_type": "stream",
     "text": [
      " 14%|█▎        | 27/200 [00:25<02:47,  1.03it/s]"
     ]
    },
    {
     "name": "stdout",
     "output_type": "stream",
     "text": [
      "Epoch 27/200:\n",
      "  Train Loss: 0.357085\n",
      "  Val Loss: 0.310453\n",
      "  Learning Rate: 0.00050000\n",
      "--------------------------------------------------\n",
      "New best model saved with validation loss: 0.310453\n",
      "Epoch 28, Batch 0, Loss: 0.312912\n",
      "Epoch 28, Batch 10, Loss: 0.308542\n"
     ]
    },
    {
     "name": "stderr",
     "output_type": "stream",
     "text": [
      " 14%|█▍        | 28/200 [00:26<02:47,  1.02it/s]"
     ]
    },
    {
     "name": "stdout",
     "output_type": "stream",
     "text": [
      "Epoch 28/200:\n",
      "  Train Loss: 0.295954\n",
      "  Val Loss: 0.448265\n",
      "  Learning Rate: 0.00050000\n",
      "--------------------------------------------------\n",
      "Epoch 29, Batch 0, Loss: 0.367869\n",
      "Epoch 29, Batch 10, Loss: 0.242434\n"
     ]
    },
    {
     "name": "stderr",
     "output_type": "stream",
     "text": [
      " 14%|█▍        | 29/200 [00:27<02:47,  1.02it/s]"
     ]
    },
    {
     "name": "stdout",
     "output_type": "stream",
     "text": [
      "Epoch 29/200:\n",
      "  Train Loss: 0.316615\n",
      "  Val Loss: 0.324280\n",
      "  Learning Rate: 0.00050000\n",
      "--------------------------------------------------\n",
      "Epoch 30, Batch 0, Loss: 0.163078\n",
      "Epoch 30, Batch 10, Loss: 0.268099\n"
     ]
    },
    {
     "name": "stderr",
     "output_type": "stream",
     "text": [
      " 15%|█▌        | 30/200 [00:28<02:43,  1.04it/s]"
     ]
    },
    {
     "name": "stdout",
     "output_type": "stream",
     "text": [
      "Epoch 30/200:\n",
      "  Train Loss: 0.320435\n",
      "  Val Loss: 1.001489\n",
      "  Learning Rate: 0.00050000\n",
      "--------------------------------------------------\n",
      "Epoch 31, Batch 0, Loss: 0.452849\n",
      "Epoch 31, Batch 10, Loss: 0.145867\n"
     ]
    },
    {
     "name": "stderr",
     "output_type": "stream",
     "text": [
      " 16%|█▌        | 31/200 [00:29<02:37,  1.07it/s]"
     ]
    },
    {
     "name": "stdout",
     "output_type": "stream",
     "text": [
      "Epoch 31/200:\n",
      "  Train Loss: 0.339429\n",
      "  Val Loss: 0.364256\n",
      "  Learning Rate: 0.00050000\n",
      "--------------------------------------------------\n",
      "Epoch 32, Batch 0, Loss: 0.266211\n",
      "Epoch 32, Batch 10, Loss: 0.342370\n"
     ]
    },
    {
     "name": "stderr",
     "output_type": "stream",
     "text": [
      " 16%|█▌        | 32/200 [00:30<02:32,  1.10it/s]"
     ]
    },
    {
     "name": "stdout",
     "output_type": "stream",
     "text": [
      "Epoch 32/200:\n",
      "  Train Loss: 0.288227\n",
      "  Val Loss: 0.351501\n",
      "  Learning Rate: 0.00050000\n",
      "--------------------------------------------------\n",
      "Epoch 33, Batch 0, Loss: 0.106599\n",
      "Epoch 33, Batch 10, Loss: 0.273499\n"
     ]
    },
    {
     "name": "stderr",
     "output_type": "stream",
     "text": [
      " 16%|█▋        | 33/200 [00:31<02:27,  1.13it/s]"
     ]
    },
    {
     "name": "stdout",
     "output_type": "stream",
     "text": [
      "Epoch 33/200:\n",
      "  Train Loss: 0.260492\n",
      "  Val Loss: 0.297925\n",
      "  Learning Rate: 0.00050000\n",
      "--------------------------------------------------\n",
      "New best model saved with validation loss: 0.297925\n",
      "Epoch 34, Batch 0, Loss: 0.716193\n",
      "Epoch 34, Batch 10, Loss: 0.264367\n"
     ]
    },
    {
     "name": "stderr",
     "output_type": "stream",
     "text": [
      " 17%|█▋        | 34/200 [00:31<02:23,  1.16it/s]"
     ]
    },
    {
     "name": "stdout",
     "output_type": "stream",
     "text": [
      "Epoch 34/200:\n",
      "  Train Loss: 0.274066\n",
      "  Val Loss: 0.522276\n",
      "  Learning Rate: 0.00050000\n",
      "--------------------------------------------------\n",
      "Epoch 35, Batch 0, Loss: 0.196473\n",
      "Epoch 35, Batch 10, Loss: 0.384210\n"
     ]
    },
    {
     "name": "stderr",
     "output_type": "stream",
     "text": [
      " 18%|█▊        | 35/200 [00:32<02:21,  1.17it/s]"
     ]
    },
    {
     "name": "stdout",
     "output_type": "stream",
     "text": [
      "Epoch 35/200:\n",
      "  Train Loss: 0.299838\n",
      "  Val Loss: 0.265894\n",
      "  Learning Rate: 0.00050000\n",
      "--------------------------------------------------\n",
      "New best model saved with validation loss: 0.265894\n",
      "Epoch 36, Batch 0, Loss: 0.570268\n",
      "Epoch 36, Batch 10, Loss: 0.339748\n"
     ]
    },
    {
     "name": "stderr",
     "output_type": "stream",
     "text": [
      " 18%|█▊        | 36/200 [00:34<02:57,  1.08s/it]"
     ]
    },
    {
     "name": "stdout",
     "output_type": "stream",
     "text": [
      "Epoch 36/200:\n",
      "  Train Loss: 0.323567\n",
      "  Val Loss: 0.279638\n",
      "  Learning Rate: 0.00050000\n",
      "--------------------------------------------------\n",
      "Epoch 37, Batch 0, Loss: 0.252253\n",
      "Epoch 37, Batch 10, Loss: 0.612998\n"
     ]
    },
    {
     "name": "stderr",
     "output_type": "stream",
     "text": [
      " 18%|█▊        | 37/200 [00:36<03:58,  1.46s/it]"
     ]
    },
    {
     "name": "stdout",
     "output_type": "stream",
     "text": [
      "Epoch 37/200:\n",
      "  Train Loss: 0.310356\n",
      "  Val Loss: 0.281749\n",
      "  Learning Rate: 0.00050000\n",
      "--------------------------------------------------\n",
      "Epoch 38, Batch 0, Loss: 0.158907\n",
      "Epoch 38, Batch 10, Loss: 0.223861\n"
     ]
    },
    {
     "name": "stderr",
     "output_type": "stream",
     "text": [
      " 19%|█▉        | 38/200 [00:39<04:49,  1.79s/it]"
     ]
    },
    {
     "name": "stdout",
     "output_type": "stream",
     "text": [
      "Epoch 38/200:\n",
      "  Train Loss: 0.290609\n",
      "  Val Loss: 0.425864\n",
      "  Learning Rate: 0.00050000\n",
      "--------------------------------------------------\n",
      "Epoch 39, Batch 0, Loss: 0.103875\n",
      "Epoch 39, Batch 10, Loss: 0.212790\n"
     ]
    },
    {
     "name": "stderr",
     "output_type": "stream",
     "text": [
      " 20%|█▉        | 39/200 [00:41<05:27,  2.03s/it]"
     ]
    },
    {
     "name": "stdout",
     "output_type": "stream",
     "text": [
      "Epoch 39/200:\n",
      "  Train Loss: 0.235529\n",
      "  Val Loss: 0.284739\n",
      "  Learning Rate: 0.00050000\n",
      "--------------------------------------------------\n",
      "Epoch 40, Batch 0, Loss: 0.234566\n",
      "Epoch 40, Batch 10, Loss: 0.261902\n"
     ]
    },
    {
     "name": "stderr",
     "output_type": "stream",
     "text": [
      " 20%|██        | 40/200 [00:44<05:56,  2.23s/it]"
     ]
    },
    {
     "name": "stdout",
     "output_type": "stream",
     "text": [
      "Epoch 40/200:\n",
      "  Train Loss: 0.245958\n",
      "  Val Loss: 0.291951\n",
      "  Learning Rate: 0.00050000\n",
      "--------------------------------------------------\n",
      "Epoch 41, Batch 0, Loss: 0.141212\n",
      "Epoch 41, Batch 10, Loss: 0.303886\n"
     ]
    },
    {
     "name": "stderr",
     "output_type": "stream",
     "text": [
      " 20%|██        | 41/200 [00:47<06:16,  2.37s/it]"
     ]
    },
    {
     "name": "stdout",
     "output_type": "stream",
     "text": [
      "Epoch 41/200:\n",
      "  Train Loss: 0.278449\n",
      "  Val Loss: 0.271639\n",
      "  Learning Rate: 0.00050000\n",
      "--------------------------------------------------\n",
      "Epoch 42, Batch 0, Loss: 0.132893\n",
      "Epoch 42, Batch 10, Loss: 0.153430\n"
     ]
    },
    {
     "name": "stderr",
     "output_type": "stream",
     "text": [
      " 21%|██        | 42/200 [00:49<06:26,  2.45s/it]"
     ]
    },
    {
     "name": "stdout",
     "output_type": "stream",
     "text": [
      "Epoch 42/200:\n",
      "  Train Loss: 0.217952\n",
      "  Val Loss: 0.321162\n",
      "  Learning Rate: 0.00050000\n",
      "--------------------------------------------------\n",
      "Epoch 43, Batch 0, Loss: 0.190980\n",
      "Epoch 43, Batch 10, Loss: 0.266316\n"
     ]
    },
    {
     "name": "stderr",
     "output_type": "stream",
     "text": [
      " 22%|██▏       | 43/200 [00:52<06:34,  2.51s/it]"
     ]
    },
    {
     "name": "stdout",
     "output_type": "stream",
     "text": [
      "Epoch 43/200:\n",
      "  Train Loss: 0.303063\n",
      "  Val Loss: 0.987608\n",
      "  Learning Rate: 0.00050000\n",
      "--------------------------------------------------\n",
      "Epoch 44, Batch 0, Loss: 0.724530\n",
      "Epoch 44, Batch 10, Loss: 0.231781\n"
     ]
    },
    {
     "name": "stderr",
     "output_type": "stream",
     "text": [
      " 22%|██▏       | 44/200 [00:55<06:35,  2.54s/it]"
     ]
    },
    {
     "name": "stdout",
     "output_type": "stream",
     "text": [
      "Epoch 44/200:\n",
      "  Train Loss: 0.290908\n",
      "  Val Loss: 0.683633\n",
      "  Learning Rate: 0.00050000\n",
      "--------------------------------------------------\n",
      "Epoch 45, Batch 0, Loss: 0.297444\n",
      "Epoch 45, Batch 10, Loss: 0.235861\n"
     ]
    },
    {
     "name": "stderr",
     "output_type": "stream",
     "text": [
      " 22%|██▎       | 45/200 [00:57<06:38,  2.57s/it]"
     ]
    },
    {
     "name": "stdout",
     "output_type": "stream",
     "text": [
      "Epoch 45/200:\n",
      "  Train Loss: 0.248799\n",
      "  Val Loss: 0.305972\n",
      "  Learning Rate: 0.00050000\n",
      "--------------------------------------------------\n",
      "Epoch 46, Batch 0, Loss: 0.137813\n",
      "Epoch 46, Batch 10, Loss: 0.320190\n"
     ]
    },
    {
     "name": "stderr",
     "output_type": "stream",
     "text": [
      " 23%|██▎       | 46/200 [01:00<06:40,  2.60s/it]"
     ]
    },
    {
     "name": "stdout",
     "output_type": "stream",
     "text": [
      "Epoch 46/200:\n",
      "  Train Loss: 0.219321\n",
      "  Val Loss: 0.647002\n",
      "  Learning Rate: 0.00050000\n",
      "--------------------------------------------------\n",
      "Epoch 47, Batch 0, Loss: 0.365232\n",
      "Epoch 47, Batch 10, Loss: 0.230007\n"
     ]
    },
    {
     "name": "stderr",
     "output_type": "stream",
     "text": [
      " 24%|██▎       | 47/200 [01:02<06:03,  2.38s/it]"
     ]
    },
    {
     "name": "stdout",
     "output_type": "stream",
     "text": [
      "Epoch 47/200:\n",
      "  Train Loss: 0.217009\n",
      "  Val Loss: 0.248093\n",
      "  Learning Rate: 0.00025000\n",
      "--------------------------------------------------\n",
      "New best model saved with validation loss: 0.248093\n",
      "Epoch 48, Batch 0, Loss: 0.126587\n",
      "Epoch 48, Batch 10, Loss: 0.165105\n"
     ]
    },
    {
     "name": "stderr",
     "output_type": "stream",
     "text": [
      " 24%|██▍       | 48/200 [01:03<05:11,  2.05s/it]"
     ]
    },
    {
     "name": "stdout",
     "output_type": "stream",
     "text": [
      "Epoch 48/200:\n",
      "  Train Loss: 0.214430\n",
      "  Val Loss: 0.264474\n",
      "  Learning Rate: 0.00025000\n",
      "--------------------------------------------------\n",
      "Epoch 49, Batch 0, Loss: 0.236658\n",
      "Epoch 49, Batch 10, Loss: 0.191123\n"
     ]
    },
    {
     "name": "stderr",
     "output_type": "stream",
     "text": [
      " 24%|██▍       | 49/200 [01:04<04:28,  1.78s/it]"
     ]
    },
    {
     "name": "stdout",
     "output_type": "stream",
     "text": [
      "Epoch 49/200:\n",
      "  Train Loss: 0.223291\n",
      "  Val Loss: 0.233832\n",
      "  Learning Rate: 0.00025000\n",
      "--------------------------------------------------\n",
      "New best model saved with validation loss: 0.233832\n",
      "Epoch 50, Batch 0, Loss: 0.138706\n",
      "Epoch 50, Batch 10, Loss: 0.624729\n"
     ]
    },
    {
     "name": "stderr",
     "output_type": "stream",
     "text": [
      " 25%|██▌       | 50/200 [01:05<03:56,  1.57s/it]"
     ]
    },
    {
     "name": "stdout",
     "output_type": "stream",
     "text": [
      "Epoch 50/200:\n",
      "  Train Loss: 0.238842\n",
      "  Val Loss: 0.269139\n",
      "  Learning Rate: 0.00025000\n",
      "--------------------------------------------------\n",
      "Epoch 51, Batch 0, Loss: 0.196951\n",
      "Epoch 51, Batch 10, Loss: 0.176882\n"
     ]
    },
    {
     "name": "stderr",
     "output_type": "stream",
     "text": [
      " 26%|██▌       | 51/200 [01:06<03:31,  1.42s/it]"
     ]
    },
    {
     "name": "stdout",
     "output_type": "stream",
     "text": [
      "Epoch 51/200:\n",
      "  Train Loss: 0.184387\n",
      "  Val Loss: 0.249807\n",
      "  Learning Rate: 0.00025000\n",
      "--------------------------------------------------\n",
      "Epoch 52, Batch 0, Loss: 0.300918\n",
      "Epoch 52, Batch 10, Loss: 0.108076\n"
     ]
    },
    {
     "name": "stderr",
     "output_type": "stream",
     "text": [
      " 26%|██▌       | 52/200 [01:07<03:12,  1.30s/it]"
     ]
    },
    {
     "name": "stdout",
     "output_type": "stream",
     "text": [
      "Epoch 52/200:\n",
      "  Train Loss: 0.192200\n",
      "  Val Loss: 0.273612\n",
      "  Learning Rate: 0.00025000\n",
      "--------------------------------------------------\n",
      "Epoch 53, Batch 0, Loss: 0.187326\n",
      "Epoch 53, Batch 10, Loss: 0.103050\n"
     ]
    },
    {
     "name": "stderr",
     "output_type": "stream",
     "text": [
      " 26%|██▋       | 53/200 [01:08<02:58,  1.22s/it]"
     ]
    },
    {
     "name": "stdout",
     "output_type": "stream",
     "text": [
      "Epoch 53/200:\n",
      "  Train Loss: 0.170003\n",
      "  Val Loss: 0.245765\n",
      "  Learning Rate: 0.00025000\n",
      "--------------------------------------------------\n",
      "Epoch 54, Batch 0, Loss: 0.132277\n",
      "Epoch 54, Batch 10, Loss: 0.054690\n"
     ]
    },
    {
     "name": "stderr",
     "output_type": "stream",
     "text": [
      " 27%|██▋       | 54/200 [01:09<02:46,  1.14s/it]"
     ]
    },
    {
     "name": "stdout",
     "output_type": "stream",
     "text": [
      "Epoch 54/200:\n",
      "  Train Loss: 0.174318\n",
      "  Val Loss: 0.267518\n",
      "  Learning Rate: 0.00025000\n",
      "--------------------------------------------------\n",
      "Epoch 55, Batch 0, Loss: 0.077773\n",
      "Epoch 55, Batch 10, Loss: 0.228872\n"
     ]
    },
    {
     "name": "stderr",
     "output_type": "stream",
     "text": [
      " 28%|██▊       | 55/200 [01:10<02:36,  1.08s/it]"
     ]
    },
    {
     "name": "stdout",
     "output_type": "stream",
     "text": [
      "Epoch 55/200:\n",
      "  Train Loss: 0.175325\n",
      "  Val Loss: 0.238761\n",
      "  Learning Rate: 0.00025000\n",
      "--------------------------------------------------\n",
      "Epoch 56, Batch 0, Loss: 0.169780\n",
      "Epoch 56, Batch 10, Loss: 0.134650\n"
     ]
    },
    {
     "name": "stderr",
     "output_type": "stream",
     "text": [
      " 28%|██▊       | 56/200 [01:11<02:28,  1.03s/it]"
     ]
    },
    {
     "name": "stdout",
     "output_type": "stream",
     "text": [
      "Epoch 56/200:\n",
      "  Train Loss: 0.166778\n",
      "  Val Loss: 0.231139\n",
      "  Learning Rate: 0.00025000\n",
      "--------------------------------------------------\n",
      "New best model saved with validation loss: 0.231139\n",
      "Epoch 57, Batch 0, Loss: 0.237949\n",
      "Epoch 57, Batch 10, Loss: 0.076932\n"
     ]
    },
    {
     "name": "stderr",
     "output_type": "stream",
     "text": [
      " 28%|██▊       | 57/200 [01:12<02:23,  1.00s/it]"
     ]
    },
    {
     "name": "stdout",
     "output_type": "stream",
     "text": [
      "Epoch 57/200:\n",
      "  Train Loss: 0.196011\n",
      "  Val Loss: 0.257873\n",
      "  Learning Rate: 0.00025000\n",
      "--------------------------------------------------\n",
      "Epoch 58, Batch 0, Loss: 0.560717\n",
      "Epoch 58, Batch 10, Loss: 0.112651\n"
     ]
    },
    {
     "name": "stderr",
     "output_type": "stream",
     "text": [
      " 29%|██▉       | 58/200 [01:13<02:20,  1.01it/s]"
     ]
    },
    {
     "name": "stdout",
     "output_type": "stream",
     "text": [
      "Epoch 58/200:\n",
      "  Train Loss: 0.175720\n",
      "  Val Loss: 0.231448\n",
      "  Learning Rate: 0.00025000\n",
      "--------------------------------------------------\n",
      "Epoch 59, Batch 0, Loss: 0.082413\n",
      "Epoch 59, Batch 10, Loss: 0.107426\n"
     ]
    },
    {
     "name": "stderr",
     "output_type": "stream",
     "text": [
      " 30%|██▉       | 59/200 [01:14<02:16,  1.03it/s]"
     ]
    },
    {
     "name": "stdout",
     "output_type": "stream",
     "text": [
      "Epoch 59/200:\n",
      "  Train Loss: 0.151174\n",
      "  Val Loss: 0.234967\n",
      "  Learning Rate: 0.00025000\n",
      "--------------------------------------------------\n",
      "Epoch 60, Batch 0, Loss: 0.114631\n",
      "Epoch 60, Batch 10, Loss: 0.108158\n"
     ]
    },
    {
     "name": "stderr",
     "output_type": "stream",
     "text": [
      " 30%|███       | 60/200 [01:15<02:13,  1.05it/s]"
     ]
    },
    {
     "name": "stdout",
     "output_type": "stream",
     "text": [
      "Epoch 60/200:\n",
      "  Train Loss: 0.185831\n",
      "  Val Loss: 0.259113\n",
      "  Learning Rate: 0.00025000\n",
      "--------------------------------------------------\n",
      "Epoch 61, Batch 0, Loss: 0.139937\n",
      "Epoch 61, Batch 10, Loss: 0.262410\n"
     ]
    },
    {
     "name": "stderr",
     "output_type": "stream",
     "text": [
      " 30%|███       | 61/200 [01:16<02:12,  1.05it/s]"
     ]
    },
    {
     "name": "stdout",
     "output_type": "stream",
     "text": [
      "Epoch 61/200:\n",
      "  Train Loss: 0.177947\n",
      "  Val Loss: 0.286093\n",
      "  Learning Rate: 0.00025000\n",
      "--------------------------------------------------\n",
      "Epoch 62, Batch 0, Loss: 0.231442\n",
      "Epoch 62, Batch 10, Loss: 0.160534\n"
     ]
    },
    {
     "name": "stderr",
     "output_type": "stream",
     "text": [
      " 31%|███       | 62/200 [01:17<02:12,  1.05it/s]"
     ]
    },
    {
     "name": "stdout",
     "output_type": "stream",
     "text": [
      "Epoch 62/200:\n",
      "  Train Loss: 0.176813\n",
      "  Val Loss: 0.233085\n",
      "  Learning Rate: 0.00025000\n",
      "--------------------------------------------------\n",
      "Epoch 63, Batch 0, Loss: 0.509834\n",
      "Epoch 63, Batch 10, Loss: 0.083823\n"
     ]
    },
    {
     "name": "stderr",
     "output_type": "stream",
     "text": [
      " 32%|███▏      | 63/200 [01:18<02:12,  1.03it/s]"
     ]
    },
    {
     "name": "stdout",
     "output_type": "stream",
     "text": [
      "Epoch 63/200:\n",
      "  Train Loss: 0.169322\n",
      "  Val Loss: 0.232016\n",
      "  Learning Rate: 0.00025000\n",
      "--------------------------------------------------\n",
      "Epoch 64, Batch 0, Loss: 0.124160\n",
      "Epoch 64, Batch 10, Loss: 0.093066\n"
     ]
    },
    {
     "name": "stderr",
     "output_type": "stream",
     "text": [
      " 32%|███▏      | 64/200 [01:19<02:11,  1.03it/s]"
     ]
    },
    {
     "name": "stdout",
     "output_type": "stream",
     "text": [
      "Epoch 64/200:\n",
      "  Train Loss: 0.148609\n",
      "  Val Loss: 0.222246\n",
      "  Learning Rate: 0.00025000\n",
      "--------------------------------------------------\n",
      "New best model saved with validation loss: 0.222246\n",
      "Epoch 65, Batch 0, Loss: 0.151278\n",
      "Epoch 65, Batch 10, Loss: 0.277211\n"
     ]
    },
    {
     "name": "stderr",
     "output_type": "stream",
     "text": [
      " 32%|███▎      | 65/200 [01:20<02:10,  1.03it/s]"
     ]
    },
    {
     "name": "stdout",
     "output_type": "stream",
     "text": [
      "Epoch 65/200:\n",
      "  Train Loss: 0.182518\n",
      "  Val Loss: 0.225523\n",
      "  Learning Rate: 0.00025000\n",
      "--------------------------------------------------\n",
      "Epoch 66, Batch 0, Loss: 0.540250\n",
      "Epoch 66, Batch 10, Loss: 0.150205\n"
     ]
    },
    {
     "name": "stderr",
     "output_type": "stream",
     "text": [
      " 33%|███▎      | 66/200 [01:21<02:08,  1.04it/s]"
     ]
    },
    {
     "name": "stdout",
     "output_type": "stream",
     "text": [
      "Epoch 66/200:\n",
      "  Train Loss: 0.143789\n",
      "  Val Loss: 0.224755\n",
      "  Learning Rate: 0.00025000\n",
      "--------------------------------------------------\n",
      "Epoch 67, Batch 0, Loss: 0.099483\n",
      "Epoch 67, Batch 10, Loss: 0.278539\n"
     ]
    },
    {
     "name": "stderr",
     "output_type": "stream",
     "text": [
      " 34%|███▎      | 67/200 [01:22<02:05,  1.06it/s]"
     ]
    },
    {
     "name": "stdout",
     "output_type": "stream",
     "text": [
      "Epoch 67/200:\n",
      "  Train Loss: 0.164207\n",
      "  Val Loss: 0.217528\n",
      "  Learning Rate: 0.00025000\n",
      "--------------------------------------------------\n",
      "New best model saved with validation loss: 0.217528\n",
      "Epoch 68, Batch 0, Loss: 0.114534\n",
      "Epoch 68, Batch 10, Loss: 0.146457\n"
     ]
    },
    {
     "name": "stderr",
     "output_type": "stream",
     "text": [
      " 34%|███▍      | 68/200 [01:23<02:04,  1.06it/s]"
     ]
    },
    {
     "name": "stdout",
     "output_type": "stream",
     "text": [
      "Epoch 68/200:\n",
      "  Train Loss: 0.172769\n",
      "  Val Loss: 0.221756\n",
      "  Learning Rate: 0.00025000\n",
      "--------------------------------------------------\n",
      "Epoch 69, Batch 0, Loss: 0.059575\n",
      "Epoch 69, Batch 10, Loss: 0.069300\n"
     ]
    },
    {
     "name": "stderr",
     "output_type": "stream",
     "text": [
      " 34%|███▍      | 69/200 [01:24<02:04,  1.05it/s]"
     ]
    },
    {
     "name": "stdout",
     "output_type": "stream",
     "text": [
      "Epoch 69/200:\n",
      "  Train Loss: 0.120409\n",
      "  Val Loss: 0.221990\n",
      "  Learning Rate: 0.00025000\n",
      "--------------------------------------------------\n",
      "Epoch 70, Batch 0, Loss: 0.038366\n",
      "Epoch 70, Batch 10, Loss: 0.219044\n"
     ]
    },
    {
     "name": "stderr",
     "output_type": "stream",
     "text": [
      " 35%|███▌      | 70/200 [01:25<02:04,  1.05it/s]"
     ]
    },
    {
     "name": "stdout",
     "output_type": "stream",
     "text": [
      "Epoch 70/200:\n",
      "  Train Loss: 0.154322\n",
      "  Val Loss: 0.212362\n",
      "  Learning Rate: 0.00025000\n",
      "--------------------------------------------------\n",
      "New best model saved with validation loss: 0.212362\n",
      "Epoch 71, Batch 0, Loss: 0.092893\n",
      "Epoch 71, Batch 10, Loss: 0.179997\n"
     ]
    },
    {
     "name": "stderr",
     "output_type": "stream",
     "text": [
      " 36%|███▌      | 71/200 [01:25<02:02,  1.05it/s]"
     ]
    },
    {
     "name": "stdout",
     "output_type": "stream",
     "text": [
      "Epoch 71/200:\n",
      "  Train Loss: 0.148712\n",
      "  Val Loss: 0.236871\n",
      "  Learning Rate: 0.00025000\n",
      "--------------------------------------------------\n",
      "Epoch 72, Batch 0, Loss: 0.078636\n",
      "Epoch 72, Batch 10, Loss: 0.139424\n"
     ]
    },
    {
     "name": "stderr",
     "output_type": "stream",
     "text": [
      " 36%|███▌      | 72/200 [01:26<02:03,  1.04it/s]"
     ]
    },
    {
     "name": "stdout",
     "output_type": "stream",
     "text": [
      "Epoch 72/200:\n",
      "  Train Loss: 0.153958\n",
      "  Val Loss: 0.252128\n",
      "  Learning Rate: 0.00025000\n",
      "--------------------------------------------------\n",
      "Epoch 73, Batch 0, Loss: 0.200280\n",
      "Epoch 73, Batch 10, Loss: 0.433680\n"
     ]
    },
    {
     "name": "stderr",
     "output_type": "stream",
     "text": [
      " 36%|███▋      | 73/200 [01:28<02:08,  1.01s/it]"
     ]
    },
    {
     "name": "stdout",
     "output_type": "stream",
     "text": [
      "Epoch 73/200:\n",
      "  Train Loss: 0.158325\n",
      "  Val Loss: 0.219068\n",
      "  Learning Rate: 0.00025000\n",
      "--------------------------------------------------\n",
      "Epoch 74, Batch 0, Loss: 0.143346\n",
      "Epoch 74, Batch 10, Loss: 0.118571\n"
     ]
    },
    {
     "name": "stderr",
     "output_type": "stream",
     "text": [
      " 37%|███▋      | 74/200 [01:29<02:09,  1.03s/it]"
     ]
    },
    {
     "name": "stdout",
     "output_type": "stream",
     "text": [
      "Epoch 74/200:\n",
      "  Train Loss: 0.176805\n",
      "  Val Loss: 0.216282\n",
      "  Learning Rate: 0.00025000\n",
      "--------------------------------------------------\n",
      "Epoch 75, Batch 0, Loss: 0.079916\n",
      "Epoch 75, Batch 10, Loss: 0.121006\n"
     ]
    },
    {
     "name": "stderr",
     "output_type": "stream",
     "text": [
      " 38%|███▊      | 75/200 [01:30<02:09,  1.04s/it]"
     ]
    },
    {
     "name": "stdout",
     "output_type": "stream",
     "text": [
      "Epoch 75/200:\n",
      "  Train Loss: 0.153915\n",
      "  Val Loss: 0.243142\n",
      "  Learning Rate: 0.00025000\n",
      "--------------------------------------------------\n",
      "Epoch 76, Batch 0, Loss: 0.102019\n",
      "Epoch 76, Batch 10, Loss: 0.138384\n"
     ]
    },
    {
     "name": "stderr",
     "output_type": "stream",
     "text": [
      " 38%|███▊      | 76/200 [01:31<02:08,  1.04s/it]"
     ]
    },
    {
     "name": "stdout",
     "output_type": "stream",
     "text": [
      "Epoch 76/200:\n",
      "  Train Loss: 0.160362\n",
      "  Val Loss: 0.225848\n",
      "  Learning Rate: 0.00025000\n",
      "--------------------------------------------------\n",
      "Epoch 77, Batch 0, Loss: 0.187816\n",
      "Epoch 77, Batch 10, Loss: 0.078357\n"
     ]
    },
    {
     "name": "stderr",
     "output_type": "stream",
     "text": [
      " 38%|███▊      | 77/200 [01:32<02:05,  1.02s/it]"
     ]
    },
    {
     "name": "stdout",
     "output_type": "stream",
     "text": [
      "Epoch 77/200:\n",
      "  Train Loss: 0.167119\n",
      "  Val Loss: 0.229250\n",
      "  Learning Rate: 0.00025000\n",
      "--------------------------------------------------\n",
      "Epoch 78, Batch 0, Loss: 0.586392\n",
      "Epoch 78, Batch 10, Loss: 0.102549\n"
     ]
    },
    {
     "name": "stderr",
     "output_type": "stream",
     "text": [
      " 39%|███▉      | 78/200 [01:33<02:02,  1.00s/it]"
     ]
    },
    {
     "name": "stdout",
     "output_type": "stream",
     "text": [
      "Epoch 78/200:\n",
      "  Train Loss: 0.146732\n",
      "  Val Loss: 0.432202\n",
      "  Learning Rate: 0.00025000\n",
      "--------------------------------------------------\n",
      "Epoch 79, Batch 0, Loss: 0.158873\n",
      "Epoch 79, Batch 10, Loss: 0.509147\n"
     ]
    },
    {
     "name": "stderr",
     "output_type": "stream",
     "text": [
      " 40%|███▉      | 79/200 [01:34<02:00,  1.01it/s]"
     ]
    },
    {
     "name": "stdout",
     "output_type": "stream",
     "text": [
      "Epoch 79/200:\n",
      "  Train Loss: 0.155885\n",
      "  Val Loss: 0.206493\n",
      "  Learning Rate: 0.00025000\n",
      "--------------------------------------------------\n",
      "New best model saved with validation loss: 0.206493\n",
      "Epoch 80, Batch 0, Loss: 0.065460\n",
      "Epoch 80, Batch 10, Loss: 0.105241\n"
     ]
    },
    {
     "name": "stderr",
     "output_type": "stream",
     "text": [
      " 40%|████      | 80/200 [01:35<01:56,  1.03it/s]"
     ]
    },
    {
     "name": "stdout",
     "output_type": "stream",
     "text": [
      "Epoch 80/200:\n",
      "  Train Loss: 0.156833\n",
      "  Val Loss: 0.217278\n",
      "  Learning Rate: 0.00025000\n",
      "--------------------------------------------------\n",
      "Epoch 81, Batch 0, Loss: 0.295772\n",
      "Epoch 81, Batch 10, Loss: 0.285807\n"
     ]
    },
    {
     "name": "stderr",
     "output_type": "stream",
     "text": [
      " 40%|████      | 81/200 [01:35<01:53,  1.05it/s]"
     ]
    },
    {
     "name": "stdout",
     "output_type": "stream",
     "text": [
      "Epoch 81/200:\n",
      "  Train Loss: 0.151843\n",
      "  Val Loss: 0.230378\n",
      "  Learning Rate: 0.00025000\n",
      "--------------------------------------------------\n",
      "Epoch 82, Batch 0, Loss: 0.060881\n",
      "Epoch 82, Batch 10, Loss: 0.098855\n"
     ]
    },
    {
     "name": "stderr",
     "output_type": "stream",
     "text": [
      " 41%|████      | 82/200 [01:36<01:50,  1.07it/s]"
     ]
    },
    {
     "name": "stdout",
     "output_type": "stream",
     "text": [
      "Epoch 82/200:\n",
      "  Train Loss: 0.156599\n",
      "  Val Loss: 0.371826\n",
      "  Learning Rate: 0.00025000\n",
      "--------------------------------------------------\n",
      "Epoch 83, Batch 0, Loss: 0.155580\n",
      "Epoch 83, Batch 10, Loss: 0.091228\n"
     ]
    },
    {
     "name": "stderr",
     "output_type": "stream",
     "text": [
      " 42%|████▏     | 83/200 [01:37<01:47,  1.09it/s]"
     ]
    },
    {
     "name": "stdout",
     "output_type": "stream",
     "text": [
      "Epoch 83/200:\n",
      "  Train Loss: 0.156880\n",
      "  Val Loss: 0.252894\n",
      "  Learning Rate: 0.00025000\n",
      "--------------------------------------------------\n",
      "Epoch 84, Batch 0, Loss: 0.233904\n",
      "Epoch 84, Batch 10, Loss: 0.150907\n"
     ]
    },
    {
     "name": "stderr",
     "output_type": "stream",
     "text": [
      " 42%|████▏     | 84/200 [01:38<01:46,  1.09it/s]"
     ]
    },
    {
     "name": "stdout",
     "output_type": "stream",
     "text": [
      "Epoch 84/200:\n",
      "  Train Loss: 0.147666\n",
      "  Val Loss: 0.208578\n",
      "  Learning Rate: 0.00025000\n",
      "--------------------------------------------------\n",
      "Epoch 85, Batch 0, Loss: 0.193121\n",
      "Epoch 85, Batch 10, Loss: 0.269769\n"
     ]
    },
    {
     "name": "stderr",
     "output_type": "stream",
     "text": [
      " 42%|████▎     | 85/200 [01:39<01:45,  1.09it/s]"
     ]
    },
    {
     "name": "stdout",
     "output_type": "stream",
     "text": [
      "Epoch 85/200:\n",
      "  Train Loss: 0.160086\n",
      "  Val Loss: 0.414858\n",
      "  Learning Rate: 0.00025000\n",
      "--------------------------------------------------\n",
      "Epoch 86, Batch 0, Loss: 0.588277\n",
      "Epoch 86, Batch 10, Loss: 0.072390\n"
     ]
    },
    {
     "name": "stderr",
     "output_type": "stream",
     "text": [
      " 43%|████▎     | 86/200 [01:40<01:44,  1.10it/s]"
     ]
    },
    {
     "name": "stdout",
     "output_type": "stream",
     "text": [
      "Epoch 86/200:\n",
      "  Train Loss: 0.154190\n",
      "  Val Loss: 0.225360\n",
      "  Learning Rate: 0.00025000\n",
      "--------------------------------------------------\n",
      "Epoch 87, Batch 0, Loss: 0.103831\n",
      "Epoch 87, Batch 10, Loss: 0.079860\n"
     ]
    },
    {
     "name": "stderr",
     "output_type": "stream",
     "text": [
      " 44%|████▎     | 87/200 [01:41<01:42,  1.10it/s]"
     ]
    },
    {
     "name": "stdout",
     "output_type": "stream",
     "text": [
      "Epoch 87/200:\n",
      "  Train Loss: 0.172955\n",
      "  Val Loss: 0.261715\n",
      "  Learning Rate: 0.00025000\n",
      "--------------------------------------------------\n",
      "Epoch 88, Batch 0, Loss: 0.123838\n",
      "Epoch 88, Batch 10, Loss: 0.138708\n"
     ]
    },
    {
     "name": "stderr",
     "output_type": "stream",
     "text": [
      " 44%|████▍     | 88/200 [01:42<01:40,  1.11it/s]"
     ]
    },
    {
     "name": "stdout",
     "output_type": "stream",
     "text": [
      "Epoch 88/200:\n",
      "  Train Loss: 0.161101\n",
      "  Val Loss: 0.259103\n",
      "  Learning Rate: 0.00025000\n",
      "--------------------------------------------------\n",
      "Epoch 89, Batch 0, Loss: 0.057270\n",
      "Epoch 89, Batch 10, Loss: 0.097768\n"
     ]
    },
    {
     "name": "stderr",
     "output_type": "stream",
     "text": [
      " 44%|████▍     | 89/200 [01:43<01:42,  1.08it/s]"
     ]
    },
    {
     "name": "stdout",
     "output_type": "stream",
     "text": [
      "Epoch 89/200:\n",
      "  Train Loss: 0.164274\n",
      "  Val Loss: 0.196824\n",
      "  Learning Rate: 0.00025000\n",
      "--------------------------------------------------\n",
      "New best model saved with validation loss: 0.196824\n",
      "Epoch 90, Batch 0, Loss: 0.156456\n",
      "Epoch 90, Batch 10, Loss: 0.114943\n"
     ]
    },
    {
     "name": "stderr",
     "output_type": "stream",
     "text": [
      " 45%|████▌     | 90/200 [01:44<01:43,  1.06it/s]"
     ]
    },
    {
     "name": "stdout",
     "output_type": "stream",
     "text": [
      "Epoch 90/200:\n",
      "  Train Loss: 0.136893\n",
      "  Val Loss: 0.220352\n",
      "  Learning Rate: 0.00025000\n",
      "--------------------------------------------------\n",
      "Epoch 91, Batch 0, Loss: 0.086615\n",
      "Epoch 91, Batch 10, Loss: 0.052044\n"
     ]
    },
    {
     "name": "stderr",
     "output_type": "stream",
     "text": [
      " 46%|████▌     | 91/200 [01:45<01:42,  1.07it/s]"
     ]
    },
    {
     "name": "stdout",
     "output_type": "stream",
     "text": [
      "Epoch 91/200:\n",
      "  Train Loss: 0.162890\n",
      "  Val Loss: 0.209465\n",
      "  Learning Rate: 0.00025000\n",
      "--------------------------------------------------\n",
      "Epoch 92, Batch 0, Loss: 0.156474\n",
      "Epoch 92, Batch 10, Loss: 0.646119\n"
     ]
    },
    {
     "name": "stderr",
     "output_type": "stream",
     "text": [
      " 46%|████▌     | 92/200 [01:46<01:39,  1.08it/s]"
     ]
    },
    {
     "name": "stdout",
     "output_type": "stream",
     "text": [
      "Epoch 92/200:\n",
      "  Train Loss: 0.209072\n",
      "  Val Loss: 0.210294\n",
      "  Learning Rate: 0.00025000\n",
      "--------------------------------------------------\n",
      "Epoch 93, Batch 0, Loss: 0.129855\n",
      "Epoch 93, Batch 10, Loss: 0.181668\n"
     ]
    },
    {
     "name": "stderr",
     "output_type": "stream",
     "text": [
      " 46%|████▋     | 93/200 [01:46<01:38,  1.09it/s]"
     ]
    },
    {
     "name": "stdout",
     "output_type": "stream",
     "text": [
      "Epoch 93/200:\n",
      "  Train Loss: 0.140222\n",
      "  Val Loss: 0.223708\n",
      "  Learning Rate: 0.00025000\n",
      "--------------------------------------------------\n",
      "Epoch 94, Batch 0, Loss: 0.279183\n",
      "Epoch 94, Batch 10, Loss: 0.054552\n"
     ]
    },
    {
     "name": "stderr",
     "output_type": "stream",
     "text": [
      " 47%|████▋     | 94/200 [01:47<01:34,  1.12it/s]"
     ]
    },
    {
     "name": "stdout",
     "output_type": "stream",
     "text": [
      "Epoch 94/200:\n",
      "  Train Loss: 0.144065\n",
      "  Val Loss: 0.224790\n",
      "  Learning Rate: 0.00025000\n",
      "--------------------------------------------------\n",
      "Epoch 95, Batch 0, Loss: 0.081309\n",
      "Epoch 95, Batch 10, Loss: 0.151929\n"
     ]
    },
    {
     "name": "stderr",
     "output_type": "stream",
     "text": [
      " 48%|████▊     | 95/200 [01:48<01:32,  1.13it/s]"
     ]
    },
    {
     "name": "stdout",
     "output_type": "stream",
     "text": [
      "Epoch 95/200:\n",
      "  Train Loss: 0.151416\n",
      "  Val Loss: 0.236718\n",
      "  Learning Rate: 0.00025000\n",
      "--------------------------------------------------\n",
      "Epoch 96, Batch 0, Loss: 0.086820\n",
      "Epoch 96, Batch 10, Loss: 0.156580\n"
     ]
    },
    {
     "name": "stderr",
     "output_type": "stream",
     "text": [
      " 48%|████▊     | 96/200 [01:49<01:30,  1.14it/s]"
     ]
    },
    {
     "name": "stdout",
     "output_type": "stream",
     "text": [
      "Epoch 96/200:\n",
      "  Train Loss: 0.113640\n",
      "  Val Loss: 0.225644\n",
      "  Learning Rate: 0.00025000\n",
      "--------------------------------------------------\n",
      "Epoch 97, Batch 0, Loss: 0.084830\n",
      "Epoch 97, Batch 10, Loss: 0.081018\n"
     ]
    },
    {
     "name": "stderr",
     "output_type": "stream",
     "text": [
      " 48%|████▊     | 97/200 [01:50<01:28,  1.16it/s]"
     ]
    },
    {
     "name": "stdout",
     "output_type": "stream",
     "text": [
      "Epoch 97/200:\n",
      "  Train Loss: 0.146285\n",
      "  Val Loss: 0.219786\n",
      "  Learning Rate: 0.00025000\n",
      "--------------------------------------------------\n",
      "Epoch 98, Batch 0, Loss: 0.125649\n",
      "Epoch 98, Batch 10, Loss: 0.125639\n"
     ]
    },
    {
     "name": "stderr",
     "output_type": "stream",
     "text": [
      " 49%|████▉     | 98/200 [01:51<01:27,  1.17it/s]"
     ]
    },
    {
     "name": "stdout",
     "output_type": "stream",
     "text": [
      "Epoch 98/200:\n",
      "  Train Loss: 0.136263\n",
      "  Val Loss: 0.194698\n",
      "  Learning Rate: 0.00025000\n",
      "--------------------------------------------------\n",
      "New best model saved with validation loss: 0.194698\n",
      "Epoch 99, Batch 0, Loss: 0.109513\n",
      "Epoch 99, Batch 10, Loss: 0.595326\n"
     ]
    },
    {
     "name": "stderr",
     "output_type": "stream",
     "text": [
      " 50%|████▉     | 99/200 [01:51<01:25,  1.18it/s]"
     ]
    },
    {
     "name": "stdout",
     "output_type": "stream",
     "text": [
      "Epoch 99/200:\n",
      "  Train Loss: 0.255789\n",
      "  Val Loss: 0.213317\n",
      "  Learning Rate: 0.00025000\n",
      "--------------------------------------------------\n",
      "Epoch 100, Batch 0, Loss: 0.107889\n",
      "Epoch 100, Batch 10, Loss: 0.088412\n"
     ]
    },
    {
     "name": "stderr",
     "output_type": "stream",
     "text": [
      " 50%|█████     | 100/200 [01:52<01:26,  1.15it/s]"
     ]
    },
    {
     "name": "stdout",
     "output_type": "stream",
     "text": [
      "Epoch 100/200:\n",
      "  Train Loss: 0.168719\n",
      "  Val Loss: 0.193062\n",
      "  Learning Rate: 0.00025000\n",
      "--------------------------------------------------\n",
      "New best model saved with validation loss: 0.193062\n",
      "Epoch 101, Batch 0, Loss: 0.130903\n",
      "Epoch 101, Batch 10, Loss: 0.129890\n"
     ]
    },
    {
     "name": "stderr",
     "output_type": "stream",
     "text": [
      " 50%|█████     | 101/200 [01:53<01:25,  1.16it/s]"
     ]
    },
    {
     "name": "stdout",
     "output_type": "stream",
     "text": [
      "Epoch 101/200:\n",
      "  Train Loss: 0.153075\n",
      "  Val Loss: 0.214715\n",
      "  Learning Rate: 0.00025000\n",
      "--------------------------------------------------\n",
      "Epoch 102, Batch 0, Loss: 0.179738\n",
      "Epoch 102, Batch 10, Loss: 0.327002\n"
     ]
    },
    {
     "name": "stderr",
     "output_type": "stream",
     "text": [
      " 51%|█████     | 102/200 [01:54<01:24,  1.17it/s]"
     ]
    },
    {
     "name": "stdout",
     "output_type": "stream",
     "text": [
      "Epoch 102/200:\n",
      "  Train Loss: 0.132891\n",
      "  Val Loss: 0.226675\n",
      "  Learning Rate: 0.00025000\n",
      "--------------------------------------------------\n",
      "Epoch 103, Batch 0, Loss: 0.117182\n",
      "Epoch 103, Batch 10, Loss: 0.118448\n"
     ]
    },
    {
     "name": "stderr",
     "output_type": "stream",
     "text": [
      " 52%|█████▏    | 103/200 [01:55<01:22,  1.17it/s]"
     ]
    },
    {
     "name": "stdout",
     "output_type": "stream",
     "text": [
      "Epoch 103/200:\n",
      "  Train Loss: 0.135516\n",
      "  Val Loss: 0.217263\n",
      "  Learning Rate: 0.00025000\n",
      "--------------------------------------------------\n",
      "Epoch 104, Batch 0, Loss: 0.301533\n",
      "Epoch 104, Batch 10, Loss: 0.133896\n"
     ]
    },
    {
     "name": "stderr",
     "output_type": "stream",
     "text": [
      " 52%|█████▏    | 104/200 [01:56<01:21,  1.18it/s]"
     ]
    },
    {
     "name": "stdout",
     "output_type": "stream",
     "text": [
      "Epoch 104/200:\n",
      "  Train Loss: 0.109445\n",
      "  Val Loss: 0.215528\n",
      "  Learning Rate: 0.00025000\n",
      "--------------------------------------------------\n",
      "Epoch 105, Batch 0, Loss: 0.152067\n",
      "Epoch 105, Batch 10, Loss: 0.083806\n"
     ]
    },
    {
     "name": "stderr",
     "output_type": "stream",
     "text": [
      " 52%|█████▎    | 105/200 [01:57<01:20,  1.18it/s]"
     ]
    },
    {
     "name": "stdout",
     "output_type": "stream",
     "text": [
      "Epoch 105/200:\n",
      "  Train Loss: 0.120059\n",
      "  Val Loss: 0.247877\n",
      "  Learning Rate: 0.00025000\n",
      "--------------------------------------------------\n",
      "Epoch 106, Batch 0, Loss: 0.115601\n",
      "Epoch 106, Batch 10, Loss: 0.219886\n"
     ]
    },
    {
     "name": "stderr",
     "output_type": "stream",
     "text": [
      " 53%|█████▎    | 106/200 [01:58<01:20,  1.17it/s]"
     ]
    },
    {
     "name": "stdout",
     "output_type": "stream",
     "text": [
      "Epoch 106/200:\n",
      "  Train Loss: 0.127627\n",
      "  Val Loss: 0.202907\n",
      "  Learning Rate: 0.00025000\n",
      "--------------------------------------------------\n",
      "Epoch 107, Batch 0, Loss: 0.133538\n",
      "Epoch 107, Batch 10, Loss: 0.156682\n"
     ]
    },
    {
     "name": "stderr",
     "output_type": "stream",
     "text": [
      " 54%|█████▎    | 107/200 [01:58<01:21,  1.14it/s]"
     ]
    },
    {
     "name": "stdout",
     "output_type": "stream",
     "text": [
      "Epoch 107/200:\n",
      "  Train Loss: 0.119527\n",
      "  Val Loss: 0.209871\n",
      "  Learning Rate: 0.00025000\n",
      "--------------------------------------------------\n",
      "Epoch 108, Batch 0, Loss: 0.077937\n",
      "Epoch 108, Batch 10, Loss: 0.169218\n"
     ]
    },
    {
     "name": "stderr",
     "output_type": "stream",
     "text": [
      " 54%|█████▍    | 108/200 [01:59<01:19,  1.16it/s]"
     ]
    },
    {
     "name": "stdout",
     "output_type": "stream",
     "text": [
      "Epoch 108/200:\n",
      "  Train Loss: 0.114137\n",
      "  Val Loss: 0.222441\n",
      "  Learning Rate: 0.00025000\n",
      "--------------------------------------------------\n",
      "Epoch 109, Batch 0, Loss: 0.124949\n",
      "Epoch 109, Batch 10, Loss: 0.406853\n"
     ]
    },
    {
     "name": "stderr",
     "output_type": "stream",
     "text": [
      " 55%|█████▍    | 109/200 [02:00<01:18,  1.16it/s]"
     ]
    },
    {
     "name": "stdout",
     "output_type": "stream",
     "text": [
      "Epoch 109/200:\n",
      "  Train Loss: 0.126974\n",
      "  Val Loss: 0.198038\n",
      "  Learning Rate: 0.00025000\n",
      "--------------------------------------------------\n",
      "Epoch 110, Batch 0, Loss: 0.221348\n",
      "Epoch 110, Batch 10, Loss: 0.141981\n"
     ]
    },
    {
     "name": "stderr",
     "output_type": "stream",
     "text": [
      " 55%|█████▌    | 110/200 [02:01<01:16,  1.17it/s]"
     ]
    },
    {
     "name": "stdout",
     "output_type": "stream",
     "text": [
      "Epoch 110/200:\n",
      "  Train Loss: 0.134074\n",
      "  Val Loss: 0.218427\n",
      "  Learning Rate: 0.00025000\n",
      "--------------------------------------------------\n",
      "Epoch 111, Batch 0, Loss: 0.083286\n",
      "Epoch 111, Batch 10, Loss: 0.125181\n"
     ]
    },
    {
     "name": "stderr",
     "output_type": "stream",
     "text": [
      " 56%|█████▌    | 111/200 [02:02<01:16,  1.17it/s]"
     ]
    },
    {
     "name": "stdout",
     "output_type": "stream",
     "text": [
      "Epoch 111/200:\n",
      "  Train Loss: 0.125733\n",
      "  Val Loss: 0.196270\n",
      "  Learning Rate: 0.00025000\n",
      "--------------------------------------------------\n",
      "Epoch 112, Batch 0, Loss: 0.114085\n",
      "Epoch 112, Batch 10, Loss: 0.095653\n"
     ]
    },
    {
     "name": "stderr",
     "output_type": "stream",
     "text": [
      " 56%|█████▌    | 112/200 [02:03<01:15,  1.17it/s]"
     ]
    },
    {
     "name": "stdout",
     "output_type": "stream",
     "text": [
      "Epoch 112/200:\n",
      "  Train Loss: 0.107718\n",
      "  Val Loss: 0.205656\n",
      "  Learning Rate: 0.00012500\n",
      "--------------------------------------------------\n",
      "Epoch 113, Batch 0, Loss: 0.138229\n",
      "Epoch 113, Batch 10, Loss: 0.045509\n"
     ]
    },
    {
     "name": "stderr",
     "output_type": "stream",
     "text": [
      " 56%|█████▋    | 113/200 [02:04<01:14,  1.18it/s]"
     ]
    },
    {
     "name": "stdout",
     "output_type": "stream",
     "text": [
      "Epoch 113/200:\n",
      "  Train Loss: 0.104691\n",
      "  Val Loss: 0.203746\n",
      "  Learning Rate: 0.00012500\n",
      "--------------------------------------------------\n",
      "Epoch 114, Batch 0, Loss: 0.071504\n",
      "Epoch 114, Batch 10, Loss: 0.067578\n"
     ]
    },
    {
     "name": "stderr",
     "output_type": "stream",
     "text": [
      " 57%|█████▋    | 114/200 [02:04<01:12,  1.18it/s]"
     ]
    },
    {
     "name": "stdout",
     "output_type": "stream",
     "text": [
      "Epoch 114/200:\n",
      "  Train Loss: 0.088251\n",
      "  Val Loss: 0.199258\n",
      "  Learning Rate: 0.00012500\n",
      "--------------------------------------------------\n",
      "Epoch 115, Batch 0, Loss: 0.109911\n",
      "Epoch 115, Batch 10, Loss: 0.305901\n"
     ]
    },
    {
     "name": "stderr",
     "output_type": "stream",
     "text": [
      " 57%|█████▊    | 115/200 [02:05<01:11,  1.18it/s]"
     ]
    },
    {
     "name": "stdout",
     "output_type": "stream",
     "text": [
      "Epoch 115/200:\n",
      "  Train Loss: 0.105677\n",
      "  Val Loss: 0.203028\n",
      "  Learning Rate: 0.00012500\n",
      "--------------------------------------------------\n",
      "Epoch 116, Batch 0, Loss: 0.064927\n",
      "Epoch 116, Batch 10, Loss: 0.077172\n"
     ]
    },
    {
     "name": "stderr",
     "output_type": "stream",
     "text": [
      " 58%|█████▊    | 116/200 [02:06<01:12,  1.16it/s]"
     ]
    },
    {
     "name": "stdout",
     "output_type": "stream",
     "text": [
      "Epoch 116/200:\n",
      "  Train Loss: 0.111330\n",
      "  Val Loss: 0.200972\n",
      "  Learning Rate: 0.00012500\n",
      "--------------------------------------------------\n",
      "Epoch 117, Batch 0, Loss: 0.031027\n",
      "Epoch 117, Batch 10, Loss: 0.099006\n"
     ]
    },
    {
     "name": "stderr",
     "output_type": "stream",
     "text": [
      " 58%|█████▊    | 117/200 [02:07<01:12,  1.15it/s]"
     ]
    },
    {
     "name": "stdout",
     "output_type": "stream",
     "text": [
      "Epoch 117/200:\n",
      "  Train Loss: 0.129021\n",
      "  Val Loss: 0.203047\n",
      "  Learning Rate: 0.00012500\n",
      "--------------------------------------------------\n",
      "Epoch 118, Batch 0, Loss: 0.080016\n",
      "Epoch 118, Batch 10, Loss: 0.062995\n"
     ]
    },
    {
     "name": "stderr",
     "output_type": "stream",
     "text": [
      " 59%|█████▉    | 118/200 [02:08<01:10,  1.17it/s]"
     ]
    },
    {
     "name": "stdout",
     "output_type": "stream",
     "text": [
      "Epoch 118/200:\n",
      "  Train Loss: 0.116896\n",
      "  Val Loss: 0.215159\n",
      "  Learning Rate: 0.00012500\n",
      "--------------------------------------------------\n",
      "Epoch 119, Batch 0, Loss: 0.126147\n",
      "Epoch 119, Batch 10, Loss: 0.055560\n"
     ]
    },
    {
     "name": "stderr",
     "output_type": "stream",
     "text": [
      " 60%|█████▉    | 119/200 [02:09<01:08,  1.18it/s]"
     ]
    },
    {
     "name": "stdout",
     "output_type": "stream",
     "text": [
      "Epoch 119/200:\n",
      "  Train Loss: 0.127567\n",
      "  Val Loss: 0.207551\n",
      "  Learning Rate: 0.00012500\n",
      "--------------------------------------------------\n",
      "Epoch 120, Batch 0, Loss: 0.150447\n",
      "Epoch 120, Batch 10, Loss: 0.112063\n"
     ]
    },
    {
     "name": "stderr",
     "output_type": "stream",
     "text": [
      " 60%|█████▉    | 119/200 [02:09<01:28,  1.09s/it]"
     ]
    },
    {
     "name": "stdout",
     "output_type": "stream",
     "text": [
      "Epoch 120/200:\n",
      "  Train Loss: 0.130339\n",
      "  Val Loss: 0.211138\n",
      "  Learning Rate: 0.00012500\n",
      "--------------------------------------------------\n",
      "Early stopping triggered after 120 epochs\n"
     ]
    },
    {
     "name": "stderr",
     "output_type": "stream",
     "text": [
      "\n"
     ]
    }
   ],
   "source": [
    "# Initialize model\n",
    "model = ProteinCNN(\n",
    "    num_amino_acids=20,  # Standard amino acids\n",
    "    num_filters=128,\n",
    "    dropout_rate=0.5\n",
    ").to(device)\n",
    "\n",
    "# Train model\n",
    "print(\"Starting training...\")\n",
    "trained_model, train_losses, val_losses, learning_rates = train_cnn_model(\n",
    "    model=model,\n",
    "    train_loader=train_loader,\n",
    "    val_loader=val_loader,\n",
    "    num_epochs=200,\n",
    "    learning_rate=0.001\n",
    ")"
   ]
  },
  {
   "cell_type": "code",
   "execution_count": 14,
   "id": "934d781e",
   "metadata": {},
   "outputs": [
    {
     "name": "stdout",
     "output_type": "stream",
     "text": [
      "\n",
      "Evaluating model on test set...\n",
      "\n",
      "Model Evaluation Results:\n",
      "Normalized metrics:\n",
      "  R² Score: 0.7363\n",
      "  RMSE: 0.5135\n",
      "  MAE: 0.3470\n",
      "  Median AE: 0.2102\n",
      "\n",
      "Original scale metrics:\n",
      "  R² Score: 0.7363\n",
      "  RMSE: 34.3138\n",
      "  MAE: 23.1895\n",
      "  Median AE: 14.0435\n"
     ]
    },
    {
     "data": {
      "image/png": "[encoded data removed]",
      "text/plain": [
       "<Figure size 1500x1000 with 4 Axes>"
      ]
     },
     "metadata": {},
     "output_type": "display_data"
    }
   ],
   "source": [
    "# Evaluate model on test set\n",
    "print(\"\\nEvaluating model on test set...\")\n",
    "evaluation_results = evaluate_model(\n",
    "    model=trained_model,\n",
    "    data_loader=test_loader,\n",
    "    dataset=train_dataset,  # For normalization parameters\n",
    "    fpbase_dataset=dataset,\n",
    "    target_name='ex_max'\n",
    ")\n",
    "\n",
    "# Plot training history\n",
    "plot_training_history(train_losses, val_losses, learning_rates)\n"
   ]
  }
 ],
 "metadata": {
  "kernelspec": {
   "display_name": "venv",
   "language": "python",
   "name": "python3"
  },
  "language_info": {
   "codemirror_mode": {
    "name": "ipython",
    "version": 3
   },
   "file_extension": ".py",
   "mimetype": "text/x-python",
   "name": "python",
   "nbconvert_exporter": "python",
   "pygments_lexer": "ipython3",
   "version": "3.10.0"
  }
 },
 "nbformat": 4,
 "nbformat_minor": 5
}

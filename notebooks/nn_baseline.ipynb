{
 "cells": [
  {
   "cell_type": "code",
   "execution_count": null,
   "id": "92c0851a",
   "metadata": {},
   "outputs": [],
   "source": [
    "\n"
   ]
  },
  {
   "cell_type": "code",
   "execution_count": 97,
   "id": "ad4d4111",
   "metadata": {},
   "outputs": [],
   "source": [
    "import torch\n",
    "import torch.nn as nn\n",
    "import torch.nn.functional as F\n",
    "import numpy as np\n",
    "from torch.utils.data import Dataset, DataLoader\n"
   ]
  },
  {
   "cell_type": "code",
   "execution_count": 98,
   "id": "fda49740",
   "metadata": {},
   "outputs": [
    {
     "data": {
      "text/plain": [
       "'cuda'"
      ]
     },
     "execution_count": 98,
     "metadata": {},
     "output_type": "execute_result"
    }
   ],
   "source": [
    "device = \"cuda\" if torch.cuda.is_available() else \"cpu\"\n",
    "device"
   ]
  },
  {
   "cell_type": "code",
   "execution_count": 99,
   "id": "9d27351e",
   "metadata": {},
   "outputs": [],
   "source": [
    "import torch\n",
    "import torch.nn as nn\n",
    "import torch.nn.functional as F\n",
    "import numpy as np\n",
    "from torch.utils.data import Dataset, DataLoader\n",
    "from sklearn.preprocessing import StandardScaler\n",
    "import pandas as pd\n",
    "\n",
    "# Define the amino acid alphabet\n",
    "AMINO_ACIDS = 'ACDEFGHIKLMNPQRSTVWY'\n",
    "AA_TO_IDX = {aa: idx for idx, aa in enumerate(AMINO_ACIDS)}\n",
    "IDX_TO_AA = {idx: aa for idx, aa in enumerate(AMINO_ACIDS)}\n",
    "\n",
    "class ProteinDataset(Dataset):\n",
    "    \"\"\"\n",
    "    Custom dataset class for protein sequences and their properties.\n",
    "    \n",
    "    This class handles the conversion from amino acid sequences to numerical\n",
    "    representations and manages the relationship between sequences and their\n",
    "    target properties.\n",
    "    \"\"\"\n",
    "    \n",
    "    def __init__(self, sequences, targets, max_length=500):\n",
    "        # If sequences/targets are pandas Series – drop old index and convert\n",
    "        if isinstance(sequences, pd.Series):\n",
    "            sequences = sequences.reset_index(drop=True).tolist()\n",
    "        if isinstance(targets, pd.Series):\n",
    "            targets = targets.reset_index(drop=True).tolist()\n",
    "\n",
    "        self.sequences = sequences          # now a simple Python list\n",
    "        self.targets   = targets            # plain list as well\n",
    "        self.max_length = max_length\n",
    "\n",
    "        # Normalise targets\n",
    "        self.target_scaler = StandardScaler()\n",
    "        self.normalized_targets = self.target_scaler.fit_transform(\n",
    "            np.array(self.targets).reshape(-1, 1)\n",
    "        ).flatten()\n",
    "\n",
    "    def __len__(self):\n",
    "        return len(self.sequences)\n",
    "\n",
    "    def __getitem__(self, idx):\n",
    "        sequence = self.sequences[idx]\n",
    "        target   = self.normalized_targets[idx]\n",
    "\n",
    "        sequence_tensor = self.sequence_to_tensor(sequence)\n",
    "        target_tensor   = torch.tensor(target, dtype=torch.float32)\n",
    "        return sequence_tensor, target_tensor\n",
    "    \n",
    "    def sequence_to_tensor(self, sequence):\n",
    "        \"\"\"\n",
    "        Convert a protein sequence string to a one-hot encoded tensor.\n",
    "        \n",
    "        This function handles padding and truncation to ensure all sequences\n",
    "        have the same length.\n",
    "        \"\"\"\n",
    "        # Truncate if too long\n",
    "        if len(sequence) > self.max_length:\n",
    "            sequence = sequence[:self.max_length]\n",
    "        \n",
    "        # Create one-hot encoding\n",
    "        tensor = torch.zeros(self.max_length, len(AMINO_ACIDS))\n",
    "        \n",
    "        for i, aa in enumerate(sequence):\n",
    "            if aa in AA_TO_IDX:\n",
    "                tensor[i, AA_TO_IDX[aa]] = 1.0\n",
    "        \n",
    "        return tensor\n",
    "    \n",
    "    def denormalize_target(self, normalized_value):\n",
    "        \"\"\"\n",
    "        Convert normalized target back to original scale.\n",
    "        \n",
    "        This is useful for interpreting model predictions.\n",
    "        \"\"\"\n",
    "        return self.target_scaler.inverse_transform([[normalized_value]])[0][0]"
   ]
  },
  {
   "cell_type": "code",
   "execution_count": 100,
   "id": "7ddebc5c",
   "metadata": {},
   "outputs": [],
   "source": [
    "import torch\n",
    "import torch.nn as nn\n",
    "import torch.nn.functional as F\n",
    "\n",
    "class ProteinCNN(nn.Module):\n",
    "    \"\"\"\n",
    "    An intermediate CNN that balances complexity and regularization.\n",
    "    - Restores one deeper convolutional layer to capture hierarchical patterns.\n",
    "    - Uses a moderately sized fully-connected head.\n",
    "    \"\"\" \n",
    "\n",
    "    def __init__(self, num_amino_acids=21, embedding_dim=64, num_filters=96, dropout_rate=0.4):\n",
    "        \"\"\"\n",
    "        Initialize the intermediate CNN architecture.\n",
    "        \n",
    "        Args:\n",
    "            num_amino_acids: Vocabulary size (e.g., 20 + 1 for padding).\n",
    "            embedding_dim: Size of the learned embedding vector.\n",
    "            num_filters: Number of filters. Increased slightly to 96 to give more capacity.\n",
    "            dropout_rate: A more moderate dropout rate.\n",
    "        \"\"\"\n",
    "        super(ProteinCNN, self).__init__()\n",
    "\n",
    "        self.embedding = nn.Embedding(num_embeddings=num_amino_acids, embedding_dim=embedding_dim)\n",
    "\n",
    "        # First block of convolutions with different kernel sizes\n",
    "        self.conv1 = nn.Conv1d(embedding_dim, num_filters, kernel_size=1, padding=1)\n",
    "        self.conv2 = nn.Conv1d(embedding_dim, num_filters, kernel_size=3, padding=2)\n",
    "        self.conv3 = nn.Conv1d(embedding_dim, num_filters, kernel_size=5, padding=3)\n",
    "\n",
    "        self.batch_norm1 = nn.BatchNorm1d(num_filters)\n",
    "        self.batch_norm2 = nn.BatchNorm1d(num_filters)\n",
    "        self.batch_norm3 = nn.BatchNorm1d(num_filters)\n",
    "\n",
    "        # --- RESTORED a deeper convolutional layer ---\n",
    "        # This allows the model to learn combinations of the initial motifs.\n",
    "        # It takes the concatenated output (num_filters * 3) as input.\n",
    "        self.conv4 = nn.Conv1d(num_filters * 3, num_filters * 2, kernel_size=3, padding=1)\n",
    "        self.batch_norm4 = nn.BatchNorm1d(num_filters * 2)\n",
    "        \n",
    "        self.global_pool = nn.AdaptiveAvgPool1d(1)\n",
    "        \n",
    "        # --- FC head is more powerful than before, but simpler than original ---\n",
    "        # The input is from conv4, which has num_filters * 2 channels.\n",
    "        self.fc1 = nn.Linear(num_filters * 2, 64) \n",
    "        self.fc_out = nn.Linear(64, 1)\n",
    "        \n",
    "        self.dropout = nn.Dropout(dropout_rate)\n",
    "\n",
    "    def forward(self, x_one_hot):\n",
    "        \"\"\"\n",
    "        Forward pass.\n",
    "        \n",
    "        Args:\n",
    "            x_one_hot: Input tensor of one-hot vectors [batch, seq_len, num_amino_acids]\n",
    "        \"\"\"\n",
    "        # Convert one-hot to indices on the fly\n",
    "        x_indices = torch.argmax(x_one_hot, dim=2)\n",
    "        \n",
    "        x = self.embedding(x_indices)\n",
    "        x = x.transpose(1, 2)\n",
    "        \n",
    "        # First conv block\n",
    "        conv1_out = F.relu(self.batch_norm1(self.conv1(x)))\n",
    "        conv2_out = F.relu(self.batch_norm2(self.conv2(x)))\n",
    "        conv3_out = F.relu(self.batch_norm3(self.conv3(x)))\n",
    "        \n",
    "        x = torch.cat([conv1_out, conv2_out, conv3_out], dim=1)\n",
    "        \n",
    "        # --- Apply the deeper conv layer ---\n",
    "        x = F.relu(self.batch_norm4(self.conv4(x)))\n",
    "        x = self.dropout(x) # Apply dropout after the main conv blocks\n",
    "        \n",
    "        x = self.global_pool(x)\n",
    "        x = x.view(x.size(0), -1)\n",
    "        \n",
    "        # FC layers\n",
    "        x = F.relu(self.fc1(x))\n",
    "        x = self.dropout(x)\n",
    "        \n",
    "        x = self.fc_out(x)\n",
    "        \n",
    "        return x"
   ]
  },
  {
   "cell_type": "code",
   "execution_count": 101,
   "id": "0c2f0fd9",
   "metadata": {},
   "outputs": [
    {
     "name": "stdout",
     "output_type": "stream",
     "text": [
      "Training on: cuda\n"
     ]
    }
   ],
   "source": [
    "import torch\n",
    "import torch.nn as nn\n",
    "import torch.optim as optim\n",
    "from torch.utils.data import DataLoader, random_split\n",
    "import numpy as np\n",
    "import matplotlib.pyplot as plt\n",
    "from fpgen.prop_prediction.metrics import get_regression_metrics\n",
    "import time\n",
    "\n",
    "# Set random seeds for reproducibility\n",
    "# This ensures that your results are consistent across runs\n",
    "torch.manual_seed(42)\n",
    "np.random.seed(42)\n",
    "\n",
    "# Check if GPU is available\n",
    "device = torch.device('cuda' if torch.cuda.is_available() else 'cpu')\n",
    "print(f\"Training on: {device}\")"
   ]
  },
  {
   "cell_type": "code",
   "execution_count": 102,
   "id": "a45656fc",
   "metadata": {},
   "outputs": [],
   "source": [
    "import tqdm\n",
    "\n",
    "\n",
    "def train_cnn_model(model, train_loader, val_loader, num_epochs=100, learning_rate=0.001):\n",
    "    \"\"\"\n",
    "    Train the CNN model with careful monitoring and early stopping.\n",
    "    \n",
    "    This function implements best practices for training neural networks on small datasets,\n",
    "    including learning rate scheduling, early stopping, and comprehensive monitoring.\n",
    "    \"\"\"\n",
    "    print(torch.cuda.device_count())\n",
    "    torch.cuda.set_device(0)\n",
    "    # Move model to the appropriate device (GPU if available)\n",
    "    model = model.to(device)\n",
    "    # print devices\n",
    "    \n",
    "    \n",
    "    # Choose optimizer and loss function\n",
    "    # Adam is generally a good choice for CNNs because it adapts the learning rate\n",
    "    optimizer = optim.Adam(model.parameters(), lr=learning_rate, weight_decay=1e-5)\n",
    "    \n",
    "    # Mean Squared Error for regression tasks\n",
    "    criterion = nn.MSELoss()\n",
    "    \n",
    "    # Learning rate scheduler - reduces learning rate when validation loss plateaus\n",
    "    scheduler = optim.lr_scheduler.ReduceLROnPlateau(\n",
    "        optimizer, mode='min', patience=10, factor=0.5\n",
    "    )\n",
    "    \n",
    "    # Early stopping to prevent overfitting\n",
    "    best_val_loss = float('inf')\n",
    "    patience_counter = 0\n",
    "    early_stopping_patience = 20\n",
    "    \n",
    "    # Track training history\n",
    "    train_losses = []\n",
    "    val_losses = []\n",
    "    learning_rates = []\n",
    "    \n",
    "    print(\"Starting training...\")\n",
    "    print(f\"Training batches per epoch: {len(train_loader)}\")\n",
    "    print(f\"Validation batches per epoch: {len(val_loader)}\")\n",
    "    \n",
    "    for epoch in tqdm.tqdm(range(num_epochs)):\n",
    "        # Training phase\n",
    "        model.train()  # Set model to training mode\n",
    "        train_loss = 0.0\n",
    "        train_batches = 0\n",
    "        for batch_idx, (sequences, targets) in enumerate(train_loader):\n",
    "            # Move data to device\n",
    "            sequences = sequences.to(device)\n",
    "            targets = targets.to(device)\n",
    "\n",
    "            # Zero the gradients\n",
    "            optimizer.zero_grad()\n",
    "            \n",
    "            # Forward pass\n",
    "            predictions = model(sequences)\n",
    "            \n",
    "            # Calculate loss\n",
    "            loss = criterion(predictions.squeeze(), targets)\n",
    "            \n",
    "            # Backward pass\n",
    "            loss.backward()\n",
    "            \n",
    "            # Gradient clipping to prevent exploding gradients\n",
    "            torch.nn.utils.clip_grad_norm_(model.parameters(), max_norm=1.0)\n",
    "            \n",
    "            # Update parameters\n",
    "            optimizer.step()\n",
    "            \n",
    "            train_loss += loss.item()\n",
    "            train_batches += 1\n",
    "            \n",
    "            # Print progress every 10 batches\n",
    "            if batch_idx % 10 == 0:\n",
    "                print(f'Epoch {epoch+1}, Batch {batch_idx}, Loss: {loss.item():.6f}')\n",
    "        \n",
    "        # Calculate average training loss\n",
    "        avg_train_loss = train_loss / train_batches\n",
    "        \n",
    "        # Validation phase\n",
    "        model.eval()  # Set model to evaluation mode\n",
    "        val_loss = 0.0\n",
    "        val_batches = 0\n",
    "        \n",
    "        with torch.no_grad():  # Disable gradient computation for efficiency\n",
    "            for sequences, targets in val_loader:\n",
    "                sequences = sequences.to(device)\n",
    "                targets = targets.to(device)\n",
    "                \n",
    "                predictions = model(sequences)\n",
    "                loss = criterion(predictions.squeeze(), targets)\n",
    "                \n",
    "                val_loss += loss.item()\n",
    "                val_batches += 1\n",
    "        \n",
    "        avg_val_loss = val_loss / val_batches\n",
    "        \n",
    "        # Record history\n",
    "        train_losses.append(avg_train_loss)\n",
    "        val_losses.append(avg_val_loss)\n",
    "        learning_rates.append(optimizer.param_groups[0]['lr'])\n",
    "        \n",
    "        # Print epoch summary\n",
    "        print(f'Epoch {epoch+1}/{num_epochs}:')\n",
    "        print(f'  Train Loss: {avg_train_loss:.6f}')\n",
    "        print(f'  Val Loss: {avg_val_loss:.6f}')\n",
    "        print(f'  Learning Rate: {optimizer.param_groups[0][\"lr\"]:.8f}')\n",
    "        print('-' * 50)\n",
    "        \n",
    "        # Learning rate scheduling\n",
    "        scheduler.step(avg_val_loss)\n",
    "        \n",
    "        # Early stopping check\n",
    "        if avg_val_loss < best_val_loss:\n",
    "            best_val_loss = avg_val_loss\n",
    "            patience_counter = 0\n",
    "            # Save the best model\n",
    "            torch.save(model.state_dict(), 'best_cnn_model.pth')\n",
    "            print(f'New best model saved with validation loss: {best_val_loss:.6f}')\n",
    "        else:\n",
    "            patience_counter += 1\n",
    "            \n",
    "        if patience_counter >= early_stopping_patience:\n",
    "            print(f'Early stopping triggered after {epoch+1} epochs')\n",
    "            break\n",
    "    \n",
    "    # Load the best model\n",
    "    model.load_state_dict(torch.load('best_cnn_model.pth'))\n",
    "    \n",
    "    return model, train_losses, val_losses, learning_rates"
   ]
  },
  {
   "cell_type": "code",
   "execution_count": 103,
   "id": "daa1b7b8",
   "metadata": {},
   "outputs": [],
   "source": [
    "def setup_data_loaders(fpbase_dataset, target_name='ex_max', batch_size=32, val_split=0.2):\n",
    "    \"\"\"\n",
    "    Create training and validation data loaders using FPbase's train/test split.\n",
    "    \n",
    "    Args:\n",
    "        fpbase_dataset: Instance of FPbase class\n",
    "        target_name: Name of the target property (e.g., 'ex_max')\n",
    "        batch_size: Batch size for DataLoader\n",
    "        val_split: Fraction of training data to use for validation\n",
    "    \n",
    "    Returns:\n",
    "        train_loader: DataLoader for training data\n",
    "        val_loader: DataLoader for validation data\n",
    "        test_loader: DataLoader for test data\n",
    "        train_dataset: ProteinDataset instance for training data\n",
    "    \"\"\"\n",
    "    \n",
    "    # Get train and test data from FPbase\n",
    "    x_train, y_train = fpbase_dataset.get_train(target_name, is_scaled=True)\n",
    "    x_test, y_test = fpbase_dataset.get_test(target_name, is_scaled=True)\n",
    "    \n",
    "    # Create full training dataset\n",
    "    train_full_dataset = ProteinDataset(x_train, y_train, max_length=500)\n",
    "    \n",
    "    # Split training data into train and validation\n",
    "    total_size = len(train_full_dataset)\n",
    "    train_size = int((1 - val_split) * total_size)\n",
    "    val_size = total_size - train_size\n",
    "    \n",
    "    print(f\"Full training set size: {total_size}\")\n",
    "    print(f\"Training set size: {train_size}\")\n",
    "    print(f\"Validation set size: {val_size}\")\n",
    "    print(f\"Test set size: {len(x_test)}\")\n",
    "    \n",
    "    # Split training dataset into train and validation\n",
    "    train_dataset, val_dataset = random_split(\n",
    "        train_full_dataset, \n",
    "        [train_size, val_size],\n",
    "        generator=torch.Generator().manual_seed(42)  # For reproducibility\n",
    "    )\n",
    "    \n",
    "    # Create test dataset\n",
    "    test_dataset = ProteinDataset(x_test, y_test, max_length=500)\n",
    "    \n",
    "    # Create data loaders\n",
    "    train_loader = DataLoader(\n",
    "        train_dataset, \n",
    "        batch_size=batch_size, \n",
    "        shuffle=True,\n",
    "        num_workers=0,\n",
    "        pin_memory=True if torch.cuda.is_available() else False\n",
    "    )\n",
    "    \n",
    "    val_loader = DataLoader(\n",
    "        val_dataset, \n",
    "        batch_size=batch_size, \n",
    "        shuffle=False,\n",
    "        num_workers=0,\n",
    "        pin_memory=True if torch.cuda.is_available() else False\n",
    "    )\n",
    "    \n",
    "    test_loader = DataLoader(\n",
    "        test_dataset,\n",
    "        batch_size=batch_size,\n",
    "        shuffle=False,\n",
    "        num_workers=0,\n",
    "        pin_memory=True if torch.cuda.is_available() else False\n",
    "    )\n",
    "    \n",
    "    return train_loader, val_loader, test_loader, train_full_dataset"
   ]
  },
  {
   "cell_type": "code",
   "execution_count": 104,
   "id": "f6790103",
   "metadata": {},
   "outputs": [],
   "source": [
    "def evaluate_model(model, data_loader, dataset, fpbase_dataset, target_name='ex_max'):\n",
    "    \"\"\"\n",
    "    Evaluate the trained model and calculate performance metrics.\n",
    "    \n",
    "    This function provides comprehensive evaluation including predictions\n",
    "    on both normalized and original scales using FPbase rescaling.\n",
    "    \n",
    "    Args:\n",
    "        model: The trained model\n",
    "        data_loader: DataLoader with test/validation data\n",
    "        dataset: ProteinDataset instance\n",
    "        fpbase_dataset: FPbase instance for proper rescaling\n",
    "        target_name: Name of the target property (default: 'ex_max')\n",
    "    \"\"\"\n",
    "    \n",
    "    model.eval()\n",
    "    all_predictions = []\n",
    "    all_targets = []\n",
    "    \n",
    "    with torch.no_grad():\n",
    "        for sequences, targets in data_loader:\n",
    "            sequences = sequences.to(device)\n",
    "            targets = targets.to(device)\n",
    "            \n",
    "            predictions = model(sequences)\n",
    "            \n",
    "            all_predictions.extend(predictions.squeeze().cpu().numpy())\n",
    "            all_targets.extend(targets.cpu().numpy())\n",
    "    \n",
    "    # Convert to numpy arrays\n",
    "    all_predictions = np.array(all_predictions)\n",
    "    all_targets = np.array(all_targets)\n",
    "    \n",
    "    # Calculate metrics on normalized scale\n",
    "    metrics_normalized = get_regression_metrics(all_predictions, all_targets)\n",
    "    \n",
    "    # Rescale using FPbase for interpretable metrics\n",
    "    targets_original = fpbase_dataset.rescale_targets(all_targets, target_name)\n",
    "    predictions_original = fpbase_dataset.rescale_targets(all_predictions, target_name)\n",
    "    \n",
    "    # Calculate metrics on original scale\n",
    "    metrics_original = get_regression_metrics(predictions_original, targets_original)\n",
    "    \n",
    "    print(\"\\nModel Evaluation Results:\")\n",
    "    print(f\"Normalized metrics:\")\n",
    "    print(f\"  R² Score: {metrics_normalized['r2']:.4f}\")\n",
    "    print(f\"  RMSE: {metrics_normalized['rmse']:.4f}\")\n",
    "    print(f\"  MAE: {metrics_normalized['mae']:.4f}\")\n",
    "    print(f\"  Median AE: {metrics_normalized['mae_median']:.4f}\")\n",
    "    \n",
    "    print(f\"\\nOriginal scale metrics:\")\n",
    "    print(f\"  R² Score: {metrics_original['r2']:.4f}\")\n",
    "    print(f\"  RMSE: {metrics_original['rmse']:.4f}\")\n",
    "    print(f\"  MAE: {metrics_original['mae']:.4f}\")\n",
    "    print(f\"  Median AE: {metrics_original['mae_median']:.4f}\")\n",
    "    \n",
    "    return {\n",
    "        'predictions_original': predictions_original,\n",
    "        'targets_original': targets_original,\n",
    "        **{f\"{k}_original\": v for k, v in metrics_original.items()},\n",
    "        **{f\"{k}_normalized\": v for k, v in metrics_normalized.items()}\n",
    "    }\n",
    "\n",
    "def plot_training_history(train_losses, val_losses, learning_rates):\n",
    "    \"\"\"\n",
    "    Visualize the training process to understand model behavior.\n",
    "    \n",
    "    These plots help you understand whether your model is learning properly,\n",
    "    overfitting, or if you need to adjust hyperparameters.\n",
    "    \"\"\"\n",
    "    \n",
    "    fig, axes = plt.subplots(2, 2, figsize=(15, 10))\n",
    "    \n",
    "    # Plot training and validation losses\n",
    "    axes[0, 0].plot(train_losses, label='Training Loss', color='blue')\n",
    "    axes[0, 0].plot(val_losses, label='Validation Loss', color='red')\n",
    "    axes[0, 0].set_xlabel('Epoch')\n",
    "    axes[0, 0].set_ylabel('Loss')\n",
    "    axes[0, 0].set_title('Training and Validation Loss')\n",
    "    axes[0, 0].legend()\n",
    "    axes[0, 0].grid(True)\n",
    "    \n",
    "    # Plot learning rate schedule\n",
    "    axes[0, 1].plot(learning_rates, color='green')\n",
    "    axes[0, 1].set_xlabel('Epoch')\n",
    "    axes[0, 1].set_ylabel('Learning Rate')\n",
    "    axes[0, 1].set_title('Learning Rate Schedule')\n",
    "    axes[0, 1].set_yscale('log')\n",
    "    axes[0, 1].grid(True)\n",
    "    \n",
    "    # Plot loss difference (overfitting indicator)\n",
    "    loss_diff = np.array(val_losses) - np.array(train_losses)\n",
    "    axes[1, 0].plot(loss_diff, color='purple')\n",
    "    axes[1, 0].set_xlabel('Epoch')\n",
    "    axes[1, 0].set_ylabel('Validation Loss - Training Loss')\n",
    "    axes[1, 0].set_title('Overfitting Indicator')\n",
    "    axes[1, 0].axhline(y=0, color='black', linestyle='--', alpha=0.5)\n",
    "    axes[1, 0].grid(True)\n",
    "    \n",
    "    # Plot validation loss with trend\n",
    "    axes[1, 1].plot(val_losses, color='red', alpha=0.7)\n",
    "    # Add trend line\n",
    "    z = np.polyfit(range(len(val_losses)), val_losses, 1)\n",
    "    p = np.poly1d(z)\n",
    "    axes[1, 1].plot(range(len(val_losses)), p(range(len(val_losses))), \n",
    "                   color='black', linestyle='--', label='Trend')\n",
    "    axes[1, 1].set_xlabel('Epoch')\n",
    "    axes[1, 1].set_ylabel('Validation Loss')\n",
    "    axes[1, 1].set_title('Validation Loss with Trend')\n",
    "    axes[1, 1].legend()\n",
    "    axes[1, 1].grid(True)\n",
    "    \n",
    "    plt.tight_layout()\n",
    "    plt.show()"
   ]
  },
  {
   "cell_type": "code",
   "execution_count": 105,
   "id": "13f0db30",
   "metadata": {},
   "outputs": [],
   "source": [
    "import sys\n",
    "import os\n",
    "sys.path.append(os.path.abspath(os.path.join(os.getcwd(), '..')))"
   ]
  },
  {
   "cell_type": "code",
   "execution_count": 106,
   "id": "858a0cca",
   "metadata": {},
   "outputs": [
    {
     "name": "stdout",
     "output_type": "stream",
     "text": [
      "Full training set size: 676\n",
      "Training set size: 540\n",
      "Validation set size: 136\n",
      "Test set size: 173\n"
     ]
    }
   ],
   "source": [
    "# Initialize FPbase dataset\n",
    "from fpgen.prop_prediction.dataset import FPbase\n",
    "dataset = FPbase()\n",
    "\n",
    "# Create data loaders using FPbase's train/test split\n",
    "batch_size = 32\n",
    "train_loader, val_loader, test_loader, train_dataset = setup_data_loaders(\n",
    "    fpbase_dataset=dataset,\n",
    "    target_name='ex_max',\n",
    "    batch_size=batch_size,\n",
    "    val_split=0.2  # 20% of training data for validation\n",
    ")"
   ]
  },
  {
   "cell_type": "code",
   "execution_count": 107,
   "id": "7d1098cc",
   "metadata": {},
   "outputs": [
    {
     "name": "stdout",
     "output_type": "stream",
     "text": [
      "CUDA available : True\n",
      "GPU count       : 1\n",
      "GPU 0 name     : NVIDIA GeForce RTX 4050 Laptop GPU\n",
      "GPU 0 capability: (8, 9)\n"
     ]
    }
   ],
   "source": [
    "import torch\n",
    "print(\"CUDA available :\", torch.cuda.is_available())\n",
    "print(\"GPU count       :\", torch.cuda.device_count())\n",
    "for i in range(torch.cuda.device_count()):\n",
    "    print(f\"GPU {i} name     :\", torch.cuda.get_device_name(i))\n",
    "    print(f\"GPU {i} capability:\",\n",
    "          torch.cuda.get_device_capability(i))"
   ]
  },
  {
   "cell_type": "code",
   "execution_count": 112,
   "id": "de63c8c8",
   "metadata": {},
   "outputs": [
    {
     "name": "stdout",
     "output_type": "stream",
     "text": [
      "Starting training...\n",
      "1\n",
      "Starting training...\n",
      "Training batches per epoch: 17\n",
      "Validation batches per epoch: 5\n"
     ]
    },
    {
     "name": "stderr",
     "output_type": "stream",
     "text": [
      "  0%|          | 0/500 [00:00<?, ?it/s]"
     ]
    },
    {
     "name": "stdout",
     "output_type": "stream",
     "text": [
      "Epoch 1, Batch 0, Loss: 0.962449\n",
      "Epoch 1, Batch 10, Loss: 1.238804\n"
     ]
    },
    {
     "name": "stderr",
     "output_type": "stream",
     "text": [
      "  0%|          | 1/500 [00:01<10:07,  1.22s/it]"
     ]
    },
    {
     "name": "stdout",
     "output_type": "stream",
     "text": [
      "Epoch 1/500:\n",
      "  Train Loss: 1.026274\n",
      "  Val Loss: 0.776575\n",
      "  Learning Rate: 0.00100000\n",
      "--------------------------------------------------\n",
      "New best model saved with validation loss: 0.776575\n",
      "Epoch 2, Batch 0, Loss: 0.576295\n",
      "Epoch 2, Batch 10, Loss: 0.763608\n"
     ]
    },
    {
     "name": "stderr",
     "output_type": "stream",
     "text": [
      "  0%|          | 2/500 [00:02<09:02,  1.09s/it]"
     ]
    },
    {
     "name": "stdout",
     "output_type": "stream",
     "text": [
      "Epoch 2/500:\n",
      "  Train Loss: 0.909078\n",
      "  Val Loss: 0.679759\n",
      "  Learning Rate: 0.00100000\n",
      "--------------------------------------------------\n",
      "New best model saved with validation loss: 0.679759\n",
      "Epoch 3, Batch 0, Loss: 0.820835\n",
      "Epoch 3, Batch 10, Loss: 0.949121\n"
     ]
    },
    {
     "name": "stderr",
     "output_type": "stream",
     "text": [
      "  1%|          | 3/500 [00:03<08:46,  1.06s/it]"
     ]
    },
    {
     "name": "stdout",
     "output_type": "stream",
     "text": [
      "Epoch 3/500:\n",
      "  Train Loss: 0.772466\n",
      "  Val Loss: 0.543945\n",
      "  Learning Rate: 0.00100000\n",
      "--------------------------------------------------\n",
      "New best model saved with validation loss: 0.543945\n",
      "Epoch 4, Batch 0, Loss: 0.665565\n",
      "Epoch 4, Batch 10, Loss: 0.611109\n"
     ]
    },
    {
     "name": "stderr",
     "output_type": "stream",
     "text": [
      "  1%|          | 4/500 [00:04<08:32,  1.03s/it]"
     ]
    },
    {
     "name": "stdout",
     "output_type": "stream",
     "text": [
      "Epoch 4/500:\n",
      "  Train Loss: 0.686857\n",
      "  Val Loss: 0.473288\n",
      "  Learning Rate: 0.00100000\n",
      "--------------------------------------------------\n",
      "New best model saved with validation loss: 0.473288\n",
      "Epoch 5, Batch 0, Loss: 0.534586\n",
      "Epoch 5, Batch 10, Loss: 0.635478\n"
     ]
    },
    {
     "name": "stderr",
     "output_type": "stream",
     "text": [
      "  1%|          | 5/500 [00:05<08:22,  1.01s/it]"
     ]
    },
    {
     "name": "stdout",
     "output_type": "stream",
     "text": [
      "Epoch 5/500:\n",
      "  Train Loss: 0.685470\n",
      "  Val Loss: 0.464612\n",
      "  Learning Rate: 0.00100000\n",
      "--------------------------------------------------\n",
      "New best model saved with validation loss: 0.464612\n",
      "Epoch 6, Batch 0, Loss: 0.690639\n",
      "Epoch 6, Batch 10, Loss: 0.618076\n"
     ]
    },
    {
     "name": "stderr",
     "output_type": "stream",
     "text": [
      "  1%|          | 6/500 [00:06<08:20,  1.01s/it]"
     ]
    },
    {
     "name": "stdout",
     "output_type": "stream",
     "text": [
      "Epoch 6/500:\n",
      "  Train Loss: 0.667565\n",
      "  Val Loss: 0.464299\n",
      "  Learning Rate: 0.00100000\n",
      "--------------------------------------------------\n",
      "New best model saved with validation loss: 0.464299\n",
      "Epoch 7, Batch 0, Loss: 0.614269\n",
      "Epoch 7, Batch 10, Loss: 0.685495\n"
     ]
    },
    {
     "name": "stderr",
     "output_type": "stream",
     "text": [
      "  1%|▏         | 7/500 [00:07<08:17,  1.01s/it]"
     ]
    },
    {
     "name": "stdout",
     "output_type": "stream",
     "text": [
      "Epoch 7/500:\n",
      "  Train Loss: 0.612707\n",
      "  Val Loss: 0.474403\n",
      "  Learning Rate: 0.00100000\n",
      "--------------------------------------------------\n",
      "Epoch 8, Batch 0, Loss: 0.420815\n",
      "Epoch 8, Batch 10, Loss: 1.045979\n"
     ]
    },
    {
     "name": "stderr",
     "output_type": "stream",
     "text": [
      "  2%|▏         | 8/500 [00:08<08:13,  1.00s/it]"
     ]
    },
    {
     "name": "stdout",
     "output_type": "stream",
     "text": [
      "Epoch 8/500:\n",
      "  Train Loss: 0.605115\n",
      "  Val Loss: 0.694783\n",
      "  Learning Rate: 0.00100000\n",
      "--------------------------------------------------\n",
      "Epoch 9, Batch 0, Loss: 0.561061\n",
      "Epoch 9, Batch 10, Loss: 0.300749\n"
     ]
    },
    {
     "name": "stderr",
     "output_type": "stream",
     "text": [
      "  2%|▏         | 9/500 [00:09<08:10,  1.00it/s]"
     ]
    },
    {
     "name": "stdout",
     "output_type": "stream",
     "text": [
      "Epoch 9/500:\n",
      "  Train Loss: 0.576904\n",
      "  Val Loss: 0.429527\n",
      "  Learning Rate: 0.00100000\n",
      "--------------------------------------------------\n",
      "New best model saved with validation loss: 0.429527\n",
      "Epoch 10, Batch 0, Loss: 0.790859\n",
      "Epoch 10, Batch 10, Loss: 0.530554\n"
     ]
    },
    {
     "name": "stderr",
     "output_type": "stream",
     "text": [
      "  2%|▏         | 10/500 [00:10<08:06,  1.01it/s]"
     ]
    },
    {
     "name": "stdout",
     "output_type": "stream",
     "text": [
      "Epoch 10/500:\n",
      "  Train Loss: 0.568132\n",
      "  Val Loss: 2.773758\n",
      "  Learning Rate: 0.00100000\n",
      "--------------------------------------------------\n",
      "Epoch 11, Batch 0, Loss: 0.499155\n",
      "Epoch 11, Batch 10, Loss: 1.451729\n"
     ]
    },
    {
     "name": "stderr",
     "output_type": "stream",
     "text": [
      "  2%|▏         | 11/500 [00:11<08:04,  1.01it/s]"
     ]
    },
    {
     "name": "stdout",
     "output_type": "stream",
     "text": [
      "Epoch 11/500:\n",
      "  Train Loss: 0.567918\n",
      "  Val Loss: 3.004572\n",
      "  Learning Rate: 0.00100000\n",
      "--------------------------------------------------\n",
      "Epoch 12, Batch 0, Loss: 0.578654\n",
      "Epoch 12, Batch 10, Loss: 0.695854\n"
     ]
    },
    {
     "name": "stderr",
     "output_type": "stream",
     "text": [
      "  2%|▏         | 12/500 [00:12<08:02,  1.01it/s]"
     ]
    },
    {
     "name": "stdout",
     "output_type": "stream",
     "text": [
      "Epoch 12/500:\n",
      "  Train Loss: 0.558274\n",
      "  Val Loss: 0.433429\n",
      "  Learning Rate: 0.00100000\n",
      "--------------------------------------------------\n",
      "Epoch 13, Batch 0, Loss: 0.829106\n",
      "Epoch 13, Batch 10, Loss: 0.385496\n"
     ]
    },
    {
     "name": "stderr",
     "output_type": "stream",
     "text": [
      "  3%|▎         | 13/500 [00:13<07:58,  1.02it/s]"
     ]
    },
    {
     "name": "stdout",
     "output_type": "stream",
     "text": [
      "Epoch 13/500:\n",
      "  Train Loss: 0.559499\n",
      "  Val Loss: 0.475326\n",
      "  Learning Rate: 0.00100000\n",
      "--------------------------------------------------\n",
      "Epoch 14, Batch 0, Loss: 0.338958\n",
      "Epoch 14, Batch 10, Loss: 0.331240\n"
     ]
    },
    {
     "name": "stderr",
     "output_type": "stream",
     "text": [
      "  3%|▎         | 14/500 [00:14<07:55,  1.02it/s]"
     ]
    },
    {
     "name": "stdout",
     "output_type": "stream",
     "text": [
      "Epoch 14/500:\n",
      "  Train Loss: 0.529386\n",
      "  Val Loss: 2.924367\n",
      "  Learning Rate: 0.00100000\n",
      "--------------------------------------------------\n",
      "Epoch 15, Batch 0, Loss: 0.372167\n",
      "Epoch 15, Batch 10, Loss: 0.403810\n"
     ]
    },
    {
     "name": "stderr",
     "output_type": "stream",
     "text": [
      "  3%|▎         | 15/500 [00:15<07:53,  1.02it/s]"
     ]
    },
    {
     "name": "stdout",
     "output_type": "stream",
     "text": [
      "Epoch 15/500:\n",
      "  Train Loss: 0.540793\n",
      "  Val Loss: 3.653138\n",
      "  Learning Rate: 0.00100000\n",
      "--------------------------------------------------\n",
      "Epoch 16, Batch 0, Loss: 0.532018\n",
      "Epoch 16, Batch 10, Loss: 0.689374\n"
     ]
    },
    {
     "name": "stderr",
     "output_type": "stream",
     "text": [
      "  3%|▎         | 16/500 [00:16<07:54,  1.02it/s]"
     ]
    },
    {
     "name": "stdout",
     "output_type": "stream",
     "text": [
      "Epoch 16/500:\n",
      "  Train Loss: 0.504663\n",
      "  Val Loss: 0.405331\n",
      "  Learning Rate: 0.00100000\n",
      "--------------------------------------------------\n",
      "New best model saved with validation loss: 0.405331\n",
      "Epoch 17, Batch 0, Loss: 0.470290\n",
      "Epoch 17, Batch 10, Loss: 0.307356\n"
     ]
    },
    {
     "name": "stderr",
     "output_type": "stream",
     "text": [
      "  3%|▎         | 17/500 [00:17<07:52,  1.02it/s]"
     ]
    },
    {
     "name": "stdout",
     "output_type": "stream",
     "text": [
      "Epoch 17/500:\n",
      "  Train Loss: 0.525478\n",
      "  Val Loss: 0.477162\n",
      "  Learning Rate: 0.00100000\n",
      "--------------------------------------------------\n",
      "Epoch 18, Batch 0, Loss: 0.872860\n",
      "Epoch 18, Batch 10, Loss: 0.847456\n"
     ]
    },
    {
     "name": "stderr",
     "output_type": "stream",
     "text": [
      "  4%|▎         | 18/500 [00:18<07:51,  1.02it/s]"
     ]
    },
    {
     "name": "stdout",
     "output_type": "stream",
     "text": [
      "Epoch 18/500:\n",
      "  Train Loss: 0.548818\n",
      "  Val Loss: 0.438890\n",
      "  Learning Rate: 0.00100000\n",
      "--------------------------------------------------\n",
      "Epoch 19, Batch 0, Loss: 0.461168\n",
      "Epoch 19, Batch 10, Loss: 0.428143\n"
     ]
    },
    {
     "name": "stderr",
     "output_type": "stream",
     "text": [
      "  4%|▍         | 19/500 [00:19<07:57,  1.01it/s]"
     ]
    },
    {
     "name": "stdout",
     "output_type": "stream",
     "text": [
      "Epoch 19/500:\n",
      "  Train Loss: 0.480838\n",
      "  Val Loss: 1.083443\n",
      "  Learning Rate: 0.00100000\n",
      "--------------------------------------------------\n",
      "Epoch 20, Batch 0, Loss: 0.362767\n",
      "Epoch 20, Batch 10, Loss: 0.248445\n"
     ]
    },
    {
     "name": "stderr",
     "output_type": "stream",
     "text": [
      "  4%|▍         | 20/500 [00:20<07:54,  1.01it/s]"
     ]
    },
    {
     "name": "stdout",
     "output_type": "stream",
     "text": [
      "Epoch 20/500:\n",
      "  Train Loss: 0.472713\n",
      "  Val Loss: 0.415684\n",
      "  Learning Rate: 0.00100000\n",
      "--------------------------------------------------\n",
      "Epoch 21, Batch 0, Loss: 0.372345\n",
      "Epoch 21, Batch 10, Loss: 0.408417\n"
     ]
    },
    {
     "name": "stderr",
     "output_type": "stream",
     "text": [
      "  4%|▍         | 21/500 [00:21<07:53,  1.01it/s]"
     ]
    },
    {
     "name": "stdout",
     "output_type": "stream",
     "text": [
      "Epoch 21/500:\n",
      "  Train Loss: 0.479063\n",
      "  Val Loss: 0.566322\n",
      "  Learning Rate: 0.00100000\n",
      "--------------------------------------------------\n",
      "Epoch 22, Batch 0, Loss: 0.279471\n",
      "Epoch 22, Batch 10, Loss: 0.473837\n"
     ]
    },
    {
     "name": "stderr",
     "output_type": "stream",
     "text": [
      "  4%|▍         | 22/500 [00:21<07:52,  1.01it/s]"
     ]
    },
    {
     "name": "stdout",
     "output_type": "stream",
     "text": [
      "Epoch 22/500:\n",
      "  Train Loss: 0.450822\n",
      "  Val Loss: 0.439176\n",
      "  Learning Rate: 0.00100000\n",
      "--------------------------------------------------\n",
      "Epoch 23, Batch 0, Loss: 0.388845\n",
      "Epoch 23, Batch 10, Loss: 0.312766\n"
     ]
    },
    {
     "name": "stderr",
     "output_type": "stream",
     "text": [
      "  5%|▍         | 23/500 [00:22<07:52,  1.01it/s]"
     ]
    },
    {
     "name": "stdout",
     "output_type": "stream",
     "text": [
      "Epoch 23/500:\n",
      "  Train Loss: 0.470436\n",
      "  Val Loss: 0.407275\n",
      "  Learning Rate: 0.00100000\n",
      "--------------------------------------------------\n",
      "Epoch 24, Batch 0, Loss: 0.323687\n",
      "Epoch 24, Batch 10, Loss: 0.469234\n"
     ]
    },
    {
     "name": "stderr",
     "output_type": "stream",
     "text": [
      "  5%|▍         | 24/500 [00:23<07:50,  1.01it/s]"
     ]
    },
    {
     "name": "stdout",
     "output_type": "stream",
     "text": [
      "Epoch 24/500:\n",
      "  Train Loss: 0.480228\n",
      "  Val Loss: 0.508050\n",
      "  Learning Rate: 0.00100000\n",
      "--------------------------------------------------\n",
      "Epoch 25, Batch 0, Loss: 0.635406\n",
      "Epoch 25, Batch 10, Loss: 0.281707\n"
     ]
    },
    {
     "name": "stderr",
     "output_type": "stream",
     "text": [
      "  5%|▌         | 25/500 [00:24<07:50,  1.01it/s]"
     ]
    },
    {
     "name": "stdout",
     "output_type": "stream",
     "text": [
      "Epoch 25/500:\n",
      "  Train Loss: 0.418207\n",
      "  Val Loss: 0.387281\n",
      "  Learning Rate: 0.00100000\n",
      "--------------------------------------------------\n",
      "New best model saved with validation loss: 0.387281\n",
      "Epoch 26, Batch 0, Loss: 0.372181\n",
      "Epoch 26, Batch 10, Loss: 0.803450\n"
     ]
    },
    {
     "name": "stderr",
     "output_type": "stream",
     "text": [
      "  5%|▌         | 26/500 [00:25<07:49,  1.01it/s]"
     ]
    },
    {
     "name": "stdout",
     "output_type": "stream",
     "text": [
      "Epoch 26/500:\n",
      "  Train Loss: 0.426081\n",
      "  Val Loss: 0.424397\n",
      "  Learning Rate: 0.00100000\n",
      "--------------------------------------------------\n",
      "Epoch 27, Batch 0, Loss: 0.349547\n",
      "Epoch 27, Batch 10, Loss: 0.294051\n"
     ]
    },
    {
     "name": "stderr",
     "output_type": "stream",
     "text": [
      "  5%|▌         | 27/500 [00:26<07:49,  1.01it/s]"
     ]
    },
    {
     "name": "stdout",
     "output_type": "stream",
     "text": [
      "Epoch 27/500:\n",
      "  Train Loss: 0.416064\n",
      "  Val Loss: 0.366392\n",
      "  Learning Rate: 0.00100000\n",
      "--------------------------------------------------\n",
      "New best model saved with validation loss: 0.366392\n",
      "Epoch 28, Batch 0, Loss: 0.181729\n",
      "Epoch 28, Batch 10, Loss: 0.277497\n"
     ]
    },
    {
     "name": "stderr",
     "output_type": "stream",
     "text": [
      "  6%|▌         | 28/500 [00:27<07:44,  1.02it/s]"
     ]
    },
    {
     "name": "stdout",
     "output_type": "stream",
     "text": [
      "Epoch 28/500:\n",
      "  Train Loss: 0.434711\n",
      "  Val Loss: 0.384432\n",
      "  Learning Rate: 0.00100000\n",
      "--------------------------------------------------\n",
      "Epoch 29, Batch 0, Loss: 0.410080\n",
      "Epoch 29, Batch 10, Loss: 0.416937\n"
     ]
    },
    {
     "name": "stderr",
     "output_type": "stream",
     "text": [
      "  6%|▌         | 29/500 [00:28<07:44,  1.01it/s]"
     ]
    },
    {
     "name": "stdout",
     "output_type": "stream",
     "text": [
      "Epoch 29/500:\n",
      "  Train Loss: 0.428953\n",
      "  Val Loss: 0.431072\n",
      "  Learning Rate: 0.00100000\n",
      "--------------------------------------------------\n",
      "Epoch 30, Batch 0, Loss: 0.737177\n",
      "Epoch 30, Batch 10, Loss: 0.509089\n"
     ]
    },
    {
     "name": "stderr",
     "output_type": "stream",
     "text": [
      "  6%|▌         | 30/500 [00:29<07:47,  1.01it/s]"
     ]
    },
    {
     "name": "stdout",
     "output_type": "stream",
     "text": [
      "Epoch 30/500:\n",
      "  Train Loss: 0.409341\n",
      "  Val Loss: 0.429116\n",
      "  Learning Rate: 0.00100000\n",
      "--------------------------------------------------\n",
      "Epoch 31, Batch 0, Loss: 0.395781\n",
      "Epoch 31, Batch 10, Loss: 0.464463\n"
     ]
    },
    {
     "name": "stderr",
     "output_type": "stream",
     "text": [
      "  6%|▌         | 31/500 [00:30<07:50,  1.00s/it]"
     ]
    },
    {
     "name": "stdout",
     "output_type": "stream",
     "text": [
      "Epoch 31/500:\n",
      "  Train Loss: 0.393288\n",
      "  Val Loss: 0.397050\n",
      "  Learning Rate: 0.00100000\n",
      "--------------------------------------------------\n",
      "Epoch 32, Batch 0, Loss: 0.337270\n",
      "Epoch 32, Batch 10, Loss: 0.382407\n"
     ]
    },
    {
     "name": "stderr",
     "output_type": "stream",
     "text": [
      "  6%|▋         | 32/500 [00:31<07:49,  1.00s/it]"
     ]
    },
    {
     "name": "stdout",
     "output_type": "stream",
     "text": [
      "Epoch 32/500:\n",
      "  Train Loss: 0.352250\n",
      "  Val Loss: 0.377605\n",
      "  Learning Rate: 0.00100000\n",
      "--------------------------------------------------\n",
      "Epoch 33, Batch 0, Loss: 0.356623\n",
      "Epoch 33, Batch 10, Loss: 0.629100\n"
     ]
    },
    {
     "name": "stderr",
     "output_type": "stream",
     "text": [
      "  7%|▋         | 33/500 [00:32<07:46,  1.00it/s]"
     ]
    },
    {
     "name": "stdout",
     "output_type": "stream",
     "text": [
      "Epoch 33/500:\n",
      "  Train Loss: 0.339957\n",
      "  Val Loss: 0.916953\n",
      "  Learning Rate: 0.00100000\n",
      "--------------------------------------------------\n",
      "Epoch 34, Batch 0, Loss: 0.241049\n",
      "Epoch 34, Batch 10, Loss: 0.621583\n"
     ]
    },
    {
     "name": "stderr",
     "output_type": "stream",
     "text": [
      "  7%|▋         | 34/500 [00:33<07:44,  1.00it/s]"
     ]
    },
    {
     "name": "stdout",
     "output_type": "stream",
     "text": [
      "Epoch 34/500:\n",
      "  Train Loss: 0.385146\n",
      "  Val Loss: 0.475587\n",
      "  Learning Rate: 0.00100000\n",
      "--------------------------------------------------\n",
      "Epoch 35, Batch 0, Loss: 0.274501\n",
      "Epoch 35, Batch 10, Loss: 0.411153\n"
     ]
    },
    {
     "name": "stderr",
     "output_type": "stream",
     "text": [
      "  7%|▋         | 35/500 [00:34<07:39,  1.01it/s]"
     ]
    },
    {
     "name": "stdout",
     "output_type": "stream",
     "text": [
      "Epoch 35/500:\n",
      "  Train Loss: 0.359602\n",
      "  Val Loss: 0.406008\n",
      "  Learning Rate: 0.00100000\n",
      "--------------------------------------------------\n",
      "Epoch 36, Batch 0, Loss: 0.499845\n",
      "Epoch 36, Batch 10, Loss: 0.494935\n"
     ]
    },
    {
     "name": "stderr",
     "output_type": "stream",
     "text": [
      "  7%|▋         | 36/500 [00:35<07:38,  1.01it/s]"
     ]
    },
    {
     "name": "stdout",
     "output_type": "stream",
     "text": [
      "Epoch 36/500:\n",
      "  Train Loss: 0.352920\n",
      "  Val Loss: 2.087784\n",
      "  Learning Rate: 0.00100000\n",
      "--------------------------------------------------\n",
      "Epoch 37, Batch 0, Loss: 0.402173\n",
      "Epoch 37, Batch 10, Loss: 0.366190\n"
     ]
    },
    {
     "name": "stderr",
     "output_type": "stream",
     "text": [
      "  7%|▋         | 37/500 [00:36<07:34,  1.02it/s]"
     ]
    },
    {
     "name": "stdout",
     "output_type": "stream",
     "text": [
      "Epoch 37/500:\n",
      "  Train Loss: 0.374777\n",
      "  Val Loss: 0.969762\n",
      "  Learning Rate: 0.00100000\n",
      "--------------------------------------------------\n",
      "Epoch 38, Batch 0, Loss: 0.660585\n",
      "Epoch 38, Batch 10, Loss: 0.444132\n"
     ]
    },
    {
     "name": "stderr",
     "output_type": "stream",
     "text": [
      "  8%|▊         | 38/500 [00:37<07:31,  1.02it/s]"
     ]
    },
    {
     "name": "stdout",
     "output_type": "stream",
     "text": [
      "Epoch 38/500:\n",
      "  Train Loss: 0.394228\n",
      "  Val Loss: 0.378619\n",
      "  Learning Rate: 0.00100000\n",
      "--------------------------------------------------\n",
      "Epoch 39, Batch 0, Loss: 0.159149\n",
      "Epoch 39, Batch 10, Loss: 0.329516\n"
     ]
    },
    {
     "name": "stderr",
     "output_type": "stream",
     "text": [
      "  8%|▊         | 39/500 [00:38<07:30,  1.02it/s]"
     ]
    },
    {
     "name": "stdout",
     "output_type": "stream",
     "text": [
      "Epoch 39/500:\n",
      "  Train Loss: 0.346050\n",
      "  Val Loss: 0.444326\n",
      "  Learning Rate: 0.00050000\n",
      "--------------------------------------------------\n",
      "Epoch 40, Batch 0, Loss: 0.357158\n",
      "Epoch 40, Batch 10, Loss: 0.184096\n"
     ]
    },
    {
     "name": "stderr",
     "output_type": "stream",
     "text": [
      "  8%|▊         | 40/500 [00:39<07:29,  1.02it/s]"
     ]
    },
    {
     "name": "stdout",
     "output_type": "stream",
     "text": [
      "Epoch 40/500:\n",
      "  Train Loss: 0.334240\n",
      "  Val Loss: 0.412395\n",
      "  Learning Rate: 0.00050000\n",
      "--------------------------------------------------\n",
      "Epoch 41, Batch 0, Loss: 0.348708\n",
      "Epoch 41, Batch 10, Loss: 0.392459\n"
     ]
    },
    {
     "name": "stderr",
     "output_type": "stream",
     "text": [
      "  8%|▊         | 41/500 [00:40<07:29,  1.02it/s]"
     ]
    },
    {
     "name": "stdout",
     "output_type": "stream",
     "text": [
      "Epoch 41/500:\n",
      "  Train Loss: 0.314078\n",
      "  Val Loss: 0.503638\n",
      "  Learning Rate: 0.00050000\n",
      "--------------------------------------------------\n",
      "Epoch 42, Batch 0, Loss: 0.368553\n",
      "Epoch 42, Batch 10, Loss: 0.259277\n"
     ]
    },
    {
     "name": "stderr",
     "output_type": "stream",
     "text": [
      "  8%|▊         | 42/500 [00:41<07:29,  1.02it/s]"
     ]
    },
    {
     "name": "stdout",
     "output_type": "stream",
     "text": [
      "Epoch 42/500:\n",
      "  Train Loss: 0.331489\n",
      "  Val Loss: 0.338961\n",
      "  Learning Rate: 0.00050000\n",
      "--------------------------------------------------\n",
      "New best model saved with validation loss: 0.338961\n",
      "Epoch 43, Batch 0, Loss: 0.272317\n",
      "Epoch 43, Batch 10, Loss: 0.327475\n"
     ]
    },
    {
     "name": "stderr",
     "output_type": "stream",
     "text": [
      "  9%|▊         | 43/500 [00:42<07:30,  1.01it/s]"
     ]
    },
    {
     "name": "stdout",
     "output_type": "stream",
     "text": [
      "Epoch 43/500:\n",
      "  Train Loss: 0.324188\n",
      "  Val Loss: 0.339860\n",
      "  Learning Rate: 0.00050000\n",
      "--------------------------------------------------\n",
      "Epoch 44, Batch 0, Loss: 0.332042\n",
      "Epoch 44, Batch 10, Loss: 0.403094\n"
     ]
    },
    {
     "name": "stderr",
     "output_type": "stream",
     "text": [
      "  9%|▉         | 44/500 [00:43<07:28,  1.02it/s]"
     ]
    },
    {
     "name": "stdout",
     "output_type": "stream",
     "text": [
      "Epoch 44/500:\n",
      "  Train Loss: 0.301367\n",
      "  Val Loss: 0.466602\n",
      "  Learning Rate: 0.00050000\n",
      "--------------------------------------------------\n",
      "Epoch 45, Batch 0, Loss: 0.254590\n",
      "Epoch 45, Batch 10, Loss: 0.450082\n"
     ]
    },
    {
     "name": "stderr",
     "output_type": "stream",
     "text": [
      "  9%|▉         | 45/500 [00:44<07:29,  1.01it/s]"
     ]
    },
    {
     "name": "stdout",
     "output_type": "stream",
     "text": [
      "Epoch 45/500:\n",
      "  Train Loss: 0.399268\n",
      "  Val Loss: 0.456116\n",
      "  Learning Rate: 0.00050000\n",
      "--------------------------------------------------\n",
      "Epoch 46, Batch 0, Loss: 0.136785\n",
      "Epoch 46, Batch 10, Loss: 0.217135\n"
     ]
    },
    {
     "name": "stderr",
     "output_type": "stream",
     "text": [
      "  9%|▉         | 46/500 [00:45<07:27,  1.01it/s]"
     ]
    },
    {
     "name": "stdout",
     "output_type": "stream",
     "text": [
      "Epoch 46/500:\n",
      "  Train Loss: 0.284210\n",
      "  Val Loss: 0.372628\n",
      "  Learning Rate: 0.00050000\n",
      "--------------------------------------------------\n",
      "Epoch 47, Batch 0, Loss: 0.296538\n",
      "Epoch 47, Batch 10, Loss: 0.140253\n"
     ]
    },
    {
     "name": "stderr",
     "output_type": "stream",
     "text": [
      "  9%|▉         | 47/500 [00:46<07:27,  1.01it/s]"
     ]
    },
    {
     "name": "stdout",
     "output_type": "stream",
     "text": [
      "Epoch 47/500:\n",
      "  Train Loss: 0.292275\n",
      "  Val Loss: 0.363835\n",
      "  Learning Rate: 0.00050000\n",
      "--------------------------------------------------\n",
      "Epoch 48, Batch 0, Loss: 0.190142\n",
      "Epoch 48, Batch 10, Loss: 0.162801\n"
     ]
    },
    {
     "name": "stderr",
     "output_type": "stream",
     "text": [
      " 10%|▉         | 48/500 [00:47<07:25,  1.01it/s]"
     ]
    },
    {
     "name": "stdout",
     "output_type": "stream",
     "text": [
      "Epoch 48/500:\n",
      "  Train Loss: 0.321935\n",
      "  Val Loss: 0.423666\n",
      "  Learning Rate: 0.00050000\n",
      "--------------------------------------------------\n",
      "Epoch 49, Batch 0, Loss: 0.218533\n",
      "Epoch 49, Batch 10, Loss: 0.360110\n"
     ]
    },
    {
     "name": "stderr",
     "output_type": "stream",
     "text": [
      " 10%|▉         | 49/500 [00:48<07:19,  1.03it/s]"
     ]
    },
    {
     "name": "stdout",
     "output_type": "stream",
     "text": [
      "Epoch 49/500:\n",
      "  Train Loss: 0.295579\n",
      "  Val Loss: 0.440285\n",
      "  Learning Rate: 0.00050000\n",
      "--------------------------------------------------\n",
      "Epoch 50, Batch 0, Loss: 0.160862\n",
      "Epoch 50, Batch 10, Loss: 0.219656\n"
     ]
    },
    {
     "name": "stderr",
     "output_type": "stream",
     "text": [
      " 10%|█         | 50/500 [00:49<07:18,  1.03it/s]"
     ]
    },
    {
     "name": "stdout",
     "output_type": "stream",
     "text": [
      "Epoch 50/500:\n",
      "  Train Loss: 0.319069\n",
      "  Val Loss: 0.472233\n",
      "  Learning Rate: 0.00050000\n",
      "--------------------------------------------------\n",
      "Epoch 51, Batch 0, Loss: 0.715185\n",
      "Epoch 51, Batch 10, Loss: 0.193481\n"
     ]
    },
    {
     "name": "stderr",
     "output_type": "stream",
     "text": [
      " 10%|█         | 51/500 [00:50<07:14,  1.03it/s]"
     ]
    },
    {
     "name": "stdout",
     "output_type": "stream",
     "text": [
      "Epoch 51/500:\n",
      "  Train Loss: 0.299015\n",
      "  Val Loss: 0.456817\n",
      "  Learning Rate: 0.00050000\n",
      "--------------------------------------------------\n",
      "Epoch 52, Batch 0, Loss: 0.287965\n",
      "Epoch 52, Batch 10, Loss: 0.845449\n"
     ]
    },
    {
     "name": "stderr",
     "output_type": "stream",
     "text": [
      " 10%|█         | 52/500 [00:51<07:13,  1.03it/s]"
     ]
    },
    {
     "name": "stdout",
     "output_type": "stream",
     "text": [
      "Epoch 52/500:\n",
      "  Train Loss: 0.289078\n",
      "  Val Loss: 0.501603\n",
      "  Learning Rate: 0.00050000\n",
      "--------------------------------------------------\n",
      "Epoch 53, Batch 0, Loss: 0.220421\n",
      "Epoch 53, Batch 10, Loss: 0.492992\n"
     ]
    },
    {
     "name": "stderr",
     "output_type": "stream",
     "text": [
      " 11%|█         | 53/500 [00:52<07:10,  1.04it/s]"
     ]
    },
    {
     "name": "stdout",
     "output_type": "stream",
     "text": [
      "Epoch 53/500:\n",
      "  Train Loss: 0.307584\n",
      "  Val Loss: 0.338328\n",
      "  Learning Rate: 0.00050000\n",
      "--------------------------------------------------\n",
      "New best model saved with validation loss: 0.338328\n",
      "Epoch 54, Batch 0, Loss: 0.179250\n",
      "Epoch 54, Batch 10, Loss: 0.238654\n"
     ]
    },
    {
     "name": "stderr",
     "output_type": "stream",
     "text": [
      " 11%|█         | 54/500 [00:53<07:06,  1.05it/s]"
     ]
    },
    {
     "name": "stdout",
     "output_type": "stream",
     "text": [
      "Epoch 54/500:\n",
      "  Train Loss: 0.377139\n",
      "  Val Loss: 0.344582\n",
      "  Learning Rate: 0.00050000\n",
      "--------------------------------------------------\n",
      "Epoch 55, Batch 0, Loss: 0.358207\n",
      "Epoch 55, Batch 10, Loss: 0.227138\n"
     ]
    },
    {
     "name": "stderr",
     "output_type": "stream",
     "text": [
      " 11%|█         | 55/500 [00:54<07:05,  1.05it/s]"
     ]
    },
    {
     "name": "stdout",
     "output_type": "stream",
     "text": [
      "Epoch 55/500:\n",
      "  Train Loss: 0.288634\n",
      "  Val Loss: 0.502385\n",
      "  Learning Rate: 0.00050000\n",
      "--------------------------------------------------\n",
      "Epoch 56, Batch 0, Loss: 0.408302\n",
      "Epoch 56, Batch 10, Loss: 0.400139\n"
     ]
    },
    {
     "name": "stderr",
     "output_type": "stream",
     "text": [
      " 11%|█         | 56/500 [00:55<07:05,  1.04it/s]"
     ]
    },
    {
     "name": "stdout",
     "output_type": "stream",
     "text": [
      "Epoch 56/500:\n",
      "  Train Loss: 0.277442\n",
      "  Val Loss: 0.319153\n",
      "  Learning Rate: 0.00050000\n",
      "--------------------------------------------------\n",
      "New best model saved with validation loss: 0.319153\n",
      "Epoch 57, Batch 0, Loss: 0.185035\n",
      "Epoch 57, Batch 10, Loss: 0.614214\n"
     ]
    },
    {
     "name": "stderr",
     "output_type": "stream",
     "text": [
      " 11%|█▏        | 57/500 [00:56<07:03,  1.05it/s]"
     ]
    },
    {
     "name": "stdout",
     "output_type": "stream",
     "text": [
      "Epoch 57/500:\n",
      "  Train Loss: 0.324853\n",
      "  Val Loss: 0.444309\n",
      "  Learning Rate: 0.00050000\n",
      "--------------------------------------------------\n",
      "Epoch 58, Batch 0, Loss: 0.469035\n",
      "Epoch 58, Batch 10, Loss: 0.487042\n"
     ]
    },
    {
     "name": "stderr",
     "output_type": "stream",
     "text": [
      " 12%|█▏        | 58/500 [00:57<07:02,  1.05it/s]"
     ]
    },
    {
     "name": "stdout",
     "output_type": "stream",
     "text": [
      "Epoch 58/500:\n",
      "  Train Loss: 0.331430\n",
      "  Val Loss: 0.728156\n",
      "  Learning Rate: 0.00050000\n",
      "--------------------------------------------------\n",
      "Epoch 59, Batch 0, Loss: 0.161038\n",
      "Epoch 59, Batch 10, Loss: 0.698514\n"
     ]
    },
    {
     "name": "stderr",
     "output_type": "stream",
     "text": [
      " 12%|█▏        | 59/500 [00:58<07:00,  1.05it/s]"
     ]
    },
    {
     "name": "stdout",
     "output_type": "stream",
     "text": [
      "Epoch 59/500:\n",
      "  Train Loss: 0.360067\n",
      "  Val Loss: 0.428135\n",
      "  Learning Rate: 0.00050000\n",
      "--------------------------------------------------\n",
      "Epoch 60, Batch 0, Loss: 0.584803\n",
      "Epoch 60, Batch 10, Loss: 0.323606\n"
     ]
    },
    {
     "name": "stderr",
     "output_type": "stream",
     "text": [
      " 12%|█▏        | 60/500 [00:59<07:01,  1.04it/s]"
     ]
    },
    {
     "name": "stdout",
     "output_type": "stream",
     "text": [
      "Epoch 60/500:\n",
      "  Train Loss: 0.321267\n",
      "  Val Loss: 0.455971\n",
      "  Learning Rate: 0.00050000\n",
      "--------------------------------------------------\n",
      "Epoch 61, Batch 0, Loss: 0.236652\n",
      "Epoch 61, Batch 10, Loss: 0.295874\n"
     ]
    },
    {
     "name": "stderr",
     "output_type": "stream",
     "text": [
      " 12%|█▏        | 61/500 [01:00<06:58,  1.05it/s]"
     ]
    },
    {
     "name": "stdout",
     "output_type": "stream",
     "text": [
      "Epoch 61/500:\n",
      "  Train Loss: 0.316859\n",
      "  Val Loss: 0.351031\n",
      "  Learning Rate: 0.00050000\n",
      "--------------------------------------------------\n",
      "Epoch 62, Batch 0, Loss: 0.325639\n",
      "Epoch 62, Batch 10, Loss: 0.224715\n"
     ]
    },
    {
     "name": "stderr",
     "output_type": "stream",
     "text": [
      " 12%|█▏        | 62/500 [01:01<06:54,  1.06it/s]"
     ]
    },
    {
     "name": "stdout",
     "output_type": "stream",
     "text": [
      "Epoch 62/500:\n",
      "  Train Loss: 0.344514\n",
      "  Val Loss: 0.676671\n",
      "  Learning Rate: 0.00050000\n",
      "--------------------------------------------------\n",
      "Epoch 63, Batch 0, Loss: 0.357619\n",
      "Epoch 63, Batch 10, Loss: 0.413264\n"
     ]
    },
    {
     "name": "stderr",
     "output_type": "stream",
     "text": [
      " 13%|█▎        | 63/500 [01:01<06:51,  1.06it/s]"
     ]
    },
    {
     "name": "stdout",
     "output_type": "stream",
     "text": [
      "Epoch 63/500:\n",
      "  Train Loss: 0.320163\n",
      "  Val Loss: 0.423739\n",
      "  Learning Rate: 0.00050000\n",
      "--------------------------------------------------\n",
      "Epoch 64, Batch 0, Loss: 0.158193\n",
      "Epoch 64, Batch 10, Loss: 0.359029\n"
     ]
    },
    {
     "name": "stderr",
     "output_type": "stream",
     "text": [
      " 13%|█▎        | 64/500 [01:02<06:48,  1.07it/s]"
     ]
    },
    {
     "name": "stdout",
     "output_type": "stream",
     "text": [
      "Epoch 64/500:\n",
      "  Train Loss: 0.293324\n",
      "  Val Loss: 0.397586\n",
      "  Learning Rate: 0.00050000\n",
      "--------------------------------------------------\n",
      "Epoch 65, Batch 0, Loss: 0.362388\n",
      "Epoch 65, Batch 10, Loss: 0.357519\n"
     ]
    },
    {
     "name": "stderr",
     "output_type": "stream",
     "text": [
      " 13%|█▎        | 65/500 [01:03<06:48,  1.06it/s]"
     ]
    },
    {
     "name": "stdout",
     "output_type": "stream",
     "text": [
      "Epoch 65/500:\n",
      "  Train Loss: 0.344203\n",
      "  Val Loss: 0.426537\n",
      "  Learning Rate: 0.00050000\n",
      "--------------------------------------------------\n",
      "Epoch 66, Batch 0, Loss: 0.159936\n",
      "Epoch 66, Batch 10, Loss: 0.252850\n"
     ]
    },
    {
     "name": "stderr",
     "output_type": "stream",
     "text": [
      " 13%|█▎        | 66/500 [01:04<06:47,  1.07it/s]"
     ]
    },
    {
     "name": "stdout",
     "output_type": "stream",
     "text": [
      "Epoch 66/500:\n",
      "  Train Loss: 0.289727\n",
      "  Val Loss: 0.508605\n",
      "  Learning Rate: 0.00050000\n",
      "--------------------------------------------------\n",
      "Epoch 67, Batch 0, Loss: 0.220738\n",
      "Epoch 67, Batch 10, Loss: 0.474660\n"
     ]
    },
    {
     "name": "stderr",
     "output_type": "stream",
     "text": [
      " 13%|█▎        | 67/500 [01:05<06:46,  1.07it/s]"
     ]
    },
    {
     "name": "stdout",
     "output_type": "stream",
     "text": [
      "Epoch 67/500:\n",
      "  Train Loss: 0.294165\n",
      "  Val Loss: 0.321193\n",
      "  Learning Rate: 0.00050000\n",
      "--------------------------------------------------\n",
      "Epoch 68, Batch 0, Loss: 0.289477\n",
      "Epoch 68, Batch 10, Loss: 0.224466\n"
     ]
    },
    {
     "name": "stderr",
     "output_type": "stream",
     "text": [
      " 14%|█▎        | 68/500 [01:06<06:46,  1.06it/s]"
     ]
    },
    {
     "name": "stdout",
     "output_type": "stream",
     "text": [
      "Epoch 68/500:\n",
      "  Train Loss: 0.302081\n",
      "  Val Loss: 0.305718\n",
      "  Learning Rate: 0.00025000\n",
      "--------------------------------------------------\n",
      "New best model saved with validation loss: 0.305718\n",
      "Epoch 69, Batch 0, Loss: 0.193858\n",
      "Epoch 69, Batch 10, Loss: 0.279190\n"
     ]
    },
    {
     "name": "stderr",
     "output_type": "stream",
     "text": [
      " 14%|█▍        | 69/500 [01:07<06:42,  1.07it/s]"
     ]
    },
    {
     "name": "stdout",
     "output_type": "stream",
     "text": [
      "Epoch 69/500:\n",
      "  Train Loss: 0.255237\n",
      "  Val Loss: 0.325863\n",
      "  Learning Rate: 0.00025000\n",
      "--------------------------------------------------\n",
      "Epoch 70, Batch 0, Loss: 0.140620\n",
      "Epoch 70, Batch 10, Loss: 0.371633\n"
     ]
    },
    {
     "name": "stderr",
     "output_type": "stream",
     "text": [
      " 14%|█▍        | 70/500 [01:08<06:44,  1.06it/s]"
     ]
    },
    {
     "name": "stdout",
     "output_type": "stream",
     "text": [
      "Epoch 70/500:\n",
      "  Train Loss: 0.266243\n",
      "  Val Loss: 0.321783\n",
      "  Learning Rate: 0.00025000\n",
      "--------------------------------------------------\n",
      "Epoch 71, Batch 0, Loss: 0.143959\n",
      "Epoch 71, Batch 10, Loss: 0.680867\n"
     ]
    },
    {
     "name": "stderr",
     "output_type": "stream",
     "text": [
      " 14%|█▍        | 71/500 [01:09<06:44,  1.06it/s]"
     ]
    },
    {
     "name": "stdout",
     "output_type": "stream",
     "text": [
      "Epoch 71/500:\n",
      "  Train Loss: 0.256228\n",
      "  Val Loss: 0.316988\n",
      "  Learning Rate: 0.00025000\n",
      "--------------------------------------------------\n",
      "Epoch 72, Batch 0, Loss: 0.109419\n",
      "Epoch 72, Batch 10, Loss: 0.142074\n"
     ]
    },
    {
     "name": "stderr",
     "output_type": "stream",
     "text": [
      " 14%|█▍        | 72/500 [01:10<06:44,  1.06it/s]"
     ]
    },
    {
     "name": "stdout",
     "output_type": "stream",
     "text": [
      "Epoch 72/500:\n",
      "  Train Loss: 0.246519\n",
      "  Val Loss: 0.347512\n",
      "  Learning Rate: 0.00025000\n",
      "--------------------------------------------------\n",
      "Epoch 73, Batch 0, Loss: 0.196170\n",
      "Epoch 73, Batch 10, Loss: 0.279223\n"
     ]
    },
    {
     "name": "stderr",
     "output_type": "stream",
     "text": [
      " 15%|█▍        | 73/500 [01:11<06:42,  1.06it/s]"
     ]
    },
    {
     "name": "stdout",
     "output_type": "stream",
     "text": [
      "Epoch 73/500:\n",
      "  Train Loss: 0.291481\n",
      "  Val Loss: 0.319499\n",
      "  Learning Rate: 0.00025000\n",
      "--------------------------------------------------\n",
      "Epoch 74, Batch 0, Loss: 0.153403\n",
      "Epoch 74, Batch 10, Loss: 0.550000\n"
     ]
    },
    {
     "name": "stderr",
     "output_type": "stream",
     "text": [
      " 15%|█▍        | 74/500 [01:12<06:44,  1.05it/s]"
     ]
    },
    {
     "name": "stdout",
     "output_type": "stream",
     "text": [
      "Epoch 74/500:\n",
      "  Train Loss: 0.267373\n",
      "  Val Loss: 0.336279\n",
      "  Learning Rate: 0.00025000\n",
      "--------------------------------------------------\n",
      "Epoch 75, Batch 0, Loss: 0.238200\n",
      "Epoch 75, Batch 10, Loss: 0.126178\n"
     ]
    },
    {
     "name": "stderr",
     "output_type": "stream",
     "text": [
      " 15%|█▌        | 75/500 [01:13<06:44,  1.05it/s]"
     ]
    },
    {
     "name": "stdout",
     "output_type": "stream",
     "text": [
      "Epoch 75/500:\n",
      "  Train Loss: 0.241778\n",
      "  Val Loss: 0.311990\n",
      "  Learning Rate: 0.00025000\n",
      "--------------------------------------------------\n",
      "Epoch 76, Batch 0, Loss: 0.273547\n",
      "Epoch 76, Batch 10, Loss: 0.159769\n"
     ]
    },
    {
     "name": "stderr",
     "output_type": "stream",
     "text": [
      " 15%|█▌        | 76/500 [01:14<06:48,  1.04it/s]"
     ]
    },
    {
     "name": "stdout",
     "output_type": "stream",
     "text": [
      "Epoch 76/500:\n",
      "  Train Loss: 0.262585\n",
      "  Val Loss: 0.350114\n",
      "  Learning Rate: 0.00025000\n",
      "--------------------------------------------------\n",
      "Epoch 77, Batch 0, Loss: 0.164568\n",
      "Epoch 77, Batch 10, Loss: 0.162764\n"
     ]
    },
    {
     "name": "stderr",
     "output_type": "stream",
     "text": [
      " 15%|█▌        | 77/500 [01:15<06:46,  1.04it/s]"
     ]
    },
    {
     "name": "stdout",
     "output_type": "stream",
     "text": [
      "Epoch 77/500:\n",
      "  Train Loss: 0.263831\n",
      "  Val Loss: 0.321924\n",
      "  Learning Rate: 0.00025000\n",
      "--------------------------------------------------\n",
      "Epoch 78, Batch 0, Loss: 0.109780\n",
      "Epoch 78, Batch 10, Loss: 0.299132\n"
     ]
    },
    {
     "name": "stderr",
     "output_type": "stream",
     "text": [
      " 16%|█▌        | 78/500 [01:16<06:46,  1.04it/s]"
     ]
    },
    {
     "name": "stdout",
     "output_type": "stream",
     "text": [
      "Epoch 78/500:\n",
      "  Train Loss: 0.253193\n",
      "  Val Loss: 0.411394\n",
      "  Learning Rate: 0.00025000\n",
      "--------------------------------------------------\n",
      "Epoch 79, Batch 0, Loss: 0.222334\n",
      "Epoch 79, Batch 10, Loss: 0.159506\n"
     ]
    },
    {
     "name": "stderr",
     "output_type": "stream",
     "text": [
      " 16%|█▌        | 79/500 [01:17<06:43,  1.04it/s]"
     ]
    },
    {
     "name": "stdout",
     "output_type": "stream",
     "text": [
      "Epoch 79/500:\n",
      "  Train Loss: 0.319085\n",
      "  Val Loss: 0.322397\n",
      "  Learning Rate: 0.00025000\n",
      "--------------------------------------------------\n",
      "Epoch 80, Batch 0, Loss: 0.293573\n",
      "Epoch 80, Batch 10, Loss: 0.169491\n"
     ]
    },
    {
     "name": "stderr",
     "output_type": "stream",
     "text": [
      " 16%|█▌        | 80/500 [01:18<06:42,  1.04it/s]"
     ]
    },
    {
     "name": "stdout",
     "output_type": "stream",
     "text": [
      "Epoch 80/500:\n",
      "  Train Loss: 0.231775\n",
      "  Val Loss: 0.310235\n",
      "  Learning Rate: 0.00012500\n",
      "--------------------------------------------------\n",
      "Epoch 81, Batch 0, Loss: 0.238336\n",
      "Epoch 81, Batch 10, Loss: 0.254396\n"
     ]
    },
    {
     "name": "stderr",
     "output_type": "stream",
     "text": [
      " 16%|█▌        | 81/500 [01:19<06:41,  1.04it/s]"
     ]
    },
    {
     "name": "stdout",
     "output_type": "stream",
     "text": [
      "Epoch 81/500:\n",
      "  Train Loss: 0.244192\n",
      "  Val Loss: 0.307070\n",
      "  Learning Rate: 0.00012500\n",
      "--------------------------------------------------\n",
      "Epoch 82, Batch 0, Loss: 0.287262\n",
      "Epoch 82, Batch 10, Loss: 0.142061\n"
     ]
    },
    {
     "name": "stderr",
     "output_type": "stream",
     "text": [
      " 16%|█▋        | 82/500 [01:19<06:38,  1.05it/s]"
     ]
    },
    {
     "name": "stdout",
     "output_type": "stream",
     "text": [
      "Epoch 82/500:\n",
      "  Train Loss: 0.230860\n",
      "  Val Loss: 0.319359\n",
      "  Learning Rate: 0.00012500\n",
      "--------------------------------------------------\n",
      "Epoch 83, Batch 0, Loss: 0.203619\n",
      "Epoch 83, Batch 10, Loss: 0.213303\n"
     ]
    },
    {
     "name": "stderr",
     "output_type": "stream",
     "text": [
      " 17%|█▋        | 83/500 [01:20<06:39,  1.04it/s]"
     ]
    },
    {
     "name": "stdout",
     "output_type": "stream",
     "text": [
      "Epoch 83/500:\n",
      "  Train Loss: 0.247551\n",
      "  Val Loss: 0.307071\n",
      "  Learning Rate: 0.00012500\n",
      "--------------------------------------------------\n",
      "Epoch 84, Batch 0, Loss: 0.196174\n",
      "Epoch 84, Batch 10, Loss: 0.191029\n"
     ]
    },
    {
     "name": "stderr",
     "output_type": "stream",
     "text": [
      " 17%|█▋        | 84/500 [01:21<06:39,  1.04it/s]"
     ]
    },
    {
     "name": "stdout",
     "output_type": "stream",
     "text": [
      "Epoch 84/500:\n",
      "  Train Loss: 0.241745\n",
      "  Val Loss: 0.357105\n",
      "  Learning Rate: 0.00012500\n",
      "--------------------------------------------------\n",
      "Epoch 85, Batch 0, Loss: 0.678127\n",
      "Epoch 85, Batch 10, Loss: 0.226007\n"
     ]
    },
    {
     "name": "stderr",
     "output_type": "stream",
     "text": [
      " 17%|█▋        | 85/500 [01:22<06:37,  1.04it/s]"
     ]
    },
    {
     "name": "stdout",
     "output_type": "stream",
     "text": [
      "Epoch 85/500:\n",
      "  Train Loss: 0.269837\n",
      "  Val Loss: 0.300900\n",
      "  Learning Rate: 0.00012500\n",
      "--------------------------------------------------\n",
      "New best model saved with validation loss: 0.300900\n",
      "Epoch 86, Batch 0, Loss: 0.238754\n",
      "Epoch 86, Batch 10, Loss: 0.240132\n"
     ]
    },
    {
     "name": "stderr",
     "output_type": "stream",
     "text": [
      " 17%|█▋        | 86/500 [01:23<06:34,  1.05it/s]"
     ]
    },
    {
     "name": "stdout",
     "output_type": "stream",
     "text": [
      "Epoch 86/500:\n",
      "  Train Loss: 0.234328\n",
      "  Val Loss: 0.315479\n",
      "  Learning Rate: 0.00012500\n",
      "--------------------------------------------------\n",
      "Epoch 87, Batch 0, Loss: 0.091573\n",
      "Epoch 87, Batch 10, Loss: 0.392240\n"
     ]
    },
    {
     "name": "stderr",
     "output_type": "stream",
     "text": [
      " 17%|█▋        | 87/500 [01:24<06:39,  1.03it/s]"
     ]
    },
    {
     "name": "stdout",
     "output_type": "stream",
     "text": [
      "Epoch 87/500:\n",
      "  Train Loss: 0.241204\n",
      "  Val Loss: 0.311675\n",
      "  Learning Rate: 0.00012500\n",
      "--------------------------------------------------\n",
      "Epoch 88, Batch 0, Loss: 0.373944\n",
      "Epoch 88, Batch 10, Loss: 0.201020\n"
     ]
    },
    {
     "name": "stderr",
     "output_type": "stream",
     "text": [
      " 18%|█▊        | 88/500 [01:25<06:39,  1.03it/s]"
     ]
    },
    {
     "name": "stdout",
     "output_type": "stream",
     "text": [
      "Epoch 88/500:\n",
      "  Train Loss: 0.244252\n",
      "  Val Loss: 0.310132\n",
      "  Learning Rate: 0.00012500\n",
      "--------------------------------------------------\n",
      "Epoch 89, Batch 0, Loss: 0.192653\n",
      "Epoch 89, Batch 10, Loss: 0.206593\n"
     ]
    },
    {
     "name": "stderr",
     "output_type": "stream",
     "text": [
      " 18%|█▊        | 89/500 [01:26<06:38,  1.03it/s]"
     ]
    },
    {
     "name": "stdout",
     "output_type": "stream",
     "text": [
      "Epoch 89/500:\n",
      "  Train Loss: 0.232221\n",
      "  Val Loss: 0.305306\n",
      "  Learning Rate: 0.00012500\n",
      "--------------------------------------------------\n",
      "Epoch 90, Batch 0, Loss: 0.157956\n",
      "Epoch 90, Batch 10, Loss: 0.219452\n"
     ]
    },
    {
     "name": "stderr",
     "output_type": "stream",
     "text": [
      " 18%|█▊        | 90/500 [01:27<06:42,  1.02it/s]"
     ]
    },
    {
     "name": "stdout",
     "output_type": "stream",
     "text": [
      "Epoch 90/500:\n",
      "  Train Loss: 0.235122\n",
      "  Val Loss: 0.312298\n",
      "  Learning Rate: 0.00012500\n",
      "--------------------------------------------------\n",
      "Epoch 91, Batch 0, Loss: 0.104909\n",
      "Epoch 91, Batch 10, Loss: 0.217200\n"
     ]
    },
    {
     "name": "stderr",
     "output_type": "stream",
     "text": [
      " 18%|█▊        | 91/500 [01:28<06:19,  1.08it/s]"
     ]
    },
    {
     "name": "stdout",
     "output_type": "stream",
     "text": [
      "Epoch 91/500:\n",
      "  Train Loss: 0.227464\n",
      "  Val Loss: 0.330396\n",
      "  Learning Rate: 0.00012500\n",
      "--------------------------------------------------\n",
      "Epoch 92, Batch 0, Loss: 0.223478\n",
      "Epoch 92, Batch 10, Loss: 0.727659\n"
     ]
    },
    {
     "name": "stderr",
     "output_type": "stream",
     "text": [
      " 18%|█▊        | 92/500 [01:29<05:45,  1.18it/s]"
     ]
    },
    {
     "name": "stdout",
     "output_type": "stream",
     "text": [
      "Epoch 92/500:\n",
      "  Train Loss: 0.247718\n",
      "  Val Loss: 0.312332\n",
      "  Learning Rate: 0.00012500\n",
      "--------------------------------------------------\n",
      "Epoch 93, Batch 0, Loss: 0.224596\n",
      "Epoch 93, Batch 10, Loss: 0.131140\n"
     ]
    },
    {
     "name": "stderr",
     "output_type": "stream",
     "text": [
      " 19%|█▊        | 93/500 [01:29<05:21,  1.27it/s]"
     ]
    },
    {
     "name": "stdout",
     "output_type": "stream",
     "text": [
      "Epoch 93/500:\n",
      "  Train Loss: 0.233002\n",
      "  Val Loss: 0.310338\n",
      "  Learning Rate: 0.00012500\n",
      "--------------------------------------------------\n",
      "Epoch 94, Batch 0, Loss: 0.258216\n",
      "Epoch 94, Batch 10, Loss: 0.147163\n"
     ]
    },
    {
     "name": "stderr",
     "output_type": "stream",
     "text": [
      " 19%|█▉        | 94/500 [01:30<05:12,  1.30it/s]"
     ]
    },
    {
     "name": "stdout",
     "output_type": "stream",
     "text": [
      "Epoch 94/500:\n",
      "  Train Loss: 0.225598\n",
      "  Val Loss: 0.319170\n",
      "  Learning Rate: 0.00012500\n",
      "--------------------------------------------------\n",
      "Epoch 95, Batch 0, Loss: 0.271408\n",
      "Epoch 95, Batch 10, Loss: 0.133164\n"
     ]
    },
    {
     "name": "stderr",
     "output_type": "stream",
     "text": [
      " 19%|█▉        | 95/500 [01:31<05:09,  1.31it/s]"
     ]
    },
    {
     "name": "stdout",
     "output_type": "stream",
     "text": [
      "Epoch 95/500:\n",
      "  Train Loss: 0.234216\n",
      "  Val Loss: 0.307732\n",
      "  Learning Rate: 0.00012500\n",
      "--------------------------------------------------\n",
      "Epoch 96, Batch 0, Loss: 0.182377\n",
      "Epoch 96, Batch 10, Loss: 0.195902\n"
     ]
    },
    {
     "name": "stderr",
     "output_type": "stream",
     "text": [
      " 19%|█▉        | 96/500 [01:32<06:30,  1.03it/s]"
     ]
    },
    {
     "name": "stdout",
     "output_type": "stream",
     "text": [
      "Epoch 96/500:\n",
      "  Train Loss: 0.242360\n",
      "  Val Loss: 0.301841\n",
      "  Learning Rate: 0.00012500\n",
      "--------------------------------------------------\n",
      "Epoch 97, Batch 0, Loss: 0.201560\n",
      "Epoch 97, Batch 10, Loss: 0.151764\n"
     ]
    },
    {
     "name": "stderr",
     "output_type": "stream",
     "text": [
      " 19%|█▉        | 97/500 [01:35<09:46,  1.46s/it]"
     ]
    },
    {
     "name": "stdout",
     "output_type": "stream",
     "text": [
      "Epoch 97/500:\n",
      "  Train Loss: 0.221540\n",
      "  Val Loss: 0.306108\n",
      "  Learning Rate: 0.00006250\n",
      "--------------------------------------------------\n",
      "Epoch 98, Batch 0, Loss: 0.294735\n",
      "Epoch 98, Batch 10, Loss: 0.231599\n"
     ]
    },
    {
     "name": "stderr",
     "output_type": "stream",
     "text": [
      " 20%|█▉        | 98/500 [01:38<12:22,  1.85s/it]"
     ]
    },
    {
     "name": "stdout",
     "output_type": "stream",
     "text": [
      "Epoch 98/500:\n",
      "  Train Loss: 0.254546\n",
      "  Val Loss: 0.302681\n",
      "  Learning Rate: 0.00006250\n",
      "--------------------------------------------------\n",
      "Epoch 99, Batch 0, Loss: 0.166459\n",
      "Epoch 99, Batch 10, Loss: 0.142785\n"
     ]
    },
    {
     "name": "stderr",
     "output_type": "stream",
     "text": [
      " 20%|█▉        | 99/500 [01:40<14:09,  2.12s/it]"
     ]
    },
    {
     "name": "stdout",
     "output_type": "stream",
     "text": [
      "Epoch 99/500:\n",
      "  Train Loss: 0.223392\n",
      "  Val Loss: 0.299876\n",
      "  Learning Rate: 0.00006250\n",
      "--------------------------------------------------\n",
      "New best model saved with validation loss: 0.299876\n",
      "Epoch 100, Batch 0, Loss: 0.330649\n",
      "Epoch 100, Batch 10, Loss: 0.832129\n"
     ]
    },
    {
     "name": "stderr",
     "output_type": "stream",
     "text": [
      " 20%|██        | 100/500 [01:43<15:20,  2.30s/it]"
     ]
    },
    {
     "name": "stdout",
     "output_type": "stream",
     "text": [
      "Epoch 100/500:\n",
      "  Train Loss: 0.247950\n",
      "  Val Loss: 0.304187\n",
      "  Learning Rate: 0.00006250\n",
      "--------------------------------------------------\n",
      "Epoch 101, Batch 0, Loss: 0.269068\n",
      "Epoch 101, Batch 10, Loss: 0.158656\n"
     ]
    },
    {
     "name": "stderr",
     "output_type": "stream",
     "text": [
      " 20%|██        | 101/500 [01:46<16:14,  2.44s/it]"
     ]
    },
    {
     "name": "stdout",
     "output_type": "stream",
     "text": [
      "Epoch 101/500:\n",
      "  Train Loss: 0.224400\n",
      "  Val Loss: 0.301564\n",
      "  Learning Rate: 0.00006250\n",
      "--------------------------------------------------\n",
      "Epoch 102, Batch 0, Loss: 0.137293\n",
      "Epoch 102, Batch 10, Loss: 0.194569\n"
     ]
    },
    {
     "name": "stderr",
     "output_type": "stream",
     "text": [
      " 20%|██        | 102/500 [01:49<16:48,  2.54s/it]"
     ]
    },
    {
     "name": "stdout",
     "output_type": "stream",
     "text": [
      "Epoch 102/500:\n",
      "  Train Loss: 0.224212\n",
      "  Val Loss: 0.319354\n",
      "  Learning Rate: 0.00006250\n",
      "--------------------------------------------------\n",
      "Epoch 103, Batch 0, Loss: 0.197514\n",
      "Epoch 103, Batch 10, Loss: 0.756475\n"
     ]
    },
    {
     "name": "stderr",
     "output_type": "stream",
     "text": [
      " 21%|██        | 103/500 [01:51<16:26,  2.49s/it]"
     ]
    },
    {
     "name": "stdout",
     "output_type": "stream",
     "text": [
      "Epoch 103/500:\n",
      "  Train Loss: 0.238635\n",
      "  Val Loss: 0.299552\n",
      "  Learning Rate: 0.00006250\n",
      "--------------------------------------------------\n",
      "New best model saved with validation loss: 0.299552\n",
      "Epoch 104, Batch 0, Loss: 0.159779\n",
      "Epoch 104, Batch 10, Loss: 0.258028\n"
     ]
    },
    {
     "name": "stderr",
     "output_type": "stream",
     "text": [
      " 21%|██        | 104/500 [01:53<15:49,  2.40s/it]"
     ]
    },
    {
     "name": "stdout",
     "output_type": "stream",
     "text": [
      "Epoch 104/500:\n",
      "  Train Loss: 0.222599\n",
      "  Val Loss: 0.305239\n",
      "  Learning Rate: 0.00006250\n",
      "--------------------------------------------------\n",
      "Epoch 105, Batch 0, Loss: 0.521605\n",
      "Epoch 105, Batch 10, Loss: 0.311983\n"
     ]
    },
    {
     "name": "stderr",
     "output_type": "stream",
     "text": [
      " 21%|██        | 105/500 [01:55<15:20,  2.33s/it]"
     ]
    },
    {
     "name": "stdout",
     "output_type": "stream",
     "text": [
      "Epoch 105/500:\n",
      "  Train Loss: 0.228081\n",
      "  Val Loss: 0.312671\n",
      "  Learning Rate: 0.00006250\n",
      "--------------------------------------------------\n",
      "Epoch 106, Batch 0, Loss: 0.217961\n",
      "Epoch 106, Batch 10, Loss: 0.138569\n"
     ]
    },
    {
     "name": "stderr",
     "output_type": "stream",
     "text": [
      " 21%|██        | 106/500 [01:58<15:25,  2.35s/it]"
     ]
    },
    {
     "name": "stdout",
     "output_type": "stream",
     "text": [
      "Epoch 106/500:\n",
      "  Train Loss: 0.209691\n",
      "  Val Loss: 0.309908\n",
      "  Learning Rate: 0.00006250\n",
      "--------------------------------------------------\n",
      "Epoch 107, Batch 0, Loss: 0.370230\n",
      "Epoch 107, Batch 10, Loss: 0.140153\n"
     ]
    },
    {
     "name": "stderr",
     "output_type": "stream",
     "text": [
      " 21%|██▏       | 107/500 [02:00<15:37,  2.39s/it]"
     ]
    },
    {
     "name": "stdout",
     "output_type": "stream",
     "text": [
      "Epoch 107/500:\n",
      "  Train Loss: 0.215596\n",
      "  Val Loss: 0.303745\n",
      "  Learning Rate: 0.00006250\n",
      "--------------------------------------------------\n",
      "Epoch 108, Batch 0, Loss: 0.211749\n",
      "Epoch 108, Batch 10, Loss: 0.105153\n"
     ]
    },
    {
     "name": "stderr",
     "output_type": "stream",
     "text": [
      " 22%|██▏       | 108/500 [02:03<16:23,  2.51s/it]"
     ]
    },
    {
     "name": "stdout",
     "output_type": "stream",
     "text": [
      "Epoch 108/500:\n",
      "  Train Loss: 0.209881\n",
      "  Val Loss: 0.308196\n",
      "  Learning Rate: 0.00006250\n",
      "--------------------------------------------------\n",
      "Epoch 109, Batch 0, Loss: 0.115709\n",
      "Epoch 109, Batch 10, Loss: 0.163672\n"
     ]
    },
    {
     "name": "stderr",
     "output_type": "stream",
     "text": [
      " 22%|██▏       | 109/500 [02:06<16:56,  2.60s/it]"
     ]
    },
    {
     "name": "stdout",
     "output_type": "stream",
     "text": [
      "Epoch 109/500:\n",
      "  Train Loss: 0.258332\n",
      "  Val Loss: 0.308209\n",
      "  Learning Rate: 0.00006250\n",
      "--------------------------------------------------\n",
      "Epoch 110, Batch 0, Loss: 0.247093\n",
      "Epoch 110, Batch 10, Loss: 0.237585\n"
     ]
    },
    {
     "name": "stderr",
     "output_type": "stream",
     "text": [
      " 22%|██▏       | 110/500 [02:08<16:48,  2.59s/it]"
     ]
    },
    {
     "name": "stdout",
     "output_type": "stream",
     "text": [
      "Epoch 110/500:\n",
      "  Train Loss: 0.208329\n",
      "  Val Loss: 0.321302\n",
      "  Learning Rate: 0.00006250\n",
      "--------------------------------------------------\n",
      "Epoch 111, Batch 0, Loss: 0.440294\n",
      "Epoch 111, Batch 10, Loss: 0.290332\n"
     ]
    },
    {
     "name": "stderr",
     "output_type": "stream",
     "text": [
      " 22%|██▏       | 111/500 [02:11<16:31,  2.55s/it]"
     ]
    },
    {
     "name": "stdout",
     "output_type": "stream",
     "text": [
      "Epoch 111/500:\n",
      "  Train Loss: 0.212101\n",
      "  Val Loss: 0.303895\n",
      "  Learning Rate: 0.00006250\n",
      "--------------------------------------------------\n",
      "Epoch 112, Batch 0, Loss: 0.134384\n",
      "Epoch 112, Batch 10, Loss: 0.389441\n"
     ]
    },
    {
     "name": "stderr",
     "output_type": "stream",
     "text": [
      " 22%|██▏       | 112/500 [02:13<16:35,  2.57s/it]"
     ]
    },
    {
     "name": "stdout",
     "output_type": "stream",
     "text": [
      "Epoch 112/500:\n",
      "  Train Loss: 0.197823\n",
      "  Val Loss: 0.300451\n",
      "  Learning Rate: 0.00006250\n",
      "--------------------------------------------------\n",
      "Epoch 113, Batch 0, Loss: 0.207934\n",
      "Epoch 113, Batch 10, Loss: 0.211300\n"
     ]
    },
    {
     "name": "stderr",
     "output_type": "stream",
     "text": [
      " 23%|██▎       | 113/500 [02:16<16:43,  2.59s/it]"
     ]
    },
    {
     "name": "stdout",
     "output_type": "stream",
     "text": [
      "Epoch 113/500:\n",
      "  Train Loss: 0.212693\n",
      "  Val Loss: 0.310441\n",
      "  Learning Rate: 0.00006250\n",
      "--------------------------------------------------\n",
      "Epoch 114, Batch 0, Loss: 0.197485\n",
      "Epoch 114, Batch 10, Loss: 0.143235\n"
     ]
    },
    {
     "name": "stderr",
     "output_type": "stream",
     "text": [
      " 23%|██▎       | 114/500 [02:18<16:00,  2.49s/it]"
     ]
    },
    {
     "name": "stdout",
     "output_type": "stream",
     "text": [
      "Epoch 114/500:\n",
      "  Train Loss: 0.227787\n",
      "  Val Loss: 0.309111\n",
      "  Learning Rate: 0.00006250\n",
      "--------------------------------------------------\n",
      "Epoch 115, Batch 0, Loss: 0.711166\n",
      "Epoch 115, Batch 10, Loss: 0.201574\n"
     ]
    },
    {
     "name": "stderr",
     "output_type": "stream",
     "text": [
      " 23%|██▎       | 115/500 [02:21<15:16,  2.38s/it]"
     ]
    },
    {
     "name": "stdout",
     "output_type": "stream",
     "text": [
      "Epoch 115/500:\n",
      "  Train Loss: 0.210437\n",
      "  Val Loss: 0.308938\n",
      "  Learning Rate: 0.00003125\n",
      "--------------------------------------------------\n",
      "Epoch 116, Batch 0, Loss: 0.115125\n",
      "Epoch 116, Batch 10, Loss: 0.221279\n"
     ]
    },
    {
     "name": "stderr",
     "output_type": "stream",
     "text": [
      " 23%|██▎       | 116/500 [02:23<14:50,  2.32s/it]"
     ]
    },
    {
     "name": "stdout",
     "output_type": "stream",
     "text": [
      "Epoch 116/500:\n",
      "  Train Loss: 0.219884\n",
      "  Val Loss: 0.308164\n",
      "  Learning Rate: 0.00003125\n",
      "--------------------------------------------------\n",
      "Epoch 117, Batch 0, Loss: 0.148735\n",
      "Epoch 117, Batch 10, Loss: 0.247013\n"
     ]
    },
    {
     "name": "stderr",
     "output_type": "stream",
     "text": [
      " 23%|██▎       | 117/500 [02:25<14:49,  2.32s/it]"
     ]
    },
    {
     "name": "stdout",
     "output_type": "stream",
     "text": [
      "Epoch 117/500:\n",
      "  Train Loss: 0.199345\n",
      "  Val Loss: 0.306653\n",
      "  Learning Rate: 0.00003125\n",
      "--------------------------------------------------\n",
      "Epoch 118, Batch 0, Loss: 0.412083\n",
      "Epoch 118, Batch 10, Loss: 0.194651\n"
     ]
    },
    {
     "name": "stderr",
     "output_type": "stream",
     "text": [
      " 24%|██▎       | 118/500 [02:28<15:32,  2.44s/it]"
     ]
    },
    {
     "name": "stdout",
     "output_type": "stream",
     "text": [
      "Epoch 118/500:\n",
      "  Train Loss: 0.230946\n",
      "  Val Loss: 0.307704\n",
      "  Learning Rate: 0.00003125\n",
      "--------------------------------------------------\n",
      "Epoch 119, Batch 0, Loss: 0.206748\n",
      "Epoch 119, Batch 10, Loss: 0.248622\n"
     ]
    },
    {
     "name": "stderr",
     "output_type": "stream",
     "text": [
      " 24%|██▍       | 119/500 [02:30<14:49,  2.34s/it]"
     ]
    },
    {
     "name": "stdout",
     "output_type": "stream",
     "text": [
      "Epoch 119/500:\n",
      "  Train Loss: 0.222596\n",
      "  Val Loss: 0.308558\n",
      "  Learning Rate: 0.00003125\n",
      "--------------------------------------------------\n",
      "Epoch 120, Batch 0, Loss: 0.304788\n",
      "Epoch 120, Batch 10, Loss: 0.149663\n"
     ]
    },
    {
     "name": "stderr",
     "output_type": "stream",
     "text": [
      " 24%|██▍       | 120/500 [02:32<14:22,  2.27s/it]"
     ]
    },
    {
     "name": "stdout",
     "output_type": "stream",
     "text": [
      "Epoch 120/500:\n",
      "  Train Loss: 0.215939\n",
      "  Val Loss: 0.323325\n",
      "  Learning Rate: 0.00003125\n",
      "--------------------------------------------------\n",
      "Epoch 121, Batch 0, Loss: 0.201442\n",
      "Epoch 121, Batch 10, Loss: 0.244997\n"
     ]
    },
    {
     "name": "stderr",
     "output_type": "stream",
     "text": [
      " 24%|██▍       | 121/500 [02:34<14:22,  2.28s/it]"
     ]
    },
    {
     "name": "stdout",
     "output_type": "stream",
     "text": [
      "Epoch 121/500:\n",
      "  Train Loss: 0.223044\n",
      "  Val Loss: 0.312889\n",
      "  Learning Rate: 0.00003125\n",
      "--------------------------------------------------\n",
      "Epoch 122, Batch 0, Loss: 0.098992\n",
      "Epoch 122, Batch 10, Loss: 0.171154\n"
     ]
    },
    {
     "name": "stderr",
     "output_type": "stream",
     "text": [
      " 24%|██▍       | 122/500 [02:36<14:05,  2.24s/it]"
     ]
    },
    {
     "name": "stdout",
     "output_type": "stream",
     "text": [
      "Epoch 122/500:\n",
      "  Train Loss: 0.205176\n",
      "  Val Loss: 0.304550\n",
      "  Learning Rate: 0.00003125\n",
      "--------------------------------------------------\n",
      "Epoch 123, Batch 0, Loss: 0.342687\n",
      "Epoch 123, Batch 10, Loss: 0.280243\n"
     ]
    },
    {
     "name": "stderr",
     "output_type": "stream",
     "text": [
      " 24%|██▍       | 122/500 [02:39<08:12,  1.30s/it]"
     ]
    },
    {
     "name": "stdout",
     "output_type": "stream",
     "text": [
      "Epoch 123/500:\n",
      "  Train Loss: 0.235316\n",
      "  Val Loss: 0.328680\n",
      "  Learning Rate: 0.00003125\n",
      "--------------------------------------------------\n",
      "Early stopping triggered after 123 epochs\n"
     ]
    },
    {
     "name": "stderr",
     "output_type": "stream",
     "text": [
      "\n"
     ]
    }
   ],
   "source": [
    "# Initialize model\n",
    "model = ProteinCNN(\n",
    "    num_amino_acids=20,  # Standard amino acids\n",
    "    num_filters=32,\n",
    "    dropout_rate=0.5,\n",
    "    embedding_dim=32\n",
    ").to(device)\n",
    "\n",
    "# Train model\n",
    "print(\"Starting training...\")\n",
    "trained_model, train_losses, val_losses, learning_rates = train_cnn_model(\n",
    "    model=model,\n",
    "    train_loader=train_loader,\n",
    "    val_loader=val_loader,\n",
    "    num_epochs=500,\n",
    "    learning_rate=0.001\n",
    ")"
   ]
  },
  {
   "cell_type": "code",
   "execution_count": 111,
   "id": "934d781e",
   "metadata": {},
   "outputs": [
    {
     "name": "stdout",
     "output_type": "stream",
     "text": [
      "\n",
      "Evaluating model on test set...\n",
      "\n",
      "Model Evaluation Results:\n",
      "Normalized metrics:\n",
      "  R² Score: 0.5549\n",
      "  RMSE: 0.6672\n",
      "  MAE: 0.4836\n",
      "  Median AE: 0.3438\n",
      "\n",
      "Original scale metrics:\n",
      "  R² Score: 0.5549\n",
      "  RMSE: 44.5810\n",
      "  MAE: 32.3163\n",
      "  Median AE: 22.9758\n"
     ]
    },
    {
     "data": {
      "image/png": "[encoded data removed]",
      "text/plain": [
       "<Figure size 1500x1000 with 4 Axes>"
      ]
     },
     "metadata": {},
     "output_type": "display_data"
    }
   ],
   "source": [
    "# Evaluate model on test set\n",
    "print(\"\\nEvaluating model on test set...\")\n",
    "evaluation_results = evaluate_model(\n",
    "    model=trained_model,\n",
    "    data_loader=test_loader,\n",
    "    dataset=train_dataset,  # For normalization parameters\n",
    "    fpbase_dataset=dataset,\n",
    "    target_name='ex_max'\n",
    ")\n",
    "\n",
    "# Plot training history\n",
    "plot_training_history(train_losses, val_losses, learning_rates)\n"
   ]
  }
 ],
 "metadata": {
  "kernelspec": {
   "display_name": "venv",
   "language": "python",
   "name": "python3"
  },
  "language_info": {
   "codemirror_mode": {
    "name": "ipython",
    "version": 3
   },
   "file_extension": ".py",
   "mimetype": "text/x-python",
   "name": "python",
   "nbconvert_exporter": "python",
   "pygments_lexer": "ipython3",
   "version": "3.10.0"
  }
 },
 "nbformat": 4,
 "nbformat_minor": 5
}

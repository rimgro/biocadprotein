{
 "cells": [
  {
   "cell_type": "code",
   "execution_count": 1,
   "id": "ad4d4111",
   "metadata": {},
   "outputs": [],
   "source": [
    "import torch\n",
    "import torch.nn as nn\n",
    "import torch.nn.functional as F\n",
    "import numpy as np\n",
    "from torch.utils.data import Dataset, DataLoader\n"
   ]
  },
  {
   "cell_type": "code",
   "execution_count": 2,
   "id": "fda49740",
   "metadata": {},
   "outputs": [
    {
     "data": {
      "text/plain": [
       "'cuda'"
      ]
     },
     "execution_count": 2,
     "metadata": {},
     "output_type": "execute_result"
    }
   ],
   "source": [
    "device = \"cuda\" if torch.cuda.is_available() else \"cpu\"\n",
    "device"
   ]
  },
  {
   "cell_type": "code",
   "execution_count": 3,
   "id": "fbd10a85",
   "metadata": {},
   "outputs": [],
   "source": [
    "import torch\n",
    "import torch.nn as nn\n",
    "import torch.nn.functional as F\n",
    "import numpy as np\n",
    "from torch.utils.data import Dataset, DataLoader\n",
    "from sklearn.preprocessing import StandardScaler\n",
    "import pandas as pd\n",
    "\n",
    "# Define the amino acid alphabet\n",
    "AMINO_ACIDS = 'ACDEFGHIKLMNPQRSTVWY'\n",
    "AA_TO_IDX = {aa: idx for idx, aa in enumerate(AMINO_ACIDS)}\n",
    "IDX_TO_AA = {idx: aa for idx, aa in enumerate(AMINO_ACIDS)}\n",
    "\n",
    "class ProteinDataset(Dataset):\n",
    "    \"\"\"\n",
    "    Custom dataset class for protein sequences and their properties.\n",
    "    \n",
    "    This class handles the conversion from amino acid sequences to numerical\n",
    "    representations and manages the relationship between sequences and their\n",
    "    target properties.\n",
    "    \"\"\"\n",
    "    \n",
    "    def __init__(self, sequences, targets, max_length=500):\n",
    "        # If sequences/targets are pandas Series – drop old index and convert\n",
    "        if isinstance(sequences, pd.Series):\n",
    "            sequences = sequences.reset_index(drop=True).tolist()\n",
    "        if isinstance(targets, pd.Series):\n",
    "            targets = targets.reset_index(drop=True).tolist()\n",
    "\n",
    "        self.sequences = sequences          # now a simple Python list\n",
    "        self.targets   = targets            # plain list as well\n",
    "        self.max_length = max_length\n",
    "\n",
    "        # Normalise targets\n",
    "        self.target_scaler = StandardScaler()\n",
    "        self.normalized_targets = self.target_scaler.fit_transform(\n",
    "            np.array(self.targets).reshape(-1, 1)\n",
    "        ).flatten()\n",
    "\n",
    "    def __len__(self):\n",
    "        return len(self.sequences)\n",
    "\n",
    "    def __getitem__(self, idx):\n",
    "        sequence = self.sequences[idx]\n",
    "        target   = self.normalized_targets[idx]\n",
    "\n",
    "        sequence_tensor = self.sequence_to_tensor(sequence)\n",
    "        target_tensor   = torch.tensor(target, dtype=torch.float32)\n",
    "        return sequence_tensor, target_tensor\n",
    "    \n",
    "    def sequence_to_tensor(self, sequence):\n",
    "        \"\"\"\n",
    "        Convert a protein sequence string to a one-hot encoded tensor.\n",
    "        \n",
    "        This function handles padding and truncation to ensure all sequences\n",
    "        have the same length.\n",
    "        \"\"\"\n",
    "        # Truncate if too long\n",
    "        if len(sequence) > self.max_length:\n",
    "            sequence = sequence[:self.max_length]\n",
    "        \n",
    "        # Create one-hot encoding\n",
    "        tensor = torch.zeros(self.max_length, len(AMINO_ACIDS))\n",
    "        \n",
    "        for i, aa in enumerate(sequence):\n",
    "            if aa in AA_TO_IDX:\n",
    "                tensor[i, AA_TO_IDX[aa]] = 1.0\n",
    "        \n",
    "        return tensor\n",
    "    \n",
    "    def denormalize_target(self, normalized_value):\n",
    "        \"\"\"\n",
    "        Convert normalized target back to original scale.\n",
    "        \n",
    "        This is useful for interpreting model predictions.\n",
    "        \"\"\"\n",
    "        return self.target_scaler.inverse_transform([[normalized_value]])[0][0]"
   ]
  },
  {
   "cell_type": "code",
   "execution_count": null,
   "id": "7ddebc5c",
   "metadata": {},
   "outputs": [],
   "source": [
    "class ProteinCNN(nn.Module):\n",
    "    \"\"\"\n",
    "    Convolutional Neural Network for protein sequence analysis.\n",
    "    \n",
    "    This network uses multiple convolutional layers with different filter sizes\n",
    "    to capture local patterns in protein sequences, followed by fully connected\n",
    "    layers to make the final prediction.\n",
    "    \"\"\"\n",
    "    \n",
    "    def __init__(self, num_amino_acids=20, num_filters=128, dropout_rate=0.5):\n",
    "        \"\"\"\n",
    "        Initialize the CNN architecture.\n",
    "        \n",
    "        Args:\n",
    "            num_amino_acids: Size of amino acid vocabulary (20 for standard amino acids)\n",
    "            num_filters: Number of convolutional filters for each filter size\n",
    "            dropout_rate: Dropout probability for regularization\n",
    "        \"\"\"\n",
    "        super(ProteinCNN, self).__init__()\n",
    "        \n",
    "        # Multiple convolutional layers with different filter sizes\n",
    "        # This allows us to capture patterns of different lengths\n",
    "        self.conv1 = nn.Conv1d(num_amino_acids, num_filters, kernel_size=3, padding=1)\n",
    "        self.conv2 = nn.Conv1d(num_amino_acids, num_filters, kernel_size=5, padding=2)\n",
    "        self.conv3 = nn.Conv1d(num_amino_acids, num_filters, kernel_size=7, padding=3)\n",
    "        \n",
    "        # Batch normalization helps with training stability\n",
    "        self.batch_norm1 = nn.BatchNorm1d(num_filters)\n",
    "        self.batch_norm2 = nn.BatchNorm1d(num_filters)\n",
    "        self.batch_norm3 = nn.BatchNorm1d(num_filters)\n",
    "        \n",
    "        # Additional convolutional layers for more complex pattern detection\n",
    "        self.conv4 = nn.Conv1d(num_filters * 3, num_filters * 2, kernel_size=3, padding=1)\n",
    "        self.batch_norm4 = nn.BatchNorm1d(num_filters * 2)\n",
    "        \n",
    "        self.conv5 = nn.Conv1d(num_filters * 2, num_filters, kernel_size=3, padding=1)\n",
    "        self.batch_norm5 = nn.BatchNorm1d(num_filters)\n",
    "        \n",
    "        # Global pooling to get a fixed-size representation\n",
    "        self.global_pool = nn.AdaptiveAvgPool1d(1)\n",
    "        \n",
    "        # Fully connected layers for final prediction\n",
    "        self.fc1 = nn.Linear(num_filters, 256)\n",
    "        self.fc2 = nn.Linear(256, 128)\n",
    "        self.fc3 = nn.Linear(128, 1)  # Single output for regression\n",
    "        \n",
    "        # Dropout for regularization\n",
    "        self.dropout = nn.Dropout(dropout_rate)\n",
    "        \n",
    "    def forward(self, x):\n",
    "        \"\"\"\n",
    "        Forward pass through the network.\n",
    "        \n",
    "        Args:\n",
    "            x: Input tensor of shape [batch_size, sequence_length, num_amino_acids]\n",
    "            \n",
    "        Returns:\n",
    "            predictions: Tensor of shape [batch_size, 1] with predicted values\n",
    "        \"\"\"\n",
    "        # Transpose for conv1d: [batch_size, num_amino_acids, sequence_length]\n",
    "        x = x.transpose(1, 2)\n",
    "        \n",
    "        # Apply multiple convolutional layers with different filter sizes\n",
    "        conv1_out = F.relu(self.batch_norm1(self.conv1(x)))\n",
    "        conv2_out = F.relu(self.batch_norm2(self.conv2(x)))\n",
    "        conv3_out = F.relu(self.batch_norm3(self.conv3(x)))\n",
    "        \n",
    "        # Concatenate outputs from different filter sizes\n",
    "        # This gives us a rich representation that captures patterns of various lengths\n",
    "        x = torch.cat([conv1_out, conv2_out, conv3_out], dim=1)\n",
    "        \n",
    "        # Apply additional convolutional layers\n",
    "        x = F.relu(self.batch_norm4(self.conv4(x)))\n",
    "        x = self.dropout(x)\n",
    "        \n",
    "        x = F.relu(self.batch_norm5(self.conv5(x)))\n",
    "        x = self.dropout(x)\n",
    "        \n",
    "        # Global pooling to get a fixed-size representation regardless of sequence length\n",
    "        x = self.global_pool(x)\n",
    "        x = x.view(x.size(0), -1)  # Flatten\n",
    "        \n",
    "        # Fully connected layers for final prediction\n",
    "        x = F.relu(self.fc1(x))\n",
    "        x = self.dropout(x)\n",
    "        \n",
    "        x = F.relu(self.fc2(x))\n",
    "        x = self.dropout(x)\n",
    "        \n",
    "        # Final prediction (no activation for regression)\n",
    "        x = self.fc3(x)\n",
    "        \n",
    "        return x"
   ]
  },
  {
   "cell_type": "code",
   "execution_count": 20,
   "id": "0c2f0fd9",
   "metadata": {},
   "outputs": [
    {
     "name": "stdout",
     "output_type": "stream",
     "text": [
      "Training on: cuda\n"
     ]
    }
   ],
   "source": [
    "import torch\n",
    "import torch.nn as nn\n",
    "import torch.optim as optim\n",
    "from torch.utils.data import DataLoader, random_split\n",
    "import numpy as np\n",
    "import matplotlib.pyplot as plt\n",
    "from fpgen.prop_prediction.metrics import get_regression_metrics\n",
    "import time\n",
    "\n",
    "# Set random seeds for reproducibility\n",
    "# This ensures that your results are consistent across runs\n",
    "torch.manual_seed(42)\n",
    "np.random.seed(42)\n",
    "\n",
    "# Check if GPU is available\n",
    "device = torch.device('cuda' if torch.cuda.is_available() else 'cpu')\n",
    "print(f\"Training on: {device}\")"
   ]
  },
  {
   "cell_type": "code",
   "execution_count": 6,
   "id": "a45656fc",
   "metadata": {},
   "outputs": [],
   "source": [
    "import tqdm\n",
    "\n",
    "\n",
    "def train_cnn_model(model, train_loader, val_loader, num_epochs=100, learning_rate=0.001):\n",
    "    \"\"\"\n",
    "    Train the CNN model with careful monitoring and early stopping.\n",
    "    \n",
    "    This function implements best practices for training neural networks on small datasets,\n",
    "    including learning rate scheduling, early stopping, and comprehensive monitoring.\n",
    "    \"\"\"\n",
    "    print(torch.cuda.device_count())\n",
    "    torch.cuda.set_device(0)\n",
    "    # Move model to the appropriate device (GPU if available)\n",
    "    model = model.to(device)\n",
    "    # print devices\n",
    "    \n",
    "    \n",
    "    # Choose optimizer and loss function\n",
    "    # Adam is generally a good choice for CNNs because it adapts the learning rate\n",
    "    optimizer = optim.Adam(model.parameters(), lr=learning_rate, weight_decay=1e-5)\n",
    "    \n",
    "    # Mean Squared Error for regression tasks\n",
    "    criterion = nn.MSELoss()\n",
    "    \n",
    "    # Learning rate scheduler - reduces learning rate when validation loss plateaus\n",
    "    scheduler = optim.lr_scheduler.ReduceLROnPlateau(\n",
    "        optimizer, mode='min', patience=10, factor=0.5\n",
    "    )\n",
    "    \n",
    "    # Early stopping to prevent overfitting\n",
    "    best_val_loss = float('inf')\n",
    "    patience_counter = 0\n",
    "    early_stopping_patience = 20\n",
    "    \n",
    "    # Track training history\n",
    "    train_losses = []\n",
    "    val_losses = []\n",
    "    learning_rates = []\n",
    "    \n",
    "    print(\"Starting training...\")\n",
    "    print(f\"Training batches per epoch: {len(train_loader)}\")\n",
    "    print(f\"Validation batches per epoch: {len(val_loader)}\")\n",
    "    \n",
    "    for epoch in tqdm.tqdm(range(num_epochs)):\n",
    "        # Training phase\n",
    "        model.train()  # Set model to training mode\n",
    "        train_loss = 0.0\n",
    "        train_batches = 0\n",
    "        for batch_idx, (sequences, targets) in enumerate(train_loader):\n",
    "            # Move data to device\n",
    "            sequences = sequences.to(device)\n",
    "            targets = targets.to(device)\n",
    "\n",
    "            # Zero the gradients\n",
    "            optimizer.zero_grad()\n",
    "            \n",
    "            # Forward pass\n",
    "            predictions = model(sequences)\n",
    "            \n",
    "            # Calculate loss\n",
    "            loss = criterion(predictions.squeeze(), targets)\n",
    "            \n",
    "            # Backward pass\n",
    "            loss.backward()\n",
    "            \n",
    "            # Gradient clipping to prevent exploding gradients\n",
    "            torch.nn.utils.clip_grad_norm_(model.parameters(), max_norm=1.0)\n",
    "            \n",
    "            # Update parameters\n",
    "            optimizer.step()\n",
    "            \n",
    "            train_loss += loss.item()\n",
    "            train_batches += 1\n",
    "            \n",
    "            # Print progress every 10 batches\n",
    "            if batch_idx % 10 == 0:\n",
    "                print(f'Epoch {epoch+1}, Batch {batch_idx}, Loss: {loss.item():.6f}')\n",
    "        \n",
    "        # Calculate average training loss\n",
    "        avg_train_loss = train_loss / train_batches\n",
    "        \n",
    "        # Validation phase\n",
    "        model.eval()  # Set model to evaluation mode\n",
    "        val_loss = 0.0\n",
    "        val_batches = 0\n",
    "        \n",
    "        with torch.no_grad():  # Disable gradient computation for efficiency\n",
    "            for sequences, targets in val_loader:\n",
    "                sequences = sequences.to(device)\n",
    "                targets = targets.to(device)\n",
    "                \n",
    "                predictions = model(sequences)\n",
    "                loss = criterion(predictions.squeeze(), targets)\n",
    "                \n",
    "                val_loss += loss.item()\n",
    "                val_batches += 1\n",
    "        \n",
    "        avg_val_loss = val_loss / val_batches\n",
    "        \n",
    "        # Record history\n",
    "        train_losses.append(avg_train_loss)\n",
    "        val_losses.append(avg_val_loss)\n",
    "        learning_rates.append(optimizer.param_groups[0]['lr'])\n",
    "        \n",
    "        # Print epoch summary\n",
    "        print(f'Epoch {epoch+1}/{num_epochs}:')\n",
    "        print(f'  Train Loss: {avg_train_loss:.6f}')\n",
    "        print(f'  Val Loss: {avg_val_loss:.6f}')\n",
    "        print(f'  Learning Rate: {optimizer.param_groups[0][\"lr\"]:.8f}')\n",
    "        print('-' * 50)\n",
    "        \n",
    "        # Learning rate scheduling\n",
    "        scheduler.step(avg_val_loss)\n",
    "        \n",
    "        # Early stopping check\n",
    "        if avg_val_loss < best_val_loss:\n",
    "            best_val_loss = avg_val_loss\n",
    "            patience_counter = 0\n",
    "            # Save the best model\n",
    "            torch.save(model.state_dict(), 'best_cnn_model.pth')\n",
    "            print(f'New best model saved with validation loss: {best_val_loss:.6f}')\n",
    "        else:\n",
    "            patience_counter += 1\n",
    "            \n",
    "        if patience_counter >= early_stopping_patience:\n",
    "            print(f'Early stopping triggered after {epoch+1} epochs')\n",
    "            break\n",
    "    \n",
    "    # Load the best model\n",
    "    model.load_state_dict(torch.load('best_cnn_model.pth'))\n",
    "    \n",
    "    return model, train_losses, val_losses, learning_rates"
   ]
  },
  {
   "cell_type": "code",
   "execution_count": 7,
   "id": "daa1b7b8",
   "metadata": {},
   "outputs": [],
   "source": [
    "def setup_data_loaders(fpbase_dataset, target_name='ex_max', batch_size=32, val_split=0.2):\n",
    "    \"\"\"\n",
    "    Create training and validation data loaders using FPbase's train/test split.\n",
    "    \n",
    "    Args:\n",
    "        fpbase_dataset: Instance of FPbase class\n",
    "        target_name: Name of the target property (e.g., 'ex_max')\n",
    "        batch_size: Batch size for DataLoader\n",
    "        val_split: Fraction of training data to use for validation\n",
    "    \n",
    "    Returns:\n",
    "        train_loader: DataLoader for training data\n",
    "        val_loader: DataLoader for validation data\n",
    "        test_loader: DataLoader for test data\n",
    "        train_dataset: ProteinDataset instance for training data\n",
    "    \"\"\"\n",
    "    \n",
    "    # Get train and test data from FPbase\n",
    "    x_train, y_train = fpbase_dataset.get_train(target_name, is_scaled=True)\n",
    "    x_test, y_test = fpbase_dataset.get_test(target_name, is_scaled=True)\n",
    "    \n",
    "    # Create full training dataset\n",
    "    train_full_dataset = ProteinDataset(x_train, y_train, max_length=500)\n",
    "    \n",
    "    # Split training data into train and validation\n",
    "    total_size = len(train_full_dataset)\n",
    "    train_size = int((1 - val_split) * total_size)\n",
    "    val_size = total_size - train_size\n",
    "    \n",
    "    print(f\"Full training set size: {total_size}\")\n",
    "    print(f\"Training set size: {train_size}\")\n",
    "    print(f\"Validation set size: {val_size}\")\n",
    "    print(f\"Test set size: {len(x_test)}\")\n",
    "    \n",
    "    # Split training dataset into train and validation\n",
    "    train_dataset, val_dataset = random_split(\n",
    "        train_full_dataset, \n",
    "        [train_size, val_size],\n",
    "        generator=torch.Generator().manual_seed(42)  # For reproducibility\n",
    "    )\n",
    "    \n",
    "    # Create test dataset\n",
    "    test_dataset = ProteinDataset(x_test, y_test, max_length=500)\n",
    "    \n",
    "    # Create data loaders\n",
    "    train_loader = DataLoader(\n",
    "        train_dataset, \n",
    "        batch_size=batch_size, \n",
    "        shuffle=True,\n",
    "        num_workers=0,\n",
    "        pin_memory=True if torch.cuda.is_available() else False\n",
    "    )\n",
    "    \n",
    "    val_loader = DataLoader(\n",
    "        val_dataset, \n",
    "        batch_size=batch_size, \n",
    "        shuffle=False,\n",
    "        num_workers=0,\n",
    "        pin_memory=True if torch.cuda.is_available() else False\n",
    "    )\n",
    "    \n",
    "    test_loader = DataLoader(\n",
    "        test_dataset,\n",
    "        batch_size=batch_size,\n",
    "        shuffle=False,\n",
    "        num_workers=0,\n",
    "        pin_memory=True if torch.cuda.is_available() else False\n",
    "    )\n",
    "    \n",
    "    return train_loader, val_loader, test_loader, train_full_dataset"
   ]
  },
  {
   "cell_type": "code",
   "execution_count": 24,
   "id": "f6790103",
   "metadata": {},
   "outputs": [],
   "source": [
    "def evaluate_model(model, data_loader, dataset, fpbase_dataset, target_name='ex_max'):\n",
    "    \"\"\"\n",
    "    Evaluate the trained model and calculate performance metrics.\n",
    "    \n",
    "    This function provides comprehensive evaluation including predictions\n",
    "    on both normalized and original scales using FPbase rescaling.\n",
    "    \n",
    "    Args:\n",
    "        model: The trained model\n",
    "        data_loader: DataLoader with test/validation data\n",
    "        dataset: ProteinDataset instance\n",
    "        fpbase_dataset: FPbase instance for proper rescaling\n",
    "        target_name: Name of the target property (default: 'ex_max')\n",
    "    \"\"\"\n",
    "    \n",
    "    model.eval()\n",
    "    all_predictions = []\n",
    "    all_targets = []\n",
    "    \n",
    "    with torch.no_grad():\n",
    "        for sequences, targets in data_loader:\n",
    "            sequences = sequences.to(device)\n",
    "            targets = targets.to(device)\n",
    "            \n",
    "            predictions = model(sequences)\n",
    "            \n",
    "            all_predictions.extend(predictions.squeeze().cpu().numpy())\n",
    "            all_targets.extend(targets.cpu().numpy())\n",
    "    \n",
    "    # Convert to numpy arrays\n",
    "    all_predictions = np.array(all_predictions)\n",
    "    all_targets = np.array(all_targets)\n",
    "    \n",
    "    # Calculate metrics on normalized scale\n",
    "    metrics_normalized = get_regression_metrics(all_predictions, all_targets)\n",
    "    \n",
    "    # Rescale using FPbase for interpretable metrics\n",
    "    targets_original = fpbase_dataset.rescale_targets(all_targets, target_name)\n",
    "    predictions_original = fpbase_dataset.rescale_targets(all_predictions, target_name)\n",
    "    \n",
    "    # Calculate metrics on original scale\n",
    "    metrics_original = get_regression_metrics(predictions_original, targets_original)\n",
    "    \n",
    "    print(\"\\nModel Evaluation Results:\")\n",
    "    print(f\"Normalized metrics:\")\n",
    "    print(f\"  R² Score: {metrics_normalized['r2']:.4f}\")\n",
    "    print(f\"  RMSE: {metrics_normalized['rmse']:.4f}\")\n",
    "    print(f\"  MAE: {metrics_normalized['mae']:.4f}\")\n",
    "    print(f\"  Median AE: {metrics_normalized['mae_median']:.4f}\")\n",
    "    \n",
    "    print(f\"\\nOriginal scale metrics:\")\n",
    "    print(f\"  R² Score: {metrics_original['r2']:.4f}\")\n",
    "    print(f\"  RMSE: {metrics_original['rmse']:.4f}\")\n",
    "    print(f\"  MAE: {metrics_original['mae']:.4f}\")\n",
    "    print(f\"  Median AE: {metrics_original['mae_median']:.4f}\")\n",
    "    \n",
    "    return {\n",
    "        'predictions_original': predictions_original,\n",
    "        'targets_original': targets_original,\n",
    "        **{f\"{k}_original\": v for k, v in metrics_original.items()},\n",
    "        **{f\"{k}_normalized\": v for k, v in metrics_normalized.items()}\n",
    "    }\n",
    "\n",
    "def plot_training_history(train_losses, val_losses, learning_rates):\n",
    "    \"\"\"\n",
    "    Visualize the training process to understand model behavior.\n",
    "    \n",
    "    These plots help you understand whether your model is learning properly,\n",
    "    overfitting, or if you need to adjust hyperparameters.\n",
    "    \"\"\"\n",
    "    \n",
    "    fig, axes = plt.subplots(2, 2, figsize=(15, 10))\n",
    "    \n",
    "    # Plot training and validation losses\n",
    "    axes[0, 0].plot(train_losses, label='Training Loss', color='blue')\n",
    "    axes[0, 0].plot(val_losses, label='Validation Loss', color='red')\n",
    "    axes[0, 0].set_xlabel('Epoch')\n",
    "    axes[0, 0].set_ylabel('Loss')\n",
    "    axes[0, 0].set_title('Training and Validation Loss')\n",
    "    axes[0, 0].legend()\n",
    "    axes[0, 0].grid(True)\n",
    "    \n",
    "    # Plot learning rate schedule\n",
    "    axes[0, 1].plot(learning_rates, color='green')\n",
    "    axes[0, 1].set_xlabel('Epoch')\n",
    "    axes[0, 1].set_ylabel('Learning Rate')\n",
    "    axes[0, 1].set_title('Learning Rate Schedule')\n",
    "    axes[0, 1].set_yscale('log')\n",
    "    axes[0, 1].grid(True)\n",
    "    \n",
    "    # Plot loss difference (overfitting indicator)\n",
    "    loss_diff = np.array(val_losses) - np.array(train_losses)\n",
    "    axes[1, 0].plot(loss_diff, color='purple')\n",
    "    axes[1, 0].set_xlabel('Epoch')\n",
    "    axes[1, 0].set_ylabel('Validation Loss - Training Loss')\n",
    "    axes[1, 0].set_title('Overfitting Indicator')\n",
    "    axes[1, 0].axhline(y=0, color='black', linestyle='--', alpha=0.5)\n",
    "    axes[1, 0].grid(True)\n",
    "    \n",
    "    # Plot validation loss with trend\n",
    "    axes[1, 1].plot(val_losses, color='red', alpha=0.7)\n",
    "    # Add trend line\n",
    "    z = np.polyfit(range(len(val_losses)), val_losses, 1)\n",
    "    p = np.poly1d(z)\n",
    "    axes[1, 1].plot(range(len(val_losses)), p(range(len(val_losses))), \n",
    "                   color='black', linestyle='--', label='Trend')\n",
    "    axes[1, 1].set_xlabel('Epoch')\n",
    "    axes[1, 1].set_ylabel('Validation Loss')\n",
    "    axes[1, 1].set_title('Validation Loss with Trend')\n",
    "    axes[1, 1].legend()\n",
    "    axes[1, 1].grid(True)\n",
    "    \n",
    "    plt.tight_layout()\n",
    "    plt.show()"
   ]
  },
  {
   "cell_type": "code",
   "execution_count": 9,
   "id": "13f0db30",
   "metadata": {},
   "outputs": [],
   "source": [
    "import sys\n",
    "import os\n",
    "sys.path.append(os.path.abspath(os.path.join(os.getcwd(), '..')))"
   ]
  },
  {
   "cell_type": "code",
   "execution_count": 10,
   "id": "858a0cca",
   "metadata": {},
   "outputs": [
    {
     "name": "stdout",
     "output_type": "stream",
     "text": [
      "Full training set size: 676\n",
      "Training set size: 540\n",
      "Validation set size: 136\n",
      "Test set size: 173\n"
     ]
    }
   ],
   "source": [
    "# Initialize FPbase dataset\n",
    "from fpgen.prop_prediction.dataset import FPbase\n",
    "dataset = FPbase()\n",
    "\n",
    "# Create data loaders using FPbase's train/test split\n",
    "batch_size = 32\n",
    "train_loader, val_loader, test_loader, train_dataset = setup_data_loaders(\n",
    "    fpbase_dataset=dataset,\n",
    "    target_name='ex_max',\n",
    "    batch_size=batch_size,\n",
    "    val_split=0.2  # 20% of training data for validation\n",
    ")"
   ]
  },
  {
   "cell_type": "code",
   "execution_count": 11,
   "id": "7d1098cc",
   "metadata": {},
   "outputs": [
    {
     "name": "stdout",
     "output_type": "stream",
     "text": [
      "CUDA available : True\n",
      "GPU count       : 1\n",
      "GPU 0 name     : NVIDIA GeForce RTX 4050 Laptop GPU\n",
      "GPU 0 capability: (8, 9)\n"
     ]
    }
   ],
   "source": [
    "import torch\n",
    "print(\"CUDA available :\", torch.cuda.is_available())\n",
    "print(\"GPU count       :\", torch.cuda.device_count())\n",
    "for i in range(torch.cuda.device_count()):\n",
    "    print(f\"GPU {i} name     :\", torch.cuda.get_device_name(i))\n",
    "    print(f\"GPU {i} capability:\",\n",
    "          torch.cuda.get_device_capability(i))"
   ]
  },
  {
   "cell_type": "code",
   "execution_count": 15,
   "id": "de63c8c8",
   "metadata": {},
   "outputs": [
    {
     "name": "stdout",
     "output_type": "stream",
     "text": [
      "Starting training...\n",
      "1\n",
      "Starting training...\n",
      "Training batches per epoch: 17\n",
      "Validation batches per epoch: 5\n"
     ]
    },
    {
     "name": "stderr",
     "output_type": "stream",
     "text": [
      "  0%|          | 0/200 [00:00<?, ?it/s]"
     ]
    },
    {
     "name": "stdout",
     "output_type": "stream",
     "text": [
      "Epoch 1, Batch 0, Loss: 0.574682\n",
      "Epoch 1, Batch 10, Loss: 0.860392\n"
     ]
    },
    {
     "name": "stderr",
     "output_type": "stream",
     "text": [
      "  0%|          | 1/200 [00:01<03:56,  1.19s/it]"
     ]
    },
    {
     "name": "stdout",
     "output_type": "stream",
     "text": [
      "Epoch 1/200:\n",
      "  Train Loss: 1.024855\n",
      "  Val Loss: 0.802737\n",
      "  Learning Rate: 0.00100000\n",
      "--------------------------------------------------\n",
      "New best model saved with validation loss: 0.802737\n",
      "Epoch 2, Batch 0, Loss: 1.073037\n",
      "Epoch 2, Batch 10, Loss: 0.958486\n"
     ]
    },
    {
     "name": "stderr",
     "output_type": "stream",
     "text": [
      "  1%|          | 2/200 [00:02<03:29,  1.06s/it]"
     ]
    },
    {
     "name": "stdout",
     "output_type": "stream",
     "text": [
      "Epoch 2/200:\n",
      "  Train Loss: 0.835375\n",
      "  Val Loss: 0.823267\n",
      "  Learning Rate: 0.00100000\n",
      "--------------------------------------------------\n",
      "Epoch 3, Batch 0, Loss: 0.672881\n",
      "Epoch 3, Batch 10, Loss: 0.620893\n"
     ]
    },
    {
     "name": "stderr",
     "output_type": "stream",
     "text": [
      "  2%|▏         | 3/200 [00:03<03:22,  1.03s/it]"
     ]
    },
    {
     "name": "stdout",
     "output_type": "stream",
     "text": [
      "Epoch 3/200:\n",
      "  Train Loss: 0.705600\n",
      "  Val Loss: 0.514284\n",
      "  Learning Rate: 0.00100000\n",
      "--------------------------------------------------\n",
      "New best model saved with validation loss: 0.514284\n",
      "Epoch 4, Batch 0, Loss: 0.639360\n",
      "Epoch 4, Batch 10, Loss: 0.366709\n"
     ]
    },
    {
     "name": "stderr",
     "output_type": "stream",
     "text": [
      "  2%|▏         | 4/200 [00:04<03:19,  1.02s/it]"
     ]
    },
    {
     "name": "stdout",
     "output_type": "stream",
     "text": [
      "Epoch 4/200:\n",
      "  Train Loss: 0.625159\n",
      "  Val Loss: 0.411808\n",
      "  Learning Rate: 0.00100000\n",
      "--------------------------------------------------\n",
      "New best model saved with validation loss: 0.411808\n",
      "Epoch 5, Batch 0, Loss: 0.347700\n",
      "Epoch 5, Batch 10, Loss: 0.699398\n"
     ]
    },
    {
     "name": "stderr",
     "output_type": "stream",
     "text": [
      "  2%|▎         | 5/200 [00:05<03:16,  1.01s/it]"
     ]
    },
    {
     "name": "stdout",
     "output_type": "stream",
     "text": [
      "Epoch 5/200:\n",
      "  Train Loss: 0.525148\n",
      "  Val Loss: 0.457347\n",
      "  Learning Rate: 0.00100000\n",
      "--------------------------------------------------\n",
      "Epoch 6, Batch 0, Loss: 0.451325\n",
      "Epoch 6, Batch 10, Loss: 0.576693\n"
     ]
    },
    {
     "name": "stderr",
     "output_type": "stream",
     "text": [
      "  3%|▎         | 6/200 [00:06<03:21,  1.04s/it]"
     ]
    },
    {
     "name": "stdout",
     "output_type": "stream",
     "text": [
      "Epoch 6/200:\n",
      "  Train Loss: 0.502104\n",
      "  Val Loss: 0.787681\n",
      "  Learning Rate: 0.00100000\n",
      "--------------------------------------------------\n",
      "Epoch 7, Batch 0, Loss: 0.390205\n",
      "Epoch 7, Batch 10, Loss: 0.360112\n"
     ]
    },
    {
     "name": "stderr",
     "output_type": "stream",
     "text": [
      "  4%|▎         | 7/200 [00:07<03:20,  1.04s/it]"
     ]
    },
    {
     "name": "stdout",
     "output_type": "stream",
     "text": [
      "Epoch 7/200:\n",
      "  Train Loss: 0.488473\n",
      "  Val Loss: 3.076435\n",
      "  Learning Rate: 0.00100000\n",
      "--------------------------------------------------\n",
      "Epoch 8, Batch 0, Loss: 0.396196\n",
      "Epoch 8, Batch 10, Loss: 0.561088\n"
     ]
    },
    {
     "name": "stderr",
     "output_type": "stream",
     "text": [
      "  4%|▍         | 8/200 [00:08<03:19,  1.04s/it]"
     ]
    },
    {
     "name": "stdout",
     "output_type": "stream",
     "text": [
      "Epoch 8/200:\n",
      "  Train Loss: 0.487446\n",
      "  Val Loss: 1.070230\n",
      "  Learning Rate: 0.00100000\n",
      "--------------------------------------------------\n",
      "Epoch 9, Batch 0, Loss: 0.316689\n",
      "Epoch 9, Batch 10, Loss: 0.334875\n"
     ]
    },
    {
     "name": "stderr",
     "output_type": "stream",
     "text": [
      "  4%|▍         | 9/200 [00:09<03:18,  1.04s/it]"
     ]
    },
    {
     "name": "stdout",
     "output_type": "stream",
     "text": [
      "Epoch 9/200:\n",
      "  Train Loss: 0.402750\n",
      "  Val Loss: 0.553365\n",
      "  Learning Rate: 0.00100000\n",
      "--------------------------------------------------\n",
      "Epoch 10, Batch 0, Loss: 0.450356\n",
      "Epoch 10, Batch 10, Loss: 0.415301\n"
     ]
    },
    {
     "name": "stderr",
     "output_type": "stream",
     "text": [
      "  5%|▌         | 10/200 [00:10<03:14,  1.02s/it]"
     ]
    },
    {
     "name": "stdout",
     "output_type": "stream",
     "text": [
      "Epoch 10/200:\n",
      "  Train Loss: 0.386522\n",
      "  Val Loss: 1.934609\n",
      "  Learning Rate: 0.00100000\n",
      "--------------------------------------------------\n",
      "Epoch 11, Batch 0, Loss: 0.652019\n",
      "Epoch 11, Batch 10, Loss: 0.373100\n"
     ]
    },
    {
     "name": "stderr",
     "output_type": "stream",
     "text": [
      "  6%|▌         | 11/200 [00:11<03:10,  1.01s/it]"
     ]
    },
    {
     "name": "stdout",
     "output_type": "stream",
     "text": [
      "Epoch 11/200:\n",
      "  Train Loss: 0.375145\n",
      "  Val Loss: 1.032345\n",
      "  Learning Rate: 0.00100000\n",
      "--------------------------------------------------\n",
      "Epoch 12, Batch 0, Loss: 0.792315\n",
      "Epoch 12, Batch 10, Loss: 0.371077\n"
     ]
    },
    {
     "name": "stderr",
     "output_type": "stream",
     "text": [
      "  6%|▌         | 12/200 [00:12<03:07,  1.00it/s]"
     ]
    },
    {
     "name": "stdout",
     "output_type": "stream",
     "text": [
      "Epoch 12/200:\n",
      "  Train Loss: 0.380928\n",
      "  Val Loss: 1.271416\n",
      "  Learning Rate: 0.00100000\n",
      "--------------------------------------------------\n",
      "Epoch 13, Batch 0, Loss: 0.186854\n",
      "Epoch 13, Batch 10, Loss: 0.299528\n"
     ]
    },
    {
     "name": "stderr",
     "output_type": "stream",
     "text": [
      "  6%|▋         | 13/200 [00:13<03:04,  1.02it/s]"
     ]
    },
    {
     "name": "stdout",
     "output_type": "stream",
     "text": [
      "Epoch 13/200:\n",
      "  Train Loss: 0.327510\n",
      "  Val Loss: 0.279232\n",
      "  Learning Rate: 0.00100000\n",
      "--------------------------------------------------\n",
      "New best model saved with validation loss: 0.279232\n",
      "Epoch 14, Batch 0, Loss: 0.409122\n",
      "Epoch 14, Batch 10, Loss: 0.312596\n"
     ]
    },
    {
     "name": "stderr",
     "output_type": "stream",
     "text": [
      "  7%|▋         | 14/200 [00:14<03:02,  1.02it/s]"
     ]
    },
    {
     "name": "stdout",
     "output_type": "stream",
     "text": [
      "Epoch 14/200:\n",
      "  Train Loss: 0.328990\n",
      "  Val Loss: 0.337744\n",
      "  Learning Rate: 0.00100000\n",
      "--------------------------------------------------\n",
      "Epoch 15, Batch 0, Loss: 0.324843\n",
      "Epoch 15, Batch 10, Loss: 0.198569\n"
     ]
    },
    {
     "name": "stderr",
     "output_type": "stream",
     "text": [
      "  8%|▊         | 15/200 [00:15<03:01,  1.02it/s]"
     ]
    },
    {
     "name": "stdout",
     "output_type": "stream",
     "text": [
      "Epoch 15/200:\n",
      "  Train Loss: 0.295498\n",
      "  Val Loss: 1.351283\n",
      "  Learning Rate: 0.00100000\n",
      "--------------------------------------------------\n",
      "Epoch 16, Batch 0, Loss: 0.155616\n",
      "Epoch 16, Batch 10, Loss: 0.359844\n"
     ]
    },
    {
     "name": "stderr",
     "output_type": "stream",
     "text": [
      "  8%|▊         | 16/200 [00:16<02:59,  1.02it/s]"
     ]
    },
    {
     "name": "stdout",
     "output_type": "stream",
     "text": [
      "Epoch 16/200:\n",
      "  Train Loss: 0.313436\n",
      "  Val Loss: 0.258115\n",
      "  Learning Rate: 0.00100000\n",
      "--------------------------------------------------\n",
      "New best model saved with validation loss: 0.258115\n",
      "Epoch 17, Batch 0, Loss: 0.274284\n",
      "Epoch 17, Batch 10, Loss: 0.295821\n"
     ]
    },
    {
     "name": "stderr",
     "output_type": "stream",
     "text": [
      "  8%|▊         | 17/200 [00:17<02:57,  1.03it/s]"
     ]
    },
    {
     "name": "stdout",
     "output_type": "stream",
     "text": [
      "Epoch 17/200:\n",
      "  Train Loss: 0.321535\n",
      "  Val Loss: 0.976619\n",
      "  Learning Rate: 0.00100000\n",
      "--------------------------------------------------\n",
      "Epoch 18, Batch 0, Loss: 0.235919\n",
      "Epoch 18, Batch 10, Loss: 0.576684\n"
     ]
    },
    {
     "name": "stderr",
     "output_type": "stream",
     "text": [
      "  9%|▉         | 18/200 [00:18<02:56,  1.03it/s]"
     ]
    },
    {
     "name": "stdout",
     "output_type": "stream",
     "text": [
      "Epoch 18/200:\n",
      "  Train Loss: 0.266599\n",
      "  Val Loss: 1.117770\n",
      "  Learning Rate: 0.00100000\n",
      "--------------------------------------------------\n",
      "Epoch 19, Batch 0, Loss: 0.187657\n",
      "Epoch 19, Batch 10, Loss: 0.269491\n"
     ]
    },
    {
     "name": "stderr",
     "output_type": "stream",
     "text": [
      " 10%|▉         | 19/200 [00:19<02:56,  1.03it/s]"
     ]
    },
    {
     "name": "stdout",
     "output_type": "stream",
     "text": [
      "Epoch 19/200:\n",
      "  Train Loss: 0.303396\n",
      "  Val Loss: 0.377191\n",
      "  Learning Rate: 0.00100000\n",
      "--------------------------------------------------\n",
      "Epoch 20, Batch 0, Loss: 0.180988\n",
      "Epoch 20, Batch 10, Loss: 0.344824\n"
     ]
    },
    {
     "name": "stderr",
     "output_type": "stream",
     "text": [
      " 10%|█         | 20/200 [00:20<02:58,  1.01it/s]"
     ]
    },
    {
     "name": "stdout",
     "output_type": "stream",
     "text": [
      "Epoch 20/200:\n",
      "  Train Loss: 0.256085\n",
      "  Val Loss: 0.900262\n",
      "  Learning Rate: 0.00100000\n",
      "--------------------------------------------------\n",
      "Epoch 21, Batch 0, Loss: 0.151637\n",
      "Epoch 21, Batch 10, Loss: 0.316855\n"
     ]
    },
    {
     "name": "stderr",
     "output_type": "stream",
     "text": [
      " 10%|█         | 21/200 [00:21<02:57,  1.01it/s]"
     ]
    },
    {
     "name": "stdout",
     "output_type": "stream",
     "text": [
      "Epoch 21/200:\n",
      "  Train Loss: 0.250037\n",
      "  Val Loss: 0.732029\n",
      "  Learning Rate: 0.00100000\n",
      "--------------------------------------------------\n",
      "Epoch 22, Batch 0, Loss: 0.271067\n",
      "Epoch 22, Batch 10, Loss: 0.144963\n"
     ]
    },
    {
     "name": "stderr",
     "output_type": "stream",
     "text": [
      " 11%|█         | 22/200 [00:22<02:59,  1.01s/it]"
     ]
    },
    {
     "name": "stdout",
     "output_type": "stream",
     "text": [
      "Epoch 22/200:\n",
      "  Train Loss: 0.282222\n",
      "  Val Loss: 0.242871\n",
      "  Learning Rate: 0.00100000\n",
      "--------------------------------------------------\n",
      "New best model saved with validation loss: 0.242871\n",
      "Epoch 23, Batch 0, Loss: 0.136321\n",
      "Epoch 23, Batch 10, Loss: 0.149056\n"
     ]
    },
    {
     "name": "stderr",
     "output_type": "stream",
     "text": [
      " 12%|█▏        | 23/200 [00:23<02:57,  1.01s/it]"
     ]
    },
    {
     "name": "stdout",
     "output_type": "stream",
     "text": [
      "Epoch 23/200:\n",
      "  Train Loss: 0.219957\n",
      "  Val Loss: 0.254155\n",
      "  Learning Rate: 0.00100000\n",
      "--------------------------------------------------\n",
      "Epoch 24, Batch 0, Loss: 0.121543\n",
      "Epoch 24, Batch 10, Loss: 0.073720\n"
     ]
    },
    {
     "name": "stderr",
     "output_type": "stream",
     "text": [
      " 12%|█▏        | 24/200 [00:24<02:54,  1.01it/s]"
     ]
    },
    {
     "name": "stdout",
     "output_type": "stream",
     "text": [
      "Epoch 24/200:\n",
      "  Train Loss: 0.225625\n",
      "  Val Loss: 0.494344\n",
      "  Learning Rate: 0.00100000\n",
      "--------------------------------------------------\n",
      "Epoch 25, Batch 0, Loss: 0.211110\n",
      "Epoch 25, Batch 10, Loss: 0.395544\n"
     ]
    },
    {
     "name": "stderr",
     "output_type": "stream",
     "text": [
      " 12%|█▎        | 25/200 [00:26<04:02,  1.39s/it]"
     ]
    },
    {
     "name": "stdout",
     "output_type": "stream",
     "text": [
      "Epoch 25/200:\n",
      "  Train Loss: 0.214987\n",
      "  Val Loss: 3.841951\n",
      "  Learning Rate: 0.00100000\n",
      "--------------------------------------------------\n",
      "Epoch 26, Batch 0, Loss: 0.536707\n",
      "Epoch 26, Batch 10, Loss: 0.174744\n"
     ]
    },
    {
     "name": "stderr",
     "output_type": "stream",
     "text": [
      " 13%|█▎        | 26/200 [00:28<04:58,  1.71s/it]"
     ]
    },
    {
     "name": "stdout",
     "output_type": "stream",
     "text": [
      "Epoch 26/200:\n",
      "  Train Loss: 0.186142\n",
      "  Val Loss: 0.626822\n",
      "  Learning Rate: 0.00100000\n",
      "--------------------------------------------------\n",
      "Epoch 27, Batch 0, Loss: 0.207558\n",
      "Epoch 27, Batch 10, Loss: 0.197482\n"
     ]
    },
    {
     "name": "stderr",
     "output_type": "stream",
     "text": [
      " 14%|█▎        | 27/200 [00:31<05:36,  1.95s/it]"
     ]
    },
    {
     "name": "stdout",
     "output_type": "stream",
     "text": [
      "Epoch 27/200:\n",
      "  Train Loss: 0.201345\n",
      "  Val Loss: 0.183169\n",
      "  Learning Rate: 0.00100000\n",
      "--------------------------------------------------\n",
      "New best model saved with validation loss: 0.183169\n",
      "Epoch 28, Batch 0, Loss: 0.095522\n",
      "Epoch 28, Batch 10, Loss: 0.121871\n"
     ]
    },
    {
     "name": "stderr",
     "output_type": "stream",
     "text": [
      " 14%|█▍        | 28/200 [00:33<06:03,  2.11s/it]"
     ]
    },
    {
     "name": "stdout",
     "output_type": "stream",
     "text": [
      "Epoch 28/200:\n",
      "  Train Loss: 0.215186\n",
      "  Val Loss: 0.701003\n",
      "  Learning Rate: 0.00100000\n",
      "--------------------------------------------------\n",
      "Epoch 29, Batch 0, Loss: 0.201061\n",
      "Epoch 29, Batch 10, Loss: 0.259983\n"
     ]
    },
    {
     "name": "stderr",
     "output_type": "stream",
     "text": [
      " 14%|█▍        | 29/200 [00:36<06:14,  2.19s/it]"
     ]
    },
    {
     "name": "stdout",
     "output_type": "stream",
     "text": [
      "Epoch 29/200:\n",
      "  Train Loss: 0.220465\n",
      "  Val Loss: 0.247916\n",
      "  Learning Rate: 0.00100000\n",
      "--------------------------------------------------\n",
      "Epoch 30, Batch 0, Loss: 0.085897\n",
      "Epoch 30, Batch 10, Loss: 0.077306\n"
     ]
    },
    {
     "name": "stderr",
     "output_type": "stream",
     "text": [
      " 15%|█▌        | 30/200 [00:38<06:23,  2.25s/it]"
     ]
    },
    {
     "name": "stdout",
     "output_type": "stream",
     "text": [
      "Epoch 30/200:\n",
      "  Train Loss: 0.185853\n",
      "  Val Loss: 0.230811\n",
      "  Learning Rate: 0.00100000\n",
      "--------------------------------------------------\n",
      "Epoch 31, Batch 0, Loss: 0.096602\n",
      "Epoch 31, Batch 10, Loss: 0.166064\n"
     ]
    },
    {
     "name": "stderr",
     "output_type": "stream",
     "text": [
      " 16%|█▌        | 31/200 [00:41<06:29,  2.30s/it]"
     ]
    },
    {
     "name": "stdout",
     "output_type": "stream",
     "text": [
      "Epoch 31/200:\n",
      "  Train Loss: 0.218550\n",
      "  Val Loss: 0.327458\n",
      "  Learning Rate: 0.00100000\n",
      "--------------------------------------------------\n",
      "Epoch 32, Batch 0, Loss: 0.227133\n",
      "Epoch 32, Batch 10, Loss: 0.158383\n"
     ]
    },
    {
     "name": "stderr",
     "output_type": "stream",
     "text": [
      " 16%|█▌        | 32/200 [00:43<06:31,  2.33s/it]"
     ]
    },
    {
     "name": "stdout",
     "output_type": "stream",
     "text": [
      "Epoch 32/200:\n",
      "  Train Loss: 0.204082\n",
      "  Val Loss: 0.460044\n",
      "  Learning Rate: 0.00100000\n",
      "--------------------------------------------------\n",
      "Epoch 33, Batch 0, Loss: 0.139524\n",
      "Epoch 33, Batch 10, Loss: 0.160945\n"
     ]
    },
    {
     "name": "stderr",
     "output_type": "stream",
     "text": [
      " 16%|█▋        | 33/200 [00:45<06:31,  2.35s/it]"
     ]
    },
    {
     "name": "stdout",
     "output_type": "stream",
     "text": [
      "Epoch 33/200:\n",
      "  Train Loss: 0.179441\n",
      "  Val Loss: 0.179405\n",
      "  Learning Rate: 0.00100000\n",
      "--------------------------------------------------\n",
      "New best model saved with validation loss: 0.179405\n",
      "Epoch 34, Batch 0, Loss: 0.055519\n",
      "Epoch 34, Batch 10, Loss: 0.100936\n"
     ]
    },
    {
     "name": "stderr",
     "output_type": "stream",
     "text": [
      " 17%|█▋        | 34/200 [00:48<06:32,  2.36s/it]"
     ]
    },
    {
     "name": "stdout",
     "output_type": "stream",
     "text": [
      "Epoch 34/200:\n",
      "  Train Loss: 0.191757\n",
      "  Val Loss: 0.378421\n",
      "  Learning Rate: 0.00100000\n",
      "--------------------------------------------------\n",
      "Epoch 35, Batch 0, Loss: 0.129682\n",
      "Epoch 35, Batch 10, Loss: 0.683841\n"
     ]
    },
    {
     "name": "stderr",
     "output_type": "stream",
     "text": [
      " 18%|█▊        | 35/200 [00:50<06:32,  2.38s/it]"
     ]
    },
    {
     "name": "stdout",
     "output_type": "stream",
     "text": [
      "Epoch 35/200:\n",
      "  Train Loss: 0.241773\n",
      "  Val Loss: 0.482314\n",
      "  Learning Rate: 0.00100000\n",
      "--------------------------------------------------\n",
      "Epoch 36, Batch 0, Loss: 0.347373\n",
      "Epoch 36, Batch 10, Loss: 0.173837\n"
     ]
    },
    {
     "name": "stderr",
     "output_type": "stream",
     "text": [
      " 18%|█▊        | 36/200 [00:53<06:29,  2.38s/it]"
     ]
    },
    {
     "name": "stdout",
     "output_type": "stream",
     "text": [
      "Epoch 36/200:\n",
      "  Train Loss: 0.226712\n",
      "  Val Loss: 0.236972\n",
      "  Learning Rate: 0.00100000\n",
      "--------------------------------------------------\n",
      "Epoch 37, Batch 0, Loss: 0.165426\n",
      "Epoch 37, Batch 10, Loss: 0.161855\n"
     ]
    },
    {
     "name": "stderr",
     "output_type": "stream",
     "text": [
      " 18%|█▊        | 37/200 [00:55<06:27,  2.38s/it]"
     ]
    },
    {
     "name": "stdout",
     "output_type": "stream",
     "text": [
      "Epoch 37/200:\n",
      "  Train Loss: 0.196425\n",
      "  Val Loss: 0.220287\n",
      "  Learning Rate: 0.00100000\n",
      "--------------------------------------------------\n",
      "Epoch 38, Batch 0, Loss: 0.193882\n",
      "Epoch 38, Batch 10, Loss: 0.133928\n"
     ]
    },
    {
     "name": "stderr",
     "output_type": "stream",
     "text": [
      " 19%|█▉        | 38/200 [00:57<06:29,  2.40s/it]"
     ]
    },
    {
     "name": "stdout",
     "output_type": "stream",
     "text": [
      "Epoch 38/200:\n",
      "  Train Loss: 0.155478\n",
      "  Val Loss: 0.392581\n",
      "  Learning Rate: 0.00100000\n",
      "--------------------------------------------------\n",
      "Epoch 39, Batch 0, Loss: 0.106175\n",
      "Epoch 39, Batch 10, Loss: 0.078925\n"
     ]
    },
    {
     "name": "stderr",
     "output_type": "stream",
     "text": [
      " 20%|█▉        | 39/200 [01:00<06:28,  2.41s/it]"
     ]
    },
    {
     "name": "stdout",
     "output_type": "stream",
     "text": [
      "Epoch 39/200:\n",
      "  Train Loss: 0.126940\n",
      "  Val Loss: 0.225093\n",
      "  Learning Rate: 0.00100000\n",
      "--------------------------------------------------\n",
      "Epoch 40, Batch 0, Loss: 0.091439\n",
      "Epoch 40, Batch 10, Loss: 0.141623\n"
     ]
    },
    {
     "name": "stderr",
     "output_type": "stream",
     "text": [
      " 20%|██        | 40/200 [01:02<06:25,  2.41s/it]"
     ]
    },
    {
     "name": "stdout",
     "output_type": "stream",
     "text": [
      "Epoch 40/200:\n",
      "  Train Loss: 0.172411\n",
      "  Val Loss: 1.262534\n",
      "  Learning Rate: 0.00100000\n",
      "--------------------------------------------------\n",
      "Epoch 41, Batch 0, Loss: 0.184478\n",
      "Epoch 41, Batch 10, Loss: 0.400972\n"
     ]
    },
    {
     "name": "stderr",
     "output_type": "stream",
     "text": [
      " 20%|██        | 41/200 [01:04<05:37,  2.12s/it]"
     ]
    },
    {
     "name": "stdout",
     "output_type": "stream",
     "text": [
      "Epoch 41/200:\n",
      "  Train Loss: 0.189404\n",
      "  Val Loss: 0.193177\n",
      "  Learning Rate: 0.00100000\n",
      "--------------------------------------------------\n",
      "Epoch 42, Batch 0, Loss: 0.095718\n",
      "Epoch 42, Batch 10, Loss: 0.143771\n"
     ]
    },
    {
     "name": "stderr",
     "output_type": "stream",
     "text": [
      " 21%|██        | 42/200 [01:05<04:40,  1.77s/it]"
     ]
    },
    {
     "name": "stdout",
     "output_type": "stream",
     "text": [
      "Epoch 42/200:\n",
      "  Train Loss: 0.159329\n",
      "  Val Loss: 0.208218\n",
      "  Learning Rate: 0.00100000\n",
      "--------------------------------------------------\n",
      "Epoch 43, Batch 0, Loss: 0.170149\n",
      "Epoch 43, Batch 10, Loss: 0.090967\n"
     ]
    },
    {
     "name": "stderr",
     "output_type": "stream",
     "text": [
      " 22%|██▏       | 43/200 [01:06<04:00,  1.53s/it]"
     ]
    },
    {
     "name": "stdout",
     "output_type": "stream",
     "text": [
      "Epoch 43/200:\n",
      "  Train Loss: 0.159276\n",
      "  Val Loss: 0.295561\n",
      "  Learning Rate: 0.00100000\n",
      "--------------------------------------------------\n",
      "Epoch 44, Batch 0, Loss: 0.102043\n",
      "Epoch 44, Batch 10, Loss: 0.286736\n"
     ]
    },
    {
     "name": "stderr",
     "output_type": "stream",
     "text": [
      " 22%|██▏       | 44/200 [01:07<03:32,  1.36s/it]"
     ]
    },
    {
     "name": "stdout",
     "output_type": "stream",
     "text": [
      "Epoch 44/200:\n",
      "  Train Loss: 0.151157\n",
      "  Val Loss: 0.551154\n",
      "  Learning Rate: 0.00100000\n",
      "--------------------------------------------------\n",
      "Epoch 45, Batch 0, Loss: 0.207157\n",
      "Epoch 45, Batch 10, Loss: 0.046472\n"
     ]
    },
    {
     "name": "stderr",
     "output_type": "stream",
     "text": [
      " 22%|██▎       | 45/200 [01:08<03:11,  1.24s/it]"
     ]
    },
    {
     "name": "stdout",
     "output_type": "stream",
     "text": [
      "Epoch 45/200:\n",
      "  Train Loss: 0.147806\n",
      "  Val Loss: 0.201943\n",
      "  Learning Rate: 0.00050000\n",
      "--------------------------------------------------\n",
      "Epoch 46, Batch 0, Loss: 0.116506\n",
      "Epoch 46, Batch 10, Loss: 0.498515\n"
     ]
    },
    {
     "name": "stderr",
     "output_type": "stream",
     "text": [
      " 23%|██▎       | 46/200 [01:08<02:57,  1.15s/it]"
     ]
    },
    {
     "name": "stdout",
     "output_type": "stream",
     "text": [
      "Epoch 46/200:\n",
      "  Train Loss: 0.121772\n",
      "  Val Loss: 0.277914\n",
      "  Learning Rate: 0.00050000\n",
      "--------------------------------------------------\n",
      "Epoch 47, Batch 0, Loss: 0.171325\n",
      "Epoch 47, Batch 10, Loss: 0.087463\n"
     ]
    },
    {
     "name": "stderr",
     "output_type": "stream",
     "text": [
      " 24%|██▎       | 47/200 [01:09<02:47,  1.09s/it]"
     ]
    },
    {
     "name": "stdout",
     "output_type": "stream",
     "text": [
      "Epoch 47/200:\n",
      "  Train Loss: 0.157121\n",
      "  Val Loss: 0.287618\n",
      "  Learning Rate: 0.00050000\n",
      "--------------------------------------------------\n",
      "Epoch 48, Batch 0, Loss: 0.071499\n",
      "Epoch 48, Batch 10, Loss: 0.162823\n"
     ]
    },
    {
     "name": "stderr",
     "output_type": "stream",
     "text": [
      " 24%|██▍       | 48/200 [01:10<02:39,  1.05s/it]"
     ]
    },
    {
     "name": "stdout",
     "output_type": "stream",
     "text": [
      "Epoch 48/200:\n",
      "  Train Loss: 0.141695\n",
      "  Val Loss: 0.177916\n",
      "  Learning Rate: 0.00050000\n",
      "--------------------------------------------------\n",
      "New best model saved with validation loss: 0.177916\n",
      "Epoch 49, Batch 0, Loss: 0.206827\n",
      "Epoch 49, Batch 10, Loss: 0.086795\n"
     ]
    },
    {
     "name": "stderr",
     "output_type": "stream",
     "text": [
      " 24%|██▍       | 49/200 [01:11<02:34,  1.02s/it]"
     ]
    },
    {
     "name": "stdout",
     "output_type": "stream",
     "text": [
      "Epoch 49/200:\n",
      "  Train Loss: 0.126527\n",
      "  Val Loss: 0.177136\n",
      "  Learning Rate: 0.00050000\n",
      "--------------------------------------------------\n",
      "New best model saved with validation loss: 0.177136\n",
      "Epoch 50, Batch 0, Loss: 0.090086\n",
      "Epoch 50, Batch 10, Loss: 0.210840\n"
     ]
    },
    {
     "name": "stderr",
     "output_type": "stream",
     "text": [
      " 25%|██▌       | 50/200 [01:12<02:30,  1.00s/it]"
     ]
    },
    {
     "name": "stdout",
     "output_type": "stream",
     "text": [
      "Epoch 50/200:\n",
      "  Train Loss: 0.123301\n",
      "  Val Loss: 0.165723\n",
      "  Learning Rate: 0.00050000\n",
      "--------------------------------------------------\n",
      "New best model saved with validation loss: 0.165723\n",
      "Epoch 51, Batch 0, Loss: 0.102185\n",
      "Epoch 51, Batch 10, Loss: 0.103104\n"
     ]
    },
    {
     "name": "stderr",
     "output_type": "stream",
     "text": [
      " 26%|██▌       | 51/200 [01:13<02:27,  1.01it/s]"
     ]
    },
    {
     "name": "stdout",
     "output_type": "stream",
     "text": [
      "Epoch 51/200:\n",
      "  Train Loss: 0.133913\n",
      "  Val Loss: 0.986807\n",
      "  Learning Rate: 0.00050000\n",
      "--------------------------------------------------\n",
      "Epoch 52, Batch 0, Loss: 0.303272\n",
      "Epoch 52, Batch 10, Loss: 0.039309\n"
     ]
    },
    {
     "name": "stderr",
     "output_type": "stream",
     "text": [
      " 26%|██▌       | 52/200 [01:14<02:24,  1.02it/s]"
     ]
    },
    {
     "name": "stdout",
     "output_type": "stream",
     "text": [
      "Epoch 52/200:\n",
      "  Train Loss: 0.095690\n",
      "  Val Loss: 0.306685\n",
      "  Learning Rate: 0.00050000\n",
      "--------------------------------------------------\n",
      "Epoch 53, Batch 0, Loss: 0.053270\n",
      "Epoch 53, Batch 10, Loss: 0.043225\n"
     ]
    },
    {
     "name": "stderr",
     "output_type": "stream",
     "text": [
      " 26%|██▋       | 53/200 [01:15<02:23,  1.02it/s]"
     ]
    },
    {
     "name": "stdout",
     "output_type": "stream",
     "text": [
      "Epoch 53/200:\n",
      "  Train Loss: 0.110344\n",
      "  Val Loss: 0.348965\n",
      "  Learning Rate: 0.00050000\n",
      "--------------------------------------------------\n",
      "Epoch 54, Batch 0, Loss: 0.147122\n",
      "Epoch 54, Batch 10, Loss: 0.095408\n"
     ]
    },
    {
     "name": "stderr",
     "output_type": "stream",
     "text": [
      " 27%|██▋       | 54/200 [01:16<02:21,  1.03it/s]"
     ]
    },
    {
     "name": "stdout",
     "output_type": "stream",
     "text": [
      "Epoch 54/200:\n",
      "  Train Loss: 0.116468\n",
      "  Val Loss: 0.208543\n",
      "  Learning Rate: 0.00050000\n",
      "--------------------------------------------------\n",
      "Epoch 55, Batch 0, Loss: 0.104093\n",
      "Epoch 55, Batch 10, Loss: 0.111100\n"
     ]
    },
    {
     "name": "stderr",
     "output_type": "stream",
     "text": [
      " 28%|██▊       | 55/200 [01:17<02:19,  1.04it/s]"
     ]
    },
    {
     "name": "stdout",
     "output_type": "stream",
     "text": [
      "Epoch 55/200:\n",
      "  Train Loss: 0.119733\n",
      "  Val Loss: 0.250366\n",
      "  Learning Rate: 0.00050000\n",
      "--------------------------------------------------\n",
      "Epoch 56, Batch 0, Loss: 0.096216\n",
      "Epoch 56, Batch 10, Loss: 0.111955\n"
     ]
    },
    {
     "name": "stderr",
     "output_type": "stream",
     "text": [
      " 28%|██▊       | 56/200 [01:18<02:19,  1.03it/s]"
     ]
    },
    {
     "name": "stdout",
     "output_type": "stream",
     "text": [
      "Epoch 56/200:\n",
      "  Train Loss: 0.114806\n",
      "  Val Loss: 0.372210\n",
      "  Learning Rate: 0.00050000\n",
      "--------------------------------------------------\n",
      "Epoch 57, Batch 0, Loss: 0.129759\n",
      "Epoch 57, Batch 10, Loss: 0.122947\n"
     ]
    },
    {
     "name": "stderr",
     "output_type": "stream",
     "text": [
      " 28%|██▊       | 57/200 [01:19<02:18,  1.03it/s]"
     ]
    },
    {
     "name": "stdout",
     "output_type": "stream",
     "text": [
      "Epoch 57/200:\n",
      "  Train Loss: 0.125388\n",
      "  Val Loss: 0.195397\n",
      "  Learning Rate: 0.00050000\n",
      "--------------------------------------------------\n",
      "Epoch 58, Batch 0, Loss: 0.043604\n",
      "Epoch 58, Batch 10, Loss: 0.094867\n"
     ]
    },
    {
     "name": "stderr",
     "output_type": "stream",
     "text": [
      " 29%|██▉       | 58/200 [01:20<02:16,  1.04it/s]"
     ]
    },
    {
     "name": "stdout",
     "output_type": "stream",
     "text": [
      "Epoch 58/200:\n",
      "  Train Loss: 0.119563\n",
      "  Val Loss: 0.250055\n",
      "  Learning Rate: 0.00050000\n",
      "--------------------------------------------------\n",
      "Epoch 59, Batch 0, Loss: 0.108073\n",
      "Epoch 59, Batch 10, Loss: 0.121259\n"
     ]
    },
    {
     "name": "stderr",
     "output_type": "stream",
     "text": [
      " 30%|██▉       | 59/200 [01:21<02:15,  1.04it/s]"
     ]
    },
    {
     "name": "stdout",
     "output_type": "stream",
     "text": [
      "Epoch 59/200:\n",
      "  Train Loss: 0.118482\n",
      "  Val Loss: 0.264256\n",
      "  Learning Rate: 0.00050000\n",
      "--------------------------------------------------\n",
      "Epoch 60, Batch 0, Loss: 0.050009\n",
      "Epoch 60, Batch 10, Loss: 0.209523\n"
     ]
    },
    {
     "name": "stderr",
     "output_type": "stream",
     "text": [
      " 30%|███       | 60/200 [01:22<02:14,  1.04it/s]"
     ]
    },
    {
     "name": "stdout",
     "output_type": "stream",
     "text": [
      "Epoch 60/200:\n",
      "  Train Loss: 0.119923\n",
      "  Val Loss: 0.197767\n",
      "  Learning Rate: 0.00050000\n",
      "--------------------------------------------------\n",
      "Epoch 61, Batch 0, Loss: 0.094484\n",
      "Epoch 61, Batch 10, Loss: 0.252512\n"
     ]
    },
    {
     "name": "stderr",
     "output_type": "stream",
     "text": [
      " 30%|███       | 61/200 [01:23<02:13,  1.04it/s]"
     ]
    },
    {
     "name": "stdout",
     "output_type": "stream",
     "text": [
      "Epoch 61/200:\n",
      "  Train Loss: 0.126973\n",
      "  Val Loss: 0.370328\n",
      "  Learning Rate: 0.00050000\n",
      "--------------------------------------------------\n",
      "Epoch 62, Batch 0, Loss: 0.081240\n",
      "Epoch 62, Batch 10, Loss: 0.097800\n"
     ]
    },
    {
     "name": "stderr",
     "output_type": "stream",
     "text": [
      " 31%|███       | 62/200 [01:24<02:12,  1.04it/s]"
     ]
    },
    {
     "name": "stdout",
     "output_type": "stream",
     "text": [
      "Epoch 62/200:\n",
      "  Train Loss: 0.113337\n",
      "  Val Loss: 0.189418\n",
      "  Learning Rate: 0.00025000\n",
      "--------------------------------------------------\n",
      "Epoch 63, Batch 0, Loss: 0.145183\n",
      "Epoch 63, Batch 10, Loss: 0.091665\n"
     ]
    },
    {
     "name": "stderr",
     "output_type": "stream",
     "text": [
      " 32%|███▏      | 63/200 [01:25<02:12,  1.04it/s]"
     ]
    },
    {
     "name": "stdout",
     "output_type": "stream",
     "text": [
      "Epoch 63/200:\n",
      "  Train Loss: 0.124605\n",
      "  Val Loss: 0.384006\n",
      "  Learning Rate: 0.00025000\n",
      "--------------------------------------------------\n",
      "Epoch 64, Batch 0, Loss: 0.081217\n",
      "Epoch 64, Batch 10, Loss: 0.081939\n"
     ]
    },
    {
     "name": "stderr",
     "output_type": "stream",
     "text": [
      " 32%|███▏      | 64/200 [01:26<02:11,  1.04it/s]"
     ]
    },
    {
     "name": "stdout",
     "output_type": "stream",
     "text": [
      "Epoch 64/200:\n",
      "  Train Loss: 0.088248\n",
      "  Val Loss: 0.163328\n",
      "  Learning Rate: 0.00025000\n",
      "--------------------------------------------------\n",
      "New best model saved with validation loss: 0.163328\n",
      "Epoch 65, Batch 0, Loss: 0.078679\n",
      "Epoch 65, Batch 10, Loss: 0.057704\n"
     ]
    },
    {
     "name": "stderr",
     "output_type": "stream",
     "text": [
      " 32%|███▎      | 65/200 [01:27<02:10,  1.04it/s]"
     ]
    },
    {
     "name": "stdout",
     "output_type": "stream",
     "text": [
      "Epoch 65/200:\n",
      "  Train Loss: 0.098346\n",
      "  Val Loss: 0.155061\n",
      "  Learning Rate: 0.00025000\n",
      "--------------------------------------------------\n",
      "New best model saved with validation loss: 0.155061\n",
      "Epoch 66, Batch 0, Loss: 0.081832\n",
      "Epoch 66, Batch 10, Loss: 0.087641\n"
     ]
    },
    {
     "name": "stderr",
     "output_type": "stream",
     "text": [
      " 33%|███▎      | 66/200 [01:28<02:08,  1.04it/s]"
     ]
    },
    {
     "name": "stdout",
     "output_type": "stream",
     "text": [
      "Epoch 66/200:\n",
      "  Train Loss: 0.095542\n",
      "  Val Loss: 0.264684\n",
      "  Learning Rate: 0.00025000\n",
      "--------------------------------------------------\n",
      "Epoch 67, Batch 0, Loss: 0.035700\n",
      "Epoch 67, Batch 10, Loss: 0.091846\n"
     ]
    },
    {
     "name": "stderr",
     "output_type": "stream",
     "text": [
      " 34%|███▎      | 67/200 [01:29<02:07,  1.04it/s]"
     ]
    },
    {
     "name": "stdout",
     "output_type": "stream",
     "text": [
      "Epoch 67/200:\n",
      "  Train Loss: 0.082144\n",
      "  Val Loss: 0.198573\n",
      "  Learning Rate: 0.00025000\n",
      "--------------------------------------------------\n",
      "Epoch 68, Batch 0, Loss: 0.073430\n",
      "Epoch 68, Batch 10, Loss: 0.118706\n"
     ]
    },
    {
     "name": "stderr",
     "output_type": "stream",
     "text": [
      " 34%|███▍      | 68/200 [01:30<02:06,  1.04it/s]"
     ]
    },
    {
     "name": "stdout",
     "output_type": "stream",
     "text": [
      "Epoch 68/200:\n",
      "  Train Loss: 0.085608\n",
      "  Val Loss: 0.164818\n",
      "  Learning Rate: 0.00025000\n",
      "--------------------------------------------------\n",
      "Epoch 69, Batch 0, Loss: 0.062389\n",
      "Epoch 69, Batch 10, Loss: 0.151212\n"
     ]
    },
    {
     "name": "stderr",
     "output_type": "stream",
     "text": [
      " 34%|███▍      | 69/200 [01:31<02:05,  1.05it/s]"
     ]
    },
    {
     "name": "stdout",
     "output_type": "stream",
     "text": [
      "Epoch 69/200:\n",
      "  Train Loss: 0.086077\n",
      "  Val Loss: 0.195048\n",
      "  Learning Rate: 0.00025000\n",
      "--------------------------------------------------\n",
      "Epoch 70, Batch 0, Loss: 0.036319\n",
      "Epoch 70, Batch 10, Loss: 0.050542\n"
     ]
    },
    {
     "name": "stderr",
     "output_type": "stream",
     "text": [
      " 35%|███▌      | 70/200 [01:31<02:04,  1.05it/s]"
     ]
    },
    {
     "name": "stdout",
     "output_type": "stream",
     "text": [
      "Epoch 70/200:\n",
      "  Train Loss: 0.106473\n",
      "  Val Loss: 0.247589\n",
      "  Learning Rate: 0.00025000\n",
      "--------------------------------------------------\n",
      "Epoch 71, Batch 0, Loss: 0.115365\n",
      "Epoch 71, Batch 10, Loss: 0.056357\n"
     ]
    },
    {
     "name": "stderr",
     "output_type": "stream",
     "text": [
      " 36%|███▌      | 71/200 [01:32<02:03,  1.05it/s]"
     ]
    },
    {
     "name": "stdout",
     "output_type": "stream",
     "text": [
      "Epoch 71/200:\n",
      "  Train Loss: 0.088368\n",
      "  Val Loss: 0.179820\n",
      "  Learning Rate: 0.00025000\n",
      "--------------------------------------------------\n",
      "Epoch 72, Batch 0, Loss: 0.086443\n",
      "Epoch 72, Batch 10, Loss: 0.043917\n"
     ]
    },
    {
     "name": "stderr",
     "output_type": "stream",
     "text": [
      " 36%|███▌      | 72/200 [01:33<02:02,  1.04it/s]"
     ]
    },
    {
     "name": "stdout",
     "output_type": "stream",
     "text": [
      "Epoch 72/200:\n",
      "  Train Loss: 0.100453\n",
      "  Val Loss: 0.168752\n",
      "  Learning Rate: 0.00025000\n",
      "--------------------------------------------------\n",
      "Epoch 73, Batch 0, Loss: 0.051918\n",
      "Epoch 73, Batch 10, Loss: 0.192863\n"
     ]
    },
    {
     "name": "stderr",
     "output_type": "stream",
     "text": [
      " 36%|███▋      | 73/200 [01:34<02:01,  1.04it/s]"
     ]
    },
    {
     "name": "stdout",
     "output_type": "stream",
     "text": [
      "Epoch 73/200:\n",
      "  Train Loss: 0.085782\n",
      "  Val Loss: 0.161244\n",
      "  Learning Rate: 0.00025000\n",
      "--------------------------------------------------\n",
      "Epoch 74, Batch 0, Loss: 0.070871\n",
      "Epoch 74, Batch 10, Loss: 0.064713\n"
     ]
    },
    {
     "name": "stderr",
     "output_type": "stream",
     "text": [
      " 37%|███▋      | 74/200 [01:35<02:00,  1.04it/s]"
     ]
    },
    {
     "name": "stdout",
     "output_type": "stream",
     "text": [
      "Epoch 74/200:\n",
      "  Train Loss: 0.090504\n",
      "  Val Loss: 0.189733\n",
      "  Learning Rate: 0.00025000\n",
      "--------------------------------------------------\n",
      "Epoch 75, Batch 0, Loss: 0.067307\n",
      "Epoch 75, Batch 10, Loss: 0.029035\n"
     ]
    },
    {
     "name": "stderr",
     "output_type": "stream",
     "text": [
      " 38%|███▊      | 75/200 [01:36<02:00,  1.04it/s]"
     ]
    },
    {
     "name": "stdout",
     "output_type": "stream",
     "text": [
      "Epoch 75/200:\n",
      "  Train Loss: 0.072013\n",
      "  Val Loss: 0.162680\n",
      "  Learning Rate: 0.00025000\n",
      "--------------------------------------------------\n",
      "Epoch 76, Batch 0, Loss: 0.082714\n",
      "Epoch 76, Batch 10, Loss: 0.037736\n"
     ]
    },
    {
     "name": "stderr",
     "output_type": "stream",
     "text": [
      " 38%|███▊      | 76/200 [01:37<01:59,  1.04it/s]"
     ]
    },
    {
     "name": "stdout",
     "output_type": "stream",
     "text": [
      "Epoch 76/200:\n",
      "  Train Loss: 0.076527\n",
      "  Val Loss: 0.179408\n",
      "  Learning Rate: 0.00025000\n",
      "--------------------------------------------------\n",
      "Epoch 77, Batch 0, Loss: 0.114869\n",
      "Epoch 77, Batch 10, Loss: 0.107060\n"
     ]
    },
    {
     "name": "stderr",
     "output_type": "stream",
     "text": [
      " 38%|███▊      | 77/200 [01:38<01:57,  1.04it/s]"
     ]
    },
    {
     "name": "stdout",
     "output_type": "stream",
     "text": [
      "Epoch 77/200:\n",
      "  Train Loss: 0.071888\n",
      "  Val Loss: 0.158055\n",
      "  Learning Rate: 0.00012500\n",
      "--------------------------------------------------\n",
      "Epoch 78, Batch 0, Loss: 0.028475\n",
      "Epoch 78, Batch 10, Loss: 0.068852\n"
     ]
    },
    {
     "name": "stderr",
     "output_type": "stream",
     "text": [
      " 39%|███▉      | 78/200 [01:39<01:56,  1.05it/s]"
     ]
    },
    {
     "name": "stdout",
     "output_type": "stream",
     "text": [
      "Epoch 78/200:\n",
      "  Train Loss: 0.082180\n",
      "  Val Loss: 0.216100\n",
      "  Learning Rate: 0.00012500\n",
      "--------------------------------------------------\n",
      "Epoch 79, Batch 0, Loss: 0.116563\n",
      "Epoch 79, Batch 10, Loss: 0.053615\n"
     ]
    },
    {
     "name": "stderr",
     "output_type": "stream",
     "text": [
      " 40%|███▉      | 79/200 [01:40<01:55,  1.04it/s]"
     ]
    },
    {
     "name": "stdout",
     "output_type": "stream",
     "text": [
      "Epoch 79/200:\n",
      "  Train Loss: 0.078071\n",
      "  Val Loss: 0.153090\n",
      "  Learning Rate: 0.00012500\n",
      "--------------------------------------------------\n",
      "New best model saved with validation loss: 0.153090\n",
      "Epoch 80, Batch 0, Loss: 0.057639\n",
      "Epoch 80, Batch 10, Loss: 0.029036\n"
     ]
    },
    {
     "name": "stderr",
     "output_type": "stream",
     "text": [
      " 40%|████      | 80/200 [01:41<01:54,  1.05it/s]"
     ]
    },
    {
     "name": "stdout",
     "output_type": "stream",
     "text": [
      "Epoch 80/200:\n",
      "  Train Loss: 0.083226\n",
      "  Val Loss: 0.157986\n",
      "  Learning Rate: 0.00012500\n",
      "--------------------------------------------------\n",
      "Epoch 81, Batch 0, Loss: 0.092702\n",
      "Epoch 81, Batch 10, Loss: 0.061041\n"
     ]
    },
    {
     "name": "stderr",
     "output_type": "stream",
     "text": [
      " 40%|████      | 81/200 [01:42<01:53,  1.05it/s]"
     ]
    },
    {
     "name": "stdout",
     "output_type": "stream",
     "text": [
      "Epoch 81/200:\n",
      "  Train Loss: 0.074348\n",
      "  Val Loss: 0.203520\n",
      "  Learning Rate: 0.00012500\n",
      "--------------------------------------------------\n",
      "Epoch 82, Batch 0, Loss: 0.090163\n",
      "Epoch 82, Batch 10, Loss: 0.065822\n"
     ]
    },
    {
     "name": "stderr",
     "output_type": "stream",
     "text": [
      " 41%|████      | 82/200 [01:43<01:52,  1.05it/s]"
     ]
    },
    {
     "name": "stdout",
     "output_type": "stream",
     "text": [
      "Epoch 82/200:\n",
      "  Train Loss: 0.077327\n",
      "  Val Loss: 0.153562\n",
      "  Learning Rate: 0.00012500\n",
      "--------------------------------------------------\n",
      "Epoch 83, Batch 0, Loss: 0.081848\n",
      "Epoch 83, Batch 10, Loss: 0.043100\n"
     ]
    },
    {
     "name": "stderr",
     "output_type": "stream",
     "text": [
      " 42%|████▏     | 83/200 [01:44<01:51,  1.05it/s]"
     ]
    },
    {
     "name": "stdout",
     "output_type": "stream",
     "text": [
      "Epoch 83/200:\n",
      "  Train Loss: 0.064473\n",
      "  Val Loss: 0.158073\n",
      "  Learning Rate: 0.00012500\n",
      "--------------------------------------------------\n",
      "Epoch 84, Batch 0, Loss: 0.039710\n",
      "Epoch 84, Batch 10, Loss: 0.074932\n"
     ]
    },
    {
     "name": "stderr",
     "output_type": "stream",
     "text": [
      " 42%|████▏     | 84/200 [01:45<01:50,  1.05it/s]"
     ]
    },
    {
     "name": "stdout",
     "output_type": "stream",
     "text": [
      "Epoch 84/200:\n",
      "  Train Loss: 0.081319\n",
      "  Val Loss: 0.172003\n",
      "  Learning Rate: 0.00012500\n",
      "--------------------------------------------------\n",
      "Epoch 85, Batch 0, Loss: 0.077147\n",
      "Epoch 85, Batch 10, Loss: 0.096687\n"
     ]
    },
    {
     "name": "stderr",
     "output_type": "stream",
     "text": [
      " 42%|████▎     | 85/200 [01:46<01:49,  1.05it/s]"
     ]
    },
    {
     "name": "stdout",
     "output_type": "stream",
     "text": [
      "Epoch 85/200:\n",
      "  Train Loss: 0.073587\n",
      "  Val Loss: 0.177689\n",
      "  Learning Rate: 0.00012500\n",
      "--------------------------------------------------\n",
      "Epoch 86, Batch 0, Loss: 0.100461\n",
      "Epoch 86, Batch 10, Loss: 0.080248\n"
     ]
    },
    {
     "name": "stderr",
     "output_type": "stream",
     "text": [
      " 43%|████▎     | 86/200 [01:47<01:47,  1.06it/s]"
     ]
    },
    {
     "name": "stdout",
     "output_type": "stream",
     "text": [
      "Epoch 86/200:\n",
      "  Train Loss: 0.084919\n",
      "  Val Loss: 0.156762\n",
      "  Learning Rate: 0.00012500\n",
      "--------------------------------------------------\n",
      "Epoch 87, Batch 0, Loss: 0.096108\n",
      "Epoch 87, Batch 10, Loss: 0.098760\n"
     ]
    },
    {
     "name": "stderr",
     "output_type": "stream",
     "text": [
      " 44%|████▎     | 87/200 [01:48<01:46,  1.06it/s]"
     ]
    },
    {
     "name": "stdout",
     "output_type": "stream",
     "text": [
      "Epoch 87/200:\n",
      "  Train Loss: 0.078332\n",
      "  Val Loss: 0.159314\n",
      "  Learning Rate: 0.00012500\n",
      "--------------------------------------------------\n",
      "Epoch 88, Batch 0, Loss: 0.040464\n",
      "Epoch 88, Batch 10, Loss: 0.073448\n"
     ]
    },
    {
     "name": "stderr",
     "output_type": "stream",
     "text": [
      " 44%|████▍     | 88/200 [01:49<01:45,  1.06it/s]"
     ]
    },
    {
     "name": "stdout",
     "output_type": "stream",
     "text": [
      "Epoch 88/200:\n",
      "  Train Loss: 0.072912\n",
      "  Val Loss: 0.255353\n",
      "  Learning Rate: 0.00012500\n",
      "--------------------------------------------------\n",
      "Epoch 89, Batch 0, Loss: 0.091021\n",
      "Epoch 89, Batch 10, Loss: 0.043774\n"
     ]
    },
    {
     "name": "stderr",
     "output_type": "stream",
     "text": [
      " 44%|████▍     | 89/200 [01:50<01:45,  1.06it/s]"
     ]
    },
    {
     "name": "stdout",
     "output_type": "stream",
     "text": [
      "Epoch 89/200:\n",
      "  Train Loss: 0.071002\n",
      "  Val Loss: 0.163693\n",
      "  Learning Rate: 0.00012500\n",
      "--------------------------------------------------\n",
      "Epoch 90, Batch 0, Loss: 0.038687\n",
      "Epoch 90, Batch 10, Loss: 0.096539\n"
     ]
    },
    {
     "name": "stderr",
     "output_type": "stream",
     "text": [
      " 45%|████▌     | 90/200 [01:51<01:43,  1.06it/s]"
     ]
    },
    {
     "name": "stdout",
     "output_type": "stream",
     "text": [
      "Epoch 90/200:\n",
      "  Train Loss: 0.069979\n",
      "  Val Loss: 0.260688\n",
      "  Learning Rate: 0.00012500\n",
      "--------------------------------------------------\n",
      "Epoch 91, Batch 0, Loss: 0.067451\n",
      "Epoch 91, Batch 10, Loss: 0.057047\n"
     ]
    },
    {
     "name": "stderr",
     "output_type": "stream",
     "text": [
      " 46%|████▌     | 91/200 [01:51<01:42,  1.06it/s]"
     ]
    },
    {
     "name": "stdout",
     "output_type": "stream",
     "text": [
      "Epoch 91/200:\n",
      "  Train Loss: 0.075987\n",
      "  Val Loss: 0.163561\n",
      "  Learning Rate: 0.00006250\n",
      "--------------------------------------------------\n",
      "Epoch 92, Batch 0, Loss: 0.118447\n",
      "Epoch 92, Batch 10, Loss: 0.055215\n"
     ]
    },
    {
     "name": "stderr",
     "output_type": "stream",
     "text": [
      " 46%|████▌     | 92/200 [01:52<01:41,  1.06it/s]"
     ]
    },
    {
     "name": "stdout",
     "output_type": "stream",
     "text": [
      "Epoch 92/200:\n",
      "  Train Loss: 0.063603\n",
      "  Val Loss: 0.166409\n",
      "  Learning Rate: 0.00006250\n",
      "--------------------------------------------------\n",
      "Epoch 93, Batch 0, Loss: 0.221317\n",
      "Epoch 93, Batch 10, Loss: 0.051206\n"
     ]
    },
    {
     "name": "stderr",
     "output_type": "stream",
     "text": [
      " 46%|████▋     | 93/200 [01:53<01:42,  1.05it/s]"
     ]
    },
    {
     "name": "stdout",
     "output_type": "stream",
     "text": [
      "Epoch 93/200:\n",
      "  Train Loss: 0.103452\n",
      "  Val Loss: 0.199947\n",
      "  Learning Rate: 0.00006250\n",
      "--------------------------------------------------\n",
      "Epoch 94, Batch 0, Loss: 0.060592\n",
      "Epoch 94, Batch 10, Loss: 0.126258\n"
     ]
    },
    {
     "name": "stderr",
     "output_type": "stream",
     "text": [
      " 47%|████▋     | 94/200 [01:54<01:43,  1.03it/s]"
     ]
    },
    {
     "name": "stdout",
     "output_type": "stream",
     "text": [
      "Epoch 94/200:\n",
      "  Train Loss: 0.079844\n",
      "  Val Loss: 0.153977\n",
      "  Learning Rate: 0.00006250\n",
      "--------------------------------------------------\n",
      "Epoch 95, Batch 0, Loss: 0.047181\n",
      "Epoch 95, Batch 10, Loss: 0.100328\n"
     ]
    },
    {
     "name": "stderr",
     "output_type": "stream",
     "text": [
      " 48%|████▊     | 95/200 [01:55<01:45,  1.00s/it]"
     ]
    },
    {
     "name": "stdout",
     "output_type": "stream",
     "text": [
      "Epoch 95/200:\n",
      "  Train Loss: 0.066599\n",
      "  Val Loss: 0.183114\n",
      "  Learning Rate: 0.00006250\n",
      "--------------------------------------------------\n",
      "Epoch 96, Batch 0, Loss: 0.060433\n",
      "Epoch 96, Batch 10, Loss: 0.091348\n"
     ]
    },
    {
     "name": "stderr",
     "output_type": "stream",
     "text": [
      " 48%|████▊     | 96/200 [01:57<01:45,  1.02s/it]"
     ]
    },
    {
     "name": "stdout",
     "output_type": "stream",
     "text": [
      "Epoch 96/200:\n",
      "  Train Loss: 0.063582\n",
      "  Val Loss: 0.159076\n",
      "  Learning Rate: 0.00006250\n",
      "--------------------------------------------------\n",
      "Epoch 97, Batch 0, Loss: 0.026884\n",
      "Epoch 97, Batch 10, Loss: 0.054041\n"
     ]
    },
    {
     "name": "stderr",
     "output_type": "stream",
     "text": [
      " 48%|████▊     | 97/200 [01:58<01:44,  1.02s/it]"
     ]
    },
    {
     "name": "stdout",
     "output_type": "stream",
     "text": [
      "Epoch 97/200:\n",
      "  Train Loss: 0.066056\n",
      "  Val Loss: 0.161798\n",
      "  Learning Rate: 0.00006250\n",
      "--------------------------------------------------\n",
      "Epoch 98, Batch 0, Loss: 0.051363\n",
      "Epoch 98, Batch 10, Loss: 0.080262\n"
     ]
    },
    {
     "name": "stderr",
     "output_type": "stream",
     "text": [
      " 49%|████▉     | 98/200 [01:59<02:04,  1.22s/it]"
     ]
    },
    {
     "name": "stdout",
     "output_type": "stream",
     "text": [
      "Epoch 98/200:\n",
      "  Train Loss: 0.071995\n",
      "  Val Loss: 0.161723\n",
      "  Learning Rate: 0.00006250\n",
      "--------------------------------------------------\n",
      "Epoch 99, Batch 0, Loss: 0.025340\n",
      "Epoch 99, Batch 10, Loss: 0.053503\n"
     ]
    },
    {
     "name": "stderr",
     "output_type": "stream",
     "text": [
      " 49%|████▉     | 98/200 [02:02<02:07,  1.25s/it]"
     ]
    },
    {
     "name": "stdout",
     "output_type": "stream",
     "text": [
      "Epoch 99/200:\n",
      "  Train Loss: 0.063244\n",
      "  Val Loss: 0.177559\n",
      "  Learning Rate: 0.00006250\n",
      "--------------------------------------------------\n",
      "Early stopping triggered after 99 epochs\n"
     ]
    },
    {
     "name": "stderr",
     "output_type": "stream",
     "text": [
      "\n"
     ]
    }
   ],
   "source": [
    "# Initialize model\n",
    "model = ProteinCNN(\n",
    "    num_amino_acids=20,  # Standard amino acids\n",
    "    num_filters=128,\n",
    "    dropout_rate=0.5\n",
    ").to(device)\n",
    "\n",
    "# Train model\n",
    "print(\"Starting training...\")\n",
    "trained_model, train_losses, val_losses, learning_rates = train_cnn_model(\n",
    "    model=model,\n",
    "    train_loader=train_loader,\n",
    "    val_loader=val_loader,\n",
    "    num_epochs=200,\n",
    "    learning_rate=0.001\n",
    ")\n"
   ]
  },
  {
   "cell_type": "code",
   "execution_count": 25,
   "id": "934d781e",
   "metadata": {},
   "outputs": [
    {
     "name": "stdout",
     "output_type": "stream",
     "text": [
      "\n",
      "Evaluating model on test set...\n",
      "\n",
      "Model Evaluation Results:\n",
      "Normalized metrics:\n",
      "  R² Score: 0.7492\n",
      "  RMSE: 0.5008\n",
      "  MAE: 0.3179\n",
      "  Median AE: 0.1667\n",
      "\n",
      "Original scale metrics:\n",
      "  R² Score: 0.7492\n",
      "  RMSE: 33.4658\n",
      "  MAE: 21.2409\n",
      "  Median AE: 11.1391\n"
     ]
    },
    {
     "data": {
      "image/png": "[encoded data removed]",
      "text/plain": [
       "<Figure size 1500x1000 with 4 Axes>"
      ]
     },
     "metadata": {},
     "output_type": "display_data"
    }
   ],
   "source": [
    "# Evaluate model on test set\n",
    "print(\"\\nEvaluating model on test set...\")\n",
    "evaluation_results = evaluate_model(\n",
    "    model=trained_model,\n",
    "    data_loader=test_loader,\n",
    "    dataset=train_dataset,  # For normalization parameters\n",
    "    fpbase_dataset=dataset,\n",
    "    target_name='ex_max'\n",
    ")\n",
    "\n",
    "# Plot training history\n",
    "plot_training_history(train_losses, val_losses, learning_rates)\n"
   ]
  }
 ],
 "metadata": {
  "kernelspec": {
   "display_name": "venv",
   "language": "python",
   "name": "python3"
  },
  "language_info": {
   "codemirror_mode": {
    "name": "ipython",
    "version": 3
   },
   "file_extension": ".py",
   "mimetype": "text/x-python",
   "name": "python",
   "nbconvert_exporter": "python",
   "pygments_lexer": "ipython3",
   "version": "3.10.0"
  }
 },
 "nbformat": 4,
 "nbformat_minor": 5
}

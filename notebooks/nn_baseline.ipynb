{
 "cells": [
  {
   "cell_type": "code",
   "execution_count": 8,
   "id": "ad4d4111",
   "metadata": {},
   "outputs": [],
   "source": [
    "import torch\n",
    "import torch.nn as nn\n",
    "import torch.nn.functional as F\n",
    "import numpy as np\n",
    "from torch.utils.data import Dataset, DataLoader\n"
   ]
  },
  {
   "cell_type": "code",
   "execution_count": 9,
   "id": "fda49740",
   "metadata": {},
   "outputs": [
    {
     "data": {
      "text/plain": [
       "'cuda'"
      ]
     },
     "execution_count": 9,
     "metadata": {},
     "output_type": "execute_result"
    }
   ],
   "source": [
    "device = \"cuda\" if torch.cuda.is_available() else \"cpu\"\n",
    "device"
   ]
  },
  {
   "cell_type": "code",
   "execution_count": 10,
   "id": "9d27351e",
   "metadata": {},
   "outputs": [],
   "source": [
    "import torch\n",
    "import torch.nn as nn\n",
    "import torch.nn.functional as F\n",
    "import numpy as np\n",
    "from torch.utils.data import Dataset, DataLoader\n",
    "from sklearn.preprocessing import StandardScaler\n",
    "import pandas as pd\n",
    "\n",
    "# Define the amino acid alphabet\n",
    "AMINO_ACIDS = 'ACDEFGHIKLMNPQRSTVWY'\n",
    "AA_TO_IDX = {aa: idx for idx, aa in enumerate(AMINO_ACIDS)}\n",
    "IDX_TO_AA = {idx: aa for idx, aa in enumerate(AMINO_ACIDS)}\n",
    "\n",
    "class ProteinDataset(Dataset):\n",
    "    \"\"\"\n",
    "    Custom dataset class for protein sequences and their properties.\n",
    "    \n",
    "    This class handles the conversion from amino acid sequences to numerical\n",
    "    representations and manages the relationship between sequences and their\n",
    "    target properties.\n",
    "    \"\"\"\n",
    "    \n",
    "    def __init__(self, sequences, targets, max_length=500):\n",
    "        # If sequences/targets are pandas Series – drop old index and convert\n",
    "        if isinstance(sequences, pd.Series):\n",
    "            sequences = sequences.reset_index(drop=True).tolist()\n",
    "        if isinstance(targets, pd.Series):\n",
    "            targets = targets.reset_index(drop=True).tolist()\n",
    "\n",
    "        self.sequences = sequences          # now a simple Python list\n",
    "        self.targets   = targets            # plain list as well\n",
    "        self.max_length = max_length\n",
    "\n",
    "        # Normalise targets\n",
    "        self.target_scaler = StandardScaler()\n",
    "        self.normalized_targets = self.target_scaler.fit_transform(\n",
    "            np.array(self.targets).reshape(-1, 1)\n",
    "        ).flatten()\n",
    "\n",
    "    def __len__(self):\n",
    "        return len(self.sequences)\n",
    "\n",
    "    def __getitem__(self, idx):\n",
    "        sequence = self.sequences[idx]\n",
    "        target   = self.normalized_targets[idx]\n",
    "\n",
    "        sequence_tensor = self.sequence_to_tensor(sequence)\n",
    "        target_tensor   = torch.tensor(target, dtype=torch.float32)\n",
    "        return sequence_tensor, target_tensor\n",
    "    \n",
    "    def sequence_to_tensor(self, sequence):\n",
    "        \"\"\"\n",
    "        Convert a protein sequence string to a one-hot encoded tensor.\n",
    "        \n",
    "        This function handles padding and truncation to ensure all sequences\n",
    "        have the same length.\n",
    "        \"\"\"\n",
    "        # Truncate if too long\n",
    "        if len(sequence) > self.max_length:\n",
    "            sequence = sequence[:self.max_length]\n",
    "        \n",
    "        # Create one-hot encoding\n",
    "        tensor = torch.zeros(self.max_length, len(AMINO_ACIDS))\n",
    "        \n",
    "        for i, aa in enumerate(sequence):\n",
    "            if aa in AA_TO_IDX:\n",
    "                tensor[i, AA_TO_IDX[aa]] = 1.0\n",
    "        \n",
    "        return tensor\n",
    "    \n",
    "    def denormalize_target(self, normalized_value):\n",
    "        \"\"\"\n",
    "        Convert normalized target back to original scale.\n",
    "        \n",
    "        This is useful for interpreting model predictions.\n",
    "        \"\"\"\n",
    "        return self.target_scaler.inverse_transform([[normalized_value]])[0][0]"
   ]
  },
  {
   "cell_type": "code",
   "execution_count": 11,
   "id": "7ddebc5c",
   "metadata": {},
   "outputs": [],
   "source": [
    "import torch\n",
    "import torch.nn as nn\n",
    "import torch.nn.functional as F\n",
    "\n",
    "class ProteinCNN(nn.Module):\n",
    "    \"\"\"\n",
    "    An intermediate CNN that balances complexity and regularization.\n",
    "    - Restores one deeper convolutional layer to capture hierarchical patterns.\n",
    "    - Uses a moderately sized fully-connected head.\n",
    "    \"\"\" \n",
    "\n",
    "    def __init__(self, num_amino_acids=21, embedding_dim=64, num_filters=96, dropout_rate=0.4):\n",
    "        \"\"\"\n",
    "        Initialize the intermediate CNN architecture.\n",
    "        \n",
    "        Args:\n",
    "            num_amino_acids: Vocabulary size (e.g., 20 + 1 for padding).\n",
    "            embedding_dim: Size of the learned embedding vector.\n",
    "            num_filters: Number of filters. Increased slightly to 96 to give more capacity.\n",
    "            dropout_rate: A more moderate dropout rate.\n",
    "        \"\"\"\n",
    "        super(ProteinCNN, self).__init__()\n",
    "\n",
    "        self.embedding = nn.Embedding(num_embeddings=num_amino_acids, embedding_dim=embedding_dim)\n",
    "\n",
    "        # First block of convolutions with different kernel sizes\n",
    "        self.conv1 = nn.Conv1d(embedding_dim, num_filters, kernel_size=3, padding=1)\n",
    "        self.conv2 = nn.Conv1d(embedding_dim, num_filters, kernel_size=5, padding=2)\n",
    "        self.conv3 = nn.Conv1d(embedding_dim, num_filters, kernel_size=7, padding=3)\n",
    "\n",
    "        self.batch_norm1 = nn.BatchNorm1d(num_filters)\n",
    "        self.batch_norm2 = nn.BatchNorm1d(num_filters)\n",
    "        self.batch_norm3 = nn.BatchNorm1d(num_filters)\n",
    "\n",
    "        # --- RESTORED a deeper convolutional layer ---\n",
    "        # This allows the model to learn combinations of the initial motifs.\n",
    "        # It takes the concatenated output (num_filters * 3) as input.\n",
    "        self.conv4 = nn.Conv1d(num_filters * 3, num_filters * 2, kernel_size=3, padding=1)\n",
    "        self.batch_norm4 = nn.BatchNorm1d(num_filters * 2)\n",
    "        \n",
    "        self.global_pool = nn.AdaptiveAvgPool1d(1)\n",
    "        \n",
    "        # --- FC head is more powerful than before, but simpler than original ---\n",
    "        # The input is from conv4, which has num_filters * 2 channels.\n",
    "        self.fc1 = nn.Linear(num_filters * 2, 256) \n",
    "        self.fc_out = nn.Linear(256, 1)\n",
    "        \n",
    "        self.dropout = nn.Dropout(dropout_rate)\n",
    "\n",
    "    def forward(self, x_one_hot):\n",
    "        \"\"\"\n",
    "        Forward pass.\n",
    "        \n",
    "        Args:\n",
    "            x_one_hot: Input tensor of one-hot vectors [batch, seq_len, num_amino_acids]\n",
    "        \"\"\"\n",
    "        # Convert one-hot to indices on the fly\n",
    "        x_indices = torch.argmax(x_one_hot, dim=2)\n",
    "        \n",
    "        x = self.embedding(x_indices)\n",
    "        x = x.transpose(1, 2)\n",
    "        \n",
    "        # First conv block\n",
    "        conv1_out = F.relu(self.batch_norm1(self.conv1(x)))\n",
    "        conv2_out = F.relu(self.batch_norm2(self.conv2(x)))\n",
    "        conv3_out = F.relu(self.batch_norm3(self.conv3(x)))\n",
    "        \n",
    "        x = torch.cat([conv1_out, conv2_out, conv3_out], dim=1)\n",
    "        \n",
    "        # --- Apply the deeper conv layer ---\n",
    "        x = F.relu(self.batch_norm4(self.conv4(x)))\n",
    "        x = self.dropout(x) # Apply dropout after the main conv blocks\n",
    "        \n",
    "        x = self.global_pool(x)\n",
    "        x = x.view(x.size(0), -1)\n",
    "        \n",
    "        # FC layers\n",
    "        x = F.relu(self.fc1(x))\n",
    "        x = self.dropout(x)\n",
    "        \n",
    "        x = self.fc_out(x)\n",
    "        \n",
    "        return x"
   ]
  },
  {
   "cell_type": "code",
   "execution_count": 12,
   "id": "0c2f0fd9",
   "metadata": {},
   "outputs": [
    {
     "name": "stdout",
     "output_type": "stream",
     "text": [
      "Training on: cuda\n"
     ]
    }
   ],
   "source": [
    "import torch\n",
    "import torch.nn as nn\n",
    "import torch.optim as optim\n",
    "from torch.utils.data import DataLoader, random_split\n",
    "import numpy as np\n",
    "import matplotlib.pyplot as plt\n",
    "from fpgen.prop_prediction.metrics import get_regression_metrics\n",
    "import time\n",
    "\n",
    "# Set random seeds for reproducibility\n",
    "# This ensures that your results are consistent across runs\n",
    "torch.manual_seed(42)\n",
    "np.random.seed(42)\n",
    "\n",
    "# Check if GPU is available\n",
    "device = torch.device('cuda' if torch.cuda.is_available() else 'cpu')\n",
    "print(f\"Training on: {device}\")"
   ]
  },
  {
   "cell_type": "code",
   "execution_count": 13,
   "id": "a45656fc",
   "metadata": {},
   "outputs": [],
   "source": [
    "import tqdm\n",
    "\n",
    "\n",
    "def train_cnn_model(model, train_loader, val_loader, num_epochs=100, learning_rate=0.001):\n",
    "    \"\"\"\n",
    "    Train the CNN model with careful monitoring and early stopping.\n",
    "    \n",
    "    This function implements best practices for training neural networks on small datasets,\n",
    "    including learning rate scheduling, early stopping, and comprehensive monitoring.\n",
    "    \"\"\"\n",
    "    print(torch.cuda.device_count())\n",
    "    torch.cuda.set_device(0)\n",
    "    # Move model to the appropriate device (GPU if available)\n",
    "    model = model.to(device)\n",
    "    # print devices\n",
    "    \n",
    "    \n",
    "    # Choose optimizer and loss function\n",
    "    # Adam is generally a good choice for CNNs because it adapts the learning rate\n",
    "    optimizer = optim.Adam(model.parameters(), lr=learning_rate, weight_decay=1e-5)\n",
    "    \n",
    "    # Mean Squared Error for regression tasks\n",
    "    criterion = nn.MSELoss()\n",
    "    \n",
    "    # Learning rate scheduler - reduces learning rate when validation loss plateaus\n",
    "    scheduler = optim.lr_scheduler.ReduceLROnPlateau(\n",
    "        optimizer, mode='min', patience=10, factor=0.5\n",
    "    )\n",
    "    \n",
    "    # Early stopping to prevent overfitting\n",
    "    best_val_loss = float('inf')\n",
    "    patience_counter = 0\n",
    "    early_stopping_patience = 20\n",
    "    \n",
    "    # Track training history\n",
    "    train_losses = []\n",
    "    val_losses = []\n",
    "    learning_rates = []\n",
    "    \n",
    "    print(\"Starting training...\")\n",
    "    print(f\"Training batches per epoch: {len(train_loader)}\")\n",
    "    print(f\"Validation batches per epoch: {len(val_loader)}\")\n",
    "    \n",
    "    for epoch in tqdm.tqdm(range(num_epochs)):\n",
    "        # Training phase\n",
    "        model.train()  # Set model to training mode\n",
    "        train_loss = 0.0\n",
    "        train_batches = 0\n",
    "        for batch_idx, (sequences, targets) in enumerate(train_loader):\n",
    "            # Move data to device\n",
    "            sequences = sequences.to(device)\n",
    "            targets = targets.to(device)\n",
    "\n",
    "            # Zero the gradients\n",
    "            optimizer.zero_grad()\n",
    "            \n",
    "            # Forward pass\n",
    "            predictions = model(sequences)\n",
    "            \n",
    "            # Calculate loss\n",
    "            loss = criterion(predictions.squeeze(), targets)\n",
    "            \n",
    "            # Backward pass\n",
    "            loss.backward()\n",
    "            \n",
    "            # Gradient clipping to prevent exploding gradients\n",
    "            torch.nn.utils.clip_grad_norm_(model.parameters(), max_norm=1.0)\n",
    "            \n",
    "            # Update parameters\n",
    "            optimizer.step()\n",
    "            \n",
    "            train_loss += loss.item()\n",
    "            train_batches += 1\n",
    "            \n",
    "            # Print progress every 10 batches\n",
    "            if batch_idx % 10 == 0:\n",
    "                print(f'Epoch {epoch+1}, Batch {batch_idx}, Loss: {loss.item():.6f}')\n",
    "        \n",
    "        # Calculate average training loss\n",
    "        avg_train_loss = train_loss / train_batches\n",
    "        \n",
    "        # Validation phase\n",
    "        model.eval()  # Set model to evaluation mode\n",
    "        val_loss = 0.0\n",
    "        val_batches = 0\n",
    "        \n",
    "        with torch.no_grad():  # Disable gradient computation for efficiency\n",
    "            for sequences, targets in val_loader:\n",
    "                sequences = sequences.to(device)\n",
    "                targets = targets.to(device)\n",
    "                \n",
    "                predictions = model(sequences)\n",
    "                loss = criterion(predictions.squeeze(), targets)\n",
    "                \n",
    "                val_loss += loss.item()\n",
    "                val_batches += 1\n",
    "        \n",
    "        avg_val_loss = val_loss / val_batches\n",
    "        \n",
    "        # Record history\n",
    "        train_losses.append(avg_train_loss)\n",
    "        val_losses.append(avg_val_loss)\n",
    "        learning_rates.append(optimizer.param_groups[0]['lr'])\n",
    "        \n",
    "        # Print epoch summary\n",
    "        print(f'Epoch {epoch+1}/{num_epochs}:')\n",
    "        print(f'  Train Loss: {avg_train_loss:.6f}')\n",
    "        print(f'  Val Loss: {avg_val_loss:.6f}')\n",
    "        print(f'  Learning Rate: {optimizer.param_groups[0][\"lr\"]:.8f}')\n",
    "        print('-' * 50)\n",
    "        \n",
    "        # Learning rate scheduling\n",
    "        scheduler.step(avg_val_loss)\n",
    "        \n",
    "        # Early stopping check\n",
    "        if avg_val_loss < best_val_loss:\n",
    "            best_val_loss = avg_val_loss\n",
    "            patience_counter = 0\n",
    "            # Save the best model\n",
    "            torch.save(model.state_dict(), 'best_cnn_model.pth')\n",
    "            print(f'New best model saved with validation loss: {best_val_loss:.6f}')\n",
    "        else:\n",
    "            patience_counter += 1\n",
    "            \n",
    "        if patience_counter >= early_stopping_patience:\n",
    "            print(f'Early stopping triggered after {epoch+1} epochs')\n",
    "            break\n",
    "    \n",
    "    # Load the best model\n",
    "    model.load_state_dict(torch.load('best_cnn_model.pth'))\n",
    "    \n",
    "    return model, train_losses, val_losses, learning_rates"
   ]
  },
  {
   "cell_type": "code",
   "execution_count": 14,
   "id": "daa1b7b8",
   "metadata": {},
   "outputs": [],
   "source": [
    "def setup_data_loaders(fpbase_dataset, target_name='ex_max', batch_size=32, val_split=0.2):\n",
    "    \"\"\"\n",
    "    Create training and validation data loaders using FPbase's train/test split.\n",
    "    \n",
    "    Args:\n",
    "        fpbase_dataset: Instance of FPbase class\n",
    "        target_name: Name of the target property (e.g., 'ex_max')\n",
    "        batch_size: Batch size for DataLoader\n",
    "        val_split: Fraction of training data to use for validation\n",
    "    \n",
    "    Returns:\n",
    "        train_loader: DataLoader for training data\n",
    "        val_loader: DataLoader for validation data\n",
    "        test_loader: DataLoader for test data\n",
    "        train_dataset: ProteinDataset instance for training data\n",
    "    \"\"\"\n",
    "    \n",
    "    # Get train and test data from FPbase\n",
    "    x_train, y_train = fpbase_dataset.get_train(target_name, is_scaled=True)\n",
    "    x_test, y_test = fpbase_dataset.get_test(target_name, is_scaled=True)\n",
    "    \n",
    "    # Create full training dataset\n",
    "    train_full_dataset = ProteinDataset(x_train, y_train, max_length=500)\n",
    "    \n",
    "    # Split training data into train and validation\n",
    "    total_size = len(train_full_dataset)\n",
    "    train_size = int((1 - val_split) * total_size)\n",
    "    val_size = total_size - train_size\n",
    "    \n",
    "    print(f\"Full training set size: {total_size}\")\n",
    "    print(f\"Training set size: {train_size}\")\n",
    "    print(f\"Validation set size: {val_size}\")\n",
    "    print(f\"Test set size: {len(x_test)}\")\n",
    "    \n",
    "    # Split training dataset into train and validation\n",
    "    train_dataset, val_dataset = random_split(\n",
    "        train_full_dataset, \n",
    "        [train_size, val_size],\n",
    "        generator=torch.Generator().manual_seed(42)  # For reproducibility\n",
    "    )\n",
    "    \n",
    "    # Create test dataset\n",
    "    test_dataset = ProteinDataset(x_test, y_test, max_length=500)\n",
    "    \n",
    "    # Create data loaders\n",
    "    train_loader = DataLoader(\n",
    "        train_dataset, \n",
    "        batch_size=batch_size, \n",
    "        shuffle=True,\n",
    "        num_workers=0,\n",
    "        pin_memory=True if torch.cuda.is_available() else False\n",
    "    )\n",
    "    \n",
    "    val_loader = DataLoader(\n",
    "        val_dataset, \n",
    "        batch_size=batch_size, \n",
    "        shuffle=False,\n",
    "        num_workers=0,\n",
    "        pin_memory=True if torch.cuda.is_available() else False\n",
    "    )\n",
    "    \n",
    "    test_loader = DataLoader(\n",
    "        test_dataset,\n",
    "        batch_size=batch_size,\n",
    "        shuffle=False,\n",
    "        num_workers=0,\n",
    "        pin_memory=True if torch.cuda.is_available() else False\n",
    "    )\n",
    "    \n",
    "    return train_loader, val_loader, test_loader, train_full_dataset"
   ]
  },
  {
   "cell_type": "code",
   "execution_count": 22,
   "id": "f6790103",
   "metadata": {},
   "outputs": [],
   "source": [
    "def evaluate_model(model, data_loader, dataset, fpbase_dataset, target_name='ex_max'):\n",
    "    \"\"\"\n",
    "    Evaluate the trained model and calculate performance metrics.\n",
    "    \n",
    "    This function provides comprehensive evaluation including predictions\n",
    "    on both normalized and original scales using FPbase rescaling.\n",
    "    \n",
    "    Args:\n",
    "        model: The trained model\n",
    "        data_loader: DataLoader with test/validation data\n",
    "        dataset: ProteinDataset instance\n",
    "        fpbase_dataset: FPbase instance for proper rescaling\n",
    "        target_name: Name of the target property (default: 'ex_max')\n",
    "    \"\"\"\n",
    "    \n",
    "    model.eval()\n",
    "    all_predictions = []\n",
    "    all_targets = []\n",
    "    \n",
    "    with torch.no_grad():\n",
    "        for sequences, targets in data_loader:\n",
    "            sequences = sequences.to(device)\n",
    "            targets = targets.to(device)\n",
    "            \n",
    "            predictions = model(sequences)\n",
    "            \n",
    "            all_predictions.extend(predictions.squeeze().cpu().numpy())\n",
    "            all_targets.extend(targets.cpu().numpy())\n",
    "    \n",
    "    # Convert to numpy arrays\n",
    "    all_predictions = np.array(all_predictions)\n",
    "    all_targets = np.array(all_targets)\n",
    "    \n",
    "    # Calculate metrics on normalized scale\n",
    "    metrics_normalized = get_regression_metrics(all_predictions, all_targets)\n",
    "    \n",
    "    # Rescale using FPbase for interpretable metrics\n",
    "    targets_original = fpbase_dataset.rescale_targets(all_targets, target_name)\n",
    "    predictions_original = fpbase_dataset.rescale_targets(all_predictions, target_name)\n",
    "    \n",
    "    # Calculate metrics on original scale\n",
    "    metrics_original = get_regression_metrics(predictions_original, targets_original)\n",
    "    \n",
    "    print(\"\\nModel Evaluation Results:\")\n",
    "    print(f\"Normalized metrics:\")\n",
    "    print(f\"  R² Score: {metrics_normalized['r2']:.4f}\")\n",
    "    print(f\"  RMSE: {metrics_normalized['rmse']:.4f}\")\n",
    "    print(f\"  MAE: {metrics_normalized['mae']:.4f}\")\n",
    "    print(f\"  Median AE: {metrics_normalized['mae_median']:.4f}\")\n",
    "    \n",
    "    print(f\"\\nOriginal scale metrics:\")\n",
    "    print(f\"  R² Score: {metrics_original['r2']:.4f}\")\n",
    "    print(f\"  RMSE: {metrics_original['rmse']:.4f}\")\n",
    "    print(f\"  MAE: {metrics_original['mae']:.4f}\")\n",
    "    print(f\"  Median AE: {metrics_original['mae_median']:.4f}\")\n",
    "    \n",
    "    return {\n",
    "        'predictions_original': predictions_original,\n",
    "        'targets_original': targets_original,\n",
    "        **{f\"{k}_original\": v for k, v in metrics_original.items()},\n",
    "        **{f\"{k}_normalized\": v for k, v in metrics_normalized.items()}\n",
    "    }\n",
    "\n",
    "def plot_training_history(train_losses, val_losses, learning_rates):\n",
    "    \"\"\"\n",
    "    Visualize the training process to understand model behavior.\n",
    "    \n",
    "    These plots help you understand whether your model is learning properly,\n",
    "    overfitting, or if you need to adjust hyperparameters.\n",
    "    \"\"\"\n",
    "    \n",
    "    fig, axes = plt.subplots(2, 2, figsize=(15, 10))\n",
    "    \n",
    "    # Plot training and validation losses\n",
    "    axes[0, 0].plot(train_losses, label='Training Loss', color='blue')\n",
    "    axes[0, 0].plot(val_losses, label='Validation Loss', color='red')\n",
    "    axes[0, 0].set_xlabel('Epoch')\n",
    "    axes[0, 0].set_ylabel('Loss')\n",
    "    axes[0, 0].set_title('Training and Validation Loss')\n",
    "    axes[0, 0].legend()\n",
    "    axes[0, 0].grid(True)\n",
    "    \n",
    "    # Plot learning rate schedule\n",
    "    axes[0, 1].plot(learning_rates, color='green')\n",
    "    axes[0, 1].set_xlabel('Epoch')\n",
    "    axes[0, 1].set_ylabel('Learning Rate')\n",
    "    axes[0, 1].set_title('Learning Rate Schedule')\n",
    "    axes[0, 1].set_yscale('log')\n",
    "    axes[0, 1].grid(True)\n",
    "    \n",
    "    # Plot loss difference (overfitting indicator)\n",
    "    loss_diff = np.array(val_losses) - np.array(train_losses)\n",
    "    axes[1, 0].plot(loss_diff, color='purple')\n",
    "    axes[1, 0].set_xlabel('Epoch')\n",
    "    axes[1, 0].set_ylabel('Validation Loss - Training Loss')\n",
    "    axes[1, 0].set_title('Overfitting Indicator')\n",
    "    axes[1, 0].axhline(y=0, color='black', linestyle='--', alpha=0.5)\n",
    "    axes[1, 0].grid(True)\n",
    "    \n",
    "    # Plot validation loss with trend\n",
    "    axes[1, 1].plot(val_losses, color='red', alpha=0.7)\n",
    "    # Add trend line\n",
    "    z = np.polyfit(range(len(val_losses)), val_losses, 1)\n",
    "    p = np.poly1d(z)\n",
    "    axes[1, 1].plot(range(len(val_losses)), p(range(len(val_losses))), \n",
    "                   color='black', linestyle='--', label='Trend')\n",
    "    axes[1, 1].set_xlabel('Epoch')\n",
    "    axes[1, 1].set_ylabel('Validation Loss')\n",
    "    axes[1, 1].set_title('Validation Loss with Trend')\n",
    "    axes[1, 1].legend()\n",
    "    axes[1, 1].grid(True)\n",
    "    \n",
    "    plt.tight_layout()\n",
    "    plt.show()"
   ]
  },
  {
   "cell_type": "code",
   "execution_count": 17,
   "id": "13f0db30",
   "metadata": {},
   "outputs": [],
   "source": [
    "import sys\n",
    "import os\n",
    "sys.path.append(os.path.abspath(os.path.join(os.getcwd(), '..')))"
   ]
  },
  {
   "cell_type": "code",
   "execution_count": 18,
   "id": "858a0cca",
   "metadata": {},
   "outputs": [
    {
     "name": "stdout",
     "output_type": "stream",
     "text": [
      "Full training set size: 676\n",
      "Training set size: 540\n",
      "Validation set size: 136\n",
      "Test set size: 173\n"
     ]
    }
   ],
   "source": [
    "# Initialize FPbase dataset\n",
    "from fpgen.prop_prediction.dataset import FPbase\n",
    "dataset = FPbase()\n",
    "\n",
    "# Create data loaders using FPbase's train/test split\n",
    "batch_size = 32\n",
    "train_loader, val_loader, test_loader, train_dataset = setup_data_loaders(\n",
    "    fpbase_dataset=dataset,\n",
    "    target_name='ex_max',\n",
    "    batch_size=batch_size,\n",
    "    val_split=0.2  # 20% of training data for validation\n",
    ")"
   ]
  },
  {
   "cell_type": "code",
   "execution_count": 19,
   "id": "7d1098cc",
   "metadata": {},
   "outputs": [
    {
     "name": "stdout",
     "output_type": "stream",
     "text": [
      "CUDA available : True\n",
      "GPU count       : 1\n",
      "GPU 0 name     : NVIDIA GeForce RTX 4050 Laptop GPU\n",
      "GPU 0 capability: (8, 9)\n"
     ]
    }
   ],
   "source": [
    "import torch\n",
    "print(\"CUDA available :\", torch.cuda.is_available())\n",
    "print(\"GPU count       :\", torch.cuda.device_count())\n",
    "for i in range(torch.cuda.device_count()):\n",
    "    print(f\"GPU {i} name     :\", torch.cuda.get_device_name(i))\n",
    "    print(f\"GPU {i} capability:\",\n",
    "          torch.cuda.get_device_capability(i))"
   ]
  },
  {
   "cell_type": "code",
   "execution_count": 20,
   "id": "de63c8c8",
   "metadata": {},
   "outputs": [
    {
     "name": "stdout",
     "output_type": "stream",
     "text": [
      "Starting training...\n",
      "1\n",
      "Starting training...\n",
      "Training batches per epoch: 17\n",
      "Validation batches per epoch: 5\n"
     ]
    },
    {
     "name": "stderr",
     "output_type": "stream",
     "text": [
      "  0%|          | 0/200 [00:00<?, ?it/s]"
     ]
    },
    {
     "name": "stdout",
     "output_type": "stream",
     "text": [
      "Epoch 1, Batch 0, Loss: 0.979916\n",
      "Epoch 1, Batch 10, Loss: 0.997481\n"
     ]
    },
    {
     "name": "stderr",
     "output_type": "stream",
     "text": [
      "  0%|          | 1/200 [00:01<05:43,  1.73s/it]"
     ]
    },
    {
     "name": "stdout",
     "output_type": "stream",
     "text": [
      "Epoch 1/200:\n",
      "  Train Loss: 0.886288\n",
      "  Val Loss: 0.873382\n",
      "  Learning Rate: 0.00100000\n",
      "--------------------------------------------------\n",
      "New best model saved with validation loss: 0.873382\n",
      "Epoch 2, Batch 0, Loss: 0.651810\n",
      "Epoch 2, Batch 10, Loss: 0.589478\n"
     ]
    },
    {
     "name": "stderr",
     "output_type": "stream",
     "text": [
      "  1%|          | 2/200 [00:02<03:54,  1.18s/it]"
     ]
    },
    {
     "name": "stdout",
     "output_type": "stream",
     "text": [
      "Epoch 2/200:\n",
      "  Train Loss: 0.706279\n",
      "  Val Loss: 0.428285\n",
      "  Learning Rate: 0.00100000\n",
      "--------------------------------------------------\n",
      "New best model saved with validation loss: 0.428285\n",
      "Epoch 3, Batch 0, Loss: 0.390892\n",
      "Epoch 3, Batch 10, Loss: 0.496385\n"
     ]
    },
    {
     "name": "stderr",
     "output_type": "stream",
     "text": [
      "  2%|▏         | 3/200 [00:03<03:19,  1.01s/it]"
     ]
    },
    {
     "name": "stdout",
     "output_type": "stream",
     "text": [
      "Epoch 3/200:\n",
      "  Train Loss: 0.674248\n",
      "  Val Loss: 1.725047\n",
      "  Learning Rate: 0.00100000\n",
      "--------------------------------------------------\n",
      "Epoch 4, Batch 0, Loss: 0.635388\n",
      "Epoch 4, Batch 10, Loss: 0.354383\n"
     ]
    },
    {
     "name": "stderr",
     "output_type": "stream",
     "text": [
      "  2%|▏         | 4/200 [00:04<03:03,  1.07it/s]"
     ]
    },
    {
     "name": "stdout",
     "output_type": "stream",
     "text": [
      "Epoch 4/200:\n",
      "  Train Loss: 0.650911\n",
      "  Val Loss: 0.428231\n",
      "  Learning Rate: 0.00100000\n",
      "--------------------------------------------------\n",
      "New best model saved with validation loss: 0.428231\n",
      "Epoch 5, Batch 0, Loss: 0.552288\n",
      "Epoch 5, Batch 10, Loss: 0.569501\n"
     ]
    },
    {
     "name": "stderr",
     "output_type": "stream",
     "text": [
      "  2%|▎         | 5/200 [00:05<02:56,  1.10it/s]"
     ]
    },
    {
     "name": "stdout",
     "output_type": "stream",
     "text": [
      "Epoch 5/200:\n",
      "  Train Loss: 0.642601\n",
      "  Val Loss: 0.460487\n",
      "  Learning Rate: 0.00100000\n",
      "--------------------------------------------------\n",
      "Epoch 6, Batch 0, Loss: 0.404447\n",
      "Epoch 6, Batch 10, Loss: 0.571959\n"
     ]
    },
    {
     "name": "stderr",
     "output_type": "stream",
     "text": [
      "  3%|▎         | 6/200 [00:05<02:52,  1.12it/s]"
     ]
    },
    {
     "name": "stdout",
     "output_type": "stream",
     "text": [
      "Epoch 6/200:\n",
      "  Train Loss: 0.599871\n",
      "  Val Loss: 1.792810\n",
      "  Learning Rate: 0.00100000\n",
      "--------------------------------------------------\n",
      "Epoch 7, Batch 0, Loss: 0.661352\n",
      "Epoch 7, Batch 10, Loss: 0.783421\n"
     ]
    },
    {
     "name": "stderr",
     "output_type": "stream",
     "text": [
      "  4%|▎         | 7/200 [00:06<02:50,  1.13it/s]"
     ]
    },
    {
     "name": "stdout",
     "output_type": "stream",
     "text": [
      "Epoch 7/200:\n",
      "  Train Loss: 0.572477\n",
      "  Val Loss: 1.488347\n",
      "  Learning Rate: 0.00100000\n",
      "--------------------------------------------------\n",
      "Epoch 8, Batch 0, Loss: 0.863812\n",
      "Epoch 8, Batch 10, Loss: 0.424375\n"
     ]
    },
    {
     "name": "stderr",
     "output_type": "stream",
     "text": [
      "  4%|▍         | 8/200 [00:07<02:48,  1.14it/s]"
     ]
    },
    {
     "name": "stdout",
     "output_type": "stream",
     "text": [
      "Epoch 8/200:\n",
      "  Train Loss: 0.567409\n",
      "  Val Loss: 0.471839\n",
      "  Learning Rate: 0.00100000\n",
      "--------------------------------------------------\n",
      "Epoch 9, Batch 0, Loss: 0.408137\n",
      "Epoch 9, Batch 10, Loss: 0.499353\n"
     ]
    },
    {
     "name": "stderr",
     "output_type": "stream",
     "text": [
      "  4%|▍         | 9/200 [00:08<02:48,  1.14it/s]"
     ]
    },
    {
     "name": "stdout",
     "output_type": "stream",
     "text": [
      "Epoch 9/200:\n",
      "  Train Loss: 0.501987\n",
      "  Val Loss: 0.550072\n",
      "  Learning Rate: 0.00100000\n",
      "--------------------------------------------------\n",
      "Epoch 10, Batch 0, Loss: 0.573390\n",
      "Epoch 10, Batch 10, Loss: 0.656938\n"
     ]
    },
    {
     "name": "stderr",
     "output_type": "stream",
     "text": [
      "  5%|▌         | 10/200 [00:09<02:49,  1.12it/s]"
     ]
    },
    {
     "name": "stdout",
     "output_type": "stream",
     "text": [
      "Epoch 10/200:\n",
      "  Train Loss: 0.483261\n",
      "  Val Loss: 2.730522\n",
      "  Learning Rate: 0.00100000\n",
      "--------------------------------------------------\n",
      "Epoch 11, Batch 0, Loss: 0.247994\n",
      "Epoch 11, Batch 10, Loss: 0.697128\n"
     ]
    },
    {
     "name": "stderr",
     "output_type": "stream",
     "text": [
      "  6%|▌         | 11/200 [00:10<02:47,  1.13it/s]"
     ]
    },
    {
     "name": "stdout",
     "output_type": "stream",
     "text": [
      "Epoch 11/200:\n",
      "  Train Loss: 0.520883\n",
      "  Val Loss: 1.174381\n",
      "  Learning Rate: 0.00100000\n",
      "--------------------------------------------------\n",
      "Epoch 12, Batch 0, Loss: 0.650363\n",
      "Epoch 12, Batch 10, Loss: 0.986790\n"
     ]
    },
    {
     "name": "stderr",
     "output_type": "stream",
     "text": [
      "  6%|▌         | 12/200 [00:11<02:44,  1.14it/s]"
     ]
    },
    {
     "name": "stdout",
     "output_type": "stream",
     "text": [
      "Epoch 12/200:\n",
      "  Train Loss: 0.574403\n",
      "  Val Loss: 6.197871\n",
      "  Learning Rate: 0.00100000\n",
      "--------------------------------------------------\n",
      "Epoch 13, Batch 0, Loss: 0.517173\n",
      "Epoch 13, Batch 10, Loss: 0.773378\n"
     ]
    },
    {
     "name": "stderr",
     "output_type": "stream",
     "text": [
      "  6%|▋         | 13/200 [00:11<02:41,  1.16it/s]"
     ]
    },
    {
     "name": "stdout",
     "output_type": "stream",
     "text": [
      "Epoch 13/200:\n",
      "  Train Loss: 0.543535\n",
      "  Val Loss: 0.476581\n",
      "  Learning Rate: 0.00100000\n",
      "--------------------------------------------------\n",
      "Epoch 14, Batch 0, Loss: 0.469650\n",
      "Epoch 14, Batch 10, Loss: 0.445503\n"
     ]
    },
    {
     "name": "stderr",
     "output_type": "stream",
     "text": [
      "  7%|▋         | 14/200 [00:12<02:39,  1.16it/s]"
     ]
    },
    {
     "name": "stdout",
     "output_type": "stream",
     "text": [
      "Epoch 14/200:\n",
      "  Train Loss: 0.457454\n",
      "  Val Loss: 0.670064\n",
      "  Learning Rate: 0.00100000\n",
      "--------------------------------------------------\n",
      "Epoch 15, Batch 0, Loss: 0.430171\n",
      "Epoch 15, Batch 10, Loss: 0.276077\n"
     ]
    },
    {
     "name": "stderr",
     "output_type": "stream",
     "text": [
      "  8%|▊         | 15/200 [00:13<02:39,  1.16it/s]"
     ]
    },
    {
     "name": "stdout",
     "output_type": "stream",
     "text": [
      "Epoch 15/200:\n",
      "  Train Loss: 0.492783\n",
      "  Val Loss: 6.925611\n",
      "  Learning Rate: 0.00100000\n",
      "--------------------------------------------------\n",
      "Epoch 16, Batch 0, Loss: 0.834797\n",
      "Epoch 16, Batch 10, Loss: 0.746995\n"
     ]
    },
    {
     "name": "stderr",
     "output_type": "stream",
     "text": [
      "  8%|▊         | 16/200 [00:14<02:37,  1.17it/s]"
     ]
    },
    {
     "name": "stdout",
     "output_type": "stream",
     "text": [
      "Epoch 16/200:\n",
      "  Train Loss: 0.446669\n",
      "  Val Loss: 1.914659\n",
      "  Learning Rate: 0.00050000\n",
      "--------------------------------------------------\n",
      "Epoch 17, Batch 0, Loss: 0.466621\n",
      "Epoch 17, Batch 10, Loss: 0.474807\n"
     ]
    },
    {
     "name": "stderr",
     "output_type": "stream",
     "text": [
      "  8%|▊         | 17/200 [00:15<02:35,  1.17it/s]"
     ]
    },
    {
     "name": "stdout",
     "output_type": "stream",
     "text": [
      "Epoch 17/200:\n",
      "  Train Loss: 0.438788\n",
      "  Val Loss: 5.767014\n",
      "  Learning Rate: 0.00050000\n",
      "--------------------------------------------------\n",
      "Epoch 18, Batch 0, Loss: 0.350584\n",
      "Epoch 18, Batch 10, Loss: 0.511089\n"
     ]
    },
    {
     "name": "stderr",
     "output_type": "stream",
     "text": [
      "  9%|▉         | 18/200 [00:16<02:35,  1.17it/s]"
     ]
    },
    {
     "name": "stdout",
     "output_type": "stream",
     "text": [
      "Epoch 18/200:\n",
      "  Train Loss: 0.394870\n",
      "  Val Loss: 3.165219\n",
      "  Learning Rate: 0.00050000\n",
      "--------------------------------------------------\n",
      "Epoch 19, Batch 0, Loss: 0.826653\n",
      "Epoch 19, Batch 10, Loss: 0.594827\n"
     ]
    },
    {
     "name": "stderr",
     "output_type": "stream",
     "text": [
      " 10%|▉         | 19/200 [00:17<02:34,  1.17it/s]"
     ]
    },
    {
     "name": "stdout",
     "output_type": "stream",
     "text": [
      "Epoch 19/200:\n",
      "  Train Loss: 0.447318\n",
      "  Val Loss: 0.411977\n",
      "  Learning Rate: 0.00050000\n",
      "--------------------------------------------------\n",
      "New best model saved with validation loss: 0.411977\n",
      "Epoch 20, Batch 0, Loss: 0.381748\n",
      "Epoch 20, Batch 10, Loss: 0.208916\n"
     ]
    },
    {
     "name": "stderr",
     "output_type": "stream",
     "text": [
      " 10%|█         | 20/200 [00:17<02:33,  1.17it/s]"
     ]
    },
    {
     "name": "stdout",
     "output_type": "stream",
     "text": [
      "Epoch 20/200:\n",
      "  Train Loss: 0.383016\n",
      "  Val Loss: 0.380837\n",
      "  Learning Rate: 0.00050000\n",
      "--------------------------------------------------\n",
      "New best model saved with validation loss: 0.380837\n",
      "Epoch 21, Batch 0, Loss: 0.340265\n",
      "Epoch 21, Batch 10, Loss: 0.274959\n"
     ]
    },
    {
     "name": "stderr",
     "output_type": "stream",
     "text": [
      " 10%|█         | 21/200 [00:18<02:32,  1.17it/s]"
     ]
    },
    {
     "name": "stdout",
     "output_type": "stream",
     "text": [
      "Epoch 21/200:\n",
      "  Train Loss: 0.347810\n",
      "  Val Loss: 2.044055\n",
      "  Learning Rate: 0.00050000\n",
      "--------------------------------------------------\n",
      "Epoch 22, Batch 0, Loss: 0.360979\n",
      "Epoch 22, Batch 10, Loss: 0.662805\n"
     ]
    },
    {
     "name": "stderr",
     "output_type": "stream",
     "text": [
      " 11%|█         | 22/200 [00:19<02:33,  1.16it/s]"
     ]
    },
    {
     "name": "stdout",
     "output_type": "stream",
     "text": [
      "Epoch 22/200:\n",
      "  Train Loss: 0.408764\n",
      "  Val Loss: 0.374441\n",
      "  Learning Rate: 0.00050000\n",
      "--------------------------------------------------\n",
      "New best model saved with validation loss: 0.374441\n",
      "Epoch 23, Batch 0, Loss: 0.385128\n",
      "Epoch 23, Batch 10, Loss: 0.228385\n"
     ]
    },
    {
     "name": "stderr",
     "output_type": "stream",
     "text": [
      " 12%|█▏        | 23/200 [00:20<02:32,  1.16it/s]"
     ]
    },
    {
     "name": "stdout",
     "output_type": "stream",
     "text": [
      "Epoch 23/200:\n",
      "  Train Loss: 0.427097\n",
      "  Val Loss: 0.753301\n",
      "  Learning Rate: 0.00050000\n",
      "--------------------------------------------------\n",
      "Epoch 24, Batch 0, Loss: 0.268393\n",
      "Epoch 24, Batch 10, Loss: 0.374558\n"
     ]
    },
    {
     "name": "stderr",
     "output_type": "stream",
     "text": [
      " 12%|█▏        | 24/200 [00:21<02:31,  1.17it/s]"
     ]
    },
    {
     "name": "stdout",
     "output_type": "stream",
     "text": [
      "Epoch 24/200:\n",
      "  Train Loss: 0.372623\n",
      "  Val Loss: 0.491487\n",
      "  Learning Rate: 0.00050000\n",
      "--------------------------------------------------\n",
      "Epoch 25, Batch 0, Loss: 0.179203\n",
      "Epoch 25, Batch 10, Loss: 0.351304\n"
     ]
    },
    {
     "name": "stderr",
     "output_type": "stream",
     "text": [
      " 12%|█▎        | 25/200 [00:22<02:29,  1.17it/s]"
     ]
    },
    {
     "name": "stdout",
     "output_type": "stream",
     "text": [
      "Epoch 25/200:\n",
      "  Train Loss: 0.333249\n",
      "  Val Loss: 1.670371\n",
      "  Learning Rate: 0.00050000\n",
      "--------------------------------------------------\n",
      "Epoch 26, Batch 0, Loss: 0.110342\n",
      "Epoch 26, Batch 10, Loss: 0.495471\n"
     ]
    },
    {
     "name": "stderr",
     "output_type": "stream",
     "text": [
      " 13%|█▎        | 26/200 [00:23<02:27,  1.18it/s]"
     ]
    },
    {
     "name": "stdout",
     "output_type": "stream",
     "text": [
      "Epoch 26/200:\n",
      "  Train Loss: 0.345812\n",
      "  Val Loss: 1.144255\n",
      "  Learning Rate: 0.00050000\n",
      "--------------------------------------------------\n",
      "Epoch 27, Batch 0, Loss: 0.435165\n",
      "Epoch 27, Batch 10, Loss: 0.270265\n"
     ]
    },
    {
     "name": "stderr",
     "output_type": "stream",
     "text": [
      " 14%|█▎        | 27/200 [00:23<02:26,  1.18it/s]"
     ]
    },
    {
     "name": "stdout",
     "output_type": "stream",
     "text": [
      "Epoch 27/200:\n",
      "  Train Loss: 0.318103\n",
      "  Val Loss: 0.360675\n",
      "  Learning Rate: 0.00050000\n",
      "--------------------------------------------------\n",
      "New best model saved with validation loss: 0.360675\n",
      "Epoch 28, Batch 0, Loss: 0.138125\n",
      "Epoch 28, Batch 10, Loss: 0.389796\n"
     ]
    },
    {
     "name": "stderr",
     "output_type": "stream",
     "text": [
      " 14%|█▍        | 28/200 [00:24<02:25,  1.18it/s]"
     ]
    },
    {
     "name": "stdout",
     "output_type": "stream",
     "text": [
      "Epoch 28/200:\n",
      "  Train Loss: 0.329295\n",
      "  Val Loss: 0.622093\n",
      "  Learning Rate: 0.00050000\n",
      "--------------------------------------------------\n",
      "Epoch 29, Batch 0, Loss: 0.179791\n",
      "Epoch 29, Batch 10, Loss: 0.478244\n"
     ]
    },
    {
     "name": "stderr",
     "output_type": "stream",
     "text": [
      " 14%|█▍        | 29/200 [00:25<02:24,  1.18it/s]"
     ]
    },
    {
     "name": "stdout",
     "output_type": "stream",
     "text": [
      "Epoch 29/200:\n",
      "  Train Loss: 0.381900\n",
      "  Val Loss: 0.363171\n",
      "  Learning Rate: 0.00050000\n",
      "--------------------------------------------------\n",
      "Epoch 30, Batch 0, Loss: 0.218615\n",
      "Epoch 30, Batch 10, Loss: 0.212192\n"
     ]
    },
    {
     "name": "stderr",
     "output_type": "stream",
     "text": [
      " 15%|█▌        | 30/200 [00:26<02:24,  1.18it/s]"
     ]
    },
    {
     "name": "stdout",
     "output_type": "stream",
     "text": [
      "Epoch 30/200:\n",
      "  Train Loss: 0.298086\n",
      "  Val Loss: 1.359288\n",
      "  Learning Rate: 0.00050000\n",
      "--------------------------------------------------\n",
      "Epoch 31, Batch 0, Loss: 0.224090\n",
      "Epoch 31, Batch 10, Loss: 0.226907\n"
     ]
    },
    {
     "name": "stderr",
     "output_type": "stream",
     "text": [
      " 16%|█▌        | 31/200 [00:27<02:24,  1.17it/s]"
     ]
    },
    {
     "name": "stdout",
     "output_type": "stream",
     "text": [
      "Epoch 31/200:\n",
      "  Train Loss: 0.302956\n",
      "  Val Loss: 0.334761\n",
      "  Learning Rate: 0.00050000\n",
      "--------------------------------------------------\n",
      "New best model saved with validation loss: 0.334761\n",
      "Epoch 32, Batch 0, Loss: 0.212598\n",
      "Epoch 32, Batch 10, Loss: 0.528932\n"
     ]
    },
    {
     "name": "stderr",
     "output_type": "stream",
     "text": [
      " 16%|█▌        | 32/200 [00:28<02:23,  1.17it/s]"
     ]
    },
    {
     "name": "stdout",
     "output_type": "stream",
     "text": [
      "Epoch 32/200:\n",
      "  Train Loss: 0.328874\n",
      "  Val Loss: 0.389964\n",
      "  Learning Rate: 0.00050000\n",
      "--------------------------------------------------\n",
      "Epoch 33, Batch 0, Loss: 0.161698\n",
      "Epoch 33, Batch 10, Loss: 0.258145\n"
     ]
    },
    {
     "name": "stderr",
     "output_type": "stream",
     "text": [
      " 16%|█▋        | 33/200 [00:29<02:22,  1.17it/s]"
     ]
    },
    {
     "name": "stdout",
     "output_type": "stream",
     "text": [
      "Epoch 33/200:\n",
      "  Train Loss: 0.292331\n",
      "  Val Loss: 0.336330\n",
      "  Learning Rate: 0.00050000\n",
      "--------------------------------------------------\n",
      "Epoch 34, Batch 0, Loss: 0.134299\n",
      "Epoch 34, Batch 10, Loss: 0.148810\n"
     ]
    },
    {
     "name": "stderr",
     "output_type": "stream",
     "text": [
      " 17%|█▋        | 34/200 [00:29<02:22,  1.16it/s]"
     ]
    },
    {
     "name": "stdout",
     "output_type": "stream",
     "text": [
      "Epoch 34/200:\n",
      "  Train Loss: 0.273138\n",
      "  Val Loss: 2.919881\n",
      "  Learning Rate: 0.00050000\n",
      "--------------------------------------------------\n",
      "Epoch 35, Batch 0, Loss: 0.440831\n",
      "Epoch 35, Batch 10, Loss: 0.245895\n"
     ]
    },
    {
     "name": "stderr",
     "output_type": "stream",
     "text": [
      " 18%|█▊        | 35/200 [00:30<02:22,  1.16it/s]"
     ]
    },
    {
     "name": "stdout",
     "output_type": "stream",
     "text": [
      "Epoch 35/200:\n",
      "  Train Loss: 0.299577\n",
      "  Val Loss: 0.303751\n",
      "  Learning Rate: 0.00050000\n",
      "--------------------------------------------------\n",
      "New best model saved with validation loss: 0.303751\n",
      "Epoch 36, Batch 0, Loss: 0.337278\n",
      "Epoch 36, Batch 10, Loss: 0.261636\n"
     ]
    },
    {
     "name": "stderr",
     "output_type": "stream",
     "text": [
      " 18%|█▊        | 36/200 [00:31<02:20,  1.16it/s]"
     ]
    },
    {
     "name": "stdout",
     "output_type": "stream",
     "text": [
      "Epoch 36/200:\n",
      "  Train Loss: 0.296021\n",
      "  Val Loss: 0.316767\n",
      "  Learning Rate: 0.00050000\n",
      "--------------------------------------------------\n",
      "Epoch 37, Batch 0, Loss: 0.215381\n",
      "Epoch 37, Batch 10, Loss: 0.218861\n"
     ]
    },
    {
     "name": "stderr",
     "output_type": "stream",
     "text": [
      " 18%|█▊        | 37/200 [00:32<02:20,  1.16it/s]"
     ]
    },
    {
     "name": "stdout",
     "output_type": "stream",
     "text": [
      "Epoch 37/200:\n",
      "  Train Loss: 0.277364\n",
      "  Val Loss: 0.552936\n",
      "  Learning Rate: 0.00050000\n",
      "--------------------------------------------------\n",
      "Epoch 38, Batch 0, Loss: 0.340962\n",
      "Epoch 38, Batch 10, Loss: 0.250494\n"
     ]
    },
    {
     "name": "stderr",
     "output_type": "stream",
     "text": [
      " 19%|█▉        | 38/200 [00:33<02:20,  1.16it/s]"
     ]
    },
    {
     "name": "stdout",
     "output_type": "stream",
     "text": [
      "Epoch 38/200:\n",
      "  Train Loss: 0.298133\n",
      "  Val Loss: 0.287619\n",
      "  Learning Rate: 0.00050000\n",
      "--------------------------------------------------\n",
      "New best model saved with validation loss: 0.287619\n",
      "Epoch 39, Batch 0, Loss: 0.256122\n",
      "Epoch 39, Batch 10, Loss: 0.234958\n"
     ]
    },
    {
     "name": "stderr",
     "output_type": "stream",
     "text": [
      " 20%|█▉        | 39/200 [00:34<02:21,  1.14it/s]"
     ]
    },
    {
     "name": "stdout",
     "output_type": "stream",
     "text": [
      "Epoch 39/200:\n",
      "  Train Loss: 0.245450\n",
      "  Val Loss: 4.534322\n",
      "  Learning Rate: 0.00050000\n",
      "--------------------------------------------------\n",
      "Epoch 40, Batch 0, Loss: 0.175710\n",
      "Epoch 40, Batch 10, Loss: 0.291743\n"
     ]
    },
    {
     "name": "stderr",
     "output_type": "stream",
     "text": [
      " 20%|██        | 40/200 [00:35<02:19,  1.15it/s]"
     ]
    },
    {
     "name": "stdout",
     "output_type": "stream",
     "text": [
      "Epoch 40/200:\n",
      "  Train Loss: 0.242962\n",
      "  Val Loss: 0.386158\n",
      "  Learning Rate: 0.00050000\n",
      "--------------------------------------------------\n",
      "Epoch 41, Batch 0, Loss: 0.126881\n",
      "Epoch 41, Batch 10, Loss: 0.292641\n"
     ]
    },
    {
     "name": "stderr",
     "output_type": "stream",
     "text": [
      " 20%|██        | 41/200 [00:35<02:18,  1.15it/s]"
     ]
    },
    {
     "name": "stdout",
     "output_type": "stream",
     "text": [
      "Epoch 41/200:\n",
      "  Train Loss: 0.222903\n",
      "  Val Loss: 0.270781\n",
      "  Learning Rate: 0.00050000\n",
      "--------------------------------------------------\n",
      "New best model saved with validation loss: 0.270781\n",
      "Epoch 42, Batch 0, Loss: 0.235402\n",
      "Epoch 42, Batch 10, Loss: 0.241569\n"
     ]
    },
    {
     "name": "stderr",
     "output_type": "stream",
     "text": [
      " 21%|██        | 42/200 [00:36<02:16,  1.16it/s]"
     ]
    },
    {
     "name": "stdout",
     "output_type": "stream",
     "text": [
      "Epoch 42/200:\n",
      "  Train Loss: 0.220552\n",
      "  Val Loss: 0.354405\n",
      "  Learning Rate: 0.00050000\n",
      "--------------------------------------------------\n",
      "Epoch 43, Batch 0, Loss: 0.304801\n",
      "Epoch 43, Batch 10, Loss: 0.233344\n"
     ]
    },
    {
     "name": "stderr",
     "output_type": "stream",
     "text": [
      " 22%|██▏       | 43/200 [00:37<02:15,  1.16it/s]"
     ]
    },
    {
     "name": "stdout",
     "output_type": "stream",
     "text": [
      "Epoch 43/200:\n",
      "  Train Loss: 0.257289\n",
      "  Val Loss: 0.303102\n",
      "  Learning Rate: 0.00050000\n",
      "--------------------------------------------------\n",
      "Epoch 44, Batch 0, Loss: 0.168949\n",
      "Epoch 44, Batch 10, Loss: 0.081789\n"
     ]
    },
    {
     "name": "stderr",
     "output_type": "stream",
     "text": [
      " 22%|██▏       | 44/200 [00:38<02:14,  1.16it/s]"
     ]
    },
    {
     "name": "stdout",
     "output_type": "stream",
     "text": [
      "Epoch 44/200:\n",
      "  Train Loss: 0.240195\n",
      "  Val Loss: 0.296082\n",
      "  Learning Rate: 0.00050000\n",
      "--------------------------------------------------\n",
      "Epoch 45, Batch 0, Loss: 0.165271\n",
      "Epoch 45, Batch 10, Loss: 0.181509\n"
     ]
    },
    {
     "name": "stderr",
     "output_type": "stream",
     "text": [
      " 22%|██▎       | 45/200 [00:39<02:13,  1.16it/s]"
     ]
    },
    {
     "name": "stdout",
     "output_type": "stream",
     "text": [
      "Epoch 45/200:\n",
      "  Train Loss: 0.255671\n",
      "  Val Loss: 0.342406\n",
      "  Learning Rate: 0.00050000\n",
      "--------------------------------------------------\n",
      "Epoch 46, Batch 0, Loss: 0.199366\n",
      "Epoch 46, Batch 10, Loss: 0.298284\n"
     ]
    },
    {
     "name": "stderr",
     "output_type": "stream",
     "text": [
      " 23%|██▎       | 46/200 [00:40<02:12,  1.16it/s]"
     ]
    },
    {
     "name": "stdout",
     "output_type": "stream",
     "text": [
      "Epoch 46/200:\n",
      "  Train Loss: 0.220986\n",
      "  Val Loss: 0.494395\n",
      "  Learning Rate: 0.00050000\n",
      "--------------------------------------------------\n",
      "Epoch 47, Batch 0, Loss: 0.563494\n",
      "Epoch 47, Batch 10, Loss: 0.105244\n"
     ]
    },
    {
     "name": "stderr",
     "output_type": "stream",
     "text": [
      " 24%|██▎       | 47/200 [00:41<02:11,  1.17it/s]"
     ]
    },
    {
     "name": "stdout",
     "output_type": "stream",
     "text": [
      "Epoch 47/200:\n",
      "  Train Loss: 0.247986\n",
      "  Val Loss: 0.342557\n",
      "  Learning Rate: 0.00050000\n",
      "--------------------------------------------------\n",
      "Epoch 48, Batch 0, Loss: 0.129049\n",
      "Epoch 48, Batch 10, Loss: 0.134451\n"
     ]
    },
    {
     "name": "stderr",
     "output_type": "stream",
     "text": [
      " 24%|██▍       | 48/200 [00:41<02:10,  1.17it/s]"
     ]
    },
    {
     "name": "stdout",
     "output_type": "stream",
     "text": [
      "Epoch 48/200:\n",
      "  Train Loss: 0.215934\n",
      "  Val Loss: 0.562060\n",
      "  Learning Rate: 0.00050000\n",
      "--------------------------------------------------\n",
      "Epoch 49, Batch 0, Loss: 0.103492\n",
      "Epoch 49, Batch 10, Loss: 0.296993\n"
     ]
    },
    {
     "name": "stderr",
     "output_type": "stream",
     "text": [
      " 24%|██▍       | 49/200 [00:42<02:09,  1.17it/s]"
     ]
    },
    {
     "name": "stdout",
     "output_type": "stream",
     "text": [
      "Epoch 49/200:\n",
      "  Train Loss: 0.283570\n",
      "  Val Loss: 0.294141\n",
      "  Learning Rate: 0.00050000\n",
      "--------------------------------------------------\n",
      "Epoch 50, Batch 0, Loss: 0.203391\n",
      "Epoch 50, Batch 10, Loss: 0.122831\n"
     ]
    },
    {
     "name": "stderr",
     "output_type": "stream",
     "text": [
      " 25%|██▌       | 50/200 [00:43<02:08,  1.17it/s]"
     ]
    },
    {
     "name": "stdout",
     "output_type": "stream",
     "text": [
      "Epoch 50/200:\n",
      "  Train Loss: 0.199736\n",
      "  Val Loss: 0.312143\n",
      "  Learning Rate: 0.00050000\n",
      "--------------------------------------------------\n",
      "Epoch 51, Batch 0, Loss: 0.190476\n",
      "Epoch 51, Batch 10, Loss: 0.302557\n"
     ]
    },
    {
     "name": "stderr",
     "output_type": "stream",
     "text": [
      " 26%|██▌       | 51/200 [00:44<02:07,  1.17it/s]"
     ]
    },
    {
     "name": "stdout",
     "output_type": "stream",
     "text": [
      "Epoch 51/200:\n",
      "  Train Loss: 0.194885\n",
      "  Val Loss: 0.416724\n",
      "  Learning Rate: 0.00050000\n",
      "--------------------------------------------------\n",
      "Epoch 52, Batch 0, Loss: 0.131087\n",
      "Epoch 52, Batch 10, Loss: 0.219949\n"
     ]
    },
    {
     "name": "stderr",
     "output_type": "stream",
     "text": [
      " 26%|██▌       | 52/200 [00:45<02:06,  1.17it/s]"
     ]
    },
    {
     "name": "stdout",
     "output_type": "stream",
     "text": [
      "Epoch 52/200:\n",
      "  Train Loss: 0.199603\n",
      "  Val Loss: 0.345965\n",
      "  Learning Rate: 0.00050000\n",
      "--------------------------------------------------\n",
      "Epoch 53, Batch 0, Loss: 0.189931\n",
      "Epoch 53, Batch 10, Loss: 0.163058\n"
     ]
    },
    {
     "name": "stderr",
     "output_type": "stream",
     "text": [
      " 26%|██▋       | 53/200 [00:46<02:06,  1.16it/s]"
     ]
    },
    {
     "name": "stdout",
     "output_type": "stream",
     "text": [
      "Epoch 53/200:\n",
      "  Train Loss: 0.199555\n",
      "  Val Loss: 0.305204\n",
      "  Learning Rate: 0.00025000\n",
      "--------------------------------------------------\n",
      "Epoch 54, Batch 0, Loss: 0.146596\n",
      "Epoch 54, Batch 10, Loss: 0.255684\n"
     ]
    },
    {
     "name": "stderr",
     "output_type": "stream",
     "text": [
      " 27%|██▋       | 54/200 [00:47<02:04,  1.17it/s]"
     ]
    },
    {
     "name": "stdout",
     "output_type": "stream",
     "text": [
      "Epoch 54/200:\n",
      "  Train Loss: 0.241539\n",
      "  Val Loss: 0.277191\n",
      "  Learning Rate: 0.00025000\n",
      "--------------------------------------------------\n",
      "Epoch 55, Batch 0, Loss: 0.110017\n",
      "Epoch 55, Batch 10, Loss: 0.223068\n"
     ]
    },
    {
     "name": "stderr",
     "output_type": "stream",
     "text": [
      " 28%|██▊       | 55/200 [00:47<02:04,  1.17it/s]"
     ]
    },
    {
     "name": "stdout",
     "output_type": "stream",
     "text": [
      "Epoch 55/200:\n",
      "  Train Loss: 0.198693\n",
      "  Val Loss: 0.295300\n",
      "  Learning Rate: 0.00025000\n",
      "--------------------------------------------------\n",
      "Epoch 56, Batch 0, Loss: 0.164221\n",
      "Epoch 56, Batch 10, Loss: 0.167231\n"
     ]
    },
    {
     "name": "stderr",
     "output_type": "stream",
     "text": [
      " 28%|██▊       | 56/200 [00:48<02:03,  1.17it/s]"
     ]
    },
    {
     "name": "stdout",
     "output_type": "stream",
     "text": [
      "Epoch 56/200:\n",
      "  Train Loss: 0.169025\n",
      "  Val Loss: 0.297303\n",
      "  Learning Rate: 0.00025000\n",
      "--------------------------------------------------\n",
      "Epoch 57, Batch 0, Loss: 0.257916\n",
      "Epoch 57, Batch 10, Loss: 0.132693\n"
     ]
    },
    {
     "name": "stderr",
     "output_type": "stream",
     "text": [
      " 28%|██▊       | 57/200 [00:49<02:01,  1.17it/s]"
     ]
    },
    {
     "name": "stdout",
     "output_type": "stream",
     "text": [
      "Epoch 57/200:\n",
      "  Train Loss: 0.201685\n",
      "  Val Loss: 0.247385\n",
      "  Learning Rate: 0.00025000\n",
      "--------------------------------------------------\n",
      "New best model saved with validation loss: 0.247385\n",
      "Epoch 58, Batch 0, Loss: 0.102951\n",
      "Epoch 58, Batch 10, Loss: 0.161768\n"
     ]
    },
    {
     "name": "stderr",
     "output_type": "stream",
     "text": [
      " 29%|██▉       | 58/200 [00:50<02:01,  1.17it/s]"
     ]
    },
    {
     "name": "stdout",
     "output_type": "stream",
     "text": [
      "Epoch 58/200:\n",
      "  Train Loss: 0.185769\n",
      "  Val Loss: 0.250574\n",
      "  Learning Rate: 0.00025000\n",
      "--------------------------------------------------\n",
      "Epoch 59, Batch 0, Loss: 0.162615\n",
      "Epoch 59, Batch 10, Loss: 0.224079\n"
     ]
    },
    {
     "name": "stderr",
     "output_type": "stream",
     "text": [
      " 30%|██▉       | 59/200 [00:51<02:00,  1.17it/s]"
     ]
    },
    {
     "name": "stdout",
     "output_type": "stream",
     "text": [
      "Epoch 59/200:\n",
      "  Train Loss: 0.179116\n",
      "  Val Loss: 0.259867\n",
      "  Learning Rate: 0.00025000\n",
      "--------------------------------------------------\n",
      "Epoch 60, Batch 0, Loss: 0.127935\n",
      "Epoch 60, Batch 10, Loss: 0.312373\n"
     ]
    },
    {
     "name": "stderr",
     "output_type": "stream",
     "text": [
      " 30%|███       | 60/200 [00:52<01:59,  1.17it/s]"
     ]
    },
    {
     "name": "stdout",
     "output_type": "stream",
     "text": [
      "Epoch 60/200:\n",
      "  Train Loss: 0.181248\n",
      "  Val Loss: 0.338608\n",
      "  Learning Rate: 0.00025000\n",
      "--------------------------------------------------\n",
      "Epoch 61, Batch 0, Loss: 0.071333\n",
      "Epoch 61, Batch 10, Loss: 0.178854\n"
     ]
    },
    {
     "name": "stderr",
     "output_type": "stream",
     "text": [
      " 30%|███       | 61/200 [00:53<01:58,  1.17it/s]"
     ]
    },
    {
     "name": "stdout",
     "output_type": "stream",
     "text": [
      "Epoch 61/200:\n",
      "  Train Loss: 0.160756\n",
      "  Val Loss: 0.323801\n",
      "  Learning Rate: 0.00025000\n",
      "--------------------------------------------------\n",
      "Epoch 62, Batch 0, Loss: 0.102384\n",
      "Epoch 62, Batch 10, Loss: 0.169510\n"
     ]
    },
    {
     "name": "stderr",
     "output_type": "stream",
     "text": [
      " 31%|███       | 62/200 [00:53<01:57,  1.17it/s]"
     ]
    },
    {
     "name": "stdout",
     "output_type": "stream",
     "text": [
      "Epoch 62/200:\n",
      "  Train Loss: 0.172132\n",
      "  Val Loss: 0.271429\n",
      "  Learning Rate: 0.00025000\n",
      "--------------------------------------------------\n",
      "Epoch 63, Batch 0, Loss: 0.161720\n",
      "Epoch 63, Batch 10, Loss: 0.423527\n"
     ]
    },
    {
     "name": "stderr",
     "output_type": "stream",
     "text": [
      " 32%|███▏      | 63/200 [00:54<01:56,  1.17it/s]"
     ]
    },
    {
     "name": "stdout",
     "output_type": "stream",
     "text": [
      "Epoch 63/200:\n",
      "  Train Loss: 0.203066\n",
      "  Val Loss: 0.297690\n",
      "  Learning Rate: 0.00025000\n",
      "--------------------------------------------------\n",
      "Epoch 64, Batch 0, Loss: 0.220331\n",
      "Epoch 64, Batch 10, Loss: 0.187171\n"
     ]
    },
    {
     "name": "stderr",
     "output_type": "stream",
     "text": [
      " 32%|███▏      | 64/200 [00:55<01:56,  1.17it/s]"
     ]
    },
    {
     "name": "stdout",
     "output_type": "stream",
     "text": [
      "Epoch 64/200:\n",
      "  Train Loss: 0.163483\n",
      "  Val Loss: 0.247080\n",
      "  Learning Rate: 0.00025000\n",
      "--------------------------------------------------\n",
      "New best model saved with validation loss: 0.247080\n",
      "Epoch 65, Batch 0, Loss: 0.091845\n",
      "Epoch 65, Batch 10, Loss: 0.123313\n"
     ]
    },
    {
     "name": "stderr",
     "output_type": "stream",
     "text": [
      " 32%|███▎      | 65/200 [00:56<01:54,  1.17it/s]"
     ]
    },
    {
     "name": "stdout",
     "output_type": "stream",
     "text": [
      "Epoch 65/200:\n",
      "  Train Loss: 0.133844\n",
      "  Val Loss: 0.316995\n",
      "  Learning Rate: 0.00025000\n",
      "--------------------------------------------------\n",
      "Epoch 66, Batch 0, Loss: 0.139330\n",
      "Epoch 66, Batch 10, Loss: 0.511390\n"
     ]
    },
    {
     "name": "stderr",
     "output_type": "stream",
     "text": [
      " 33%|███▎      | 66/200 [00:57<01:54,  1.17it/s]"
     ]
    },
    {
     "name": "stdout",
     "output_type": "stream",
     "text": [
      "Epoch 66/200:\n",
      "  Train Loss: 0.184671\n",
      "  Val Loss: 0.562541\n",
      "  Learning Rate: 0.00025000\n",
      "--------------------------------------------------\n",
      "Epoch 67, Batch 0, Loss: 0.229704\n",
      "Epoch 67, Batch 10, Loss: 0.171830\n"
     ]
    },
    {
     "name": "stderr",
     "output_type": "stream",
     "text": [
      " 34%|███▎      | 67/200 [00:58<01:54,  1.16it/s]"
     ]
    },
    {
     "name": "stdout",
     "output_type": "stream",
     "text": [
      "Epoch 67/200:\n",
      "  Train Loss: 0.183310\n",
      "  Val Loss: 0.265190\n",
      "  Learning Rate: 0.00025000\n",
      "--------------------------------------------------\n",
      "Epoch 68, Batch 0, Loss: 0.135245\n",
      "Epoch 68, Batch 10, Loss: 0.074491\n"
     ]
    },
    {
     "name": "stderr",
     "output_type": "stream",
     "text": [
      " 34%|███▍      | 68/200 [00:59<01:53,  1.16it/s]"
     ]
    },
    {
     "name": "stdout",
     "output_type": "stream",
     "text": [
      "Epoch 68/200:\n",
      "  Train Loss: 0.212612\n",
      "  Val Loss: 0.264399\n",
      "  Learning Rate: 0.00025000\n",
      "--------------------------------------------------\n",
      "Epoch 69, Batch 0, Loss: 0.111432\n",
      "Epoch 69, Batch 10, Loss: 0.668849\n"
     ]
    },
    {
     "name": "stderr",
     "output_type": "stream",
     "text": [
      " 34%|███▍      | 69/200 [00:59<01:52,  1.17it/s]"
     ]
    },
    {
     "name": "stdout",
     "output_type": "stream",
     "text": [
      "Epoch 69/200:\n",
      "  Train Loss: 0.172132\n",
      "  Val Loss: 0.259483\n",
      "  Learning Rate: 0.00025000\n",
      "--------------------------------------------------\n",
      "Epoch 70, Batch 0, Loss: 0.112001\n",
      "Epoch 70, Batch 10, Loss: 0.310458\n"
     ]
    },
    {
     "name": "stderr",
     "output_type": "stream",
     "text": [
      " 35%|███▌      | 70/200 [01:00<01:51,  1.17it/s]"
     ]
    },
    {
     "name": "stdout",
     "output_type": "stream",
     "text": [
      "Epoch 70/200:\n",
      "  Train Loss: 0.187352\n",
      "  Val Loss: 0.834213\n",
      "  Learning Rate: 0.00025000\n",
      "--------------------------------------------------\n",
      "Epoch 71, Batch 0, Loss: 0.346927\n",
      "Epoch 71, Batch 10, Loss: 0.105842\n"
     ]
    },
    {
     "name": "stderr",
     "output_type": "stream",
     "text": [
      " 36%|███▌      | 71/200 [01:01<01:51,  1.16it/s]"
     ]
    },
    {
     "name": "stdout",
     "output_type": "stream",
     "text": [
      "Epoch 71/200:\n",
      "  Train Loss: 0.235685\n",
      "  Val Loss: 0.261242\n",
      "  Learning Rate: 0.00025000\n",
      "--------------------------------------------------\n",
      "Epoch 72, Batch 0, Loss: 0.205210\n",
      "Epoch 72, Batch 10, Loss: 0.078219\n"
     ]
    },
    {
     "name": "stderr",
     "output_type": "stream",
     "text": [
      " 36%|███▌      | 72/200 [01:02<01:50,  1.16it/s]"
     ]
    },
    {
     "name": "stdout",
     "output_type": "stream",
     "text": [
      "Epoch 72/200:\n",
      "  Train Loss: 0.157832\n",
      "  Val Loss: 0.238720\n",
      "  Learning Rate: 0.00025000\n",
      "--------------------------------------------------\n",
      "New best model saved with validation loss: 0.238720\n",
      "Epoch 73, Batch 0, Loss: 0.120314\n",
      "Epoch 73, Batch 10, Loss: 0.201320\n"
     ]
    },
    {
     "name": "stderr",
     "output_type": "stream",
     "text": [
      " 36%|███▋      | 73/200 [01:03<01:48,  1.17it/s]"
     ]
    },
    {
     "name": "stdout",
     "output_type": "stream",
     "text": [
      "Epoch 73/200:\n",
      "  Train Loss: 0.161357\n",
      "  Val Loss: 0.294612\n",
      "  Learning Rate: 0.00025000\n",
      "--------------------------------------------------\n",
      "Epoch 74, Batch 0, Loss: 0.163141\n",
      "Epoch 74, Batch 10, Loss: 0.585355\n"
     ]
    },
    {
     "name": "stderr",
     "output_type": "stream",
     "text": [
      " 37%|███▋      | 74/200 [01:04<01:47,  1.18it/s]"
     ]
    },
    {
     "name": "stdout",
     "output_type": "stream",
     "text": [
      "Epoch 74/200:\n",
      "  Train Loss: 0.167032\n",
      "  Val Loss: 0.251047\n",
      "  Learning Rate: 0.00025000\n",
      "--------------------------------------------------\n",
      "Epoch 75, Batch 0, Loss: 0.275702\n",
      "Epoch 75, Batch 10, Loss: 0.066572\n"
     ]
    },
    {
     "name": "stderr",
     "output_type": "stream",
     "text": [
      " 38%|███▊      | 75/200 [01:05<01:46,  1.18it/s]"
     ]
    },
    {
     "name": "stdout",
     "output_type": "stream",
     "text": [
      "Epoch 75/200:\n",
      "  Train Loss: 0.144092\n",
      "  Val Loss: 0.241187\n",
      "  Learning Rate: 0.00025000\n",
      "--------------------------------------------------\n",
      "Epoch 76, Batch 0, Loss: 0.079422\n",
      "Epoch 76, Batch 10, Loss: 0.486903\n"
     ]
    },
    {
     "name": "stderr",
     "output_type": "stream",
     "text": [
      " 38%|███▊      | 76/200 [01:05<01:45,  1.17it/s]"
     ]
    },
    {
     "name": "stdout",
     "output_type": "stream",
     "text": [
      "Epoch 76/200:\n",
      "  Train Loss: 0.139520\n",
      "  Val Loss: 0.253179\n",
      "  Learning Rate: 0.00025000\n",
      "--------------------------------------------------\n",
      "Epoch 77, Batch 0, Loss: 0.149716\n",
      "Epoch 77, Batch 10, Loss: 0.072628\n"
     ]
    },
    {
     "name": "stderr",
     "output_type": "stream",
     "text": [
      " 38%|███▊      | 77/200 [01:06<01:46,  1.16it/s]"
     ]
    },
    {
     "name": "stdout",
     "output_type": "stream",
     "text": [
      "Epoch 77/200:\n",
      "  Train Loss: 0.133771\n",
      "  Val Loss: 0.252454\n",
      "  Learning Rate: 0.00025000\n",
      "--------------------------------------------------\n",
      "Epoch 78, Batch 0, Loss: 0.095918\n",
      "Epoch 78, Batch 10, Loss: 0.110323\n"
     ]
    },
    {
     "name": "stderr",
     "output_type": "stream",
     "text": [
      " 39%|███▉      | 78/200 [01:07<01:46,  1.15it/s]"
     ]
    },
    {
     "name": "stdout",
     "output_type": "stream",
     "text": [
      "Epoch 78/200:\n",
      "  Train Loss: 0.135761\n",
      "  Val Loss: 0.228281\n",
      "  Learning Rate: 0.00025000\n",
      "--------------------------------------------------\n",
      "New best model saved with validation loss: 0.228281\n",
      "Epoch 79, Batch 0, Loss: 0.138497\n",
      "Epoch 79, Batch 10, Loss: 0.112947\n"
     ]
    },
    {
     "name": "stderr",
     "output_type": "stream",
     "text": [
      " 40%|███▉      | 79/200 [01:08<01:45,  1.15it/s]"
     ]
    },
    {
     "name": "stdout",
     "output_type": "stream",
     "text": [
      "Epoch 79/200:\n",
      "  Train Loss: 0.162748\n",
      "  Val Loss: 0.249841\n",
      "  Learning Rate: 0.00025000\n",
      "--------------------------------------------------\n",
      "Epoch 80, Batch 0, Loss: 0.121987\n",
      "Epoch 80, Batch 10, Loss: 0.065664\n"
     ]
    },
    {
     "name": "stderr",
     "output_type": "stream",
     "text": [
      " 40%|████      | 80/200 [01:09<01:44,  1.15it/s]"
     ]
    },
    {
     "name": "stdout",
     "output_type": "stream",
     "text": [
      "Epoch 80/200:\n",
      "  Train Loss: 0.134696\n",
      "  Val Loss: 0.237765\n",
      "  Learning Rate: 0.00025000\n",
      "--------------------------------------------------\n",
      "Epoch 81, Batch 0, Loss: 0.155992\n",
      "Epoch 81, Batch 10, Loss: 0.413547\n"
     ]
    },
    {
     "name": "stderr",
     "output_type": "stream",
     "text": [
      " 40%|████      | 81/200 [01:10<01:43,  1.15it/s]"
     ]
    },
    {
     "name": "stdout",
     "output_type": "stream",
     "text": [
      "Epoch 81/200:\n",
      "  Train Loss: 0.126179\n",
      "  Val Loss: 0.251697\n",
      "  Learning Rate: 0.00025000\n",
      "--------------------------------------------------\n",
      "Epoch 82, Batch 0, Loss: 0.185273\n",
      "Epoch 82, Batch 10, Loss: 0.095251\n"
     ]
    },
    {
     "name": "stderr",
     "output_type": "stream",
     "text": [
      " 41%|████      | 82/200 [01:11<01:42,  1.16it/s]"
     ]
    },
    {
     "name": "stdout",
     "output_type": "stream",
     "text": [
      "Epoch 82/200:\n",
      "  Train Loss: 0.143103\n",
      "  Val Loss: 0.235267\n",
      "  Learning Rate: 0.00025000\n",
      "--------------------------------------------------\n",
      "Epoch 83, Batch 0, Loss: 0.147348\n",
      "Epoch 83, Batch 10, Loss: 0.259881\n"
     ]
    },
    {
     "name": "stderr",
     "output_type": "stream",
     "text": [
      " 42%|████▏     | 83/200 [01:12<01:41,  1.16it/s]"
     ]
    },
    {
     "name": "stdout",
     "output_type": "stream",
     "text": [
      "Epoch 83/200:\n",
      "  Train Loss: 0.201031\n",
      "  Val Loss: 0.315478\n",
      "  Learning Rate: 0.00025000\n",
      "--------------------------------------------------\n",
      "Epoch 84, Batch 0, Loss: 0.073868\n",
      "Epoch 84, Batch 10, Loss: 0.180056\n"
     ]
    },
    {
     "name": "stderr",
     "output_type": "stream",
     "text": [
      " 42%|████▏     | 84/200 [01:12<01:39,  1.16it/s]"
     ]
    },
    {
     "name": "stdout",
     "output_type": "stream",
     "text": [
      "Epoch 84/200:\n",
      "  Train Loss: 0.180762\n",
      "  Val Loss: 0.236115\n",
      "  Learning Rate: 0.00025000\n",
      "--------------------------------------------------\n",
      "Epoch 85, Batch 0, Loss: 0.109971\n",
      "Epoch 85, Batch 10, Loss: 0.078937\n"
     ]
    },
    {
     "name": "stderr",
     "output_type": "stream",
     "text": [
      " 42%|████▎     | 85/200 [01:13<01:39,  1.16it/s]"
     ]
    },
    {
     "name": "stdout",
     "output_type": "stream",
     "text": [
      "Epoch 85/200:\n",
      "  Train Loss: 0.137687\n",
      "  Val Loss: 0.282382\n",
      "  Learning Rate: 0.00025000\n",
      "--------------------------------------------------\n",
      "Epoch 86, Batch 0, Loss: 0.044611\n",
      "Epoch 86, Batch 10, Loss: 0.133446\n"
     ]
    },
    {
     "name": "stderr",
     "output_type": "stream",
     "text": [
      " 43%|████▎     | 86/200 [01:14<01:38,  1.16it/s]"
     ]
    },
    {
     "name": "stdout",
     "output_type": "stream",
     "text": [
      "Epoch 86/200:\n",
      "  Train Loss: 0.157707\n",
      "  Val Loss: 0.234942\n",
      "  Learning Rate: 0.00025000\n",
      "--------------------------------------------------\n",
      "Epoch 87, Batch 0, Loss: 0.249543\n",
      "Epoch 87, Batch 10, Loss: 0.199426\n"
     ]
    },
    {
     "name": "stderr",
     "output_type": "stream",
     "text": [
      " 44%|████▎     | 87/200 [01:15<01:36,  1.17it/s]"
     ]
    },
    {
     "name": "stdout",
     "output_type": "stream",
     "text": [
      "Epoch 87/200:\n",
      "  Train Loss: 0.154542\n",
      "  Val Loss: 0.248982\n",
      "  Learning Rate: 0.00025000\n",
      "--------------------------------------------------\n",
      "Epoch 88, Batch 0, Loss: 0.086744\n",
      "Epoch 88, Batch 10, Loss: 0.115911\n"
     ]
    },
    {
     "name": "stderr",
     "output_type": "stream",
     "text": [
      " 44%|████▍     | 88/200 [01:16<01:36,  1.16it/s]"
     ]
    },
    {
     "name": "stdout",
     "output_type": "stream",
     "text": [
      "Epoch 88/200:\n",
      "  Train Loss: 0.146841\n",
      "  Val Loss: 0.233677\n",
      "  Learning Rate: 0.00025000\n",
      "--------------------------------------------------\n",
      "Epoch 89, Batch 0, Loss: 0.094576\n",
      "Epoch 89, Batch 10, Loss: 0.215333\n"
     ]
    },
    {
     "name": "stderr",
     "output_type": "stream",
     "text": [
      " 44%|████▍     | 89/200 [01:17<01:35,  1.17it/s]"
     ]
    },
    {
     "name": "stdout",
     "output_type": "stream",
     "text": [
      "Epoch 89/200:\n",
      "  Train Loss: 0.124574\n",
      "  Val Loss: 0.927262\n",
      "  Learning Rate: 0.00025000\n",
      "--------------------------------------------------\n",
      "Epoch 90, Batch 0, Loss: 0.162605\n",
      "Epoch 90, Batch 10, Loss: 0.130005\n"
     ]
    },
    {
     "name": "stderr",
     "output_type": "stream",
     "text": [
      " 45%|████▌     | 90/200 [01:18<01:34,  1.16it/s]"
     ]
    },
    {
     "name": "stdout",
     "output_type": "stream",
     "text": [
      "Epoch 90/200:\n",
      "  Train Loss: 0.232886\n",
      "  Val Loss: 0.230588\n",
      "  Learning Rate: 0.00012500\n",
      "--------------------------------------------------\n",
      "Epoch 91, Batch 0, Loss: 0.073242\n",
      "Epoch 91, Batch 10, Loss: 0.107680\n"
     ]
    },
    {
     "name": "stderr",
     "output_type": "stream",
     "text": [
      " 46%|████▌     | 91/200 [01:18<01:34,  1.15it/s]"
     ]
    },
    {
     "name": "stdout",
     "output_type": "stream",
     "text": [
      "Epoch 91/200:\n",
      "  Train Loss: 0.135796\n",
      "  Val Loss: 0.233680\n",
      "  Learning Rate: 0.00012500\n",
      "--------------------------------------------------\n",
      "Epoch 92, Batch 0, Loss: 0.084247\n",
      "Epoch 92, Batch 10, Loss: 0.062053\n"
     ]
    },
    {
     "name": "stderr",
     "output_type": "stream",
     "text": [
      " 46%|████▌     | 92/200 [01:19<01:33,  1.16it/s]"
     ]
    },
    {
     "name": "stdout",
     "output_type": "stream",
     "text": [
      "Epoch 92/200:\n",
      "  Train Loss: 0.142500\n",
      "  Val Loss: 0.239071\n",
      "  Learning Rate: 0.00012500\n",
      "--------------------------------------------------\n",
      "Epoch 93, Batch 0, Loss: 0.098539\n",
      "Epoch 93, Batch 10, Loss: 0.083211\n"
     ]
    },
    {
     "name": "stderr",
     "output_type": "stream",
     "text": [
      " 46%|████▋     | 93/200 [01:20<01:31,  1.16it/s]"
     ]
    },
    {
     "name": "stdout",
     "output_type": "stream",
     "text": [
      "Epoch 93/200:\n",
      "  Train Loss: 0.119935\n",
      "  Val Loss: 0.231709\n",
      "  Learning Rate: 0.00012500\n",
      "--------------------------------------------------\n",
      "Epoch 94, Batch 0, Loss: 0.071087\n",
      "Epoch 94, Batch 10, Loss: 0.153901\n"
     ]
    },
    {
     "name": "stderr",
     "output_type": "stream",
     "text": [
      " 47%|████▋     | 94/200 [01:21<01:30,  1.17it/s]"
     ]
    },
    {
     "name": "stdout",
     "output_type": "stream",
     "text": [
      "Epoch 94/200:\n",
      "  Train Loss: 0.140267\n",
      "  Val Loss: 0.235027\n",
      "  Learning Rate: 0.00012500\n",
      "--------------------------------------------------\n",
      "Epoch 95, Batch 0, Loss: 0.117428\n",
      "Epoch 95, Batch 10, Loss: 0.083070\n"
     ]
    },
    {
     "name": "stderr",
     "output_type": "stream",
     "text": [
      " 48%|████▊     | 95/200 [01:22<01:29,  1.17it/s]"
     ]
    },
    {
     "name": "stdout",
     "output_type": "stream",
     "text": [
      "Epoch 95/200:\n",
      "  Train Loss: 0.120468\n",
      "  Val Loss: 0.232300\n",
      "  Learning Rate: 0.00012500\n",
      "--------------------------------------------------\n",
      "Epoch 96, Batch 0, Loss: 0.072180\n",
      "Epoch 96, Batch 10, Loss: 0.175690\n"
     ]
    },
    {
     "name": "stderr",
     "output_type": "stream",
     "text": [
      " 48%|████▊     | 96/200 [01:23<01:30,  1.15it/s]"
     ]
    },
    {
     "name": "stdout",
     "output_type": "stream",
     "text": [
      "Epoch 96/200:\n",
      "  Train Loss: 0.108001\n",
      "  Val Loss: 0.227537\n",
      "  Learning Rate: 0.00012500\n",
      "--------------------------------------------------\n",
      "New best model saved with validation loss: 0.227537\n",
      "Epoch 97, Batch 0, Loss: 0.291628\n",
      "Epoch 97, Batch 10, Loss: 0.116582\n"
     ]
    },
    {
     "name": "stderr",
     "output_type": "stream",
     "text": [
      " 48%|████▊     | 97/200 [01:24<01:28,  1.16it/s]"
     ]
    },
    {
     "name": "stdout",
     "output_type": "stream",
     "text": [
      "Epoch 97/200:\n",
      "  Train Loss: 0.120966\n",
      "  Val Loss: 0.230110\n",
      "  Learning Rate: 0.00012500\n",
      "--------------------------------------------------\n",
      "Epoch 98, Batch 0, Loss: 0.041431\n",
      "Epoch 98, Batch 10, Loss: 0.113850\n"
     ]
    },
    {
     "name": "stderr",
     "output_type": "stream",
     "text": [
      " 49%|████▉     | 98/200 [01:24<01:28,  1.16it/s]"
     ]
    },
    {
     "name": "stdout",
     "output_type": "stream",
     "text": [
      "Epoch 98/200:\n",
      "  Train Loss: 0.136237\n",
      "  Val Loss: 0.236084\n",
      "  Learning Rate: 0.00012500\n",
      "--------------------------------------------------\n",
      "Epoch 99, Batch 0, Loss: 0.083614\n",
      "Epoch 99, Batch 10, Loss: 0.116160\n"
     ]
    },
    {
     "name": "stderr",
     "output_type": "stream",
     "text": [
      " 50%|████▉     | 99/200 [01:25<01:27,  1.16it/s]"
     ]
    },
    {
     "name": "stdout",
     "output_type": "stream",
     "text": [
      "Epoch 99/200:\n",
      "  Train Loss: 0.111497\n",
      "  Val Loss: 0.227783\n",
      "  Learning Rate: 0.00012500\n",
      "--------------------------------------------------\n",
      "Epoch 100, Batch 0, Loss: 0.050119\n",
      "Epoch 100, Batch 10, Loss: 0.056527\n"
     ]
    },
    {
     "name": "stderr",
     "output_type": "stream",
     "text": [
      " 50%|█████     | 100/200 [01:26<01:26,  1.16it/s]"
     ]
    },
    {
     "name": "stdout",
     "output_type": "stream",
     "text": [
      "Epoch 100/200:\n",
      "  Train Loss: 0.093865\n",
      "  Val Loss: 0.227054\n",
      "  Learning Rate: 0.00012500\n",
      "--------------------------------------------------\n",
      "New best model saved with validation loss: 0.227054\n",
      "Epoch 101, Batch 0, Loss: 0.085696\n",
      "Epoch 101, Batch 10, Loss: 0.111003\n"
     ]
    },
    {
     "name": "stderr",
     "output_type": "stream",
     "text": [
      " 50%|█████     | 101/200 [01:27<01:25,  1.15it/s]"
     ]
    },
    {
     "name": "stdout",
     "output_type": "stream",
     "text": [
      "Epoch 101/200:\n",
      "  Train Loss: 0.110542\n",
      "  Val Loss: 0.230083\n",
      "  Learning Rate: 0.00012500\n",
      "--------------------------------------------------\n",
      "Epoch 102, Batch 0, Loss: 0.079622\n",
      "Epoch 102, Batch 10, Loss: 0.128542\n"
     ]
    },
    {
     "name": "stderr",
     "output_type": "stream",
     "text": [
      " 51%|█████     | 102/200 [01:28<01:24,  1.16it/s]"
     ]
    },
    {
     "name": "stdout",
     "output_type": "stream",
     "text": [
      "Epoch 102/200:\n",
      "  Train Loss: 0.118671\n",
      "  Val Loss: 0.246558\n",
      "  Learning Rate: 0.00012500\n",
      "--------------------------------------------------\n",
      "Epoch 103, Batch 0, Loss: 0.081359\n",
      "Epoch 103, Batch 10, Loss: 0.092633\n"
     ]
    },
    {
     "name": "stderr",
     "output_type": "stream",
     "text": [
      " 52%|█████▏    | 103/200 [01:29<01:24,  1.15it/s]"
     ]
    },
    {
     "name": "stdout",
     "output_type": "stream",
     "text": [
      "Epoch 103/200:\n",
      "  Train Loss: 0.099424\n",
      "  Val Loss: 0.233786\n",
      "  Learning Rate: 0.00012500\n",
      "--------------------------------------------------\n",
      "Epoch 104, Batch 0, Loss: 0.095795\n",
      "Epoch 104, Batch 10, Loss: 0.061302\n"
     ]
    },
    {
     "name": "stderr",
     "output_type": "stream",
     "text": [
      " 52%|█████▏    | 104/200 [01:30<01:23,  1.15it/s]"
     ]
    },
    {
     "name": "stdout",
     "output_type": "stream",
     "text": [
      "Epoch 104/200:\n",
      "  Train Loss: 0.104525\n",
      "  Val Loss: 0.218884\n",
      "  Learning Rate: 0.00012500\n",
      "--------------------------------------------------\n",
      "New best model saved with validation loss: 0.218884\n",
      "Epoch 105, Batch 0, Loss: 0.044595\n",
      "Epoch 105, Batch 10, Loss: 0.043493\n"
     ]
    },
    {
     "name": "stderr",
     "output_type": "stream",
     "text": [
      " 52%|█████▎    | 105/200 [01:31<01:23,  1.14it/s]"
     ]
    },
    {
     "name": "stdout",
     "output_type": "stream",
     "text": [
      "Epoch 105/200:\n",
      "  Train Loss: 0.092550\n",
      "  Val Loss: 0.218377\n",
      "  Learning Rate: 0.00012500\n",
      "--------------------------------------------------\n",
      "New best model saved with validation loss: 0.218377\n",
      "Epoch 106, Batch 0, Loss: 0.037790\n",
      "Epoch 106, Batch 10, Loss: 0.086794\n"
     ]
    },
    {
     "name": "stderr",
     "output_type": "stream",
     "text": [
      " 53%|█████▎    | 106/200 [01:31<01:22,  1.14it/s]"
     ]
    },
    {
     "name": "stdout",
     "output_type": "stream",
     "text": [
      "Epoch 106/200:\n",
      "  Train Loss: 0.126657\n",
      "  Val Loss: 0.218571\n",
      "  Learning Rate: 0.00012500\n",
      "--------------------------------------------------\n",
      "Epoch 107, Batch 0, Loss: 0.143988\n",
      "Epoch 107, Batch 10, Loss: 0.150406\n"
     ]
    },
    {
     "name": "stderr",
     "output_type": "stream",
     "text": [
      " 54%|█████▎    | 107/200 [01:32<01:22,  1.13it/s]"
     ]
    },
    {
     "name": "stdout",
     "output_type": "stream",
     "text": [
      "Epoch 107/200:\n",
      "  Train Loss: 0.118773\n",
      "  Val Loss: 0.231849\n",
      "  Learning Rate: 0.00012500\n",
      "--------------------------------------------------\n",
      "Epoch 108, Batch 0, Loss: 0.106257\n",
      "Epoch 108, Batch 10, Loss: 0.081993\n"
     ]
    },
    {
     "name": "stderr",
     "output_type": "stream",
     "text": [
      " 54%|█████▍    | 108/200 [01:33<01:21,  1.12it/s]"
     ]
    },
    {
     "name": "stdout",
     "output_type": "stream",
     "text": [
      "Epoch 108/200:\n",
      "  Train Loss: 0.114225\n",
      "  Val Loss: 0.231543\n",
      "  Learning Rate: 0.00012500\n",
      "--------------------------------------------------\n",
      "Epoch 109, Batch 0, Loss: 0.083369\n",
      "Epoch 109, Batch 10, Loss: 0.038843\n"
     ]
    },
    {
     "name": "stderr",
     "output_type": "stream",
     "text": [
      " 55%|█████▍    | 109/200 [01:34<01:20,  1.13it/s]"
     ]
    },
    {
     "name": "stdout",
     "output_type": "stream",
     "text": [
      "Epoch 109/200:\n",
      "  Train Loss: 0.105932\n",
      "  Val Loss: 0.219545\n",
      "  Learning Rate: 0.00012500\n",
      "--------------------------------------------------\n",
      "Epoch 110, Batch 0, Loss: 0.107612\n",
      "Epoch 110, Batch 10, Loss: 0.063095\n"
     ]
    },
    {
     "name": "stderr",
     "output_type": "stream",
     "text": [
      " 55%|█████▌    | 110/200 [01:35<01:19,  1.13it/s]"
     ]
    },
    {
     "name": "stdout",
     "output_type": "stream",
     "text": [
      "Epoch 110/200:\n",
      "  Train Loss: 0.099593\n",
      "  Val Loss: 0.237552\n",
      "  Learning Rate: 0.00012500\n",
      "--------------------------------------------------\n",
      "Epoch 111, Batch 0, Loss: 0.167909\n",
      "Epoch 111, Batch 10, Loss: 0.114617\n"
     ]
    },
    {
     "name": "stderr",
     "output_type": "stream",
     "text": [
      " 56%|█████▌    | 111/200 [01:36<01:18,  1.14it/s]"
     ]
    },
    {
     "name": "stdout",
     "output_type": "stream",
     "text": [
      "Epoch 111/200:\n",
      "  Train Loss: 0.140090\n",
      "  Val Loss: 0.245567\n",
      "  Learning Rate: 0.00012500\n",
      "--------------------------------------------------\n",
      "Epoch 112, Batch 0, Loss: 0.076940\n",
      "Epoch 112, Batch 10, Loss: 0.085864\n"
     ]
    },
    {
     "name": "stderr",
     "output_type": "stream",
     "text": [
      " 56%|█████▌    | 112/200 [01:37<01:16,  1.15it/s]"
     ]
    },
    {
     "name": "stdout",
     "output_type": "stream",
     "text": [
      "Epoch 112/200:\n",
      "  Train Loss: 0.120821\n",
      "  Val Loss: 0.224323\n",
      "  Learning Rate: 0.00012500\n",
      "--------------------------------------------------\n",
      "Epoch 113, Batch 0, Loss: 0.411191\n",
      "Epoch 113, Batch 10, Loss: 0.094664\n"
     ]
    },
    {
     "name": "stderr",
     "output_type": "stream",
     "text": [
      " 56%|█████▋    | 113/200 [01:38<01:15,  1.16it/s]"
     ]
    },
    {
     "name": "stdout",
     "output_type": "stream",
     "text": [
      "Epoch 113/200:\n",
      "  Train Loss: 0.104737\n",
      "  Val Loss: 0.220352\n",
      "  Learning Rate: 0.00012500\n",
      "--------------------------------------------------\n",
      "Epoch 114, Batch 0, Loss: 0.478414\n",
      "Epoch 114, Batch 10, Loss: 0.034653\n"
     ]
    },
    {
     "name": "stderr",
     "output_type": "stream",
     "text": [
      " 57%|█████▋    | 114/200 [01:38<01:14,  1.15it/s]"
     ]
    },
    {
     "name": "stdout",
     "output_type": "stream",
     "text": [
      "Epoch 114/200:\n",
      "  Train Loss: 0.105996\n",
      "  Val Loss: 0.232442\n",
      "  Learning Rate: 0.00012500\n",
      "--------------------------------------------------\n",
      "Epoch 115, Batch 0, Loss: 0.127899\n",
      "Epoch 115, Batch 10, Loss: 0.056482\n"
     ]
    },
    {
     "name": "stderr",
     "output_type": "stream",
     "text": [
      " 57%|█████▊    | 115/200 [01:39<01:13,  1.16it/s]"
     ]
    },
    {
     "name": "stdout",
     "output_type": "stream",
     "text": [
      "Epoch 115/200:\n",
      "  Train Loss: 0.091956\n",
      "  Val Loss: 0.226236\n",
      "  Learning Rate: 0.00012500\n",
      "--------------------------------------------------\n",
      "Epoch 116, Batch 0, Loss: 0.089523\n",
      "Epoch 116, Batch 10, Loss: 0.114217\n"
     ]
    },
    {
     "name": "stderr",
     "output_type": "stream",
     "text": [
      " 58%|█████▊    | 116/200 [01:40<01:12,  1.16it/s]"
     ]
    },
    {
     "name": "stdout",
     "output_type": "stream",
     "text": [
      "Epoch 116/200:\n",
      "  Train Loss: 0.107140\n",
      "  Val Loss: 0.239304\n",
      "  Learning Rate: 0.00012500\n",
      "--------------------------------------------------\n",
      "Epoch 117, Batch 0, Loss: 0.117424\n",
      "Epoch 117, Batch 10, Loss: 0.058084\n"
     ]
    },
    {
     "name": "stderr",
     "output_type": "stream",
     "text": [
      " 58%|█████▊    | 117/200 [01:41<01:12,  1.15it/s]"
     ]
    },
    {
     "name": "stdout",
     "output_type": "stream",
     "text": [
      "Epoch 117/200:\n",
      "  Train Loss: 0.095367\n",
      "  Val Loss: 0.219203\n",
      "  Learning Rate: 0.00006250\n",
      "--------------------------------------------------\n",
      "Epoch 118, Batch 0, Loss: 0.128892\n",
      "Epoch 118, Batch 10, Loss: 0.086243\n"
     ]
    },
    {
     "name": "stderr",
     "output_type": "stream",
     "text": [
      " 59%|█████▉    | 118/200 [01:42<01:11,  1.15it/s]"
     ]
    },
    {
     "name": "stdout",
     "output_type": "stream",
     "text": [
      "Epoch 118/200:\n",
      "  Train Loss: 0.104779\n",
      "  Val Loss: 0.213728\n",
      "  Learning Rate: 0.00006250\n",
      "--------------------------------------------------\n",
      "New best model saved with validation loss: 0.213728\n",
      "Epoch 119, Batch 0, Loss: 0.045481\n",
      "Epoch 119, Batch 10, Loss: 0.094455\n"
     ]
    },
    {
     "name": "stderr",
     "output_type": "stream",
     "text": [
      " 60%|█████▉    | 119/200 [01:43<01:10,  1.15it/s]"
     ]
    },
    {
     "name": "stdout",
     "output_type": "stream",
     "text": [
      "Epoch 119/200:\n",
      "  Train Loss: 0.106743\n",
      "  Val Loss: 0.224155\n",
      "  Learning Rate: 0.00006250\n",
      "--------------------------------------------------\n",
      "Epoch 120, Batch 0, Loss: 0.097091\n",
      "Epoch 120, Batch 10, Loss: 0.253205\n"
     ]
    },
    {
     "name": "stderr",
     "output_type": "stream",
     "text": [
      " 60%|██████    | 120/200 [01:44<01:10,  1.13it/s]"
     ]
    },
    {
     "name": "stdout",
     "output_type": "stream",
     "text": [
      "Epoch 120/200:\n",
      "  Train Loss: 0.089104\n",
      "  Val Loss: 0.222265\n",
      "  Learning Rate: 0.00006250\n",
      "--------------------------------------------------\n",
      "Epoch 121, Batch 0, Loss: 0.045656\n",
      "Epoch 121, Batch 10, Loss: 0.124380\n"
     ]
    },
    {
     "name": "stderr",
     "output_type": "stream",
     "text": [
      " 60%|██████    | 121/200 [01:45<01:09,  1.14it/s]"
     ]
    },
    {
     "name": "stdout",
     "output_type": "stream",
     "text": [
      "Epoch 121/200:\n",
      "  Train Loss: 0.092304\n",
      "  Val Loss: 0.230652\n",
      "  Learning Rate: 0.00006250\n",
      "--------------------------------------------------\n",
      "Epoch 122, Batch 0, Loss: 0.067853\n",
      "Epoch 122, Batch 10, Loss: 0.076630\n"
     ]
    },
    {
     "name": "stderr",
     "output_type": "stream",
     "text": [
      " 61%|██████    | 122/200 [01:45<01:07,  1.16it/s]"
     ]
    },
    {
     "name": "stdout",
     "output_type": "stream",
     "text": [
      "Epoch 122/200:\n",
      "  Train Loss: 0.103455\n",
      "  Val Loss: 0.222918\n",
      "  Learning Rate: 0.00006250\n",
      "--------------------------------------------------\n",
      "Epoch 123, Batch 0, Loss: 0.065088\n",
      "Epoch 123, Batch 10, Loss: 0.104957\n"
     ]
    },
    {
     "name": "stderr",
     "output_type": "stream",
     "text": [
      " 62%|██████▏   | 123/200 [01:46<01:06,  1.15it/s]"
     ]
    },
    {
     "name": "stdout",
     "output_type": "stream",
     "text": [
      "Epoch 123/200:\n",
      "  Train Loss: 0.096167\n",
      "  Val Loss: 0.212916\n",
      "  Learning Rate: 0.00006250\n",
      "--------------------------------------------------\n",
      "New best model saved with validation loss: 0.212916\n",
      "Epoch 124, Batch 0, Loss: 0.039387\n",
      "Epoch 124, Batch 10, Loss: 0.057117\n"
     ]
    },
    {
     "name": "stderr",
     "output_type": "stream",
     "text": [
      " 62%|██████▏   | 124/200 [01:47<01:05,  1.16it/s]"
     ]
    },
    {
     "name": "stdout",
     "output_type": "stream",
     "text": [
      "Epoch 124/200:\n",
      "  Train Loss: 0.100023\n",
      "  Val Loss: 0.229620\n",
      "  Learning Rate: 0.00006250\n",
      "--------------------------------------------------\n",
      "Epoch 125, Batch 0, Loss: 0.054840\n",
      "Epoch 125, Batch 10, Loss: 0.076110\n"
     ]
    },
    {
     "name": "stderr",
     "output_type": "stream",
     "text": [
      " 62%|██████▎   | 125/200 [01:48<01:04,  1.16it/s]"
     ]
    },
    {
     "name": "stdout",
     "output_type": "stream",
     "text": [
      "Epoch 125/200:\n",
      "  Train Loss: 0.096265\n",
      "  Val Loss: 0.216963\n",
      "  Learning Rate: 0.00006250\n",
      "--------------------------------------------------\n",
      "Epoch 126, Batch 0, Loss: 0.055839\n",
      "Epoch 126, Batch 10, Loss: 0.089197\n"
     ]
    },
    {
     "name": "stderr",
     "output_type": "stream",
     "text": [
      " 63%|██████▎   | 126/200 [01:49<01:04,  1.15it/s]"
     ]
    },
    {
     "name": "stdout",
     "output_type": "stream",
     "text": [
      "Epoch 126/200:\n",
      "  Train Loss: 0.104850\n",
      "  Val Loss: 0.214849\n",
      "  Learning Rate: 0.00006250\n",
      "--------------------------------------------------\n",
      "Epoch 127, Batch 0, Loss: 0.108033\n",
      "Epoch 127, Batch 10, Loss: 0.094471\n"
     ]
    },
    {
     "name": "stderr",
     "output_type": "stream",
     "text": [
      " 64%|██████▎   | 127/200 [01:50<01:03,  1.15it/s]"
     ]
    },
    {
     "name": "stdout",
     "output_type": "stream",
     "text": [
      "Epoch 127/200:\n",
      "  Train Loss: 0.102443\n",
      "  Val Loss: 0.226373\n",
      "  Learning Rate: 0.00006250\n",
      "--------------------------------------------------\n",
      "Epoch 128, Batch 0, Loss: 0.045856\n",
      "Epoch 128, Batch 10, Loss: 0.048961\n"
     ]
    },
    {
     "name": "stderr",
     "output_type": "stream",
     "text": [
      " 64%|██████▍   | 128/200 [01:51<01:02,  1.16it/s]"
     ]
    },
    {
     "name": "stdout",
     "output_type": "stream",
     "text": [
      "Epoch 128/200:\n",
      "  Train Loss: 0.086958\n",
      "  Val Loss: 0.232617\n",
      "  Learning Rate: 0.00006250\n",
      "--------------------------------------------------\n",
      "Epoch 129, Batch 0, Loss: 0.073491\n",
      "Epoch 129, Batch 10, Loss: 0.044317\n"
     ]
    },
    {
     "name": "stderr",
     "output_type": "stream",
     "text": [
      " 64%|██████▍   | 129/200 [01:51<01:01,  1.16it/s]"
     ]
    },
    {
     "name": "stdout",
     "output_type": "stream",
     "text": [
      "Epoch 129/200:\n",
      "  Train Loss: 0.101987\n",
      "  Val Loss: 0.227291\n",
      "  Learning Rate: 0.00006250\n",
      "--------------------------------------------------\n",
      "Epoch 130, Batch 0, Loss: 0.023425\n",
      "Epoch 130, Batch 10, Loss: 0.087788\n"
     ]
    },
    {
     "name": "stderr",
     "output_type": "stream",
     "text": [
      " 65%|██████▌   | 130/200 [01:52<01:00,  1.16it/s]"
     ]
    },
    {
     "name": "stdout",
     "output_type": "stream",
     "text": [
      "Epoch 130/200:\n",
      "  Train Loss: 0.084573\n",
      "  Val Loss: 0.220221\n",
      "  Learning Rate: 0.00006250\n",
      "--------------------------------------------------\n",
      "Epoch 131, Batch 0, Loss: 0.089130\n",
      "Epoch 131, Batch 10, Loss: 0.132628\n"
     ]
    },
    {
     "name": "stderr",
     "output_type": "stream",
     "text": [
      " 66%|██████▌   | 131/200 [01:53<00:59,  1.16it/s]"
     ]
    },
    {
     "name": "stdout",
     "output_type": "stream",
     "text": [
      "Epoch 131/200:\n",
      "  Train Loss: 0.093823\n",
      "  Val Loss: 0.215321\n",
      "  Learning Rate: 0.00006250\n",
      "--------------------------------------------------\n",
      "Epoch 132, Batch 0, Loss: 0.067052\n",
      "Epoch 132, Batch 10, Loss: 0.057790\n"
     ]
    },
    {
     "name": "stderr",
     "output_type": "stream",
     "text": [
      " 66%|██████▌   | 132/200 [01:54<00:59,  1.15it/s]"
     ]
    },
    {
     "name": "stdout",
     "output_type": "stream",
     "text": [
      "Epoch 132/200:\n",
      "  Train Loss: 0.101457\n",
      "  Val Loss: 0.221402\n",
      "  Learning Rate: 0.00006250\n",
      "--------------------------------------------------\n",
      "Epoch 133, Batch 0, Loss: 0.277341\n",
      "Epoch 133, Batch 10, Loss: 0.067187\n"
     ]
    },
    {
     "name": "stderr",
     "output_type": "stream",
     "text": [
      " 66%|██████▋   | 133/200 [01:55<00:58,  1.15it/s]"
     ]
    },
    {
     "name": "stdout",
     "output_type": "stream",
     "text": [
      "Epoch 133/200:\n",
      "  Train Loss: 0.096414\n",
      "  Val Loss: 0.222865\n",
      "  Learning Rate: 0.00006250\n",
      "--------------------------------------------------\n",
      "Epoch 134, Batch 0, Loss: 0.068720\n",
      "Epoch 134, Batch 10, Loss: 0.074154\n"
     ]
    },
    {
     "name": "stderr",
     "output_type": "stream",
     "text": [
      " 67%|██████▋   | 134/200 [01:56<00:57,  1.15it/s]"
     ]
    },
    {
     "name": "stdout",
     "output_type": "stream",
     "text": [
      "Epoch 134/200:\n",
      "  Train Loss: 0.110056\n",
      "  Val Loss: 0.224490\n",
      "  Learning Rate: 0.00006250\n",
      "--------------------------------------------------\n",
      "Epoch 135, Batch 0, Loss: 0.077920\n",
      "Epoch 135, Batch 10, Loss: 0.057949\n"
     ]
    },
    {
     "name": "stderr",
     "output_type": "stream",
     "text": [
      " 68%|██████▊   | 135/200 [01:57<00:56,  1.16it/s]"
     ]
    },
    {
     "name": "stdout",
     "output_type": "stream",
     "text": [
      "Epoch 135/200:\n",
      "  Train Loss: 0.085996\n",
      "  Val Loss: 0.219024\n",
      "  Learning Rate: 0.00003125\n",
      "--------------------------------------------------\n",
      "Epoch 136, Batch 0, Loss: 0.068807\n",
      "Epoch 136, Batch 10, Loss: 0.130620\n"
     ]
    },
    {
     "name": "stderr",
     "output_type": "stream",
     "text": [
      " 68%|██████▊   | 136/200 [01:57<00:55,  1.16it/s]"
     ]
    },
    {
     "name": "stdout",
     "output_type": "stream",
     "text": [
      "Epoch 136/200:\n",
      "  Train Loss: 0.084543\n",
      "  Val Loss: 0.231438\n",
      "  Learning Rate: 0.00003125\n",
      "--------------------------------------------------\n",
      "Epoch 137, Batch 0, Loss: 0.062240\n",
      "Epoch 137, Batch 10, Loss: 0.092826\n"
     ]
    },
    {
     "name": "stderr",
     "output_type": "stream",
     "text": [
      " 68%|██████▊   | 137/200 [01:58<00:53,  1.17it/s]"
     ]
    },
    {
     "name": "stdout",
     "output_type": "stream",
     "text": [
      "Epoch 137/200:\n",
      "  Train Loss: 0.074028\n",
      "  Val Loss: 0.222084\n",
      "  Learning Rate: 0.00003125\n",
      "--------------------------------------------------\n",
      "Epoch 138, Batch 0, Loss: 0.052984\n",
      "Epoch 138, Batch 10, Loss: 0.031193\n"
     ]
    },
    {
     "name": "stderr",
     "output_type": "stream",
     "text": [
      " 69%|██████▉   | 138/200 [01:59<00:53,  1.16it/s]"
     ]
    },
    {
     "name": "stdout",
     "output_type": "stream",
     "text": [
      "Epoch 138/200:\n",
      "  Train Loss: 0.076163\n",
      "  Val Loss: 0.229269\n",
      "  Learning Rate: 0.00003125\n",
      "--------------------------------------------------\n",
      "Epoch 139, Batch 0, Loss: 0.039694\n",
      "Epoch 139, Batch 10, Loss: 0.097350\n"
     ]
    },
    {
     "name": "stderr",
     "output_type": "stream",
     "text": [
      " 70%|██████▉   | 139/200 [02:00<00:52,  1.15it/s]"
     ]
    },
    {
     "name": "stdout",
     "output_type": "stream",
     "text": [
      "Epoch 139/200:\n",
      "  Train Loss: 0.082109\n",
      "  Val Loss: 0.219975\n",
      "  Learning Rate: 0.00003125\n",
      "--------------------------------------------------\n",
      "Epoch 140, Batch 0, Loss: 0.126728\n",
      "Epoch 140, Batch 10, Loss: 0.043631\n"
     ]
    },
    {
     "name": "stderr",
     "output_type": "stream",
     "text": [
      " 70%|███████   | 140/200 [02:01<00:52,  1.15it/s]"
     ]
    },
    {
     "name": "stdout",
     "output_type": "stream",
     "text": [
      "Epoch 140/200:\n",
      "  Train Loss: 0.092451\n",
      "  Val Loss: 0.217923\n",
      "  Learning Rate: 0.00003125\n",
      "--------------------------------------------------\n",
      "Epoch 141, Batch 0, Loss: 0.041240\n",
      "Epoch 141, Batch 10, Loss: 0.065730\n"
     ]
    },
    {
     "name": "stderr",
     "output_type": "stream",
     "text": [
      " 70%|███████   | 141/200 [02:02<00:51,  1.15it/s]"
     ]
    },
    {
     "name": "stdout",
     "output_type": "stream",
     "text": [
      "Epoch 141/200:\n",
      "  Train Loss: 0.084316\n",
      "  Val Loss: 0.225116\n",
      "  Learning Rate: 0.00003125\n",
      "--------------------------------------------------\n",
      "Epoch 142, Batch 0, Loss: 0.060081\n",
      "Epoch 142, Batch 10, Loss: 0.065484\n"
     ]
    },
    {
     "name": "stderr",
     "output_type": "stream",
     "text": [
      " 71%|███████   | 142/200 [02:03<00:50,  1.16it/s]"
     ]
    },
    {
     "name": "stdout",
     "output_type": "stream",
     "text": [
      "Epoch 142/200:\n",
      "  Train Loss: 0.089546\n",
      "  Val Loss: 0.215045\n",
      "  Learning Rate: 0.00003125\n",
      "--------------------------------------------------\n",
      "Epoch 143, Batch 0, Loss: 0.140579\n",
      "Epoch 143, Batch 10, Loss: 0.074934\n"
     ]
    },
    {
     "name": "stderr",
     "output_type": "stream",
     "text": [
      " 71%|███████   | 142/200 [02:04<00:50,  1.14it/s]"
     ]
    },
    {
     "name": "stdout",
     "output_type": "stream",
     "text": [
      "Epoch 143/200:\n",
      "  Train Loss: 0.079659\n",
      "  Val Loss: 0.219263\n",
      "  Learning Rate: 0.00003125\n",
      "--------------------------------------------------\n",
      "Early stopping triggered after 143 epochs\n"
     ]
    },
    {
     "name": "stderr",
     "output_type": "stream",
     "text": [
      "\n"
     ]
    }
   ],
   "source": [
    "# Initialize model\n",
    "model = ProteinCNN(\n",
    "    num_amino_acids=20,  # Standard amino acids\n",
    "    num_filters=128,\n",
    "    dropout_rate=0.5\n",
    ").to(device)\n",
    "\n",
    "# Train model\n",
    "print(\"Starting training...\")\n",
    "trained_model, train_losses, val_losses, learning_rates = train_cnn_model(\n",
    "    model=model,\n",
    "    train_loader=train_loader,\n",
    "    val_loader=val_loader,\n",
    "    num_epochs=200,\n",
    "    learning_rate=0.001\n",
    ")"
   ]
  },
  {
   "cell_type": "code",
   "execution_count": 23,
   "id": "934d781e",
   "metadata": {},
   "outputs": [
    {
     "name": "stdout",
     "output_type": "stream",
     "text": [
      "\n",
      "Evaluating model on test set...\n",
      "\n",
      "Model Evaluation Results:\n",
      "Normalized metrics:\n",
      "  R² Score: 0.6969\n",
      "  RMSE: 0.5506\n",
      "  MAE: 0.3611\n",
      "  Median AE: 0.1985\n",
      "\n",
      "Original scale metrics:\n",
      "  R² Score: 0.6969\n",
      "  RMSE: 36.7899\n",
      "  MAE: 24.1266\n",
      "  Median AE: 13.2653\n"
     ]
    },
    {
     "data": {
      "image/png": "[encoded data removed]",
      "text/plain": [
       "<Figure size 1500x1000 with 4 Axes>"
      ]
     },
     "metadata": {},
     "output_type": "display_data"
    }
   ],
   "source": [
    "# Evaluate model on test set\n",
    "print(\"\\nEvaluating model on test set...\")\n",
    "evaluation_results = evaluate_model(\n",
    "    model=trained_model,\n",
    "    data_loader=test_loader,\n",
    "    dataset=train_dataset,  # For normalization parameters\n",
    "    fpbase_dataset=dataset,\n",
    "    target_name='ex_max'\n",
    ")\n",
    "\n",
    "# Plot training history\n",
    "plot_training_history(train_losses, val_losses, learning_rates)\n"
   ]
  }
 ],
 "metadata": {
  "kernelspec": {
   "display_name": "venv",
   "language": "python",
   "name": "python3"
  },
  "language_info": {
   "codemirror_mode": {
    "name": "ipython",
    "version": 3
   },
   "file_extension": ".py",
   "mimetype": "text/x-python",
   "name": "python",
   "nbconvert_exporter": "python",
   "pygments_lexer": "ipython3",
   "version": "3.10.0"
  }
 },
 "nbformat": 4,
 "nbformat_minor": 5
}

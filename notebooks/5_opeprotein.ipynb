{
 "cells": [
  {
   "cell_type": "code",
   "execution_count": 2,
   "id": "cb671125",
   "metadata": {},
   "outputs": [],
   "source": [
    "from openprotein import APISession"
   ]
  },
  {
   "cell_type": "code",
   "execution_count": 3,
   "id": "019d7166",
   "metadata": {},
   "outputs": [
    {
     "ename": "TypeError",
     "evalue": "APISession.__init__() missing 2 required positional arguments: 'username' and 'password'",
     "output_type": "error",
     "traceback": [
      "\u001b[31m---------------------------------------------------------------------------\u001b[39m",
      "\u001b[31mTypeError\u001b[39m                                 Traceback (most recent call last)",
      "\u001b[36mCell\u001b[39m\u001b[36m \u001b[39m\u001b[32mIn[3]\u001b[39m\u001b[32m, line 1\u001b[39m\n\u001b[32m----> \u001b[39m\u001b[32m1\u001b[39m session = \u001b[43mAPISession\u001b[49m\u001b[43m(\u001b[49m\u001b[43m)\u001b[49m\n",
      "\u001b[31mTypeError\u001b[39m: APISession.__init__() missing 2 required positional arguments: 'username' and 'password'"
     ]
    }
   ],
   "source": [
    "session = APISession()"
   ]
  },
  {
   "cell_type": "code",
   "execution_count": null,
   "id": "52590e0d",
   "metadata": {},
   "outputs": [],
   "source": []
  }
 ],
 "metadata": {
  "kernelspec": {
   "display_name": "Python 3",
   "language": "python",
   "name": "python3"
  },
  "language_info": {
   "codemirror_mode": {
    "name": "ipython",
    "version": 3
   },
   "file_extension": ".py",
   "mimetype": "text/x-python",
   "name": "python",
   "nbconvert_exporter": "python",
   "pygments_lexer": "ipython3",
   "version": "3.11.9"
  }
 },
 "nbformat": 4,
 "nbformat_minor": 5
}

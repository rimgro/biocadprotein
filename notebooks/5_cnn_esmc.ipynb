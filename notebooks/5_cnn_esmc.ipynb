{
 "cells": [
  {
   "cell_type": "markdown",
   "id": "3b4034f6",
   "metadata": {},
   "source": [
    "## Предсказания свойств ФБ, с помощью CNN (эмбеддинги (ESM C))"
   ]
  },
  {
   "cell_type": "markdown",
   "id": "c8bd314b",
   "metadata": {},
   "source": [
    "### Подготовка к работе"
   ]
  },
  {
   "cell_type": "code",
   "execution_count": 14,
   "id": "9ddcd75d",
   "metadata": {
    "scrolled": true
   },
   "outputs": [
    {
     "name": "stdout",
     "output_type": "stream",
     "text": [
      "Requirement already satisfied: torch in /home/paa/Develop/biocadprotein/.venv/lib64/python3/site-packages (2.7.1)\n",
      "Requirement already satisfied: tqdm in /home/paa/Develop/biocadprotein/.venv/lib64/python3/site-packages (4.67.1)\n",
      "Requirement already satisfied: filelock in /home/paa/Develop/biocadprotein/.venv/lib64/python3/site-packages (from torch) (3.18.0)\n",
      "Requirement already satisfied: typing-extensions>=4.10.0 in /home/paa/Develop/biocadprotein/.venv/lib64/python3/site-packages (from torch) (4.14.1)\n",
      "Requirement already satisfied: setuptools in /home/paa/Develop/biocadprotein/.venv/lib64/python3/site-packages (from torch) (80.9.0)\n",
      "Requirement already satisfied: sympy>=1.13.3 in /home/paa/Develop/biocadprotein/.venv/lib64/python3/site-packages (from torch) (1.14.0)\n",
      "Requirement already satisfied: networkx in /home/paa/Develop/biocadprotein/.venv/lib64/python3/site-packages (from torch) (3.5)\n",
      "Requirement already satisfied: jinja2 in /home/paa/Develop/biocadprotein/.venv/lib64/python3/site-packages (from torch) (3.1.6)\n",
      "Requirement already satisfied: fsspec in /home/paa/Develop/biocadprotein/.venv/lib64/python3/site-packages (from torch) (2025.5.1)\n",
      "Requirement already satisfied: nvidia-cuda-nvrtc-cu12==12.6.77 in /home/paa/Develop/biocadprotein/.venv/lib64/python3/site-packages (from torch) (12.6.77)\n",
      "Requirement already satisfied: nvidia-cuda-runtime-cu12==12.6.77 in /home/paa/Develop/biocadprotein/.venv/lib64/python3/site-packages (from torch) (12.6.77)\n",
      "Requirement already satisfied: nvidia-cuda-cupti-cu12==12.6.80 in /home/paa/Develop/biocadprotein/.venv/lib64/python3/site-packages (from torch) (12.6.80)\n",
      "Requirement already satisfied: nvidia-cudnn-cu12==9.5.1.17 in /home/paa/Develop/biocadprotein/.venv/lib64/python3/site-packages (from torch) (9.5.1.17)\n",
      "Requirement already satisfied: nvidia-cublas-cu12==12.6.4.1 in /home/paa/Develop/biocadprotein/.venv/lib64/python3/site-packages (from torch) (12.6.4.1)\n",
      "Requirement already satisfied: nvidia-cufft-cu12==11.3.0.4 in /home/paa/Develop/biocadprotein/.venv/lib64/python3/site-packages (from torch) (11.3.0.4)\n",
      "Requirement already satisfied: nvidia-curand-cu12==10.3.7.77 in /home/paa/Develop/biocadprotein/.venv/lib64/python3/site-packages (from torch) (10.3.7.77)\n",
      "Requirement already satisfied: nvidia-cusolver-cu12==11.7.1.2 in /home/paa/Develop/biocadprotein/.venv/lib64/python3/site-packages (from torch) (11.7.1.2)\n",
      "Requirement already satisfied: nvidia-cusparse-cu12==12.5.4.2 in /home/paa/Develop/biocadprotein/.venv/lib64/python3/site-packages (from torch) (12.5.4.2)\n",
      "Requirement already satisfied: nvidia-cusparselt-cu12==0.6.3 in /home/paa/Develop/biocadprotein/.venv/lib64/python3/site-packages (from torch) (0.6.3)\n",
      "Requirement already satisfied: nvidia-nccl-cu12==2.26.2 in /home/paa/Develop/biocadprotein/.venv/lib64/python3/site-packages (from torch) (2.26.2)\n",
      "Requirement already satisfied: nvidia-nvtx-cu12==12.6.77 in /home/paa/Develop/biocadprotein/.venv/lib64/python3/site-packages (from torch) (12.6.77)\n",
      "Requirement already satisfied: nvidia-nvjitlink-cu12==12.6.85 in /home/paa/Develop/biocadprotein/.venv/lib64/python3/site-packages (from torch) (12.6.85)\n",
      "Requirement already satisfied: nvidia-cufile-cu12==1.11.1.6 in /home/paa/Develop/biocadprotein/.venv/lib64/python3/site-packages (from torch) (1.11.1.6)\n",
      "Requirement already satisfied: triton==3.3.1 in /home/paa/Develop/biocadprotein/.venv/lib64/python3/site-packages (from torch) (3.3.1)\n",
      "Requirement already satisfied: mpmath<1.4,>=1.1.0 in /home/paa/Develop/biocadprotein/.venv/lib64/python3/site-packages (from sympy>=1.13.3->torch) (1.3.0)\n",
      "Requirement already satisfied: MarkupSafe>=2.0 in /home/paa/Develop/biocadprotein/.venv/lib64/python3/site-packages (from jinja2->torch) (3.0.2)\n"
     ]
    }
   ],
   "source": [
    "! pip install torch tqdm\n",
    "#! pip install --upgrade git+https://github.com/rimgro/biocadprotein.git"
   ]
  },
  {
   "cell_type": "code",
   "execution_count": 15,
   "id": "339bc20b",
   "metadata": {},
   "outputs": [],
   "source": [
    "import torch\n",
    "import torch.nn as nn\n",
    "import torch.nn.functional as F\n",
    "\n",
    "import numpy as np\n",
    "import pandas as pd\n",
    "\n",
    "from tqdm import tqdm\n",
    "\n",
    "import warnings\n",
    "warnings.filterwarnings('ignore')"
   ]
  },
  {
   "cell_type": "code",
   "execution_count": 23,
   "id": "eb2d3e8d",
   "metadata": {},
   "outputs": [],
   "source": [
    "from fpgen.prop_prediction.dataset import FPbase\n",
    "from fpgen.prop_prediction.metrics import get_regression_metrics\n",
    "\n",
    "from torch.utils.data import TensorDataset, DataLoader"
   ]
  },
  {
   "cell_type": "markdown",
   "id": "70d214ee",
   "metadata": {},
   "source": [
    "### Загрузка датасета"
   ]
  },
  {
   "cell_type": "code",
   "execution_count": 17,
   "id": "922ce2cf",
   "metadata": {},
   "outputs": [],
   "source": [
    "dataset = FPbase('../data/dataset.csv')"
   ]
  },
  {
   "cell_type": "code",
   "execution_count": 18,
   "id": "e7316b95",
   "metadata": {},
   "outputs": [],
   "source": [
    "def load_dataset(target):\n",
    "    x_train, y_train = dataset.get_train(target)\n",
    "    x_test, y_test = dataset.get_test(target)\n",
    "\n",
    "    return x_train, y_train, x_test, y_test"
   ]
  },
  {
   "cell_type": "code",
   "execution_count": 20,
   "id": "830efe26",
   "metadata": {},
   "outputs": [],
   "source": [
    "import pickle\n",
    "\n",
    "with open('../data/sequence.pickle', 'rb') as file:\n",
    "    seq = pickle.load(file)"
   ]
  },
  {
   "cell_type": "markdown",
   "id": "fc45b6d9",
   "metadata": {},
   "source": [
    "### Подготовка данных (padding эмбеддингов)"
   ]
  },
  {
   "cell_type": "code",
   "execution_count": 30,
   "id": "2712611d",
   "metadata": {},
   "outputs": [],
   "source": [
    "def preprocessing_dataset(x_tr, y_train, x_t, y_test):\n",
    "    matrix_tr = []\n",
    "    for i in range(len(x_tr)):\n",
    "        matrix_tr.append(seq[x_tr.iloc[i]])\n",
    "\n",
    "    matrix_t = []\n",
    "    for i in range(len(x_t)):\n",
    "        matrix_t.append(seq[x_t.iloc[i]])\n",
    "\n",
    "    max_h = max(max(t.shape[1] for t in matrix_tr), max(t.shape[1] for t in matrix_t))\n",
    "    max_w = max(max(t.shape[2] for t in matrix_tr), max(t.shape[2] for t in matrix_t))\n",
    "\n",
    "    def pad_tensor_list(tensor_list):\n",
    "        padded = []\n",
    "        for t in tensor_list:\n",
    "            c, h, w = t.shape\n",
    "            pad_h = max_h - h\n",
    "            pad_w = max_w - w\n",
    "            padded_tensor = F.pad(t, (0, pad_w, 0, pad_h))\n",
    "            padded.append(padded_tensor)\n",
    "        return torch.stack(padded)\n",
    "\n",
    "    x_train_p = pad_tensor_list(matrix_tr)\n",
    "    x_test_p = pad_tensor_list(matrix_t)\n",
    "\n",
    "    y_train_p = torch.tensor(y_train.to_numpy(), dtype=torch.float32).view(-1, 1)\n",
    "    y_test_p = torch.tensor(y_test.to_numpy(), dtype=torch.float32).view(-1, 1)\n",
    "\n",
    "    return x_train_p, y_train_p, x_test_p, y_test_p"
   ]
  },
  {
   "cell_type": "markdown",
   "id": "dee4c5e2",
   "metadata": {},
   "source": [
    "### Архитектура CNN"
   ]
  },
  {
   "cell_type": "code",
   "execution_count": 24,
   "id": "fe1b30fe",
   "metadata": {},
   "outputs": [],
   "source": [
    "class CNN(nn.Module):\n",
    "    def __init__(self):\n",
    "        super().__init__()\n",
    "        self.conv1 = nn.Conv2d(1, 16, kernel_size=5, padding=2)\n",
    "        self.pool = nn.MaxPool2d(2)\n",
    "        self.conv2 = nn.Conv2d(16, 32, kernel_size=5, padding=2)\n",
    "        self.fc1 = nn.Linear(32 * 184 * 240, 128) \n",
    "        self.fc2 = nn.Linear(128, 1)\n",
    "\n",
    "    def forward(self, x):\n",
    "        x = self.pool(F.relu(self.conv1(x)))\n",
    "        x = self.pool(F.relu(self.conv2(x)))\n",
    "        x = x.view(x.size(0), -1)  \n",
    "        x = F.relu(self.fc1(x))\n",
    "        x = self.fc2(x)\n",
    "        return x"
   ]
  },
  {
   "cell_type": "markdown",
   "id": "df86f193",
   "metadata": {},
   "source": [
    "### Обучение модели"
   ]
  },
  {
   "cell_type": "code",
   "execution_count": 42,
   "id": "5b36886b",
   "metadata": {},
   "outputs": [],
   "source": [
    "device = torch.device('cuda' if torch.cuda.is_available() else 'cpu')"
   ]
  },
  {
   "cell_type": "code",
   "execution_count": 43,
   "id": "e652210c",
   "metadata": {
    "editable": true,
    "scrolled": true,
    "slideshow": {
     "slide_type": ""
    },
    "tags": []
   },
   "outputs": [],
   "source": [
    "def learning_model(train_loader, test_loader):\n",
    "    model = CNN()\n",
    "    model.to(device)\n",
    "\n",
    "    optimizer = torch.optim.Adam(model.parameters(), lr=1e-4)\n",
    "    loss_fn = nn.MSELoss()\n",
    "\n",
    "    for epoch in tqdm(range(100)):\n",
    "        model.train()\n",
    "        for xb, yb in train_loader:\n",
    "            xb = xb.to(device)\n",
    "            yb = yb.to(device)\n",
    "\n",
    "            preds = model(xb)\n",
    "            loss = loss_fn(preds, yb)\n",
    "\n",
    "            optimizer.zero_grad()\n",
    "            loss.backward()\n",
    "            optimizer.step()\n",
    "\n",
    "        print(f\"Epoch {epoch}: loss = {loss.item():.4f}\")\n",
    "\n",
    "    model = model.to('cpu')\n",
    "    model.eval()\n",
    "    y_true = []\n",
    "    y_pred = []\n",
    "\n",
    "    with torch.no_grad():\n",
    "        for xb, yb in test_loader:\n",
    "            preds = model(xb)\n",
    "            y_true.extend(yb.cpu().numpy().flatten())\n",
    "            y_pred.extend(preds.cpu().numpy().flatten())\n",
    "\n",
    "    return y_pred, y_true\n"
   ]
  },
  {
   "cell_type": "markdown",
   "id": "cdd8bb75",
   "metadata": {},
   "source": [
    "### Тестирование и метрики"
   ]
  },
  {
   "cell_type": "code",
   "execution_count": 27,
   "id": "6f04bd45-fcdb-4866-8198-24404381dbda",
   "metadata": {},
   "outputs": [],
   "source": [
    "def get_metrics(y_pred, y_test, target):\n",
    "    metrics = get_regression_metrics(y_pred, y_test)\n",
    "    print(f'\\t RMSE: {metrics['rmse']}')\n",
    "    print(f'\\t MAE: {metrics['mae']}')\n",
    "    print(f'\\t R2: {metrics['r2']}')\n",
    "    print(f'\\t MAE (med.): {metrics['mae_median']}')\n"
   ]
  },
  {
   "cell_type": "code",
   "execution_count": 31,
   "id": "343582e1",
   "metadata": {},
   "outputs": [
    {
     "name": "stdout",
     "output_type": "stream",
     "text": [
      "brightness\n"
     ]
    },
    {
     "ename": "AttributeError",
     "evalue": "'numpy.ndarray' object has no attribute 'to_numpy'",
     "output_type": "error",
     "traceback": [
      "\u001b[31m---------------------------------------------------------------------------\u001b[39m",
      "\u001b[31mAttributeError\u001b[39m                            Traceback (most recent call last)",
      "\u001b[36mCell\u001b[39m\u001b[36m \u001b[39m\u001b[32mIn[31]\u001b[39m\u001b[32m, line 6\u001b[39m\n\u001b[32m      3\u001b[39m \u001b[38;5;28mprint\u001b[39m(item)\n\u001b[32m      4\u001b[39m x_train, y_train, x_test, y_test = load_dataset(item)\n\u001b[32m----> \u001b[39m\u001b[32m6\u001b[39m x_train_p, y_train_p, x_test_p, y_test_p = \u001b[43mpreprocessing_dataset\u001b[49m\u001b[43m(\u001b[49m\u001b[43mx_train\u001b[49m\u001b[43m,\u001b[49m\u001b[43m \u001b[49m\u001b[43my_train\u001b[49m\u001b[43m,\u001b[49m\u001b[43m \u001b[49m\u001b[43mx_test\u001b[49m\u001b[43m,\u001b[49m\u001b[43m \u001b[49m\u001b[43my_test\u001b[49m\u001b[43m)\u001b[49m\n\u001b[32m      8\u001b[39m dataset_train = TensorDataset(x_train_p, y_train_p)\n\u001b[32m      9\u001b[39m train_loader = DataLoader(dataset_train, batch_size=\u001b[32m32\u001b[39m, shuffle=\u001b[38;5;28;01mTrue\u001b[39;00m)\n",
      "\u001b[36mCell\u001b[39m\u001b[36m \u001b[39m\u001b[32mIn[30]\u001b[39m\u001b[32m, line 26\u001b[39m, in \u001b[36mpreprocessing_dataset\u001b[39m\u001b[34m(x_tr, y_train, x_t, y_test)\u001b[39m\n\u001b[32m     23\u001b[39m x_train_p = pad_tensor_list(matrix_tr)\n\u001b[32m     24\u001b[39m x_test_p = pad_tensor_list(matrix_t)\n\u001b[32m---> \u001b[39m\u001b[32m26\u001b[39m y_train_p = torch.tensor(\u001b[43my_train\u001b[49m\u001b[43m.\u001b[49m\u001b[43mto_numpy\u001b[49m(), dtype=torch.float32).view(-\u001b[32m1\u001b[39m, \u001b[32m1\u001b[39m)\n\u001b[32m     27\u001b[39m y_test_p = torch.tensor(y_test.to_numpy(), dtype=torch.float32).view(-\u001b[32m1\u001b[39m, \u001b[32m1\u001b[39m)\n\u001b[32m     29\u001b[39m \u001b[38;5;28;01mreturn\u001b[39;00m x_train_p, y_train_p, x_test_p, y_test_p\n",
      "\u001b[31mAttributeError\u001b[39m: 'numpy.ndarray' object has no attribute 'to_numpy'"
     ]
    }
   ],
   "source": [
    "for item in dataset.targets:\n",
    "    if item != 'agg' and item != 'switch_type':\n",
    "        print(item)\n",
    "        x_train, y_train, x_test, y_test = load_dataset(item)\n",
    "\n",
    "        x_train_p, y_train_p, x_test_p, y_test_p = preprocessing_dataset(x_train, y_train, x_test, y_test)\n",
    "        \n",
    "        dataset_train = TensorDataset(x_train_p, y_train_p)\n",
    "        train_loader = DataLoader(dataset_train, batch_size=32, shuffle=True)\n",
    "\n",
    "        dataset_test = TensorDataset(x_test_p, y_test_p)\n",
    "        test_loader = DataLoader(dataset_test, batch_size=32, shuffle=True)\n",
    "\n",
    "        y_pred, y_true = learning_model(train_loader, test_loader)\n",
    "\n",
    "        get_metrics(y_pred, y_true)\n"
   ]
  },
  {
   "cell_type": "code",
   "execution_count": null,
   "id": "34c91705-225a-44ef-8a93-c1e65e505ba5",
   "metadata": {
    "editable": true,
    "slideshow": {
     "slide_type": ""
    },
    "tags": []
   },
   "outputs": [
    {
     "data": {
      "text/plain": [
       "{'rmse': 32.17417,\n",
       " 'mae': 22.368298,\n",
       " 'r2': 0.7198959653410872,\n",
       " 'mae_median': 14.933685}"
      ]
     },
     "execution_count": 195,
     "metadata": {},
     "output_type": "execute_result"
    }
   ],
   "source": [
    "y_true_rescaled = dataset.rescale_targets(y_true, 'em_max')\n",
    "y_pred_rescaled = dataset.rescale_targets(y_pred, 'em_max')\n",
    "\n",
    "get_regression_metrics(y_pred_rescaled, y_true_rescaled)"
   ]
  }
 ],
 "metadata": {
  "kernelspec": {
   "display_name": ".venv",
   "language": "python",
   "name": "python3"
  },
  "language_info": {
   "codemirror_mode": {
    "name": "ipython",
    "version": 3
   },
   "file_extension": ".py",
   "mimetype": "text/x-python",
   "name": "python",
   "nbconvert_exporter": "python",
   "pygments_lexer": "ipython3",
   "version": "3.12.11"
  }
 },
 "nbformat": 4,
 "nbformat_minor": 5
}

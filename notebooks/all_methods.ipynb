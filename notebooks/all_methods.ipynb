{
 "cells": [
  {
   "cell_type": "code",
   "execution_count": 1,
   "id": "25e15c20",
   "metadata": {},
   "outputs": [
    {
     "name": "stdout",
     "output_type": "stream",
     "text": [
      "Requirement already satisfied: torch in c:\\users\\user\\desktop\\biocadprotein\\venv\\lib\\site-packages (2.7.1+cu118)\n",
      "Requirement already satisfied: tqdm in c:\\users\\user\\desktop\\biocadprotein\\venv\\lib\\site-packages (4.67.1)\n",
      "Requirement already satisfied: sympy>=1.13.3 in c:\\users\\user\\desktop\\biocadprotein\\venv\\lib\\site-packages (from torch) (1.14.0)\n",
      "Requirement already satisfied: typing-extensions>=4.10.0 in c:\\users\\user\\desktop\\biocadprotein\\venv\\lib\\site-packages (from torch) (4.14.1)\n",
      "Requirement already satisfied: networkx in c:\\users\\user\\desktop\\biocadprotein\\venv\\lib\\site-packages (from torch) (3.4.2)\n",
      "Requirement already satisfied: filelock in c:\\users\\user\\desktop\\biocadprotein\\venv\\lib\\site-packages (from torch) (3.18.0)\n",
      "Requirement already satisfied: fsspec in c:\\users\\user\\desktop\\biocadprotein\\venv\\lib\\site-packages (from torch) (2025.5.1)\n",
      "Requirement already satisfied: jinja2 in c:\\users\\user\\desktop\\biocadprotein\\venv\\lib\\site-packages (from torch) (3.1.6)\n",
      "Requirement already satisfied: colorama in c:\\users\\user\\desktop\\biocadprotein\\venv\\lib\\site-packages (from tqdm) (0.4.6)\n",
      "Requirement already satisfied: mpmath<1.4,>=1.1.0 in c:\\users\\user\\desktop\\biocadprotein\\venv\\lib\\site-packages (from sympy>=1.13.3->torch) (1.3.0)\n",
      "Requirement already satisfied: MarkupSafe>=2.0 in c:\\users\\user\\desktop\\biocadprotein\\venv\\lib\\site-packages (from jinja2->torch) (3.0.2)\n"
     ]
    },
    {
     "name": "stderr",
     "output_type": "stream",
     "text": [
      "WARNING: You are using pip version 21.2.3; however, version 25.1.1 is available.\n",
      "You should consider upgrading via the 'C:\\Users\\User\\Desktop\\biocadprotein\\venv\\Scripts\\python.exe -m pip install --upgrade pip' command.\n"
     ]
    }
   ],
   "source": [
    "! pip install torch tqdm\n",
    "#! pip install --upgrade git+https://github.com/rimgro/biocadprotein.git"
   ]
  },
  {
   "cell_type": "code",
   "execution_count": 18,
   "id": "a2e0b325",
   "metadata": {},
   "outputs": [
    {
     "name": "stdout",
     "output_type": "stream",
     "text": [
      "Using device: cuda\n"
     ]
    }
   ],
   "source": [
    "import torch\n",
    "import torch.nn as nn\n",
    "import torch.nn.functional as F\n",
    "\n",
    "import numpy as np\n",
    "import pandas as pd\n",
    "import matplotlib.pyplot as plt\n",
    "\n",
    "from tqdm import tqdm\n",
    "\n",
    "import warnings\n",
    "warnings.filterwarnings('ignore')\n",
    "\n",
    "\n",
    "device = torch.device('cuda' if torch.cuda.is_available() else 'cpu')\n",
    "print(f'Using device: {device}')"
   ]
  },
  {
   "cell_type": "code",
   "execution_count": 19,
   "id": "8d5503e7",
   "metadata": {},
   "outputs": [],
   "source": [
    "torch.manual_seed(12)\n",
    "np.random.seed(12)"
   ]
  },
  {
   "cell_type": "markdown",
   "id": "bae8d796",
   "metadata": {},
   "source": [
    "<h3>Подготовка данных</h3>"
   ]
  },
  {
   "cell_type": "code",
   "execution_count": null,
   "id": "39dac96d",
   "metadata": {},
   "outputs": [],
   "source": [
    "from fpgen.prop_prediction.dataset import FPbase\n",
    "from fpgen.prop_prediction.metrics import get_regression_metrics\n",
    "\n",
    "from fpgen.prop_prediction.models.embedding_cnn import EmbeddingCNN\n",
    "from fpgen.prop_prediction.models.embedding_lstm import EmbeddingLSTM\n",
    "from fpgen.prop_prediction.models.sequence_cnn import SequenceCNN\n",
    "from fpgen.prop_prediction.models.sequence_lstm import SequenceLSTM\n",
    "\n",
    "from torch.utils.data import TensorDataset, DataLoader"
   ]
  },
  {
   "cell_type": "code",
   "execution_count": 21,
   "id": "f22651da",
   "metadata": {},
   "outputs": [],
   "source": [
    "dataset = FPbase('data/fpbase.csv')\n",
    "\n",
    "# one-hot encoding setup\n",
    "amino_acids = list('ACDEFGHIKLMNPQRSTVWY')\n",
    "vocab = {aa: i for i, aa in enumerate(amino_acids)}"
   ]
  },
  {
   "cell_type": "code",
   "execution_count": 22,
   "id": "cdca0d91",
   "metadata": {},
   "outputs": [],
   "source": [
    "x_train, y_train = dataset.get_train('em_max')\n",
    "from sklearn.model_selection import train_test_split\n",
    "\n",
    "# Split training data into train and validation sets (e.g., 80% train, 20% val)\n",
    "x_train, x_val, y_train, y_val = train_test_split(\n",
    "    x_train, y_train, test_size=0.2, random_state=42\n",
    ")\n",
    "\n",
    "x_test, y_test = dataset.get_test('em_max')"
   ]
  },
  {
   "cell_type": "code",
   "execution_count": 23,
   "id": "9b60d089",
   "metadata": {},
   "outputs": [],
   "source": [
    "def encode_sequences(sequences, vocab, max_length=None):\n",
    "    \"\"\"\n",
    "    One-hot encode protein sequences\n",
    "    \n",
    "    Args:\n",
    "        sequences: List of protein sequences (strings)\n",
    "        vocab: Amino acid vocabulary dictionary (only used for consistency)\n",
    "        max_length: Maximum sequence length (will pad/truncate)\n",
    "    \n",
    "    Returns:\n",
    "        One-hot encoded sequences as torch tensor of shape (num_sequences, max_length, 20)\n",
    "    \"\"\"\n",
    "    if max_length is None:\n",
    "        max_length = max(len(seq) for seq in sequences)\n",
    "    \n",
    "    # Standard 20 amino acids\n",
    "    amino_acids = 'ACDEFGHIKLMNPQRSTVWY'\n",
    "    aa_to_idx = {aa: i for i, aa in enumerate(amino_acids)}\n",
    "    \n",
    "    encoded = []\n",
    "    for seq in sequences:\n",
    "        # Initialize one-hot matrix for this sequence\n",
    "        seq_onehot = torch.zeros(max_length, 20)\n",
    "        \n",
    "        # Convert to uppercase and encode each amino acid\n",
    "        seq_upper = seq.upper()\n",
    "        for i, aa in enumerate(seq_upper):\n",
    "            if i >= max_length:\n",
    "                break\n",
    "            if aa in aa_to_idx:\n",
    "                seq_onehot[i, aa_to_idx[aa]] = 1.0\n",
    "            # If amino acid is not in standard 20, leave as zeros (unknown)\n",
    "        \n",
    "        encoded.append(seq_onehot)\n",
    "    \n",
    "    return torch.stack(encoded)"
   ]
  },
  {
   "cell_type": "markdown",
   "id": "26593681",
   "metadata": {},
   "source": [
    "<h3>Преобразование в one-hot encoding</h3>"
   ]
  },
  {
   "cell_type": "code",
   "execution_count": 24,
   "id": "41c93e64",
   "metadata": {},
   "outputs": [
    {
     "data": {
      "text/plain": [
       "torch.Size([514, 256, 20])"
      ]
     },
     "execution_count": 24,
     "metadata": {},
     "output_type": "execute_result"
    }
   ],
   "source": [
    "x_train_encoded = encode_sequences(x_train, vocab, max_length=256)\n",
    "x_val_encoded = encode_sequences(x_val, vocab, max_length=256)\n",
    "x_test_encoded = encode_sequences(x_test, vocab, max_length=256)\n",
    "x_train_encoded.shape"
   ]
  },
  {
   "cell_type": "code",
   "execution_count": 25,
   "id": "836496e2",
   "metadata": {},
   "outputs": [],
   "source": [
    "y_train_tensor = torch.tensor(y_train, dtype=torch.float32)\n",
    "y_val_tensor = torch.tensor(y_val, dtype=torch.float32)\n",
    "y_test_tensor = torch.tensor(y_test, dtype=torch.float32)"
   ]
  },
  {
   "cell_type": "code",
   "execution_count": 26,
   "id": "4c761921",
   "metadata": {},
   "outputs": [],
   "source": [
    "dataset_train = TensorDataset(x_train_encoded, y_train_tensor)\n",
    "train_loader = DataLoader(dataset_train, batch_size=32, shuffle=True)\n",
    "    \n",
    "dataset_val = TensorDataset(x_val_encoded, y_val_tensor)\n",
    "val_loader = DataLoader(dataset_val, batch_size=32, shuffle=False)\n",
    "    \n",
    "dataset_test = TensorDataset(x_test_encoded, y_test_tensor)\n",
    "test_loader = DataLoader(dataset_test, batch_size=32, shuffle=False)"
   ]
  },
  {
   "cell_type": "markdown",
   "id": "dfd7ae77",
   "metadata": {},
   "source": [
    "# Доготовка данных для работы с embeddings ESM C"
   ]
  },
  {
   "cell_type": "code",
   "execution_count": 27,
   "id": "51290a3e",
   "metadata": {},
   "outputs": [],
   "source": [
    "import pickle\n",
    "\n",
    "with open('sequence.pickle', 'rb') as file:\n",
    "    seq = pickle.load(file)"
   ]
  },
  {
   "cell_type": "code",
   "execution_count": 28,
   "id": "96e476b9",
   "metadata": {},
   "outputs": [
    {
     "data": {
      "text/plain": [
       "torch.Size([1, 236, 960])"
      ]
     },
     "execution_count": 28,
     "metadata": {},
     "output_type": "execute_result"
    }
   ],
   "source": [
    "seq[x_train.iloc[0]].shape"
   ]
  },
  {
   "cell_type": "code",
   "execution_count": 29,
   "id": "8232d169",
   "metadata": {},
   "outputs": [],
   "source": [
    "def preprocessing_x(x_tr, x_t, x_v, seq, pad_value=0.0, max_length=None):\n",
    "    \"\"\"\n",
    "    Improved preprocessing function for LSTM training with ESM embeddings\n",
    "    \n",
    "    Args:\n",
    "        x_tr, x_t, x_v: Index arrays for train, test, val\n",
    "        seq: Dictionary/list containing the embeddings\n",
    "        pad_value: Value to use for padding (default: 0.0)\n",
    "        max_length: Maximum sequence length (if None, computed from data)\n",
    "    \"\"\"\n",
    "    \n",
    "    def get_cleaned_tensors(indexes):\n",
    "        cleaned = []\n",
    "        for i in range(len(indexes)):\n",
    "            tensor = seq[indexes.iloc[i]]  # shape: [1, L, D]\n",
    "            \n",
    "            # Handle different input shapes\n",
    "            if tensor.dim() == 3 and tensor.shape[0] == 1:\n",
    "                tensor = tensor.squeeze(0)  # Now shape: [L, D]\n",
    "            elif tensor.dim() == 2:\n",
    "                pass  # Already correct shape\n",
    "            else:\n",
    "                raise ValueError(f\"Unexpected tensor shape: {tensor.shape}\")\n",
    "            \n",
    "            # Ensure tensor is float and on CPU for consistent processing\n",
    "            tensor = tensor.float()\n",
    "            \n",
    "            # Basic validation\n",
    "            if tensor.shape[0] == 0:\n",
    "                raise ValueError(\"Found empty sequence\")\n",
    "            if torch.isnan(tensor).any() or torch.isinf(tensor).any():\n",
    "                print(f\"Warning: Found NaN/Inf values in tensor, replacing with zeros\")\n",
    "                tensor = torch.nan_to_num(tensor, nan=0.0, posinf=1.0, neginf=-1.0)\n",
    "            \n",
    "            cleaned.append(tensor)\n",
    "        return cleaned\n",
    "\n",
    "    # Extract cleaned tensors\n",
    "    matrix_tr = get_cleaned_tensors(x_tr)\n",
    "    matrix_t = get_cleaned_tensors(x_t)\n",
    "    matrix_v = get_cleaned_tensors(x_v)\n",
    "\n",
    "    # Find dimensions\n",
    "    all_tensors = matrix_tr + matrix_t + matrix_v\n",
    "    \n",
    "    # Check embedding dimension consistency\n",
    "    emb_dims = [t.shape[1] for t in all_tensors]\n",
    "    emb_dim = emb_dims[0]\n",
    "    if not all(d == emb_dim for d in emb_dims):\n",
    "        raise ValueError(f\"Inconsistent embedding dimensions: {set(emb_dims)}\")\n",
    "    \n",
    "    # Find max length\n",
    "    if max_length is None:\n",
    "        max_len = max(t.shape[0] for t in all_tensors)\n",
    "    else:\n",
    "        max_len = max_length\n",
    "    \n",
    "    print(f\"Max sequence length: {max_len}\")\n",
    "    print(f\"Embedding dimension: {emb_dim}\")\n",
    "    print(f\"Padding value: {pad_value}\")\n",
    "\n",
    "    def pad_tensor_list(tensor_list, split_name):\n",
    "        padded = []\n",
    "        original_lengths = []\n",
    "        \n",
    "        for i, t in enumerate(tensor_list):\n",
    "            seq_len = t.shape[0]\n",
    "            original_lengths.append(seq_len)\n",
    "            \n",
    "            if seq_len > max_len:\n",
    "                # Truncate if longer than max_len\n",
    "                t = t[:max_len]\n",
    "                seq_len = max_len\n",
    "            \n",
    "            # Pad sequence length dimension only (embedding dim should be consistent)\n",
    "            if seq_len < max_len:\n",
    "                padding = (0, 0, 0, max_len - seq_len)  # (left, right, top, bottom)\n",
    "                padded_tensor = F.pad(t, padding, mode='constant', value=pad_value)\n",
    "            else:\n",
    "                padded_tensor = t\n",
    "            \n",
    "            padded.append(padded_tensor)\n",
    "        \n",
    "        # Stack into batch\n",
    "        result = torch.stack(padded)\n",
    "        \n",
    "        # Validation\n",
    "        expected_shape = (len(tensor_list), max_len, emb_dim)\n",
    "        if result.shape != expected_shape:\n",
    "            raise ValueError(f\"Unexpected output shape for {split_name}: {result.shape}, expected: {expected_shape}\")\n",
    "        \n",
    "        print(f\"{split_name} - Shape: {result.shape}, Lengths: min={min(original_lengths)}, max={max(original_lengths)}, mean={np.mean(original_lengths):.1f}\")\n",
    "        \n",
    "        return result, original_lengths\n",
    "\n",
    "    # Process all splits\n",
    "    train, train_lengths = pad_tensor_list(matrix_tr, \"Train\")\n",
    "    test, test_lengths = pad_tensor_list(matrix_t, \"Test\")\n",
    "    val, val_lengths = pad_tensor_list(matrix_v, \"Val\")\n",
    "    \n",
    "    # Additional validation\n",
    "    def validate_output(tensor, name):\n",
    "        if torch.isnan(tensor).any():\n",
    "            raise ValueError(f\"NaN values found in {name}\")\n",
    "        if torch.isinf(tensor).any():\n",
    "            raise ValueError(f\"Inf values found in {name}\")\n",
    "        \n",
    "        # Check if too many zeros (might indicate padding issues)\n",
    "        zero_ratio = (tensor == pad_value).float().mean()\n",
    "        if zero_ratio > 0.8:\n",
    "            print(f\"Warning: {name} has {zero_ratio:.2%} zero values (heavy padding)\")\n",
    "    \n",
    "    validate_output(train, \"train\")\n",
    "    validate_output(test, \"test\")\n",
    "    validate_output(val, \"val\")\n",
    "    \n",
    "    return train, test, val"
   ]
  },
  {
   "cell_type": "code",
   "execution_count": 30,
   "id": "449c6e13",
   "metadata": {},
   "outputs": [],
   "source": [
    "def pad_with_last_token(tensor, target_length):\n",
    "    \"\"\"Pad by repeating the last token instead of zeros\"\"\"\n",
    "    seq_len = tensor.shape[0]\n",
    "    if seq_len >= target_length:\n",
    "        return tensor[:target_length]\n",
    "    \n",
    "    last_token = tensor[-1:].repeat(target_length - seq_len, 1)\n",
    "    return torch.cat([tensor, last_token], dim=0)"
   ]
  },
  {
   "cell_type": "code",
   "execution_count": 31,
   "id": "f1cd966f",
   "metadata": {},
   "outputs": [
    {
     "name": "stdout",
     "output_type": "stream",
     "text": [
      "Max sequence length: 739\n",
      "Embedding dimension: 960\n",
      "Padding value: 0.0\n",
      "Train - Shape: torch.Size([514, 739, 960]), Lengths: min=32, max=739, mean=241.0\n",
      "Test - Shape: torch.Size([129, 739, 960]), Lengths: min=108, max=488, mean=238.6\n",
      "Val - Shape: torch.Size([167, 739, 960]), Lengths: min=108, max=487, mean=240.8\n"
     ]
    },
    {
     "data": {
      "text/plain": [
       "torch.Size([167, 739, 960])"
      ]
     },
     "execution_count": 31,
     "metadata": {},
     "output_type": "execute_result"
    }
   ],
   "source": [
    "from torch.nn.utils.rnn import pad_sequence\n",
    "\n",
    "x_train_p, x_val_p, x_test_p = preprocessing_x(x_train, x_val, x_test, seq)\n",
    "\n",
    "x_train_p.shape\n",
    "x_val_p.shape\n",
    "x_test_p.shape"
   ]
  },
  {
   "cell_type": "code",
   "execution_count": 32,
   "id": "9c6a70a5",
   "metadata": {},
   "outputs": [],
   "source": [
    "y_train_p = torch.tensor(y_train, dtype=torch.float32)  # [643, 1]\n",
    "y_test_p = torch.tensor(y_test, dtype=torch.float32)\n",
    "y_val_p = torch.tensor(y_val, dtype=torch.float32)"
   ]
  },
  {
   "cell_type": "code",
   "execution_count": 33,
   "id": "97b83eb6",
   "metadata": {},
   "outputs": [],
   "source": [
    "dataset_train = TensorDataset(x_train_p, y_train_p)\n",
    "train_loader = DataLoader(dataset_train, batch_size=32, shuffle=True)\n",
    "\n",
    "dataset_val = TensorDataset(x_val_p, y_val_p)\n",
    "val_loader = DataLoader(dataset_val, batch_size=32, shuffle=True)\n",
    "\n",
    "dataset_test = TensorDataset(x_test_p, y_test_p)\n",
    "test_loader = DataLoader(dataset_test, batch_size=32, shuffle=True)"
   ]
  },
  {
   "cell_type": "code",
   "execution_count": 34,
   "id": "1cf3757b",
   "metadata": {},
   "outputs": [
    {
     "data": {
      "text/plain": [
       "tensor([[[ 5.7537e-03, -2.2964e-03,  2.6722e-03,  ...,  5.8003e-03,\n",
       "          -6.2449e-03, -1.0297e-02],\n",
       "         [-3.5950e-04, -5.5967e-03,  3.3674e-02,  ...,  3.1661e-02,\n",
       "           1.4899e-02,  1.7556e-02],\n",
       "         [-3.5892e-02, -2.5552e-02,  4.4119e-03,  ...,  5.5391e-02,\n",
       "           2.1439e-03,  2.2918e-02],\n",
       "         ...,\n",
       "         [ 0.0000e+00,  0.0000e+00,  0.0000e+00,  ...,  0.0000e+00,\n",
       "           0.0000e+00,  0.0000e+00],\n",
       "         [ 0.0000e+00,  0.0000e+00,  0.0000e+00,  ...,  0.0000e+00,\n",
       "           0.0000e+00,  0.0000e+00],\n",
       "         [ 0.0000e+00,  0.0000e+00,  0.0000e+00,  ...,  0.0000e+00,\n",
       "           0.0000e+00,  0.0000e+00]],\n",
       "\n",
       "        [[ 1.2868e-02, -1.8333e-03,  3.3210e-03,  ...,  5.2421e-03,\n",
       "          -4.7548e-03, -9.2520e-03],\n",
       "         [ 2.5347e-03,  2.2133e-03,  1.4290e-03,  ...,  2.6560e-02,\n",
       "           1.4438e-03, -1.3619e-02],\n",
       "         [-5.9670e-02, -1.0463e-02,  2.0267e-02,  ...,  4.7756e-02,\n",
       "          -2.7080e-02,  3.9952e-02],\n",
       "         ...,\n",
       "         [ 0.0000e+00,  0.0000e+00,  0.0000e+00,  ...,  0.0000e+00,\n",
       "           0.0000e+00,  0.0000e+00],\n",
       "         [ 0.0000e+00,  0.0000e+00,  0.0000e+00,  ...,  0.0000e+00,\n",
       "           0.0000e+00,  0.0000e+00],\n",
       "         [ 0.0000e+00,  0.0000e+00,  0.0000e+00,  ...,  0.0000e+00,\n",
       "           0.0000e+00,  0.0000e+00]],\n",
       "\n",
       "        [[ 1.9136e-03,  5.3865e-03, -6.8531e-03,  ...,  3.3937e-03,\n",
       "          -2.5117e-03, -1.4343e-02],\n",
       "         [-7.8395e-03,  3.1466e-02,  3.2704e-02,  ..., -1.9645e-02,\n",
       "          -7.8316e-03,  1.9941e-02],\n",
       "         [-2.5531e-02,  1.9319e-02,  1.2367e-02,  ...,  4.5012e-02,\n",
       "          -2.0034e-02,  5.0268e-02],\n",
       "         ...,\n",
       "         [ 0.0000e+00,  0.0000e+00,  0.0000e+00,  ...,  0.0000e+00,\n",
       "           0.0000e+00,  0.0000e+00],\n",
       "         [ 0.0000e+00,  0.0000e+00,  0.0000e+00,  ...,  0.0000e+00,\n",
       "           0.0000e+00,  0.0000e+00],\n",
       "         [ 0.0000e+00,  0.0000e+00,  0.0000e+00,  ...,  0.0000e+00,\n",
       "           0.0000e+00,  0.0000e+00]],\n",
       "\n",
       "        ...,\n",
       "\n",
       "        [[ 4.5190e-03, -4.2255e-03,  1.9310e-04,  ...,  4.1102e-03,\n",
       "           3.4963e-04, -1.0008e-02],\n",
       "         [ 1.3644e-02, -4.9324e-03,  5.4916e-02,  ...,  3.6585e-02,\n",
       "           3.4807e-02,  2.1815e-02],\n",
       "         [-1.0172e-02, -1.4737e-02,  2.3466e-02,  ...,  3.3235e-02,\n",
       "           2.0307e-03,  2.0201e-03],\n",
       "         ...,\n",
       "         [ 0.0000e+00,  0.0000e+00,  0.0000e+00,  ...,  0.0000e+00,\n",
       "           0.0000e+00,  0.0000e+00],\n",
       "         [ 0.0000e+00,  0.0000e+00,  0.0000e+00,  ...,  0.0000e+00,\n",
       "           0.0000e+00,  0.0000e+00],\n",
       "         [ 0.0000e+00,  0.0000e+00,  0.0000e+00,  ...,  0.0000e+00,\n",
       "           0.0000e+00,  0.0000e+00]],\n",
       "\n",
       "        [[ 3.6815e-03,  3.7517e-05,  1.0571e-03,  ...,  1.9577e-03,\n",
       "           1.5965e-03, -9.9062e-03],\n",
       "         [ 5.3877e-03, -1.2923e-02,  3.0939e-02,  ...,  2.7459e-02,\n",
       "           7.2356e-03,  1.5172e-02],\n",
       "         [-3.2868e-02,  8.6175e-03,  3.5244e-02,  ...,  4.8286e-02,\n",
       "           8.9590e-03,  7.5304e-03],\n",
       "         ...,\n",
       "         [ 0.0000e+00,  0.0000e+00,  0.0000e+00,  ...,  0.0000e+00,\n",
       "           0.0000e+00,  0.0000e+00],\n",
       "         [ 0.0000e+00,  0.0000e+00,  0.0000e+00,  ...,  0.0000e+00,\n",
       "           0.0000e+00,  0.0000e+00],\n",
       "         [ 0.0000e+00,  0.0000e+00,  0.0000e+00,  ...,  0.0000e+00,\n",
       "           0.0000e+00,  0.0000e+00]],\n",
       "\n",
       "        [[ 4.7210e-03, -8.2263e-04,  1.8732e-03,  ...,  1.7629e-03,\n",
       "           2.4718e-03, -1.0866e-02],\n",
       "         [ 5.8121e-03, -8.0011e-03,  2.8242e-02,  ...,  2.3285e-02,\n",
       "           1.6982e-02,  1.1040e-02],\n",
       "         [-3.8405e-02,  6.6705e-03,  3.7266e-02,  ...,  5.0556e-02,\n",
       "           9.0631e-03,  1.6172e-02],\n",
       "         ...,\n",
       "         [ 0.0000e+00,  0.0000e+00,  0.0000e+00,  ...,  0.0000e+00,\n",
       "           0.0000e+00,  0.0000e+00],\n",
       "         [ 0.0000e+00,  0.0000e+00,  0.0000e+00,  ...,  0.0000e+00,\n",
       "           0.0000e+00,  0.0000e+00],\n",
       "         [ 0.0000e+00,  0.0000e+00,  0.0000e+00,  ...,  0.0000e+00,\n",
       "           0.0000e+00,  0.0000e+00]]])"
      ]
     },
     "execution_count": 34,
     "metadata": {},
     "output_type": "execute_result"
    }
   ],
   "source": [
    "x_train_p"
   ]
  },
  {
   "cell_type": "markdown",
   "id": "9779f669",
   "metadata": {},
   "source": [
    "### Обучение моделей"
   ]
  },
  {
   "cell_type": "code",
   "execution_count": 36,
   "id": "be11b903",
   "metadata": {},
   "outputs": [],
   "source": [
    "def train_model(model, train_loader, val_loader, num_epochs=100, learning_rate=0.001):\n",
    "    \"\"\"Train the LSTM model.\"\"\"\n",
    "    device = torch.device('cuda' if torch.cuda.is_available() else 'cpu')\n",
    "    model.to(device)\n",
    "    \n",
    "    criterion = nn.MSELoss()\n",
    "    optimizer = torch.optim.Adam(model.parameters(), lr=learning_rate, weight_decay=1e-5)\n",
    "    \n",
    "    train_losses = []\n",
    "    val_losses = []\n",
    "    best_val_loss = float('inf')\n",
    "    best_model_state = None\n",
    "    \n",
    "    print(f\"Training on {device}\")\n",
    "    print(f\"Number of parameters: {sum(p.numel() for p in model.parameters()):,}\")\n",
    "    \n",
    "    for epoch in range(num_epochs):\n",
    "        # Training phase\n",
    "        model.train()\n",
    "        train_loss = 0.0\n",
    "        \n",
    "        for batch_idx, data in enumerate(tqdm(train_loader, desc=f\"Epoch {epoch+1}/{num_epochs}\")):\n",
    "            sequences, targets = data[0], data[1]\n",
    "            sequences, targets = sequences.to(device), targets.to(device)\n",
    "            \n",
    "            optimizer.zero_grad()\n",
    "            predictions = model(sequences).squeeze()\n",
    "            loss = criterion(predictions, targets)\n",
    "            loss.backward()\n",
    "            \n",
    "            # Gradient clipping to prevent exploding gradients\n",
    "            torch.nn.utils.clip_grad_norm_(model.parameters(), max_norm=1.0)\n",
    "            \n",
    "            optimizer.step()\n",
    "            train_loss += loss.item()\n",
    "        \n",
    "        # Validation phase\n",
    "        model.eval()\n",
    "        val_loss = 0.0\n",
    "        \n",
    "        with torch.no_grad():\n",
    "            for data in val_loader:\n",
    "                sequences, targets = data[0], data[1]\n",
    "                sequences, targets = sequences.to(device), targets.to(device)\n",
    "                predictions = model(sequences).squeeze()\n",
    "                loss = criterion(predictions, targets)\n",
    "                val_loss += loss.item()\n",
    "        \n",
    "        # Calculate average losses\n",
    "        avg_train_loss = train_loss / len(train_loader)\n",
    "        avg_val_loss = val_loss / len(val_loader)\n",
    "        \n",
    "        train_losses.append(avg_train_loss)\n",
    "        val_losses.append(avg_val_loss)\n",
    "        \n",
    "        # Save best model\n",
    "        if avg_val_loss < best_val_loss:\n",
    "            best_val_loss = avg_val_loss\n",
    "            best_model_state = model.state_dict().copy()\n",
    "        \n",
    "        # Print progress\n",
    "        if (epoch + 1) % 5 == 0:\n",
    "            print(f\"Epoch {epoch+1}/{num_epochs}\")\n",
    "            print(f\"Train Loss: {avg_train_loss:.4f}, Val Loss: {avg_val_loss:.4f}\")\n",
    "            print(f\"Learning Rate: {optimizer.param_groups[0]['lr']:.6f}\")\n",
    "            print(\"-\" * 50)\n",
    "    \n",
    "    # Load best model\n",
    "    model.load_state_dict(best_model_state)\n",
    "    \n",
    "    return model, train_losses, val_losses"
   ]
  },
  {
   "cell_type": "code",
   "execution_count": 37,
   "id": "9d3cfb81",
   "metadata": {},
   "outputs": [],
   "source": [
    "from sklearn.metrics import mean_squared_error, mean_absolute_error, r2_score"
   ]
  },
  {
   "cell_type": "code",
   "execution_count": 38,
   "id": "bfab222a",
   "metadata": {},
   "outputs": [],
   "source": [
    "def evaluate_model(model, data_loader, dataset=None, target_property=None):\n",
    "    model.eval()\n",
    "    predictions, true_values = [], []\n",
    "\n",
    "    with torch.no_grad():\n",
    "        for data in data_loader:\n",
    "            sequences, targets = data[0], data[1]\n",
    "            sequences, targets = sequences.to(device), targets.to(device)\n",
    "\n",
    "            # Adjust input shape if needed\n",
    "            if sequences.ndim == 4:\n",
    "                sequences = sequences.permute(0, 2, 3, 1)  # B, H, W, C\n",
    "                sequences = sequences.reshape(sequences.shape[0], sequences.shape[1], -1)\n",
    "\n",
    "            outputs = model(sequences)\n",
    "            predictions.extend(outputs.squeeze().cpu().numpy())\n",
    "            true_values.extend(targets.squeeze().cpu().numpy())\n",
    "\n",
    "    predictions = np.array(predictions)\n",
    "    true_values = np.array(true_values)\n",
    "\n",
    "    # Denormalize if possible\n",
    "    if dataset is not None and hasattr(dataset, 'denormalize_target'):\n",
    "        predictions = np.array([dataset.denormalize_target(p, target_property) for p in predictions])\n",
    "        true_values = np.array([dataset.denormalize_target(t, target_property) for t in true_values])\n",
    "\n",
    "    # Calculate metrics\n",
    "    mse = mean_squared_error(true_values, predictions)\n",
    "    mae = mean_absolute_error(true_values, predictions)\n",
    "    r2 = r2_score(true_values, predictions)\n",
    "\n",
    "    print(f\"\\nTest MSE: {mse:.4f}\")\n",
    "    print(f\"Test MAE: {mae:.4f}\")\n",
    "    print(f\"Test R²:  {r2:.4f}\")\n",
    "\n",
    "    return predictions, true_values, mse, mae, r2"
   ]
  },
  {
   "cell_type": "code",
   "execution_count": 39,
   "id": "18daaf1f",
   "metadata": {},
   "outputs": [],
   "source": [
    "def plot_results(train_losses, val_losses, predictions, true_values, target_property):\n",
    "    \"\"\"Plot training results and predictions.\"\"\"\n",
    "    fig, (ax1, ax2) = plt.subplots(1, 2, figsize=(15, 5))\n",
    "    \n",
    "    # Plot training curves\n",
    "    ax1.plot(train_losses, label='Training Loss')\n",
    "    ax1.plot(val_losses, label='Validation Loss')\n",
    "    ax1.set_xlabel('Epoch')\n",
    "    ax1.set_ylabel('Loss')\n",
    "    ax1.set_title('Training and Validation Loss')\n",
    "    ax1.legend()\n",
    "    ax1.grid(True)\n",
    "    \n",
    "    # Plot predictions vs true values\n",
    "    ax2.scatter(true_values, predictions, alpha=0.7)\n",
    "    ax2.plot([min(true_values), max(true_values)], [min(true_values), max(true_values)], 'r--', lw=2)\n",
    "    ax2.set_xlabel(f'True {target_property}')\n",
    "    ax2.set_ylabel(f'Predicted {target_property}')\n",
    "    ax2.set_title(f'Predictions vs True Values\\n{target_property}')\n",
    "    ax2.grid(True)\n",
    "    \n",
    "    plt.tight_layout()\n",
    "    plt.show()"
   ]
  },
  {
   "cell_type": "code",
   "execution_count": null,
   "id": "b1d288cb-6d42-4041-97a9-baea4958c09b",
   "metadata": {},
   "outputs": [],
   "source": [
    "from fpgen.prop_prediction.metrics import get_regression_metrics, get_classification_metrics, bootstrap_metric_ci"
   ]
  },
  {
   "cell_type": "markdown",
   "id": "98e19c47",
   "metadata": {},
   "source": [
    "<h3>Работа с SequenceLSTM</h3>"
   ]
  },
  {
   "cell_type": "code",
   "execution_count": null,
   "id": "edfe09d6",
   "metadata": {},
   "outputs": [
    {
     "name": "stdout",
     "output_type": "stream",
     "text": [
      "(tensor([[[0., 0., 0.,  ..., 0., 0., 0.],\n",
      "         [1., 0., 0.,  ..., 0., 0., 0.],\n",
      "         [0., 0., 0.,  ..., 0., 0., 0.],\n",
      "         ...,\n",
      "         [0., 0., 0.,  ..., 0., 0., 0.],\n",
      "         [0., 0., 0.,  ..., 0., 0., 0.],\n",
      "         [0., 0., 0.,  ..., 0., 0., 0.]],\n",
      "\n",
      "        [[0., 0., 0.,  ..., 0., 0., 0.],\n",
      "         [0., 0., 0.,  ..., 0., 0., 0.],\n",
      "         [0., 0., 0.,  ..., 0., 0., 0.],\n",
      "         ...,\n",
      "         [0., 0., 0.,  ..., 0., 0., 0.],\n",
      "         [0., 0., 0.,  ..., 0., 0., 0.],\n",
      "         [0., 0., 0.,  ..., 0., 0., 0.]],\n",
      "\n",
      "        [[0., 0., 0.,  ..., 0., 0., 0.],\n",
      "         [1., 0., 0.,  ..., 0., 0., 0.],\n",
      "         [0., 0., 0.,  ..., 0., 0., 0.],\n",
      "         ...,\n",
      "         [0., 0., 0.,  ..., 1., 0., 0.],\n",
      "         [0., 0., 0.,  ..., 0., 0., 0.],\n",
      "         [0., 0., 0.,  ..., 0., 0., 0.]],\n",
      "\n",
      "        ...,\n",
      "\n",
      "        [[0., 0., 0.,  ..., 0., 0., 0.],\n",
      "         [0., 0., 0.,  ..., 1., 0., 0.],\n",
      "         [0., 0., 0.,  ..., 0., 0., 0.],\n",
      "         ...,\n",
      "         [0., 0., 0.,  ..., 0., 0., 0.],\n",
      "         [0., 0., 0.,  ..., 0., 0., 0.],\n",
      "         [0., 0., 0.,  ..., 0., 0., 0.]],\n",
      "\n",
      "        [[0., 0., 0.,  ..., 0., 0., 0.],\n",
      "         [0., 0., 0.,  ..., 1., 0., 0.],\n",
      "         [0., 0., 0.,  ..., 0., 0., 0.],\n",
      "         ...,\n",
      "         [0., 0., 0.,  ..., 0., 0., 0.],\n",
      "         [0., 0., 0.,  ..., 0., 0., 0.],\n",
      "         [0., 0., 0.,  ..., 0., 0., 0.]],\n",
      "\n",
      "        [[0., 0., 0.,  ..., 0., 0., 0.],\n",
      "         [0., 0., 0.,  ..., 1., 0., 0.],\n",
      "         [0., 0., 0.,  ..., 0., 0., 0.],\n",
      "         ...,\n",
      "         [0., 0., 0.,  ..., 0., 0., 0.],\n",
      "         [0., 0., 0.,  ..., 0., 0., 0.],\n",
      "         [0., 0., 0.,  ..., 0., 0., 0.]]]), tensor([ 0.5102, -0.6570,  2.7513, -0.1901, -0.3924, -0.8905,  0.8215, -0.4858,\n",
      "        -0.7193, -1.0772, -0.2524,  1.9732, -0.2991,  0.7748, -0.5636, -0.6415,\n",
      "         1.0549, -0.5792,  0.2768, -0.5948, -0.5325, -0.5792, -0.4703,  2.0510,\n",
      "         0.9927,  1.0705,  0.7748, -0.6415, -0.5792,  0.2768,  1.1483,  1.3662,\n",
      "        -0.5325, -0.4236, -0.4703, -0.2212,  0.5102, -0.5014, -1.5286, -0.7660,\n",
      "        -0.5481, -0.2212, -0.1901, -1.4819,  0.8682, -0.4547, -0.4858, -0.3613,\n",
      "        -0.2368, -0.5325, -0.2212,  0.8215, -0.5014, -0.5636, -0.2057,  0.8526,\n",
      "        -0.6726, -0.6259, -0.7193, -0.2679, -0.9060,  2.1288, -0.5325, -0.4391,\n",
      "        -0.4391, -0.3924, -0.4236, -0.4703, -0.5948, -0.5481,  1.1327,  1.5841,\n",
      "        -0.5014, -0.5169, -0.6726, -0.4547, -0.6259, -0.3146,  1.3506, -0.5636,\n",
      "        -0.5325, -0.5169, -0.6259,  0.6814, -0.5014, -0.2057,  0.7592,  1.2261,\n",
      "        -0.5792, -0.5792,  0.1523, -0.6259, -0.5169, -0.7504, -0.7504,  0.5725,\n",
      "        -0.5325, -0.5325,  0.7592, -0.5014, -0.1279, -0.8749, -0.6415, -0.6103,\n",
      "         1.2572, -0.5948, -1.3574, -0.2524, -0.9216,  0.8059, -0.4858, -0.5325,\n",
      "        -0.6103, -0.2991, -0.9216,  2.5646, -0.4858,  0.9615, -0.0345,  1.1950,\n",
      "        -0.5636,  1.3195, -0.2679, -0.6103, -0.3613, -0.8282,  1.4284, -0.5948,\n",
      "        -0.2057, -0.2991, -0.4236, -0.7504,  2.1288,  0.9149,  1.6308, -0.6103,\n",
      "         0.6036, -0.2212,  0.7281, -0.5169,  1.2884, -0.5481, -1.0772, -0.5325,\n",
      "        -0.4080, -0.5014, -0.5169, -0.3146, -0.8126,  1.6619, -0.5636, -0.7971,\n",
      "        -0.5169, -1.5130, -0.5481, -0.4547, -0.6415, -0.6415, -0.4391,  1.3506,\n",
      "         0.7904, -1.3885, -0.5948,  2.4867,  7.1090,  1.0394, -0.5014,  0.5725,\n",
      "        -0.4703, -1.0772, -0.5325,  1.0705, -1.2951,  0.7125, -0.3769, -0.5169,\n",
      "        -0.5792, -0.5014,  0.7125, -0.3302, -1.4196, -0.4703, -0.4391, -1.0772,\n",
      "         0.6192, -0.6103,  0.5413,  0.5569,  0.2768,  0.5413, -0.2679,  1.9732,\n",
      "        -0.4080,  2.1443, -0.4547, -0.5948, -1.0772, -0.8593, -0.5948, -0.0812,\n",
      "         1.9732, -0.6259, -0.6259, -0.8749, -0.5169, -0.5792,  0.6503,  0.8837,\n",
      "        -0.5636, -0.6881, -0.4858, -0.2524,  0.3390, -0.6881,  1.2728, -1.3729,\n",
      "        -1.0305,  0.3079,  1.4596,  1.4440,  1.9732,  0.4480,  0.9771, -0.2524,\n",
      "        -0.2524,  1.0549, -1.5130,  1.5841, -0.5169, -0.2991,  0.7437, -0.5948,\n",
      "        -1.8554, -0.6259,  0.7592, -0.6415,  1.5996,  0.3390,  1.1327, -0.6259,\n",
      "        -0.6415,  1.3973,  1.6619,  0.7904, -0.2057, -0.8438, -0.4391, -0.5792,\n",
      "        -0.4391, -0.6415, -0.2679, -0.5325, -1.0928, -0.4858,  2.4867, -0.8905,\n",
      "         2.7513,  0.6347, -0.6726, -0.5948, -0.3613,  0.4635, -0.6103, -0.8905,\n",
      "         0.8059,  2.7513,  0.4168, -0.5792,  1.0705, -0.5792,  2.6424,  1.9732,\n",
      "        -0.5014,  0.5880,  1.3662, -1.4819, -1.4507,  2.4712, -0.5169, -0.5169,\n",
      "        -0.5792, -0.5481, -1.3574,  2.6424, -0.5169, -0.4547, -1.3885,  1.6308,\n",
      "        -0.3769, -0.5948,  1.2261, -0.8593,  1.1950, -0.9216, -0.2835, -0.5792,\n",
      "         1.3506,  0.9615, -1.1706, -0.2524, -0.4547, -0.4858, -0.2368,  2.5334,\n",
      "        -0.4080, -0.5014, -1.0928, -0.5948, -0.4391, -0.6881, -0.5325, -0.9372,\n",
      "         1.7553, -0.5014, -1.0772,  2.7513, -0.5325,  0.2923, -0.5481, -0.4080,\n",
      "        -0.9683,  0.7592,  2.1910, -0.4703, -0.5014, -0.5948,  1.6619,  0.6347,\n",
      "         2.4712,  2.1599,  0.6036,  1.3973, -0.5481, -0.5792, -1.0305,  0.5880,\n",
      "        -2.5090, -0.4391, -0.4236, -0.5169,  1.0238, -0.2991, -0.4236,  1.1639,\n",
      "        -0.2991, -0.6259,  1.3973, -0.6103, -1.3418, -1.3262, -0.6415, -0.2212,\n",
      "        -0.2524, -0.5481,  1.9109, -0.4391,  0.6192,  0.8526, -0.4547,  0.6503,\n",
      "        -0.7971, -1.4819, -0.4236, -1.2795, -0.5169, -0.4236, -0.5792, -0.9527,\n",
      "        -0.5792, -0.3924, -0.3146, -0.4858, -1.3418, -1.4352, -0.6726, -0.5792,\n",
      "         1.0394,  0.8526,  1.5996, -0.9372, -0.0345,  1.3506, -0.5014,  1.8642,\n",
      "        -0.7193, -0.6259, -0.5481, -0.4236,  1.9887, -0.2835, -0.9838,  1.0549,\n",
      "        -0.5325, -1.0617, -0.3613, -0.3302, -0.5481, -0.4547, -0.0812,  1.0394,\n",
      "        -0.5169,  0.6503, -0.5169,  0.9149, -0.9838, -0.6103, -0.9060,  0.2768,\n",
      "         1.0394, -0.7971, -0.7504, -0.3146,  1.9732, -0.7504, -1.3262,  1.2728,\n",
      "         0.8059, -0.2835, -0.9060, -0.5014, -1.4819, -0.4080, -0.3302,  0.7592,\n",
      "        -0.0812, -0.4391,  0.5569, -1.1083, -0.5014, -0.6726, -0.2524, -0.4236,\n",
      "        -0.5014, -0.6415, -0.5792,  1.3195, -0.2835,  0.6970, -1.0305, -0.6103,\n",
      "        -0.5481,  1.1016, -0.5169, -0.3924, -0.2057,  1.7397, -0.4858,  0.8059,\n",
      "        -0.5014,  1.7708,  1.9732, -0.5169, -1.3262, -0.4080,  2.1599, -0.6259,\n",
      "         1.3506,  0.6503, -0.5169,  0.6659,  0.6970,  1.8486, -0.7971, -0.7348,\n",
      "         1.0549, -0.3769, -0.4858,  0.7748, -1.0305, -0.2368, -0.5948,  0.8526,\n",
      "         1.6775,  1.3973, -0.2368, -0.5948,  0.8526,  1.4596, -0.5325,  0.2612,\n",
      "        -0.6103, -0.6881, -0.5169,  0.2923,  0.7904, -0.7504, -0.6103,  0.6659,\n",
      "         0.6814, -0.2991, -0.4236,  0.7592,  0.9771, -0.5169,  0.6814,  1.3506,\n",
      "        -0.8282, -0.4236, -0.5169, -1.3885, -0.3458, -1.0772, -0.5481,  1.3973,\n",
      "        -0.5014, -0.5792, -0.5481, -0.3302, -0.3302, -0.2991,  0.7437,  1.1950,\n",
      "         0.7592,  0.8837]))\n",
      "Training on cuda\n",
      "Number of parameters: 860,033\n"
     ]
    },
    {
     "name": "stderr",
     "output_type": "stream",
     "text": [
      "Epoch 1/300:   0%|          | 0/17 [00:00<?, ?it/s]"
     ]
    },
    {
     "name": "stderr",
     "output_type": "stream",
     "text": [
      "Epoch 1/300: 100%|██████████| 17/17 [00:00<00:00, 32.16it/s]\n",
      "Epoch 2/300: 100%|██████████| 17/17 [00:00<00:00, 58.00it/s]\n",
      "Epoch 3/300: 100%|██████████| 17/17 [00:00<00:00, 57.55it/s]\n",
      "Epoch 4/300: 100%|██████████| 17/17 [00:00<00:00, 58.89it/s]\n",
      "Epoch 5/300: 100%|██████████| 17/17 [00:00<00:00, 58.03it/s]\n"
     ]
    },
    {
     "name": "stdout",
     "output_type": "stream",
     "text": [
      "Epoch 5/300\n",
      "Train Loss: 0.7752, Val Loss: 0.7268\n",
      "Learning Rate: 0.001000\n",
      "--------------------------------------------------\n"
     ]
    },
    {
     "name": "stderr",
     "output_type": "stream",
     "text": [
      "Epoch 6/300: 100%|██████████| 17/17 [00:00<00:00, 56.38it/s]\n",
      "Epoch 7/300: 100%|██████████| 17/17 [00:00<00:00, 62.94it/s]\n",
      "Epoch 8/300: 100%|██████████| 17/17 [00:00<00:00, 61.11it/s]\n",
      "Epoch 9/300: 100%|██████████| 17/17 [00:00<00:00, 60.58it/s]\n",
      "Epoch 10/300: 100%|██████████| 17/17 [00:00<00:00, 60.76it/s]\n"
     ]
    },
    {
     "name": "stdout",
     "output_type": "stream",
     "text": [
      "Epoch 10/300\n",
      "Train Loss: 0.7025, Val Loss: 0.7433\n",
      "Learning Rate: 0.001000\n",
      "--------------------------------------------------\n"
     ]
    },
    {
     "name": "stderr",
     "output_type": "stream",
     "text": [
      "Epoch 11/300: 100%|██████████| 17/17 [00:00<00:00, 57.72it/s]\n",
      "Epoch 12/300: 100%|██████████| 17/17 [00:00<00:00, 59.39it/s]\n",
      "Epoch 13/300: 100%|██████████| 17/17 [00:00<00:00, 57.73it/s]\n",
      "Epoch 14/300: 100%|██████████| 17/17 [00:00<00:00, 61.79it/s]\n",
      "Epoch 15/300: 100%|██████████| 17/17 [00:00<00:00, 61.81it/s]\n"
     ]
    },
    {
     "name": "stdout",
     "output_type": "stream",
     "text": [
      "Epoch 15/300\n",
      "Train Loss: 0.6927, Val Loss: 0.7472\n",
      "Learning Rate: 0.001000\n",
      "--------------------------------------------------\n"
     ]
    },
    {
     "name": "stderr",
     "output_type": "stream",
     "text": [
      "Epoch 16/300: 100%|██████████| 17/17 [00:00<00:00, 60.99it/s]\n",
      "Epoch 17/300: 100%|██████████| 17/17 [00:00<00:00, 57.42it/s]\n",
      "Epoch 18/300: 100%|██████████| 17/17 [00:00<00:00, 58.16it/s]\n",
      "Epoch 19/300: 100%|██████████| 17/17 [00:00<00:00, 60.65it/s]\n",
      "Epoch 20/300: 100%|██████████| 17/17 [00:00<00:00, 62.03it/s]\n"
     ]
    },
    {
     "name": "stdout",
     "output_type": "stream",
     "text": [
      "Epoch 20/300\n",
      "Train Loss: 0.7819, Val Loss: 0.7140\n",
      "Learning Rate: 0.001000\n",
      "--------------------------------------------------\n"
     ]
    },
    {
     "name": "stderr",
     "output_type": "stream",
     "text": [
      "Epoch 21/300: 100%|██████████| 17/17 [00:00<00:00, 60.84it/s]\n",
      "Epoch 22/300: 100%|██████████| 17/17 [00:00<00:00, 61.54it/s]\n",
      "Epoch 23/300: 100%|██████████| 17/17 [00:00<00:00, 60.16it/s]\n",
      "Epoch 24/300: 100%|██████████| 17/17 [00:00<00:00, 62.87it/s]\n",
      "Epoch 25/300: 100%|██████████| 17/17 [00:00<00:00, 63.72it/s]\n"
     ]
    },
    {
     "name": "stdout",
     "output_type": "stream",
     "text": [
      "Epoch 25/300\n",
      "Train Loss: 0.5546, Val Loss: 0.6883\n",
      "Learning Rate: 0.001000\n",
      "--------------------------------------------------\n"
     ]
    },
    {
     "name": "stderr",
     "output_type": "stream",
     "text": [
      "Epoch 26/300: 100%|██████████| 17/17 [00:00<00:00, 61.79it/s]\n",
      "Epoch 27/300: 100%|██████████| 17/17 [00:00<00:00, 61.14it/s]\n",
      "Epoch 28/300: 100%|██████████| 17/17 [00:00<00:00, 57.03it/s]\n",
      "Epoch 29/300: 100%|██████████| 17/17 [00:00<00:00, 60.37it/s]\n",
      "Epoch 30/300: 100%|██████████| 17/17 [00:00<00:00, 62.41it/s]\n"
     ]
    },
    {
     "name": "stdout",
     "output_type": "stream",
     "text": [
      "Epoch 30/300\n",
      "Train Loss: 0.6651, Val Loss: 0.6761\n",
      "Learning Rate: 0.001000\n",
      "--------------------------------------------------\n"
     ]
    },
    {
     "name": "stderr",
     "output_type": "stream",
     "text": [
      "Epoch 31/300: 100%|██████████| 17/17 [00:00<00:00, 61.97it/s]\n",
      "Epoch 32/300: 100%|██████████| 17/17 [00:00<00:00, 60.27it/s]\n",
      "Epoch 33/300: 100%|██████████| 17/17 [00:00<00:00, 60.16it/s]\n",
      "Epoch 34/300: 100%|██████████| 17/17 [00:00<00:00, 56.98it/s]\n",
      "Epoch 35/300: 100%|██████████| 17/17 [00:00<00:00, 60.21it/s]\n"
     ]
    },
    {
     "name": "stdout",
     "output_type": "stream",
     "text": [
      "Epoch 35/300\n",
      "Train Loss: 0.4775, Val Loss: 0.7300\n",
      "Learning Rate: 0.001000\n",
      "--------------------------------------------------\n"
     ]
    },
    {
     "name": "stderr",
     "output_type": "stream",
     "text": [
      "Epoch 36/300: 100%|██████████| 17/17 [00:00<00:00, 62.13it/s]\n",
      "Epoch 37/300: 100%|██████████| 17/17 [00:00<00:00, 63.49it/s]\n",
      "Epoch 38/300: 100%|██████████| 17/17 [00:00<00:00, 62.48it/s]\n",
      "Epoch 39/300: 100%|██████████| 17/17 [00:00<00:00, 62.85it/s]\n",
      "Epoch 40/300: 100%|██████████| 17/17 [00:00<00:00, 62.35it/s]\n"
     ]
    },
    {
     "name": "stdout",
     "output_type": "stream",
     "text": [
      "Epoch 40/300\n",
      "Train Loss: 0.4591, Val Loss: 0.5410\n",
      "Learning Rate: 0.001000\n",
      "--------------------------------------------------\n"
     ]
    },
    {
     "name": "stderr",
     "output_type": "stream",
     "text": [
      "Epoch 41/300: 100%|██████████| 17/17 [00:00<00:00, 65.57it/s]\n",
      "Epoch 42/300: 100%|██████████| 17/17 [00:00<00:00, 63.72it/s]\n",
      "Epoch 43/300: 100%|██████████| 17/17 [00:00<00:00, 60.64it/s]\n",
      "Epoch 44/300: 100%|██████████| 17/17 [00:00<00:00, 62.42it/s]\n",
      "Epoch 45/300: 100%|██████████| 17/17 [00:00<00:00, 64.89it/s]\n"
     ]
    },
    {
     "name": "stdout",
     "output_type": "stream",
     "text": [
      "Epoch 45/300\n",
      "Train Loss: 0.3672, Val Loss: 0.6644\n",
      "Learning Rate: 0.001000\n",
      "--------------------------------------------------\n"
     ]
    },
    {
     "name": "stderr",
     "output_type": "stream",
     "text": [
      "Epoch 46/300: 100%|██████████| 17/17 [00:00<00:00, 62.95it/s]\n",
      "Epoch 47/300: 100%|██████████| 17/17 [00:00<00:00, 63.55it/s]\n",
      "Epoch 48/300: 100%|██████████| 17/17 [00:00<00:00, 62.90it/s]\n",
      "Epoch 49/300: 100%|██████████| 17/17 [00:00<00:00, 61.80it/s]\n",
      "Epoch 50/300: 100%|██████████| 17/17 [00:00<00:00, 63.99it/s]\n"
     ]
    },
    {
     "name": "stdout",
     "output_type": "stream",
     "text": [
      "Epoch 50/300\n",
      "Train Loss: 0.3336, Val Loss: 0.6492\n",
      "Learning Rate: 0.001000\n",
      "--------------------------------------------------\n"
     ]
    },
    {
     "name": "stderr",
     "output_type": "stream",
     "text": [
      "Epoch 51/300: 100%|██████████| 17/17 [00:00<00:00, 64.29it/s]\n",
      "Epoch 52/300: 100%|██████████| 17/17 [00:00<00:00, 65.44it/s]\n",
      "Epoch 53/300: 100%|██████████| 17/17 [00:00<00:00, 63.36it/s]\n",
      "Epoch 54/300: 100%|██████████| 17/17 [00:00<00:00, 59.61it/s]\n",
      "Epoch 55/300: 100%|██████████| 17/17 [00:00<00:00, 57.60it/s]\n"
     ]
    },
    {
     "name": "stdout",
     "output_type": "stream",
     "text": [
      "Epoch 55/300\n",
      "Train Loss: 0.3643, Val Loss: 0.5899\n",
      "Learning Rate: 0.001000\n",
      "--------------------------------------------------\n"
     ]
    },
    {
     "name": "stderr",
     "output_type": "stream",
     "text": [
      "Epoch 56/300: 100%|██████████| 17/17 [00:00<00:00, 62.97it/s]\n",
      "Epoch 57/300: 100%|██████████| 17/17 [00:00<00:00, 62.26it/s]\n",
      "Epoch 58/300: 100%|██████████| 17/17 [00:00<00:00, 61.37it/s]\n",
      "Epoch 59/300: 100%|██████████| 17/17 [00:00<00:00, 61.18it/s]\n",
      "Epoch 60/300: 100%|██████████| 17/17 [00:00<00:00, 60.63it/s]\n"
     ]
    },
    {
     "name": "stdout",
     "output_type": "stream",
     "text": [
      "Epoch 60/300\n",
      "Train Loss: 0.3454, Val Loss: 0.6288\n",
      "Learning Rate: 0.001000\n",
      "--------------------------------------------------\n"
     ]
    },
    {
     "name": "stderr",
     "output_type": "stream",
     "text": [
      "Epoch 61/300: 100%|██████████| 17/17 [00:00<00:00, 61.62it/s]\n",
      "Epoch 62/300: 100%|██████████| 17/17 [00:00<00:00, 62.95it/s]\n",
      "Epoch 63/300: 100%|██████████| 17/17 [00:00<00:00, 63.29it/s]\n",
      "Epoch 64/300: 100%|██████████| 17/17 [00:00<00:00, 62.60it/s]\n",
      "Epoch 65/300: 100%|██████████| 17/17 [00:00<00:00, 64.31it/s]\n"
     ]
    },
    {
     "name": "stdout",
     "output_type": "stream",
     "text": [
      "Epoch 65/300\n",
      "Train Loss: 0.2858, Val Loss: 0.5951\n",
      "Learning Rate: 0.001000\n",
      "--------------------------------------------------\n"
     ]
    },
    {
     "name": "stderr",
     "output_type": "stream",
     "text": [
      "Epoch 66/300: 100%|██████████| 17/17 [00:00<00:00, 60.91it/s]\n",
      "Epoch 67/300: 100%|██████████| 17/17 [00:00<00:00, 61.83it/s]\n",
      "Epoch 68/300: 100%|██████████| 17/17 [00:00<00:00, 63.13it/s]\n",
      "Epoch 69/300: 100%|██████████| 17/17 [00:00<00:00, 64.40it/s]\n",
      "Epoch 70/300: 100%|██████████| 17/17 [00:00<00:00, 60.76it/s]\n"
     ]
    },
    {
     "name": "stdout",
     "output_type": "stream",
     "text": [
      "Epoch 70/300\n",
      "Train Loss: 0.3295, Val Loss: 0.5250\n",
      "Learning Rate: 0.001000\n",
      "--------------------------------------------------\n"
     ]
    },
    {
     "name": "stderr",
     "output_type": "stream",
     "text": [
      "Epoch 71/300: 100%|██████████| 17/17 [00:00<00:00, 61.20it/s]\n",
      "Epoch 72/300: 100%|██████████| 17/17 [00:00<00:00, 62.34it/s]\n",
      "Epoch 73/300: 100%|██████████| 17/17 [00:00<00:00, 60.79it/s]\n",
      "Epoch 74/300: 100%|██████████| 17/17 [00:00<00:00, 63.67it/s]\n",
      "Epoch 75/300: 100%|██████████| 17/17 [00:00<00:00, 61.00it/s]\n"
     ]
    },
    {
     "name": "stdout",
     "output_type": "stream",
     "text": [
      "Epoch 75/300\n",
      "Train Loss: 0.3026, Val Loss: 0.6852\n",
      "Learning Rate: 0.001000\n",
      "--------------------------------------------------\n"
     ]
    },
    {
     "name": "stderr",
     "output_type": "stream",
     "text": [
      "Epoch 76/300: 100%|██████████| 17/17 [00:00<00:00, 65.58it/s]\n",
      "Epoch 77/300: 100%|██████████| 17/17 [00:00<00:00, 60.11it/s]\n",
      "Epoch 78/300: 100%|██████████| 17/17 [00:00<00:00, 62.17it/s]\n",
      "Epoch 79/300: 100%|██████████| 17/17 [00:00<00:00, 65.25it/s]\n",
      "Epoch 80/300: 100%|██████████| 17/17 [00:00<00:00, 62.91it/s]\n"
     ]
    },
    {
     "name": "stdout",
     "output_type": "stream",
     "text": [
      "Epoch 80/300\n",
      "Train Loss: 0.2678, Val Loss: 0.5638\n",
      "Learning Rate: 0.001000\n",
      "--------------------------------------------------\n"
     ]
    },
    {
     "name": "stderr",
     "output_type": "stream",
     "text": [
      "Epoch 81/300: 100%|██████████| 17/17 [00:00<00:00, 62.44it/s]\n",
      "Epoch 82/300: 100%|██████████| 17/17 [00:00<00:00, 63.81it/s]\n",
      "Epoch 83/300: 100%|██████████| 17/17 [00:00<00:00, 61.83it/s]\n",
      "Epoch 84/300: 100%|██████████| 17/17 [00:00<00:00, 61.37it/s]\n",
      "Epoch 85/300: 100%|██████████| 17/17 [00:00<00:00, 59.67it/s]\n"
     ]
    },
    {
     "name": "stdout",
     "output_type": "stream",
     "text": [
      "Epoch 85/300\n",
      "Train Loss: 0.2719, Val Loss: 0.5133\n",
      "Learning Rate: 0.001000\n",
      "--------------------------------------------------\n"
     ]
    },
    {
     "name": "stderr",
     "output_type": "stream",
     "text": [
      "Epoch 86/300: 100%|██████████| 17/17 [00:00<00:00, 63.76it/s]\n",
      "Epoch 87/300: 100%|██████████| 17/17 [00:00<00:00, 64.52it/s]\n",
      "Epoch 88/300: 100%|██████████| 17/17 [00:00<00:00, 61.10it/s]\n",
      "Epoch 89/300: 100%|██████████| 17/17 [00:00<00:00, 61.24it/s]\n",
      "Epoch 90/300: 100%|██████████| 17/17 [00:00<00:00, 61.33it/s]\n"
     ]
    },
    {
     "name": "stdout",
     "output_type": "stream",
     "text": [
      "Epoch 90/300\n",
      "Train Loss: 0.2727, Val Loss: 0.6532\n",
      "Learning Rate: 0.001000\n",
      "--------------------------------------------------\n"
     ]
    },
    {
     "name": "stderr",
     "output_type": "stream",
     "text": [
      "Epoch 91/300: 100%|██████████| 17/17 [00:00<00:00, 63.20it/s]\n",
      "Epoch 92/300: 100%|██████████| 17/17 [00:00<00:00, 64.46it/s]\n",
      "Epoch 93/300: 100%|██████████| 17/17 [00:00<00:00, 64.83it/s]\n",
      "Epoch 94/300: 100%|██████████| 17/17 [00:00<00:00, 62.49it/s]\n",
      "Epoch 95/300: 100%|██████████| 17/17 [00:00<00:00, 61.86it/s]\n"
     ]
    },
    {
     "name": "stdout",
     "output_type": "stream",
     "text": [
      "Epoch 95/300\n",
      "Train Loss: 0.2665, Val Loss: 0.5554\n",
      "Learning Rate: 0.001000\n",
      "--------------------------------------------------\n"
     ]
    },
    {
     "name": "stderr",
     "output_type": "stream",
     "text": [
      "Epoch 96/300: 100%|██████████| 17/17 [00:00<00:00, 61.21it/s]\n",
      "Epoch 97/300: 100%|██████████| 17/17 [00:00<00:00, 63.85it/s]\n",
      "Epoch 98/300: 100%|██████████| 17/17 [00:00<00:00, 58.85it/s]\n",
      "Epoch 99/300: 100%|██████████| 17/17 [00:00<00:00, 65.26it/s]\n",
      "Epoch 100/300: 100%|██████████| 17/17 [00:00<00:00, 64.44it/s]\n"
     ]
    },
    {
     "name": "stdout",
     "output_type": "stream",
     "text": [
      "Epoch 100/300\n",
      "Train Loss: 0.2492, Val Loss: 0.5914\n",
      "Learning Rate: 0.001000\n",
      "--------------------------------------------------\n"
     ]
    },
    {
     "name": "stderr",
     "output_type": "stream",
     "text": [
      "Epoch 101/300: 100%|██████████| 17/17 [00:00<00:00, 61.45it/s]\n",
      "Epoch 102/300: 100%|██████████| 17/17 [00:00<00:00, 62.73it/s]\n",
      "Epoch 103/300: 100%|██████████| 17/17 [00:00<00:00, 64.55it/s]\n",
      "Epoch 104/300: 100%|██████████| 17/17 [00:00<00:00, 62.29it/s]\n",
      "Epoch 105/300: 100%|██████████| 17/17 [00:00<00:00, 62.16it/s]\n"
     ]
    },
    {
     "name": "stdout",
     "output_type": "stream",
     "text": [
      "Epoch 105/300\n",
      "Train Loss: 0.2458, Val Loss: 0.5436\n",
      "Learning Rate: 0.001000\n",
      "--------------------------------------------------\n"
     ]
    },
    {
     "name": "stderr",
     "output_type": "stream",
     "text": [
      "Epoch 106/300: 100%|██████████| 17/17 [00:00<00:00, 60.92it/s]\n",
      "Epoch 107/300: 100%|██████████| 17/17 [00:00<00:00, 64.98it/s]\n",
      "Epoch 108/300: 100%|██████████| 17/17 [00:00<00:00, 63.90it/s]\n",
      "Epoch 109/300: 100%|██████████| 17/17 [00:00<00:00, 64.21it/s]\n",
      "Epoch 110/300: 100%|██████████| 17/17 [00:00<00:00, 62.01it/s]\n"
     ]
    },
    {
     "name": "stdout",
     "output_type": "stream",
     "text": [
      "Epoch 110/300\n",
      "Train Loss: 0.2474, Val Loss: 0.5515\n",
      "Learning Rate: 0.001000\n",
      "--------------------------------------------------\n"
     ]
    },
    {
     "name": "stderr",
     "output_type": "stream",
     "text": [
      "Epoch 111/300: 100%|██████████| 17/17 [00:00<00:00, 62.50it/s]\n",
      "Epoch 112/300: 100%|██████████| 17/17 [00:00<00:00, 59.40it/s]\n",
      "Epoch 113/300: 100%|██████████| 17/17 [00:00<00:00, 59.43it/s]\n",
      "Epoch 114/300: 100%|██████████| 17/17 [00:00<00:00, 63.79it/s]\n",
      "Epoch 115/300: 100%|██████████| 17/17 [00:00<00:00, 63.86it/s]\n"
     ]
    },
    {
     "name": "stdout",
     "output_type": "stream",
     "text": [
      "Epoch 115/300\n",
      "Train Loss: 0.2346, Val Loss: 0.5860\n",
      "Learning Rate: 0.001000\n",
      "--------------------------------------------------\n"
     ]
    },
    {
     "name": "stderr",
     "output_type": "stream",
     "text": [
      "Epoch 116/300: 100%|██████████| 17/17 [00:00<00:00, 62.68it/s]\n",
      "Epoch 117/300: 100%|██████████| 17/17 [00:00<00:00, 61.42it/s]\n",
      "Epoch 118/300: 100%|██████████| 17/17 [00:00<00:00, 62.09it/s]\n",
      "Epoch 119/300: 100%|██████████| 17/17 [00:00<00:00, 62.90it/s]\n",
      "Epoch 120/300: 100%|██████████| 17/17 [00:00<00:00, 61.38it/s]\n"
     ]
    },
    {
     "name": "stdout",
     "output_type": "stream",
     "text": [
      "Epoch 120/300\n",
      "Train Loss: 0.2411, Val Loss: 0.6106\n",
      "Learning Rate: 0.001000\n",
      "--------------------------------------------------\n"
     ]
    },
    {
     "name": "stderr",
     "output_type": "stream",
     "text": [
      "Epoch 121/300: 100%|██████████| 17/17 [00:00<00:00, 59.90it/s]\n",
      "Epoch 122/300: 100%|██████████| 17/17 [00:00<00:00, 63.73it/s]\n",
      "Epoch 123/300: 100%|██████████| 17/17 [00:00<00:00, 60.23it/s]\n",
      "Epoch 124/300: 100%|██████████| 17/17 [00:00<00:00, 60.32it/s]\n",
      "Epoch 125/300: 100%|██████████| 17/17 [00:00<00:00, 59.97it/s]\n"
     ]
    },
    {
     "name": "stdout",
     "output_type": "stream",
     "text": [
      "Epoch 125/300\n",
      "Train Loss: 0.2520, Val Loss: 0.6870\n",
      "Learning Rate: 0.001000\n",
      "--------------------------------------------------\n"
     ]
    },
    {
     "name": "stderr",
     "output_type": "stream",
     "text": [
      "Epoch 126/300: 100%|██████████| 17/17 [00:00<00:00, 62.69it/s]\n",
      "Epoch 127/300: 100%|██████████| 17/17 [00:00<00:00, 61.60it/s]\n",
      "Epoch 128/300: 100%|██████████| 17/17 [00:00<00:00, 61.18it/s]\n",
      "Epoch 129/300: 100%|██████████| 17/17 [00:00<00:00, 57.25it/s]\n",
      "Epoch 130/300: 100%|██████████| 17/17 [00:00<00:00, 62.60it/s]\n"
     ]
    },
    {
     "name": "stdout",
     "output_type": "stream",
     "text": [
      "Epoch 130/300\n",
      "Train Loss: 0.2210, Val Loss: 0.6199\n",
      "Learning Rate: 0.001000\n",
      "--------------------------------------------------\n"
     ]
    },
    {
     "name": "stderr",
     "output_type": "stream",
     "text": [
      "Epoch 131/300: 100%|██████████| 17/17 [00:00<00:00, 62.00it/s]\n",
      "Epoch 132/300: 100%|██████████| 17/17 [00:00<00:00, 61.75it/s]\n",
      "Epoch 133/300: 100%|██████████| 17/17 [00:00<00:00, 61.16it/s]\n",
      "Epoch 134/300: 100%|██████████| 17/17 [00:00<00:00, 61.09it/s]\n",
      "Epoch 135/300: 100%|██████████| 17/17 [00:00<00:00, 60.15it/s]\n"
     ]
    },
    {
     "name": "stdout",
     "output_type": "stream",
     "text": [
      "Epoch 135/300\n",
      "Train Loss: 0.2130, Val Loss: 0.6138\n",
      "Learning Rate: 0.001000\n",
      "--------------------------------------------------\n"
     ]
    },
    {
     "name": "stderr",
     "output_type": "stream",
     "text": [
      "Epoch 136/300: 100%|██████████| 17/17 [00:00<00:00, 62.83it/s]\n",
      "Epoch 137/300: 100%|██████████| 17/17 [00:00<00:00, 60.73it/s]\n",
      "Epoch 138/300: 100%|██████████| 17/17 [00:00<00:00, 63.41it/s]\n",
      "Epoch 139/300: 100%|██████████| 17/17 [00:00<00:00, 66.45it/s]\n",
      "Epoch 140/300: 100%|██████████| 17/17 [00:00<00:00, 60.74it/s]\n"
     ]
    },
    {
     "name": "stdout",
     "output_type": "stream",
     "text": [
      "Epoch 140/300\n",
      "Train Loss: 0.2048, Val Loss: 0.5514\n",
      "Learning Rate: 0.001000\n",
      "--------------------------------------------------\n"
     ]
    },
    {
     "name": "stderr",
     "output_type": "stream",
     "text": [
      "Epoch 141/300: 100%|██████████| 17/17 [00:00<00:00, 59.83it/s]\n",
      "Epoch 142/300: 100%|██████████| 17/17 [00:00<00:00, 62.45it/s]\n",
      "Epoch 143/300: 100%|██████████| 17/17 [00:00<00:00, 59.02it/s]\n",
      "Epoch 144/300: 100%|██████████| 17/17 [00:00<00:00, 59.65it/s]\n",
      "Epoch 145/300: 100%|██████████| 17/17 [00:00<00:00, 61.13it/s]\n"
     ]
    },
    {
     "name": "stdout",
     "output_type": "stream",
     "text": [
      "Epoch 145/300\n",
      "Train Loss: 0.2398, Val Loss: 0.5508\n",
      "Learning Rate: 0.001000\n",
      "--------------------------------------------------\n"
     ]
    },
    {
     "name": "stderr",
     "output_type": "stream",
     "text": [
      "Epoch 146/300: 100%|██████████| 17/17 [00:00<00:00, 60.49it/s]\n",
      "Epoch 147/300: 100%|██████████| 17/17 [00:00<00:00, 62.51it/s]\n",
      "Epoch 148/300: 100%|██████████| 17/17 [00:00<00:00, 61.01it/s]\n",
      "Epoch 149/300: 100%|██████████| 17/17 [00:00<00:00, 59.71it/s]\n",
      "Epoch 150/300: 100%|██████████| 17/17 [00:00<00:00, 60.32it/s]\n"
     ]
    },
    {
     "name": "stdout",
     "output_type": "stream",
     "text": [
      "Epoch 150/300\n",
      "Train Loss: 0.2428, Val Loss: 0.6496\n",
      "Learning Rate: 0.001000\n",
      "--------------------------------------------------\n"
     ]
    },
    {
     "name": "stderr",
     "output_type": "stream",
     "text": [
      "Epoch 151/300: 100%|██████████| 17/17 [00:00<00:00, 59.81it/s]\n",
      "Epoch 152/300: 100%|██████████| 17/17 [00:00<00:00, 58.25it/s]\n",
      "Epoch 153/300: 100%|██████████| 17/17 [00:00<00:00, 62.85it/s]\n",
      "Epoch 154/300: 100%|██████████| 17/17 [00:00<00:00, 59.47it/s]\n",
      "Epoch 155/300: 100%|██████████| 17/17 [00:00<00:00, 59.48it/s]\n"
     ]
    },
    {
     "name": "stdout",
     "output_type": "stream",
     "text": [
      "Epoch 155/300\n",
      "Train Loss: 0.2040, Val Loss: 0.5691\n",
      "Learning Rate: 0.001000\n",
      "--------------------------------------------------\n"
     ]
    },
    {
     "name": "stderr",
     "output_type": "stream",
     "text": [
      "Epoch 156/300: 100%|██████████| 17/17 [00:00<00:00, 60.76it/s]\n",
      "Epoch 157/300: 100%|██████████| 17/17 [00:00<00:00, 61.79it/s]\n",
      "Epoch 158/300: 100%|██████████| 17/17 [00:00<00:00, 62.95it/s]\n",
      "Epoch 159/300: 100%|██████████| 17/17 [00:00<00:00, 60.12it/s]\n",
      "Epoch 160/300: 100%|██████████| 17/17 [00:00<00:00, 61.46it/s]\n"
     ]
    },
    {
     "name": "stdout",
     "output_type": "stream",
     "text": [
      "Epoch 160/300\n",
      "Train Loss: 0.2175, Val Loss: 0.4877\n",
      "Learning Rate: 0.001000\n",
      "--------------------------------------------------\n"
     ]
    },
    {
     "name": "stderr",
     "output_type": "stream",
     "text": [
      "Epoch 161/300: 100%|██████████| 17/17 [00:00<00:00, 60.98it/s]\n",
      "Epoch 162/300: 100%|██████████| 17/17 [00:00<00:00, 58.59it/s]\n",
      "Epoch 163/300: 100%|██████████| 17/17 [00:00<00:00, 60.06it/s]\n",
      "Epoch 164/300: 100%|██████████| 17/17 [00:00<00:00, 60.08it/s]\n",
      "Epoch 165/300: 100%|██████████| 17/17 [00:00<00:00, 59.35it/s]\n"
     ]
    },
    {
     "name": "stdout",
     "output_type": "stream",
     "text": [
      "Epoch 165/300\n",
      "Train Loss: 0.1982, Val Loss: 0.4946\n",
      "Learning Rate: 0.001000\n",
      "--------------------------------------------------\n"
     ]
    },
    {
     "name": "stderr",
     "output_type": "stream",
     "text": [
      "Epoch 166/300: 100%|██████████| 17/17 [00:00<00:00, 61.06it/s]\n",
      "Epoch 167/300: 100%|██████████| 17/17 [00:00<00:00, 64.89it/s]\n",
      "Epoch 168/300: 100%|██████████| 17/17 [00:00<00:00, 64.96it/s]\n",
      "Epoch 169/300: 100%|██████████| 17/17 [00:00<00:00, 64.69it/s]\n",
      "Epoch 170/300: 100%|██████████| 17/17 [00:00<00:00, 67.30it/s]\n"
     ]
    },
    {
     "name": "stdout",
     "output_type": "stream",
     "text": [
      "Epoch 170/300\n",
      "Train Loss: 0.2364, Val Loss: 0.4886\n",
      "Learning Rate: 0.001000\n",
      "--------------------------------------------------\n"
     ]
    },
    {
     "name": "stderr",
     "output_type": "stream",
     "text": [
      "Epoch 171/300: 100%|██████████| 17/17 [00:00<00:00, 57.70it/s]\n",
      "Epoch 172/300: 100%|██████████| 17/17 [00:00<00:00, 65.16it/s]\n",
      "Epoch 173/300: 100%|██████████| 17/17 [00:00<00:00, 65.47it/s]\n",
      "Epoch 174/300: 100%|██████████| 17/17 [00:00<00:00, 64.59it/s]\n",
      "Epoch 175/300: 100%|██████████| 17/17 [00:00<00:00, 62.10it/s]\n"
     ]
    },
    {
     "name": "stdout",
     "output_type": "stream",
     "text": [
      "Epoch 175/300\n",
      "Train Loss: 0.1503, Val Loss: 0.5112\n",
      "Learning Rate: 0.001000\n",
      "--------------------------------------------------\n"
     ]
    },
    {
     "name": "stderr",
     "output_type": "stream",
     "text": [
      "Epoch 176/300: 100%|██████████| 17/17 [00:00<00:00, 66.86it/s]\n",
      "Epoch 177/300: 100%|██████████| 17/17 [00:00<00:00, 64.19it/s]\n",
      "Epoch 178/300: 100%|██████████| 17/17 [00:00<00:00, 66.13it/s]\n",
      "Epoch 179/300: 100%|██████████| 17/17 [00:00<00:00, 67.34it/s]\n",
      "Epoch 180/300: 100%|██████████| 17/17 [00:00<00:00, 67.51it/s]\n"
     ]
    },
    {
     "name": "stdout",
     "output_type": "stream",
     "text": [
      "Epoch 180/300\n",
      "Train Loss: 0.1768, Val Loss: 0.5173\n",
      "Learning Rate: 0.001000\n",
      "--------------------------------------------------\n"
     ]
    },
    {
     "name": "stderr",
     "output_type": "stream",
     "text": [
      "Epoch 181/300: 100%|██████████| 17/17 [00:00<00:00, 64.79it/s]\n",
      "Epoch 182/300: 100%|██████████| 17/17 [00:00<00:00, 64.39it/s]\n",
      "Epoch 183/300: 100%|██████████| 17/17 [00:00<00:00, 65.01it/s]\n",
      "Epoch 184/300: 100%|██████████| 17/17 [00:00<00:00, 64.23it/s]\n",
      "Epoch 185/300: 100%|██████████| 17/17 [00:00<00:00, 65.22it/s]\n"
     ]
    },
    {
     "name": "stdout",
     "output_type": "stream",
     "text": [
      "Epoch 185/300\n",
      "Train Loss: 0.1747, Val Loss: 0.4993\n",
      "Learning Rate: 0.001000\n",
      "--------------------------------------------------\n"
     ]
    },
    {
     "name": "stderr",
     "output_type": "stream",
     "text": [
      "Epoch 186/300: 100%|██████████| 17/17 [00:00<00:00, 65.28it/s]\n",
      "Epoch 187/300: 100%|██████████| 17/17 [00:00<00:00, 65.92it/s]\n",
      "Epoch 188/300: 100%|██████████| 17/17 [00:00<00:00, 65.23it/s]\n",
      "Epoch 189/300: 100%|██████████| 17/17 [00:00<00:00, 65.69it/s]\n",
      "Epoch 190/300: 100%|██████████| 17/17 [00:00<00:00, 64.59it/s]\n"
     ]
    },
    {
     "name": "stdout",
     "output_type": "stream",
     "text": [
      "Epoch 190/300\n",
      "Train Loss: 0.1829, Val Loss: 0.4537\n",
      "Learning Rate: 0.001000\n",
      "--------------------------------------------------\n"
     ]
    },
    {
     "name": "stderr",
     "output_type": "stream",
     "text": [
      "Epoch 191/300: 100%|██████████| 17/17 [00:00<00:00, 63.85it/s]\n",
      "Epoch 192/300: 100%|██████████| 17/17 [00:00<00:00, 65.85it/s]\n",
      "Epoch 193/300: 100%|██████████| 17/17 [00:00<00:00, 65.83it/s]\n",
      "Epoch 194/300: 100%|██████████| 17/17 [00:00<00:00, 65.65it/s]\n",
      "Epoch 195/300: 100%|██████████| 17/17 [00:00<00:00, 64.36it/s]\n"
     ]
    },
    {
     "name": "stdout",
     "output_type": "stream",
     "text": [
      "Epoch 195/300\n",
      "Train Loss: 0.1702, Val Loss: 0.4587\n",
      "Learning Rate: 0.001000\n",
      "--------------------------------------------------\n"
     ]
    },
    {
     "name": "stderr",
     "output_type": "stream",
     "text": [
      "Epoch 196/300: 100%|██████████| 17/17 [00:00<00:00, 65.38it/s]\n",
      "Epoch 197/300: 100%|██████████| 17/17 [00:00<00:00, 65.61it/s]\n",
      "Epoch 198/300: 100%|██████████| 17/17 [00:00<00:00, 63.13it/s]\n",
      "Epoch 199/300: 100%|██████████| 17/17 [00:00<00:00, 64.55it/s]\n",
      "Epoch 200/300: 100%|██████████| 17/17 [00:00<00:00, 65.78it/s]\n"
     ]
    },
    {
     "name": "stdout",
     "output_type": "stream",
     "text": [
      "Epoch 200/300\n",
      "Train Loss: 0.1600, Val Loss: 0.5098\n",
      "Learning Rate: 0.001000\n",
      "--------------------------------------------------\n"
     ]
    },
    {
     "name": "stderr",
     "output_type": "stream",
     "text": [
      "Epoch 201/300: 100%|██████████| 17/17 [00:00<00:00, 65.72it/s]\n",
      "Epoch 202/300: 100%|██████████| 17/17 [00:00<00:00, 65.40it/s]\n",
      "Epoch 203/300: 100%|██████████| 17/17 [00:00<00:00, 65.28it/s]\n",
      "Epoch 204/300: 100%|██████████| 17/17 [00:00<00:00, 65.90it/s]\n",
      "Epoch 205/300: 100%|██████████| 17/17 [00:00<00:00, 64.13it/s]\n"
     ]
    },
    {
     "name": "stdout",
     "output_type": "stream",
     "text": [
      "Epoch 205/300\n",
      "Train Loss: 0.1455, Val Loss: 0.4379\n",
      "Learning Rate: 0.001000\n",
      "--------------------------------------------------\n"
     ]
    },
    {
     "name": "stderr",
     "output_type": "stream",
     "text": [
      "Epoch 206/300: 100%|██████████| 17/17 [00:00<00:00, 60.44it/s]\n",
      "Epoch 207/300: 100%|██████████| 17/17 [00:00<00:00, 59.57it/s]\n",
      "Epoch 208/300: 100%|██████████| 17/17 [00:00<00:00, 62.00it/s]\n",
      "Epoch 209/300: 100%|██████████| 17/17 [00:00<00:00, 63.92it/s]\n",
      "Epoch 210/300: 100%|██████████| 17/17 [00:00<00:00, 60.89it/s]\n"
     ]
    },
    {
     "name": "stdout",
     "output_type": "stream",
     "text": [
      "Epoch 210/300\n",
      "Train Loss: 0.2830, Val Loss: 0.4826\n",
      "Learning Rate: 0.001000\n",
      "--------------------------------------------------\n"
     ]
    },
    {
     "name": "stderr",
     "output_type": "stream",
     "text": [
      "Epoch 211/300: 100%|██████████| 17/17 [00:00<00:00, 60.35it/s]\n",
      "Epoch 212/300: 100%|██████████| 17/17 [00:00<00:00, 61.69it/s]\n",
      "Epoch 213/300: 100%|██████████| 17/17 [00:00<00:00, 59.42it/s]\n",
      "Epoch 214/300: 100%|██████████| 17/17 [00:00<00:00, 63.49it/s]\n",
      "Epoch 215/300: 100%|██████████| 17/17 [00:00<00:00, 60.30it/s]\n"
     ]
    },
    {
     "name": "stdout",
     "output_type": "stream",
     "text": [
      "Epoch 215/300\n",
      "Train Loss: 0.1478, Val Loss: 0.5022\n",
      "Learning Rate: 0.001000\n",
      "--------------------------------------------------\n"
     ]
    },
    {
     "name": "stderr",
     "output_type": "stream",
     "text": [
      "Epoch 216/300: 100%|██████████| 17/17 [00:00<00:00, 59.94it/s]\n",
      "Epoch 217/300: 100%|██████████| 17/17 [00:00<00:00, 61.46it/s]\n",
      "Epoch 218/300: 100%|██████████| 17/17 [00:00<00:00, 63.04it/s]\n",
      "Epoch 219/300: 100%|██████████| 17/17 [00:00<00:00, 62.22it/s]\n",
      "Epoch 220/300: 100%|██████████| 17/17 [00:00<00:00, 61.43it/s]\n"
     ]
    },
    {
     "name": "stdout",
     "output_type": "stream",
     "text": [
      "Epoch 220/300\n",
      "Train Loss: 0.1441, Val Loss: 0.4690\n",
      "Learning Rate: 0.001000\n",
      "--------------------------------------------------\n"
     ]
    },
    {
     "name": "stderr",
     "output_type": "stream",
     "text": [
      "Epoch 221/300: 100%|██████████| 17/17 [00:00<00:00, 62.20it/s]\n",
      "Epoch 222/300: 100%|██████████| 17/17 [00:00<00:00, 62.51it/s]\n",
      "Epoch 223/300: 100%|██████████| 17/17 [00:00<00:00, 60.63it/s]\n",
      "Epoch 224/300: 100%|██████████| 17/17 [00:00<00:00, 62.28it/s]\n",
      "Epoch 225/300: 100%|██████████| 17/17 [00:00<00:00, 59.08it/s]\n"
     ]
    },
    {
     "name": "stdout",
     "output_type": "stream",
     "text": [
      "Epoch 225/300\n",
      "Train Loss: 0.1271, Val Loss: 0.4930\n",
      "Learning Rate: 0.001000\n",
      "--------------------------------------------------\n"
     ]
    },
    {
     "name": "stderr",
     "output_type": "stream",
     "text": [
      "Epoch 226/300: 100%|██████████| 17/17 [00:00<00:00, 62.32it/s]\n",
      "Epoch 227/300: 100%|██████████| 17/17 [00:00<00:00, 62.25it/s]\n",
      "Epoch 228/300: 100%|██████████| 17/17 [00:00<00:00, 62.93it/s]\n",
      "Epoch 229/300: 100%|██████████| 17/17 [00:00<00:00, 61.68it/s]\n",
      "Epoch 230/300: 100%|██████████| 17/17 [00:00<00:00, 59.42it/s]\n"
     ]
    },
    {
     "name": "stdout",
     "output_type": "stream",
     "text": [
      "Epoch 230/300\n",
      "Train Loss: 0.1316, Val Loss: 0.4725\n",
      "Learning Rate: 0.001000\n",
      "--------------------------------------------------\n"
     ]
    },
    {
     "name": "stderr",
     "output_type": "stream",
     "text": [
      "Epoch 231/300: 100%|██████████| 17/17 [00:00<00:00, 64.26it/s]\n",
      "Epoch 232/300: 100%|██████████| 17/17 [00:00<00:00, 63.56it/s]\n",
      "Epoch 233/300: 100%|██████████| 17/17 [00:00<00:00, 60.39it/s]\n",
      "Epoch 234/300: 100%|██████████| 17/17 [00:00<00:00, 60.54it/s]\n",
      "Epoch 235/300: 100%|██████████| 17/17 [00:00<00:00, 60.80it/s]\n"
     ]
    },
    {
     "name": "stdout",
     "output_type": "stream",
     "text": [
      "Epoch 235/300\n",
      "Train Loss: 0.1451, Val Loss: 0.4496\n",
      "Learning Rate: 0.001000\n",
      "--------------------------------------------------\n"
     ]
    },
    {
     "name": "stderr",
     "output_type": "stream",
     "text": [
      "Epoch 236/300: 100%|██████████| 17/17 [00:00<00:00, 63.00it/s]\n",
      "Epoch 237/300: 100%|██████████| 17/17 [00:00<00:00, 60.61it/s]\n",
      "Epoch 238/300: 100%|██████████| 17/17 [00:00<00:00, 60.32it/s]\n",
      "Epoch 239/300: 100%|██████████| 17/17 [00:00<00:00, 64.31it/s]\n",
      "Epoch 240/300: 100%|██████████| 17/17 [00:00<00:00, 65.43it/s]\n"
     ]
    },
    {
     "name": "stdout",
     "output_type": "stream",
     "text": [
      "Epoch 240/300\n",
      "Train Loss: 0.1397, Val Loss: 0.5788\n",
      "Learning Rate: 0.001000\n",
      "--------------------------------------------------\n"
     ]
    },
    {
     "name": "stderr",
     "output_type": "stream",
     "text": [
      "Epoch 241/300: 100%|██████████| 17/17 [00:00<00:00, 65.32it/s]\n",
      "Epoch 242/300: 100%|██████████| 17/17 [00:00<00:00, 64.51it/s]\n",
      "Epoch 243/300: 100%|██████████| 17/17 [00:00<00:00, 65.62it/s]\n",
      "Epoch 244/300: 100%|██████████| 17/17 [00:00<00:00, 63.74it/s]\n",
      "Epoch 245/300: 100%|██████████| 17/17 [00:00<00:00, 62.62it/s]\n"
     ]
    },
    {
     "name": "stdout",
     "output_type": "stream",
     "text": [
      "Epoch 245/300\n",
      "Train Loss: 0.1227, Val Loss: 0.4436\n",
      "Learning Rate: 0.001000\n",
      "--------------------------------------------------\n"
     ]
    },
    {
     "name": "stderr",
     "output_type": "stream",
     "text": [
      "Epoch 246/300: 100%|██████████| 17/17 [00:00<00:00, 64.85it/s]\n",
      "Epoch 247/300: 100%|██████████| 17/17 [00:00<00:00, 66.06it/s]\n",
      "Epoch 248/300: 100%|██████████| 17/17 [00:00<00:00, 65.40it/s]\n",
      "Epoch 249/300: 100%|██████████| 17/17 [00:00<00:00, 66.92it/s]\n",
      "Epoch 250/300: 100%|██████████| 17/17 [00:00<00:00, 65.26it/s]\n"
     ]
    },
    {
     "name": "stdout",
     "output_type": "stream",
     "text": [
      "Epoch 250/300\n",
      "Train Loss: 0.1123, Val Loss: 0.4770\n",
      "Learning Rate: 0.001000\n",
      "--------------------------------------------------\n"
     ]
    },
    {
     "name": "stderr",
     "output_type": "stream",
     "text": [
      "Epoch 251/300: 100%|██████████| 17/17 [00:00<00:00, 65.56it/s]\n",
      "Epoch 252/300: 100%|██████████| 17/17 [00:00<00:00, 65.99it/s]\n",
      "Epoch 253/300: 100%|██████████| 17/17 [00:00<00:00, 66.95it/s]\n",
      "Epoch 254/300: 100%|██████████| 17/17 [00:00<00:00, 62.50it/s]\n",
      "Epoch 255/300: 100%|██████████| 17/17 [00:00<00:00, 61.16it/s]\n"
     ]
    },
    {
     "name": "stdout",
     "output_type": "stream",
     "text": [
      "Epoch 255/300\n",
      "Train Loss: 0.1146, Val Loss: 0.5171\n",
      "Learning Rate: 0.001000\n",
      "--------------------------------------------------\n"
     ]
    },
    {
     "name": "stderr",
     "output_type": "stream",
     "text": [
      "Epoch 256/300: 100%|██████████| 17/17 [00:00<00:00, 63.09it/s]\n",
      "Epoch 257/300: 100%|██████████| 17/17 [00:00<00:00, 63.53it/s]\n",
      "Epoch 258/300: 100%|██████████| 17/17 [00:00<00:00, 60.99it/s]\n",
      "Epoch 259/300: 100%|██████████| 17/17 [00:00<00:00, 60.38it/s]\n",
      "Epoch 260/300: 100%|██████████| 17/17 [00:00<00:00, 63.67it/s]\n"
     ]
    },
    {
     "name": "stdout",
     "output_type": "stream",
     "text": [
      "Epoch 260/300\n",
      "Train Loss: 0.1112, Val Loss: 0.4654\n",
      "Learning Rate: 0.001000\n",
      "--------------------------------------------------\n"
     ]
    },
    {
     "name": "stderr",
     "output_type": "stream",
     "text": [
      "Epoch 261/300: 100%|██████████| 17/17 [00:00<00:00, 60.53it/s]\n",
      "Epoch 262/300: 100%|██████████| 17/17 [00:00<00:00, 61.22it/s]\n",
      "Epoch 263/300: 100%|██████████| 17/17 [00:00<00:00, 60.88it/s]\n",
      "Epoch 264/300: 100%|██████████| 17/17 [00:00<00:00, 60.18it/s]\n",
      "Epoch 265/300: 100%|██████████| 17/17 [00:00<00:00, 61.22it/s]\n"
     ]
    },
    {
     "name": "stdout",
     "output_type": "stream",
     "text": [
      "Epoch 265/300\n",
      "Train Loss: 0.0991, Val Loss: 0.4490\n",
      "Learning Rate: 0.001000\n",
      "--------------------------------------------------\n"
     ]
    },
    {
     "name": "stderr",
     "output_type": "stream",
     "text": [
      "Epoch 266/300: 100%|██████████| 17/17 [00:00<00:00, 60.84it/s]\n",
      "Epoch 267/300: 100%|██████████| 17/17 [00:00<00:00, 64.65it/s]\n",
      "Epoch 268/300: 100%|██████████| 17/17 [00:00<00:00, 59.70it/s]\n",
      "Epoch 269/300: 100%|██████████| 17/17 [00:00<00:00, 63.19it/s]\n",
      "Epoch 270/300: 100%|██████████| 17/17 [00:00<00:00, 63.34it/s]\n"
     ]
    },
    {
     "name": "stdout",
     "output_type": "stream",
     "text": [
      "Epoch 270/300\n",
      "Train Loss: 0.1186, Val Loss: 0.4396\n",
      "Learning Rate: 0.001000\n",
      "--------------------------------------------------\n"
     ]
    },
    {
     "name": "stderr",
     "output_type": "stream",
     "text": [
      "Epoch 271/300: 100%|██████████| 17/17 [00:00<00:00, 61.61it/s]\n",
      "Epoch 272/300: 100%|██████████| 17/17 [00:00<00:00, 62.58it/s]\n",
      "Epoch 273/300: 100%|██████████| 17/17 [00:00<00:00, 60.63it/s]\n",
      "Epoch 274/300: 100%|██████████| 17/17 [00:00<00:00, 60.26it/s]\n",
      "Epoch 275/300: 100%|██████████| 17/17 [00:00<00:00, 60.64it/s]\n"
     ]
    },
    {
     "name": "stdout",
     "output_type": "stream",
     "text": [
      "Epoch 275/300\n",
      "Train Loss: 0.1902, Val Loss: 0.4824\n",
      "Learning Rate: 0.001000\n",
      "--------------------------------------------------\n"
     ]
    },
    {
     "name": "stderr",
     "output_type": "stream",
     "text": [
      "Epoch 276/300: 100%|██████████| 17/17 [00:00<00:00, 59.83it/s]\n",
      "Epoch 277/300: 100%|██████████| 17/17 [00:00<00:00, 60.19it/s]\n",
      "Epoch 278/300: 100%|██████████| 17/17 [00:00<00:00, 61.16it/s]\n",
      "Epoch 279/300: 100%|██████████| 17/17 [00:00<00:00, 59.95it/s]\n",
      "Epoch 280/300: 100%|██████████| 17/17 [00:00<00:00, 61.83it/s]\n"
     ]
    },
    {
     "name": "stdout",
     "output_type": "stream",
     "text": [
      "Epoch 280/300\n",
      "Train Loss: 0.1206, Val Loss: 0.4930\n",
      "Learning Rate: 0.001000\n",
      "--------------------------------------------------\n"
     ]
    },
    {
     "name": "stderr",
     "output_type": "stream",
     "text": [
      "Epoch 281/300: 100%|██████████| 17/17 [00:00<00:00, 60.79it/s]\n",
      "Epoch 282/300: 100%|██████████| 17/17 [00:00<00:00, 61.82it/s]\n",
      "Epoch 283/300: 100%|██████████| 17/17 [00:00<00:00, 59.84it/s]\n",
      "Epoch 284/300: 100%|██████████| 17/17 [00:00<00:00, 61.88it/s]\n",
      "Epoch 285/300: 100%|██████████| 17/17 [00:00<00:00, 60.45it/s]\n"
     ]
    },
    {
     "name": "stdout",
     "output_type": "stream",
     "text": [
      "Epoch 285/300\n",
      "Train Loss: 0.1042, Val Loss: 0.4702\n",
      "Learning Rate: 0.001000\n",
      "--------------------------------------------------\n"
     ]
    },
    {
     "name": "stderr",
     "output_type": "stream",
     "text": [
      "Epoch 286/300: 100%|██████████| 17/17 [00:00<00:00, 62.00it/s]\n",
      "Epoch 287/300: 100%|██████████| 17/17 [00:00<00:00, 59.76it/s]\n",
      "Epoch 288/300: 100%|██████████| 17/17 [00:00<00:00, 60.90it/s]\n",
      "Epoch 289/300: 100%|██████████| 17/17 [00:00<00:00, 60.23it/s]\n",
      "Epoch 290/300: 100%|██████████| 17/17 [00:00<00:00, 63.20it/s]\n"
     ]
    },
    {
     "name": "stdout",
     "output_type": "stream",
     "text": [
      "Epoch 290/300\n",
      "Train Loss: 0.0992, Val Loss: 0.5493\n",
      "Learning Rate: 0.001000\n",
      "--------------------------------------------------\n"
     ]
    },
    {
     "name": "stderr",
     "output_type": "stream",
     "text": [
      "Epoch 291/300: 100%|██████████| 17/17 [00:00<00:00, 59.62it/s]\n",
      "Epoch 292/300: 100%|██████████| 17/17 [00:00<00:00, 61.09it/s]\n",
      "Epoch 293/300: 100%|██████████| 17/17 [00:00<00:00, 62.50it/s]\n",
      "Epoch 294/300: 100%|██████████| 17/17 [00:00<00:00, 61.33it/s]\n",
      "Epoch 295/300: 100%|██████████| 17/17 [00:00<00:00, 61.05it/s]\n"
     ]
    },
    {
     "name": "stdout",
     "output_type": "stream",
     "text": [
      "Epoch 295/300\n",
      "Train Loss: 0.1299, Val Loss: 0.4953\n",
      "Learning Rate: 0.001000\n",
      "--------------------------------------------------\n"
     ]
    },
    {
     "name": "stderr",
     "output_type": "stream",
     "text": [
      "Epoch 296/300: 100%|██████████| 17/17 [00:00<00:00, 59.62it/s]\n",
      "Epoch 297/300: 100%|██████████| 17/17 [00:00<00:00, 63.92it/s]\n",
      "Epoch 298/300: 100%|██████████| 17/17 [00:00<00:00, 61.27it/s]\n",
      "Epoch 299/300: 100%|██████████| 17/17 [00:00<00:00, 62.60it/s]\n",
      "Epoch 300/300: 100%|██████████| 17/17 [00:00<00:00, 60.70it/s]\n"
     ]
    },
    {
     "name": "stdout",
     "output_type": "stream",
     "text": [
      "Epoch 300/300\n",
      "Train Loss: 0.1467, Val Loss: 0.4565\n",
      "Learning Rate: 0.001000\n",
      "--------------------------------------------------\n",
      "\n",
      "Test MSE: 0.3818\n",
      "Test MAE: 0.3909\n",
      "Test R²:  0.5734\n"
     ]
    },
    {
     "data": {
      "image/png": "[encoded data removed]",
      "text/plain": [
       "<Figure size 1500x500 with 2 Axes>"
      ]
     },
     "metadata": {},
     "output_type": "display_data"
    },
    {
     "name": "stdout",
     "output_type": "stream",
     "text": [
      "\n",
      "Model saved as 'lstm_model_em_max_onehot.pth'\n"
     ]
    }
   ],
   "source": [
    "\"\"\"Main training pipeline.\"\"\"\n",
    "TARGET_PROPERTY = 'em_max'  # Change this to predict different properties\n",
    "\n",
    "# Available properties from your dataset:\n",
    "# brightness, ex_max, em_max, ext_coeff, lifetime, maturation, pka, stokes_shift, qy, agg, switch_type\n",
    "\n",
    "# Hyperparameters\n",
    "MAX_LENGTH = 256\n",
    "BATCH_SIZE = 64\n",
    "NUM_EPOCHS = 300\n",
    "LEARNING_RATE = 0.001\n",
    "\n",
    "# sample_batch = next(iter(train_loader))[0]\n",
    "# embedding_dim = sample_batch.shape[-1]\n",
    "\n",
    "\n",
    "# Instantiate the new model\n",
    "# выбор между EmbeddingLSTM и ProteinLSTM\n",
    "model = SequenceLSTM(\n",
    "    hidden_dim=256,\n",
    "    num_layers=1,\n",
    "    output_dim=1,\n",
    "    dropout=0.3,\n",
    "    bidirectional=True\n",
    ")\n",
    "\n",
    "# Train the model\n",
    "print(train_loader.dataset.tensors)\n",
    "trained_model, train_losses, val_losses = train_model(\n",
    "    model, train_loader, val_loader, NUM_EPOCHS, LEARNING_RATE\n",
    ")\n",
    "\n",
    "# Evaluate\n",
    "predictions1, true_values, mse, mae, r2 = evaluate_model(\n",
    "    trained_model, test_loader, dataset_test, TARGET_PROPERTY\n",
    ")\n",
    "\n",
    "# Plot\n",
    "plot_results(train_losses, val_losses, predictions1, true_values, TARGET_PROPERTY)\n",
    "\n",
    "# Save model \n",
    "torch.save(trained_model.state_dict(), f'lstm_model_{TARGET_PROPERTY}_onehot.pth')\n",
    "print(f\"\\nModel saved as 'lstm_model_{TARGET_PROPERTY}_onehot.pth'\")\n"
   ]
  },
  {
   "cell_type": "markdown",
   "id": "aaa5199b",
   "metadata": {},
   "source": [
    "<h3>Работа с EmbeddingLSTM</h3>"
   ]
  },
  {
   "cell_type": "code",
   "execution_count": 20,
   "id": "00e2757f",
   "metadata": {
    "scrolled": true
   },
   "outputs": [
    {
     "name": "stdout",
     "output_type": "stream",
     "text": [
      "Training on cuda\n",
      "Number of parameters: 694,593\n"
     ]
    },
    {
     "name": "stderr",
     "output_type": "stream",
     "text": [
      "Epoch 1/300: 100%|██████████| 17/17 [00:00<00:00, 41.17it/s]\n",
      "Epoch 2/300: 100%|██████████| 17/17 [00:00<00:00, 90.83it/s]\n",
      "Epoch 3/300: 100%|██████████| 17/17 [00:00<00:00, 83.51it/s]\n",
      "Epoch 4/300: 100%|██████████| 17/17 [00:00<00:00, 83.36it/s]\n",
      "Epoch 5/300: 100%|██████████| 17/17 [00:00<00:00, 84.05it/s]\n"
     ]
    },
    {
     "name": "stdout",
     "output_type": "stream",
     "text": [
      "Epoch 5/300\n",
      "Train Loss: 0.8628, Val Loss: 0.5711\n",
      "Learning Rate: 0.001000\n",
      "--------------------------------------------------\n"
     ]
    },
    {
     "name": "stderr",
     "output_type": "stream",
     "text": [
      "Epoch 6/300: 100%|██████████| 17/17 [00:00<00:00, 81.35it/s]\n",
      "Epoch 7/300: 100%|██████████| 17/17 [00:00<00:00, 84.32it/s]\n",
      "Epoch 8/300: 100%|██████████| 17/17 [00:00<00:00, 85.00it/s]\n",
      "Epoch 9/300: 100%|██████████| 17/17 [00:00<00:00, 83.66it/s]\n",
      "Epoch 10/300: 100%|██████████| 17/17 [00:00<00:00, 84.33it/s]\n"
     ]
    },
    {
     "name": "stdout",
     "output_type": "stream",
     "text": [
      "Epoch 10/300\n",
      "Train Loss: 0.7716, Val Loss: 0.5432\n",
      "Learning Rate: 0.001000\n",
      "--------------------------------------------------\n"
     ]
    },
    {
     "name": "stderr",
     "output_type": "stream",
     "text": [
      "Epoch 11/300: 100%|██████████| 17/17 [00:00<00:00, 84.90it/s]\n",
      "Epoch 12/300: 100%|██████████| 17/17 [00:00<00:00, 84.12it/s]\n",
      "Epoch 13/300: 100%|██████████| 17/17 [00:00<00:00, 85.38it/s]\n",
      "Epoch 14/300: 100%|██████████| 17/17 [00:00<00:00, 85.28it/s]\n",
      "Epoch 15/300: 100%|██████████| 17/17 [00:00<00:00, 86.98it/s]\n"
     ]
    },
    {
     "name": "stdout",
     "output_type": "stream",
     "text": [
      "Epoch 15/300\n",
      "Train Loss: 0.6960, Val Loss: 0.5436\n",
      "Learning Rate: 0.001000\n",
      "--------------------------------------------------\n"
     ]
    },
    {
     "name": "stderr",
     "output_type": "stream",
     "text": [
      "Epoch 16/300: 100%|██████████| 17/17 [00:00<00:00, 87.10it/s]\n",
      "Epoch 17/300: 100%|██████████| 17/17 [00:00<00:00, 84.96it/s]\n",
      "Epoch 18/300: 100%|██████████| 17/17 [00:00<00:00, 84.90it/s]\n",
      "Epoch 19/300: 100%|██████████| 17/17 [00:00<00:00, 84.99it/s]\n",
      "Epoch 20/300: 100%|██████████| 17/17 [00:00<00:00, 85.79it/s]\n"
     ]
    },
    {
     "name": "stdout",
     "output_type": "stream",
     "text": [
      "Epoch 20/300\n",
      "Train Loss: 0.7680, Val Loss: 0.5494\n",
      "Learning Rate: 0.001000\n",
      "--------------------------------------------------\n"
     ]
    },
    {
     "name": "stderr",
     "output_type": "stream",
     "text": [
      "Epoch 21/300: 100%|██████████| 17/17 [00:00<00:00, 84.83it/s]\n",
      "Epoch 22/300: 100%|██████████| 17/17 [00:00<00:00, 85.40it/s]\n",
      "Epoch 23/300: 100%|██████████| 17/17 [00:00<00:00, 85.31it/s]\n",
      "Epoch 24/300: 100%|██████████| 17/17 [00:00<00:00, 87.94it/s]\n",
      "Epoch 25/300: 100%|██████████| 17/17 [00:00<00:00, 84.85it/s]\n"
     ]
    },
    {
     "name": "stdout",
     "output_type": "stream",
     "text": [
      "Epoch 25/300\n",
      "Train Loss: 0.7076, Val Loss: 0.5543\n",
      "Learning Rate: 0.001000\n",
      "--------------------------------------------------\n"
     ]
    },
    {
     "name": "stderr",
     "output_type": "stream",
     "text": [
      "Epoch 26/300: 100%|██████████| 17/17 [00:00<00:00, 84.47it/s]\n",
      "Epoch 27/300: 100%|██████████| 17/17 [00:00<00:00, 84.36it/s]\n",
      "Epoch 28/300: 100%|██████████| 17/17 [00:00<00:00, 84.34it/s]\n",
      "Epoch 29/300: 100%|██████████| 17/17 [00:00<00:00, 81.66it/s]\n",
      "Epoch 30/300: 100%|██████████| 17/17 [00:00<00:00, 87.16it/s]\n"
     ]
    },
    {
     "name": "stdout",
     "output_type": "stream",
     "text": [
      "Epoch 30/300\n",
      "Train Loss: 0.6941, Val Loss: 0.5468\n",
      "Learning Rate: 0.001000\n",
      "--------------------------------------------------\n"
     ]
    },
    {
     "name": "stderr",
     "output_type": "stream",
     "text": [
      "Epoch 31/300: 100%|██████████| 17/17 [00:00<00:00, 82.73it/s]\n",
      "Epoch 32/300:  12%|█▏        | 2/17 [00:00<00:00, 51.28it/s]\n"
     ]
    },
    {
     "ename": "KeyboardInterrupt",
     "evalue": "",
     "output_type": "error",
     "traceback": [
      "\u001b[1;31m---------------------------------------------------------------------------\u001b[0m",
      "\u001b[1;31mKeyboardInterrupt\u001b[0m                         Traceback (most recent call last)",
      "Cell \u001b[1;32mIn[20], line 25\u001b[0m\n\u001b[0;32m     17\u001b[0m model \u001b[38;5;241m=\u001b[39m EmbeddingLSTM(\n\u001b[0;32m     18\u001b[0m     embed_dim\u001b[38;5;241m=\u001b[39membedding_dim,\n\u001b[0;32m     19\u001b[0m     hidden_size\u001b[38;5;241m=\u001b[39m\u001b[38;5;241m128\u001b[39m,\n\u001b[0;32m     20\u001b[0m     num_layers\u001b[38;5;241m=\u001b[39m\u001b[38;5;241m2\u001b[39m,\n\u001b[0;32m     21\u001b[0m     dropout_rate\u001b[38;5;241m=\u001b[39m\u001b[38;5;241m0.1\u001b[39m\n\u001b[0;32m     22\u001b[0m )\u001b[38;5;241m.\u001b[39mto(device)\n\u001b[0;32m     24\u001b[0m \u001b[38;5;66;03m# Train the model\u001b[39;00m\n\u001b[1;32m---> 25\u001b[0m trained_model, train_losses, val_losses \u001b[38;5;241m=\u001b[39m \u001b[43mtrain_model\u001b[49m\u001b[43m(\u001b[49m\n\u001b[0;32m     26\u001b[0m \u001b[43m    \u001b[49m\u001b[43mmodel\u001b[49m\u001b[43m,\u001b[49m\u001b[43m \u001b[49m\u001b[43mtrain_loader\u001b[49m\u001b[43m,\u001b[49m\u001b[43m \u001b[49m\u001b[43mval_loader\u001b[49m\u001b[43m,\u001b[49m\u001b[43m \u001b[49m\u001b[43mNUM_EPOCHS\u001b[49m\u001b[43m,\u001b[49m\u001b[43m \u001b[49m\u001b[43mLEARNING_RATE\u001b[49m\n\u001b[0;32m     27\u001b[0m \u001b[43m)\u001b[49m\n\u001b[0;32m     29\u001b[0m \u001b[38;5;66;03m# Evaluate\u001b[39;00m\n\u001b[0;32m     30\u001b[0m predictions1, true_values, mse, mae, r2 \u001b[38;5;241m=\u001b[39m evaluate_model(\n\u001b[0;32m     31\u001b[0m     trained_model, test_loader, dataset_test, TARGET_PROPERTY\n\u001b[0;32m     32\u001b[0m )\n",
      "Cell \u001b[1;32mIn[11], line 35\u001b[0m, in \u001b[0;36mtrain_model\u001b[1;34m(model, train_loader, val_loader, num_epochs, learning_rate)\u001b[0m\n\u001b[0;32m     32\u001b[0m     torch\u001b[38;5;241m.\u001b[39mnn\u001b[38;5;241m.\u001b[39mutils\u001b[38;5;241m.\u001b[39mclip_grad_norm_(model\u001b[38;5;241m.\u001b[39mparameters(), max_norm\u001b[38;5;241m=\u001b[39m\u001b[38;5;241m1.0\u001b[39m)\n\u001b[0;32m     34\u001b[0m     optimizer\u001b[38;5;241m.\u001b[39mstep()\n\u001b[1;32m---> 35\u001b[0m     train_loss \u001b[38;5;241m+\u001b[39m\u001b[38;5;241m=\u001b[39m \u001b[43mloss\u001b[49m\u001b[38;5;241;43m.\u001b[39;49m\u001b[43mitem\u001b[49m\u001b[43m(\u001b[49m\u001b[43m)\u001b[49m\n\u001b[0;32m     37\u001b[0m \u001b[38;5;66;03m# Validation phase\u001b[39;00m\n\u001b[0;32m     38\u001b[0m model\u001b[38;5;241m.\u001b[39meval()\n",
      "\u001b[1;31mKeyboardInterrupt\u001b[0m: "
     ]
    }
   ],
   "source": [
    "\"\"\"Main training pipeline.\"\"\"\n",
    "TARGET_PROPERTY = 'em_max'  # Change this to predict different properties\n",
    "\n",
    "# Available properties from your dataset:\n",
    "# brightness, ex_max, em_max, ext_coeff, lifetime, maturation, pka, stokes_shift, qy, agg, switch_type\n",
    "\n",
    "# Hyperparameters\n",
    "MAX_LENGTH = 238\n",
    "NUM_EPOCHS = 300\n",
    "LEARNING_RATE = 0.001\n",
    "\n",
    "sample_batch = next(iter(train_loader))[0]\n",
    "embedding_dim = sample_batch.shape[-1]\n",
    "\n",
    "# Instantiate the new model\n",
    "# выбор между EmbeddingLSTM и ProteinLSTM\n",
    "model = EmbeddingLSTM(\n",
    "    embed_dim=embedding_dim,\n",
    "    hidden_size=128,\n",
    "    num_layers=2,\n",
    "    dropout_rate=0.1\n",
    ").to(device)\n",
    "\n",
    "# Train the model\n",
    "trained_model, train_losses, val_losses = train_model(\n",
    "    model, train_loader, val_loader, NUM_EPOCHS, LEARNING_RATE\n",
    ")\n",
    "\n",
    "# Evaluate\n",
    "predictions1, true_values, mse, mae, r2 = evaluate_model(\n",
    "    trained_model, test_loader, dataset_test, TARGET_PROPERTY\n",
    ")\n",
    "\n",
    "# Plot\n",
    "plot_results(train_losses, val_losses, predictions1, true_values, TARGET_PROPERTY)\n",
    "\n",
    "# Save model\n",
    "torch.save(trained_model.state_dict(), f'weights/lstm_model_{TARGET_PROPERTY}_embeddings.pth')\n",
    "print(f\"\\nModel saved as 'lstm_model_{TARGET_PROPERTY}_embeddings.pth'\")\n"
   ]
  },
  {
   "cell_type": "markdown",
   "id": "13fd3a20",
   "metadata": {},
   "source": [
    "### Работа с EmbeddingCNN"
   ]
  },
  {
   "cell_type": "code",
   "execution_count": null,
   "id": "d9f8376c",
   "metadata": {},
   "outputs": [
    {
     "name": "stdout",
     "output_type": "stream",
     "text": [
      "Training on cuda\n",
      "Number of parameters: 818,529\n"
     ]
    },
    {
     "name": "stderr",
     "output_type": "stream",
     "text": [
      "Epoch 1/200: 100%|██████████| 17/17 [00:01<00:00,  9.82it/s]\n",
      "Epoch 2/200: 100%|██████████| 17/17 [00:00<00:00, 19.30it/s]\n",
      "Epoch 3/200: 100%|██████████| 17/17 [00:00<00:00, 18.58it/s]\n",
      "Epoch 4/200: 100%|██████████| 17/17 [00:00<00:00, 19.45it/s]\n",
      "Epoch 5/200: 100%|██████████| 17/17 [00:00<00:00, 19.57it/s]\n"
     ]
    },
    {
     "name": "stdout",
     "output_type": "stream",
     "text": [
      "Epoch 5/200\n",
      "Train Loss: 0.3467, Val Loss: 0.3784\n",
      "Learning Rate: 0.000100\n",
      "--------------------------------------------------\n"
     ]
    },
    {
     "name": "stderr",
     "output_type": "stream",
     "text": [
      "Epoch 6/200: 100%|██████████| 17/17 [00:00<00:00, 19.57it/s]\n",
      "Epoch 7/200: 100%|██████████| 17/17 [00:00<00:00, 18.83it/s]\n",
      "Epoch 8/200: 100%|██████████| 17/17 [00:00<00:00, 19.53it/s]\n",
      "Epoch 9/200: 100%|██████████| 17/17 [00:00<00:00, 19.21it/s]\n",
      "Epoch 10/200: 100%|██████████| 17/17 [00:01<00:00, 14.84it/s]\n"
     ]
    },
    {
     "name": "stdout",
     "output_type": "stream",
     "text": [
      "Epoch 10/200\n",
      "Train Loss: 0.4081, Val Loss: 0.2627\n",
      "Learning Rate: 0.000100\n",
      "--------------------------------------------------\n"
     ]
    },
    {
     "name": "stderr",
     "output_type": "stream",
     "text": [
      "Epoch 11/200: 100%|██████████| 17/17 [00:00<00:00, 17.09it/s]\n",
      "Epoch 12/200: 100%|██████████| 17/17 [00:01<00:00, 15.92it/s]\n",
      "Epoch 13/200: 100%|██████████| 17/17 [00:01<00:00, 16.96it/s]\n",
      "Epoch 14/200: 100%|██████████| 17/17 [00:01<00:00, 14.91it/s]\n",
      "Epoch 15/200: 100%|██████████| 17/17 [00:01<00:00, 14.18it/s]\n"
     ]
    },
    {
     "name": "stdout",
     "output_type": "stream",
     "text": [
      "Epoch 15/200\n",
      "Train Loss: 0.2521, Val Loss: 0.5339\n",
      "Learning Rate: 0.000100\n",
      "--------------------------------------------------\n"
     ]
    },
    {
     "name": "stderr",
     "output_type": "stream",
     "text": [
      "Epoch 16/200: 100%|██████████| 17/17 [00:01<00:00, 14.33it/s]\n",
      "Epoch 17/200: 100%|██████████| 17/17 [00:01<00:00, 14.67it/s]\n",
      "Epoch 18/200: 100%|██████████| 17/17 [00:01<00:00, 14.85it/s]\n",
      "Epoch 19/200: 100%|██████████| 17/17 [00:00<00:00, 18.71it/s]\n",
      "Epoch 20/200: 100%|██████████| 17/17 [00:00<00:00, 19.71it/s]\n"
     ]
    },
    {
     "name": "stdout",
     "output_type": "stream",
     "text": [
      "Epoch 20/200\n",
      "Train Loss: 0.2404, Val Loss: 0.2352\n",
      "Learning Rate: 0.000100\n",
      "--------------------------------------------------\n"
     ]
    },
    {
     "name": "stderr",
     "output_type": "stream",
     "text": [
      "Epoch 21/200: 100%|██████████| 17/17 [00:00<00:00, 19.48it/s]\n",
      "Epoch 22/200: 100%|██████████| 17/17 [00:00<00:00, 19.26it/s]\n",
      "Epoch 23/200: 100%|██████████| 17/17 [00:00<00:00, 19.04it/s]\n",
      "Epoch 24/200: 100%|██████████| 17/17 [00:00<00:00, 19.06it/s]\n",
      "Epoch 25/200: 100%|██████████| 17/17 [00:00<00:00, 19.22it/s]\n"
     ]
    },
    {
     "name": "stdout",
     "output_type": "stream",
     "text": [
      "Epoch 25/200\n",
      "Train Loss: 0.1867, Val Loss: 0.2713\n",
      "Learning Rate: 0.000100\n",
      "--------------------------------------------------\n"
     ]
    },
    {
     "name": "stderr",
     "output_type": "stream",
     "text": [
      "Epoch 26/200: 100%|██████████| 17/17 [00:00<00:00, 19.26it/s]\n",
      "Epoch 27/200: 100%|██████████| 17/17 [00:00<00:00, 19.89it/s]\n",
      "Epoch 28/200: 100%|██████████| 17/17 [00:00<00:00, 19.66it/s]\n",
      "Epoch 29/200: 100%|██████████| 17/17 [00:00<00:00, 19.55it/s]\n",
      "Epoch 30/200: 100%|██████████| 17/17 [00:00<00:00, 21.50it/s]\n"
     ]
    },
    {
     "name": "stdout",
     "output_type": "stream",
     "text": [
      "Epoch 30/200\n",
      "Train Loss: 0.1771, Val Loss: 0.2532\n",
      "Learning Rate: 0.000100\n",
      "--------------------------------------------------\n"
     ]
    },
    {
     "name": "stderr",
     "output_type": "stream",
     "text": [
      "Epoch 31/200: 100%|██████████| 17/17 [00:00<00:00, 21.40it/s]\n",
      "Epoch 32/200: 100%|██████████| 17/17 [00:00<00:00, 21.41it/s]\n",
      "Epoch 33/200: 100%|██████████| 17/17 [00:00<00:00, 21.01it/s]\n",
      "Epoch 34/200: 100%|██████████| 17/17 [00:00<00:00, 21.60it/s]\n",
      "Epoch 35/200: 100%|██████████| 17/17 [00:00<00:00, 21.45it/s]\n"
     ]
    },
    {
     "name": "stdout",
     "output_type": "stream",
     "text": [
      "Epoch 35/200\n",
      "Train Loss: 0.2237, Val Loss: 0.5059\n",
      "Learning Rate: 0.000100\n",
      "--------------------------------------------------\n"
     ]
    },
    {
     "name": "stderr",
     "output_type": "stream",
     "text": [
      "Epoch 36/200: 100%|██████████| 17/17 [00:00<00:00, 21.48it/s]\n",
      "Epoch 37/200: 100%|██████████| 17/17 [00:00<00:00, 20.42it/s]\n",
      "Epoch 38/200: 100%|██████████| 17/17 [00:00<00:00, 20.68it/s]\n",
      "Epoch 39/200: 100%|██████████| 17/17 [00:00<00:00, 20.92it/s]\n",
      "Epoch 40/200: 100%|██████████| 17/17 [00:00<00:00, 21.57it/s]\n"
     ]
    },
    {
     "name": "stdout",
     "output_type": "stream",
     "text": [
      "Epoch 40/200\n",
      "Train Loss: 0.1608, Val Loss: 0.3561\n",
      "Learning Rate: 0.000100\n",
      "--------------------------------------------------\n"
     ]
    },
    {
     "name": "stderr",
     "output_type": "stream",
     "text": [
      "Epoch 41/200: 100%|██████████| 17/17 [00:00<00:00, 21.26it/s]\n",
      "Epoch 42/200: 100%|██████████| 17/17 [00:00<00:00, 21.50it/s]\n",
      "Epoch 43/200: 100%|██████████| 17/17 [00:00<00:00, 21.04it/s]\n",
      "Epoch 44/200: 100%|██████████| 17/17 [00:00<00:00, 20.02it/s]\n",
      "Epoch 45/200: 100%|██████████| 17/17 [00:00<00:00, 19.73it/s]\n"
     ]
    },
    {
     "name": "stdout",
     "output_type": "stream",
     "text": [
      "Epoch 45/200\n",
      "Train Loss: 0.1239, Val Loss: 0.3135\n",
      "Learning Rate: 0.000100\n",
      "--------------------------------------------------\n"
     ]
    },
    {
     "name": "stderr",
     "output_type": "stream",
     "text": [
      "Epoch 46/200: 100%|██████████| 17/17 [00:00<00:00, 19.49it/s]\n",
      "Epoch 47/200: 100%|██████████| 17/17 [00:00<00:00, 19.78it/s]\n",
      "Epoch 48/200: 100%|██████████| 17/17 [00:00<00:00, 20.38it/s]\n",
      "Epoch 49/200: 100%|██████████| 17/17 [00:00<00:00, 20.03it/s]\n",
      "Epoch 50/200: 100%|██████████| 17/17 [00:00<00:00, 20.18it/s]\n"
     ]
    },
    {
     "name": "stdout",
     "output_type": "stream",
     "text": [
      "Epoch 50/200\n",
      "Train Loss: 0.1748, Val Loss: 0.3614\n",
      "Learning Rate: 0.000100\n",
      "--------------------------------------------------\n"
     ]
    },
    {
     "name": "stderr",
     "output_type": "stream",
     "text": [
      "Epoch 51/200: 100%|██████████| 17/17 [00:00<00:00, 20.26it/s]\n",
      "Epoch 52/200: 100%|██████████| 17/17 [00:00<00:00, 20.03it/s]\n",
      "Epoch 53/200: 100%|██████████| 17/17 [00:00<00:00, 19.81it/s]\n",
      "Epoch 54/200: 100%|██████████| 17/17 [00:00<00:00, 20.04it/s]\n",
      "Epoch 55/200: 100%|██████████| 17/17 [00:00<00:00, 20.09it/s]\n"
     ]
    },
    {
     "name": "stdout",
     "output_type": "stream",
     "text": [
      "Epoch 55/200\n",
      "Train Loss: 0.2261, Val Loss: 0.4703\n",
      "Learning Rate: 0.000100\n",
      "--------------------------------------------------\n"
     ]
    },
    {
     "name": "stderr",
     "output_type": "stream",
     "text": [
      "Epoch 56/200: 100%|██████████| 17/17 [00:00<00:00, 20.04it/s]\n",
      "Epoch 57/200: 100%|██████████| 17/17 [00:00<00:00, 21.35it/s]\n",
      "Epoch 58/200: 100%|██████████| 17/17 [00:00<00:00, 22.37it/s]\n",
      "Epoch 59/200: 100%|██████████| 17/17 [00:00<00:00, 21.25it/s]\n",
      "Epoch 60/200: 100%|██████████| 17/17 [00:00<00:00, 21.40it/s]\n"
     ]
    },
    {
     "name": "stdout",
     "output_type": "stream",
     "text": [
      "Epoch 60/200\n",
      "Train Loss: 0.0970, Val Loss: 0.4425\n",
      "Learning Rate: 0.000100\n",
      "--------------------------------------------------\n"
     ]
    },
    {
     "name": "stderr",
     "output_type": "stream",
     "text": [
      "Epoch 61/200: 100%|██████████| 17/17 [00:00<00:00, 21.50it/s]\n",
      "Epoch 62/200: 100%|██████████| 17/17 [00:00<00:00, 22.29it/s]\n",
      "Epoch 63/200: 100%|██████████| 17/17 [00:00<00:00, 21.45it/s]\n",
      "Epoch 64/200: 100%|██████████| 17/17 [00:00<00:00, 21.96it/s]\n",
      "Epoch 65/200: 100%|██████████| 17/17 [00:00<00:00, 21.48it/s]\n"
     ]
    },
    {
     "name": "stdout",
     "output_type": "stream",
     "text": [
      "Epoch 65/200\n",
      "Train Loss: 0.1035, Val Loss: 0.3391\n",
      "Learning Rate: 0.000100\n",
      "--------------------------------------------------\n"
     ]
    },
    {
     "name": "stderr",
     "output_type": "stream",
     "text": [
      "Epoch 66/200: 100%|██████████| 17/17 [00:00<00:00, 22.07it/s]\n",
      "Epoch 67/200: 100%|██████████| 17/17 [00:00<00:00, 21.76it/s]\n",
      "Epoch 68/200: 100%|██████████| 17/17 [00:00<00:00, 22.42it/s]\n",
      "Epoch 69/200: 100%|██████████| 17/17 [00:00<00:00, 21.94it/s]\n",
      "Epoch 70/200: 100%|██████████| 17/17 [00:00<00:00, 21.68it/s]\n"
     ]
    },
    {
     "name": "stdout",
     "output_type": "stream",
     "text": [
      "Epoch 70/200\n",
      "Train Loss: 0.1222, Val Loss: 0.2746\n",
      "Learning Rate: 0.000100\n",
      "--------------------------------------------------\n"
     ]
    },
    {
     "name": "stderr",
     "output_type": "stream",
     "text": [
      "Epoch 71/200: 100%|██████████| 17/17 [00:00<00:00, 19.98it/s]\n",
      "Epoch 72/200: 100%|██████████| 17/17 [00:00<00:00, 20.80it/s]\n",
      "Epoch 73/200: 100%|██████████| 17/17 [00:00<00:00, 17.65it/s]\n",
      "Epoch 74/200: 100%|██████████| 17/17 [00:00<00:00, 17.46it/s]\n",
      "Epoch 75/200: 100%|██████████| 17/17 [00:00<00:00, 17.79it/s]\n"
     ]
    },
    {
     "name": "stdout",
     "output_type": "stream",
     "text": [
      "Epoch 75/200\n",
      "Train Loss: 0.0726, Val Loss: 0.2450\n",
      "Learning Rate: 0.000100\n",
      "--------------------------------------------------\n"
     ]
    },
    {
     "name": "stderr",
     "output_type": "stream",
     "text": [
      "Epoch 76/200: 100%|██████████| 17/17 [00:00<00:00, 18.38it/s]\n",
      "Epoch 77/200: 100%|██████████| 17/17 [00:01<00:00, 16.92it/s]\n",
      "Epoch 78/200: 100%|██████████| 17/17 [00:01<00:00, 14.40it/s]\n",
      "Epoch 79/200: 100%|██████████| 17/17 [00:01<00:00, 14.41it/s]\n",
      "Epoch 80/200: 100%|██████████| 17/17 [00:01<00:00, 16.77it/s]\n"
     ]
    },
    {
     "name": "stdout",
     "output_type": "stream",
     "text": [
      "Epoch 80/200\n",
      "Train Loss: 0.0777, Val Loss: 0.2781\n",
      "Learning Rate: 0.000100\n",
      "--------------------------------------------------\n"
     ]
    },
    {
     "name": "stderr",
     "output_type": "stream",
     "text": [
      "Epoch 81/200: 100%|██████████| 17/17 [00:00<00:00, 17.03it/s]\n",
      "Epoch 82/200: 100%|██████████| 17/17 [00:01<00:00, 16.83it/s]\n",
      "Epoch 83/200: 100%|██████████| 17/17 [00:01<00:00, 16.77it/s]\n",
      "Epoch 84/200: 100%|██████████| 17/17 [00:01<00:00, 16.57it/s]\n",
      "Epoch 85/200: 100%|██████████| 17/17 [00:00<00:00, 18.02it/s]\n"
     ]
    },
    {
     "name": "stdout",
     "output_type": "stream",
     "text": [
      "Epoch 85/200\n",
      "Train Loss: 0.0979, Val Loss: 0.4626\n",
      "Learning Rate: 0.000100\n",
      "--------------------------------------------------\n"
     ]
    },
    {
     "name": "stderr",
     "output_type": "stream",
     "text": [
      "Epoch 86/200: 100%|██████████| 17/17 [00:01<00:00, 16.72it/s]\n",
      "Epoch 87/200: 100%|██████████| 17/17 [00:00<00:00, 17.28it/s]\n",
      "Epoch 88/200: 100%|██████████| 17/17 [00:01<00:00, 16.86it/s]\n",
      "Epoch 89/200: 100%|██████████| 17/17 [00:00<00:00, 17.21it/s]\n",
      "Epoch 90/200: 100%|██████████| 17/17 [00:01<00:00, 16.92it/s]\n"
     ]
    },
    {
     "name": "stdout",
     "output_type": "stream",
     "text": [
      "Epoch 90/200\n",
      "Train Loss: 0.0701, Val Loss: 0.2344\n",
      "Learning Rate: 0.000100\n",
      "--------------------------------------------------\n"
     ]
    },
    {
     "name": "stderr",
     "output_type": "stream",
     "text": [
      "Epoch 91/200: 100%|██████████| 17/17 [00:00<00:00, 17.24it/s]\n",
      "Epoch 92/200: 100%|██████████| 17/17 [00:00<00:00, 17.14it/s]\n",
      "Epoch 93/200: 100%|██████████| 17/17 [00:01<00:00, 14.93it/s]\n",
      "Epoch 94/200: 100%|██████████| 17/17 [00:01<00:00, 16.95it/s]\n",
      "Epoch 95/200: 100%|██████████| 17/17 [00:00<00:00, 17.26it/s]\n"
     ]
    },
    {
     "name": "stdout",
     "output_type": "stream",
     "text": [
      "Epoch 95/200\n",
      "Train Loss: 0.1870, Val Loss: 0.2983\n",
      "Learning Rate: 0.000100\n",
      "--------------------------------------------------\n"
     ]
    },
    {
     "name": "stderr",
     "output_type": "stream",
     "text": [
      "Epoch 96/200: 100%|██████████| 17/17 [00:00<00:00, 17.05it/s]\n",
      "Epoch 97/200: 100%|██████████| 17/17 [00:00<00:00, 18.14it/s]\n",
      "Epoch 98/200: 100%|██████████| 17/17 [00:00<00:00, 18.48it/s]\n",
      "Epoch 99/200: 100%|██████████| 17/17 [00:00<00:00, 18.28it/s]\n",
      "Epoch 100/200: 100%|██████████| 17/17 [00:00<00:00, 17.58it/s]\n"
     ]
    },
    {
     "name": "stdout",
     "output_type": "stream",
     "text": [
      "Epoch 100/200\n",
      "Train Loss: 0.0825, Val Loss: 0.2435\n",
      "Learning Rate: 0.000100\n",
      "--------------------------------------------------\n"
     ]
    },
    {
     "name": "stderr",
     "output_type": "stream",
     "text": [
      "Epoch 101/200: 100%|██████████| 17/17 [00:00<00:00, 17.90it/s]\n",
      "Epoch 102/200: 100%|██████████| 17/17 [00:00<00:00, 17.84it/s]\n",
      "Epoch 103/200: 100%|██████████| 17/17 [00:00<00:00, 17.88it/s]\n",
      "Epoch 104/200: 100%|██████████| 17/17 [00:00<00:00, 17.97it/s]\n",
      "Epoch 105/200: 100%|██████████| 17/17 [00:00<00:00, 17.91it/s]\n"
     ]
    },
    {
     "name": "stdout",
     "output_type": "stream",
     "text": [
      "Epoch 105/200\n",
      "Train Loss: 0.0909, Val Loss: 0.4314\n",
      "Learning Rate: 0.000100\n",
      "--------------------------------------------------\n"
     ]
    },
    {
     "name": "stderr",
     "output_type": "stream",
     "text": [
      "Epoch 106/200: 100%|██████████| 17/17 [00:00<00:00, 17.68it/s]\n",
      "Epoch 107/200: 100%|██████████| 17/17 [00:00<00:00, 17.38it/s]\n",
      "Epoch 108/200: 100%|██████████| 17/17 [00:00<00:00, 17.15it/s]\n",
      "Epoch 109/200: 100%|██████████| 17/17 [00:00<00:00, 18.10it/s]\n",
      "Epoch 110/200: 100%|██████████| 17/17 [00:01<00:00, 16.71it/s]\n"
     ]
    },
    {
     "name": "stdout",
     "output_type": "stream",
     "text": [
      "Epoch 110/200\n",
      "Train Loss: 0.0903, Val Loss: 0.4678\n",
      "Learning Rate: 0.000100\n",
      "--------------------------------------------------\n"
     ]
    },
    {
     "name": "stderr",
     "output_type": "stream",
     "text": [
      "Epoch 111/200: 100%|██████████| 17/17 [00:00<00:00, 17.39it/s]\n",
      "Epoch 112/200: 100%|██████████| 17/17 [00:00<00:00, 17.04it/s]\n",
      "Epoch 113/200: 100%|██████████| 17/17 [00:00<00:00, 17.63it/s]\n",
      "Epoch 114/200: 100%|██████████| 17/17 [00:01<00:00, 16.94it/s]\n",
      "Epoch 115/200: 100%|██████████| 17/17 [00:00<00:00, 17.10it/s]\n"
     ]
    },
    {
     "name": "stdout",
     "output_type": "stream",
     "text": [
      "Epoch 115/200\n",
      "Train Loss: 0.1303, Val Loss: 0.5660\n",
      "Learning Rate: 0.000100\n",
      "--------------------------------------------------\n"
     ]
    },
    {
     "name": "stderr",
     "output_type": "stream",
     "text": [
      "Epoch 116/200: 100%|██████████| 17/17 [00:01<00:00, 16.37it/s]\n",
      "Epoch 117/200: 100%|██████████| 17/17 [00:00<00:00, 18.00it/s]\n",
      "Epoch 118/200: 100%|██████████| 17/17 [00:00<00:00, 17.07it/s]\n",
      "Epoch 119/200: 100%|██████████| 17/17 [00:01<00:00, 16.51it/s]\n",
      "Epoch 120/200: 100%|██████████| 17/17 [00:01<00:00, 16.96it/s]\n"
     ]
    },
    {
     "name": "stdout",
     "output_type": "stream",
     "text": [
      "Epoch 120/200\n",
      "Train Loss: 0.0650, Val Loss: 0.2565\n",
      "Learning Rate: 0.000100\n",
      "--------------------------------------------------\n"
     ]
    },
    {
     "name": "stderr",
     "output_type": "stream",
     "text": [
      "Epoch 121/200: 100%|██████████| 17/17 [00:01<00:00, 16.58it/s]\n",
      "Epoch 122/200: 100%|██████████| 17/17 [00:01<00:00, 16.69it/s]\n",
      "Epoch 123/200: 100%|██████████| 17/17 [00:00<00:00, 17.32it/s]\n",
      "Epoch 124/200: 100%|██████████| 17/17 [00:00<00:00, 18.20it/s]\n",
      "Epoch 125/200: 100%|██████████| 17/17 [00:00<00:00, 19.16it/s]\n"
     ]
    },
    {
     "name": "stdout",
     "output_type": "stream",
     "text": [
      "Epoch 125/200\n",
      "Train Loss: 0.0494, Val Loss: 0.3103\n",
      "Learning Rate: 0.000100\n",
      "--------------------------------------------------\n"
     ]
    },
    {
     "name": "stderr",
     "output_type": "stream",
     "text": [
      "Epoch 126/200: 100%|██████████| 17/17 [00:00<00:00, 17.56it/s]\n",
      "Epoch 127/200: 100%|██████████| 17/17 [00:00<00:00, 18.80it/s]\n",
      "Epoch 128/200: 100%|██████████| 17/17 [00:00<00:00, 19.20it/s]\n",
      "Epoch 129/200: 100%|██████████| 17/17 [00:00<00:00, 19.49it/s]\n",
      "Epoch 130/200: 100%|██████████| 17/17 [00:00<00:00, 19.26it/s]\n"
     ]
    },
    {
     "name": "stdout",
     "output_type": "stream",
     "text": [
      "Epoch 130/200\n",
      "Train Loss: 0.0561, Val Loss: 0.2460\n",
      "Learning Rate: 0.000100\n",
      "--------------------------------------------------\n"
     ]
    },
    {
     "name": "stderr",
     "output_type": "stream",
     "text": [
      "Epoch 131/200: 100%|██████████| 17/17 [00:00<00:00, 19.04it/s]\n",
      "Epoch 132/200: 100%|██████████| 17/17 [00:00<00:00, 17.81it/s]\n",
      "Epoch 133/200: 100%|██████████| 17/17 [00:00<00:00, 18.13it/s]\n",
      "Epoch 134/200: 100%|██████████| 17/17 [00:00<00:00, 18.85it/s]\n",
      "Epoch 135/200: 100%|██████████| 17/17 [00:00<00:00, 18.90it/s]\n"
     ]
    },
    {
     "name": "stdout",
     "output_type": "stream",
     "text": [
      "Epoch 135/200\n",
      "Train Loss: 0.0729, Val Loss: 0.3651\n",
      "Learning Rate: 0.000100\n",
      "--------------------------------------------------\n"
     ]
    },
    {
     "name": "stderr",
     "output_type": "stream",
     "text": [
      "Epoch 136/200: 100%|██████████| 17/17 [00:00<00:00, 20.85it/s]\n",
      "Epoch 137/200: 100%|██████████| 17/17 [00:00<00:00, 20.11it/s]\n",
      "Epoch 138/200: 100%|██████████| 17/17 [00:00<00:00, 21.57it/s]\n",
      "Epoch 139/200: 100%|██████████| 17/17 [00:00<00:00, 21.22it/s]\n",
      "Epoch 140/200: 100%|██████████| 17/17 [00:00<00:00, 20.87it/s]\n"
     ]
    },
    {
     "name": "stdout",
     "output_type": "stream",
     "text": [
      "Epoch 140/200\n",
      "Train Loss: 0.0552, Val Loss: 0.4113\n",
      "Learning Rate: 0.000100\n",
      "--------------------------------------------------\n"
     ]
    },
    {
     "name": "stderr",
     "output_type": "stream",
     "text": [
      "Epoch 141/200: 100%|██████████| 17/17 [00:00<00:00, 19.25it/s]\n",
      "Epoch 142/200: 100%|██████████| 17/17 [00:00<00:00, 18.55it/s]\n",
      "Epoch 143/200: 100%|██████████| 17/17 [00:00<00:00, 19.84it/s]\n",
      "Epoch 144/200: 100%|██████████| 17/17 [00:00<00:00, 19.94it/s]\n",
      "Epoch 145/200: 100%|██████████| 17/17 [00:00<00:00, 20.08it/s]\n"
     ]
    },
    {
     "name": "stdout",
     "output_type": "stream",
     "text": [
      "Epoch 145/200\n",
      "Train Loss: 0.0640, Val Loss: 0.5945\n",
      "Learning Rate: 0.000100\n",
      "--------------------------------------------------\n"
     ]
    },
    {
     "name": "stderr",
     "output_type": "stream",
     "text": [
      "Epoch 146/200: 100%|██████████| 17/17 [00:00<00:00, 20.22it/s]\n",
      "Epoch 147/200: 100%|██████████| 17/17 [00:00<00:00, 18.65it/s]\n",
      "Epoch 148/200: 100%|██████████| 17/17 [00:00<00:00, 19.99it/s]\n",
      "Epoch 149/200: 100%|██████████| 17/17 [00:00<00:00, 19.61it/s]\n",
      "Epoch 150/200: 100%|██████████| 17/17 [00:00<00:00, 19.97it/s]\n"
     ]
    },
    {
     "name": "stdout",
     "output_type": "stream",
     "text": [
      "Epoch 150/200\n",
      "Train Loss: 0.0754, Val Loss: 0.2436\n",
      "Learning Rate: 0.000100\n",
      "--------------------------------------------------\n"
     ]
    },
    {
     "name": "stderr",
     "output_type": "stream",
     "text": [
      "Epoch 151/200: 100%|██████████| 17/17 [00:00<00:00, 20.29it/s]\n",
      "Epoch 152/200: 100%|██████████| 17/17 [00:00<00:00, 19.83it/s]\n",
      "Epoch 153/200: 100%|██████████| 17/17 [00:00<00:00, 20.16it/s]\n",
      "Epoch 154/200: 100%|██████████| 17/17 [00:00<00:00, 19.92it/s]\n",
      "Epoch 155/200: 100%|██████████| 17/17 [00:00<00:00, 19.94it/s]\n"
     ]
    },
    {
     "name": "stdout",
     "output_type": "stream",
     "text": [
      "Epoch 155/200\n",
      "Train Loss: 0.0499, Val Loss: 0.3859\n",
      "Learning Rate: 0.000100\n",
      "--------------------------------------------------\n"
     ]
    },
    {
     "name": "stderr",
     "output_type": "stream",
     "text": [
      "Epoch 156/200: 100%|██████████| 17/17 [00:00<00:00, 20.40it/s]\n",
      "Epoch 157/200: 100%|██████████| 17/17 [00:00<00:00, 19.94it/s]\n",
      "Epoch 158/200: 100%|██████████| 17/17 [00:00<00:00, 17.73it/s]\n",
      "Epoch 159/200: 100%|██████████| 17/17 [00:00<00:00, 18.50it/s]\n",
      "Epoch 160/200: 100%|██████████| 17/17 [00:00<00:00, 18.38it/s]\n"
     ]
    },
    {
     "name": "stdout",
     "output_type": "stream",
     "text": [
      "Epoch 160/200\n",
      "Train Loss: 0.0478, Val Loss: 0.2165\n",
      "Learning Rate: 0.000100\n",
      "--------------------------------------------------\n"
     ]
    },
    {
     "name": "stderr",
     "output_type": "stream",
     "text": [
      "Epoch 161/200: 100%|██████████| 17/17 [00:00<00:00, 20.62it/s]\n",
      "Epoch 162/200: 100%|██████████| 17/17 [00:00<00:00, 19.99it/s]\n",
      "Epoch 163/200: 100%|██████████| 17/17 [00:00<00:00, 20.22it/s]\n",
      "Epoch 164/200: 100%|██████████| 17/17 [00:00<00:00, 19.50it/s]\n",
      "Epoch 165/200: 100%|██████████| 17/17 [00:00<00:00, 20.02it/s]\n"
     ]
    },
    {
     "name": "stdout",
     "output_type": "stream",
     "text": [
      "Epoch 165/200\n",
      "Train Loss: 0.0485, Val Loss: 0.2769\n",
      "Learning Rate: 0.000100\n",
      "--------------------------------------------------\n"
     ]
    },
    {
     "name": "stderr",
     "output_type": "stream",
     "text": [
      "Epoch 166/200: 100%|██████████| 17/17 [00:00<00:00, 18.73it/s]\n",
      "Epoch 167/200: 100%|██████████| 17/17 [00:00<00:00, 19.57it/s]\n",
      "Epoch 168/200: 100%|██████████| 17/17 [00:00<00:00, 20.29it/s]\n",
      "Epoch 169/200: 100%|██████████| 17/17 [00:00<00:00, 19.60it/s]\n",
      "Epoch 170/200: 100%|██████████| 17/17 [00:00<00:00, 18.95it/s]\n"
     ]
    },
    {
     "name": "stdout",
     "output_type": "stream",
     "text": [
      "Epoch 170/200\n",
      "Train Loss: 0.0665, Val Loss: 0.2452\n",
      "Learning Rate: 0.000100\n",
      "--------------------------------------------------\n"
     ]
    },
    {
     "name": "stderr",
     "output_type": "stream",
     "text": [
      "Epoch 171/200: 100%|██████████| 17/17 [00:00<00:00, 18.99it/s]\n",
      "Epoch 172/200: 100%|██████████| 17/17 [00:00<00:00, 20.57it/s]\n",
      "Epoch 173/200: 100%|██████████| 17/17 [00:00<00:00, 20.10it/s]\n",
      "Epoch 174/200: 100%|██████████| 17/17 [00:00<00:00, 18.90it/s]\n",
      "Epoch 175/200: 100%|██████████| 17/17 [00:00<00:00, 18.38it/s]\n"
     ]
    },
    {
     "name": "stdout",
     "output_type": "stream",
     "text": [
      "Epoch 175/200\n",
      "Train Loss: 0.0469, Val Loss: 0.3785\n",
      "Learning Rate: 0.000100\n",
      "--------------------------------------------------\n"
     ]
    },
    {
     "name": "stderr",
     "output_type": "stream",
     "text": [
      "Epoch 176/200: 100%|██████████| 17/17 [00:00<00:00, 19.30it/s]\n",
      "Epoch 177/200: 100%|██████████| 17/17 [00:00<00:00, 17.42it/s]\n",
      "Epoch 178/200: 100%|██████████| 17/17 [00:00<00:00, 17.19it/s]\n",
      "Epoch 179/200: 100%|██████████| 17/17 [00:00<00:00, 19.16it/s]\n",
      "Epoch 180/200: 100%|██████████| 17/17 [00:00<00:00, 20.06it/s]\n"
     ]
    },
    {
     "name": "stdout",
     "output_type": "stream",
     "text": [
      "Epoch 180/200\n",
      "Train Loss: 0.0800, Val Loss: 0.2578\n",
      "Learning Rate: 0.000100\n",
      "--------------------------------------------------\n"
     ]
    },
    {
     "name": "stderr",
     "output_type": "stream",
     "text": [
      "Epoch 181/200: 100%|██████████| 17/17 [00:00<00:00, 20.10it/s]\n",
      "Epoch 182/200: 100%|██████████| 17/17 [00:00<00:00, 20.47it/s]\n",
      "Epoch 183/200: 100%|██████████| 17/17 [00:00<00:00, 20.39it/s]\n",
      "Epoch 184/200: 100%|██████████| 17/17 [00:00<00:00, 20.03it/s]\n",
      "Epoch 185/200: 100%|██████████| 17/17 [00:00<00:00, 20.02it/s]\n"
     ]
    },
    {
     "name": "stdout",
     "output_type": "stream",
     "text": [
      "Epoch 185/200\n",
      "Train Loss: 0.0473, Val Loss: 0.3177\n",
      "Learning Rate: 0.000100\n",
      "--------------------------------------------------\n"
     ]
    },
    {
     "name": "stderr",
     "output_type": "stream",
     "text": [
      "Epoch 186/200: 100%|██████████| 17/17 [00:00<00:00, 19.07it/s]\n",
      "Epoch 187/200: 100%|██████████| 17/17 [00:00<00:00, 20.11it/s]\n",
      "Epoch 188/200: 100%|██████████| 17/17 [00:00<00:00, 18.98it/s]\n",
      "Epoch 189/200: 100%|██████████| 17/17 [00:00<00:00, 19.50it/s]\n",
      "Epoch 190/200: 100%|██████████| 17/17 [00:00<00:00, 17.52it/s]\n"
     ]
    },
    {
     "name": "stdout",
     "output_type": "stream",
     "text": [
      "Epoch 190/200\n",
      "Train Loss: 0.0455, Val Loss: 0.2446\n",
      "Learning Rate: 0.000100\n",
      "--------------------------------------------------\n"
     ]
    },
    {
     "name": "stderr",
     "output_type": "stream",
     "text": [
      "Epoch 191/200: 100%|██████████| 17/17 [00:00<00:00, 19.39it/s]\n",
      "Epoch 192/200: 100%|██████████| 17/17 [00:00<00:00, 19.95it/s]\n",
      "Epoch 193/200: 100%|██████████| 17/17 [00:00<00:00, 18.87it/s]\n",
      "Epoch 194/200: 100%|██████████| 17/17 [00:00<00:00, 19.22it/s]\n",
      "Epoch 195/200: 100%|██████████| 17/17 [00:00<00:00, 18.65it/s]\n"
     ]
    },
    {
     "name": "stdout",
     "output_type": "stream",
     "text": [
      "Epoch 195/200\n",
      "Train Loss: 0.0759, Val Loss: 0.2751\n",
      "Learning Rate: 0.000100\n",
      "--------------------------------------------------\n"
     ]
    },
    {
     "name": "stderr",
     "output_type": "stream",
     "text": [
      "Epoch 196/200: 100%|██████████| 17/17 [00:01<00:00, 17.00it/s]\n",
      "Epoch 197/200: 100%|██████████| 17/17 [00:00<00:00, 18.70it/s]\n",
      "Epoch 198/200: 100%|██████████| 17/17 [00:00<00:00, 19.83it/s]\n",
      "Epoch 199/200: 100%|██████████| 17/17 [00:00<00:00, 21.80it/s]\n",
      "Epoch 200/200: 100%|██████████| 17/17 [00:00<00:00, 21.97it/s]\n"
     ]
    },
    {
     "name": "stdout",
     "output_type": "stream",
     "text": [
      "Epoch 200/200\n",
      "Train Loss: 0.0662, Val Loss: 0.2497\n",
      "Learning Rate: 0.000100\n",
      "--------------------------------------------------\n",
      "\n",
      "Test MSE: 0.2797\n",
      "Test MAE: 0.3534\n",
      "Test R²:  0.6875\n"
     ]
    },
    {
     "data": {
      "image/png": "[encoded data removed]",
      "text/plain": [
       "<Figure size 1500x500 with 2 Axes>"
      ]
     },
     "metadata": {},
     "output_type": "display_data"
    }
   ],
   "source": [
    "TARGET_PROPERTY = 'em_max'\n",
    "\n",
    "BATCH_SIZE = 64\n",
    "NUM_EPOCHS = 200\n",
    "LEARNING_RATE = 0.0001\n",
    "\n",
    "model = EmbeddingCNN().to(device)\n",
    "\n",
    "trained_model, train_losses, val_losses = train_model(\n",
    "    model, train_loader, val_loader, NUM_EPOCHS, LEARNING_RATE\n",
    ")\n",
    "\n",
    "predictions, true_values, mse, mae, r2 = evaluate_model(\n",
    "    trained_model, test_loader, dataset_test, TARGET_PROPERTY\n",
    ")\n",
    "\n",
    "plot_results(train_losses, val_losses, predictions, true_values, TARGET_PROPERTY)\n",
    "\n",
    "torch.save(trained_model.state_dict(), f'weights/cnn_model_{TARGET_PROPERTY}_custom.pth')\n",
    "# print(f\"Модель сохранена как 'cnn_model_{TARGET_PROPERTY}_custom.pth'\")\n"
   ]
  },
  {
   "cell_type": "markdown",
   "id": "95d33beb",
   "metadata": {},
   "source": [
    "### Работа с SequenceCNN"
   ]
  },
  {
   "cell_type": "code",
   "execution_count": null,
   "id": "eef76365",
   "metadata": {},
   "outputs": [
    {
     "ename": "NameError",
     "evalue": "name 'ProteinCNN' is not defined",
     "output_type": "error",
     "traceback": [
      "\u001b[1;31m---------------------------------------------------------------------------\u001b[0m",
      "\u001b[1;31mNameError\u001b[0m                                 Traceback (most recent call last)",
      "Cell \u001b[1;32mIn[45], line 9\u001b[0m\n\u001b[0;32m      6\u001b[0m NUM_EPOCHS \u001b[38;5;241m=\u001b[39m \u001b[38;5;241m100\u001b[39m\n\u001b[0;32m      7\u001b[0m LEARNING_RATE \u001b[38;5;241m=\u001b[39m \u001b[38;5;241m0.001\u001b[39m\n\u001b[1;32m----> 9\u001b[0m model \u001b[38;5;241m=\u001b[39m \u001b[43mProteinCNN\u001b[49m(\n\u001b[0;32m     10\u001b[0m     num_amino_acids\u001b[38;5;241m=\u001b[39m\u001b[38;5;241m20\u001b[39m, \n\u001b[0;32m     11\u001b[0m     num_filters\u001b[38;5;241m=\u001b[39m\u001b[38;5;241m64\u001b[39m,\n\u001b[0;32m     12\u001b[0m     dropout_rate\u001b[38;5;241m=\u001b[39m\u001b[38;5;241m0.6\u001b[39m\n\u001b[0;32m     13\u001b[0m )\n\u001b[0;32m     15\u001b[0m \u001b[38;5;66;03m# Train the model\u001b[39;00m\n\u001b[0;32m     16\u001b[0m trained_model, train_losses, val_losses \u001b[38;5;241m=\u001b[39m train_model(\n\u001b[0;32m     17\u001b[0m     model, train_loader, val_loader, NUM_EPOCHS, LEARNING_RATE\n\u001b[0;32m     18\u001b[0m )\n",
      "\u001b[1;31mNameError\u001b[0m: name 'ProteinCNN' is not defined"
     ]
    }
   ],
   "source": [
    "\"\"\"Main training pipeline.\"\"\"\n",
    "TARGET_PROPERTY = 'em_max'  \n",
    "\n",
    "MAX_LENGTH = 256\n",
    "BATCH_SIZE = 64\n",
    "NUM_EPOCHS = 100\n",
    "LEARNING_RATE = 0.001\n",
    "\n",
    "model = SequenceCNN(\n",
    "    num_amino_acids=20, \n",
    "    num_filters=64,\n",
    "    dropout_rate=0.6\n",
    ")\n",
    "\n",
    "# Train the model\n",
    "trained_model, train_losses, val_losses = train_model(\n",
    "    model, train_loader, val_loader, NUM_EPOCHS, LEARNING_RATE\n",
    ")\n",
    "\n",
    "# Evaluate\n",
    "predictions1, true_values, mse, mae, r2 = evaluate_model(\n",
    "    trained_model, test_loader, dataset_test, TARGET_PROPERTY\n",
    ")\n",
    "\n",
    "# Plot\n",
    "plot_results(train_losses, val_losses, predictions1, true_values, TARGET_PROPERTY)\n",
    "\n",
    "# Save model\n",
    "torch.save(trained_model.state_dict(), f'weights/cnn_model_{TARGET_PROPERTY}_onehot.pth')\n",
    "print(f\"\\nModel saved as 'cnn_model_{TARGET_PROPERTY}_onehot.pth'\")"
   ]
  },
  {
   "cell_type": "code",
   "execution_count": 53,
   "id": "f01f60aa-9d66-4792-ab27-c5f020aa2bdd",
   "metadata": {},
   "outputs": [
    {
     "name": "stdout",
     "output_type": "stream",
     "text": [
      "\t RMSE: 33.98408126831055\n",
      "\t MAE: 22.705373764038086\n",
      "\t R2: 0.6874958872795105\n",
      "\t MAE (med.): 14.35479736328125\n"
     ]
    }
   ],
   "source": [
    "trained_model.eval()\n",
    "\n",
    "predictions = []\n",
    "true_values = []\n",
    "\n",
    "with torch.no_grad():\n",
    "    for sequences, targets in test_loader:\n",
    "        sequences, targets = sequences.to(device), targets.to(device)\n",
    "        batch_predictions = model(sequences).squeeze()\n",
    "\n",
    "        predictions.extend(batch_predictions.cpu().numpy())\n",
    "        true_values.extend(targets.cpu().numpy())\n",
    "\n",
    "    # Convert back to original scale\n",
    "predictions = np.array(predictions)\n",
    "true_values = np.array(true_values)\n",
    "s_predictions = dataset.rescale_targets(predictions, TARGET_PROPERTY)\n",
    "s_true_values = dataset.rescale_targets(true_values, TARGET_PROPERTY)\n",
    "\n",
    "zv = get_regression_metrics(\n",
    "    s_predictions,\n",
    "    s_true_values\n",
    ")\n",
    "print(f'\\t RMSE: {zv[\"rmse\"]}')\n",
    "print(f'\\t MAE: {zv[\"mae\"]}')\n",
    "print(f'\\t R2: {zv[\"r2\"]}')\n",
    "print(f'\\t MAE (med.): {zv[\"mae_median\"]}')\n"
   ]
  },
  {
   "cell_type": "code",
   "execution_count": 54,
   "id": "593b7870",
   "metadata": {},
   "outputs": [
    {
     "name": "stdout",
     "output_type": "stream",
     "text": [
      "\n",
      "Metrics with 95% confidence intervals:\n",
      "RMSE: 34.05 ± 6.29\n",
      "MAE: 22.84 ± 3.80\n",
      "R2: 0.67 ± 0.13\n",
      "MAE Median: 15.24 ± 2.83\n"
     ]
    }
   ],
   "source": [
    "metrics_ci = bootstrap_metric_ci(\n",
    "    s_predictions, s_true_values, get_regression_metrics, \n",
    "    n_bootstrap=1000, alpha=0.05, random_state=42\n",
    ")\n",
    "\n",
    "# Print results in a nice format\n",
    "print(\"\\nMetrics with 95% confidence intervals:\")\n",
    "print(f\"RMSE: {(metrics_ci['rmse'][1] + metrics_ci['rmse'][2]) / 2:.2f} ± {(metrics_ci['rmse'][1] + metrics_ci['rmse'][2]) / 2 -metrics_ci['rmse'][1]:.2f}\")\n",
    "print(f\"MAE: {(metrics_ci['mae'][1] + metrics_ci['mae'][2]) / 2:.2f} ± {(metrics_ci['mae'][1] + metrics_ci['mae'][2]) / 2 -metrics_ci['mae'][1]:.2f}\")\n",
    "print(f\"R2: {(metrics_ci['r2'][1] + metrics_ci['r2'][2]) / 2:.2f} ± {(metrics_ci['r2'][1] + metrics_ci['r2'][2]) / 2 -metrics_ci['r2'][1]:.2f}\")\n",
    "print(f\"MAE Median: {(metrics_ci['mae_median'][1] + metrics_ci['mae_median'][2]) / 2:.2f} ± {(metrics_ci['mae_median'][1] + metrics_ci['mae_median'][2]) / 2 -metrics_ci['mae_median'][1]:.2f}\")"
   ]
  }
 ],
 "metadata": {
  "kernelspec": {
   "display_name": "venv",
   "language": "python",
   "name": "python3"
  },
  "language_info": {
   "codemirror_mode": {
    "name": "ipython",
    "version": 3
   },
   "file_extension": ".py",
   "mimetype": "text/x-python",
   "name": "python",
   "nbconvert_exporter": "python",
   "pygments_lexer": "ipython3",
   "version": "3.10.0"
  }
 },
 "nbformat": 4,
 "nbformat_minor": 5
}

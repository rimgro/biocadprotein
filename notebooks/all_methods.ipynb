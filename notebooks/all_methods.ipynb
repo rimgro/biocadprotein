{
 "cells": [
  {
   "cell_type": "code",
   "execution_count": 1,
   "id": "25e15c20",
   "metadata": {},
   "outputs": [
    {
     "name": "stdout",
     "output_type": "stream",
     "text": [
      "Requirement already satisfied: torch in c:\\users\\user\\desktop\\biocadprotein\\venv\\lib\\site-packages (2.7.1+cu118)\n",
      "Requirement already satisfied: tqdm in c:\\users\\user\\desktop\\biocadprotein\\venv\\lib\\site-packages (4.67.1)\n",
      "Requirement already satisfied: sympy>=1.13.3 in c:\\users\\user\\desktop\\biocadprotein\\venv\\lib\\site-packages (from torch) (1.14.0)\n",
      "Requirement already satisfied: typing-extensions>=4.10.0 in c:\\users\\user\\desktop\\biocadprotein\\venv\\lib\\site-packages (from torch) (4.14.1)\n",
      "Requirement already satisfied: networkx in c:\\users\\user\\desktop\\biocadprotein\\venv\\lib\\site-packages (from torch) (3.4.2)\n",
      "Requirement already satisfied: filelock in c:\\users\\user\\desktop\\biocadprotein\\venv\\lib\\site-packages (from torch) (3.18.0)\n",
      "Requirement already satisfied: fsspec in c:\\users\\user\\desktop\\biocadprotein\\venv\\lib\\site-packages (from torch) (2025.5.1)\n",
      "Requirement already satisfied: jinja2 in c:\\users\\user\\desktop\\biocadprotein\\venv\\lib\\site-packages (from torch) (3.1.6)\n",
      "Requirement already satisfied: colorama in c:\\users\\user\\desktop\\biocadprotein\\venv\\lib\\site-packages (from tqdm) (0.4.6)\n",
      "Requirement already satisfied: mpmath<1.4,>=1.1.0 in c:\\users\\user\\desktop\\biocadprotein\\venv\\lib\\site-packages (from sympy>=1.13.3->torch) (1.3.0)\n",
      "Requirement already satisfied: MarkupSafe>=2.0 in c:\\users\\user\\desktop\\biocadprotein\\venv\\lib\\site-packages (from jinja2->torch) (3.0.2)\n"
     ]
    },
    {
     "name": "stderr",
     "output_type": "stream",
     "text": [
      "WARNING: You are using pip version 21.2.3; however, version 25.1.1 is available.\n",
      "You should consider upgrading via the 'C:\\Users\\User\\Desktop\\biocadprotein\\venv\\Scripts\\python.exe -m pip install --upgrade pip' command.\n"
     ]
    }
   ],
   "source": [
    "! pip install torch tqdm\n",
    "#! pip install --upgrade git+https://github.com/rimgro/biocadprotein.git"
   ]
  },
  {
   "cell_type": "code",
   "execution_count": 1,
   "id": "a2e0b325",
   "metadata": {},
   "outputs": [
    {
     "name": "stdout",
     "output_type": "stream",
     "text": [
      "Using device: cuda\n"
     ]
    }
   ],
   "source": [
    "import torch\n",
    "import torch.nn as nn\n",
    "import torch.nn.functional as F\n",
    "\n",
    "import numpy as np\n",
    "import pandas as pd\n",
    "import matplotlib.pyplot as plt\n",
    "\n",
    "from tqdm import tqdm\n",
    "\n",
    "import warnings\n",
    "warnings.filterwarnings('ignore')\n",
    "\n",
    "\n",
    "device = torch.device('cuda' if torch.cuda.is_available() else 'cpu')\n",
    "print(f'Using device: {device}')"
   ]
  },
  {
   "cell_type": "code",
   "execution_count": 2,
   "id": "8d5503e7",
   "metadata": {},
   "outputs": [],
   "source": [
    "torch.manual_seed(12)\n",
    "np.random.seed(12)"
   ]
  },
  {
   "cell_type": "markdown",
   "id": "bae8d796",
   "metadata": {},
   "source": [
    "<h3>Подготовка данных</h3>"
   ]
  },
  {
   "cell_type": "code",
   "execution_count": 3,
   "id": "39dac96d",
   "metadata": {},
   "outputs": [],
   "source": [
    "from fpgen.prop_prediction.dataset import FPbase\n",
    "from fpgen.prop_prediction.metrics import get_regression_metrics\n",
    "from torch.utils.data import TensorDataset, DataLoader"
   ]
  },
  {
   "cell_type": "code",
   "execution_count": 4,
   "id": "f22651da",
   "metadata": {},
   "outputs": [],
   "source": [
    "dataset = FPbase('data/fpbase.csv')\n",
    "\n",
    "# one-hot encoding setup\n",
    "amino_acids = list('ACDEFGHIKLMNPQRSTVWY')\n",
    "vocab = {aa: i for i, aa in enumerate(amino_acids)}"
   ]
  },
  {
   "cell_type": "code",
   "execution_count": 5,
   "id": "cdca0d91",
   "metadata": {},
   "outputs": [],
   "source": [
    "x_train, y_train = dataset.get_train('em_max')\n",
    "from sklearn.model_selection import train_test_split\n",
    "\n",
    "# Split training data into train and validation sets (e.g., 80% train, 20% val)\n",
    "x_train, x_val, y_train, y_val = train_test_split(\n",
    "    x_train, y_train, test_size=0.2, random_state=42\n",
    ")\n",
    "\n",
    "x_test, y_test = dataset.get_test('em_max')"
   ]
  },
  {
   "cell_type": "code",
   "execution_count": 7,
   "id": "9b60d089",
   "metadata": {},
   "outputs": [],
   "source": [
    "def encode_sequences(sequences, vocab, max_length=None):\n",
    "    \"\"\"\n",
    "    One-hot encode protein sequences\n",
    "    \n",
    "    Args:\n",
    "        sequences: List of protein sequences (strings)\n",
    "        vocab: Amino acid vocabulary dictionary (only used for consistency)\n",
    "        max_length: Maximum sequence length (will pad/truncate)\n",
    "    \n",
    "    Returns:\n",
    "        One-hot encoded sequences as torch tensor of shape (num_sequences, max_length, 20)\n",
    "    \"\"\"\n",
    "    if max_length is None:\n",
    "        max_length = max(len(seq) for seq in sequences)\n",
    "    \n",
    "    # Standard 20 amino acids\n",
    "    amino_acids = 'ACDEFGHIKLMNPQRSTVWY'\n",
    "    aa_to_idx = {aa: i for i, aa in enumerate(amino_acids)}\n",
    "    \n",
    "    encoded = []\n",
    "    for seq in sequences:\n",
    "        # Initialize one-hot matrix for this sequence\n",
    "        seq_onehot = torch.zeros(max_length, 20)\n",
    "        \n",
    "        # Convert to uppercase and encode each amino acid\n",
    "        seq_upper = seq.upper()\n",
    "        for i, aa in enumerate(seq_upper):\n",
    "            if i >= max_length:\n",
    "                break\n",
    "            if aa in aa_to_idx:\n",
    "                seq_onehot[i, aa_to_idx[aa]] = 1.0\n",
    "            # If amino acid is not in standard 20, leave as zeros (unknown)\n",
    "        \n",
    "        encoded.append(seq_onehot)\n",
    "    \n",
    "    return torch.stack(encoded)"
   ]
  },
  {
   "cell_type": "markdown",
   "id": "26593681",
   "metadata": {},
   "source": [
    "<h3>Преобразование в one-hot encoding</h3>"
   ]
  },
  {
   "cell_type": "code",
   "execution_count": 8,
   "id": "41c93e64",
   "metadata": {},
   "outputs": [
    {
     "data": {
      "text/plain": [
       "torch.Size([514, 200, 20])"
      ]
     },
     "execution_count": 8,
     "metadata": {},
     "output_type": "execute_result"
    }
   ],
   "source": [
    "x_train_encoded = encode_sequences(x_train, vocab, max_length=200)\n",
    "x_val_encoded = encode_sequences(x_val, vocab, max_length=200)\n",
    "x_test_encoded = encode_sequences(x_test, vocab, max_length=200)\n",
    "x_train_encoded.shape"
   ]
  },
  {
   "cell_type": "code",
   "execution_count": 9,
   "id": "836496e2",
   "metadata": {},
   "outputs": [],
   "source": [
    "y_train_tensor = torch.tensor(y_train, dtype=torch.float32)\n",
    "y_val_tensor = torch.tensor(y_val, dtype=torch.float32)\n",
    "y_test_tensor = torch.tensor(y_test, dtype=torch.float32)"
   ]
  },
  {
   "cell_type": "code",
   "execution_count": 10,
   "id": "4c761921",
   "metadata": {},
   "outputs": [],
   "source": [
    "dataset_train = TensorDataset(x_train_encoded, y_train_tensor)\n",
    "train_loader = DataLoader(dataset_train, batch_size=32, shuffle=True)\n",
    "    \n",
    "dataset_val = TensorDataset(x_val_encoded, y_val_tensor)\n",
    "val_loader = DataLoader(dataset_val, batch_size=32, shuffle=False)\n",
    "    \n",
    "dataset_test = TensorDataset(x_test_encoded, y_test_tensor)\n",
    "test_loader = DataLoader(dataset_test, batch_size=32, shuffle=False)"
   ]
  },
  {
   "cell_type": "markdown",
   "id": "dfd7ae77",
   "metadata": {},
   "source": [
    "# Доготовка данных для работы с embeddings ESM C"
   ]
  },
  {
   "cell_type": "code",
   "execution_count": 11,
   "id": "51290a3e",
   "metadata": {},
   "outputs": [],
   "source": [
    "import pickle\n",
    "\n",
    "with open('sequence.pickle', 'rb') as file:\n",
    "    seq = pickle.load(file)"
   ]
  },
  {
   "cell_type": "code",
   "execution_count": null,
   "id": "96e476b9",
   "metadata": {},
   "outputs": [
    {
     "data": {
      "text/plain": [
       "torch.Size([1, 236, 960])"
      ]
     },
     "execution_count": 7,
     "metadata": {},
     "output_type": "execute_result"
    }
   ],
   "source": [
    "seq[x_train.iloc[0]].shape"
   ]
  },
  {
   "cell_type": "code",
   "execution_count": 12,
   "id": "8232d169",
   "metadata": {},
   "outputs": [],
   "source": [
    "def preprocessing_x(x_tr, x_t, x_v, seq, pad_value=0.0, max_length=None):\n",
    "    \"\"\"\n",
    "    Improved preprocessing function for LSTM training with ESM embeddings\n",
    "    \n",
    "    Args:\n",
    "        x_tr, x_t, x_v: Index arrays for train, test, val\n",
    "        seq: Dictionary/list containing the embeddings\n",
    "        pad_value: Value to use for padding (default: 0.0)\n",
    "        max_length: Maximum sequence length (if None, computed from data)\n",
    "    \"\"\"\n",
    "    \n",
    "    def get_cleaned_tensors(indexes):\n",
    "        cleaned = []\n",
    "        for i in range(len(indexes)):\n",
    "            tensor = seq[indexes.iloc[i]]  # shape: [1, L, D]\n",
    "            \n",
    "            # Handle different input shapes\n",
    "            if tensor.dim() == 3 and tensor.shape[0] == 1:\n",
    "                tensor = tensor.squeeze(0)  # Now shape: [L, D]\n",
    "            elif tensor.dim() == 2:\n",
    "                pass  # Already correct shape\n",
    "            else:\n",
    "                raise ValueError(f\"Unexpected tensor shape: {tensor.shape}\")\n",
    "            \n",
    "            # Ensure tensor is float and on CPU for consistent processing\n",
    "            tensor = tensor.float()\n",
    "            \n",
    "            # Basic validation\n",
    "            if tensor.shape[0] == 0:\n",
    "                raise ValueError(\"Found empty sequence\")\n",
    "            if torch.isnan(tensor).any() or torch.isinf(tensor).any():\n",
    "                print(f\"Warning: Found NaN/Inf values in tensor, replacing with zeros\")\n",
    "                tensor = torch.nan_to_num(tensor, nan=0.0, posinf=1.0, neginf=-1.0)\n",
    "            \n",
    "            cleaned.append(tensor)\n",
    "        return cleaned\n",
    "\n",
    "    # Extract cleaned tensors\n",
    "    matrix_tr = get_cleaned_tensors(x_tr)\n",
    "    matrix_t = get_cleaned_tensors(x_t)\n",
    "    matrix_v = get_cleaned_tensors(x_v)\n",
    "\n",
    "    # Find dimensions\n",
    "    all_tensors = matrix_tr + matrix_t + matrix_v\n",
    "    \n",
    "    # Check embedding dimension consistency\n",
    "    emb_dims = [t.shape[1] for t in all_tensors]\n",
    "    emb_dim = emb_dims[0]\n",
    "    if not all(d == emb_dim for d in emb_dims):\n",
    "        raise ValueError(f\"Inconsistent embedding dimensions: {set(emb_dims)}\")\n",
    "    \n",
    "    # Find max length\n",
    "    if max_length is None:\n",
    "        max_len = max(t.shape[0] for t in all_tensors)\n",
    "    else:\n",
    "        max_len = max_length\n",
    "    \n",
    "    print(f\"Max sequence length: {max_len}\")\n",
    "    print(f\"Embedding dimension: {emb_dim}\")\n",
    "    print(f\"Padding value: {pad_value}\")\n",
    "\n",
    "    def pad_tensor_list(tensor_list, split_name):\n",
    "        padded = []\n",
    "        original_lengths = []\n",
    "        \n",
    "        for i, t in enumerate(tensor_list):\n",
    "            seq_len = t.shape[0]\n",
    "            original_lengths.append(seq_len)\n",
    "            \n",
    "            if seq_len > max_len:\n",
    "                # Truncate if longer than max_len\n",
    "                t = t[:max_len]\n",
    "                seq_len = max_len\n",
    "            \n",
    "            # Pad sequence length dimension only (embedding dim should be consistent)\n",
    "            if seq_len < max_len:\n",
    "                padding = (0, 0, 0, max_len - seq_len)  # (left, right, top, bottom)\n",
    "                padded_tensor = F.pad(t, padding, mode='constant', value=pad_value)\n",
    "            else:\n",
    "                padded_tensor = t\n",
    "            \n",
    "            padded.append(padded_tensor)\n",
    "        \n",
    "        # Stack into batch\n",
    "        result = torch.stack(padded)\n",
    "        \n",
    "        # Validation\n",
    "        expected_shape = (len(tensor_list), max_len, emb_dim)\n",
    "        if result.shape != expected_shape:\n",
    "            raise ValueError(f\"Unexpected output shape for {split_name}: {result.shape}, expected: {expected_shape}\")\n",
    "        \n",
    "        print(f\"{split_name} - Shape: {result.shape}, Lengths: min={min(original_lengths)}, max={max(original_lengths)}, mean={np.mean(original_lengths):.1f}\")\n",
    "        \n",
    "        return result, original_lengths\n",
    "\n",
    "    # Process all splits\n",
    "    train, train_lengths = pad_tensor_list(matrix_tr, \"Train\")\n",
    "    test, test_lengths = pad_tensor_list(matrix_t, \"Test\")\n",
    "    val, val_lengths = pad_tensor_list(matrix_v, \"Val\")\n",
    "    \n",
    "    # Additional validation\n",
    "    def validate_output(tensor, name):\n",
    "        if torch.isnan(tensor).any():\n",
    "            raise ValueError(f\"NaN values found in {name}\")\n",
    "        if torch.isinf(tensor).any():\n",
    "            raise ValueError(f\"Inf values found in {name}\")\n",
    "        \n",
    "        # Check if too many zeros (might indicate padding issues)\n",
    "        zero_ratio = (tensor == pad_value).float().mean()\n",
    "        if zero_ratio > 0.8:\n",
    "            print(f\"Warning: {name} has {zero_ratio:.2%} zero values (heavy padding)\")\n",
    "    \n",
    "    validate_output(train, \"train\")\n",
    "    validate_output(test, \"test\")\n",
    "    validate_output(val, \"val\")\n",
    "    \n",
    "    return train, test, val"
   ]
  },
  {
   "cell_type": "code",
   "execution_count": 13,
   "id": "449c6e13",
   "metadata": {},
   "outputs": [],
   "source": [
    "def pad_with_last_token(tensor, target_length):\n",
    "    \"\"\"Pad by repeating the last token instead of zeros\"\"\"\n",
    "    seq_len = tensor.shape[0]\n",
    "    if seq_len >= target_length:\n",
    "        return tensor[:target_length]\n",
    "    \n",
    "    last_token = tensor[-1:].repeat(target_length - seq_len, 1)\n",
    "    return torch.cat([tensor, last_token], dim=0)"
   ]
  },
  {
   "cell_type": "code",
   "execution_count": 14,
   "id": "f1cd966f",
   "metadata": {},
   "outputs": [
    {
     "name": "stdout",
     "output_type": "stream",
     "text": [
      "Max sequence length: 739\n",
      "Embedding dimension: 960\n",
      "Padding value: 0.0\n",
      "Train - Shape: torch.Size([514, 739, 960]), Lengths: min=32, max=739, mean=241.0\n",
      "Test - Shape: torch.Size([129, 739, 960]), Lengths: min=108, max=488, mean=238.6\n",
      "Val - Shape: torch.Size([167, 739, 960]), Lengths: min=108, max=487, mean=240.8\n"
     ]
    },
    {
     "data": {
      "text/plain": [
       "torch.Size([167, 739, 960])"
      ]
     },
     "execution_count": 14,
     "metadata": {},
     "output_type": "execute_result"
    }
   ],
   "source": [
    "from torch.nn.utils.rnn import pad_sequence\n",
    "\n",
    "x_train_p, x_val_p, x_test_p = preprocessing_x(x_train, x_val, x_test, seq)\n",
    "\n",
    "x_train_p.shape\n",
    "x_val_p.shape\n",
    "x_test_p.shape"
   ]
  },
  {
   "cell_type": "code",
   "execution_count": 15,
   "id": "9c6a70a5",
   "metadata": {},
   "outputs": [],
   "source": [
    "y_train_p = torch.tensor(y_train, dtype=torch.float32)  # [643, 1]\n",
    "y_test_p = torch.tensor(y_test, dtype=torch.float32)\n",
    "y_val_p = torch.tensor(y_val, dtype=torch.float32)"
   ]
  },
  {
   "cell_type": "code",
   "execution_count": 16,
   "id": "97b83eb6",
   "metadata": {},
   "outputs": [],
   "source": [
    "dataset_train = TensorDataset(x_train_p, y_train_p)\n",
    "train_loader = DataLoader(dataset_train, batch_size=32, shuffle=True)\n",
    "\n",
    "dataset_val = TensorDataset(x_val_p, y_val_p)\n",
    "val_loader = DataLoader(dataset_val, batch_size=32, shuffle=True)\n",
    "\n",
    "dataset_test = TensorDataset(x_test_p, y_test_p)\n",
    "test_loader = DataLoader(dataset_test, batch_size=32, shuffle=True)"
   ]
  },
  {
   "cell_type": "code",
   "execution_count": 17,
   "id": "1cf3757b",
   "metadata": {},
   "outputs": [
    {
     "data": {
      "text/plain": [
       "tensor([[[ 5.7537e-03, -2.2964e-03,  2.6722e-03,  ...,  5.8003e-03,\n",
       "          -6.2449e-03, -1.0297e-02],\n",
       "         [-3.5950e-04, -5.5967e-03,  3.3674e-02,  ...,  3.1661e-02,\n",
       "           1.4899e-02,  1.7556e-02],\n",
       "         [-3.5892e-02, -2.5552e-02,  4.4119e-03,  ...,  5.5391e-02,\n",
       "           2.1439e-03,  2.2918e-02],\n",
       "         ...,\n",
       "         [ 0.0000e+00,  0.0000e+00,  0.0000e+00,  ...,  0.0000e+00,\n",
       "           0.0000e+00,  0.0000e+00],\n",
       "         [ 0.0000e+00,  0.0000e+00,  0.0000e+00,  ...,  0.0000e+00,\n",
       "           0.0000e+00,  0.0000e+00],\n",
       "         [ 0.0000e+00,  0.0000e+00,  0.0000e+00,  ...,  0.0000e+00,\n",
       "           0.0000e+00,  0.0000e+00]],\n",
       "\n",
       "        [[ 1.2868e-02, -1.8333e-03,  3.3210e-03,  ...,  5.2421e-03,\n",
       "          -4.7548e-03, -9.2520e-03],\n",
       "         [ 2.5347e-03,  2.2133e-03,  1.4290e-03,  ...,  2.6560e-02,\n",
       "           1.4438e-03, -1.3619e-02],\n",
       "         [-5.9670e-02, -1.0463e-02,  2.0267e-02,  ...,  4.7756e-02,\n",
       "          -2.7080e-02,  3.9952e-02],\n",
       "         ...,\n",
       "         [ 0.0000e+00,  0.0000e+00,  0.0000e+00,  ...,  0.0000e+00,\n",
       "           0.0000e+00,  0.0000e+00],\n",
       "         [ 0.0000e+00,  0.0000e+00,  0.0000e+00,  ...,  0.0000e+00,\n",
       "           0.0000e+00,  0.0000e+00],\n",
       "         [ 0.0000e+00,  0.0000e+00,  0.0000e+00,  ...,  0.0000e+00,\n",
       "           0.0000e+00,  0.0000e+00]],\n",
       "\n",
       "        [[ 1.9136e-03,  5.3865e-03, -6.8531e-03,  ...,  3.3937e-03,\n",
       "          -2.5117e-03, -1.4343e-02],\n",
       "         [-7.8395e-03,  3.1466e-02,  3.2704e-02,  ..., -1.9645e-02,\n",
       "          -7.8316e-03,  1.9941e-02],\n",
       "         [-2.5531e-02,  1.9319e-02,  1.2367e-02,  ...,  4.5012e-02,\n",
       "          -2.0034e-02,  5.0268e-02],\n",
       "         ...,\n",
       "         [ 0.0000e+00,  0.0000e+00,  0.0000e+00,  ...,  0.0000e+00,\n",
       "           0.0000e+00,  0.0000e+00],\n",
       "         [ 0.0000e+00,  0.0000e+00,  0.0000e+00,  ...,  0.0000e+00,\n",
       "           0.0000e+00,  0.0000e+00],\n",
       "         [ 0.0000e+00,  0.0000e+00,  0.0000e+00,  ...,  0.0000e+00,\n",
       "           0.0000e+00,  0.0000e+00]],\n",
       "\n",
       "        ...,\n",
       "\n",
       "        [[ 4.5190e-03, -4.2255e-03,  1.9310e-04,  ...,  4.1102e-03,\n",
       "           3.4963e-04, -1.0008e-02],\n",
       "         [ 1.3644e-02, -4.9324e-03,  5.4916e-02,  ...,  3.6585e-02,\n",
       "           3.4807e-02,  2.1815e-02],\n",
       "         [-1.0172e-02, -1.4737e-02,  2.3466e-02,  ...,  3.3235e-02,\n",
       "           2.0307e-03,  2.0201e-03],\n",
       "         ...,\n",
       "         [ 0.0000e+00,  0.0000e+00,  0.0000e+00,  ...,  0.0000e+00,\n",
       "           0.0000e+00,  0.0000e+00],\n",
       "         [ 0.0000e+00,  0.0000e+00,  0.0000e+00,  ...,  0.0000e+00,\n",
       "           0.0000e+00,  0.0000e+00],\n",
       "         [ 0.0000e+00,  0.0000e+00,  0.0000e+00,  ...,  0.0000e+00,\n",
       "           0.0000e+00,  0.0000e+00]],\n",
       "\n",
       "        [[ 3.6815e-03,  3.7517e-05,  1.0571e-03,  ...,  1.9577e-03,\n",
       "           1.5965e-03, -9.9062e-03],\n",
       "         [ 5.3877e-03, -1.2923e-02,  3.0939e-02,  ...,  2.7459e-02,\n",
       "           7.2356e-03,  1.5172e-02],\n",
       "         [-3.2868e-02,  8.6175e-03,  3.5244e-02,  ...,  4.8286e-02,\n",
       "           8.9590e-03,  7.5304e-03],\n",
       "         ...,\n",
       "         [ 0.0000e+00,  0.0000e+00,  0.0000e+00,  ...,  0.0000e+00,\n",
       "           0.0000e+00,  0.0000e+00],\n",
       "         [ 0.0000e+00,  0.0000e+00,  0.0000e+00,  ...,  0.0000e+00,\n",
       "           0.0000e+00,  0.0000e+00],\n",
       "         [ 0.0000e+00,  0.0000e+00,  0.0000e+00,  ...,  0.0000e+00,\n",
       "           0.0000e+00,  0.0000e+00]],\n",
       "\n",
       "        [[ 4.7210e-03, -8.2263e-04,  1.8732e-03,  ...,  1.7629e-03,\n",
       "           2.4718e-03, -1.0866e-02],\n",
       "         [ 5.8121e-03, -8.0011e-03,  2.8242e-02,  ...,  2.3285e-02,\n",
       "           1.6982e-02,  1.1040e-02],\n",
       "         [-3.8405e-02,  6.6705e-03,  3.7266e-02,  ...,  5.0556e-02,\n",
       "           9.0631e-03,  1.6172e-02],\n",
       "         ...,\n",
       "         [ 0.0000e+00,  0.0000e+00,  0.0000e+00,  ...,  0.0000e+00,\n",
       "           0.0000e+00,  0.0000e+00],\n",
       "         [ 0.0000e+00,  0.0000e+00,  0.0000e+00,  ...,  0.0000e+00,\n",
       "           0.0000e+00,  0.0000e+00],\n",
       "         [ 0.0000e+00,  0.0000e+00,  0.0000e+00,  ...,  0.0000e+00,\n",
       "           0.0000e+00,  0.0000e+00]]])"
      ]
     },
     "execution_count": 17,
     "metadata": {},
     "output_type": "execute_result"
    }
   ],
   "source": [
    "x_train_p"
   ]
  },
  {
   "cell_type": "markdown",
   "id": "f7e96848",
   "metadata": {},
   "source": [
    "# Классы с моделями"
   ]
  },
  {
   "cell_type": "code",
   "execution_count": 10,
   "id": "496ab5ad",
   "metadata": {},
   "outputs": [],
   "source": [
    "class EmbeddingLSTM(nn.Module):\n",
    "    \"\"\"LSTM-based neural network for protein sequence analysis with embedding layers.\"\"\"\n",
    "    \n",
    "    def __init__(self, vocab_size=21, embed_dim=960, hidden_size=256, num_layers=3, dropout_rate=0.5):\n",
    "        \"\"\"\n",
    "        Initialize the LSTM architecture with embedding.\n",
    "        \n",
    "        Args:\n",
    "            vocab_size: Size of vocabulary (21 for 20 amino acids + padding token)\n",
    "            embed_dim: Dimension of embedding vectors\n",
    "            hidden_size: Number of hidden units in LSTM layers\n",
    "            num_layers: Number of LSTM layers\n",
    "            dropout_rate: Dropout probability for regularization\n",
    "        \"\"\"\n",
    "        super(EmbeddingLSTM, self).__init__()\n",
    "        \n",
    "        self.hidden_size = hidden_size\n",
    "        self.num_layers = num_layers\n",
    "        self.embed_dim = embed_dim\n",
    "        \n",
    "        # Input projection layer\n",
    "        self.input_projection = nn.Linear(embed_dim, hidden_size // 2)\n",
    "        \n",
    "        # Bidirectional LSTM layers\n",
    "        self.lstm = nn.LSTM(\n",
    "            input_size=hidden_size // 2,\n",
    "            hidden_size=hidden_size,\n",
    "            num_layers=num_layers,\n",
    "            batch_first=True,\n",
    "            dropout=dropout_rate if num_layers > 1 else 0,\n",
    "            bidirectional=True\n",
    "        )\n",
    "        \n",
    "        # Output layers\n",
    "        self.fc1 = nn.Linear(hidden_size * 2, 1024)\n",
    "        self.fc2 = nn.Linear(1024, 256)\n",
    "        self.fc3 = nn.Linear(256, 1)\n",
    "        \n",
    "        self.dropout = nn.Dropout(dropout_rate)\n",
    "        self.layer_norm = nn.LayerNorm(hidden_size * 2)\n",
    "        \n",
    "    def forward(self, x):\n",
    "        \"\"\"\n",
    "        Forward pass through the network.\n",
    "        \n",
    "        Args:\n",
    "            x: Input tensor of shape [batch_size, sequence_length] with amino acid indices\n",
    "            \n",
    "        Returns:\n",
    "            predictions: Tensor of shape [batch_size, 1] with predicted values\n",
    "        \"\"\"\n",
    "        batch_size, seq_length, esmc_dim = x.size()\n",
    "        \n",
    "        # Create mask for padding tokens\n",
    "        mask = (x != 0).float()  # 1 for real tokens, 0 for padding\n",
    "        mask = mask[:, :, 0].unsqueeze(-1)\n",
    "        # Apply mask to embeddings\n",
    "        x = x * mask\n",
    "        \n",
    "        # Project input to hidden dimension\n",
    "        x = F.relu(self.input_projection(x))\n",
    "        \n",
    "        # LSTM processing\n",
    "        lstm_out, (hidden, cell) = self.lstm(x)\n",
    "        \n",
    "        # Apply mask to LSTM output\n",
    "        lstm_out = lstm_out * mask\n",
    "        \n",
    "        # Apply layer normalization\n",
    "        lstm_out = self.layer_norm(lstm_out)\n",
    "        \n",
    "        # Output layers\n",
    "        x = F.relu(self.fc1(lstm_out))\n",
    "        x = self.dropout(x)\n",
    "        \n",
    "        x = F.relu(self.fc2(x))\n",
    "        x = self.dropout(x)\n",
    "        \n",
    "        x = self.fc3(x)\n",
    "\n",
    "        x = torch.mean(x, dim=1)\n",
    "        \n",
    "        return x.squeeze(-1)"
   ]
  },
  {
   "cell_type": "code",
   "execution_count": 31,
   "id": "7376e238",
   "metadata": {},
   "outputs": [],
   "source": [
    "class ProteinLSTM(nn.Module):\n",
    "    def __init__(self, input_dim=20, hidden_dim=256, num_layers=2, \n",
    "                 output_dim=1, dropout=0.3, bidirectional=True):\n",
    "        \"\"\"\n",
    "        ProteinLSTM for fluorescent protein sequence analysis using one-hot encoding\n",
    "        \n",
    "        Args:\n",
    "            input_dim: Input dimension (20 for amino acids)\n",
    "            hidden_dim: Hidden dimension of LSTM layers\n",
    "            num_layers: Number of LSTM layers\n",
    "            output_dim: Output dimension (1 for regression, num_classes for classification)\n",
    "            dropout: Dropout rate\n",
    "            bidirectional: Whether to use bidirectional LSTM\n",
    "        \"\"\"\n",
    "        super(ProteinLSTM, self).__init__()\n",
    "        \n",
    "        self.hidden_dim = hidden_dim\n",
    "        self.num_layers = num_layers\n",
    "        self.bidirectional = bidirectional\n",
    "\n",
    "        self.input_projection = nn.Linear(input_dim, hidden_dim // 2)\n",
    "        \n",
    "        # Bidirectional LSTM layers\n",
    "        self.lstm = nn.LSTM(\n",
    "            input_size=hidden_dim // 2,\n",
    "            hidden_size=hidden_dim,\n",
    "            num_layers=num_layers,\n",
    "            batch_first=True,\n",
    "            dropout=dropout if num_layers > 1 else 0,\n",
    "            bidirectional=True\n",
    "        )\n",
    "\n",
    "        \n",
    "        # Output layers\n",
    "        self.fc1 = nn.Linear(hidden_dim * 2, 128)\n",
    "        # self.fc2 = nn.Linear(128, 64)\n",
    "        self.fc3 = nn.Linear(128, 1)\n",
    "        \n",
    "        self.dropout = nn.Dropout(dropout)\n",
    "        self.layer_norm = nn.LayerNorm(hidden_dim * 2)\n",
    "        \n",
    "    def forward(self, x):\n",
    "        \"\"\"\n",
    "        Forward pass through the network.\n",
    "        \n",
    "        Args:\n",
    "            x: Input tensor of shape [batch_size, sequence_length] with amino acid indices\n",
    "            \n",
    "        Returns:\n",
    "            predictions: Tensor of shape [batch_size, 1] with predicted values\n",
    "        \"\"\"\n",
    "\n",
    "        # print(x)\n",
    "        # print(x.shape)\n",
    "\n",
    "        # mask = (x != 0).float()  # 1 for real tokens, 0 for padding\n",
    "        # mask = mask[:, :, 0]\n",
    "\n",
    "        # mask = torch.all(x, dim=-1).float().unsqueeze(-1)\n",
    "        # print(mask)\n",
    "        # print(mask.shape)\n",
    "        # Apply mask to embeddings\n",
    "        # x = x * mask\n",
    "\n",
    "        \n",
    "        # Project input to hidden dimension\n",
    "        x = F.relu(self.input_projection(x))\n",
    "        \n",
    "        # LSTM processing\n",
    "        lstm_out, (hidden, cell) = self.lstm(x)\n",
    "\n",
    "        # lstm_out = lstm_out * mask\n",
    "        \n",
    "        # Apply layer normalization\n",
    "        lstm_out = self.layer_norm(lstm_out[:,-1,:])\n",
    "        \n",
    "        # Output layers\n",
    "        x = F.relu(self.fc1(lstm_out))\n",
    "        x = self.dropout(x)\n",
    "        \n",
    "        # x = F.relu(self.fc2(x))\n",
    "        # x = self.dropout(x)\n",
    "        \n",
    "        x = self.fc3(x)\n",
    "        \n",
    "        return x"
   ]
  },
  {
   "cell_type": "code",
   "execution_count": 29,
   "id": "9c45426f",
   "metadata": {},
   "outputs": [],
   "source": [
    "class EmbeddingsCNN(nn.Module):\n",
    "    def __init__(self, input_channels=960, seq_len=739):\n",
    "        super().__init__()\n",
    "        self.conv1 = nn.Conv1d(input_channels, 16, kernel_size=5, padding=2)\n",
    "        self.pool = nn.MaxPool1d(2)\n",
    "        self.conv2 = nn.Conv1d(16, 32, kernel_size=5, padding=2)\n",
    "\n",
    "        conv_output_len = seq_len // 4 \n",
    "        self.fc1 = nn.Linear(32 * conv_output_len, 128)\n",
    "        self.fc2 = nn.Linear(128, 1)\n",
    "\n",
    "    def forward(self, x):\n",
    "        # x: [B, L, C] → [B, C, L]\n",
    "        x = x.permute(0, 2, 1)\n",
    "        x = self.pool(F.relu(self.conv1(x)))\n",
    "        x = self.pool(F.relu(self.conv2(x)))\n",
    "        x = x.view(x.size(0), -1)\n",
    "        x = F.relu(self.fc1(x))\n",
    "        return self.fc2(x)"
   ]
  },
  {
   "cell_type": "code",
   "execution_count": 43,
   "id": "5110065a",
   "metadata": {},
   "outputs": [],
   "source": [
    "class ProteinCNN(nn.Module):\n",
    "    def __init__(self, num_amino_acids=20, embedding_dim=64, num_filters=96, dropout_rate=0.4):\n",
    "        \"\"\"\n",
    "        Initialize the intermediate CNN architecture.\n",
    "        \n",
    "        Args:\n",
    "            num_amino_acids: Vocabulary size (e.g., 20).\n",
    "            embedding_dim: Size of the learned embedding vector.\n",
    "            num_filters: Number of filters. Increased slightly to 96 to give more capacity.\n",
    "            dropout_rate: A more moderate dropout rate.\n",
    "        \"\"\"\n",
    "        super(ProteinCNN, self).__init__()\n",
    "\n",
    "        self.embedding = nn.Embedding(num_embeddings=num_amino_acids, embedding_dim=embedding_dim)\n",
    "\n",
    "        self.conv1 = nn.Conv1d(embedding_dim, num_filters, kernel_size=3, padding=1)\n",
    "        self.conv2 = nn.Conv1d(embedding_dim, num_filters, kernel_size=5, padding=2)\n",
    "        self.conv3 = nn.Conv1d(embedding_dim, num_filters, kernel_size=7, padding=3)\n",
    "\n",
    "        self.batch_norm1 = nn.BatchNorm1d(num_filters)\n",
    "        self.batch_norm2 = nn.BatchNorm1d(num_filters)\n",
    "        self.batch_norm3 = nn.BatchNorm1d(num_filters)\n",
    "\n",
    "        self.conv4 = nn.Conv1d(num_filters * 3, num_filters * 2, kernel_size=3, padding=1)\n",
    "        self.batch_norm4 = nn.BatchNorm1d(num_filters * 2)\n",
    "        \n",
    "        self.global_pool = nn.AdaptiveAvgPool1d(1)\n",
    "\n",
    "        self.fc1 = nn.Linear(num_filters * 2, 256) \n",
    "        self.fc_out = nn.Linear(256, 1)\n",
    "        \n",
    "        self.dropout = nn.Dropout(dropout_rate)\n",
    "\n",
    "    def forward(self, x_one_hot):\n",
    "        \"\"\"\n",
    "        Forward pass.\n",
    "        \n",
    "        Args:\n",
    "            x_one_hot: Input tensor of one-hot vectors [batch, seq_len, num_amino_acids]\n",
    "        \"\"\"\n",
    "        x_indices = torch.argmax(x_one_hot, dim=2)\n",
    "        \n",
    "        x = self.embedding(x_indices)\n",
    "        x = x.transpose(1, 2)\n",
    "        \n",
    "        conv1_out = F.relu(self.batch_norm1(self.conv1(x)))\n",
    "        conv2_out = F.relu(self.batch_norm2(self.conv2(x)))\n",
    "        conv3_out = F.relu(self.batch_norm3(self.conv3(x)))\n",
    "        \n",
    "        x = torch.cat([conv1_out, conv2_out, conv3_out], dim=1)\n",
    "        \n",
    "        x = F.relu(self.batch_norm4(self.conv4(x)))\n",
    "        x = self.dropout(x) \n",
    "        \n",
    "        x = self.global_pool(x)\n",
    "        x = x.view(x.size(0), -1)\n",
    "        \n",
    "        x = F.relu(self.fc1(x))\n",
    "        x = self.dropout(x)\n",
    "        \n",
    "        x = self.fc_out(x)\n",
    "        \n",
    "        return x"
   ]
  },
  {
   "cell_type": "markdown",
   "id": "9779f669",
   "metadata": {},
   "source": [
    "### Обучение моделей"
   ]
  },
  {
   "cell_type": "code",
   "execution_count": 12,
   "id": "be11b903",
   "metadata": {},
   "outputs": [],
   "source": [
    "def train_model(model, train_loader, val_loader, num_epochs=100, learning_rate=0.001):\n",
    "    \"\"\"Train the LSTM model.\"\"\"\n",
    "    device = torch.device('cuda' if torch.cuda.is_available() else 'cpu')\n",
    "    model.to(device)\n",
    "    \n",
    "    criterion = nn.MSELoss()\n",
    "    optimizer = torch.optim.Adam(model.parameters(), lr=learning_rate, weight_decay=1e-5)\n",
    "    \n",
    "    train_losses = []\n",
    "    val_losses = []\n",
    "    best_val_loss = float('inf')\n",
    "    best_model_state = None\n",
    "    \n",
    "    print(f\"Training on {device}\")\n",
    "    print(f\"Number of parameters: {sum(p.numel() for p in model.parameters()):,}\")\n",
    "    \n",
    "    for epoch in range(num_epochs):\n",
    "        # Training phase\n",
    "        model.train()\n",
    "        train_loss = 0.0\n",
    "        \n",
    "        for batch_idx, data in enumerate(tqdm(train_loader, desc=f\"Epoch {epoch+1}/{num_epochs}\")):\n",
    "            sequences, targets = data[0], data[1]\n",
    "            sequences, targets = sequences.to(device), targets.to(device)\n",
    "            \n",
    "            optimizer.zero_grad()\n",
    "            predictions = model(sequences).squeeze()\n",
    "            loss = criterion(predictions, targets)\n",
    "            loss.backward()\n",
    "            \n",
    "            # Gradient clipping to prevent exploding gradients\n",
    "            torch.nn.utils.clip_grad_norm_(model.parameters(), max_norm=1.0)\n",
    "            \n",
    "            optimizer.step()\n",
    "            train_loss += loss.item()\n",
    "        \n",
    "        # Validation phase\n",
    "        model.eval()\n",
    "        val_loss = 0.0\n",
    "        \n",
    "        with torch.no_grad():\n",
    "            for data in val_loader:\n",
    "                sequences, targets = data[0], data[1]\n",
    "                sequences, targets = sequences.to(device), targets.to(device)\n",
    "                predictions = model(sequences).squeeze()\n",
    "                loss = criterion(predictions, targets)\n",
    "                val_loss += loss.item()\n",
    "        \n",
    "        # Calculate average losses\n",
    "        avg_train_loss = train_loss / len(train_loader)\n",
    "        avg_val_loss = val_loss / len(val_loader)\n",
    "        \n",
    "        train_losses.append(avg_train_loss)\n",
    "        val_losses.append(avg_val_loss)\n",
    "        \n",
    "        # Save best model\n",
    "        if avg_val_loss < best_val_loss:\n",
    "            best_val_loss = avg_val_loss\n",
    "            best_model_state = model.state_dict().copy()\n",
    "        \n",
    "        # Print progress\n",
    "        if (epoch + 1) % 5 == 0:\n",
    "            print(f\"Epoch {epoch+1}/{num_epochs}\")\n",
    "            print(f\"Train Loss: {avg_train_loss:.4f}, Val Loss: {avg_val_loss:.4f}\")\n",
    "            print(f\"Learning Rate: {optimizer.param_groups[0]['lr']:.6f}\")\n",
    "            print(\"-\" * 50)\n",
    "    \n",
    "    # Load best model\n",
    "    model.load_state_dict(best_model_state)\n",
    "    \n",
    "    return model, train_losses, val_losses"
   ]
  },
  {
   "cell_type": "code",
   "execution_count": 13,
   "id": "9d3cfb81",
   "metadata": {},
   "outputs": [],
   "source": [
    "from sklearn.metrics import mean_squared_error, mean_absolute_error, r2_score"
   ]
  },
  {
   "cell_type": "code",
   "execution_count": 14,
   "id": "bfab222a",
   "metadata": {},
   "outputs": [],
   "source": [
    "def evaluate_model(model, data_loader, dataset=None, target_property=None):\n",
    "    model.eval()\n",
    "    predictions, true_values = [], []\n",
    "\n",
    "    with torch.no_grad():\n",
    "        for data in data_loader:\n",
    "            sequences, targets = data[0], data[1]\n",
    "            sequences, targets = sequences.to(device), targets.to(device)\n",
    "\n",
    "            # Adjust input shape if needed\n",
    "            if sequences.ndim == 4:\n",
    "                sequences = sequences.permute(0, 2, 3, 1)  # B, H, W, C\n",
    "                sequences = sequences.reshape(sequences.shape[0], sequences.shape[1], -1)\n",
    "\n",
    "            outputs = model(sequences)\n",
    "            predictions.extend(outputs.squeeze().cpu().numpy())\n",
    "            true_values.extend(targets.squeeze().cpu().numpy())\n",
    "\n",
    "    predictions = np.array(predictions)\n",
    "    true_values = np.array(true_values)\n",
    "\n",
    "    # Denormalize if possible\n",
    "    if dataset is not None and hasattr(dataset, 'denormalize_target'):\n",
    "        predictions = np.array([dataset.denormalize_target(p, target_property) for p in predictions])\n",
    "        true_values = np.array([dataset.denormalize_target(t, target_property) for t in true_values])\n",
    "\n",
    "    # Calculate metrics\n",
    "    mse = mean_squared_error(true_values, predictions)\n",
    "    mae = mean_absolute_error(true_values, predictions)\n",
    "    r2 = r2_score(true_values, predictions)\n",
    "\n",
    "    print(f\"\\nTest MSE: {mse:.4f}\")\n",
    "    print(f\"Test MAE: {mae:.4f}\")\n",
    "    print(f\"Test R²:  {r2:.4f}\")\n",
    "\n",
    "    return predictions, true_values, mse, mae, r2"
   ]
  },
  {
   "cell_type": "code",
   "execution_count": 15,
   "id": "18daaf1f",
   "metadata": {},
   "outputs": [],
   "source": [
    "def plot_results(train_losses, val_losses, predictions, true_values, target_property):\n",
    "    \"\"\"Plot training results and predictions.\"\"\"\n",
    "    fig, (ax1, ax2) = plt.subplots(1, 2, figsize=(15, 5))\n",
    "    \n",
    "    # Plot training curves\n",
    "    ax1.plot(train_losses, label='Training Loss')\n",
    "    ax1.plot(val_losses, label='Validation Loss')\n",
    "    ax1.set_xlabel('Epoch')\n",
    "    ax1.set_ylabel('Loss')\n",
    "    ax1.set_title('Training and Validation Loss')\n",
    "    ax1.legend()\n",
    "    ax1.grid(True)\n",
    "    \n",
    "    # Plot predictions vs true values\n",
    "    ax2.scatter(true_values, predictions, alpha=0.7)\n",
    "    ax2.plot([min(true_values), max(true_values)], [min(true_values), max(true_values)], 'r--', lw=2)\n",
    "    ax2.set_xlabel(f'True {target_property}')\n",
    "    ax2.set_ylabel(f'Predicted {target_property}')\n",
    "    ax2.set_title(f'Predictions vs True Values\\n{target_property}')\n",
    "    ax2.grid(True)\n",
    "    \n",
    "    plt.tight_layout()\n",
    "    plt.show()"
   ]
  },
  {
   "cell_type": "code",
   "execution_count": 16,
   "id": "b1d288cb-6d42-4041-97a9-baea4958c09b",
   "metadata": {},
   "outputs": [],
   "source": [
    "from fpgen.prop_prediction.metrics import get_regression_metrics, get_classification_metrics, bootstrap_metric_ci"
   ]
  },
  {
   "cell_type": "markdown",
   "id": "98e19c47",
   "metadata": {},
   "source": [
    "<h3>Работа с ProteinLSTM</h3>"
   ]
  },
  {
   "cell_type": "code",
   "execution_count": 34,
   "id": "edfe09d6",
   "metadata": {},
   "outputs": [
    {
     "name": "stdout",
     "output_type": "stream",
     "text": [
      "(tensor([[[0., 0., 0.,  ..., 0., 0., 0.],\n",
      "         [1., 0., 0.,  ..., 0., 0., 0.],\n",
      "         [0., 0., 0.,  ..., 0., 0., 0.],\n",
      "         ...,\n",
      "         [0., 0., 0.,  ..., 0., 0., 0.],\n",
      "         [0., 0., 1.,  ..., 0., 0., 0.],\n",
      "         [0., 0., 0.,  ..., 0., 1., 0.]],\n",
      "\n",
      "        [[0., 0., 0.,  ..., 0., 0., 0.],\n",
      "         [0., 0., 0.,  ..., 0., 0., 0.],\n",
      "         [0., 0., 0.,  ..., 0., 0., 0.],\n",
      "         ...,\n",
      "         [0., 0., 0.,  ..., 0., 0., 0.],\n",
      "         [0., 0., 0.,  ..., 0., 0., 0.],\n",
      "         [0., 0., 1.,  ..., 0., 0., 0.]],\n",
      "\n",
      "        [[0., 0., 0.,  ..., 0., 0., 0.],\n",
      "         [1., 0., 0.,  ..., 0., 0., 0.],\n",
      "         [0., 0., 0.,  ..., 0., 0., 0.],\n",
      "         ...,\n",
      "         [0., 0., 0.,  ..., 0., 0., 1.],\n",
      "         [0., 0., 0.,  ..., 0., 0., 0.],\n",
      "         [1., 0., 0.,  ..., 0., 0., 0.]],\n",
      "\n",
      "        ...,\n",
      "\n",
      "        [[0., 0., 0.,  ..., 0., 0., 0.],\n",
      "         [0., 0., 0.,  ..., 1., 0., 0.],\n",
      "         [0., 0., 0.,  ..., 0., 0., 0.],\n",
      "         ...,\n",
      "         [0., 0., 0.,  ..., 0., 0., 1.],\n",
      "         [0., 0., 0.,  ..., 0., 0., 0.],\n",
      "         [0., 0., 0.,  ..., 1., 0., 0.]],\n",
      "\n",
      "        [[0., 0., 0.,  ..., 0., 0., 0.],\n",
      "         [0., 0., 0.,  ..., 1., 0., 0.],\n",
      "         [0., 0., 0.,  ..., 0., 0., 0.],\n",
      "         ...,\n",
      "         [0., 0., 0.,  ..., 0., 0., 0.],\n",
      "         [0., 0., 0.,  ..., 0., 0., 0.],\n",
      "         [0., 0., 0.,  ..., 0., 0., 0.]],\n",
      "\n",
      "        [[0., 0., 0.,  ..., 0., 0., 0.],\n",
      "         [0., 0., 0.,  ..., 1., 0., 0.],\n",
      "         [0., 0., 0.,  ..., 0., 0., 0.],\n",
      "         ...,\n",
      "         [0., 0., 0.,  ..., 0., 0., 0.],\n",
      "         [0., 0., 0.,  ..., 0., 0., 0.],\n",
      "         [0., 0., 0.,  ..., 0., 0., 0.]]]), tensor([ 0.5102, -0.6570,  2.7513, -0.1901, -0.3924, -0.8905,  0.8215, -0.4858,\n",
      "        -0.7193, -1.0772, -0.2524,  1.9732, -0.2991,  0.7748, -0.5636, -0.6415,\n",
      "         1.0549, -0.5792,  0.2768, -0.5948, -0.5325, -0.5792, -0.4703,  2.0510,\n",
      "         0.9927,  1.0705,  0.7748, -0.6415, -0.5792,  0.2768,  1.1483,  1.3662,\n",
      "        -0.5325, -0.4236, -0.4703, -0.2212,  0.5102, -0.5014, -1.5286, -0.7660,\n",
      "        -0.5481, -0.2212, -0.1901, -1.4819,  0.8682, -0.4547, -0.4858, -0.3613,\n",
      "        -0.2368, -0.5325, -0.2212,  0.8215, -0.5014, -0.5636, -0.2057,  0.8526,\n",
      "        -0.6726, -0.6259, -0.7193, -0.2679, -0.9060,  2.1288, -0.5325, -0.4391,\n",
      "        -0.4391, -0.3924, -0.4236, -0.4703, -0.5948, -0.5481,  1.1327,  1.5841,\n",
      "        -0.5014, -0.5169, -0.6726, -0.4547, -0.6259, -0.3146,  1.3506, -0.5636,\n",
      "        -0.5325, -0.5169, -0.6259,  0.6814, -0.5014, -0.2057,  0.7592,  1.2261,\n",
      "        -0.5792, -0.5792,  0.1523, -0.6259, -0.5169, -0.7504, -0.7504,  0.5725,\n",
      "        -0.5325, -0.5325,  0.7592, -0.5014, -0.1279, -0.8749, -0.6415, -0.6103,\n",
      "         1.2572, -0.5948, -1.3574, -0.2524, -0.9216,  0.8059, -0.4858, -0.5325,\n",
      "        -0.6103, -0.2991, -0.9216,  2.5646, -0.4858,  0.9615, -0.0345,  1.1950,\n",
      "        -0.5636,  1.3195, -0.2679, -0.6103, -0.3613, -0.8282,  1.4284, -0.5948,\n",
      "        -0.2057, -0.2991, -0.4236, -0.7504,  2.1288,  0.9149,  1.6308, -0.6103,\n",
      "         0.6036, -0.2212,  0.7281, -0.5169,  1.2884, -0.5481, -1.0772, -0.5325,\n",
      "        -0.4080, -0.5014, -0.5169, -0.3146, -0.8126,  1.6619, -0.5636, -0.7971,\n",
      "        -0.5169, -1.5130, -0.5481, -0.4547, -0.6415, -0.6415, -0.4391,  1.3506,\n",
      "         0.7904, -1.3885, -0.5948,  2.4867,  7.1090,  1.0394, -0.5014,  0.5725,\n",
      "        -0.4703, -1.0772, -0.5325,  1.0705, -1.2951,  0.7125, -0.3769, -0.5169,\n",
      "        -0.5792, -0.5014,  0.7125, -0.3302, -1.4196, -0.4703, -0.4391, -1.0772,\n",
      "         0.6192, -0.6103,  0.5413,  0.5569,  0.2768,  0.5413, -0.2679,  1.9732,\n",
      "        -0.4080,  2.1443, -0.4547, -0.5948, -1.0772, -0.8593, -0.5948, -0.0812,\n",
      "         1.9732, -0.6259, -0.6259, -0.8749, -0.5169, -0.5792,  0.6503,  0.8837,\n",
      "        -0.5636, -0.6881, -0.4858, -0.2524,  0.3390, -0.6881,  1.2728, -1.3729,\n",
      "        -1.0305,  0.3079,  1.4596,  1.4440,  1.9732,  0.4480,  0.9771, -0.2524,\n",
      "        -0.2524,  1.0549, -1.5130,  1.5841, -0.5169, -0.2991,  0.7437, -0.5948,\n",
      "        -1.8554, -0.6259,  0.7592, -0.6415,  1.5996,  0.3390,  1.1327, -0.6259,\n",
      "        -0.6415,  1.3973,  1.6619,  0.7904, -0.2057, -0.8438, -0.4391, -0.5792,\n",
      "        -0.4391, -0.6415, -0.2679, -0.5325, -1.0928, -0.4858,  2.4867, -0.8905,\n",
      "         2.7513,  0.6347, -0.6726, -0.5948, -0.3613,  0.4635, -0.6103, -0.8905,\n",
      "         0.8059,  2.7513,  0.4168, -0.5792,  1.0705, -0.5792,  2.6424,  1.9732,\n",
      "        -0.5014,  0.5880,  1.3662, -1.4819, -1.4507,  2.4712, -0.5169, -0.5169,\n",
      "        -0.5792, -0.5481, -1.3574,  2.6424, -0.5169, -0.4547, -1.3885,  1.6308,\n",
      "        -0.3769, -0.5948,  1.2261, -0.8593,  1.1950, -0.9216, -0.2835, -0.5792,\n",
      "         1.3506,  0.9615, -1.1706, -0.2524, -0.4547, -0.4858, -0.2368,  2.5334,\n",
      "        -0.4080, -0.5014, -1.0928, -0.5948, -0.4391, -0.6881, -0.5325, -0.9372,\n",
      "         1.7553, -0.5014, -1.0772,  2.7513, -0.5325,  0.2923, -0.5481, -0.4080,\n",
      "        -0.9683,  0.7592,  2.1910, -0.4703, -0.5014, -0.5948,  1.6619,  0.6347,\n",
      "         2.4712,  2.1599,  0.6036,  1.3973, -0.5481, -0.5792, -1.0305,  0.5880,\n",
      "        -2.5090, -0.4391, -0.4236, -0.5169,  1.0238, -0.2991, -0.4236,  1.1639,\n",
      "        -0.2991, -0.6259,  1.3973, -0.6103, -1.3418, -1.3262, -0.6415, -0.2212,\n",
      "        -0.2524, -0.5481,  1.9109, -0.4391,  0.6192,  0.8526, -0.4547,  0.6503,\n",
      "        -0.7971, -1.4819, -0.4236, -1.2795, -0.5169, -0.4236, -0.5792, -0.9527,\n",
      "        -0.5792, -0.3924, -0.3146, -0.4858, -1.3418, -1.4352, -0.6726, -0.5792,\n",
      "         1.0394,  0.8526,  1.5996, -0.9372, -0.0345,  1.3506, -0.5014,  1.8642,\n",
      "        -0.7193, -0.6259, -0.5481, -0.4236,  1.9887, -0.2835, -0.9838,  1.0549,\n",
      "        -0.5325, -1.0617, -0.3613, -0.3302, -0.5481, -0.4547, -0.0812,  1.0394,\n",
      "        -0.5169,  0.6503, -0.5169,  0.9149, -0.9838, -0.6103, -0.9060,  0.2768,\n",
      "         1.0394, -0.7971, -0.7504, -0.3146,  1.9732, -0.7504, -1.3262,  1.2728,\n",
      "         0.8059, -0.2835, -0.9060, -0.5014, -1.4819, -0.4080, -0.3302,  0.7592,\n",
      "        -0.0812, -0.4391,  0.5569, -1.1083, -0.5014, -0.6726, -0.2524, -0.4236,\n",
      "        -0.5014, -0.6415, -0.5792,  1.3195, -0.2835,  0.6970, -1.0305, -0.6103,\n",
      "        -0.5481,  1.1016, -0.5169, -0.3924, -0.2057,  1.7397, -0.4858,  0.8059,\n",
      "        -0.5014,  1.7708,  1.9732, -0.5169, -1.3262, -0.4080,  2.1599, -0.6259,\n",
      "         1.3506,  0.6503, -0.5169,  0.6659,  0.6970,  1.8486, -0.7971, -0.7348,\n",
      "         1.0549, -0.3769, -0.4858,  0.7748, -1.0305, -0.2368, -0.5948,  0.8526,\n",
      "         1.6775,  1.3973, -0.2368, -0.5948,  0.8526,  1.4596, -0.5325,  0.2612,\n",
      "        -0.6103, -0.6881, -0.5169,  0.2923,  0.7904, -0.7504, -0.6103,  0.6659,\n",
      "         0.6814, -0.2991, -0.4236,  0.7592,  0.9771, -0.5169,  0.6814,  1.3506,\n",
      "        -0.8282, -0.4236, -0.5169, -1.3885, -0.3458, -1.0772, -0.5481,  1.3973,\n",
      "        -0.5014, -0.5792, -0.5481, -0.3302, -0.3302, -0.2991,  0.7437,  1.1950,\n",
      "         0.7592,  0.8837]))\n",
      "Training on cuda\n",
      "Number of parameters: 233,537\n"
     ]
    },
    {
     "name": "stderr",
     "output_type": "stream",
     "text": [
      "Epoch 1/500: 100%|██████████| 17/17 [00:00<00:00, 54.07it/s]\n",
      "Epoch 2/500: 100%|██████████| 17/17 [00:00<00:00, 185.49it/s]\n",
      "Epoch 3/500: 100%|██████████| 17/17 [00:00<00:00, 145.72it/s]\n",
      "Epoch 4/500: 100%|██████████| 17/17 [00:00<00:00, 140.47it/s]\n",
      "Epoch 5/500: 100%|██████████| 17/17 [00:00<00:00, 157.07it/s]\n"
     ]
    },
    {
     "name": "stdout",
     "output_type": "stream",
     "text": [
      "Epoch 5/500\n",
      "Train Loss: 0.6374, Val Loss: 0.7335\n",
      "Learning Rate: 0.001000\n",
      "--------------------------------------------------\n"
     ]
    },
    {
     "name": "stderr",
     "output_type": "stream",
     "text": [
      "Epoch 6/500: 100%|██████████| 17/17 [00:00<00:00, 157.74it/s]\n",
      "Epoch 7/500: 100%|██████████| 17/17 [00:00<00:00, 157.10it/s]\n",
      "Epoch 8/500: 100%|██████████| 17/17 [00:00<00:00, 153.36it/s]\n",
      "Epoch 9/500: 100%|██████████| 17/17 [00:00<00:00, 148.66it/s]\n",
      "Epoch 10/500: 100%|██████████| 17/17 [00:00<00:00, 154.29it/s]\n"
     ]
    },
    {
     "name": "stdout",
     "output_type": "stream",
     "text": [
      "Epoch 10/500\n",
      "Train Loss: 0.5304, Val Loss: 0.6060\n",
      "Learning Rate: 0.001000\n",
      "--------------------------------------------------\n"
     ]
    },
    {
     "name": "stderr",
     "output_type": "stream",
     "text": [
      "Epoch 11/500: 100%|██████████| 17/17 [00:00<00:00, 147.12it/s]\n",
      "Epoch 12/500: 100%|██████████| 17/17 [00:00<00:00, 149.32it/s]\n",
      "Epoch 13/500: 100%|██████████| 17/17 [00:00<00:00, 149.92it/s]\n",
      "Epoch 14/500: 100%|██████████| 17/17 [00:00<00:00, 135.73it/s]\n",
      "Epoch 15/500: 100%|██████████| 17/17 [00:00<00:00, 164.51it/s]\n"
     ]
    },
    {
     "name": "stdout",
     "output_type": "stream",
     "text": [
      "Epoch 15/500\n",
      "Train Loss: 0.4164, Val Loss: 0.5230\n",
      "Learning Rate: 0.001000\n",
      "--------------------------------------------------\n"
     ]
    },
    {
     "name": "stderr",
     "output_type": "stream",
     "text": [
      "Epoch 16/500: 100%|██████████| 17/17 [00:00<00:00, 167.67it/s]\n",
      "Epoch 17/500: 100%|██████████| 17/17 [00:00<00:00, 164.98it/s]\n",
      "Epoch 18/500: 100%|██████████| 17/17 [00:00<00:00, 186.38it/s]\n",
      "Epoch 19/500: 100%|██████████| 17/17 [00:00<00:00, 175.72it/s]\n",
      "Epoch 20/500: 100%|██████████| 17/17 [00:00<00:00, 171.86it/s]\n"
     ]
    },
    {
     "name": "stdout",
     "output_type": "stream",
     "text": [
      "Epoch 20/500\n",
      "Train Loss: 0.4025, Val Loss: 0.5066\n",
      "Learning Rate: 0.001000\n",
      "--------------------------------------------------\n"
     ]
    },
    {
     "name": "stderr",
     "output_type": "stream",
     "text": [
      "Epoch 21/500: 100%|██████████| 17/17 [00:00<00:00, 171.54it/s]\n",
      "Epoch 22/500: 100%|██████████| 17/17 [00:00<00:00, 165.36it/s]\n",
      "Epoch 23/500: 100%|██████████| 17/17 [00:00<00:00, 154.89it/s]\n",
      "Epoch 24/500: 100%|██████████| 17/17 [00:00<00:00, 165.58it/s]\n",
      "Epoch 25/500: 100%|██████████| 17/17 [00:00<00:00, 180.67it/s]\n"
     ]
    },
    {
     "name": "stdout",
     "output_type": "stream",
     "text": [
      "Epoch 25/500\n",
      "Train Loss: 0.3577, Val Loss: 0.5014\n",
      "Learning Rate: 0.001000\n",
      "--------------------------------------------------\n"
     ]
    },
    {
     "name": "stderr",
     "output_type": "stream",
     "text": [
      "Epoch 26/500: 100%|██████████| 17/17 [00:00<00:00, 164.22it/s]\n",
      "Epoch 27/500: 100%|██████████| 17/17 [00:00<00:00, 184.04it/s]\n",
      "Epoch 28/500: 100%|██████████| 17/17 [00:00<00:00, 172.05it/s]\n",
      "Epoch 29/500: 100%|██████████| 17/17 [00:00<00:00, 155.20it/s]\n",
      "Epoch 30/500: 100%|██████████| 17/17 [00:00<00:00, 175.62it/s]\n"
     ]
    },
    {
     "name": "stdout",
     "output_type": "stream",
     "text": [
      "Epoch 30/500\n",
      "Train Loss: 0.3014, Val Loss: 0.4938\n",
      "Learning Rate: 0.001000\n",
      "--------------------------------------------------\n"
     ]
    },
    {
     "name": "stderr",
     "output_type": "stream",
     "text": [
      "Epoch 31/500: 100%|██████████| 17/17 [00:00<00:00, 160.63it/s]\n",
      "Epoch 32/500: 100%|██████████| 17/17 [00:00<00:00, 179.37it/s]\n",
      "Epoch 33/500: 100%|██████████| 17/17 [00:00<00:00, 161.11it/s]\n",
      "Epoch 34/500: 100%|██████████| 17/17 [00:00<00:00, 166.54it/s]\n",
      "Epoch 35/500: 100%|██████████| 17/17 [00:00<00:00, 164.86it/s]\n"
     ]
    },
    {
     "name": "stdout",
     "output_type": "stream",
     "text": [
      "Epoch 35/500\n",
      "Train Loss: 0.2963, Val Loss: 0.5283\n",
      "Learning Rate: 0.001000\n",
      "--------------------------------------------------\n"
     ]
    },
    {
     "name": "stderr",
     "output_type": "stream",
     "text": [
      "Epoch 36/500: 100%|██████████| 17/17 [00:00<00:00, 158.97it/s]\n",
      "Epoch 37/500: 100%|██████████| 17/17 [00:00<00:00, 164.97it/s]\n",
      "Epoch 38/500: 100%|██████████| 17/17 [00:00<00:00, 173.66it/s]\n",
      "Epoch 39/500: 100%|██████████| 17/17 [00:00<00:00, 172.20it/s]\n",
      "Epoch 40/500: 100%|██████████| 17/17 [00:00<00:00, 169.97it/s]\n"
     ]
    },
    {
     "name": "stdout",
     "output_type": "stream",
     "text": [
      "Epoch 40/500\n",
      "Train Loss: 0.2585, Val Loss: 0.5153\n",
      "Learning Rate: 0.001000\n",
      "--------------------------------------------------\n"
     ]
    },
    {
     "name": "stderr",
     "output_type": "stream",
     "text": [
      "Epoch 41/500: 100%|██████████| 17/17 [00:00<00:00, 172.66it/s]\n",
      "Epoch 42/500: 100%|██████████| 17/17 [00:00<00:00, 170.70it/s]\n",
      "Epoch 43/500: 100%|██████████| 17/17 [00:00<00:00, 170.24it/s]\n",
      "Epoch 44/500: 100%|██████████| 17/17 [00:00<00:00, 170.84it/s]\n",
      "Epoch 45/500: 100%|██████████| 17/17 [00:00<00:00, 164.56it/s]\n"
     ]
    },
    {
     "name": "stdout",
     "output_type": "stream",
     "text": [
      "Epoch 45/500\n",
      "Train Loss: 0.2497, Val Loss: 0.5462\n",
      "Learning Rate: 0.001000\n",
      "--------------------------------------------------\n"
     ]
    },
    {
     "name": "stderr",
     "output_type": "stream",
     "text": [
      "Epoch 46/500: 100%|██████████| 17/17 [00:00<00:00, 175.89it/s]\n",
      "Epoch 47/500: 100%|██████████| 17/17 [00:00<00:00, 171.02it/s]\n",
      "Epoch 48/500: 100%|██████████| 17/17 [00:00<00:00, 175.04it/s]\n",
      "Epoch 49/500: 100%|██████████| 17/17 [00:00<00:00, 171.84it/s]\n",
      "Epoch 50/500: 100%|██████████| 17/17 [00:00<00:00, 159.95it/s]\n"
     ]
    },
    {
     "name": "stdout",
     "output_type": "stream",
     "text": [
      "Epoch 50/500\n",
      "Train Loss: 0.2450, Val Loss: 0.5133\n",
      "Learning Rate: 0.001000\n",
      "--------------------------------------------------\n"
     ]
    },
    {
     "name": "stderr",
     "output_type": "stream",
     "text": [
      "Epoch 51/500: 100%|██████████| 17/17 [00:00<00:00, 173.87it/s]\n",
      "Epoch 52/500: 100%|██████████| 17/17 [00:00<00:00, 169.81it/s]\n",
      "Epoch 53/500: 100%|██████████| 17/17 [00:00<00:00, 172.05it/s]\n",
      "Epoch 54/500: 100%|██████████| 17/17 [00:00<00:00, 174.05it/s]\n",
      "Epoch 55/500: 100%|██████████| 17/17 [00:00<00:00, 174.73it/s]\n"
     ]
    },
    {
     "name": "stdout",
     "output_type": "stream",
     "text": [
      "Epoch 55/500\n",
      "Train Loss: 0.3707, Val Loss: 0.5112\n",
      "Learning Rate: 0.001000\n",
      "--------------------------------------------------\n"
     ]
    },
    {
     "name": "stderr",
     "output_type": "stream",
     "text": [
      "Epoch 56/500: 100%|██████████| 17/17 [00:00<00:00, 172.32it/s]\n",
      "Epoch 57/500: 100%|██████████| 17/17 [00:00<00:00, 173.18it/s]\n",
      "Epoch 58/500: 100%|██████████| 17/17 [00:00<00:00, 169.20it/s]\n",
      "Epoch 59/500: 100%|██████████| 17/17 [00:00<00:00, 172.44it/s]\n",
      "Epoch 60/500: 100%|██████████| 17/17 [00:00<00:00, 170.14it/s]\n"
     ]
    },
    {
     "name": "stdout",
     "output_type": "stream",
     "text": [
      "Epoch 60/500\n",
      "Train Loss: 0.2796, Val Loss: 0.5084\n",
      "Learning Rate: 0.001000\n",
      "--------------------------------------------------\n"
     ]
    },
    {
     "name": "stderr",
     "output_type": "stream",
     "text": [
      "Epoch 61/500: 100%|██████████| 17/17 [00:00<00:00, 171.87it/s]\n",
      "Epoch 62/500: 100%|██████████| 17/17 [00:00<00:00, 172.22it/s]\n",
      "Epoch 63/500: 100%|██████████| 17/17 [00:00<00:00, 173.17it/s]\n",
      "Epoch 64/500: 100%|██████████| 17/17 [00:00<00:00, 174.57it/s]\n",
      "Epoch 65/500: 100%|██████████| 17/17 [00:00<00:00, 172.24it/s]\n"
     ]
    },
    {
     "name": "stdout",
     "output_type": "stream",
     "text": [
      "Epoch 65/500\n",
      "Train Loss: 0.2023, Val Loss: 0.5055\n",
      "Learning Rate: 0.001000\n",
      "--------------------------------------------------\n"
     ]
    },
    {
     "name": "stderr",
     "output_type": "stream",
     "text": [
      "Epoch 66/500: 100%|██████████| 17/17 [00:00<00:00, 171.80it/s]\n",
      "Epoch 67/500: 100%|██████████| 17/17 [00:00<00:00, 174.88it/s]\n",
      "Epoch 68/500: 100%|██████████| 17/17 [00:00<00:00, 174.66it/s]\n",
      "Epoch 69/500: 100%|██████████| 17/17 [00:00<00:00, 174.54it/s]\n",
      "Epoch 70/500: 100%|██████████| 17/17 [00:00<00:00, 175.47it/s]\n"
     ]
    },
    {
     "name": "stdout",
     "output_type": "stream",
     "text": [
      "Epoch 70/500\n",
      "Train Loss: 0.1975, Val Loss: 0.4465\n",
      "Learning Rate: 0.001000\n",
      "--------------------------------------------------\n"
     ]
    },
    {
     "name": "stderr",
     "output_type": "stream",
     "text": [
      "Epoch 71/500: 100%|██████████| 17/17 [00:00<00:00, 173.22it/s]\n",
      "Epoch 72/500: 100%|██████████| 17/17 [00:00<00:00, 172.72it/s]\n",
      "Epoch 73/500: 100%|██████████| 17/17 [00:00<00:00, 171.46it/s]\n",
      "Epoch 74/500: 100%|██████████| 17/17 [00:00<00:00, 159.60it/s]\n",
      "Epoch 75/500: 100%|██████████| 17/17 [00:00<00:00, 170.49it/s]\n"
     ]
    },
    {
     "name": "stdout",
     "output_type": "stream",
     "text": [
      "Epoch 75/500\n",
      "Train Loss: 0.1867, Val Loss: 0.5145\n",
      "Learning Rate: 0.001000\n",
      "--------------------------------------------------\n"
     ]
    },
    {
     "name": "stderr",
     "output_type": "stream",
     "text": [
      "Epoch 76/500: 100%|██████████| 17/17 [00:00<00:00, 174.77it/s]\n",
      "Epoch 77/500: 100%|██████████| 17/17 [00:00<00:00, 170.10it/s]\n",
      "Epoch 78/500: 100%|██████████| 17/17 [00:00<00:00, 172.01it/s]\n",
      "Epoch 79/500: 100%|██████████| 17/17 [00:00<00:00, 171.73it/s]\n",
      "Epoch 80/500: 100%|██████████| 17/17 [00:00<00:00, 167.84it/s]\n"
     ]
    },
    {
     "name": "stdout",
     "output_type": "stream",
     "text": [
      "Epoch 80/500\n",
      "Train Loss: 0.2010, Val Loss: 0.4645\n",
      "Learning Rate: 0.001000\n",
      "--------------------------------------------------\n"
     ]
    },
    {
     "name": "stderr",
     "output_type": "stream",
     "text": [
      "Epoch 81/500: 100%|██████████| 17/17 [00:00<00:00, 180.91it/s]\n",
      "Epoch 82/500: 100%|██████████| 17/17 [00:00<00:00, 117.73it/s]\n",
      "Epoch 83/500: 100%|██████████| 17/17 [00:00<00:00, 159.10it/s]\n",
      "Epoch 84/500: 100%|██████████| 17/17 [00:00<00:00, 180.24it/s]\n",
      "Epoch 85/500: 100%|██████████| 17/17 [00:00<00:00, 162.07it/s]\n"
     ]
    },
    {
     "name": "stdout",
     "output_type": "stream",
     "text": [
      "Epoch 85/500\n",
      "Train Loss: 0.1854, Val Loss: 0.4980\n",
      "Learning Rate: 0.001000\n",
      "--------------------------------------------------\n"
     ]
    },
    {
     "name": "stderr",
     "output_type": "stream",
     "text": [
      "Epoch 86/500: 100%|██████████| 17/17 [00:00<00:00, 180.33it/s]\n",
      "Epoch 87/500: 100%|██████████| 17/17 [00:00<00:00, 171.51it/s]\n",
      "Epoch 88/500: 100%|██████████| 17/17 [00:00<00:00, 159.42it/s]\n",
      "Epoch 89/500: 100%|██████████| 17/17 [00:00<00:00, 166.09it/s]\n",
      "Epoch 90/500: 100%|██████████| 17/17 [00:00<00:00, 154.96it/s]\n"
     ]
    },
    {
     "name": "stdout",
     "output_type": "stream",
     "text": [
      "Epoch 90/500\n",
      "Train Loss: 0.1884, Val Loss: 0.5258\n",
      "Learning Rate: 0.001000\n",
      "--------------------------------------------------\n"
     ]
    },
    {
     "name": "stderr",
     "output_type": "stream",
     "text": [
      "Epoch 91/500: 100%|██████████| 17/17 [00:00<00:00, 169.65it/s]\n",
      "Epoch 92/500: 100%|██████████| 17/17 [00:00<00:00, 176.40it/s]\n",
      "Epoch 93/500: 100%|██████████| 17/17 [00:00<00:00, 174.00it/s]\n",
      "Epoch 94/500: 100%|██████████| 17/17 [00:00<00:00, 171.13it/s]\n",
      "Epoch 95/500: 100%|██████████| 17/17 [00:00<00:00, 177.68it/s]\n"
     ]
    },
    {
     "name": "stdout",
     "output_type": "stream",
     "text": [
      "Epoch 95/500\n",
      "Train Loss: 0.1601, Val Loss: 0.5041\n",
      "Learning Rate: 0.001000\n",
      "--------------------------------------------------\n"
     ]
    },
    {
     "name": "stderr",
     "output_type": "stream",
     "text": [
      "Epoch 96/500: 100%|██████████| 17/17 [00:00<00:00, 169.20it/s]\n",
      "Epoch 97/500: 100%|██████████| 17/17 [00:00<00:00, 182.35it/s]\n",
      "Epoch 98/500: 100%|██████████| 17/17 [00:00<00:00, 182.78it/s]\n",
      "Epoch 99/500: 100%|██████████| 17/17 [00:00<00:00, 178.69it/s]\n",
      "Epoch 100/500: 100%|██████████| 17/17 [00:00<00:00, 161.01it/s]\n"
     ]
    },
    {
     "name": "stdout",
     "output_type": "stream",
     "text": [
      "Epoch 100/500\n",
      "Train Loss: 0.1636, Val Loss: 0.5350\n",
      "Learning Rate: 0.001000\n",
      "--------------------------------------------------\n"
     ]
    },
    {
     "name": "stderr",
     "output_type": "stream",
     "text": [
      "Epoch 101/500: 100%|██████████| 17/17 [00:00<00:00, 180.82it/s]\n",
      "Epoch 102/500: 100%|██████████| 17/17 [00:00<00:00, 165.06it/s]\n",
      "Epoch 103/500: 100%|██████████| 17/17 [00:00<00:00, 157.60it/s]\n",
      "Epoch 104/500: 100%|██████████| 17/17 [00:00<00:00, 169.03it/s]\n",
      "Epoch 105/500: 100%|██████████| 17/17 [00:00<00:00, 182.68it/s]\n"
     ]
    },
    {
     "name": "stdout",
     "output_type": "stream",
     "text": [
      "Epoch 105/500\n",
      "Train Loss: 0.1678, Val Loss: 0.5021\n",
      "Learning Rate: 0.001000\n",
      "--------------------------------------------------\n"
     ]
    },
    {
     "name": "stderr",
     "output_type": "stream",
     "text": [
      "Epoch 106/500: 100%|██████████| 17/17 [00:00<00:00, 183.21it/s]\n",
      "Epoch 107/500: 100%|██████████| 17/17 [00:00<00:00, 176.15it/s]\n",
      "Epoch 108/500: 100%|██████████| 17/17 [00:00<00:00, 178.97it/s]\n",
      "Epoch 109/500: 100%|██████████| 17/17 [00:00<00:00, 162.27it/s]\n",
      "Epoch 110/500: 100%|██████████| 17/17 [00:00<00:00, 175.28it/s]\n"
     ]
    },
    {
     "name": "stdout",
     "output_type": "stream",
     "text": [
      "Epoch 110/500\n",
      "Train Loss: 0.1386, Val Loss: 0.4803\n",
      "Learning Rate: 0.001000\n",
      "--------------------------------------------------\n"
     ]
    },
    {
     "name": "stderr",
     "output_type": "stream",
     "text": [
      "Epoch 111/500: 100%|██████████| 17/17 [00:00<00:00, 158.78it/s]\n",
      "Epoch 112/500: 100%|██████████| 17/17 [00:00<00:00, 177.07it/s]\n",
      "Epoch 113/500: 100%|██████████| 17/17 [00:00<00:00, 171.02it/s]\n",
      "Epoch 114/500: 100%|██████████| 17/17 [00:00<00:00, 172.08it/s]\n",
      "Epoch 115/500: 100%|██████████| 17/17 [00:00<00:00, 158.43it/s]\n"
     ]
    },
    {
     "name": "stdout",
     "output_type": "stream",
     "text": [
      "Epoch 115/500\n",
      "Train Loss: 0.1636, Val Loss: 0.4666\n",
      "Learning Rate: 0.001000\n",
      "--------------------------------------------------\n"
     ]
    },
    {
     "name": "stderr",
     "output_type": "stream",
     "text": [
      "Epoch 116/500: 100%|██████████| 17/17 [00:00<00:00, 171.83it/s]\n",
      "Epoch 117/500: 100%|██████████| 17/17 [00:00<00:00, 178.71it/s]\n",
      "Epoch 118/500: 100%|██████████| 17/17 [00:00<00:00, 173.34it/s]\n",
      "Epoch 119/500: 100%|██████████| 17/17 [00:00<00:00, 152.28it/s]\n",
      "Epoch 120/500: 100%|██████████| 17/17 [00:00<00:00, 184.94it/s]\n"
     ]
    },
    {
     "name": "stdout",
     "output_type": "stream",
     "text": [
      "Epoch 120/500\n",
      "Train Loss: 0.1470, Val Loss: 0.5138\n",
      "Learning Rate: 0.001000\n",
      "--------------------------------------------------\n"
     ]
    },
    {
     "name": "stderr",
     "output_type": "stream",
     "text": [
      "Epoch 121/500: 100%|██████████| 17/17 [00:00<00:00, 183.19it/s]\n",
      "Epoch 122/500: 100%|██████████| 17/17 [00:00<00:00, 186.70it/s]\n",
      "Epoch 123/500: 100%|██████████| 17/17 [00:00<00:00, 178.77it/s]\n",
      "Epoch 124/500: 100%|██████████| 17/17 [00:00<00:00, 171.28it/s]\n",
      "Epoch 125/500: 100%|██████████| 17/17 [00:00<00:00, 174.32it/s]\n"
     ]
    },
    {
     "name": "stdout",
     "output_type": "stream",
     "text": [
      "Epoch 125/500\n",
      "Train Loss: 0.1234, Val Loss: 0.4849\n",
      "Learning Rate: 0.001000\n",
      "--------------------------------------------------\n"
     ]
    },
    {
     "name": "stderr",
     "output_type": "stream",
     "text": [
      "Epoch 126/500: 100%|██████████| 17/17 [00:00<00:00, 139.64it/s]\n",
      "Epoch 127/500: 100%|██████████| 17/17 [00:00<00:00, 142.93it/s]\n",
      "Epoch 128/500: 100%|██████████| 17/17 [00:00<00:00, 155.90it/s]\n",
      "Epoch 129/500: 100%|██████████| 17/17 [00:00<00:00, 171.56it/s]\n",
      "Epoch 130/500: 100%|██████████| 17/17 [00:00<00:00, 146.02it/s]\n"
     ]
    },
    {
     "name": "stdout",
     "output_type": "stream",
     "text": [
      "Epoch 130/500\n",
      "Train Loss: 0.1259, Val Loss: 0.4917\n",
      "Learning Rate: 0.001000\n",
      "--------------------------------------------------\n"
     ]
    },
    {
     "name": "stderr",
     "output_type": "stream",
     "text": [
      "Epoch 131/500: 100%|██████████| 17/17 [00:00<00:00, 155.88it/s]\n",
      "Epoch 132/500: 100%|██████████| 17/17 [00:00<00:00, 131.31it/s]\n",
      "Epoch 133/500: 100%|██████████| 17/17 [00:00<00:00, 160.25it/s]\n",
      "Epoch 134/500: 100%|██████████| 17/17 [00:00<00:00, 164.55it/s]\n",
      "Epoch 135/500: 100%|██████████| 17/17 [00:00<00:00, 170.81it/s]\n"
     ]
    },
    {
     "name": "stdout",
     "output_type": "stream",
     "text": [
      "Epoch 135/500\n",
      "Train Loss: 0.1281, Val Loss: 0.4866\n",
      "Learning Rate: 0.001000\n",
      "--------------------------------------------------\n"
     ]
    },
    {
     "name": "stderr",
     "output_type": "stream",
     "text": [
      "Epoch 136/500: 100%|██████████| 17/17 [00:00<00:00, 180.11it/s]\n",
      "Epoch 137/500: 100%|██████████| 17/17 [00:00<00:00, 175.73it/s]\n",
      "Epoch 138/500: 100%|██████████| 17/17 [00:00<00:00, 175.63it/s]\n",
      "Epoch 139/500: 100%|██████████| 17/17 [00:00<00:00, 165.99it/s]\n",
      "Epoch 140/500: 100%|██████████| 17/17 [00:00<00:00, 177.21it/s]\n"
     ]
    },
    {
     "name": "stdout",
     "output_type": "stream",
     "text": [
      "Epoch 140/500\n",
      "Train Loss: 0.1379, Val Loss: 0.5086\n",
      "Learning Rate: 0.001000\n",
      "--------------------------------------------------\n"
     ]
    },
    {
     "name": "stderr",
     "output_type": "stream",
     "text": [
      "Epoch 141/500: 100%|██████████| 17/17 [00:00<00:00, 175.28it/s]\n",
      "Epoch 142/500: 100%|██████████| 17/17 [00:00<00:00, 175.57it/s]\n",
      "Epoch 143/500: 100%|██████████| 17/17 [00:00<00:00, 175.11it/s]\n",
      "Epoch 144/500: 100%|██████████| 17/17 [00:00<00:00, 173.52it/s]\n",
      "Epoch 145/500: 100%|██████████| 17/17 [00:00<00:00, 174.99it/s]\n"
     ]
    },
    {
     "name": "stdout",
     "output_type": "stream",
     "text": [
      "Epoch 145/500\n",
      "Train Loss: 0.1712, Val Loss: 0.5149\n",
      "Learning Rate: 0.001000\n",
      "--------------------------------------------------\n"
     ]
    },
    {
     "name": "stderr",
     "output_type": "stream",
     "text": [
      "Epoch 146/500: 100%|██████████| 17/17 [00:00<00:00, 174.67it/s]\n",
      "Epoch 147/500: 100%|██████████| 17/17 [00:00<00:00, 175.27it/s]\n",
      "Epoch 148/500: 100%|██████████| 17/17 [00:00<00:00, 178.81it/s]\n",
      "Epoch 149/500: 100%|██████████| 17/17 [00:00<00:00, 163.51it/s]\n",
      "Epoch 150/500: 100%|██████████| 17/17 [00:00<00:00, 167.46it/s]\n"
     ]
    },
    {
     "name": "stdout",
     "output_type": "stream",
     "text": [
      "Epoch 150/500\n",
      "Train Loss: 0.1371, Val Loss: 0.5107\n",
      "Learning Rate: 0.001000\n",
      "--------------------------------------------------\n"
     ]
    },
    {
     "name": "stderr",
     "output_type": "stream",
     "text": [
      "Epoch 151/500: 100%|██████████| 17/17 [00:00<00:00, 178.69it/s]\n",
      "Epoch 152/500: 100%|██████████| 17/17 [00:00<00:00, 172.88it/s]\n",
      "Epoch 153/500: 100%|██████████| 17/17 [00:00<00:00, 159.24it/s]\n",
      "Epoch 154/500: 100%|██████████| 17/17 [00:00<00:00, 146.85it/s]\n",
      "Epoch 155/500: 100%|██████████| 17/17 [00:00<00:00, 164.17it/s]\n"
     ]
    },
    {
     "name": "stdout",
     "output_type": "stream",
     "text": [
      "Epoch 155/500\n",
      "Train Loss: 0.1154, Val Loss: 0.4970\n",
      "Learning Rate: 0.001000\n",
      "--------------------------------------------------\n"
     ]
    },
    {
     "name": "stderr",
     "output_type": "stream",
     "text": [
      "Epoch 156/500: 100%|██████████| 17/17 [00:00<00:00, 129.97it/s]\n",
      "Epoch 157/500: 100%|██████████| 17/17 [00:00<00:00, 146.42it/s]\n",
      "Epoch 158/500: 100%|██████████| 17/17 [00:00<00:00, 167.56it/s]\n",
      "Epoch 159/500: 100%|██████████| 17/17 [00:00<00:00, 162.75it/s]\n",
      "Epoch 160/500: 100%|██████████| 17/17 [00:00<00:00, 158.92it/s]\n"
     ]
    },
    {
     "name": "stdout",
     "output_type": "stream",
     "text": [
      "Epoch 160/500\n",
      "Train Loss: 0.1185, Val Loss: 0.4933\n",
      "Learning Rate: 0.001000\n",
      "--------------------------------------------------\n"
     ]
    },
    {
     "name": "stderr",
     "output_type": "stream",
     "text": [
      "Epoch 161/500: 100%|██████████| 17/17 [00:00<00:00, 164.15it/s]\n",
      "Epoch 162/500: 100%|██████████| 17/17 [00:00<00:00, 149.46it/s]\n",
      "Epoch 163/500: 100%|██████████| 17/17 [00:00<00:00, 147.50it/s]\n",
      "Epoch 164/500: 100%|██████████| 17/17 [00:00<00:00, 166.75it/s]\n",
      "Epoch 165/500: 100%|██████████| 17/17 [00:00<00:00, 166.51it/s]\n"
     ]
    },
    {
     "name": "stdout",
     "output_type": "stream",
     "text": [
      "Epoch 165/500\n",
      "Train Loss: 0.1156, Val Loss: 0.5206\n",
      "Learning Rate: 0.001000\n",
      "--------------------------------------------------\n"
     ]
    },
    {
     "name": "stderr",
     "output_type": "stream",
     "text": [
      "Epoch 166/500: 100%|██████████| 17/17 [00:00<00:00, 160.64it/s]\n",
      "Epoch 167/500: 100%|██████████| 17/17 [00:00<00:00, 158.89it/s]\n",
      "Epoch 168/500: 100%|██████████| 17/17 [00:00<00:00, 173.73it/s]\n",
      "Epoch 169/500: 100%|██████████| 17/17 [00:00<00:00, 175.19it/s]\n",
      "Epoch 170/500: 100%|██████████| 17/17 [00:00<00:00, 166.76it/s]\n"
     ]
    },
    {
     "name": "stdout",
     "output_type": "stream",
     "text": [
      "Epoch 170/500\n",
      "Train Loss: 0.1084, Val Loss: 0.4140\n",
      "Learning Rate: 0.001000\n",
      "--------------------------------------------------\n"
     ]
    },
    {
     "name": "stderr",
     "output_type": "stream",
     "text": [
      "Epoch 171/500: 100%|██████████| 17/17 [00:00<00:00, 155.04it/s]\n",
      "Epoch 172/500: 100%|██████████| 17/17 [00:00<00:00, 170.95it/s]\n",
      "Epoch 173/500: 100%|██████████| 17/17 [00:00<00:00, 165.38it/s]\n",
      "Epoch 174/500: 100%|██████████| 17/17 [00:00<00:00, 162.28it/s]\n",
      "Epoch 175/500: 100%|██████████| 17/17 [00:00<00:00, 171.64it/s]\n"
     ]
    },
    {
     "name": "stdout",
     "output_type": "stream",
     "text": [
      "Epoch 175/500\n",
      "Train Loss: 0.1100, Val Loss: 0.4672\n",
      "Learning Rate: 0.001000\n",
      "--------------------------------------------------\n"
     ]
    },
    {
     "name": "stderr",
     "output_type": "stream",
     "text": [
      "Epoch 176/500: 100%|██████████| 17/17 [00:00<00:00, 165.04it/s]\n",
      "Epoch 177/500: 100%|██████████| 17/17 [00:00<00:00, 177.01it/s]\n",
      "Epoch 178/500: 100%|██████████| 17/17 [00:00<00:00, 179.26it/s]\n",
      "Epoch 179/500: 100%|██████████| 17/17 [00:00<00:00, 171.49it/s]\n",
      "Epoch 180/500: 100%|██████████| 17/17 [00:00<00:00, 170.28it/s]\n"
     ]
    },
    {
     "name": "stdout",
     "output_type": "stream",
     "text": [
      "Epoch 180/500\n",
      "Train Loss: 0.1337, Val Loss: 0.4825\n",
      "Learning Rate: 0.001000\n",
      "--------------------------------------------------\n"
     ]
    },
    {
     "name": "stderr",
     "output_type": "stream",
     "text": [
      "Epoch 181/500: 100%|██████████| 17/17 [00:00<00:00, 181.63it/s]\n",
      "Epoch 182/500: 100%|██████████| 17/17 [00:00<00:00, 165.67it/s]\n",
      "Epoch 183/500: 100%|██████████| 17/17 [00:00<00:00, 173.66it/s]\n",
      "Epoch 184/500: 100%|██████████| 17/17 [00:00<00:00, 172.64it/s]\n",
      "Epoch 185/500: 100%|██████████| 17/17 [00:00<00:00, 167.72it/s]\n"
     ]
    },
    {
     "name": "stdout",
     "output_type": "stream",
     "text": [
      "Epoch 185/500\n",
      "Train Loss: 0.1315, Val Loss: 0.5355\n",
      "Learning Rate: 0.001000\n",
      "--------------------------------------------------\n"
     ]
    },
    {
     "name": "stderr",
     "output_type": "stream",
     "text": [
      "Epoch 186/500: 100%|██████████| 17/17 [00:00<00:00, 173.12it/s]\n",
      "Epoch 187/500: 100%|██████████| 17/17 [00:00<00:00, 158.97it/s]\n",
      "Epoch 188/500: 100%|██████████| 17/17 [00:00<00:00, 182.64it/s]\n",
      "Epoch 189/500: 100%|██████████| 17/17 [00:00<00:00, 177.55it/s]\n",
      "Epoch 190/500: 100%|██████████| 17/17 [00:00<00:00, 168.64it/s]\n"
     ]
    },
    {
     "name": "stdout",
     "output_type": "stream",
     "text": [
      "Epoch 190/500\n",
      "Train Loss: 0.1174, Val Loss: 0.5523\n",
      "Learning Rate: 0.001000\n",
      "--------------------------------------------------\n"
     ]
    },
    {
     "name": "stderr",
     "output_type": "stream",
     "text": [
      "Epoch 191/500: 100%|██████████| 17/17 [00:00<00:00, 183.51it/s]\n",
      "Epoch 192/500: 100%|██████████| 17/17 [00:00<00:00, 153.73it/s]\n",
      "Epoch 193/500: 100%|██████████| 17/17 [00:00<00:00, 168.09it/s]\n",
      "Epoch 194/500: 100%|██████████| 17/17 [00:00<00:00, 159.52it/s]\n",
      "Epoch 195/500: 100%|██████████| 17/17 [00:00<00:00, 155.63it/s]\n"
     ]
    },
    {
     "name": "stdout",
     "output_type": "stream",
     "text": [
      "Epoch 195/500\n",
      "Train Loss: 0.1013, Val Loss: 0.5301\n",
      "Learning Rate: 0.001000\n",
      "--------------------------------------------------\n"
     ]
    },
    {
     "name": "stderr",
     "output_type": "stream",
     "text": [
      "Epoch 196/500: 100%|██████████| 17/17 [00:00<00:00, 170.83it/s]\n",
      "Epoch 197/500: 100%|██████████| 17/17 [00:00<00:00, 178.37it/s]\n",
      "Epoch 198/500: 100%|██████████| 17/17 [00:00<00:00, 167.62it/s]\n",
      "Epoch 199/500: 100%|██████████| 17/17 [00:00<00:00, 164.89it/s]\n",
      "Epoch 200/500: 100%|██████████| 17/17 [00:00<00:00, 170.10it/s]\n"
     ]
    },
    {
     "name": "stdout",
     "output_type": "stream",
     "text": [
      "Epoch 200/500\n",
      "Train Loss: 0.1070, Val Loss: 0.4996\n",
      "Learning Rate: 0.001000\n",
      "--------------------------------------------------\n"
     ]
    },
    {
     "name": "stderr",
     "output_type": "stream",
     "text": [
      "Epoch 201/500: 100%|██████████| 17/17 [00:00<00:00, 164.21it/s]\n",
      "Epoch 202/500: 100%|██████████| 17/17 [00:00<00:00, 163.74it/s]\n",
      "Epoch 203/500: 100%|██████████| 17/17 [00:00<00:00, 168.48it/s]\n",
      "Epoch 204/500: 100%|██████████| 17/17 [00:00<00:00, 159.64it/s]\n",
      "Epoch 205/500: 100%|██████████| 17/17 [00:00<00:00, 160.14it/s]\n"
     ]
    },
    {
     "name": "stdout",
     "output_type": "stream",
     "text": [
      "Epoch 205/500\n",
      "Train Loss: 0.0975, Val Loss: 0.5779\n",
      "Learning Rate: 0.001000\n",
      "--------------------------------------------------\n"
     ]
    },
    {
     "name": "stderr",
     "output_type": "stream",
     "text": [
      "Epoch 206/500: 100%|██████████| 17/17 [00:00<00:00, 175.08it/s]\n",
      "Epoch 207/500: 100%|██████████| 17/17 [00:00<00:00, 157.14it/s]\n",
      "Epoch 208/500: 100%|██████████| 17/17 [00:00<00:00, 172.24it/s]\n",
      "Epoch 209/500: 100%|██████████| 17/17 [00:00<00:00, 165.07it/s]\n",
      "Epoch 210/500: 100%|██████████| 17/17 [00:00<00:00, 160.63it/s]\n"
     ]
    },
    {
     "name": "stdout",
     "output_type": "stream",
     "text": [
      "Epoch 210/500\n",
      "Train Loss: 0.0944, Val Loss: 0.5489\n",
      "Learning Rate: 0.001000\n",
      "--------------------------------------------------\n"
     ]
    },
    {
     "name": "stderr",
     "output_type": "stream",
     "text": [
      "Epoch 211/500: 100%|██████████| 17/17 [00:00<00:00, 171.52it/s]\n",
      "Epoch 212/500: 100%|██████████| 17/17 [00:00<00:00, 179.07it/s]\n",
      "Epoch 213/500: 100%|██████████| 17/17 [00:00<00:00, 159.08it/s]\n",
      "Epoch 214/500: 100%|██████████| 17/17 [00:00<00:00, 148.72it/s]\n",
      "Epoch 215/500: 100%|██████████| 17/17 [00:00<00:00, 169.94it/s]\n"
     ]
    },
    {
     "name": "stdout",
     "output_type": "stream",
     "text": [
      "Epoch 215/500\n",
      "Train Loss: 0.1283, Val Loss: 0.5761\n",
      "Learning Rate: 0.001000\n",
      "--------------------------------------------------\n"
     ]
    },
    {
     "name": "stderr",
     "output_type": "stream",
     "text": [
      "Epoch 216/500: 100%|██████████| 17/17 [00:00<00:00, 168.04it/s]\n",
      "Epoch 217/500: 100%|██████████| 17/17 [00:00<00:00, 158.46it/s]\n",
      "Epoch 218/500: 100%|██████████| 17/17 [00:00<00:00, 158.88it/s]\n",
      "Epoch 219/500: 100%|██████████| 17/17 [00:00<00:00, 171.79it/s]\n",
      "Epoch 220/500: 100%|██████████| 17/17 [00:00<00:00, 175.69it/s]\n"
     ]
    },
    {
     "name": "stdout",
     "output_type": "stream",
     "text": [
      "Epoch 220/500\n",
      "Train Loss: 0.0957, Val Loss: 0.4041\n",
      "Learning Rate: 0.001000\n",
      "--------------------------------------------------\n"
     ]
    },
    {
     "name": "stderr",
     "output_type": "stream",
     "text": [
      "Epoch 221/500: 100%|██████████| 17/17 [00:00<00:00, 159.06it/s]\n",
      "Epoch 222/500: 100%|██████████| 17/17 [00:00<00:00, 173.57it/s]\n",
      "Epoch 223/500: 100%|██████████| 17/17 [00:00<00:00, 166.33it/s]\n",
      "Epoch 224/500: 100%|██████████| 17/17 [00:00<00:00, 168.38it/s]\n",
      "Epoch 225/500: 100%|██████████| 17/17 [00:00<00:00, 165.15it/s]\n"
     ]
    },
    {
     "name": "stdout",
     "output_type": "stream",
     "text": [
      "Epoch 225/500\n",
      "Train Loss: 0.1381, Val Loss: 0.5296\n",
      "Learning Rate: 0.001000\n",
      "--------------------------------------------------\n"
     ]
    },
    {
     "name": "stderr",
     "output_type": "stream",
     "text": [
      "Epoch 226/500: 100%|██████████| 17/17 [00:00<00:00, 159.28it/s]\n",
      "Epoch 227/500: 100%|██████████| 17/17 [00:00<00:00, 169.92it/s]\n",
      "Epoch 228/500: 100%|██████████| 17/17 [00:00<00:00, 159.21it/s]\n",
      "Epoch 229/500: 100%|██████████| 17/17 [00:00<00:00, 158.75it/s]\n",
      "Epoch 230/500: 100%|██████████| 17/17 [00:00<00:00, 164.31it/s]\n"
     ]
    },
    {
     "name": "stdout",
     "output_type": "stream",
     "text": [
      "Epoch 230/500\n",
      "Train Loss: 0.1222, Val Loss: 0.4777\n",
      "Learning Rate: 0.001000\n",
      "--------------------------------------------------\n"
     ]
    },
    {
     "name": "stderr",
     "output_type": "stream",
     "text": [
      "Epoch 231/500: 100%|██████████| 17/17 [00:00<00:00, 168.59it/s]\n",
      "Epoch 232/500: 100%|██████████| 17/17 [00:00<00:00, 161.81it/s]\n",
      "Epoch 233/500: 100%|██████████| 17/17 [00:00<00:00, 175.28it/s]\n",
      "Epoch 234/500: 100%|██████████| 17/17 [00:00<00:00, 157.08it/s]\n",
      "Epoch 235/500: 100%|██████████| 17/17 [00:00<00:00, 173.55it/s]\n"
     ]
    },
    {
     "name": "stdout",
     "output_type": "stream",
     "text": [
      "Epoch 235/500\n",
      "Train Loss: 0.0987, Val Loss: 0.4452\n",
      "Learning Rate: 0.001000\n",
      "--------------------------------------------------\n"
     ]
    },
    {
     "name": "stderr",
     "output_type": "stream",
     "text": [
      "Epoch 236/500: 100%|██████████| 17/17 [00:00<00:00, 158.51it/s]\n",
      "Epoch 237/500: 100%|██████████| 17/17 [00:00<00:00, 164.28it/s]\n",
      "Epoch 238/500: 100%|██████████| 17/17 [00:00<00:00, 173.98it/s]\n",
      "Epoch 239/500: 100%|██████████| 17/17 [00:00<00:00, 157.19it/s]\n",
      "Epoch 240/500: 100%|██████████| 17/17 [00:00<00:00, 173.46it/s]\n"
     ]
    },
    {
     "name": "stdout",
     "output_type": "stream",
     "text": [
      "Epoch 240/500\n",
      "Train Loss: 0.1003, Val Loss: 0.4480\n",
      "Learning Rate: 0.001000\n",
      "--------------------------------------------------\n"
     ]
    },
    {
     "name": "stderr",
     "output_type": "stream",
     "text": [
      "Epoch 241/500: 100%|██████████| 17/17 [00:00<00:00, 157.11it/s]\n",
      "Epoch 242/500: 100%|██████████| 17/17 [00:00<00:00, 128.16it/s]\n",
      "Epoch 243/500: 100%|██████████| 17/17 [00:00<00:00, 145.96it/s]\n",
      "Epoch 244/500: 100%|██████████| 17/17 [00:00<00:00, 154.60it/s]\n",
      "Epoch 245/500: 100%|██████████| 17/17 [00:00<00:00, 158.53it/s]\n"
     ]
    },
    {
     "name": "stdout",
     "output_type": "stream",
     "text": [
      "Epoch 245/500\n",
      "Train Loss: 0.0806, Val Loss: 0.5338\n",
      "Learning Rate: 0.001000\n",
      "--------------------------------------------------\n"
     ]
    },
    {
     "name": "stderr",
     "output_type": "stream",
     "text": [
      "Epoch 246/500: 100%|██████████| 17/17 [00:00<00:00, 172.62it/s]\n",
      "Epoch 247/500: 100%|██████████| 17/17 [00:00<00:00, 164.22it/s]\n",
      "Epoch 248/500: 100%|██████████| 17/17 [00:00<00:00, 158.87it/s]\n",
      "Epoch 249/500: 100%|██████████| 17/17 [00:00<00:00, 172.10it/s]\n",
      "Epoch 250/500: 100%|██████████| 17/17 [00:00<00:00, 180.78it/s]\n"
     ]
    },
    {
     "name": "stdout",
     "output_type": "stream",
     "text": [
      "Epoch 250/500\n",
      "Train Loss: 0.0954, Val Loss: 0.4912\n",
      "Learning Rate: 0.001000\n",
      "--------------------------------------------------\n"
     ]
    },
    {
     "name": "stderr",
     "output_type": "stream",
     "text": [
      "Epoch 251/500: 100%|██████████| 17/17 [00:00<00:00, 172.20it/s]\n",
      "Epoch 252/500: 100%|██████████| 17/17 [00:00<00:00, 179.25it/s]\n",
      "Epoch 253/500: 100%|██████████| 17/17 [00:00<00:00, 174.22it/s]\n",
      "Epoch 254/500: 100%|██████████| 17/17 [00:00<00:00, 182.16it/s]\n",
      "Epoch 255/500: 100%|██████████| 17/17 [00:00<00:00, 179.14it/s]\n"
     ]
    },
    {
     "name": "stdout",
     "output_type": "stream",
     "text": [
      "Epoch 255/500\n",
      "Train Loss: 0.0806, Val Loss: 0.4484\n",
      "Learning Rate: 0.001000\n",
      "--------------------------------------------------\n"
     ]
    },
    {
     "name": "stderr",
     "output_type": "stream",
     "text": [
      "Epoch 256/500: 100%|██████████| 17/17 [00:00<00:00, 180.75it/s]\n",
      "Epoch 257/500: 100%|██████████| 17/17 [00:00<00:00, 178.59it/s]\n",
      "Epoch 258/500: 100%|██████████| 17/17 [00:00<00:00, 179.19it/s]\n",
      "Epoch 259/500: 100%|██████████| 17/17 [00:00<00:00, 155.72it/s]\n",
      "Epoch 260/500: 100%|██████████| 17/17 [00:00<00:00, 168.14it/s]\n"
     ]
    },
    {
     "name": "stdout",
     "output_type": "stream",
     "text": [
      "Epoch 260/500\n",
      "Train Loss: 0.0952, Val Loss: 0.4808\n",
      "Learning Rate: 0.001000\n",
      "--------------------------------------------------\n"
     ]
    },
    {
     "name": "stderr",
     "output_type": "stream",
     "text": [
      "Epoch 261/500: 100%|██████████| 17/17 [00:00<00:00, 183.06it/s]\n",
      "Epoch 262/500: 100%|██████████| 17/17 [00:00<00:00, 178.87it/s]\n",
      "Epoch 263/500: 100%|██████████| 17/17 [00:00<00:00, 158.53it/s]\n",
      "Epoch 264/500: 100%|██████████| 17/17 [00:00<00:00, 159.18it/s]\n",
      "Epoch 265/500: 100%|██████████| 17/17 [00:00<00:00, 182.52it/s]\n"
     ]
    },
    {
     "name": "stdout",
     "output_type": "stream",
     "text": [
      "Epoch 265/500\n",
      "Train Loss: 0.0956, Val Loss: 0.4408\n",
      "Learning Rate: 0.001000\n",
      "--------------------------------------------------\n"
     ]
    },
    {
     "name": "stderr",
     "output_type": "stream",
     "text": [
      "Epoch 266/500: 100%|██████████| 17/17 [00:00<00:00, 185.67it/s]\n",
      "Epoch 267/500: 100%|██████████| 17/17 [00:00<00:00, 169.83it/s]\n",
      "Epoch 268/500: 100%|██████████| 17/17 [00:00<00:00, 167.54it/s]\n",
      "Epoch 269/500: 100%|██████████| 17/17 [00:00<00:00, 161.29it/s]\n",
      "Epoch 270/500: 100%|██████████| 17/17 [00:00<00:00, 182.30it/s]\n"
     ]
    },
    {
     "name": "stdout",
     "output_type": "stream",
     "text": [
      "Epoch 270/500\n",
      "Train Loss: 0.1124, Val Loss: 0.4946\n",
      "Learning Rate: 0.001000\n",
      "--------------------------------------------------\n"
     ]
    },
    {
     "name": "stderr",
     "output_type": "stream",
     "text": [
      "Epoch 271/500: 100%|██████████| 17/17 [00:00<00:00, 161.68it/s]\n",
      "Epoch 272/500: 100%|██████████| 17/17 [00:00<00:00, 175.24it/s]\n",
      "Epoch 273/500: 100%|██████████| 17/17 [00:00<00:00, 181.15it/s]\n",
      "Epoch 274/500: 100%|██████████| 17/17 [00:00<00:00, 172.24it/s]\n",
      "Epoch 275/500: 100%|██████████| 17/17 [00:00<00:00, 164.28it/s]\n"
     ]
    },
    {
     "name": "stdout",
     "output_type": "stream",
     "text": [
      "Epoch 275/500\n",
      "Train Loss: 0.0929, Val Loss: 0.4829\n",
      "Learning Rate: 0.001000\n",
      "--------------------------------------------------\n"
     ]
    },
    {
     "name": "stderr",
     "output_type": "stream",
     "text": [
      "Epoch 276/500: 100%|██████████| 17/17 [00:00<00:00, 188.58it/s]\n",
      "Epoch 277/500: 100%|██████████| 17/17 [00:00<00:00, 173.81it/s]\n",
      "Epoch 278/500: 100%|██████████| 17/17 [00:00<00:00, 168.11it/s]\n",
      "Epoch 279/500: 100%|██████████| 17/17 [00:00<00:00, 162.30it/s]\n",
      "Epoch 280/500: 100%|██████████| 17/17 [00:00<00:00, 175.83it/s]\n"
     ]
    },
    {
     "name": "stdout",
     "output_type": "stream",
     "text": [
      "Epoch 280/500\n",
      "Train Loss: 0.1009, Val Loss: 0.4233\n",
      "Learning Rate: 0.001000\n",
      "--------------------------------------------------\n"
     ]
    },
    {
     "name": "stderr",
     "output_type": "stream",
     "text": [
      "Epoch 281/500: 100%|██████████| 17/17 [00:00<00:00, 186.65it/s]\n",
      "Epoch 282/500: 100%|██████████| 17/17 [00:00<00:00, 180.21it/s]\n",
      "Epoch 283/500: 100%|██████████| 17/17 [00:00<00:00, 174.84it/s]\n",
      "Epoch 284/500: 100%|██████████| 17/17 [00:00<00:00, 164.68it/s]\n",
      "Epoch 285/500: 100%|██████████| 17/17 [00:00<00:00, 171.34it/s]\n"
     ]
    },
    {
     "name": "stdout",
     "output_type": "stream",
     "text": [
      "Epoch 285/500\n",
      "Train Loss: 0.0842, Val Loss: 0.4324\n",
      "Learning Rate: 0.001000\n",
      "--------------------------------------------------\n"
     ]
    },
    {
     "name": "stderr",
     "output_type": "stream",
     "text": [
      "Epoch 286/500: 100%|██████████| 17/17 [00:00<00:00, 165.00it/s]\n",
      "Epoch 287/500: 100%|██████████| 17/17 [00:00<00:00, 167.09it/s]\n",
      "Epoch 288/500: 100%|██████████| 17/17 [00:00<00:00, 168.69it/s]\n",
      "Epoch 289/500: 100%|██████████| 17/17 [00:00<00:00, 163.29it/s]\n",
      "Epoch 290/500: 100%|██████████| 17/17 [00:00<00:00, 174.83it/s]\n"
     ]
    },
    {
     "name": "stdout",
     "output_type": "stream",
     "text": [
      "Epoch 290/500\n",
      "Train Loss: 0.1213, Val Loss: 0.4450\n",
      "Learning Rate: 0.001000\n",
      "--------------------------------------------------\n"
     ]
    },
    {
     "name": "stderr",
     "output_type": "stream",
     "text": [
      "Epoch 291/500: 100%|██████████| 17/17 [00:00<00:00, 156.13it/s]\n",
      "Epoch 292/500: 100%|██████████| 17/17 [00:00<00:00, 170.29it/s]\n",
      "Epoch 293/500: 100%|██████████| 17/17 [00:00<00:00, 160.11it/s]\n",
      "Epoch 294/500: 100%|██████████| 17/17 [00:00<00:00, 165.29it/s]\n",
      "Epoch 295/500: 100%|██████████| 17/17 [00:00<00:00, 171.78it/s]\n"
     ]
    },
    {
     "name": "stdout",
     "output_type": "stream",
     "text": [
      "Epoch 295/500\n",
      "Train Loss: 0.1096, Val Loss: 0.4817\n",
      "Learning Rate: 0.001000\n",
      "--------------------------------------------------\n"
     ]
    },
    {
     "name": "stderr",
     "output_type": "stream",
     "text": [
      "Epoch 296/500: 100%|██████████| 17/17 [00:00<00:00, 165.22it/s]\n",
      "Epoch 297/500: 100%|██████████| 17/17 [00:00<00:00, 177.52it/s]\n",
      "Epoch 298/500: 100%|██████████| 17/17 [00:00<00:00, 156.00it/s]\n",
      "Epoch 299/500: 100%|██████████| 17/17 [00:00<00:00, 173.03it/s]\n",
      "Epoch 300/500: 100%|██████████| 17/17 [00:00<00:00, 159.89it/s]\n"
     ]
    },
    {
     "name": "stdout",
     "output_type": "stream",
     "text": [
      "Epoch 300/500\n",
      "Train Loss: 0.0821, Val Loss: 0.4260\n",
      "Learning Rate: 0.001000\n",
      "--------------------------------------------------\n"
     ]
    },
    {
     "name": "stderr",
     "output_type": "stream",
     "text": [
      "Epoch 301/500: 100%|██████████| 17/17 [00:00<00:00, 165.42it/s]\n",
      "Epoch 302/500: 100%|██████████| 17/17 [00:00<00:00, 156.76it/s]\n",
      "Epoch 303/500: 100%|██████████| 17/17 [00:00<00:00, 163.54it/s]\n",
      "Epoch 304/500: 100%|██████████| 17/17 [00:00<00:00, 166.62it/s]\n",
      "Epoch 305/500: 100%|██████████| 17/17 [00:00<00:00, 158.98it/s]\n"
     ]
    },
    {
     "name": "stdout",
     "output_type": "stream",
     "text": [
      "Epoch 305/500\n",
      "Train Loss: 0.0775, Val Loss: 0.4546\n",
      "Learning Rate: 0.001000\n",
      "--------------------------------------------------\n"
     ]
    },
    {
     "name": "stderr",
     "output_type": "stream",
     "text": [
      "Epoch 306/500: 100%|██████████| 17/17 [00:00<00:00, 161.68it/s]\n",
      "Epoch 307/500: 100%|██████████| 17/17 [00:00<00:00, 161.49it/s]\n",
      "Epoch 308/500: 100%|██████████| 17/17 [00:00<00:00, 170.06it/s]\n",
      "Epoch 309/500: 100%|██████████| 17/17 [00:00<00:00, 173.25it/s]\n",
      "Epoch 310/500: 100%|██████████| 17/17 [00:00<00:00, 173.68it/s]\n"
     ]
    },
    {
     "name": "stdout",
     "output_type": "stream",
     "text": [
      "Epoch 310/500\n",
      "Train Loss: 0.1031, Val Loss: 0.5251\n",
      "Learning Rate: 0.001000\n",
      "--------------------------------------------------\n"
     ]
    },
    {
     "name": "stderr",
     "output_type": "stream",
     "text": [
      "Epoch 311/500: 100%|██████████| 17/17 [00:00<00:00, 175.87it/s]\n",
      "Epoch 312/500: 100%|██████████| 17/17 [00:00<00:00, 171.45it/s]\n",
      "Epoch 313/500: 100%|██████████| 17/17 [00:00<00:00, 176.05it/s]\n",
      "Epoch 314/500: 100%|██████████| 17/17 [00:00<00:00, 163.24it/s]\n",
      "Epoch 315/500: 100%|██████████| 17/17 [00:00<00:00, 181.28it/s]\n"
     ]
    },
    {
     "name": "stdout",
     "output_type": "stream",
     "text": [
      "Epoch 315/500\n",
      "Train Loss: 0.1002, Val Loss: 0.4762\n",
      "Learning Rate: 0.001000\n",
      "--------------------------------------------------\n"
     ]
    },
    {
     "name": "stderr",
     "output_type": "stream",
     "text": [
      "Epoch 316/500: 100%|██████████| 17/17 [00:00<00:00, 175.21it/s]\n",
      "Epoch 317/500: 100%|██████████| 17/17 [00:00<00:00, 170.47it/s]\n",
      "Epoch 318/500: 100%|██████████| 17/17 [00:00<00:00, 172.14it/s]\n",
      "Epoch 319/500: 100%|██████████| 17/17 [00:00<00:00, 168.61it/s]\n",
      "Epoch 320/500: 100%|██████████| 17/17 [00:00<00:00, 157.22it/s]\n"
     ]
    },
    {
     "name": "stdout",
     "output_type": "stream",
     "text": [
      "Epoch 320/500\n",
      "Train Loss: 0.0763, Val Loss: 0.4977\n",
      "Learning Rate: 0.001000\n",
      "--------------------------------------------------\n"
     ]
    },
    {
     "name": "stderr",
     "output_type": "stream",
     "text": [
      "Epoch 321/500: 100%|██████████| 17/17 [00:00<00:00, 174.73it/s]\n",
      "Epoch 322/500: 100%|██████████| 17/17 [00:00<00:00, 154.37it/s]\n",
      "Epoch 323/500: 100%|██████████| 17/17 [00:00<00:00, 171.79it/s]\n",
      "Epoch 324/500: 100%|██████████| 17/17 [00:00<00:00, 168.84it/s]\n",
      "Epoch 325/500: 100%|██████████| 17/17 [00:00<00:00, 170.85it/s]\n"
     ]
    },
    {
     "name": "stdout",
     "output_type": "stream",
     "text": [
      "Epoch 325/500\n",
      "Train Loss: 0.0811, Val Loss: 0.5415\n",
      "Learning Rate: 0.001000\n",
      "--------------------------------------------------\n"
     ]
    },
    {
     "name": "stderr",
     "output_type": "stream",
     "text": [
      "Epoch 326/500: 100%|██████████| 17/17 [00:00<00:00, 173.15it/s]\n",
      "Epoch 327/500: 100%|██████████| 17/17 [00:00<00:00, 158.51it/s]\n",
      "Epoch 328/500: 100%|██████████| 17/17 [00:00<00:00, 169.27it/s]\n",
      "Epoch 329/500: 100%|██████████| 17/17 [00:00<00:00, 160.76it/s]\n",
      "Epoch 330/500: 100%|██████████| 17/17 [00:00<00:00, 149.51it/s]\n"
     ]
    },
    {
     "name": "stdout",
     "output_type": "stream",
     "text": [
      "Epoch 330/500\n",
      "Train Loss: 0.0718, Val Loss: 0.3875\n",
      "Learning Rate: 0.001000\n",
      "--------------------------------------------------\n"
     ]
    },
    {
     "name": "stderr",
     "output_type": "stream",
     "text": [
      "Epoch 331/500: 100%|██████████| 17/17 [00:00<00:00, 158.83it/s]\n",
      "Epoch 332/500: 100%|██████████| 17/17 [00:00<00:00, 171.90it/s]\n",
      "Epoch 333/500: 100%|██████████| 17/17 [00:00<00:00, 174.94it/s]\n",
      "Epoch 334/500: 100%|██████████| 17/17 [00:00<00:00, 175.46it/s]\n",
      "Epoch 335/500: 100%|██████████| 17/17 [00:00<00:00, 168.33it/s]\n"
     ]
    },
    {
     "name": "stdout",
     "output_type": "stream",
     "text": [
      "Epoch 335/500\n",
      "Train Loss: 0.0889, Val Loss: 0.4717\n",
      "Learning Rate: 0.001000\n",
      "--------------------------------------------------\n"
     ]
    },
    {
     "name": "stderr",
     "output_type": "stream",
     "text": [
      "Epoch 336/500: 100%|██████████| 17/17 [00:00<00:00, 171.26it/s]\n",
      "Epoch 337/500: 100%|██████████| 17/17 [00:00<00:00, 167.90it/s]\n",
      "Epoch 338/500: 100%|██████████| 17/17 [00:00<00:00, 178.27it/s]\n",
      "Epoch 339/500: 100%|██████████| 17/17 [00:00<00:00, 181.13it/s]\n",
      "Epoch 340/500: 100%|██████████| 17/17 [00:00<00:00, 168.47it/s]\n"
     ]
    },
    {
     "name": "stdout",
     "output_type": "stream",
     "text": [
      "Epoch 340/500\n",
      "Train Loss: 0.0710, Val Loss: 0.4309\n",
      "Learning Rate: 0.001000\n",
      "--------------------------------------------------\n"
     ]
    },
    {
     "name": "stderr",
     "output_type": "stream",
     "text": [
      "Epoch 341/500: 100%|██████████| 17/17 [00:00<00:00, 159.20it/s]\n",
      "Epoch 342/500: 100%|██████████| 17/17 [00:00<00:00, 167.55it/s]\n",
      "Epoch 343/500: 100%|██████████| 17/17 [00:00<00:00, 181.37it/s]\n",
      "Epoch 344/500: 100%|██████████| 17/17 [00:00<00:00, 166.15it/s]\n",
      "Epoch 345/500: 100%|██████████| 17/17 [00:00<00:00, 156.89it/s]\n"
     ]
    },
    {
     "name": "stdout",
     "output_type": "stream",
     "text": [
      "Epoch 345/500\n",
      "Train Loss: 0.0595, Val Loss: 0.4617\n",
      "Learning Rate: 0.001000\n",
      "--------------------------------------------------\n"
     ]
    },
    {
     "name": "stderr",
     "output_type": "stream",
     "text": [
      "Epoch 346/500: 100%|██████████| 17/17 [00:00<00:00, 177.03it/s]\n",
      "Epoch 347/500: 100%|██████████| 17/17 [00:00<00:00, 154.68it/s]\n",
      "Epoch 348/500: 100%|██████████| 17/17 [00:00<00:00, 158.67it/s]\n",
      "Epoch 349/500: 100%|██████████| 17/17 [00:00<00:00, 173.09it/s]\n",
      "Epoch 350/500: 100%|██████████| 17/17 [00:00<00:00, 159.00it/s]\n"
     ]
    },
    {
     "name": "stdout",
     "output_type": "stream",
     "text": [
      "Epoch 350/500\n",
      "Train Loss: 0.0650, Val Loss: 0.4519\n",
      "Learning Rate: 0.001000\n",
      "--------------------------------------------------\n"
     ]
    },
    {
     "name": "stderr",
     "output_type": "stream",
     "text": [
      "Epoch 351/500: 100%|██████████| 17/17 [00:00<00:00, 163.38it/s]\n",
      "Epoch 352/500: 100%|██████████| 17/17 [00:00<00:00, 171.91it/s]\n",
      "Epoch 353/500: 100%|██████████| 17/17 [00:00<00:00, 168.22it/s]\n",
      "Epoch 354/500: 100%|██████████| 17/17 [00:00<00:00, 161.99it/s]\n",
      "Epoch 355/500: 100%|██████████| 17/17 [00:00<00:00, 158.45it/s]\n"
     ]
    },
    {
     "name": "stdout",
     "output_type": "stream",
     "text": [
      "Epoch 355/500\n",
      "Train Loss: 0.0631, Val Loss: 0.4544\n",
      "Learning Rate: 0.001000\n",
      "--------------------------------------------------\n"
     ]
    },
    {
     "name": "stderr",
     "output_type": "stream",
     "text": [
      "Epoch 356/500: 100%|██████████| 17/17 [00:00<00:00, 172.34it/s]\n",
      "Epoch 357/500: 100%|██████████| 17/17 [00:00<00:00, 158.57it/s]\n",
      "Epoch 358/500: 100%|██████████| 17/17 [00:00<00:00, 158.93it/s]\n",
      "Epoch 359/500: 100%|██████████| 17/17 [00:00<00:00, 173.11it/s]\n",
      "Epoch 360/500: 100%|██████████| 17/17 [00:00<00:00, 159.03it/s]\n"
     ]
    },
    {
     "name": "stdout",
     "output_type": "stream",
     "text": [
      "Epoch 360/500\n",
      "Train Loss: 0.0616, Val Loss: 0.4189\n",
      "Learning Rate: 0.001000\n",
      "--------------------------------------------------\n"
     ]
    },
    {
     "name": "stderr",
     "output_type": "stream",
     "text": [
      "Epoch 361/500: 100%|██████████| 17/17 [00:00<00:00, 159.61it/s]\n",
      "Epoch 362/500: 100%|██████████| 17/17 [00:00<00:00, 171.68it/s]\n",
      "Epoch 363/500: 100%|██████████| 17/17 [00:00<00:00, 163.39it/s]\n",
      "Epoch 364/500: 100%|██████████| 17/17 [00:00<00:00, 161.47it/s]\n",
      "Epoch 365/500: 100%|██████████| 17/17 [00:00<00:00, 168.39it/s]\n"
     ]
    },
    {
     "name": "stdout",
     "output_type": "stream",
     "text": [
      "Epoch 365/500\n",
      "Train Loss: 0.0810, Val Loss: 0.4691\n",
      "Learning Rate: 0.001000\n",
      "--------------------------------------------------\n"
     ]
    },
    {
     "name": "stderr",
     "output_type": "stream",
     "text": [
      "Epoch 366/500: 100%|██████████| 17/17 [00:00<00:00, 175.85it/s]\n",
      "Epoch 367/500: 100%|██████████| 17/17 [00:00<00:00, 176.83it/s]\n",
      "Epoch 368/500: 100%|██████████| 17/17 [00:00<00:00, 175.30it/s]\n",
      "Epoch 369/500: 100%|██████████| 17/17 [00:00<00:00, 167.52it/s]\n",
      "Epoch 370/500: 100%|██████████| 17/17 [00:00<00:00, 163.96it/s]\n"
     ]
    },
    {
     "name": "stdout",
     "output_type": "stream",
     "text": [
      "Epoch 370/500\n",
      "Train Loss: 0.0696, Val Loss: 0.4067\n",
      "Learning Rate: 0.001000\n",
      "--------------------------------------------------\n"
     ]
    },
    {
     "name": "stderr",
     "output_type": "stream",
     "text": [
      "Epoch 371/500: 100%|██████████| 17/17 [00:00<00:00, 158.02it/s]\n",
      "Epoch 372/500: 100%|██████████| 17/17 [00:00<00:00, 168.41it/s]\n",
      "Epoch 373/500: 100%|██████████| 17/17 [00:00<00:00, 157.49it/s]\n",
      "Epoch 374/500: 100%|██████████| 17/17 [00:00<00:00, 169.99it/s]\n",
      "Epoch 375/500: 100%|██████████| 17/17 [00:00<00:00, 161.05it/s]\n"
     ]
    },
    {
     "name": "stdout",
     "output_type": "stream",
     "text": [
      "Epoch 375/500\n",
      "Train Loss: 0.0587, Val Loss: 0.4133\n",
      "Learning Rate: 0.001000\n",
      "--------------------------------------------------\n"
     ]
    },
    {
     "name": "stderr",
     "output_type": "stream",
     "text": [
      "Epoch 376/500: 100%|██████████| 17/17 [00:00<00:00, 163.42it/s]\n",
      "Epoch 377/500: 100%|██████████| 17/17 [00:00<00:00, 162.20it/s]\n",
      "Epoch 378/500: 100%|██████████| 17/17 [00:00<00:00, 166.45it/s]\n",
      "Epoch 379/500: 100%|██████████| 17/17 [00:00<00:00, 165.21it/s]\n",
      "Epoch 380/500: 100%|██████████| 17/17 [00:00<00:00, 168.46it/s]\n"
     ]
    },
    {
     "name": "stdout",
     "output_type": "stream",
     "text": [
      "Epoch 380/500\n",
      "Train Loss: 0.0588, Val Loss: 0.3612\n",
      "Learning Rate: 0.001000\n",
      "--------------------------------------------------\n"
     ]
    },
    {
     "name": "stderr",
     "output_type": "stream",
     "text": [
      "Epoch 381/500: 100%|██████████| 17/17 [00:00<00:00, 162.62it/s]\n",
      "Epoch 382/500: 100%|██████████| 17/17 [00:00<00:00, 158.92it/s]\n",
      "Epoch 383/500: 100%|██████████| 17/17 [00:00<00:00, 143.53it/s]\n",
      "Epoch 384/500: 100%|██████████| 17/17 [00:00<00:00, 175.42it/s]\n",
      "Epoch 385/500: 100%|██████████| 17/17 [00:00<00:00, 157.31it/s]\n"
     ]
    },
    {
     "name": "stdout",
     "output_type": "stream",
     "text": [
      "Epoch 385/500\n",
      "Train Loss: 0.0750, Val Loss: 0.4064\n",
      "Learning Rate: 0.001000\n",
      "--------------------------------------------------\n"
     ]
    },
    {
     "name": "stderr",
     "output_type": "stream",
     "text": [
      "Epoch 386/500: 100%|██████████| 17/17 [00:00<00:00, 163.62it/s]\n",
      "Epoch 387/500: 100%|██████████| 17/17 [00:00<00:00, 149.76it/s]\n",
      "Epoch 388/500: 100%|██████████| 17/17 [00:00<00:00, 151.32it/s]\n",
      "Epoch 389/500: 100%|██████████| 17/17 [00:00<00:00, 139.47it/s]\n",
      "Epoch 390/500: 100%|██████████| 17/17 [00:00<00:00, 153.82it/s]\n"
     ]
    },
    {
     "name": "stdout",
     "output_type": "stream",
     "text": [
      "Epoch 390/500\n",
      "Train Loss: 0.0946, Val Loss: 0.4390\n",
      "Learning Rate: 0.001000\n",
      "--------------------------------------------------\n"
     ]
    },
    {
     "name": "stderr",
     "output_type": "stream",
     "text": [
      "Epoch 391/500: 100%|██████████| 17/17 [00:00<00:00, 172.05it/s]\n",
      "Epoch 392/500: 100%|██████████| 17/17 [00:00<00:00, 172.83it/s]\n",
      "Epoch 393/500: 100%|██████████| 17/17 [00:00<00:00, 165.14it/s]\n",
      "Epoch 394/500: 100%|██████████| 17/17 [00:00<00:00, 178.85it/s]\n",
      "Epoch 395/500: 100%|██████████| 17/17 [00:00<00:00, 151.60it/s]\n"
     ]
    },
    {
     "name": "stdout",
     "output_type": "stream",
     "text": [
      "Epoch 395/500\n",
      "Train Loss: 0.0587, Val Loss: 0.4211\n",
      "Learning Rate: 0.001000\n",
      "--------------------------------------------------\n"
     ]
    },
    {
     "name": "stderr",
     "output_type": "stream",
     "text": [
      "Epoch 396/500: 100%|██████████| 17/17 [00:00<00:00, 157.55it/s]\n",
      "Epoch 397/500: 100%|██████████| 17/17 [00:00<00:00, 137.42it/s]\n",
      "Epoch 398/500: 100%|██████████| 17/17 [00:00<00:00, 160.57it/s]\n",
      "Epoch 399/500: 100%|██████████| 17/17 [00:00<00:00, 145.72it/s]\n",
      "Epoch 400/500: 100%|██████████| 17/17 [00:00<00:00, 170.75it/s]\n"
     ]
    },
    {
     "name": "stdout",
     "output_type": "stream",
     "text": [
      "Epoch 400/500\n",
      "Train Loss: 0.0638, Val Loss: 0.4383\n",
      "Learning Rate: 0.001000\n",
      "--------------------------------------------------\n"
     ]
    },
    {
     "name": "stderr",
     "output_type": "stream",
     "text": [
      "Epoch 401/500: 100%|██████████| 17/17 [00:00<00:00, 161.93it/s]\n",
      "Epoch 402/500: 100%|██████████| 17/17 [00:00<00:00, 159.58it/s]\n",
      "Epoch 403/500: 100%|██████████| 17/17 [00:00<00:00, 165.21it/s]\n",
      "Epoch 404/500: 100%|██████████| 17/17 [00:00<00:00, 166.42it/s]\n",
      "Epoch 405/500: 100%|██████████| 17/17 [00:00<00:00, 154.85it/s]\n"
     ]
    },
    {
     "name": "stdout",
     "output_type": "stream",
     "text": [
      "Epoch 405/500\n",
      "Train Loss: 0.0561, Val Loss: 0.3541\n",
      "Learning Rate: 0.001000\n",
      "--------------------------------------------------\n"
     ]
    },
    {
     "name": "stderr",
     "output_type": "stream",
     "text": [
      "Epoch 406/500: 100%|██████████| 17/17 [00:00<00:00, 140.47it/s]\n",
      "Epoch 407/500: 100%|██████████| 17/17 [00:00<00:00, 165.83it/s]\n",
      "Epoch 408/500: 100%|██████████| 17/17 [00:00<00:00, 168.00it/s]\n",
      "Epoch 409/500: 100%|██████████| 17/17 [00:00<00:00, 165.10it/s]\n",
      "Epoch 410/500: 100%|██████████| 17/17 [00:00<00:00, 160.38it/s]\n"
     ]
    },
    {
     "name": "stdout",
     "output_type": "stream",
     "text": [
      "Epoch 410/500\n",
      "Train Loss: 0.0701, Val Loss: 0.4083\n",
      "Learning Rate: 0.001000\n",
      "--------------------------------------------------\n"
     ]
    },
    {
     "name": "stderr",
     "output_type": "stream",
     "text": [
      "Epoch 411/500: 100%|██████████| 17/17 [00:00<00:00, 159.30it/s]\n",
      "Epoch 412/500: 100%|██████████| 17/17 [00:00<00:00, 121.58it/s]\n",
      "Epoch 413/500: 100%|██████████| 17/17 [00:00<00:00, 157.24it/s]\n",
      "Epoch 414/500: 100%|██████████| 17/17 [00:00<00:00, 163.32it/s]\n",
      "Epoch 415/500: 100%|██████████| 17/17 [00:00<00:00, 172.23it/s]\n"
     ]
    },
    {
     "name": "stdout",
     "output_type": "stream",
     "text": [
      "Epoch 415/500\n",
      "Train Loss: 0.0576, Val Loss: 0.4029\n",
      "Learning Rate: 0.001000\n",
      "--------------------------------------------------\n"
     ]
    },
    {
     "name": "stderr",
     "output_type": "stream",
     "text": [
      "Epoch 416/500: 100%|██████████| 17/17 [00:00<00:00, 175.58it/s]\n",
      "Epoch 417/500: 100%|██████████| 17/17 [00:00<00:00, 168.16it/s]\n",
      "Epoch 418/500: 100%|██████████| 17/17 [00:00<00:00, 178.37it/s]\n",
      "Epoch 419/500: 100%|██████████| 17/17 [00:00<00:00, 176.79it/s]\n",
      "Epoch 420/500: 100%|██████████| 17/17 [00:00<00:00, 184.33it/s]\n"
     ]
    },
    {
     "name": "stdout",
     "output_type": "stream",
     "text": [
      "Epoch 420/500\n",
      "Train Loss: 0.0868, Val Loss: 0.4409\n",
      "Learning Rate: 0.001000\n",
      "--------------------------------------------------\n"
     ]
    },
    {
     "name": "stderr",
     "output_type": "stream",
     "text": [
      "Epoch 421/500: 100%|██████████| 17/17 [00:00<00:00, 173.32it/s]\n",
      "Epoch 422/500: 100%|██████████| 17/17 [00:00<00:00, 158.96it/s]\n",
      "Epoch 423/500: 100%|██████████| 17/17 [00:00<00:00, 163.22it/s]\n",
      "Epoch 424/500: 100%|██████████| 17/17 [00:00<00:00, 154.18it/s]\n",
      "Epoch 425/500: 100%|██████████| 17/17 [00:00<00:00, 165.61it/s]\n"
     ]
    },
    {
     "name": "stdout",
     "output_type": "stream",
     "text": [
      "Epoch 425/500\n",
      "Train Loss: 0.0961, Val Loss: 0.3844\n",
      "Learning Rate: 0.001000\n",
      "--------------------------------------------------\n"
     ]
    },
    {
     "name": "stderr",
     "output_type": "stream",
     "text": [
      "Epoch 426/500: 100%|██████████| 17/17 [00:00<00:00, 160.12it/s]\n",
      "Epoch 427/500: 100%|██████████| 17/17 [00:00<00:00, 157.90it/s]\n",
      "Epoch 428/500: 100%|██████████| 17/17 [00:00<00:00, 158.54it/s]\n",
      "Epoch 429/500: 100%|██████████| 17/17 [00:00<00:00, 167.10it/s]\n",
      "Epoch 430/500: 100%|██████████| 17/17 [00:00<00:00, 165.08it/s]\n"
     ]
    },
    {
     "name": "stdout",
     "output_type": "stream",
     "text": [
      "Epoch 430/500\n",
      "Train Loss: 0.0847, Val Loss: 0.3965\n",
      "Learning Rate: 0.001000\n",
      "--------------------------------------------------\n"
     ]
    },
    {
     "name": "stderr",
     "output_type": "stream",
     "text": [
      "Epoch 431/500: 100%|██████████| 17/17 [00:00<00:00, 157.44it/s]\n",
      "Epoch 432/500: 100%|██████████| 17/17 [00:00<00:00, 170.22it/s]\n",
      "Epoch 433/500: 100%|██████████| 17/17 [00:00<00:00, 166.54it/s]\n",
      "Epoch 434/500: 100%|██████████| 17/17 [00:00<00:00, 163.93it/s]\n",
      "Epoch 435/500: 100%|██████████| 17/17 [00:00<00:00, 156.71it/s]\n"
     ]
    },
    {
     "name": "stdout",
     "output_type": "stream",
     "text": [
      "Epoch 435/500\n",
      "Train Loss: 0.0799, Val Loss: 0.3443\n",
      "Learning Rate: 0.001000\n",
      "--------------------------------------------------\n"
     ]
    },
    {
     "name": "stderr",
     "output_type": "stream",
     "text": [
      "Epoch 436/500: 100%|██████████| 17/17 [00:00<00:00, 158.68it/s]\n",
      "Epoch 437/500: 100%|██████████| 17/17 [00:00<00:00, 163.69it/s]\n",
      "Epoch 438/500: 100%|██████████| 17/17 [00:00<00:00, 159.48it/s]\n",
      "Epoch 439/500: 100%|██████████| 17/17 [00:00<00:00, 163.61it/s]\n",
      "Epoch 440/500: 100%|██████████| 17/17 [00:00<00:00, 166.12it/s]\n"
     ]
    },
    {
     "name": "stdout",
     "output_type": "stream",
     "text": [
      "Epoch 440/500\n",
      "Train Loss: 0.0594, Val Loss: 0.3809\n",
      "Learning Rate: 0.001000\n",
      "--------------------------------------------------\n"
     ]
    },
    {
     "name": "stderr",
     "output_type": "stream",
     "text": [
      "Epoch 441/500: 100%|██████████| 17/17 [00:00<00:00, 159.10it/s]\n",
      "Epoch 442/500: 100%|██████████| 17/17 [00:00<00:00, 169.93it/s]\n",
      "Epoch 443/500: 100%|██████████| 17/17 [00:00<00:00, 156.78it/s]\n",
      "Epoch 444/500: 100%|██████████| 17/17 [00:00<00:00, 168.15it/s]\n",
      "Epoch 445/500: 100%|██████████| 17/17 [00:00<00:00, 162.77it/s]\n"
     ]
    },
    {
     "name": "stdout",
     "output_type": "stream",
     "text": [
      "Epoch 445/500\n",
      "Train Loss: 0.0530, Val Loss: 0.3574\n",
      "Learning Rate: 0.001000\n",
      "--------------------------------------------------\n"
     ]
    },
    {
     "name": "stderr",
     "output_type": "stream",
     "text": [
      "Epoch 446/500: 100%|██████████| 17/17 [00:00<00:00, 161.89it/s]\n",
      "Epoch 447/500: 100%|██████████| 17/17 [00:00<00:00, 159.24it/s]\n",
      "Epoch 448/500: 100%|██████████| 17/17 [00:00<00:00, 165.84it/s]\n",
      "Epoch 449/500: 100%|██████████| 17/17 [00:00<00:00, 164.62it/s]\n",
      "Epoch 450/500: 100%|██████████| 17/17 [00:00<00:00, 167.12it/s]\n"
     ]
    },
    {
     "name": "stdout",
     "output_type": "stream",
     "text": [
      "Epoch 450/500\n",
      "Train Loss: 0.0657, Val Loss: 0.4086\n",
      "Learning Rate: 0.001000\n",
      "--------------------------------------------------\n"
     ]
    },
    {
     "name": "stderr",
     "output_type": "stream",
     "text": [
      "Epoch 451/500: 100%|██████████| 17/17 [00:00<00:00, 157.02it/s]\n",
      "Epoch 452/500: 100%|██████████| 17/17 [00:00<00:00, 163.82it/s]\n",
      "Epoch 453/500: 100%|██████████| 17/17 [00:00<00:00, 166.11it/s]\n",
      "Epoch 454/500: 100%|██████████| 17/17 [00:00<00:00, 164.84it/s]\n",
      "Epoch 455/500: 100%|██████████| 17/17 [00:00<00:00, 163.50it/s]\n"
     ]
    },
    {
     "name": "stdout",
     "output_type": "stream",
     "text": [
      "Epoch 455/500\n",
      "Train Loss: 0.0615, Val Loss: 0.4345\n",
      "Learning Rate: 0.001000\n",
      "--------------------------------------------------\n"
     ]
    },
    {
     "name": "stderr",
     "output_type": "stream",
     "text": [
      "Epoch 456/500: 100%|██████████| 17/17 [00:00<00:00, 116.42it/s]\n",
      "Epoch 457/500: 100%|██████████| 17/17 [00:00<00:00, 144.80it/s]\n",
      "Epoch 458/500: 100%|██████████| 17/17 [00:00<00:00, 155.48it/s]\n",
      "Epoch 459/500: 100%|██████████| 17/17 [00:00<00:00, 164.88it/s]\n",
      "Epoch 460/500: 100%|██████████| 17/17 [00:00<00:00, 163.47it/s]\n"
     ]
    },
    {
     "name": "stdout",
     "output_type": "stream",
     "text": [
      "Epoch 460/500\n",
      "Train Loss: 0.0554, Val Loss: 0.5035\n",
      "Learning Rate: 0.001000\n",
      "--------------------------------------------------\n"
     ]
    },
    {
     "name": "stderr",
     "output_type": "stream",
     "text": [
      "Epoch 461/500: 100%|██████████| 17/17 [00:00<00:00, 164.39it/s]\n",
      "Epoch 462/500: 100%|██████████| 17/17 [00:00<00:00, 172.01it/s]\n",
      "Epoch 463/500: 100%|██████████| 17/17 [00:00<00:00, 149.92it/s]\n",
      "Epoch 464/500: 100%|██████████| 17/17 [00:00<00:00, 169.16it/s]\n",
      "Epoch 465/500: 100%|██████████| 17/17 [00:00<00:00, 167.72it/s]\n"
     ]
    },
    {
     "name": "stdout",
     "output_type": "stream",
     "text": [
      "Epoch 465/500\n",
      "Train Loss: 0.0510, Val Loss: 0.4456\n",
      "Learning Rate: 0.001000\n",
      "--------------------------------------------------\n"
     ]
    },
    {
     "name": "stderr",
     "output_type": "stream",
     "text": [
      "Epoch 466/500: 100%|██████████| 17/17 [00:00<00:00, 165.38it/s]\n",
      "Epoch 467/500: 100%|██████████| 17/17 [00:00<00:00, 167.97it/s]\n",
      "Epoch 468/500: 100%|██████████| 17/17 [00:00<00:00, 168.12it/s]\n",
      "Epoch 469/500: 100%|██████████| 17/17 [00:00<00:00, 165.90it/s]\n",
      "Epoch 470/500: 100%|██████████| 17/17 [00:00<00:00, 158.15it/s]\n"
     ]
    },
    {
     "name": "stdout",
     "output_type": "stream",
     "text": [
      "Epoch 470/500\n",
      "Train Loss: 0.0932, Val Loss: 0.3625\n",
      "Learning Rate: 0.001000\n",
      "--------------------------------------------------\n"
     ]
    },
    {
     "name": "stderr",
     "output_type": "stream",
     "text": [
      "Epoch 471/500: 100%|██████████| 17/17 [00:00<00:00, 174.91it/s]\n",
      "Epoch 472/500: 100%|██████████| 17/17 [00:00<00:00, 161.08it/s]\n",
      "Epoch 473/500: 100%|██████████| 17/17 [00:00<00:00, 157.29it/s]\n",
      "Epoch 474/500: 100%|██████████| 17/17 [00:00<00:00, 168.52it/s]\n",
      "Epoch 475/500: 100%|██████████| 17/17 [00:00<00:00, 167.07it/s]\n"
     ]
    },
    {
     "name": "stdout",
     "output_type": "stream",
     "text": [
      "Epoch 475/500\n",
      "Train Loss: 0.0908, Val Loss: 0.4012\n",
      "Learning Rate: 0.001000\n",
      "--------------------------------------------------\n"
     ]
    },
    {
     "name": "stderr",
     "output_type": "stream",
     "text": [
      "Epoch 476/500: 100%|██████████| 17/17 [00:00<00:00, 156.18it/s]\n",
      "Epoch 477/500: 100%|██████████| 17/17 [00:00<00:00, 166.61it/s]\n",
      "Epoch 478/500: 100%|██████████| 17/17 [00:00<00:00, 163.23it/s]\n",
      "Epoch 479/500: 100%|██████████| 17/17 [00:00<00:00, 166.94it/s]\n",
      "Epoch 480/500: 100%|██████████| 17/17 [00:00<00:00, 159.15it/s]\n"
     ]
    },
    {
     "name": "stdout",
     "output_type": "stream",
     "text": [
      "Epoch 480/500\n",
      "Train Loss: 0.0887, Val Loss: 0.3742\n",
      "Learning Rate: 0.001000\n",
      "--------------------------------------------------\n"
     ]
    },
    {
     "name": "stderr",
     "output_type": "stream",
     "text": [
      "Epoch 481/500: 100%|██████████| 17/17 [00:00<00:00, 165.11it/s]\n",
      "Epoch 482/500: 100%|██████████| 17/17 [00:00<00:00, 157.61it/s]\n",
      "Epoch 483/500: 100%|██████████| 17/17 [00:00<00:00, 173.16it/s]\n",
      "Epoch 484/500: 100%|██████████| 17/17 [00:00<00:00, 157.82it/s]\n",
      "Epoch 485/500: 100%|██████████| 17/17 [00:00<00:00, 167.34it/s]\n"
     ]
    },
    {
     "name": "stdout",
     "output_type": "stream",
     "text": [
      "Epoch 485/500\n",
      "Train Loss: 0.0912, Val Loss: 0.3562\n",
      "Learning Rate: 0.001000\n",
      "--------------------------------------------------\n"
     ]
    },
    {
     "name": "stderr",
     "output_type": "stream",
     "text": [
      "Epoch 486/500: 100%|██████████| 17/17 [00:00<00:00, 162.68it/s]\n",
      "Epoch 487/500: 100%|██████████| 17/17 [00:00<00:00, 171.90it/s]\n",
      "Epoch 488/500: 100%|██████████| 17/17 [00:00<00:00, 175.90it/s]\n",
      "Epoch 489/500: 100%|██████████| 17/17 [00:00<00:00, 175.58it/s]\n",
      "Epoch 490/500: 100%|██████████| 17/17 [00:00<00:00, 168.55it/s]\n"
     ]
    },
    {
     "name": "stdout",
     "output_type": "stream",
     "text": [
      "Epoch 490/500\n",
      "Train Loss: 0.0986, Val Loss: 0.3732\n",
      "Learning Rate: 0.001000\n",
      "--------------------------------------------------\n"
     ]
    },
    {
     "name": "stderr",
     "output_type": "stream",
     "text": [
      "Epoch 491/500: 100%|██████████| 17/17 [00:00<00:00, 166.43it/s]\n",
      "Epoch 492/500: 100%|██████████| 17/17 [00:00<00:00, 159.93it/s]\n",
      "Epoch 493/500: 100%|██████████| 17/17 [00:00<00:00, 163.52it/s]\n",
      "Epoch 494/500: 100%|██████████| 17/17 [00:00<00:00, 164.47it/s]\n",
      "Epoch 495/500: 100%|██████████| 17/17 [00:00<00:00, 167.09it/s]\n"
     ]
    },
    {
     "name": "stdout",
     "output_type": "stream",
     "text": [
      "Epoch 495/500\n",
      "Train Loss: 0.0776, Val Loss: 0.3619\n",
      "Learning Rate: 0.001000\n",
      "--------------------------------------------------\n"
     ]
    },
    {
     "name": "stderr",
     "output_type": "stream",
     "text": [
      "Epoch 496/500: 100%|██████████| 17/17 [00:00<00:00, 165.11it/s]\n",
      "Epoch 497/500: 100%|██████████| 17/17 [00:00<00:00, 157.35it/s]\n",
      "Epoch 498/500: 100%|██████████| 17/17 [00:00<00:00, 171.10it/s]\n",
      "Epoch 499/500: 100%|██████████| 17/17 [00:00<00:00, 162.95it/s]\n",
      "Epoch 500/500: 100%|██████████| 17/17 [00:00<00:00, 166.51it/s]\n"
     ]
    },
    {
     "name": "stdout",
     "output_type": "stream",
     "text": [
      "Epoch 500/500\n",
      "Train Loss: 0.0854, Val Loss: 0.4110\n",
      "Learning Rate: 0.001000\n",
      "--------------------------------------------------\n",
      "\n",
      "Test MSE: 0.3608\n",
      "Test MAE: 0.3502\n",
      "Test R²:  0.5970\n"
     ]
    },
    {
     "data": {
      "image/png": "[encoded data removed]",
      "text/plain": [
       "<Figure size 1500x500 with 2 Axes>"
      ]
     },
     "metadata": {},
     "output_type": "display_data"
    },
    {
     "name": "stdout",
     "output_type": "stream",
     "text": [
      "\n",
      "Model saved as 'lstm_model_em_max_onehot.pth'\n"
     ]
    }
   ],
   "source": [
    "\"\"\"Main training pipeline.\"\"\"\n",
    "TARGET_PROPERTY = 'em_max'  # Change this to predict different properties\n",
    "\n",
    "# Available properties from your dataset:\n",
    "# brightness, ex_max, em_max, ext_coeff, lifetime, maturation, pka, stokes_shift, qy, agg, switch_type\n",
    "\n",
    "# Hyperparameters\n",
    "MAX_LENGTH = 256\n",
    "BATCH_SIZE = 64\n",
    "NUM_EPOCHS = 500\n",
    "LEARNING_RATE = 0.001\n",
    "\n",
    "# sample_batch = next(iter(train_loader))[0]\n",
    "# embedding_dim = sample_batch.shape[-1]\n",
    "\n",
    "\n",
    "# Instantiate the new model\n",
    "# выбор между EmbeddingLSTM и ProteinLSTM\n",
    "model = ProteinLSTM(\n",
    "    hidden_dim=128,\n",
    "    num_layers=1,\n",
    "    output_dim=1,\n",
    "    dropout=0.3,\n",
    "    bidirectional=True\n",
    ")\n",
    "\n",
    "# Train the model\n",
    "print(train_loader.dataset.tensors)\n",
    "trained_model, train_losses, val_losses = train_model(\n",
    "    model, train_loader, val_loader, NUM_EPOCHS, LEARNING_RATE\n",
    ")\n",
    "\n",
    "# Evaluate\n",
    "predictions1, true_values, mse, mae, r2 = evaluate_model(\n",
    "    trained_model, test_loader, dataset_test, TARGET_PROPERTY\n",
    ")\n",
    "\n",
    "# Plot\n",
    "plot_results(train_losses, val_losses, predictions1, true_values, TARGET_PROPERTY)\n",
    "\n",
    "# Save model \n",
    "torch.save(trained_model.state_dict(), f'lstm_model_{TARGET_PROPERTY}_onehot.pth')\n",
    "print(f\"\\nModel saved as 'lstm_model_{TARGET_PROPERTY}_onehot.pth'\")\n"
   ]
  },
  {
   "cell_type": "code",
   "execution_count": null,
   "id": "fce8b481",
   "metadata": {},
   "outputs": [],
   "source": []
  },
  {
   "cell_type": "markdown",
   "id": "aaa5199b",
   "metadata": {},
   "source": [
    "<h3>Работа с EmbeddingLSTM</h3>"
   ]
  },
  {
   "cell_type": "code",
   "execution_count": 24,
   "id": "a3405fc4",
   "metadata": {},
   "outputs": [
    {
     "name": "stdout",
     "output_type": "stream",
     "text": [
      "[tensor([[[ 0.0095, -0.0037,  0.0018,  ...,  0.0035, -0.0043, -0.0087],\n",
      "         [-0.0076,  0.0092,  0.0323,  ...,  0.0323,  0.0138,  0.0291],\n",
      "         [-0.0265, -0.0081,  0.0192,  ...,  0.0494, -0.0138,  0.0302],\n",
      "         ...,\n",
      "         [ 0.0000,  0.0000,  0.0000,  ...,  0.0000,  0.0000,  0.0000],\n",
      "         [ 0.0000,  0.0000,  0.0000,  ...,  0.0000,  0.0000,  0.0000],\n",
      "         [ 0.0000,  0.0000,  0.0000,  ...,  0.0000,  0.0000,  0.0000]],\n",
      "\n",
      "        [[ 0.0086, -0.0076,  0.0013,  ...,  0.0053, -0.0034, -0.0081],\n",
      "         [-0.0002, -0.0009,  0.0273,  ...,  0.0316,  0.0068,  0.0232],\n",
      "         [-0.0430, -0.0011,  0.0155,  ...,  0.0350, -0.0010,  0.0321],\n",
      "         ...,\n",
      "         [ 0.0000,  0.0000,  0.0000,  ...,  0.0000,  0.0000,  0.0000],\n",
      "         [ 0.0000,  0.0000,  0.0000,  ...,  0.0000,  0.0000,  0.0000],\n",
      "         [ 0.0000,  0.0000,  0.0000,  ...,  0.0000,  0.0000,  0.0000]],\n",
      "\n",
      "        [[ 0.0110, -0.0042,  0.0029,  ...,  0.0046, -0.0053, -0.0088],\n",
      "         [-0.0016,  0.0108,  0.0379,  ...,  0.0333,  0.0155,  0.0292],\n",
      "         [-0.0247, -0.0108,  0.0198,  ...,  0.0479, -0.0159,  0.0293],\n",
      "         ...,\n",
      "         [ 0.0000,  0.0000,  0.0000,  ...,  0.0000,  0.0000,  0.0000],\n",
      "         [ 0.0000,  0.0000,  0.0000,  ...,  0.0000,  0.0000,  0.0000],\n",
      "         [ 0.0000,  0.0000,  0.0000,  ...,  0.0000,  0.0000,  0.0000]],\n",
      "\n",
      "        ...,\n",
      "\n",
      "        [[ 0.0052, -0.0004,  0.0025,  ...,  0.0020, -0.0013, -0.0093],\n",
      "         [-0.0004,  0.0060,  0.0227,  ...,  0.0214,  0.0269,  0.0126],\n",
      "         [-0.0557,  0.0050,  0.0340,  ...,  0.0270, -0.0019,  0.0148],\n",
      "         ...,\n",
      "         [ 0.0000,  0.0000,  0.0000,  ...,  0.0000,  0.0000,  0.0000],\n",
      "         [ 0.0000,  0.0000,  0.0000,  ...,  0.0000,  0.0000,  0.0000],\n",
      "         [ 0.0000,  0.0000,  0.0000,  ...,  0.0000,  0.0000,  0.0000]],\n",
      "\n",
      "        [[ 0.0097, -0.0003,  0.0050,  ...,  0.0049, -0.0037, -0.0066],\n",
      "         [-0.0107,  0.0347,  0.0157,  ...,  0.0299,  0.0053, -0.0031],\n",
      "         [-0.0345,  0.0015,  0.0087,  ...,  0.0372, -0.0228,  0.0480],\n",
      "         ...,\n",
      "         [ 0.0000,  0.0000,  0.0000,  ...,  0.0000,  0.0000,  0.0000],\n",
      "         [ 0.0000,  0.0000,  0.0000,  ...,  0.0000,  0.0000,  0.0000],\n",
      "         [ 0.0000,  0.0000,  0.0000,  ...,  0.0000,  0.0000,  0.0000]],\n",
      "\n",
      "        [[ 0.0027,  0.0003,  0.0024,  ...,  0.0063, -0.0033, -0.0112],\n",
      "         [-0.0004, -0.0211,  0.0466,  ...,  0.0376,  0.0033,  0.0283],\n",
      "         [-0.0224,  0.0078,  0.0131,  ...,  0.0517,  0.0017,  0.0221],\n",
      "         ...,\n",
      "         [ 0.0000,  0.0000,  0.0000,  ...,  0.0000,  0.0000,  0.0000],\n",
      "         [ 0.0000,  0.0000,  0.0000,  ...,  0.0000,  0.0000,  0.0000],\n",
      "         [ 0.0000,  0.0000,  0.0000,  ...,  0.0000,  0.0000,  0.0000]]]), tensor([-0.2524, -1.0305, -0.5325, -0.5169, -0.5325, -0.9060,  1.3506,  2.4712,\n",
      "         0.6503,  1.2884,  1.6619, -0.5014, -1.3574, -0.2991, -0.3769,  0.6814,\n",
      "        -0.1901,  1.7397, -0.6103, -0.4858,  1.0394, -1.3262, -0.5325, -0.7971,\n",
      "        -0.5948, -0.2057,  1.1327, -0.5169, -0.5325,  0.6503, -0.4391, -0.7504])]\n",
      "torch.Size([32, 739, 960])\n"
     ]
    }
   ],
   "source": [
    "for i in train_loader:\n",
    "    print(i)\n",
    "    print(i[0].shape)\n",
    "    break"
   ]
  },
  {
   "cell_type": "code",
   "execution_count": 32,
   "id": "00e2757f",
   "metadata": {
    "scrolled": true
   },
   "outputs": [
    {
     "ename": "NameError",
     "evalue": "name 'EmbeddingLSTM' is not defined",
     "output_type": "error",
     "traceback": [
      "\u001b[1;31m---------------------------------------------------------------------------\u001b[0m",
      "\u001b[1;31mNameError\u001b[0m                                 Traceback (most recent call last)",
      "Cell \u001b[1;32mIn[32], line 17\u001b[0m\n\u001b[0;32m     13\u001b[0m embedding_dim \u001b[38;5;241m=\u001b[39m sample_batch\u001b[38;5;241m.\u001b[39mshape[\u001b[38;5;241m-\u001b[39m\u001b[38;5;241m1\u001b[39m]\n\u001b[0;32m     15\u001b[0m \u001b[38;5;66;03m# Instantiate the new model\u001b[39;00m\n\u001b[0;32m     16\u001b[0m \u001b[38;5;66;03m# выбор между EmbeddingLSTM и ProteinLSTM\u001b[39;00m\n\u001b[1;32m---> 17\u001b[0m model \u001b[38;5;241m=\u001b[39m \u001b[43mEmbeddingLSTM\u001b[49m(\n\u001b[0;32m     18\u001b[0m     embed_dim\u001b[38;5;241m=\u001b[39membedding_dim,\n\u001b[0;32m     19\u001b[0m     hidden_size\u001b[38;5;241m=\u001b[39m\u001b[38;5;241m128\u001b[39m,\n\u001b[0;32m     20\u001b[0m     num_layers\u001b[38;5;241m=\u001b[39m\u001b[38;5;241m2\u001b[39m,\n\u001b[0;32m     21\u001b[0m     dropout_rate\u001b[38;5;241m=\u001b[39m\u001b[38;5;241m0.1\u001b[39m\n\u001b[0;32m     22\u001b[0m )\u001b[38;5;241m.\u001b[39mto(device)\n\u001b[0;32m     24\u001b[0m \u001b[38;5;66;03m# Train the model\u001b[39;00m\n\u001b[0;32m     25\u001b[0m trained_model, train_losses, val_losses \u001b[38;5;241m=\u001b[39m train_model(\n\u001b[0;32m     26\u001b[0m     model, train_loader, val_loader, NUM_EPOCHS, LEARNING_RATE\n\u001b[0;32m     27\u001b[0m )\n",
      "\u001b[1;31mNameError\u001b[0m: name 'EmbeddingLSTM' is not defined"
     ]
    }
   ],
   "source": [
    "\"\"\"Main training pipeline.\"\"\"\n",
    "TARGET_PROPERTY = 'em_max'  # Change this to predict different properties\n",
    "\n",
    "# Available properties from your dataset:\n",
    "# brightness, ex_max, em_max, ext_coeff, lifetime, maturation, pka, stokes_shift, qy, agg, switch_type\n",
    "\n",
    "# Hyperparameters\n",
    "MAX_LENGTH = 238\n",
    "NUM_EPOCHS = 100\n",
    "LEARNING_RATE = 0.001\n",
    "\n",
    "sample_batch = next(iter(train_loader))[0]\n",
    "embedding_dim = sample_batch.shape[-1]\n",
    "\n",
    "# Instantiate the new model\n",
    "# выбор между EmbeddingLSTM и ProteinLSTM\n",
    "model = EmbeddingLSTM(\n",
    "    embed_dim=embedding_dim,\n",
    "    hidden_size=128,\n",
    "    num_layers=2,\n",
    "    dropout_rate=0.1\n",
    ").to(device)\n",
    "\n",
    "# Train the model\n",
    "trained_model, train_losses, val_losses = train_model(\n",
    "    model, train_loader, val_loader, NUM_EPOCHS, LEARNING_RATE\n",
    ")\n",
    "\n",
    "# Evaluate\n",
    "predictions1, true_values, mse, mae, r2 = evaluate_model(\n",
    "    trained_model, test_loader, dataset_test, TARGET_PROPERTY\n",
    ")\n",
    "\n",
    "# Plot\n",
    "plot_results(train_losses, val_losses, predictions1, true_values, TARGET_PROPERTY)\n",
    "\n",
    "# Save model\n",
    "torch.save(trained_model.state_dict(), f'weights/lstm_model_{TARGET_PROPERTY}_embeddings.pth')\n",
    "print(f\"\\nModel saved as 'lstm_model_{TARGET_PROPERTY}_embeddings.pth'\")\n"
   ]
  },
  {
   "cell_type": "code",
   "execution_count": null,
   "id": "24ac8857",
   "metadata": {},
   "outputs": [],
   "source": []
  },
  {
   "cell_type": "markdown",
   "id": "13fd3a20",
   "metadata": {},
   "source": [
    "### Работа с CNN + ESM C"
   ]
  },
  {
   "cell_type": "code",
   "execution_count": 30,
   "id": "d9f8376c",
   "metadata": {},
   "outputs": [
    {
     "name": "stdout",
     "output_type": "stream",
     "text": [
      "Training on cuda\n",
      "Number of parameters: 833,329\n"
     ]
    },
    {
     "name": "stderr",
     "output_type": "stream",
     "text": [
      "Epoch 1/100:   0%|          | 0/17 [00:00<?, ?it/s]"
     ]
    },
    {
     "name": "stderr",
     "output_type": "stream",
     "text": [
      "Epoch 1/100: 100%|██████████| 17/17 [00:02<00:00,  5.74it/s]\n",
      "Epoch 2/100: 100%|██████████| 17/17 [00:01<00:00, 11.50it/s]\n",
      "Epoch 3/100: 100%|██████████| 17/17 [00:02<00:00,  7.13it/s]\n",
      "Epoch 4/100: 100%|██████████| 17/17 [00:01<00:00, 12.79it/s]\n",
      "Epoch 5/100: 100%|██████████| 17/17 [00:01<00:00, 14.98it/s]\n"
     ]
    },
    {
     "name": "stdout",
     "output_type": "stream",
     "text": [
      "Epoch 5/100\n",
      "Train Loss: 0.8638, Val Loss: 0.7820\n",
      "Learning Rate: 0.000100\n",
      "--------------------------------------------------\n"
     ]
    },
    {
     "name": "stderr",
     "output_type": "stream",
     "text": [
      "Epoch 6/100: 100%|██████████| 17/17 [00:01<00:00, 13.33it/s]\n",
      "Epoch 7/100: 100%|██████████| 17/17 [00:00<00:00, 19.57it/s]\n",
      "Epoch 8/100: 100%|██████████| 17/17 [00:00<00:00, 22.27it/s]\n",
      "Epoch 9/100: 100%|██████████| 17/17 [00:00<00:00, 22.37it/s]\n",
      "Epoch 10/100: 100%|██████████| 17/17 [00:00<00:00, 22.64it/s]\n"
     ]
    },
    {
     "name": "stdout",
     "output_type": "stream",
     "text": [
      "Epoch 10/100\n",
      "Train Loss: 0.4974, Val Loss: 0.3716\n",
      "Learning Rate: 0.000100\n",
      "--------------------------------------------------\n"
     ]
    },
    {
     "name": "stderr",
     "output_type": "stream",
     "text": [
      "Epoch 11/100: 100%|██████████| 17/17 [00:00<00:00, 23.69it/s]\n",
      "Epoch 12/100: 100%|██████████| 17/17 [00:00<00:00, 22.96it/s]\n",
      "Epoch 13/100: 100%|██████████| 17/17 [00:00<00:00, 24.48it/s]\n",
      "Epoch 14/100: 100%|██████████| 17/17 [00:00<00:00, 25.18it/s]\n",
      "Epoch 15/100: 100%|██████████| 17/17 [00:00<00:00, 24.04it/s]\n"
     ]
    },
    {
     "name": "stdout",
     "output_type": "stream",
     "text": [
      "Epoch 15/100\n",
      "Train Loss: 0.3625, Val Loss: 0.3286\n",
      "Learning Rate: 0.000100\n",
      "--------------------------------------------------\n"
     ]
    },
    {
     "name": "stderr",
     "output_type": "stream",
     "text": [
      "Epoch 16/100: 100%|██████████| 17/17 [00:00<00:00, 23.87it/s]\n",
      "Epoch 17/100: 100%|██████████| 17/17 [00:00<00:00, 21.14it/s]\n",
      "Epoch 18/100: 100%|██████████| 17/17 [00:00<00:00, 20.88it/s]\n",
      "Epoch 19/100: 100%|██████████| 17/17 [00:00<00:00, 19.46it/s]\n",
      "Epoch 20/100: 100%|██████████| 17/17 [00:00<00:00, 21.49it/s]\n"
     ]
    },
    {
     "name": "stdout",
     "output_type": "stream",
     "text": [
      "Epoch 20/100\n",
      "Train Loss: 0.3299, Val Loss: 0.3348\n",
      "Learning Rate: 0.000100\n",
      "--------------------------------------------------\n"
     ]
    },
    {
     "name": "stderr",
     "output_type": "stream",
     "text": [
      "Epoch 21/100: 100%|██████████| 17/17 [00:00<00:00, 19.26it/s]\n",
      "Epoch 22/100: 100%|██████████| 17/17 [00:01<00:00, 15.57it/s]\n",
      "Epoch 23/100: 100%|██████████| 17/17 [00:01<00:00, 16.08it/s]\n",
      "Epoch 24/100: 100%|██████████| 17/17 [00:01<00:00, 15.98it/s]\n",
      "Epoch 25/100: 100%|██████████| 17/17 [00:00<00:00, 18.39it/s]\n"
     ]
    },
    {
     "name": "stdout",
     "output_type": "stream",
     "text": [
      "Epoch 25/100\n",
      "Train Loss: 0.2940, Val Loss: 0.2832\n",
      "Learning Rate: 0.000100\n",
      "--------------------------------------------------\n"
     ]
    },
    {
     "name": "stderr",
     "output_type": "stream",
     "text": [
      "Epoch 26/100: 100%|██████████| 17/17 [00:00<00:00, 18.85it/s]\n",
      "Epoch 27/100: 100%|██████████| 17/17 [00:00<00:00, 20.02it/s]\n",
      "Epoch 28/100: 100%|██████████| 17/17 [00:00<00:00, 20.70it/s]\n",
      "Epoch 29/100: 100%|██████████| 17/17 [00:00<00:00, 19.97it/s]\n",
      "Epoch 30/100: 100%|██████████| 17/17 [00:00<00:00, 20.40it/s]\n"
     ]
    },
    {
     "name": "stdout",
     "output_type": "stream",
     "text": [
      "Epoch 30/100\n",
      "Train Loss: 0.2687, Val Loss: 0.3196\n",
      "Learning Rate: 0.000100\n",
      "--------------------------------------------------\n"
     ]
    },
    {
     "name": "stderr",
     "output_type": "stream",
     "text": [
      "Epoch 31/100: 100%|██████████| 17/17 [00:00<00:00, 20.63it/s]\n",
      "Epoch 32/100: 100%|██████████| 17/17 [00:00<00:00, 20.99it/s]\n",
      "Epoch 33/100: 100%|██████████| 17/17 [00:00<00:00, 19.46it/s]\n",
      "Epoch 34/100: 100%|██████████| 17/17 [00:00<00:00, 20.47it/s]\n",
      "Epoch 35/100: 100%|██████████| 17/17 [00:00<00:00, 20.39it/s]\n"
     ]
    },
    {
     "name": "stdout",
     "output_type": "stream",
     "text": [
      "Epoch 35/100\n",
      "Train Loss: 0.2394, Val Loss: 0.2775\n",
      "Learning Rate: 0.000100\n",
      "--------------------------------------------------\n"
     ]
    },
    {
     "name": "stderr",
     "output_type": "stream",
     "text": [
      "Epoch 36/100: 100%|██████████| 17/17 [00:00<00:00, 19.52it/s]\n",
      "Epoch 37/100: 100%|██████████| 17/17 [00:00<00:00, 20.16it/s]\n",
      "Epoch 38/100: 100%|██████████| 17/17 [00:00<00:00, 20.83it/s]\n",
      "Epoch 39/100: 100%|██████████| 17/17 [00:00<00:00, 21.17it/s]\n",
      "Epoch 40/100: 100%|██████████| 17/17 [00:00<00:00, 20.47it/s]\n"
     ]
    },
    {
     "name": "stdout",
     "output_type": "stream",
     "text": [
      "Epoch 40/100\n",
      "Train Loss: 0.3112, Val Loss: 0.2848\n",
      "Learning Rate: 0.000100\n",
      "--------------------------------------------------\n"
     ]
    },
    {
     "name": "stderr",
     "output_type": "stream",
     "text": [
      "Epoch 41/100: 100%|██████████| 17/17 [00:00<00:00, 20.47it/s]\n",
      "Epoch 42/100: 100%|██████████| 17/17 [00:00<00:00, 20.42it/s]\n",
      "Epoch 43/100: 100%|██████████| 17/17 [00:00<00:00, 19.80it/s]\n",
      "Epoch 44/100: 100%|██████████| 17/17 [00:00<00:00, 20.46it/s]\n",
      "Epoch 45/100: 100%|██████████| 17/17 [00:00<00:00, 20.91it/s]\n"
     ]
    },
    {
     "name": "stdout",
     "output_type": "stream",
     "text": [
      "Epoch 45/100\n",
      "Train Loss: 0.2611, Val Loss: 0.3201\n",
      "Learning Rate: 0.000100\n",
      "--------------------------------------------------\n"
     ]
    },
    {
     "name": "stderr",
     "output_type": "stream",
     "text": [
      "Epoch 46/100: 100%|██████████| 17/17 [00:00<00:00, 17.80it/s]\n",
      "Epoch 47/100: 100%|██████████| 17/17 [00:00<00:00, 20.54it/s]\n",
      "Epoch 48/100: 100%|██████████| 17/17 [00:00<00:00, 21.71it/s]\n",
      "Epoch 49/100: 100%|██████████| 17/17 [00:00<00:00, 20.91it/s]\n",
      "Epoch 50/100: 100%|██████████| 17/17 [00:00<00:00, 20.68it/s]\n"
     ]
    },
    {
     "name": "stdout",
     "output_type": "stream",
     "text": [
      "Epoch 50/100\n",
      "Train Loss: 0.1972, Val Loss: 0.2530\n",
      "Learning Rate: 0.000100\n",
      "--------------------------------------------------\n"
     ]
    },
    {
     "name": "stderr",
     "output_type": "stream",
     "text": [
      "Epoch 51/100: 100%|██████████| 17/17 [00:00<00:00, 19.64it/s]\n",
      "Epoch 52/100: 100%|██████████| 17/17 [00:00<00:00, 20.28it/s]\n",
      "Epoch 53/100: 100%|██████████| 17/17 [00:00<00:00, 21.33it/s]\n",
      "Epoch 54/100: 100%|██████████| 17/17 [00:00<00:00, 21.72it/s]\n",
      "Epoch 55/100: 100%|██████████| 17/17 [00:00<00:00, 23.03it/s]\n"
     ]
    },
    {
     "name": "stdout",
     "output_type": "stream",
     "text": [
      "Epoch 55/100\n",
      "Train Loss: 0.1823, Val Loss: 0.2452\n",
      "Learning Rate: 0.000100\n",
      "--------------------------------------------------\n"
     ]
    },
    {
     "name": "stderr",
     "output_type": "stream",
     "text": [
      "Epoch 56/100: 100%|██████████| 17/17 [00:00<00:00, 20.95it/s]\n",
      "Epoch 57/100: 100%|██████████| 17/17 [00:00<00:00, 22.68it/s]\n",
      "Epoch 58/100: 100%|██████████| 17/17 [00:00<00:00, 27.96it/s]\n",
      "Epoch 59/100: 100%|██████████| 17/17 [00:00<00:00, 28.68it/s]\n",
      "Epoch 60/100: 100%|██████████| 17/17 [00:00<00:00, 26.05it/s]\n"
     ]
    },
    {
     "name": "stdout",
     "output_type": "stream",
     "text": [
      "Epoch 60/100\n",
      "Train Loss: 0.1973, Val Loss: 0.2777\n",
      "Learning Rate: 0.000100\n",
      "--------------------------------------------------\n"
     ]
    },
    {
     "name": "stderr",
     "output_type": "stream",
     "text": [
      "Epoch 61/100: 100%|██████████| 17/17 [00:00<00:00, 24.16it/s]\n",
      "Epoch 62/100: 100%|██████████| 17/17 [00:00<00:00, 24.06it/s]\n",
      "Epoch 63/100: 100%|██████████| 17/17 [00:00<00:00, 23.10it/s]\n",
      "Epoch 64/100: 100%|██████████| 17/17 [00:00<00:00, 24.54it/s]\n",
      "Epoch 65/100: 100%|██████████| 17/17 [00:00<00:00, 24.57it/s]\n"
     ]
    },
    {
     "name": "stdout",
     "output_type": "stream",
     "text": [
      "Epoch 65/100\n",
      "Train Loss: 0.1826, Val Loss: 0.2494\n",
      "Learning Rate: 0.000100\n",
      "--------------------------------------------------\n"
     ]
    },
    {
     "name": "stderr",
     "output_type": "stream",
     "text": [
      "Epoch 66/100: 100%|██████████| 17/17 [00:00<00:00, 24.95it/s]\n",
      "Epoch 67/100: 100%|██████████| 17/17 [00:00<00:00, 24.28it/s]\n",
      "Epoch 68/100: 100%|██████████| 17/17 [00:00<00:00, 23.05it/s]\n",
      "Epoch 69/100: 100%|██████████| 17/17 [00:00<00:00, 20.31it/s]\n",
      "Epoch 70/100: 100%|██████████| 17/17 [00:00<00:00, 23.29it/s]\n"
     ]
    },
    {
     "name": "stdout",
     "output_type": "stream",
     "text": [
      "Epoch 70/100\n",
      "Train Loss: 0.1712, Val Loss: 0.2581\n",
      "Learning Rate: 0.000100\n",
      "--------------------------------------------------\n"
     ]
    },
    {
     "name": "stderr",
     "output_type": "stream",
     "text": [
      "Epoch 71/100: 100%|██████████| 17/17 [00:00<00:00, 24.77it/s]\n",
      "Epoch 72/100: 100%|██████████| 17/17 [00:00<00:00, 24.89it/s]\n",
      "Epoch 73/100: 100%|██████████| 17/17 [00:00<00:00, 24.69it/s]\n",
      "Epoch 74/100: 100%|██████████| 17/17 [00:00<00:00, 25.43it/s]\n",
      "Epoch 75/100: 100%|██████████| 17/17 [00:00<00:00, 26.04it/s]\n"
     ]
    },
    {
     "name": "stdout",
     "output_type": "stream",
     "text": [
      "Epoch 75/100\n",
      "Train Loss: 0.1834, Val Loss: 0.4305\n",
      "Learning Rate: 0.000100\n",
      "--------------------------------------------------\n"
     ]
    },
    {
     "name": "stderr",
     "output_type": "stream",
     "text": [
      "Epoch 76/100: 100%|██████████| 17/17 [00:00<00:00, 28.78it/s]\n",
      "Epoch 77/100: 100%|██████████| 17/17 [00:00<00:00, 27.56it/s]\n",
      "Epoch 78/100: 100%|██████████| 17/17 [00:00<00:00, 26.54it/s]\n",
      "Epoch 79/100: 100%|██████████| 17/17 [00:00<00:00, 28.18it/s]\n",
      "Epoch 80/100: 100%|██████████| 17/17 [00:00<00:00, 27.95it/s]\n"
     ]
    },
    {
     "name": "stdout",
     "output_type": "stream",
     "text": [
      "Epoch 80/100\n",
      "Train Loss: 0.1631, Val Loss: 0.2408\n",
      "Learning Rate: 0.000100\n",
      "--------------------------------------------------\n"
     ]
    },
    {
     "name": "stderr",
     "output_type": "stream",
     "text": [
      "Epoch 81/100: 100%|██████████| 17/17 [00:00<00:00, 29.32it/s]\n",
      "Epoch 82/100: 100%|██████████| 17/17 [00:00<00:00, 29.85it/s]\n",
      "Epoch 83/100: 100%|██████████| 17/17 [00:00<00:00, 26.14it/s]\n",
      "Epoch 84/100: 100%|██████████| 17/17 [00:00<00:00, 20.79it/s]\n",
      "Epoch 85/100: 100%|██████████| 17/17 [00:00<00:00, 20.00it/s]\n"
     ]
    },
    {
     "name": "stdout",
     "output_type": "stream",
     "text": [
      "Epoch 85/100\n",
      "Train Loss: 0.1593, Val Loss: 0.3935\n",
      "Learning Rate: 0.000100\n",
      "--------------------------------------------------\n"
     ]
    },
    {
     "name": "stderr",
     "output_type": "stream",
     "text": [
      "Epoch 86/100: 100%|██████████| 17/17 [00:00<00:00, 19.79it/s]\n",
      "Epoch 87/100: 100%|██████████| 17/17 [00:00<00:00, 19.93it/s]\n",
      "Epoch 88/100: 100%|██████████| 17/17 [00:00<00:00, 19.49it/s]\n",
      "Epoch 89/100: 100%|██████████| 17/17 [00:00<00:00, 19.90it/s]\n",
      "Epoch 90/100: 100%|██████████| 17/17 [00:00<00:00, 19.83it/s]\n"
     ]
    },
    {
     "name": "stdout",
     "output_type": "stream",
     "text": [
      "Epoch 90/100\n",
      "Train Loss: 0.1556, Val Loss: 0.2902\n",
      "Learning Rate: 0.000100\n",
      "--------------------------------------------------\n"
     ]
    },
    {
     "name": "stderr",
     "output_type": "stream",
     "text": [
      "Epoch 91/100: 100%|██████████| 17/17 [00:00<00:00, 26.88it/s]\n",
      "Epoch 92/100: 100%|██████████| 17/17 [00:00<00:00, 25.83it/s]\n",
      "Epoch 93/100: 100%|██████████| 17/17 [00:00<00:00, 25.36it/s]\n",
      "Epoch 94/100: 100%|██████████| 17/17 [00:00<00:00, 25.04it/s]\n",
      "Epoch 95/100: 100%|██████████| 17/17 [00:00<00:00, 24.88it/s]\n"
     ]
    },
    {
     "name": "stdout",
     "output_type": "stream",
     "text": [
      "Epoch 95/100\n",
      "Train Loss: 0.1410, Val Loss: 0.2255\n",
      "Learning Rate: 0.000100\n",
      "--------------------------------------------------\n"
     ]
    },
    {
     "name": "stderr",
     "output_type": "stream",
     "text": [
      "Epoch 96/100: 100%|██████████| 17/17 [00:00<00:00, 20.04it/s]\n",
      "Epoch 97/100: 100%|██████████| 17/17 [00:00<00:00, 18.48it/s]\n",
      "Epoch 98/100: 100%|██████████| 17/17 [00:00<00:00, 25.96it/s]\n",
      "Epoch 99/100: 100%|██████████| 17/17 [00:00<00:00, 25.27it/s]\n",
      "Epoch 100/100: 100%|██████████| 17/17 [00:00<00:00, 25.52it/s]\n"
     ]
    },
    {
     "name": "stdout",
     "output_type": "stream",
     "text": [
      "Epoch 100/100\n",
      "Train Loss: 0.1276, Val Loss: 0.4241\n",
      "Learning Rate: 0.000100\n",
      "--------------------------------------------------\n",
      "\n",
      "Test MSE: 0.2437\n",
      "Test MAE: 0.3518\n",
      "Test R²:  0.7278\n"
     ]
    },
    {
     "data": {
      "image/png": "[encoded data removed]",
      "text/plain": [
       "<Figure size 1500x500 with 2 Axes>"
      ]
     },
     "metadata": {},
     "output_type": "display_data"
    }
   ],
   "source": [
    "TARGET_PROPERTY = 'em_max'\n",
    "\n",
    "BATCH_SIZE = 64\n",
    "NUM_EPOCHS = 100\n",
    "LEARNING_RATE = 0.0001\n",
    "\n",
    "model = EmbeddingsCNN().to(device)\n",
    "\n",
    "trained_model, train_losses, val_losses = train_model(\n",
    "    model, train_loader, val_loader, NUM_EPOCHS, LEARNING_RATE\n",
    ")\n",
    "\n",
    "predictions, true_values, mse, mae, r2 = evaluate_model(\n",
    "    trained_model, test_loader, dataset_test, TARGET_PROPERTY\n",
    ")\n",
    "\n",
    "plot_results(train_losses, val_losses, predictions, true_values, TARGET_PROPERTY)\n",
    "\n",
    "torch.save(trained_model.state_dict(), f'weights/cnn_model_{TARGET_PROPERTY}_custom.pth')\n",
    "# print(f\"Модель сохранена как 'cnn_model_{TARGET_PROPERTY}_custom.pth'\")\n"
   ]
  },
  {
   "cell_type": "markdown",
   "id": "95d33beb",
   "metadata": {},
   "source": [
    "### Работа с CNN"
   ]
  },
  {
   "cell_type": "code",
   "execution_count": null,
   "id": "eef76365",
   "metadata": {},
   "outputs": [
    {
     "name": "stdout",
     "output_type": "stream",
     "text": [
      "Training on cuda\n",
      "Number of parameters: 1,562,113\n"
     ]
    },
    {
     "name": "stderr",
     "output_type": "stream",
     "text": [
      "Epoch 1/100:   0%|          | 0/17 [00:00<?, ?it/s]"
     ]
    },
    {
     "name": "stderr",
     "output_type": "stream",
     "text": [
      "Epoch 1/100: 100%|██████████| 17/17 [00:00<00:00, 17.64it/s]\n",
      "Epoch 2/100: 100%|██████████| 17/17 [00:00<00:00, 25.87it/s]\n",
      "Epoch 3/100: 100%|██████████| 17/17 [00:00<00:00, 24.97it/s]\n",
      "Epoch 4/100: 100%|██████████| 17/17 [00:00<00:00, 26.00it/s]\n",
      "Epoch 5/100: 100%|██████████| 17/17 [00:00<00:00, 26.96it/s]\n"
     ]
    },
    {
     "name": "stdout",
     "output_type": "stream",
     "text": [
      "Epoch 5/100\n",
      "Train Loss: 0.5090, Val Loss: 0.3170\n",
      "Learning Rate: 0.001000\n",
      "--------------------------------------------------\n"
     ]
    },
    {
     "name": "stderr",
     "output_type": "stream",
     "text": [
      "Epoch 6/100: 100%|██████████| 17/17 [00:00<00:00, 26.68it/s]\n",
      "Epoch 7/100: 100%|██████████| 17/17 [00:00<00:00, 26.81it/s]\n",
      "Epoch 8/100: 100%|██████████| 17/17 [00:00<00:00, 26.93it/s]\n",
      "Epoch 9/100: 100%|██████████| 17/17 [00:00<00:00, 26.98it/s]\n",
      "Epoch 10/100: 100%|██████████| 17/17 [00:00<00:00, 26.61it/s]\n"
     ]
    },
    {
     "name": "stdout",
     "output_type": "stream",
     "text": [
      "Epoch 10/100\n",
      "Train Loss: 0.3244, Val Loss: 0.9946\n",
      "Learning Rate: 0.001000\n",
      "--------------------------------------------------\n"
     ]
    },
    {
     "name": "stderr",
     "output_type": "stream",
     "text": [
      "Epoch 11/100: 100%|██████████| 17/17 [00:00<00:00, 26.75it/s]\n",
      "Epoch 12/100: 100%|██████████| 17/17 [00:00<00:00, 25.97it/s]\n",
      "Epoch 13/100: 100%|██████████| 17/17 [00:00<00:00, 26.61it/s]\n",
      "Epoch 14/100: 100%|██████████| 17/17 [00:00<00:00, 26.81it/s]\n",
      "Epoch 15/100: 100%|██████████| 17/17 [00:00<00:00, 26.90it/s]\n"
     ]
    },
    {
     "name": "stdout",
     "output_type": "stream",
     "text": [
      "Epoch 15/100\n",
      "Train Loss: 0.3416, Val Loss: 0.3075\n",
      "Learning Rate: 0.001000\n",
      "--------------------------------------------------\n"
     ]
    },
    {
     "name": "stderr",
     "output_type": "stream",
     "text": [
      "Epoch 16/100: 100%|██████████| 17/17 [00:00<00:00, 26.97it/s]\n",
      "Epoch 17/100: 100%|██████████| 17/17 [00:00<00:00, 27.30it/s]\n",
      "Epoch 18/100: 100%|██████████| 17/17 [00:00<00:00, 26.54it/s]\n",
      "Epoch 19/100: 100%|██████████| 17/17 [00:00<00:00, 26.79it/s]\n",
      "Epoch 20/100: 100%|██████████| 17/17 [00:00<00:00, 27.04it/s]\n"
     ]
    },
    {
     "name": "stdout",
     "output_type": "stream",
     "text": [
      "Epoch 20/100\n",
      "Train Loss: 0.3298, Val Loss: 0.3306\n",
      "Learning Rate: 0.001000\n",
      "--------------------------------------------------\n"
     ]
    },
    {
     "name": "stderr",
     "output_type": "stream",
     "text": [
      "Epoch 21/100: 100%|██████████| 17/17 [00:00<00:00, 26.55it/s]\n",
      "Epoch 22/100: 100%|██████████| 17/17 [00:00<00:00, 27.10it/s]\n",
      "Epoch 23/100: 100%|██████████| 17/17 [00:00<00:00, 26.71it/s]\n",
      "Epoch 24/100: 100%|██████████| 17/17 [00:00<00:00, 26.90it/s]\n",
      "Epoch 25/100: 100%|██████████| 17/17 [00:00<00:00, 26.93it/s]\n"
     ]
    },
    {
     "name": "stdout",
     "output_type": "stream",
     "text": [
      "Epoch 25/100\n",
      "Train Loss: 0.3644, Val Loss: 0.4798\n",
      "Learning Rate: 0.001000\n",
      "--------------------------------------------------\n"
     ]
    },
    {
     "name": "stderr",
     "output_type": "stream",
     "text": [
      "Epoch 26/100: 100%|██████████| 17/17 [00:00<00:00, 26.99it/s]\n",
      "Epoch 27/100: 100%|██████████| 17/17 [00:00<00:00, 26.96it/s]\n",
      "Epoch 28/100: 100%|██████████| 17/17 [00:00<00:00, 26.77it/s]\n",
      "Epoch 29/100: 100%|██████████| 17/17 [00:00<00:00, 26.69it/s]\n",
      "Epoch 30/100: 100%|██████████| 17/17 [00:00<00:00, 26.69it/s]\n"
     ]
    },
    {
     "name": "stdout",
     "output_type": "stream",
     "text": [
      "Epoch 30/100\n",
      "Train Loss: 0.3753, Val Loss: 0.2495\n",
      "Learning Rate: 0.001000\n",
      "--------------------------------------------------\n"
     ]
    },
    {
     "name": "stderr",
     "output_type": "stream",
     "text": [
      "Epoch 31/100: 100%|██████████| 17/17 [00:00<00:00, 26.73it/s]\n",
      "Epoch 32/100: 100%|██████████| 17/17 [00:00<00:00, 27.25it/s]\n",
      "Epoch 33/100: 100%|██████████| 17/17 [00:00<00:00, 26.89it/s]\n",
      "Epoch 34/100: 100%|██████████| 17/17 [00:00<00:00, 27.04it/s]\n",
      "Epoch 35/100: 100%|██████████| 17/17 [00:00<00:00, 27.05it/s]\n"
     ]
    },
    {
     "name": "stdout",
     "output_type": "stream",
     "text": [
      "Epoch 35/100\n",
      "Train Loss: 0.1897, Val Loss: 0.2869\n",
      "Learning Rate: 0.001000\n",
      "--------------------------------------------------\n"
     ]
    },
    {
     "name": "stderr",
     "output_type": "stream",
     "text": [
      "Epoch 36/100: 100%|██████████| 17/17 [00:00<00:00, 27.00it/s]\n",
      "Epoch 37/100: 100%|██████████| 17/17 [00:00<00:00, 26.98it/s]\n",
      "Epoch 38/100: 100%|██████████| 17/17 [00:00<00:00, 27.13it/s]\n",
      "Epoch 39/100: 100%|██████████| 17/17 [00:00<00:00, 26.75it/s]\n",
      "Epoch 40/100: 100%|██████████| 17/17 [00:00<00:00, 27.00it/s]\n"
     ]
    },
    {
     "name": "stdout",
     "output_type": "stream",
     "text": [
      "Epoch 40/100\n",
      "Train Loss: 0.2444, Val Loss: 16.8659\n",
      "Learning Rate: 0.001000\n",
      "--------------------------------------------------\n"
     ]
    },
    {
     "name": "stderr",
     "output_type": "stream",
     "text": [
      "Epoch 41/100: 100%|██████████| 17/17 [00:00<00:00, 26.98it/s]\n",
      "Epoch 42/100: 100%|██████████| 17/17 [00:00<00:00, 26.97it/s]\n",
      "Epoch 43/100: 100%|██████████| 17/17 [00:00<00:00, 26.95it/s]\n",
      "Epoch 44/100: 100%|██████████| 17/17 [00:00<00:00, 26.96it/s]\n",
      "Epoch 45/100: 100%|██████████| 17/17 [00:00<00:00, 26.76it/s]\n"
     ]
    },
    {
     "name": "stdout",
     "output_type": "stream",
     "text": [
      "Epoch 45/100\n",
      "Train Loss: 0.1941, Val Loss: 0.4147\n",
      "Learning Rate: 0.001000\n",
      "--------------------------------------------------\n"
     ]
    },
    {
     "name": "stderr",
     "output_type": "stream",
     "text": [
      "Epoch 46/100: 100%|██████████| 17/17 [00:00<00:00, 26.94it/s]\n",
      "Epoch 47/100: 100%|██████████| 17/17 [00:00<00:00, 27.15it/s]\n",
      "Epoch 48/100: 100%|██████████| 17/17 [00:00<00:00, 26.55it/s]\n",
      "Epoch 49/100: 100%|██████████| 17/17 [00:00<00:00, 27.19it/s]\n",
      "Epoch 50/100: 100%|██████████| 17/17 [00:00<00:00, 26.98it/s]\n"
     ]
    },
    {
     "name": "stdout",
     "output_type": "stream",
     "text": [
      "Epoch 50/100\n",
      "Train Loss: 0.1583, Val Loss: 0.2263\n",
      "Learning Rate: 0.001000\n",
      "--------------------------------------------------\n"
     ]
    },
    {
     "name": "stderr",
     "output_type": "stream",
     "text": [
      "Epoch 51/100: 100%|██████████| 17/17 [00:00<00:00, 27.00it/s]\n",
      "Epoch 52/100: 100%|██████████| 17/17 [00:00<00:00, 26.97it/s]\n",
      "Epoch 53/100: 100%|██████████| 17/17 [00:00<00:00, 27.01it/s]\n",
      "Epoch 54/100: 100%|██████████| 17/17 [00:00<00:00, 27.20it/s]\n",
      "Epoch 55/100: 100%|██████████| 17/17 [00:00<00:00, 26.99it/s]\n"
     ]
    },
    {
     "name": "stdout",
     "output_type": "stream",
     "text": [
      "Epoch 55/100\n",
      "Train Loss: 0.2153, Val Loss: 0.7568\n",
      "Learning Rate: 0.001000\n",
      "--------------------------------------------------\n"
     ]
    },
    {
     "name": "stderr",
     "output_type": "stream",
     "text": [
      "Epoch 56/100: 100%|██████████| 17/17 [00:00<00:00, 27.14it/s]\n",
      "Epoch 57/100: 100%|██████████| 17/17 [00:00<00:00, 27.13it/s]\n",
      "Epoch 58/100: 100%|██████████| 17/17 [00:00<00:00, 27.03it/s]\n",
      "Epoch 59/100: 100%|██████████| 17/17 [00:00<00:00, 26.85it/s]\n",
      "Epoch 60/100: 100%|██████████| 17/17 [00:00<00:00, 26.94it/s]\n"
     ]
    },
    {
     "name": "stdout",
     "output_type": "stream",
     "text": [
      "Epoch 60/100\n",
      "Train Loss: 0.1751, Val Loss: 0.3537\n",
      "Learning Rate: 0.001000\n",
      "--------------------------------------------------\n"
     ]
    },
    {
     "name": "stderr",
     "output_type": "stream",
     "text": [
      "Epoch 61/100: 100%|██████████| 17/17 [00:00<00:00, 26.84it/s]\n",
      "Epoch 62/100: 100%|██████████| 17/17 [00:00<00:00, 27.20it/s]\n",
      "Epoch 63/100: 100%|██████████| 17/17 [00:00<00:00, 27.12it/s]\n",
      "Epoch 64/100: 100%|██████████| 17/17 [00:00<00:00, 27.14it/s]\n",
      "Epoch 65/100: 100%|██████████| 17/17 [00:00<00:00, 26.34it/s]\n"
     ]
    },
    {
     "name": "stdout",
     "output_type": "stream",
     "text": [
      "Epoch 65/100\n",
      "Train Loss: 0.1118, Val Loss: 0.3510\n",
      "Learning Rate: 0.001000\n",
      "--------------------------------------------------\n"
     ]
    },
    {
     "name": "stderr",
     "output_type": "stream",
     "text": [
      "Epoch 66/100: 100%|██████████| 17/17 [00:00<00:00, 25.54it/s]\n",
      "Epoch 67/100: 100%|██████████| 17/17 [00:00<00:00, 25.89it/s]\n",
      "Epoch 68/100: 100%|██████████| 17/17 [00:00<00:00, 26.58it/s]\n",
      "Epoch 69/100: 100%|██████████| 17/17 [00:00<00:00, 26.86it/s]\n",
      "Epoch 70/100: 100%|██████████| 17/17 [00:00<00:00, 26.80it/s]\n"
     ]
    },
    {
     "name": "stdout",
     "output_type": "stream",
     "text": [
      "Epoch 70/100\n",
      "Train Loss: 0.2212, Val Loss: 10.3134\n",
      "Learning Rate: 0.001000\n",
      "--------------------------------------------------\n"
     ]
    },
    {
     "name": "stderr",
     "output_type": "stream",
     "text": [
      "Epoch 71/100: 100%|██████████| 17/17 [00:00<00:00, 26.52it/s]\n",
      "Epoch 72/100: 100%|██████████| 17/17 [00:00<00:00, 26.59it/s]\n",
      "Epoch 73/100: 100%|██████████| 17/17 [00:00<00:00, 25.09it/s]\n",
      "Epoch 74/100: 100%|██████████| 17/17 [00:00<00:00, 24.61it/s]\n",
      "Epoch 75/100: 100%|██████████| 17/17 [00:00<00:00, 22.72it/s]\n"
     ]
    },
    {
     "name": "stdout",
     "output_type": "stream",
     "text": [
      "Epoch 75/100\n",
      "Train Loss: 0.1852, Val Loss: 0.3106\n",
      "Learning Rate: 0.001000\n",
      "--------------------------------------------------\n"
     ]
    },
    {
     "name": "stderr",
     "output_type": "stream",
     "text": [
      "Epoch 76/100: 100%|██████████| 17/17 [00:00<00:00, 23.97it/s]\n",
      "Epoch 77/100: 100%|██████████| 17/17 [00:00<00:00, 22.90it/s]\n",
      "Epoch 78/100: 100%|██████████| 17/17 [00:00<00:00, 22.36it/s]\n",
      "Epoch 79/100: 100%|██████████| 17/17 [00:00<00:00, 23.54it/s]\n",
      "Epoch 80/100: 100%|██████████| 17/17 [00:00<00:00, 23.48it/s]\n"
     ]
    },
    {
     "name": "stdout",
     "output_type": "stream",
     "text": [
      "Epoch 80/100\n",
      "Train Loss: 0.1362, Val Loss: 0.1712\n",
      "Learning Rate: 0.001000\n",
      "--------------------------------------------------\n"
     ]
    },
    {
     "name": "stderr",
     "output_type": "stream",
     "text": [
      "Epoch 81/100: 100%|██████████| 17/17 [00:00<00:00, 23.94it/s]\n",
      "Epoch 82/100: 100%|██████████| 17/17 [00:00<00:00, 24.64it/s]\n",
      "Epoch 83/100: 100%|██████████| 17/17 [00:00<00:00, 24.40it/s]\n",
      "Epoch 84/100: 100%|██████████| 17/17 [00:00<00:00, 25.99it/s]\n",
      "Epoch 85/100: 100%|██████████| 17/17 [00:00<00:00, 26.21it/s]\n"
     ]
    },
    {
     "name": "stdout",
     "output_type": "stream",
     "text": [
      "Epoch 85/100\n",
      "Train Loss: 0.1307, Val Loss: 3.7024\n",
      "Learning Rate: 0.001000\n",
      "--------------------------------------------------\n"
     ]
    },
    {
     "name": "stderr",
     "output_type": "stream",
     "text": [
      "Epoch 86/100: 100%|██████████| 17/17 [00:00<00:00, 26.77it/s]\n",
      "Epoch 87/100: 100%|██████████| 17/17 [00:00<00:00, 25.97it/s]\n",
      "Epoch 88/100: 100%|██████████| 17/17 [00:00<00:00, 26.17it/s]\n",
      "Epoch 89/100: 100%|██████████| 17/17 [00:00<00:00, 26.55it/s]\n",
      "Epoch 90/100: 100%|██████████| 17/17 [00:00<00:00, 26.67it/s]\n"
     ]
    },
    {
     "name": "stdout",
     "output_type": "stream",
     "text": [
      "Epoch 90/100\n",
      "Train Loss: 0.1201, Val Loss: 0.3478\n",
      "Learning Rate: 0.001000\n",
      "--------------------------------------------------\n"
     ]
    },
    {
     "name": "stderr",
     "output_type": "stream",
     "text": [
      "Epoch 91/100: 100%|██████████| 17/17 [00:00<00:00, 26.63it/s]\n",
      "Epoch 92/100: 100%|██████████| 17/17 [00:00<00:00, 26.72it/s]\n",
      "Epoch 93/100: 100%|██████████| 17/17 [00:00<00:00, 26.44it/s]\n",
      "Epoch 94/100: 100%|██████████| 17/17 [00:00<00:00, 26.65it/s]\n",
      "Epoch 95/100: 100%|██████████| 17/17 [00:00<00:00, 26.72it/s]\n"
     ]
    },
    {
     "name": "stdout",
     "output_type": "stream",
     "text": [
      "Epoch 95/100\n",
      "Train Loss: 0.0886, Val Loss: 0.6198\n",
      "Learning Rate: 0.001000\n",
      "--------------------------------------------------\n"
     ]
    },
    {
     "name": "stderr",
     "output_type": "stream",
     "text": [
      "Epoch 96/100: 100%|██████████| 17/17 [00:00<00:00, 26.77it/s]\n",
      "Epoch 97/100: 100%|██████████| 17/17 [00:00<00:00, 26.64it/s]\n",
      "Epoch 98/100: 100%|██████████| 17/17 [00:00<00:00, 26.64it/s]\n",
      "Epoch 99/100: 100%|██████████| 17/17 [00:00<00:00, 26.62it/s]\n",
      "Epoch 100/100: 100%|██████████| 17/17 [00:00<00:00, 26.58it/s]\n"
     ]
    },
    {
     "name": "stdout",
     "output_type": "stream",
     "text": [
      "Epoch 100/100\n",
      "Train Loss: 0.1197, Val Loss: 20.0057\n",
      "Learning Rate: 0.001000\n",
      "--------------------------------------------------\n",
      "\n",
      "Test MSE: 18.6482\n",
      "Test MAE: 4.1822\n",
      "Test R²:  -19.8328\n"
     ]
    },
    {
     "data": {
      "image/png": "[encoded data removed]",
      "text/plain": [
       "<Figure size 1500x500 with 2 Axes>"
      ]
     },
     "metadata": {},
     "output_type": "display_data"
    },
    {
     "name": "stdout",
     "output_type": "stream",
     "text": [
      "\n",
      "Model saved as 'cnn_model_brightness_onehot.pth'\n"
     ]
    }
   ],
   "source": [
    "\"\"\"Main training pipeline.\"\"\"\n",
    "TARGET_PROPERTY = 'brightness'  \n",
    "\n",
    "MAX_LENGTH = 256\n",
    "BATCH_SIZE = 64\n",
    "NUM_EPOCHS = 100\n",
    "LEARNING_RATE = 0.001\n",
    "\n",
    "model = ProteinCNN(\n",
    "    num_amino_acids=20, \n",
    "    num_filters=128,\n",
    "    dropout_rate=0.6\n",
    ")\n",
    "\n",
    "# Train the model\n",
    "trained_model, train_losses, val_losses = train_model(\n",
    "    model, train_loader, val_loader, NUM_EPOCHS, LEARNING_RATE\n",
    ")\n",
    "\n",
    "# Evaluate\n",
    "predictions1, true_values, mse, mae, r2 = evaluate_model(\n",
    "    trained_model, test_loader, dataset_test, TARGET_PROPERTY\n",
    ")\n",
    "\n",
    "# Plot\n",
    "plot_results(train_losses, val_losses, predictions1, true_values, TARGET_PROPERTY)\n",
    "\n",
    "# Save model\n",
    "torch.save(trained_model.state_dict(), f'weights/cnn_model_{TARGET_PROPERTY}_onehot.pth')\n",
    "print(f\"\\nModel saved as 'cnn_model_{TARGET_PROPERTY}_onehot.pth'\")"
   ]
  },
  {
   "cell_type": "code",
   "execution_count": 35,
   "id": "f01f60aa-9d66-4792-ab27-c5f020aa2bdd",
   "metadata": {},
   "outputs": [
    {
     "name": "stdout",
     "output_type": "stream",
     "text": [
      "\t RMSE: 38.59299087524414\n",
      "\t MAE: 22.503036499023438\n",
      "\t R2: 0.5969847440719604\n",
      "\t MAE (med.): 9.84552001953125\n"
     ]
    }
   ],
   "source": [
    "trained_model.eval()\n",
    "\n",
    "predictions = []\n",
    "true_values = []\n",
    "\n",
    "with torch.no_grad():\n",
    "    for sequences, targets in test_loader:\n",
    "        sequences, targets = sequences.to(device), targets.to(device)\n",
    "        batch_predictions = model(sequences).squeeze()\n",
    "\n",
    "        predictions.extend(batch_predictions.cpu().numpy())\n",
    "        true_values.extend(targets.cpu().numpy())\n",
    "\n",
    "    # Convert back to original scale\n",
    "predictions = np.array(predictions)\n",
    "true_values = np.array(true_values)\n",
    "s_predictions = dataset.rescale_targets(predictions, TARGET_PROPERTY)\n",
    "s_true_values = dataset.rescale_targets(true_values, TARGET_PROPERTY)\n",
    "\n",
    "zv = get_regression_metrics(\n",
    "    s_predictions,\n",
    "    s_true_values\n",
    ")\n",
    "print(f'\\t RMSE: {zv[\"rmse\"]}')\n",
    "print(f'\\t MAE: {zv[\"mae\"]}')\n",
    "print(f'\\t R2: {zv[\"r2\"]}')\n",
    "print(f'\\t MAE (med.): {zv[\"mae_median\"]}')\n"
   ]
  },
  {
   "cell_type": "code",
   "execution_count": 36,
   "id": "593b7870",
   "metadata": {},
   "outputs": [
    {
     "name": "stdout",
     "output_type": "stream",
     "text": [
      "\n",
      "Metrics with 95% confidence intervals:\n",
      "RMSE: 38.30 ± 7.32\n",
      "MAE: 22.64 ± 4.54\n",
      "R2: 0.58 ± 0.16\n",
      "MAE Median: 10.07 ± 2.40\n"
     ]
    }
   ],
   "source": [
    "metrics_ci = bootstrap_metric_ci(\n",
    "    s_predictions, s_true_values, get_regression_metrics, \n",
    "    n_bootstrap=1000, alpha=0.05, random_state=42\n",
    ")\n",
    "\n",
    "# Print results in a nice format\n",
    "print(\"\\nMetrics with 95% confidence intervals:\")\n",
    "print(f\"RMSE: {(metrics_ci['rmse'][1] + metrics_ci['rmse'][2]) / 2:.2f} ± {(metrics_ci['rmse'][1] + metrics_ci['rmse'][2]) / 2 -metrics_ci['rmse'][1]:.2f}\")\n",
    "print(f\"MAE: {(metrics_ci['mae'][1] + metrics_ci['mae'][2]) / 2:.2f} ± {(metrics_ci['mae'][1] + metrics_ci['mae'][2]) / 2 -metrics_ci['mae'][1]:.2f}\")\n",
    "print(f\"R2: {(metrics_ci['r2'][1] + metrics_ci['r2'][2]) / 2:.2f} ± {(metrics_ci['r2'][1] + metrics_ci['r2'][2]) / 2 -metrics_ci['r2'][1]:.2f}\")\n",
    "print(f\"MAE Median: {(metrics_ci['mae_median'][1] + metrics_ci['mae_median'][2]) / 2:.2f} ± {(metrics_ci['mae_median'][1] + metrics_ci['mae_median'][2]) / 2 -metrics_ci['mae_median'][1]:.2f}\")"
   ]
  }
 ],
 "metadata": {
  "kernelspec": {
   "display_name": "venv",
   "language": "python",
   "name": "python3"
  },
  "language_info": {
   "codemirror_mode": {
    "name": "ipython",
    "version": 3
   },
   "file_extension": ".py",
   "mimetype": "text/x-python",
   "name": "python",
   "nbconvert_exporter": "python",
   "pygments_lexer": "ipython3",
   "version": "3.10.0"
  }
 },
 "nbformat": 4,
 "nbformat_minor": 5
}

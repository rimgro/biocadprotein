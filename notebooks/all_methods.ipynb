{
 "cells": [
  {
   "cell_type": "code",
   "execution_count": 3,
   "id": "25e15c20",
   "metadata": {},
   "outputs": [
    {
     "name": "stdout",
     "output_type": "stream",
     "text": [
      "Requirement already satisfied: torch in c:\\users\\user\\desktop\\biocadprotein\\venv\\lib\\site-packages (2.7.1+cu118)\n",
      "Requirement already satisfied: tqdm in c:\\users\\user\\desktop\\biocadprotein\\venv\\lib\\site-packages (4.67.1)\n",
      "Requirement already satisfied: fsspec in c:\\users\\user\\desktop\\biocadprotein\\venv\\lib\\site-packages (from torch) (2025.5.1)\n",
      "Requirement already satisfied: networkx in c:\\users\\user\\desktop\\biocadprotein\\venv\\lib\\site-packages (from torch) (3.4.2)\n",
      "Requirement already satisfied: jinja2 in c:\\users\\user\\desktop\\biocadprotein\\venv\\lib\\site-packages (from torch) (3.1.6)\n",
      "Requirement already satisfied: filelock in c:\\users\\user\\desktop\\biocadprotein\\venv\\lib\\site-packages (from torch) (3.18.0)\n",
      "Requirement already satisfied: sympy>=1.13.3 in c:\\users\\user\\desktop\\biocadprotein\\venv\\lib\\site-packages (from torch) (1.14.0)\n",
      "Requirement already satisfied: typing-extensions>=4.10.0 in c:\\users\\user\\desktop\\biocadprotein\\venv\\lib\\site-packages (from torch) (4.14.1)\n",
      "Requirement already satisfied: colorama in c:\\users\\user\\desktop\\biocadprotein\\venv\\lib\\site-packages (from tqdm) (0.4.6)\n",
      "Requirement already satisfied: mpmath<1.4,>=1.1.0 in c:\\users\\user\\desktop\\biocadprotein\\venv\\lib\\site-packages (from sympy>=1.13.3->torch) (1.3.0)\n",
      "Requirement already satisfied: MarkupSafe>=2.0 in c:\\users\\user\\desktop\\biocadprotein\\venv\\lib\\site-packages (from jinja2->torch) (3.0.2)\n"
     ]
    },
    {
     "name": "stderr",
     "output_type": "stream",
     "text": [
      "WARNING: You are using pip version 21.2.3; however, version 25.1.1 is available.\n",
      "You should consider upgrading via the 'C:\\Users\\User\\Desktop\\biocadprotein\\venv\\Scripts\\python.exe -m pip install --upgrade pip' command.\n"
     ]
    }
   ],
   "source": [
    "! pip install torch tqdm\n",
    "#! pip install --upgrade git+https://github.com/rimgro/biocadprotein.git"
   ]
  },
  {
   "cell_type": "code",
   "execution_count": 4,
   "id": "a2e0b325",
   "metadata": {},
   "outputs": [
    {
     "name": "stdout",
     "output_type": "stream",
     "text": [
      "Using device: cuda\n"
     ]
    }
   ],
   "source": [
    "import torch\n",
    "import torch.nn as nn\n",
    "import torch.nn.functional as F\n",
    "\n",
    "import numpy as np\n",
    "import pandas as pd\n",
    "import matplotlib.pyplot as plt\n",
    "\n",
    "from tqdm import tqdm\n",
    "\n",
    "import warnings\n",
    "warnings.filterwarnings('ignore')\n",
    "\n",
    "\n",
    "device = torch.device('cuda' if torch.cuda.is_available() else 'cpu')\n",
    "print(f'Using device: {device}')"
   ]
  },
  {
   "cell_type": "code",
   "execution_count": 5,
   "id": "8d5503e7",
   "metadata": {},
   "outputs": [],
   "source": [
    "torch.manual_seed(12)\n",
    "np.random.seed(12)"
   ]
  },
  {
   "cell_type": "markdown",
   "id": "bae8d796",
   "metadata": {},
   "source": [
    "<h3>Подготовка данных</h3>"
   ]
  },
  {
   "cell_type": "code",
   "execution_count": 6,
   "id": "39dac96d",
   "metadata": {},
   "outputs": [],
   "source": [
    "from fpgen.prop_prediction.dataset import FPbase\n",
    "from fpgen.prop_prediction.metrics import get_regression_metrics\n",
    "from torch.utils.data import TensorDataset, DataLoader"
   ]
  },
  {
   "cell_type": "code",
   "execution_count": 7,
   "id": "f22651da",
   "metadata": {},
   "outputs": [],
   "source": [
    "dataset = FPbase('data/fpbase.csv')\n",
    "\n",
    "# one-hot encoding setup\n",
    "amino_acids = list('ACDEFGHIKLMNPQRSTVWY')\n",
    "vocab = {aa: i for i, aa in enumerate(amino_acids)}"
   ]
  },
  {
   "cell_type": "code",
   "execution_count": 8,
   "id": "cdca0d91",
   "metadata": {},
   "outputs": [],
   "source": [
    "x_train, y_train = dataset.get_train('em_max')\n",
    "from sklearn.model_selection import train_test_split\n",
    "\n",
    "# Split training data into train and validation sets (e.g., 80% train, 20% val)\n",
    "x_train, x_val, y_train, y_val = train_test_split(\n",
    "    x_train, y_train, test_size=0.2, random_state=42\n",
    ")\n",
    "\n",
    "x_test, y_test = dataset.get_test('em_max')"
   ]
  },
  {
   "cell_type": "code",
   "execution_count": 9,
   "id": "9b60d089",
   "metadata": {},
   "outputs": [],
   "source": [
    "def encode_sequences(sequences, vocab, max_length=None):\n",
    "    \"\"\"\n",
    "    One-hot encode protein sequences\n",
    "    \n",
    "    Args:\n",
    "        sequences: List of protein sequences (strings)\n",
    "        vocab: Amino acid vocabulary dictionary (only used for consistency)\n",
    "        max_length: Maximum sequence length (will pad/truncate)\n",
    "    \n",
    "    Returns:\n",
    "        One-hot encoded sequences as torch tensor of shape (num_sequences, max_length, 20)\n",
    "    \"\"\"\n",
    "    if max_length is None:\n",
    "        max_length = max(len(seq) for seq in sequences)\n",
    "    \n",
    "    # Standard 20 amino acids\n",
    "    amino_acids = 'ACDEFGHIKLMNPQRSTVWY'\n",
    "    aa_to_idx = {aa: i for i, aa in enumerate(amino_acids)}\n",
    "    \n",
    "    encoded = []\n",
    "    for seq in sequences:\n",
    "        # Initialize one-hot matrix for this sequence\n",
    "        seq_onehot = torch.zeros(max_length, 20)\n",
    "        \n",
    "        # Convert to uppercase and encode each amino acid\n",
    "        seq_upper = seq.upper()\n",
    "        for i, aa in enumerate(seq_upper):\n",
    "            if i >= max_length:\n",
    "                break\n",
    "            if aa in aa_to_idx:\n",
    "                seq_onehot[i, aa_to_idx[aa]] = 1.0\n",
    "            # If amino acid is not in standard 20, leave as zeros (unknown)\n",
    "        \n",
    "        encoded.append(seq_onehot)\n",
    "    \n",
    "    return torch.stack(encoded)"
   ]
  },
  {
   "cell_type": "markdown",
   "id": "26593681",
   "metadata": {},
   "source": [
    "<h3>Преобразование в one-hot encoding</h3>"
   ]
  },
  {
   "cell_type": "code",
   "execution_count": 10,
   "id": "41c93e64",
   "metadata": {},
   "outputs": [],
   "source": [
    "x_train_encoded = encode_sequences(x_train, vocab)\n",
    "x_val_encoded = encode_sequences(x_val, vocab)\n",
    "x_test_encoded = encode_sequences(x_test, vocab)"
   ]
  },
  {
   "cell_type": "code",
   "execution_count": 11,
   "id": "836496e2",
   "metadata": {},
   "outputs": [],
   "source": [
    "y_train_tensor = torch.tensor(y_train, dtype=torch.float32)\n",
    "y_val_tensor = torch.tensor(y_val, dtype=torch.float32)\n",
    "y_test_tensor = torch.tensor(y_test, dtype=torch.float32)"
   ]
  },
  {
   "cell_type": "code",
   "execution_count": 12,
   "id": "4c761921",
   "metadata": {},
   "outputs": [],
   "source": [
    "dataset_train = TensorDataset(x_train_encoded, y_train_tensor)\n",
    "train_loader = DataLoader(dataset_train, batch_size=32, shuffle=True)\n",
    "    \n",
    "dataset_val = TensorDataset(x_val_encoded, y_val_tensor)\n",
    "val_loader = DataLoader(dataset_val, batch_size=32, shuffle=False)\n",
    "    \n",
    "dataset_test = TensorDataset(x_test_encoded, y_test_tensor)\n",
    "test_loader = DataLoader(dataset_test, batch_size=32, shuffle=False)"
   ]
  },
  {
   "cell_type": "markdown",
   "id": "dfd7ae77",
   "metadata": {},
   "source": [
    "# Доготовка данных для работы с embeddings ESM C"
   ]
  },
  {
   "cell_type": "code",
   "execution_count": 10,
   "id": "51290a3e",
   "metadata": {},
   "outputs": [
    {
     "ename": "FileNotFoundError",
     "evalue": "[Errno 2] No such file or directory: '../data/sequence.pickle'",
     "output_type": "error",
     "traceback": [
      "\u001b[1;31m---------------------------------------------------------------------------\u001b[0m",
      "\u001b[1;31mFileNotFoundError\u001b[0m                         Traceback (most recent call last)",
      "Cell \u001b[1;32mIn[10], line 3\u001b[0m\n\u001b[0;32m      1\u001b[0m \u001b[38;5;28;01mimport\u001b[39;00m\u001b[38;5;250m \u001b[39m\u001b[38;5;21;01mpickle\u001b[39;00m\n\u001b[1;32m----> 3\u001b[0m \u001b[38;5;28;01mwith\u001b[39;00m \u001b[38;5;28;43mopen\u001b[39;49m\u001b[43m(\u001b[49m\u001b[38;5;124;43m'\u001b[39;49m\u001b[38;5;124;43m../data/sequence.pickle\u001b[39;49m\u001b[38;5;124;43m'\u001b[39;49m\u001b[43m,\u001b[49m\u001b[43m \u001b[49m\u001b[38;5;124;43m'\u001b[39;49m\u001b[38;5;124;43mrb\u001b[39;49m\u001b[38;5;124;43m'\u001b[39;49m\u001b[43m)\u001b[49m \u001b[38;5;28;01mas\u001b[39;00m file:\n\u001b[0;32m      4\u001b[0m     seq \u001b[38;5;241m=\u001b[39m pickle\u001b[38;5;241m.\u001b[39mload(file)\n",
      "File \u001b[1;32mc:\\Users\\User\\Desktop\\biocadprotein\\venv\\lib\\site-packages\\IPython\\core\\interactiveshell.py:324\u001b[0m, in \u001b[0;36m_modified_open\u001b[1;34m(file, *args, **kwargs)\u001b[0m\n\u001b[0;32m    317\u001b[0m \u001b[38;5;28;01mif\u001b[39;00m file \u001b[38;5;129;01min\u001b[39;00m {\u001b[38;5;241m0\u001b[39m, \u001b[38;5;241m1\u001b[39m, \u001b[38;5;241m2\u001b[39m}:\n\u001b[0;32m    318\u001b[0m     \u001b[38;5;28;01mraise\u001b[39;00m \u001b[38;5;167;01mValueError\u001b[39;00m(\n\u001b[0;32m    319\u001b[0m         \u001b[38;5;124mf\u001b[39m\u001b[38;5;124m\"\u001b[39m\u001b[38;5;124mIPython won\u001b[39m\u001b[38;5;124m'\u001b[39m\u001b[38;5;124mt let you open fd=\u001b[39m\u001b[38;5;132;01m{\u001b[39;00mfile\u001b[38;5;132;01m}\u001b[39;00m\u001b[38;5;124m by default \u001b[39m\u001b[38;5;124m\"\u001b[39m\n\u001b[0;32m    320\u001b[0m         \u001b[38;5;124m\"\u001b[39m\u001b[38;5;124mas it is likely to crash IPython. If you know what you are doing, \u001b[39m\u001b[38;5;124m\"\u001b[39m\n\u001b[0;32m    321\u001b[0m         \u001b[38;5;124m\"\u001b[39m\u001b[38;5;124myou can use builtins\u001b[39m\u001b[38;5;124m'\u001b[39m\u001b[38;5;124m open.\u001b[39m\u001b[38;5;124m\"\u001b[39m\n\u001b[0;32m    322\u001b[0m     )\n\u001b[1;32m--> 324\u001b[0m \u001b[38;5;28;01mreturn\u001b[39;00m io_open(file, \u001b[38;5;241m*\u001b[39margs, \u001b[38;5;241m*\u001b[39m\u001b[38;5;241m*\u001b[39mkwargs)\n",
      "\u001b[1;31mFileNotFoundError\u001b[0m: [Errno 2] No such file or directory: '../data/sequence.pickle'"
     ]
    }
   ],
   "source": [
    "import pickle\n",
    "\n",
    "with open('../data/sequence.pickle', 'rb') as file:\n",
    "    seq = pickle.load(file)"
   ]
  },
  {
   "cell_type": "code",
   "execution_count": null,
   "id": "96e476b9",
   "metadata": {},
   "outputs": [
    {
     "data": {
      "text/plain": [
       "torch.Size([1, 236, 960])"
      ]
     },
     "execution_count": 7,
     "metadata": {},
     "output_type": "execute_result"
    }
   ],
   "source": [
    "seq[x_train.iloc[0]].shape"
   ]
  },
  {
   "cell_type": "code",
   "execution_count": null,
   "id": "8232d169",
   "metadata": {},
   "outputs": [],
   "source": [
    "def preprocessing_x(x_tr, x_t, x_v, seq, pad_value=0.0, max_length=None):\n",
    "    \"\"\"\n",
    "    Improved preprocessing function for LSTM training with ESM embeddings\n",
    "    \n",
    "    Args:\n",
    "        x_tr, x_t, x_v: Index arrays for train, test, val\n",
    "        seq: Dictionary/list containing the embeddings\n",
    "        pad_value: Value to use for padding (default: 0.0)\n",
    "        max_length: Maximum sequence length (if None, computed from data)\n",
    "    \"\"\"\n",
    "    \n",
    "    def get_cleaned_tensors(indexes):\n",
    "        cleaned = []\n",
    "        for i in range(len(indexes)):\n",
    "            tensor = seq[indexes.iloc[i]]  # shape: [1, L, D]\n",
    "            \n",
    "            # Handle different input shapes\n",
    "            if tensor.dim() == 3 and tensor.shape[0] == 1:\n",
    "                tensor = tensor.squeeze(0)  # Now shape: [L, D]\n",
    "            elif tensor.dim() == 2:\n",
    "                pass  # Already correct shape\n",
    "            else:\n",
    "                raise ValueError(f\"Unexpected tensor shape: {tensor.shape}\")\n",
    "            \n",
    "            # Ensure tensor is float and on CPU for consistent processing\n",
    "            tensor = tensor.float()\n",
    "            \n",
    "            # Basic validation\n",
    "            if tensor.shape[0] == 0:\n",
    "                raise ValueError(\"Found empty sequence\")\n",
    "            if torch.isnan(tensor).any() or torch.isinf(tensor).any():\n",
    "                print(f\"Warning: Found NaN/Inf values in tensor, replacing with zeros\")\n",
    "                tensor = torch.nan_to_num(tensor, nan=0.0, posinf=1.0, neginf=-1.0)\n",
    "            \n",
    "            cleaned.append(tensor)\n",
    "        return cleaned\n",
    "\n",
    "    # Extract cleaned tensors\n",
    "    matrix_tr = get_cleaned_tensors(x_tr)\n",
    "    matrix_t = get_cleaned_tensors(x_t)\n",
    "    matrix_v = get_cleaned_tensors(x_v)\n",
    "\n",
    "    # Find dimensions\n",
    "    all_tensors = matrix_tr + matrix_t + matrix_v\n",
    "    \n",
    "    # Check embedding dimension consistency\n",
    "    emb_dims = [t.shape[1] for t in all_tensors]\n",
    "    emb_dim = emb_dims[0]\n",
    "    if not all(d == emb_dim for d in emb_dims):\n",
    "        raise ValueError(f\"Inconsistent embedding dimensions: {set(emb_dims)}\")\n",
    "    \n",
    "    # Find max length\n",
    "    if max_length is None:\n",
    "        max_len = max(t.shape[0] for t in all_tensors)\n",
    "    else:\n",
    "        max_len = max_length\n",
    "    \n",
    "    print(f\"Max sequence length: {max_len}\")\n",
    "    print(f\"Embedding dimension: {emb_dim}\")\n",
    "    print(f\"Padding value: {pad_value}\")\n",
    "\n",
    "    def pad_tensor_list(tensor_list, split_name):\n",
    "        padded = []\n",
    "        original_lengths = []\n",
    "        \n",
    "        for i, t in enumerate(tensor_list):\n",
    "            seq_len = t.shape[0]\n",
    "            original_lengths.append(seq_len)\n",
    "            \n",
    "            if seq_len > max_len:\n",
    "                # Truncate if longer than max_len\n",
    "                t = t[:max_len]\n",
    "                seq_len = max_len\n",
    "            \n",
    "            # Pad sequence length dimension only (embedding dim should be consistent)\n",
    "            if seq_len < max_len:\n",
    "                padding = (0, 0, 0, max_len - seq_len)  # (left, right, top, bottom)\n",
    "                padded_tensor = F.pad(t, padding, mode='constant', value=pad_value)\n",
    "            else:\n",
    "                padded_tensor = t\n",
    "            \n",
    "            padded.append(padded_tensor)\n",
    "        \n",
    "        # Stack into batch\n",
    "        result = torch.stack(padded)\n",
    "        \n",
    "        # Validation\n",
    "        expected_shape = (len(tensor_list), max_len, emb_dim)\n",
    "        if result.shape != expected_shape:\n",
    "            raise ValueError(f\"Unexpected output shape for {split_name}: {result.shape}, expected: {expected_shape}\")\n",
    "        \n",
    "        print(f\"{split_name} - Shape: {result.shape}, Lengths: min={min(original_lengths)}, max={max(original_lengths)}, mean={np.mean(original_lengths):.1f}\")\n",
    "        \n",
    "        return result, original_lengths\n",
    "\n",
    "    # Process all splits\n",
    "    train, train_lengths = pad_tensor_list(matrix_tr, \"Train\")\n",
    "    test, test_lengths = pad_tensor_list(matrix_t, \"Test\")\n",
    "    val, val_lengths = pad_tensor_list(matrix_v, \"Val\")\n",
    "    \n",
    "    # Additional validation\n",
    "    def validate_output(tensor, name):\n",
    "        if torch.isnan(tensor).any():\n",
    "            raise ValueError(f\"NaN values found in {name}\")\n",
    "        if torch.isinf(tensor).any():\n",
    "            raise ValueError(f\"Inf values found in {name}\")\n",
    "        \n",
    "        # Check if too many zeros (might indicate padding issues)\n",
    "        zero_ratio = (tensor == pad_value).float().mean()\n",
    "        if zero_ratio > 0.8:\n",
    "            print(f\"Warning: {name} has {zero_ratio:.2%} zero values (heavy padding)\")\n",
    "    \n",
    "    validate_output(train, \"train\")\n",
    "    validate_output(test, \"test\")\n",
    "    validate_output(val, \"val\")\n",
    "    \n",
    "    return train, test, val"
   ]
  },
  {
   "cell_type": "code",
   "execution_count": null,
   "id": "449c6e13",
   "metadata": {},
   "outputs": [],
   "source": [
    "def pad_with_last_token(tensor, target_length):\n",
    "    \"\"\"Pad by repeating the last token instead of zeros\"\"\"\n",
    "    seq_len = tensor.shape[0]\n",
    "    if seq_len >= target_length:\n",
    "        return tensor[:target_length]\n",
    "    \n",
    "    last_token = tensor[-1:].repeat(target_length - seq_len, 1)\n",
    "    return torch.cat([tensor, last_token], dim=0)"
   ]
  },
  {
   "cell_type": "code",
   "execution_count": null,
   "id": "f1cd966f",
   "metadata": {},
   "outputs": [
    {
     "name": "stdout",
     "output_type": "stream",
     "text": [
      "Max sequence length: 739\n",
      "Embedding dimension: 960\n",
      "Padding value: 0.0\n",
      "Train - Shape: torch.Size([514, 739, 960]), Lengths: min=32, max=739, mean=241.0\n",
      "Test - Shape: torch.Size([129, 739, 960]), Lengths: min=108, max=488, mean=238.6\n",
      "Val - Shape: torch.Size([167, 739, 960]), Lengths: min=108, max=487, mean=240.8\n"
     ]
    },
    {
     "data": {
      "text/plain": [
       "torch.Size([167, 739, 960])"
      ]
     },
     "execution_count": 10,
     "metadata": {},
     "output_type": "execute_result"
    }
   ],
   "source": [
    "from torch.nn.utils.rnn import pad_sequence\n",
    "\n",
    "x_train_p, x_val_p, x_test_p = preprocessing_x(x_train, x_val, x_test, seq)\n",
    "\n",
    "x_train_p.shape\n",
    "x_val_p.shape\n",
    "x_test_p.shape"
   ]
  },
  {
   "cell_type": "code",
   "execution_count": null,
   "id": "9c6a70a5",
   "metadata": {},
   "outputs": [],
   "source": [
    "y_train_p = torch.tensor(y_train, dtype=torch.float32)  # [643, 1]\n",
    "y_test_p = torch.tensor(y_test, dtype=torch.float32)\n",
    "y_val_p = torch.tensor(y_val, dtype=torch.float32)"
   ]
  },
  {
   "cell_type": "code",
   "execution_count": null,
   "id": "97b83eb6",
   "metadata": {},
   "outputs": [],
   "source": [
    "dataset_train = TensorDataset(x_train_p, y_train_p)\n",
    "train_loader = DataLoader(dataset_train, batch_size=32, shuffle=True)\n",
    "\n",
    "dataset_val = TensorDataset(x_val_p, y_val_p)\n",
    "val_loader = DataLoader(dataset_val, batch_size=32, shuffle=True)\n",
    "\n",
    "dataset_test = TensorDataset(x_test_p, y_test_p)\n",
    "test_loader = DataLoader(dataset_test, batch_size=32, shuffle=True)"
   ]
  },
  {
   "cell_type": "code",
   "execution_count": null,
   "id": "1cf3757b",
   "metadata": {},
   "outputs": [
    {
     "data": {
      "text/plain": [
       "tensor([[[ 5.7537e-03, -2.2964e-03,  2.6722e-03,  ...,  5.8003e-03,\n",
       "          -6.2449e-03, -1.0297e-02],\n",
       "         [-3.5950e-04, -5.5967e-03,  3.3674e-02,  ...,  3.1661e-02,\n",
       "           1.4899e-02,  1.7556e-02],\n",
       "         [-3.5892e-02, -2.5552e-02,  4.4119e-03,  ...,  5.5391e-02,\n",
       "           2.1439e-03,  2.2918e-02],\n",
       "         ...,\n",
       "         [ 0.0000e+00,  0.0000e+00,  0.0000e+00,  ...,  0.0000e+00,\n",
       "           0.0000e+00,  0.0000e+00],\n",
       "         [ 0.0000e+00,  0.0000e+00,  0.0000e+00,  ...,  0.0000e+00,\n",
       "           0.0000e+00,  0.0000e+00],\n",
       "         [ 0.0000e+00,  0.0000e+00,  0.0000e+00,  ...,  0.0000e+00,\n",
       "           0.0000e+00,  0.0000e+00]],\n",
       "\n",
       "        [[ 1.2868e-02, -1.8333e-03,  3.3210e-03,  ...,  5.2421e-03,\n",
       "          -4.7548e-03, -9.2520e-03],\n",
       "         [ 2.5347e-03,  2.2133e-03,  1.4290e-03,  ...,  2.6560e-02,\n",
       "           1.4438e-03, -1.3619e-02],\n",
       "         [-5.9670e-02, -1.0463e-02,  2.0267e-02,  ...,  4.7756e-02,\n",
       "          -2.7080e-02,  3.9952e-02],\n",
       "         ...,\n",
       "         [ 0.0000e+00,  0.0000e+00,  0.0000e+00,  ...,  0.0000e+00,\n",
       "           0.0000e+00,  0.0000e+00],\n",
       "         [ 0.0000e+00,  0.0000e+00,  0.0000e+00,  ...,  0.0000e+00,\n",
       "           0.0000e+00,  0.0000e+00],\n",
       "         [ 0.0000e+00,  0.0000e+00,  0.0000e+00,  ...,  0.0000e+00,\n",
       "           0.0000e+00,  0.0000e+00]],\n",
       "\n",
       "        [[ 1.9136e-03,  5.3865e-03, -6.8531e-03,  ...,  3.3937e-03,\n",
       "          -2.5117e-03, -1.4343e-02],\n",
       "         [-7.8395e-03,  3.1466e-02,  3.2704e-02,  ..., -1.9645e-02,\n",
       "          -7.8316e-03,  1.9941e-02],\n",
       "         [-2.5531e-02,  1.9319e-02,  1.2367e-02,  ...,  4.5012e-02,\n",
       "          -2.0034e-02,  5.0268e-02],\n",
       "         ...,\n",
       "         [ 0.0000e+00,  0.0000e+00,  0.0000e+00,  ...,  0.0000e+00,\n",
       "           0.0000e+00,  0.0000e+00],\n",
       "         [ 0.0000e+00,  0.0000e+00,  0.0000e+00,  ...,  0.0000e+00,\n",
       "           0.0000e+00,  0.0000e+00],\n",
       "         [ 0.0000e+00,  0.0000e+00,  0.0000e+00,  ...,  0.0000e+00,\n",
       "           0.0000e+00,  0.0000e+00]],\n",
       "\n",
       "        ...,\n",
       "\n",
       "        [[ 4.5190e-03, -4.2255e-03,  1.9310e-04,  ...,  4.1102e-03,\n",
       "           3.4963e-04, -1.0008e-02],\n",
       "         [ 1.3644e-02, -4.9324e-03,  5.4916e-02,  ...,  3.6585e-02,\n",
       "           3.4807e-02,  2.1815e-02],\n",
       "         [-1.0172e-02, -1.4737e-02,  2.3466e-02,  ...,  3.3235e-02,\n",
       "           2.0307e-03,  2.0201e-03],\n",
       "         ...,\n",
       "         [ 0.0000e+00,  0.0000e+00,  0.0000e+00,  ...,  0.0000e+00,\n",
       "           0.0000e+00,  0.0000e+00],\n",
       "         [ 0.0000e+00,  0.0000e+00,  0.0000e+00,  ...,  0.0000e+00,\n",
       "           0.0000e+00,  0.0000e+00],\n",
       "         [ 0.0000e+00,  0.0000e+00,  0.0000e+00,  ...,  0.0000e+00,\n",
       "           0.0000e+00,  0.0000e+00]],\n",
       "\n",
       "        [[ 3.6815e-03,  3.7517e-05,  1.0571e-03,  ...,  1.9577e-03,\n",
       "           1.5965e-03, -9.9062e-03],\n",
       "         [ 5.3877e-03, -1.2923e-02,  3.0939e-02,  ...,  2.7459e-02,\n",
       "           7.2356e-03,  1.5172e-02],\n",
       "         [-3.2868e-02,  8.6175e-03,  3.5244e-02,  ...,  4.8286e-02,\n",
       "           8.9590e-03,  7.5304e-03],\n",
       "         ...,\n",
       "         [ 0.0000e+00,  0.0000e+00,  0.0000e+00,  ...,  0.0000e+00,\n",
       "           0.0000e+00,  0.0000e+00],\n",
       "         [ 0.0000e+00,  0.0000e+00,  0.0000e+00,  ...,  0.0000e+00,\n",
       "           0.0000e+00,  0.0000e+00],\n",
       "         [ 0.0000e+00,  0.0000e+00,  0.0000e+00,  ...,  0.0000e+00,\n",
       "           0.0000e+00,  0.0000e+00]],\n",
       "\n",
       "        [[ 4.7210e-03, -8.2263e-04,  1.8732e-03,  ...,  1.7629e-03,\n",
       "           2.4718e-03, -1.0866e-02],\n",
       "         [ 5.8121e-03, -8.0011e-03,  2.8242e-02,  ...,  2.3285e-02,\n",
       "           1.6982e-02,  1.1040e-02],\n",
       "         [-3.8405e-02,  6.6705e-03,  3.7266e-02,  ...,  5.0556e-02,\n",
       "           9.0631e-03,  1.6172e-02],\n",
       "         ...,\n",
       "         [ 0.0000e+00,  0.0000e+00,  0.0000e+00,  ...,  0.0000e+00,\n",
       "           0.0000e+00,  0.0000e+00],\n",
       "         [ 0.0000e+00,  0.0000e+00,  0.0000e+00,  ...,  0.0000e+00,\n",
       "           0.0000e+00,  0.0000e+00],\n",
       "         [ 0.0000e+00,  0.0000e+00,  0.0000e+00,  ...,  0.0000e+00,\n",
       "           0.0000e+00,  0.0000e+00]]])"
      ]
     },
     "execution_count": 15,
     "metadata": {},
     "output_type": "execute_result"
    }
   ],
   "source": [
    "x_train_p"
   ]
  },
  {
   "cell_type": "markdown",
   "id": "f7e96848",
   "metadata": {},
   "source": [
    "# Классы с моделями"
   ]
  },
  {
   "cell_type": "code",
   "execution_count": 11,
   "id": "496ab5ad",
   "metadata": {},
   "outputs": [],
   "source": [
    "class EmbeddingLSTM(nn.Module):\n",
    "    \"\"\"LSTM-based neural network for protein sequence analysis with embedding layers.\"\"\"\n",
    "    \n",
    "    def __init__(self, vocab_size=21, embed_dim=960, hidden_size=256, num_layers=3, dropout_rate=0.5):\n",
    "        \"\"\"\n",
    "        Initialize the LSTM architecture with embedding.\n",
    "        \n",
    "        Args:\n",
    "            vocab_size: Size of vocabulary (21 for 20 amino acids + padding token)\n",
    "            embed_dim: Dimension of embedding vectors\n",
    "            hidden_size: Number of hidden units in LSTM layers\n",
    "            num_layers: Number of LSTM layers\n",
    "            dropout_rate: Dropout probability for regularization\n",
    "        \"\"\"\n",
    "        super(EmbeddingLSTM, self).__init__()\n",
    "        \n",
    "        self.hidden_size = hidden_size\n",
    "        self.num_layers = num_layers\n",
    "        self.embed_dim = embed_dim\n",
    "        \n",
    "        # Input projection layer\n",
    "        self.input_projection = nn.Linear(embed_dim, hidden_size // 2)\n",
    "        \n",
    "        # Bidirectional LSTM layers\n",
    "        self.lstm = nn.LSTM(\n",
    "            input_size=hidden_size // 2,\n",
    "            hidden_size=hidden_size,\n",
    "            num_layers=num_layers,\n",
    "            batch_first=True,\n",
    "            dropout=dropout_rate if num_layers > 1 else 0,\n",
    "            bidirectional=True\n",
    "        )\n",
    "        \n",
    "        # Output layers\n",
    "        self.fc1 = nn.Linear(hidden_size * 2, 1024)\n",
    "        self.fc2 = nn.Linear(1024, 256)\n",
    "        self.fc3 = nn.Linear(256, 1)\n",
    "        \n",
    "        self.dropout = nn.Dropout(dropout_rate)\n",
    "        self.layer_norm = nn.LayerNorm(hidden_size * 2)\n",
    "        \n",
    "    def forward(self, x):\n",
    "        \"\"\"\n",
    "        Forward pass through the network.\n",
    "        \n",
    "        Args:\n",
    "            x: Input tensor of shape [batch_size, sequence_length] with amino acid indices\n",
    "            \n",
    "        Returns:\n",
    "            predictions: Tensor of shape [batch_size, 1] with predicted values\n",
    "        \"\"\"\n",
    "        batch_size, seq_length, esmc_dim = x.size()\n",
    "        \n",
    "        # Create mask for padding tokens\n",
    "        mask = (x != 0).float()  # 1 for real tokens, 0 for padding\n",
    "        mask = mask[:, :, 0].unsqueeze(-1)\n",
    "        # Apply mask to embeddings\n",
    "        x = x * mask\n",
    "        \n",
    "        # Project input to hidden dimension\n",
    "        x = F.relu(self.input_projection(x))\n",
    "        \n",
    "        # LSTM processing\n",
    "        lstm_out, (hidden, cell) = self.lstm(x)\n",
    "        \n",
    "        # Apply mask to LSTM output\n",
    "        lstm_out = lstm_out * mask\n",
    "        \n",
    "        # Apply layer normalization\n",
    "        lstm_out = self.layer_norm(lstm_out)\n",
    "        \n",
    "        # Output layers\n",
    "        x = F.relu(self.fc1(lstm_out))\n",
    "        x = self.dropout(x)\n",
    "        \n",
    "        x = F.relu(self.fc2(x))\n",
    "        x = self.dropout(x)\n",
    "        \n",
    "        x = self.fc3(x)\n",
    "\n",
    "        x = torch.mean(x, dim=1)\n",
    "        \n",
    "        return x.squeeze(-1)"
   ]
  },
  {
   "cell_type": "code",
   "execution_count": 41,
   "id": "7376e238",
   "metadata": {},
   "outputs": [],
   "source": [
    "class ProteinLSTM(nn.Module):\n",
    "    def __init__(self, input_dim=20, hidden_dim=256, num_layers=2, \n",
    "                 output_dim=1, dropout=0.3, bidirectional=True):\n",
    "        \"\"\"\n",
    "        ProteinLSTM for fluorescent protein sequence analysis using one-hot encoding\n",
    "        \n",
    "        Args:\n",
    "            input_dim: Input dimension (20 for amino acids)\n",
    "            hidden_dim: Hidden dimension of LSTM layers\n",
    "            num_layers: Number of LSTM layers\n",
    "            output_dim: Output dimension (1 for regression, num_classes for classification)\n",
    "            dropout: Dropout rate\n",
    "            bidirectional: Whether to use bidirectional LSTM\n",
    "        \"\"\"\n",
    "        super(ProteinLSTM, self).__init__()\n",
    "        \n",
    "        self.hidden_dim = hidden_dim\n",
    "        self.num_layers = num_layers\n",
    "        self.bidirectional = bidirectional\n",
    "        \n",
    "        # LSTM layers (input is one-hot encoded amino acids)\n",
    "        self.lstm = nn.LSTM(\n",
    "            input_dim,  # 20 for one-hot encoded amino acids\n",
    "            hidden_dim, \n",
    "            num_layers, \n",
    "            dropout=dropout if num_layers > 1 else 0,\n",
    "            batch_first=True,\n",
    "            bidirectional=bidirectional\n",
    "        )\n",
    "        \n",
    "        # Determine final hidden size based on bidirectionality\n",
    "        final_hidden_dim = hidden_dim * 2 if bidirectional else hidden_dim\n",
    "        \n",
    "        # Fully connected layers\n",
    "        self.fc1 = nn.Linear(final_hidden_dim, 128)\n",
    "        self.dropout = nn.Dropout(dropout)\n",
    "        self.fc2 = nn.Linear(128, 32)\n",
    "        self.fc3 = nn.Linear(32, 1)\n",
    "        \n",
    "        # Activation functions\n",
    "        self.relu = nn.ReLU()\n",
    "        \n",
    "    def forward(self, x):\n",
    "        \"\"\"\n",
    "        Forward pass\n",
    "        \n",
    "        Args:\n",
    "            x: Input tensor of shape (batch_size, sequence_length, 20) - one-hot encoded\n",
    "            \n",
    "        Returns:\n",
    "            Output tensor of shape (batch_size, output_dim)\n",
    "        \"\"\"\n",
    "        # LSTM (x is already one-hot encoded)\n",
    "        lstm_out, (hidden, cell) = self.lstm(x)\n",
    "        \n",
    "        # Use the last hidden state\n",
    "        if self.bidirectional:\n",
    "            # Concatenate forward and backward hidden states\n",
    "            hidden = torch.cat((hidden[-2,:,:], hidden[-1,:,:]), dim=1)\n",
    "        else:\n",
    "            hidden = hidden[-1,:,:]\n",
    "        \n",
    "        # Fully connected layers\n",
    "        out = self.relu(self.fc1(hidden))\n",
    "        out = self.dropout(out)\n",
    "        out = self.relu(self.fc2(out))\n",
    "        out = self.dropout(out)\n",
    "        out = self.fc3(out)\n",
    "        \n",
    "        return out"
   ]
  },
  {
   "cell_type": "code",
   "execution_count": 11,
   "id": "9c45426f",
   "metadata": {},
   "outputs": [],
   "source": [
    "class EmbeddingsCNN(nn.Module):\n",
    "    def __init__(self, input_channels=960, seq_len=739):\n",
    "        super().__init__()\n",
    "        self.conv1 = nn.Conv1d(input_channels, 16, kernel_size=5, padding=2)\n",
    "        self.pool = nn.MaxPool1d(2)\n",
    "        self.conv2 = nn.Conv1d(16, 32, kernel_size=5, padding=2)\n",
    "\n",
    "        conv_output_len = seq_len // 4 \n",
    "        self.fc1 = nn.Linear(32 * conv_output_len, 128)\n",
    "        self.fc2 = nn.Linear(128, 1)\n",
    "\n",
    "    def forward(self, x):\n",
    "        # x: [B, L, C] → [B, C, L]\n",
    "        x = x.permute(0, 2, 1)\n",
    "        x = self.pool(F.relu(self.conv1(x)))\n",
    "        x = self.pool(F.relu(self.conv2(x)))\n",
    "        x = x.view(x.size(0), -1)\n",
    "        x = F.relu(self.fc1(x))\n",
    "        return self.fc2(x)"
   ]
  },
  {
   "cell_type": "code",
   "execution_count": 43,
   "id": "5110065a",
   "metadata": {},
   "outputs": [],
   "source": [
    "class ProteinCNN(nn.Module):\n",
    "    def __init__(self, num_amino_acids=20, embedding_dim=64, num_filters=96, dropout_rate=0.4):\n",
    "        \"\"\"\n",
    "        Initialize the intermediate CNN architecture.\n",
    "        \n",
    "        Args:\n",
    "            num_amino_acids: Vocabulary size (e.g., 20).\n",
    "            embedding_dim: Size of the learned embedding vector.\n",
    "            num_filters: Number of filters. Increased slightly to 96 to give more capacity.\n",
    "            dropout_rate: A more moderate dropout rate.\n",
    "        \"\"\"\n",
    "        super(ProteinCNN, self).__init__()\n",
    "\n",
    "        self.embedding = nn.Embedding(num_embeddings=num_amino_acids, embedding_dim=embedding_dim)\n",
    "\n",
    "        self.conv1 = nn.Conv1d(embedding_dim, num_filters, kernel_size=3, padding=1)\n",
    "        self.conv2 = nn.Conv1d(embedding_dim, num_filters, kernel_size=5, padding=2)\n",
    "        self.conv3 = nn.Conv1d(embedding_dim, num_filters, kernel_size=7, padding=3)\n",
    "\n",
    "        self.batch_norm1 = nn.BatchNorm1d(num_filters)\n",
    "        self.batch_norm2 = nn.BatchNorm1d(num_filters)\n",
    "        self.batch_norm3 = nn.BatchNorm1d(num_filters)\n",
    "\n",
    "        self.conv4 = nn.Conv1d(num_filters * 3, num_filters * 2, kernel_size=3, padding=1)\n",
    "        self.batch_norm4 = nn.BatchNorm1d(num_filters * 2)\n",
    "        \n",
    "        self.global_pool = nn.AdaptiveAvgPool1d(1)\n",
    "\n",
    "        self.fc1 = nn.Linear(num_filters * 2, 256) \n",
    "        self.fc_out = nn.Linear(256, 1)\n",
    "        \n",
    "        self.dropout = nn.Dropout(dropout_rate)\n",
    "\n",
    "    def forward(self, x_one_hot):\n",
    "        \"\"\"\n",
    "        Forward pass.\n",
    "        \n",
    "        Args:\n",
    "            x_one_hot: Input tensor of one-hot vectors [batch, seq_len, num_amino_acids]\n",
    "        \"\"\"\n",
    "        x_indices = torch.argmax(x_one_hot, dim=2)\n",
    "        \n",
    "        x = self.embedding(x_indices)\n",
    "        x = x.transpose(1, 2)\n",
    "        \n",
    "        conv1_out = F.relu(self.batch_norm1(self.conv1(x)))\n",
    "        conv2_out = F.relu(self.batch_norm2(self.conv2(x)))\n",
    "        conv3_out = F.relu(self.batch_norm3(self.conv3(x)))\n",
    "        \n",
    "        x = torch.cat([conv1_out, conv2_out, conv3_out], dim=1)\n",
    "        \n",
    "        x = F.relu(self.batch_norm4(self.conv4(x)))\n",
    "        x = self.dropout(x) \n",
    "        \n",
    "        x = self.global_pool(x)\n",
    "        x = x.view(x.size(0), -1)\n",
    "        \n",
    "        x = F.relu(self.fc1(x))\n",
    "        x = self.dropout(x)\n",
    "        \n",
    "        x = self.fc_out(x)\n",
    "        \n",
    "        return x"
   ]
  },
  {
   "cell_type": "markdown",
   "id": "9779f669",
   "metadata": {},
   "source": [
    "### Обучение моделей"
   ]
  },
  {
   "cell_type": "code",
   "execution_count": 27,
   "id": "be11b903",
   "metadata": {},
   "outputs": [],
   "source": [
    "def train_model(model, train_loader, val_loader, num_epochs=100, learning_rate=0.001):\n",
    "    \"\"\"Train the LSTM model.\"\"\"\n",
    "    device = torch.device('cuda' if torch.cuda.is_available() else 'cpu')\n",
    "    model.to(device)\n",
    "    \n",
    "    criterion = nn.MSELoss()\n",
    "    optimizer = torch.optim.Adam(model.parameters(), lr=learning_rate, weight_decay=1e-5)\n",
    "    \n",
    "    train_losses = []\n",
    "    val_losses = []\n",
    "    best_val_loss = float('inf')\n",
    "    best_model_state = None\n",
    "    \n",
    "    print(f\"Training on {device}\")\n",
    "    print(f\"Number of parameters: {sum(p.numel() for p in model.parameters()):,}\")\n",
    "    \n",
    "    for epoch in range(num_epochs):\n",
    "        # Training phase\n",
    "        model.train()\n",
    "        train_loss = 0.0\n",
    "        \n",
    "        for batch_idx, data in enumerate(tqdm(train_loader, desc=f\"Epoch {epoch+1}/{num_epochs}\")):\n",
    "            sequences, targets = data[0], data[1]\n",
    "            sequences, targets = sequences.to(device), targets.to(device)\n",
    "            \n",
    "            optimizer.zero_grad()\n",
    "            predictions = model(sequences).squeeze()\n",
    "            loss = criterion(predictions, targets)\n",
    "            loss.backward()\n",
    "            \n",
    "            # Gradient clipping to prevent exploding gradients\n",
    "            torch.nn.utils.clip_grad_norm_(model.parameters(), max_norm=1.0)\n",
    "            \n",
    "            optimizer.step()\n",
    "            train_loss += loss.item()\n",
    "        \n",
    "        # Validation phase\n",
    "        model.eval()\n",
    "        val_loss = 0.0\n",
    "        \n",
    "        with torch.no_grad():\n",
    "            for data in val_loader:\n",
    "                sequences, targets = data[0], data[1]\n",
    "                sequences, targets = sequences.to(device), targets.to(device)\n",
    "                predictions = model(sequences).squeeze()\n",
    "                loss = criterion(predictions, targets)\n",
    "                val_loss += loss.item()\n",
    "        \n",
    "        # Calculate average losses\n",
    "        avg_train_loss = train_loss / len(train_loader)\n",
    "        avg_val_loss = val_loss / len(val_loader)\n",
    "        \n",
    "        train_losses.append(avg_train_loss)\n",
    "        val_losses.append(avg_val_loss)\n",
    "        \n",
    "        # Save best model\n",
    "        if avg_val_loss < best_val_loss:\n",
    "            best_val_loss = avg_val_loss\n",
    "            best_model_state = model.state_dict().copy()\n",
    "        \n",
    "        # Print progress\n",
    "        if (epoch + 1) % 5 == 0:\n",
    "            print(f\"Epoch {epoch+1}/{num_epochs}\")\n",
    "            print(f\"Train Loss: {avg_train_loss:.4f}, Val Loss: {avg_val_loss:.4f}\")\n",
    "            print(f\"Learning Rate: {optimizer.param_groups[0]['lr']:.6f}\")\n",
    "            print(\"-\" * 50)\n",
    "    \n",
    "    # Load best model\n",
    "    model.load_state_dict(best_model_state)\n",
    "    \n",
    "    return model, train_losses, val_losses"
   ]
  },
  {
   "cell_type": "code",
   "execution_count": 28,
   "id": "9d3cfb81",
   "metadata": {},
   "outputs": [],
   "source": [
    "from sklearn.metrics import mean_squared_error, mean_absolute_error, r2_score"
   ]
  },
  {
   "cell_type": "code",
   "execution_count": 29,
   "id": "bfab222a",
   "metadata": {},
   "outputs": [],
   "source": [
    "def evaluate_model(model, data_loader, dataset=None, target_property=None):\n",
    "    model.eval()\n",
    "    predictions, true_values = [], []\n",
    "\n",
    "    with torch.no_grad():\n",
    "        for data in data_loader:\n",
    "            sequences, targets = data[0], data[1]\n",
    "            sequences, targets = sequences.to(device), targets.to(device)\n",
    "\n",
    "            # Adjust input shape if needed\n",
    "            if sequences.ndim == 4:\n",
    "                sequences = sequences.permute(0, 2, 3, 1)  # B, H, W, C\n",
    "                sequences = sequences.reshape(sequences.shape[0], sequences.shape[1], -1)\n",
    "\n",
    "            outputs = model(sequences)\n",
    "            predictions.extend(outputs.squeeze().cpu().numpy())\n",
    "            true_values.extend(targets.squeeze().cpu().numpy())\n",
    "\n",
    "    predictions = np.array(predictions)\n",
    "    true_values = np.array(true_values)\n",
    "\n",
    "    # Denormalize if possible\n",
    "    if dataset is not None and hasattr(dataset, 'denormalize_target'):\n",
    "        predictions = np.array([dataset.denormalize_target(p, target_property) for p in predictions])\n",
    "        true_values = np.array([dataset.denormalize_target(t, target_property) for t in true_values])\n",
    "\n",
    "    # Calculate metrics\n",
    "    mse = mean_squared_error(true_values, predictions)\n",
    "    mae = mean_absolute_error(true_values, predictions)\n",
    "    r2 = r2_score(true_values, predictions)\n",
    "\n",
    "    print(f\"\\nTest MSE: {mse:.4f}\")\n",
    "    print(f\"Test MAE: {mae:.4f}\")\n",
    "    print(f\"Test R²:  {r2:.4f}\")\n",
    "\n",
    "    return predictions, true_values, mse, mae, r2"
   ]
  },
  {
   "cell_type": "code",
   "execution_count": 30,
   "id": "18daaf1f",
   "metadata": {},
   "outputs": [],
   "source": [
    "def plot_results(train_losses, val_losses, predictions, true_values, target_property):\n",
    "    \"\"\"Plot training results and predictions.\"\"\"\n",
    "    fig, (ax1, ax2) = plt.subplots(1, 2, figsize=(15, 5))\n",
    "    \n",
    "    # Plot training curves\n",
    "    ax1.plot(train_losses, label='Training Loss')\n",
    "    ax1.plot(val_losses, label='Validation Loss')\n",
    "    ax1.set_xlabel('Epoch')\n",
    "    ax1.set_ylabel('Loss')\n",
    "    ax1.set_title('Training and Validation Loss')\n",
    "    ax1.legend()\n",
    "    ax1.grid(True)\n",
    "    \n",
    "    # Plot predictions vs true values\n",
    "    ax2.scatter(true_values, predictions, alpha=0.7)\n",
    "    ax2.plot([min(true_values), max(true_values)], [min(true_values), max(true_values)], 'r--', lw=2)\n",
    "    ax2.set_xlabel(f'True {target_property}')\n",
    "    ax2.set_ylabel(f'Predicted {target_property}')\n",
    "    ax2.set_title(f'Predictions vs True Values\\n{target_property}')\n",
    "    ax2.grid(True)\n",
    "    \n",
    "    plt.tight_layout()\n",
    "    plt.show()"
   ]
  },
  {
   "cell_type": "code",
   "execution_count": 31,
   "id": "b1d288cb-6d42-4041-97a9-baea4958c09b",
   "metadata": {},
   "outputs": [],
   "source": [
    "from fpgen.prop_prediction.metrics import get_regression_metrics, get_classification_metrics, bootstrap_metric_ci"
   ]
  },
  {
   "cell_type": "markdown",
   "id": "98e19c47",
   "metadata": {},
   "source": [
    "<h3>Работа с ProteinLSTM</h3>"
   ]
  },
  {
   "cell_type": "code",
   "execution_count": 42,
   "id": "edfe09d6",
   "metadata": {},
   "outputs": [
    {
     "name": "stdout",
     "output_type": "stream",
     "text": [
      "(tensor([[[0., 0., 0.,  ..., 0., 0., 0.],\n",
      "         [1., 0., 0.,  ..., 0., 0., 0.],\n",
      "         [0., 0., 0.,  ..., 0., 0., 0.],\n",
      "         ...,\n",
      "         [0., 0., 0.,  ..., 0., 0., 0.],\n",
      "         [0., 0., 0.,  ..., 0., 0., 0.],\n",
      "         [0., 0., 0.,  ..., 0., 0., 0.]],\n",
      "\n",
      "        [[0., 0., 0.,  ..., 0., 0., 0.],\n",
      "         [0., 0., 0.,  ..., 0., 0., 0.],\n",
      "         [0., 0., 0.,  ..., 0., 0., 0.],\n",
      "         ...,\n",
      "         [0., 0., 0.,  ..., 0., 0., 0.],\n",
      "         [0., 0., 0.,  ..., 0., 0., 0.],\n",
      "         [0., 0., 0.,  ..., 0., 0., 0.]],\n",
      "\n",
      "        [[0., 0., 0.,  ..., 0., 0., 0.],\n",
      "         [1., 0., 0.,  ..., 0., 0., 0.],\n",
      "         [0., 0., 0.,  ..., 0., 0., 0.],\n",
      "         ...,\n",
      "         [0., 0., 0.,  ..., 0., 0., 0.],\n",
      "         [0., 0., 0.,  ..., 0., 0., 0.],\n",
      "         [0., 0., 0.,  ..., 0., 0., 0.]],\n",
      "\n",
      "        ...,\n",
      "\n",
      "        [[0., 0., 0.,  ..., 0., 0., 0.],\n",
      "         [0., 0., 0.,  ..., 1., 0., 0.],\n",
      "         [0., 0., 0.,  ..., 0., 0., 0.],\n",
      "         ...,\n",
      "         [0., 0., 0.,  ..., 0., 0., 0.],\n",
      "         [0., 0., 0.,  ..., 0., 0., 0.],\n",
      "         [0., 0., 0.,  ..., 0., 0., 0.]],\n",
      "\n",
      "        [[0., 0., 0.,  ..., 0., 0., 0.],\n",
      "         [0., 0., 0.,  ..., 1., 0., 0.],\n",
      "         [0., 0., 0.,  ..., 0., 0., 0.],\n",
      "         ...,\n",
      "         [0., 0., 0.,  ..., 0., 0., 0.],\n",
      "         [0., 0., 0.,  ..., 0., 0., 0.],\n",
      "         [0., 0., 0.,  ..., 0., 0., 0.]],\n",
      "\n",
      "        [[0., 0., 0.,  ..., 0., 0., 0.],\n",
      "         [0., 0., 0.,  ..., 1., 0., 0.],\n",
      "         [0., 0., 0.,  ..., 0., 0., 0.],\n",
      "         ...,\n",
      "         [0., 0., 0.,  ..., 0., 0., 0.],\n",
      "         [0., 0., 0.,  ..., 0., 0., 0.],\n",
      "         [0., 0., 0.,  ..., 0., 0., 0.]]]), tensor([ 0.5102, -0.6570,  2.7513, -0.1901, -0.3924, -0.8905,  0.8215, -0.4858,\n",
      "        -0.7193, -1.0772, -0.2524,  1.9732, -0.2991,  0.7748, -0.5636, -0.6415,\n",
      "         1.0549, -0.5792,  0.2768, -0.5948, -0.5325, -0.5792, -0.4703,  2.0510,\n",
      "         0.9927,  1.0705,  0.7748, -0.6415, -0.5792,  0.2768,  1.1483,  1.3662,\n",
      "        -0.5325, -0.4236, -0.4703, -0.2212,  0.5102, -0.5014, -1.5286, -0.7660,\n",
      "        -0.5481, -0.2212, -0.1901, -1.4819,  0.8682, -0.4547, -0.4858, -0.3613,\n",
      "        -0.2368, -0.5325, -0.2212,  0.8215, -0.5014, -0.5636, -0.2057,  0.8526,\n",
      "        -0.6726, -0.6259, -0.7193, -0.2679, -0.9060,  2.1288, -0.5325, -0.4391,\n",
      "        -0.4391, -0.3924, -0.4236, -0.4703, -0.5948, -0.5481,  1.1327,  1.5841,\n",
      "        -0.5014, -0.5169, -0.6726, -0.4547, -0.6259, -0.3146,  1.3506, -0.5636,\n",
      "        -0.5325, -0.5169, -0.6259,  0.6814, -0.5014, -0.2057,  0.7592,  1.2261,\n",
      "        -0.5792, -0.5792,  0.1523, -0.6259, -0.5169, -0.7504, -0.7504,  0.5725,\n",
      "        -0.5325, -0.5325,  0.7592, -0.5014, -0.1279, -0.8749, -0.6415, -0.6103,\n",
      "         1.2572, -0.5948, -1.3574, -0.2524, -0.9216,  0.8059, -0.4858, -0.5325,\n",
      "        -0.6103, -0.2991, -0.9216,  2.5646, -0.4858,  0.9615, -0.0345,  1.1950,\n",
      "        -0.5636,  1.3195, -0.2679, -0.6103, -0.3613, -0.8282,  1.4284, -0.5948,\n",
      "        -0.2057, -0.2991, -0.4236, -0.7504,  2.1288,  0.9149,  1.6308, -0.6103,\n",
      "         0.6036, -0.2212,  0.7281, -0.5169,  1.2884, -0.5481, -1.0772, -0.5325,\n",
      "        -0.4080, -0.5014, -0.5169, -0.3146, -0.8126,  1.6619, -0.5636, -0.7971,\n",
      "        -0.5169, -1.5130, -0.5481, -0.4547, -0.6415, -0.6415, -0.4391,  1.3506,\n",
      "         0.7904, -1.3885, -0.5948,  2.4867,  7.1090,  1.0394, -0.5014,  0.5725,\n",
      "        -0.4703, -1.0772, -0.5325,  1.0705, -1.2951,  0.7125, -0.3769, -0.5169,\n",
      "        -0.5792, -0.5014,  0.7125, -0.3302, -1.4196, -0.4703, -0.4391, -1.0772,\n",
      "         0.6192, -0.6103,  0.5413,  0.5569,  0.2768,  0.5413, -0.2679,  1.9732,\n",
      "        -0.4080,  2.1443, -0.4547, -0.5948, -1.0772, -0.8593, -0.5948, -0.0812,\n",
      "         1.9732, -0.6259, -0.6259, -0.8749, -0.5169, -0.5792,  0.6503,  0.8837,\n",
      "        -0.5636, -0.6881, -0.4858, -0.2524,  0.3390, -0.6881,  1.2728, -1.3729,\n",
      "        -1.0305,  0.3079,  1.4596,  1.4440,  1.9732,  0.4480,  0.9771, -0.2524,\n",
      "        -0.2524,  1.0549, -1.5130,  1.5841, -0.5169, -0.2991,  0.7437, -0.5948,\n",
      "        -1.8554, -0.6259,  0.7592, -0.6415,  1.5996,  0.3390,  1.1327, -0.6259,\n",
      "        -0.6415,  1.3973,  1.6619,  0.7904, -0.2057, -0.8438, -0.4391, -0.5792,\n",
      "        -0.4391, -0.6415, -0.2679, -0.5325, -1.0928, -0.4858,  2.4867, -0.8905,\n",
      "         2.7513,  0.6347, -0.6726, -0.5948, -0.3613,  0.4635, -0.6103, -0.8905,\n",
      "         0.8059,  2.7513,  0.4168, -0.5792,  1.0705, -0.5792,  2.6424,  1.9732,\n",
      "        -0.5014,  0.5880,  1.3662, -1.4819, -1.4507,  2.4712, -0.5169, -0.5169,\n",
      "        -0.5792, -0.5481, -1.3574,  2.6424, -0.5169, -0.4547, -1.3885,  1.6308,\n",
      "        -0.3769, -0.5948,  1.2261, -0.8593,  1.1950, -0.9216, -0.2835, -0.5792,\n",
      "         1.3506,  0.9615, -1.1706, -0.2524, -0.4547, -0.4858, -0.2368,  2.5334,\n",
      "        -0.4080, -0.5014, -1.0928, -0.5948, -0.4391, -0.6881, -0.5325, -0.9372,\n",
      "         1.7553, -0.5014, -1.0772,  2.7513, -0.5325,  0.2923, -0.5481, -0.4080,\n",
      "        -0.9683,  0.7592,  2.1910, -0.4703, -0.5014, -0.5948,  1.6619,  0.6347,\n",
      "         2.4712,  2.1599,  0.6036,  1.3973, -0.5481, -0.5792, -1.0305,  0.5880,\n",
      "        -2.5090, -0.4391, -0.4236, -0.5169,  1.0238, -0.2991, -0.4236,  1.1639,\n",
      "        -0.2991, -0.6259,  1.3973, -0.6103, -1.3418, -1.3262, -0.6415, -0.2212,\n",
      "        -0.2524, -0.5481,  1.9109, -0.4391,  0.6192,  0.8526, -0.4547,  0.6503,\n",
      "        -0.7971, -1.4819, -0.4236, -1.2795, -0.5169, -0.4236, -0.5792, -0.9527,\n",
      "        -0.5792, -0.3924, -0.3146, -0.4858, -1.3418, -1.4352, -0.6726, -0.5792,\n",
      "         1.0394,  0.8526,  1.5996, -0.9372, -0.0345,  1.3506, -0.5014,  1.8642,\n",
      "        -0.7193, -0.6259, -0.5481, -0.4236,  1.9887, -0.2835, -0.9838,  1.0549,\n",
      "        -0.5325, -1.0617, -0.3613, -0.3302, -0.5481, -0.4547, -0.0812,  1.0394,\n",
      "        -0.5169,  0.6503, -0.5169,  0.9149, -0.9838, -0.6103, -0.9060,  0.2768,\n",
      "         1.0394, -0.7971, -0.7504, -0.3146,  1.9732, -0.7504, -1.3262,  1.2728,\n",
      "         0.8059, -0.2835, -0.9060, -0.5014, -1.4819, -0.4080, -0.3302,  0.7592,\n",
      "        -0.0812, -0.4391,  0.5569, -1.1083, -0.5014, -0.6726, -0.2524, -0.4236,\n",
      "        -0.5014, -0.6415, -0.5792,  1.3195, -0.2835,  0.6970, -1.0305, -0.6103,\n",
      "        -0.5481,  1.1016, -0.5169, -0.3924, -0.2057,  1.7397, -0.4858,  0.8059,\n",
      "        -0.5014,  1.7708,  1.9732, -0.5169, -1.3262, -0.4080,  2.1599, -0.6259,\n",
      "         1.3506,  0.6503, -0.5169,  0.6659,  0.6970,  1.8486, -0.7971, -0.7348,\n",
      "         1.0549, -0.3769, -0.4858,  0.7748, -1.0305, -0.2368, -0.5948,  0.8526,\n",
      "         1.6775,  1.3973, -0.2368, -0.5948,  0.8526,  1.4596, -0.5325,  0.2612,\n",
      "        -0.6103, -0.6881, -0.5169,  0.2923,  0.7904, -0.7504, -0.6103,  0.6659,\n",
      "         0.6814, -0.2991, -0.4236,  0.7592,  0.9771, -0.5169,  0.6814,  1.3506,\n",
      "        -0.8282, -0.4236, -0.5169, -1.3885, -0.3458, -1.0772, -0.5481,  1.3973,\n",
      "        -0.5014, -0.5792, -0.5481, -0.3302, -0.3302, -0.2991,  0.7437,  1.1950,\n",
      "         0.7592,  0.8837]))\n",
      "Training on cuda\n",
      "Number of parameters: 639,169\n"
     ]
    },
    {
     "name": "stderr",
     "output_type": "stream",
     "text": [
      "Epoch 1/200: 100%|██████████| 17/17 [00:01<00:00, 14.30it/s]\n",
      "Epoch 2/200: 100%|██████████| 17/17 [00:00<00:00, 24.22it/s]\n",
      "Epoch 3/200: 100%|██████████| 17/17 [00:00<00:00, 24.16it/s]\n",
      "Epoch 4/200: 100%|██████████| 17/17 [00:00<00:00, 25.27it/s]\n",
      "Epoch 5/200: 100%|██████████| 17/17 [00:00<00:00, 25.05it/s]\n"
     ]
    },
    {
     "name": "stdout",
     "output_type": "stream",
     "text": [
      "Epoch 5/200\n",
      "Train Loss: 0.8645, Val Loss: 0.6544\n",
      "Learning Rate: 0.001000\n",
      "--------------------------------------------------\n"
     ]
    },
    {
     "name": "stderr",
     "output_type": "stream",
     "text": [
      "Epoch 6/200: 100%|██████████| 17/17 [00:00<00:00, 24.48it/s]\n",
      "Epoch 7/200:  47%|████▋     | 8/17 [00:00<00:00, 19.98it/s]\n"
     ]
    },
    {
     "ename": "KeyboardInterrupt",
     "evalue": "",
     "output_type": "error",
     "traceback": [
      "\u001b[1;31m---------------------------------------------------------------------------\u001b[0m",
      "\u001b[1;31mKeyboardInterrupt\u001b[0m                         Traceback (most recent call last)",
      "Cell \u001b[1;32mIn[42], line 30\u001b[0m\n\u001b[0;32m     28\u001b[0m \u001b[38;5;66;03m# Train the model\u001b[39;00m\n\u001b[0;32m     29\u001b[0m \u001b[38;5;28mprint\u001b[39m(train_loader\u001b[38;5;241m.\u001b[39mdataset\u001b[38;5;241m.\u001b[39mtensors)\n\u001b[1;32m---> 30\u001b[0m trained_model, train_losses, val_losses \u001b[38;5;241m=\u001b[39m \u001b[43mtrain_model\u001b[49m\u001b[43m(\u001b[49m\n\u001b[0;32m     31\u001b[0m \u001b[43m    \u001b[49m\u001b[43mmodel\u001b[49m\u001b[43m,\u001b[49m\u001b[43m \u001b[49m\u001b[43mtrain_loader\u001b[49m\u001b[43m,\u001b[49m\u001b[43m \u001b[49m\u001b[43mval_loader\u001b[49m\u001b[43m,\u001b[49m\u001b[43m \u001b[49m\u001b[43mNUM_EPOCHS\u001b[49m\u001b[43m,\u001b[49m\u001b[43m \u001b[49m\u001b[43mLEARNING_RATE\u001b[49m\n\u001b[0;32m     32\u001b[0m \u001b[43m)\u001b[49m\n\u001b[0;32m     34\u001b[0m \u001b[38;5;66;03m# Evaluate\u001b[39;00m\n\u001b[0;32m     35\u001b[0m predictions1, true_values, mse, mae, r2 \u001b[38;5;241m=\u001b[39m evaluate_model(\n\u001b[0;32m     36\u001b[0m     trained_model, test_loader, dataset_test, TARGET_PROPERTY\n\u001b[0;32m     37\u001b[0m )\n",
      "Cell \u001b[1;32mIn[27], line 35\u001b[0m, in \u001b[0;36mtrain_model\u001b[1;34m(model, train_loader, val_loader, num_epochs, learning_rate)\u001b[0m\n\u001b[0;32m     32\u001b[0m     torch\u001b[38;5;241m.\u001b[39mnn\u001b[38;5;241m.\u001b[39mutils\u001b[38;5;241m.\u001b[39mclip_grad_norm_(model\u001b[38;5;241m.\u001b[39mparameters(), max_norm\u001b[38;5;241m=\u001b[39m\u001b[38;5;241m1.0\u001b[39m)\n\u001b[0;32m     34\u001b[0m     optimizer\u001b[38;5;241m.\u001b[39mstep()\n\u001b[1;32m---> 35\u001b[0m     train_loss \u001b[38;5;241m+\u001b[39m\u001b[38;5;241m=\u001b[39m \u001b[43mloss\u001b[49m\u001b[38;5;241;43m.\u001b[39;49m\u001b[43mitem\u001b[49m\u001b[43m(\u001b[49m\u001b[43m)\u001b[49m\n\u001b[0;32m     37\u001b[0m \u001b[38;5;66;03m# Validation phase\u001b[39;00m\n\u001b[0;32m     38\u001b[0m model\u001b[38;5;241m.\u001b[39meval()\n",
      "\u001b[1;31mKeyboardInterrupt\u001b[0m: "
     ]
    }
   ],
   "source": [
    "\"\"\"Main training pipeline.\"\"\"\n",
    "TARGET_PROPERTY = 'em_max'  # Change this to predict different properties\n",
    "\n",
    "# Available properties from your dataset:\n",
    "# brightness, ex_max, em_max, ext_coeff, lifetime, maturation, pka, stokes_shift, qy, agg, switch_type\n",
    "\n",
    "# Hyperparameters\n",
    "MAX_LENGTH = 256\n",
    "BATCH_SIZE = 64\n",
    "NUM_EPOCHS = 200\n",
    "LEARNING_RATE = 0.001\n",
    "\n",
    "# sample_batch = next(iter(train_loader))[0]\n",
    "# embedding_dim = sample_batch.shape[-1]\n",
    "\n",
    "\n",
    "# Instantiate the new model\n",
    "# выбор между EmbeddingLSTM и ProteinLSTM\n",
    "model = ProteinLSTM(\n",
    "        input_dim=20,  # One-hot encoded amino acids\n",
    "        hidden_dim=256,\n",
    "        num_layers=1,\n",
    "        output_dim=1,\n",
    "        dropout=0.5,\n",
    "        bidirectional=True\n",
    "    )\n",
    "\n",
    "# Train the model\n",
    "print(train_loader.dataset.tensors)\n",
    "trained_model, train_losses, val_losses = train_model(\n",
    "    model, train_loader, val_loader, NUM_EPOCHS, LEARNING_RATE\n",
    ")\n",
    "\n",
    "# Evaluate\n",
    "predictions1, true_values, mse, mae, r2 = evaluate_model(\n",
    "    trained_model, test_loader, dataset_test, TARGET_PROPERTY\n",
    ")\n",
    "\n",
    "# Plot\n",
    "plot_results(train_losses, val_losses, predictions1, true_values, TARGET_PROPERTY)\n",
    "\n",
    "# Save model \n",
    "torch.save(trained_model.state_dict(), f'lstm_model_{TARGET_PROPERTY}_onehot.pth')\n",
    "print(f\"\\nModel saved as 'lstm_model_{TARGET_PROPERTY}_onehot.pth'\")\n"
   ]
  },
  {
   "cell_type": "code",
   "execution_count": null,
   "id": "fce8b481",
   "metadata": {},
   "outputs": [],
   "source": []
  },
  {
   "cell_type": "markdown",
   "id": "aaa5199b",
   "metadata": {},
   "source": [
    "<h3>Работа с EmbeddingLSTM</h3>"
   ]
  },
  {
   "cell_type": "code",
   "execution_count": null,
   "id": "a3405fc4",
   "metadata": {},
   "outputs": [],
   "source": [
    "for i in train_loader:\n",
    "    print(i)\n",
    "    print(i[0].shape)\n",
    "    break"
   ]
  },
  {
   "cell_type": "code",
   "execution_count": null,
   "id": "00e2757f",
   "metadata": {
    "scrolled": true
   },
   "outputs": [
    {
     "name": "stdout",
     "output_type": "stream",
     "text": [
      "Training on cuda\n",
      "Number of parameters: 1,181,761\n"
     ]
    },
    {
     "name": "stderr",
     "output_type": "stream",
     "text": [
      "Epoch 1/40: 100%|██████████| 17/17 [00:02<00:00,  7.05it/s]\n",
      "Epoch 2/40: 100%|██████████| 17/17 [00:01<00:00, 11.42it/s]\n",
      "Epoch 3/40: 100%|██████████| 17/17 [00:01<00:00, 11.54it/s]\n",
      "Epoch 4/40: 100%|██████████| 17/17 [00:01<00:00, 11.43it/s]\n",
      "Epoch 5/40: 100%|██████████| 17/17 [00:01<00:00, 11.41it/s]\n"
     ]
    },
    {
     "name": "stdout",
     "output_type": "stream",
     "text": [
      "Epoch 5/40\n",
      "Train Loss: 0.4585, Val Loss: 0.4747\n",
      "Learning Rate: 0.001000\n",
      "--------------------------------------------------\n"
     ]
    },
    {
     "name": "stderr",
     "output_type": "stream",
     "text": [
      "Epoch 6/40: 100%|██████████| 17/17 [00:01<00:00, 11.49it/s]\n",
      "Epoch 7/40: 100%|██████████| 17/17 [00:01<00:00, 11.69it/s]\n",
      "Epoch 8/40: 100%|██████████| 17/17 [00:01<00:00, 11.76it/s]\n",
      "Epoch 9/40: 100%|██████████| 17/17 [00:01<00:00, 11.83it/s]\n",
      "Epoch 10/40: 100%|██████████| 17/17 [00:01<00:00, 11.95it/s]\n"
     ]
    },
    {
     "name": "stdout",
     "output_type": "stream",
     "text": [
      "Epoch 10/40\n",
      "Train Loss: 0.3016, Val Loss: 0.2769\n",
      "Learning Rate: 0.001000\n",
      "--------------------------------------------------\n"
     ]
    },
    {
     "name": "stderr",
     "output_type": "stream",
     "text": [
      "Epoch 11/40: 100%|██████████| 17/17 [00:01<00:00, 11.73it/s]\n",
      "Epoch 12/40: 100%|██████████| 17/17 [00:01<00:00, 11.30it/s]\n",
      "Epoch 13/40: 100%|██████████| 17/17 [00:01<00:00, 11.59it/s]\n",
      "Epoch 14/40: 100%|██████████| 17/17 [00:01<00:00, 11.91it/s]\n",
      "Epoch 15/40: 100%|██████████| 17/17 [00:01<00:00, 11.91it/s]\n"
     ]
    },
    {
     "name": "stdout",
     "output_type": "stream",
     "text": [
      "Epoch 15/40\n",
      "Train Loss: 0.3233, Val Loss: 0.4298\n",
      "Learning Rate: 0.001000\n",
      "--------------------------------------------------\n"
     ]
    },
    {
     "name": "stderr",
     "output_type": "stream",
     "text": [
      "Epoch 16/40: 100%|██████████| 17/17 [00:01<00:00, 11.76it/s]\n",
      "Epoch 17/40: 100%|██████████| 17/17 [00:01<00:00, 12.01it/s]\n",
      "Epoch 18/40: 100%|██████████| 17/17 [00:01<00:00, 12.08it/s]\n",
      "Epoch 19/40: 100%|██████████| 17/17 [00:01<00:00, 11.90it/s]\n",
      "Epoch 20/40: 100%|██████████| 17/17 [00:01<00:00, 11.83it/s]\n"
     ]
    },
    {
     "name": "stdout",
     "output_type": "stream",
     "text": [
      "Epoch 20/40\n",
      "Train Loss: 0.2529, Val Loss: 0.2687\n",
      "Learning Rate: 0.001000\n",
      "--------------------------------------------------\n"
     ]
    },
    {
     "name": "stderr",
     "output_type": "stream",
     "text": [
      "Epoch 21/40: 100%|██████████| 17/17 [00:01<00:00, 11.88it/s]\n",
      "Epoch 22/40: 100%|██████████| 17/17 [00:01<00:00, 12.16it/s]\n",
      "Epoch 23/40: 100%|██████████| 17/17 [00:01<00:00, 12.59it/s]\n",
      "Epoch 24/40: 100%|██████████| 17/17 [00:01<00:00, 12.50it/s]\n",
      "Epoch 25/40: 100%|██████████| 17/17 [00:01<00:00, 12.53it/s]\n"
     ]
    },
    {
     "name": "stdout",
     "output_type": "stream",
     "text": [
      "Epoch 25/40\n",
      "Train Loss: 0.2278, Val Loss: 0.3393\n",
      "Learning Rate: 0.001000\n",
      "--------------------------------------------------\n"
     ]
    },
    {
     "name": "stderr",
     "output_type": "stream",
     "text": [
      "Epoch 26/40: 100%|██████████| 17/17 [00:01<00:00, 12.59it/s]\n",
      "Epoch 27/40: 100%|██████████| 17/17 [00:01<00:00, 12.51it/s]\n",
      "Epoch 28/40: 100%|██████████| 17/17 [00:01<00:00, 12.38it/s]\n",
      "Epoch 29/40: 100%|██████████| 17/17 [00:01<00:00, 11.51it/s]\n",
      "Epoch 30/40: 100%|██████████| 17/17 [00:01<00:00, 11.68it/s]\n"
     ]
    },
    {
     "name": "stdout",
     "output_type": "stream",
     "text": [
      "Epoch 30/40\n",
      "Train Loss: 0.2503, Val Loss: 0.3642\n",
      "Learning Rate: 0.001000\n",
      "--------------------------------------------------\n"
     ]
    },
    {
     "name": "stderr",
     "output_type": "stream",
     "text": [
      "Epoch 31/40: 100%|██████████| 17/17 [00:01<00:00, 11.84it/s]\n",
      "Epoch 32/40: 100%|██████████| 17/17 [00:01<00:00, 11.86it/s]\n",
      "Epoch 33/40: 100%|██████████| 17/17 [00:01<00:00, 11.85it/s]\n",
      "Epoch 34/40: 100%|██████████| 17/17 [00:01<00:00, 12.07it/s]\n",
      "Epoch 35/40: 100%|██████████| 17/17 [00:01<00:00, 12.02it/s]\n"
     ]
    },
    {
     "name": "stdout",
     "output_type": "stream",
     "text": [
      "Epoch 35/40\n",
      "Train Loss: 0.2765, Val Loss: 0.5822\n",
      "Learning Rate: 0.001000\n",
      "--------------------------------------------------\n"
     ]
    },
    {
     "name": "stderr",
     "output_type": "stream",
     "text": [
      "Epoch 36/40: 100%|██████████| 17/17 [00:01<00:00, 11.92it/s]\n",
      "Epoch 37/40: 100%|██████████| 17/17 [00:01<00:00, 12.57it/s]\n",
      "Epoch 38/40: 100%|██████████| 17/17 [00:01<00:00, 12.58it/s]\n",
      "Epoch 39/40: 100%|██████████| 17/17 [00:01<00:00, 12.49it/s]\n",
      "Epoch 40/40: 100%|██████████| 17/17 [00:01<00:00, 12.60it/s]\n"
     ]
    },
    {
     "name": "stdout",
     "output_type": "stream",
     "text": [
      "Epoch 40/40\n",
      "Train Loss: 0.2010, Val Loss: 0.2647\n",
      "Learning Rate: 0.001000\n",
      "--------------------------------------------------\n",
      "\n",
      "Test MSE: 0.2848\n",
      "Test MAE: 0.3445\n",
      "Test R²:  0.6818\n"
     ]
    },
    {
     "data": {
      "image/png": "[encoded data removed]",
      "text/plain": [
       "<Figure size 1500x500 with 2 Axes>"
      ]
     },
     "metadata": {},
     "output_type": "display_data"
    },
    {
     "name": "stdout",
     "output_type": "stream",
     "text": [
      "\n",
      "Model saved as 'lstm_model_em_max_embeddings.pth'\n"
     ]
    }
   ],
   "source": [
    "\"\"\"Main training pipeline.\"\"\"\n",
    "TARGET_PROPERTY = 'em_max'  # Change this to predict different properties\n",
    "\n",
    "# Available properties from your dataset:\n",
    "# brightness, ex_max, em_max, ext_coeff, lifetime, maturation, pka, stokes_shift, qy, agg, switch_type\n",
    "\n",
    "# Hyperparameters\n",
    "MAX_LENGTH = 238\n",
    "NUM_EPOCHS = 40\n",
    "LEARNING_RATE = 0.001\n",
    "\n",
    "sample_batch = next(iter(train_loader))[0]\n",
    "embedding_dim = sample_batch.shape[-1]\n",
    "\n",
    "# Instantiate the new model\n",
    "# выбор между EmbeddingLSTM и ProteinLSTM\n",
    "model = EmbeddingLSTM(\n",
    "    embed_dim=embedding_dim,\n",
    "    hidden_size=128,\n",
    "    num_layers=2,\n",
    "    dropout_rate=0.1\n",
    ").to(device)\n",
    "\n",
    "# Train the model\n",
    "trained_model, train_losses, val_losses = train_model(\n",
    "    model, train_loader, val_loader, NUM_EPOCHS, LEARNING_RATE\n",
    ")\n",
    "\n",
    "# Evaluate\n",
    "predictions1, true_values, mse, mae, r2 = evaluate_model(\n",
    "    trained_model, test_loader, dataset_test, TARGET_PROPERTY\n",
    ")\n",
    "\n",
    "# Plot\n",
    "plot_results(train_losses, val_losses, predictions1, true_values, TARGET_PROPERTY)\n",
    "\n",
    "# Save model\n",
    "torch.save(trained_model.state_dict(), f'weights/lstm_model_{TARGET_PROPERTY}_embeddings.pth')\n",
    "print(f\"\\nModel saved as 'lstm_model_{TARGET_PROPERTY}_embeddings.pth'\")\n"
   ]
  },
  {
   "cell_type": "code",
   "execution_count": null,
   "id": "24ac8857",
   "metadata": {},
   "outputs": [],
   "source": []
  },
  {
   "cell_type": "markdown",
   "id": "13fd3a20",
   "metadata": {},
   "source": [
    "### Работа с CNN + ESM C"
   ]
  },
  {
   "cell_type": "code",
   "execution_count": null,
   "id": "d9f8376c",
   "metadata": {},
   "outputs": [
    {
     "name": "stdout",
     "output_type": "stream",
     "text": [
      "Training on cpu\n",
      "Number of parameters: 833,329\n"
     ]
    },
    {
     "name": "stderr",
     "output_type": "stream",
     "text": [
      "Epoch 1/100:   0%|          | 0/17 [00:00<?, ?it/s]"
     ]
    },
    {
     "name": "stderr",
     "output_type": "stream",
     "text": [
      "Epoch 1/100: 100%|██████████| 17/17 [00:02<00:00,  5.78it/s]\n",
      "Epoch 2/100: 100%|██████████| 17/17 [00:02<00:00,  6.03it/s]\n",
      "Epoch 3/100: 100%|██████████| 17/17 [00:02<00:00,  6.04it/s]\n",
      "Epoch 4/100: 100%|██████████| 17/17 [00:02<00:00,  6.19it/s]\n",
      "Epoch 5/100: 100%|██████████| 17/17 [00:02<00:00,  6.27it/s]\n"
     ]
    },
    {
     "name": "stdout",
     "output_type": "stream",
     "text": [
      "Epoch 5/100\n",
      "Train Loss: 0.6529, Val Loss: 0.5854\n",
      "Learning Rate: 0.000100\n",
      "--------------------------------------------------\n"
     ]
    },
    {
     "name": "stderr",
     "output_type": "stream",
     "text": [
      "Epoch 6/100: 100%|██████████| 17/17 [00:02<00:00,  6.25it/s]\n",
      "Epoch 7/100: 100%|██████████| 17/17 [00:02<00:00,  6.25it/s]\n",
      "Epoch 8/100: 100%|██████████| 17/17 [00:02<00:00,  6.20it/s]\n",
      "Epoch 9/100: 100%|██████████| 17/17 [00:02<00:00,  6.27it/s]\n",
      "Epoch 10/100: 100%|██████████| 17/17 [00:02<00:00,  6.32it/s]\n"
     ]
    },
    {
     "name": "stdout",
     "output_type": "stream",
     "text": [
      "Epoch 10/100\n",
      "Train Loss: 0.4073, Val Loss: 0.4168\n",
      "Learning Rate: 0.000100\n",
      "--------------------------------------------------\n"
     ]
    },
    {
     "name": "stderr",
     "output_type": "stream",
     "text": [
      "Epoch 11/100: 100%|██████████| 17/17 [00:02<00:00,  6.21it/s]\n",
      "Epoch 12/100: 100%|██████████| 17/17 [00:02<00:00,  6.24it/s]\n",
      "Epoch 13/100: 100%|██████████| 17/17 [00:02<00:00,  6.28it/s]\n",
      "Epoch 14/100: 100%|██████████| 17/17 [00:02<00:00,  6.29it/s]\n",
      "Epoch 15/100: 100%|██████████| 17/17 [00:02<00:00,  6.25it/s]\n"
     ]
    },
    {
     "name": "stdout",
     "output_type": "stream",
     "text": [
      "Epoch 15/100\n",
      "Train Loss: 0.3253, Val Loss: 0.3040\n",
      "Learning Rate: 0.000100\n",
      "--------------------------------------------------\n"
     ]
    },
    {
     "name": "stderr",
     "output_type": "stream",
     "text": [
      "Epoch 16/100: 100%|██████████| 17/17 [00:02<00:00,  6.24it/s]\n",
      "Epoch 17/100: 100%|██████████| 17/17 [00:02<00:00,  6.33it/s]\n",
      "Epoch 18/100: 100%|██████████| 17/17 [00:02<00:00,  6.32it/s]\n",
      "Epoch 19/100: 100%|██████████| 17/17 [00:02<00:00,  6.25it/s]\n",
      "Epoch 20/100: 100%|██████████| 17/17 [00:02<00:00,  6.17it/s]\n"
     ]
    },
    {
     "name": "stdout",
     "output_type": "stream",
     "text": [
      "Epoch 20/100\n",
      "Train Loss: 0.2766, Val Loss: 0.3194\n",
      "Learning Rate: 0.000100\n",
      "--------------------------------------------------\n"
     ]
    },
    {
     "name": "stderr",
     "output_type": "stream",
     "text": [
      "Epoch 21/100: 100%|██████████| 17/17 [00:02<00:00,  6.84it/s]\n",
      "Epoch 22/100: 100%|██████████| 17/17 [00:02<00:00,  6.18it/s]\n",
      "Epoch 23/100: 100%|██████████| 17/17 [00:02<00:00,  6.24it/s]\n",
      "Epoch 24/100: 100%|██████████| 17/17 [00:02<00:00,  6.10it/s]\n",
      "Epoch 25/100: 100%|██████████| 17/17 [00:02<00:00,  6.08it/s]\n"
     ]
    },
    {
     "name": "stdout",
     "output_type": "stream",
     "text": [
      "Epoch 25/100\n",
      "Train Loss: 0.2409, Val Loss: 0.3159\n",
      "Learning Rate: 0.000100\n",
      "--------------------------------------------------\n"
     ]
    },
    {
     "name": "stderr",
     "output_type": "stream",
     "text": [
      "Epoch 26/100: 100%|██████████| 17/17 [00:02<00:00,  6.17it/s]\n",
      "Epoch 27/100: 100%|██████████| 17/17 [00:02<00:00,  6.14it/s]\n",
      "Epoch 28/100: 100%|██████████| 17/17 [00:02<00:00,  6.21it/s]\n",
      "Epoch 29/100: 100%|██████████| 17/17 [00:02<00:00,  6.07it/s]\n",
      "Epoch 30/100: 100%|██████████| 17/17 [00:02<00:00,  6.30it/s]\n"
     ]
    },
    {
     "name": "stdout",
     "output_type": "stream",
     "text": [
      "Epoch 30/100\n",
      "Train Loss: 0.2494, Val Loss: 0.4179\n",
      "Learning Rate: 0.000100\n",
      "--------------------------------------------------\n"
     ]
    },
    {
     "name": "stderr",
     "output_type": "stream",
     "text": [
      "Epoch 31/100: 100%|██████████| 17/17 [00:02<00:00,  6.19it/s]\n",
      "Epoch 32/100: 100%|██████████| 17/17 [00:02<00:00,  6.20it/s]\n",
      "Epoch 33/100: 100%|██████████| 17/17 [00:02<00:00,  6.16it/s]\n",
      "Epoch 34/100: 100%|██████████| 17/17 [00:02<00:00,  6.24it/s]\n",
      "Epoch 35/100: 100%|██████████| 17/17 [00:02<00:00,  6.28it/s]\n"
     ]
    },
    {
     "name": "stdout",
     "output_type": "stream",
     "text": [
      "Epoch 35/100\n",
      "Train Loss: 0.2119, Val Loss: 0.4186\n",
      "Learning Rate: 0.000100\n",
      "--------------------------------------------------\n"
     ]
    },
    {
     "name": "stderr",
     "output_type": "stream",
     "text": [
      "Epoch 36/100: 100%|██████████| 17/17 [00:02<00:00,  6.10it/s]\n",
      "Epoch 37/100: 100%|██████████| 17/17 [00:02<00:00,  6.08it/s]\n",
      "Epoch 38/100: 100%|██████████| 17/17 [00:02<00:00,  6.24it/s]\n",
      "Epoch 39/100: 100%|██████████| 17/17 [00:02<00:00,  6.19it/s]\n",
      "Epoch 40/100: 100%|██████████| 17/17 [00:02<00:00,  6.57it/s]\n"
     ]
    },
    {
     "name": "stdout",
     "output_type": "stream",
     "text": [
      "Epoch 40/100\n",
      "Train Loss: 0.1996, Val Loss: 0.2183\n",
      "Learning Rate: 0.000100\n",
      "--------------------------------------------------\n"
     ]
    },
    {
     "name": "stderr",
     "output_type": "stream",
     "text": [
      "Epoch 41/100: 100%|██████████| 17/17 [00:02<00:00,  6.11it/s]\n",
      "Epoch 42/100: 100%|██████████| 17/17 [00:02<00:00,  6.21it/s]\n",
      "Epoch 43/100: 100%|██████████| 17/17 [00:02<00:00,  6.13it/s]\n",
      "Epoch 44/100: 100%|██████████| 17/17 [00:02<00:00,  6.21it/s]\n",
      "Epoch 45/100: 100%|██████████| 17/17 [00:02<00:00,  6.06it/s]\n"
     ]
    },
    {
     "name": "stdout",
     "output_type": "stream",
     "text": [
      "Epoch 45/100\n",
      "Train Loss: 0.1889, Val Loss: 0.2696\n",
      "Learning Rate: 0.000100\n",
      "--------------------------------------------------\n"
     ]
    },
    {
     "name": "stderr",
     "output_type": "stream",
     "text": [
      "Epoch 46/100: 100%|██████████| 17/17 [00:02<00:00,  5.99it/s]\n",
      "Epoch 47/100: 100%|██████████| 17/17 [00:02<00:00,  6.08it/s]\n",
      "Epoch 48/100: 100%|██████████| 17/17 [00:02<00:00,  6.18it/s]\n",
      "Epoch 49/100: 100%|██████████| 17/17 [00:02<00:00,  6.28it/s]\n",
      "Epoch 50/100: 100%|██████████| 17/17 [00:02<00:00,  6.17it/s]\n"
     ]
    },
    {
     "name": "stdout",
     "output_type": "stream",
     "text": [
      "Epoch 50/100\n",
      "Train Loss: 0.1790, Val Loss: 0.3938\n",
      "Learning Rate: 0.000100\n",
      "--------------------------------------------------\n"
     ]
    },
    {
     "name": "stderr",
     "output_type": "stream",
     "text": [
      "Epoch 51/100: 100%|██████████| 17/17 [00:02<00:00,  6.09it/s]\n",
      "Epoch 52/100: 100%|██████████| 17/17 [00:02<00:00,  6.20it/s]\n",
      "Epoch 53/100: 100%|██████████| 17/17 [00:02<00:00,  6.12it/s]\n",
      "Epoch 54/100: 100%|██████████| 17/17 [00:02<00:00,  6.16it/s]\n",
      "Epoch 55/100: 100%|██████████| 17/17 [00:02<00:00,  6.15it/s]\n"
     ]
    },
    {
     "name": "stdout",
     "output_type": "stream",
     "text": [
      "Epoch 55/100\n",
      "Train Loss: 0.1631, Val Loss: 0.2763\n",
      "Learning Rate: 0.000100\n",
      "--------------------------------------------------\n"
     ]
    },
    {
     "name": "stderr",
     "output_type": "stream",
     "text": [
      "Epoch 56/100: 100%|██████████| 17/17 [00:02<00:00,  6.12it/s]\n",
      "Epoch 57/100: 100%|██████████| 17/17 [00:02<00:00,  6.15it/s]\n",
      "Epoch 58/100: 100%|██████████| 17/17 [00:02<00:00,  6.31it/s]\n",
      "Epoch 59/100: 100%|██████████| 17/17 [00:02<00:00,  6.33it/s]\n",
      "Epoch 60/100: 100%|██████████| 17/17 [00:02<00:00,  6.32it/s]\n"
     ]
    },
    {
     "name": "stdout",
     "output_type": "stream",
     "text": [
      "Epoch 60/100\n",
      "Train Loss: 0.1723, Val Loss: 0.2329\n",
      "Learning Rate: 0.000100\n",
      "--------------------------------------------------\n"
     ]
    },
    {
     "name": "stderr",
     "output_type": "stream",
     "text": [
      "Epoch 61/100: 100%|██████████| 17/17 [00:02<00:00,  6.32it/s]\n",
      "Epoch 62/100: 100%|██████████| 17/17 [00:02<00:00,  6.28it/s]\n",
      "Epoch 63/100: 100%|██████████| 17/17 [00:02<00:00,  6.38it/s]\n",
      "Epoch 64/100: 100%|██████████| 17/17 [00:02<00:00,  6.28it/s]\n",
      "Epoch 65/100: 100%|██████████| 17/17 [00:02<00:00,  6.13it/s]\n"
     ]
    },
    {
     "name": "stdout",
     "output_type": "stream",
     "text": [
      "Epoch 65/100\n",
      "Train Loss: 0.2084, Val Loss: 0.3884\n",
      "Learning Rate: 0.000100\n",
      "--------------------------------------------------\n"
     ]
    },
    {
     "name": "stderr",
     "output_type": "stream",
     "text": [
      "Epoch 66/100: 100%|██████████| 17/17 [00:02<00:00,  6.22it/s]\n",
      "Epoch 67/100: 100%|██████████| 17/17 [00:02<00:00,  6.20it/s]\n",
      "Epoch 68/100: 100%|██████████| 17/17 [00:02<00:00,  6.17it/s]\n",
      "Epoch 69/100: 100%|██████████| 17/17 [00:02<00:00,  6.11it/s]\n",
      "Epoch 70/100: 100%|██████████| 17/17 [00:02<00:00,  6.06it/s]\n"
     ]
    },
    {
     "name": "stdout",
     "output_type": "stream",
     "text": [
      "Epoch 70/100\n",
      "Train Loss: 0.1499, Val Loss: 0.4039\n",
      "Learning Rate: 0.000100\n",
      "--------------------------------------------------\n"
     ]
    },
    {
     "name": "stderr",
     "output_type": "stream",
     "text": [
      "Epoch 71/100: 100%|██████████| 17/17 [00:02<00:00,  6.03it/s]\n",
      "Epoch 72/100: 100%|██████████| 17/17 [00:02<00:00,  6.05it/s]\n",
      "Epoch 73/100: 100%|██████████| 17/17 [00:02<00:00,  5.92it/s]\n",
      "Epoch 74/100: 100%|██████████| 17/17 [00:02<00:00,  6.04it/s]\n",
      "Epoch 75/100: 100%|██████████| 17/17 [00:02<00:00,  5.89it/s]\n"
     ]
    },
    {
     "name": "stdout",
     "output_type": "stream",
     "text": [
      "Epoch 75/100\n",
      "Train Loss: 0.1524, Val Loss: 0.2339\n",
      "Learning Rate: 0.000100\n",
      "--------------------------------------------------\n"
     ]
    },
    {
     "name": "stderr",
     "output_type": "stream",
     "text": [
      "Epoch 76/100: 100%|██████████| 17/17 [00:02<00:00,  5.92it/s]\n",
      "Epoch 77/100: 100%|██████████| 17/17 [00:02<00:00,  5.78it/s]\n",
      "Epoch 78/100: 100%|██████████| 17/17 [00:02<00:00,  5.76it/s]\n",
      "Epoch 79/100: 100%|██████████| 17/17 [00:02<00:00,  5.75it/s]\n",
      "Epoch 80/100: 100%|██████████| 17/17 [00:02<00:00,  5.71it/s]\n"
     ]
    },
    {
     "name": "stdout",
     "output_type": "stream",
     "text": [
      "Epoch 80/100\n",
      "Train Loss: 0.1509, Val Loss: 0.3753\n",
      "Learning Rate: 0.000100\n",
      "--------------------------------------------------\n"
     ]
    },
    {
     "name": "stderr",
     "output_type": "stream",
     "text": [
      "Epoch 81/100: 100%|██████████| 17/17 [00:02<00:00,  5.72it/s]\n",
      "Epoch 82/100: 100%|██████████| 17/17 [00:03<00:00,  5.65it/s]\n",
      "Epoch 83/100: 100%|██████████| 17/17 [00:02<00:00,  5.72it/s]\n",
      "Epoch 84/100: 100%|██████████| 17/17 [00:02<00:00,  5.72it/s]\n",
      "Epoch 85/100: 100%|██████████| 17/17 [00:03<00:00,  5.44it/s]\n"
     ]
    },
    {
     "name": "stdout",
     "output_type": "stream",
     "text": [
      "Epoch 85/100\n",
      "Train Loss: 0.1349, Val Loss: 0.2921\n",
      "Learning Rate: 0.000100\n",
      "--------------------------------------------------\n"
     ]
    },
    {
     "name": "stderr",
     "output_type": "stream",
     "text": [
      "Epoch 86/100: 100%|██████████| 17/17 [00:03<00:00,  5.55it/s]\n",
      "Epoch 87/100: 100%|██████████| 17/17 [00:03<00:00,  5.04it/s]\n",
      "Epoch 88/100: 100%|██████████| 17/17 [00:03<00:00,  5.04it/s]\n",
      "Epoch 89/100: 100%|██████████| 17/17 [00:03<00:00,  5.51it/s]\n",
      "Epoch 90/100: 100%|██████████| 17/17 [00:03<00:00,  5.46it/s]\n"
     ]
    },
    {
     "name": "stdout",
     "output_type": "stream",
     "text": [
      "Epoch 90/100\n",
      "Train Loss: 0.1280, Val Loss: 0.2156\n",
      "Learning Rate: 0.000100\n",
      "--------------------------------------------------\n"
     ]
    },
    {
     "name": "stderr",
     "output_type": "stream",
     "text": [
      "Epoch 91/100: 100%|██████████| 17/17 [00:03<00:00,  4.99it/s]\n",
      "Epoch 92/100: 100%|██████████| 17/17 [00:03<00:00,  5.39it/s]\n",
      "Epoch 93/100: 100%|██████████| 17/17 [00:03<00:00,  5.42it/s]\n",
      "Epoch 94/100: 100%|██████████| 17/17 [00:03<00:00,  5.38it/s]\n",
      "Epoch 95/100: 100%|██████████| 17/17 [00:03<00:00,  5.28it/s]\n"
     ]
    },
    {
     "name": "stdout",
     "output_type": "stream",
     "text": [
      "Epoch 95/100\n",
      "Train Loss: 0.1441, Val Loss: 0.3513\n",
      "Learning Rate: 0.000100\n",
      "--------------------------------------------------\n"
     ]
    },
    {
     "name": "stderr",
     "output_type": "stream",
     "text": [
      "Epoch 96/100: 100%|██████████| 17/17 [00:03<00:00,  5.34it/s]\n",
      "Epoch 97/100: 100%|██████████| 17/17 [00:03<00:00,  5.35it/s]\n",
      "Epoch 98/100: 100%|██████████| 17/17 [00:03<00:00,  4.53it/s]\n",
      "Epoch 99/100: 100%|██████████| 17/17 [00:03<00:00,  4.93it/s]\n",
      "Epoch 100/100: 100%|██████████| 17/17 [00:03<00:00,  5.24it/s]\n"
     ]
    },
    {
     "name": "stdout",
     "output_type": "stream",
     "text": [
      "Epoch 100/100\n",
      "Train Loss: 0.1139, Val Loss: 0.2746\n",
      "Learning Rate: 0.000100\n",
      "--------------------------------------------------\n",
      "\n",
      "Test MSE: 0.2910\n",
      "Test MAE: 0.3545\n",
      "Test R²:  0.6749\n"
     ]
    },
    {
     "data": {
      "image/png": "[encoded data removed]",
      "text/plain": [
       "<Figure size 1500x500 with 2 Axes>"
      ]
     },
     "metadata": {},
     "output_type": "display_data"
    }
   ],
   "source": [
    "TARGET_PROPERTY = 'em_max'\n",
    "\n",
    "BATCH_SIZE = 64\n",
    "NUM_EPOCHS = 100\n",
    "LEARNING_RATE = 0.0001\n",
    "\n",
    "model = EmbeddingsCNN().to(device)\n",
    "\n",
    "trained_model, train_losses, val_losses = train_model(\n",
    "    model, train_loader, val_loader, NUM_EPOCHS, LEARNING_RATE\n",
    ")\n",
    "\n",
    "predictions, true_values, mse, mae, r2 = evaluate_model(\n",
    "    trained_model, test_loader, dataset_test, TARGET_PROPERTY\n",
    ")\n",
    "\n",
    "plot_results(train_losses, val_losses, predictions, true_values, TARGET_PROPERTY)\n",
    "\n",
    "torch.save(trained_model.state_dict(), f'weights/cnn_model_{TARGET_PROPERTY}_custom.pth')\n",
    "# print(f\"Модель сохранена как 'cnn_model_{TARGET_PROPERTY}_custom.pth'\")\n"
   ]
  },
  {
   "cell_type": "markdown",
   "id": "95d33beb",
   "metadata": {},
   "source": [
    "### Работа с CNN"
   ]
  },
  {
   "cell_type": "code",
   "execution_count": null,
   "id": "eef76365",
   "metadata": {},
   "outputs": [
    {
     "name": "stdout",
     "output_type": "stream",
     "text": [
      "Training on cuda\n",
      "Number of parameters: 487,041\n"
     ]
    },
    {
     "name": "stderr",
     "output_type": "stream",
     "text": [
      "Epoch 1/200: 100%|██████████| 17/17 [00:01<00:00, 15.23it/s]\n",
      "Epoch 2/200: 100%|██████████| 17/17 [00:00<00:00, 55.52it/s]\n",
      "Epoch 3/200: 100%|██████████| 17/17 [00:00<00:00, 53.90it/s]\n",
      "Epoch 4/200: 100%|██████████| 17/17 [00:00<00:00, 56.65it/s]\n",
      "Epoch 5/200: 100%|██████████| 17/17 [00:00<00:00, 52.87it/s]\n"
     ]
    },
    {
     "name": "stdout",
     "output_type": "stream",
     "text": [
      "Epoch 5/200\n",
      "Train Loss: 0.4986, Val Loss: 31.9769\n",
      "Learning Rate: 0.001000\n",
      "--------------------------------------------------\n"
     ]
    },
    {
     "name": "stderr",
     "output_type": "stream",
     "text": [
      "Epoch 6/200: 100%|██████████| 17/17 [00:00<00:00, 52.98it/s]\n",
      "Epoch 7/200: 100%|██████████| 17/17 [00:00<00:00, 56.52it/s]\n",
      "Epoch 8/200: 100%|██████████| 17/17 [00:00<00:00, 54.61it/s]\n",
      "Epoch 9/200: 100%|██████████| 17/17 [00:00<00:00, 57.47it/s]\n",
      "Epoch 10/200: 100%|██████████| 17/17 [00:00<00:00, 56.39it/s]\n"
     ]
    },
    {
     "name": "stdout",
     "output_type": "stream",
     "text": [
      "Epoch 10/200\n",
      "Train Loss: 0.5687, Val Loss: 0.2850\n",
      "Learning Rate: 0.001000\n",
      "--------------------------------------------------\n"
     ]
    },
    {
     "name": "stderr",
     "output_type": "stream",
     "text": [
      "Epoch 11/200: 100%|██████████| 17/17 [00:00<00:00, 58.02it/s]\n",
      "Epoch 12/200: 100%|██████████| 17/17 [00:00<00:00, 55.37it/s]\n",
      "Epoch 13/200: 100%|██████████| 17/17 [00:00<00:00, 57.86it/s]\n",
      "Epoch 14/200: 100%|██████████| 17/17 [00:00<00:00, 57.15it/s]\n",
      "Epoch 15/200: 100%|██████████| 17/17 [00:00<00:00, 55.75it/s]\n"
     ]
    },
    {
     "name": "stdout",
     "output_type": "stream",
     "text": [
      "Epoch 15/200\n",
      "Train Loss: 0.2993, Val Loss: 10.2168\n",
      "Learning Rate: 0.001000\n",
      "--------------------------------------------------\n"
     ]
    },
    {
     "name": "stderr",
     "output_type": "stream",
     "text": [
      "Epoch 16/200: 100%|██████████| 17/17 [00:00<00:00, 57.93it/s]\n",
      "Epoch 17/200: 100%|██████████| 17/17 [00:00<00:00, 57.90it/s]\n",
      "Epoch 18/200: 100%|██████████| 17/17 [00:00<00:00, 57.55it/s]\n",
      "Epoch 19/200: 100%|██████████| 17/17 [00:00<00:00, 56.60it/s]\n",
      "Epoch 20/200: 100%|██████████| 17/17 [00:00<00:00, 57.28it/s]\n"
     ]
    },
    {
     "name": "stdout",
     "output_type": "stream",
     "text": [
      "Epoch 20/200\n",
      "Train Loss: 0.2962, Val Loss: 0.3315\n",
      "Learning Rate: 0.001000\n",
      "--------------------------------------------------\n"
     ]
    },
    {
     "name": "stderr",
     "output_type": "stream",
     "text": [
      "Epoch 21/200: 100%|██████████| 17/17 [00:00<00:00, 56.51it/s]\n",
      "Epoch 22/200: 100%|██████████| 17/17 [00:00<00:00, 54.27it/s]\n",
      "Epoch 23/200: 100%|██████████| 17/17 [00:00<00:00, 56.65it/s]\n",
      "Epoch 24/200: 100%|██████████| 17/17 [00:00<00:00, 57.81it/s]\n",
      "Epoch 25/200: 100%|██████████| 17/17 [00:00<00:00, 52.06it/s]\n"
     ]
    },
    {
     "name": "stdout",
     "output_type": "stream",
     "text": [
      "Epoch 25/200\n",
      "Train Loss: 0.3420, Val Loss: 6.1214\n",
      "Learning Rate: 0.001000\n",
      "--------------------------------------------------\n"
     ]
    },
    {
     "name": "stderr",
     "output_type": "stream",
     "text": [
      "Epoch 26/200: 100%|██████████| 17/17 [00:00<00:00, 55.03it/s]\n",
      "Epoch 27/200: 100%|██████████| 17/17 [00:00<00:00, 57.65it/s]\n",
      "Epoch 28/200: 100%|██████████| 17/17 [00:00<00:00, 58.45it/s]\n",
      "Epoch 29/200: 100%|██████████| 17/17 [00:00<00:00, 58.05it/s]\n",
      "Epoch 30/200: 100%|██████████| 17/17 [00:00<00:00, 56.33it/s]\n"
     ]
    },
    {
     "name": "stdout",
     "output_type": "stream",
     "text": [
      "Epoch 30/200\n",
      "Train Loss: 0.2807, Val Loss: 1.4734\n",
      "Learning Rate: 0.001000\n",
      "--------------------------------------------------\n"
     ]
    },
    {
     "name": "stderr",
     "output_type": "stream",
     "text": [
      "Epoch 31/200: 100%|██████████| 17/17 [00:00<00:00, 58.23it/s]\n",
      "Epoch 32/200: 100%|██████████| 17/17 [00:00<00:00, 57.82it/s]\n",
      "Epoch 33/200: 100%|██████████| 17/17 [00:00<00:00, 56.90it/s]\n",
      "Epoch 34/200: 100%|██████████| 17/17 [00:00<00:00, 57.04it/s]\n",
      "Epoch 35/200: 100%|██████████| 17/17 [00:00<00:00, 56.64it/s]\n"
     ]
    },
    {
     "name": "stdout",
     "output_type": "stream",
     "text": [
      "Epoch 35/200\n",
      "Train Loss: 0.1872, Val Loss: 2.5395\n",
      "Learning Rate: 0.001000\n",
      "--------------------------------------------------\n"
     ]
    },
    {
     "name": "stderr",
     "output_type": "stream",
     "text": [
      "Epoch 36/200: 100%|██████████| 17/17 [00:00<00:00, 57.73it/s]\n",
      "Epoch 37/200: 100%|██████████| 17/17 [00:00<00:00, 56.28it/s]\n",
      "Epoch 38/200: 100%|██████████| 17/17 [00:00<00:00, 56.52it/s]\n",
      "Epoch 39/200: 100%|██████████| 17/17 [00:00<00:00, 57.96it/s]\n",
      "Epoch 40/200: 100%|██████████| 17/17 [00:00<00:00, 59.14it/s]\n"
     ]
    },
    {
     "name": "stdout",
     "output_type": "stream",
     "text": [
      "Epoch 40/200\n",
      "Train Loss: 0.1783, Val Loss: 0.2773\n",
      "Learning Rate: 0.001000\n",
      "--------------------------------------------------\n"
     ]
    },
    {
     "name": "stderr",
     "output_type": "stream",
     "text": [
      "Epoch 41/200: 100%|██████████| 17/17 [00:00<00:00, 57.60it/s]\n",
      "Epoch 42/200: 100%|██████████| 17/17 [00:00<00:00, 57.95it/s]\n",
      "Epoch 43/200: 100%|██████████| 17/17 [00:00<00:00, 57.33it/s]\n",
      "Epoch 44/200: 100%|██████████| 17/17 [00:00<00:00, 57.46it/s]\n",
      "Epoch 45/200: 100%|██████████| 17/17 [00:00<00:00, 53.15it/s]\n"
     ]
    },
    {
     "name": "stdout",
     "output_type": "stream",
     "text": [
      "Epoch 45/200\n",
      "Train Loss: 1.4307, Val Loss: 0.2326\n",
      "Learning Rate: 0.001000\n",
      "--------------------------------------------------\n"
     ]
    },
    {
     "name": "stderr",
     "output_type": "stream",
     "text": [
      "Epoch 46/200: 100%|██████████| 17/17 [00:00<00:00, 56.33it/s]\n",
      "Epoch 47/200: 100%|██████████| 17/17 [00:00<00:00, 57.41it/s]\n",
      "Epoch 48/200: 100%|██████████| 17/17 [00:00<00:00, 58.88it/s]\n",
      "Epoch 49/200: 100%|██████████| 17/17 [00:00<00:00, 57.83it/s]\n",
      "Epoch 50/200: 100%|██████████| 17/17 [00:00<00:00, 58.93it/s]\n"
     ]
    },
    {
     "name": "stdout",
     "output_type": "stream",
     "text": [
      "Epoch 50/200\n",
      "Train Loss: 0.2375, Val Loss: 1.0132\n",
      "Learning Rate: 0.001000\n",
      "--------------------------------------------------\n"
     ]
    },
    {
     "name": "stderr",
     "output_type": "stream",
     "text": [
      "Epoch 51/200: 100%|██████████| 17/17 [00:00<00:00, 57.65it/s]\n",
      "Epoch 52/200: 100%|██████████| 17/17 [00:00<00:00, 57.31it/s]\n",
      "Epoch 53/200: 100%|██████████| 17/17 [00:00<00:00, 56.90it/s]\n",
      "Epoch 54/200: 100%|██████████| 17/17 [00:00<00:00, 59.06it/s]\n",
      "Epoch 55/200: 100%|██████████| 17/17 [00:00<00:00, 56.38it/s]\n"
     ]
    },
    {
     "name": "stdout",
     "output_type": "stream",
     "text": [
      "Epoch 55/200\n",
      "Train Loss: 0.1817, Val Loss: 0.9465\n",
      "Learning Rate: 0.001000\n",
      "--------------------------------------------------\n"
     ]
    },
    {
     "name": "stderr",
     "output_type": "stream",
     "text": [
      "Epoch 56/200: 100%|██████████| 17/17 [00:00<00:00, 57.76it/s]\n",
      "Epoch 57/200: 100%|██████████| 17/17 [00:00<00:00, 56.28it/s]\n",
      "Epoch 58/200: 100%|██████████| 17/17 [00:00<00:00, 58.01it/s]\n",
      "Epoch 59/200: 100%|██████████| 17/17 [00:00<00:00, 58.53it/s]\n",
      "Epoch 60/200: 100%|██████████| 17/17 [00:00<00:00, 57.61it/s]\n"
     ]
    },
    {
     "name": "stdout",
     "output_type": "stream",
     "text": [
      "Epoch 60/200\n",
      "Train Loss: 0.1856, Val Loss: 0.7280\n",
      "Learning Rate: 0.001000\n",
      "--------------------------------------------------\n"
     ]
    },
    {
     "name": "stderr",
     "output_type": "stream",
     "text": [
      "Epoch 61/200: 100%|██████████| 17/17 [00:00<00:00, 59.59it/s]\n",
      "Epoch 62/200: 100%|██████████| 17/17 [00:00<00:00, 57.25it/s]\n",
      "Epoch 63/200: 100%|██████████| 17/17 [00:00<00:00, 57.50it/s]\n",
      "Epoch 64/200: 100%|██████████| 17/17 [00:00<00:00, 57.43it/s]\n",
      "Epoch 65/200: 100%|██████████| 17/17 [00:00<00:00, 58.03it/s]\n"
     ]
    },
    {
     "name": "stdout",
     "output_type": "stream",
     "text": [
      "Epoch 65/200\n",
      "Train Loss: 0.1580, Val Loss: 0.2934\n",
      "Learning Rate: 0.001000\n",
      "--------------------------------------------------\n"
     ]
    },
    {
     "name": "stderr",
     "output_type": "stream",
     "text": [
      "Epoch 66/200: 100%|██████████| 17/17 [00:00<00:00, 57.06it/s]\n",
      "Epoch 67/200: 100%|██████████| 17/17 [00:00<00:00, 57.23it/s]\n",
      "Epoch 68/200: 100%|██████████| 17/17 [00:00<00:00, 58.36it/s]\n",
      "Epoch 69/200: 100%|██████████| 17/17 [00:00<00:00, 57.90it/s]\n",
      "Epoch 70/200: 100%|██████████| 17/17 [00:00<00:00, 58.96it/s]\n"
     ]
    },
    {
     "name": "stdout",
     "output_type": "stream",
     "text": [
      "Epoch 70/200\n",
      "Train Loss: 0.1427, Val Loss: 0.2617\n",
      "Learning Rate: 0.001000\n",
      "--------------------------------------------------\n"
     ]
    },
    {
     "name": "stderr",
     "output_type": "stream",
     "text": [
      "Epoch 71/200: 100%|██████████| 17/17 [00:00<00:00, 56.89it/s]\n",
      "Epoch 72/200: 100%|██████████| 17/17 [00:00<00:00, 57.27it/s]\n",
      "Epoch 73/200: 100%|██████████| 17/17 [00:00<00:00, 57.75it/s]\n",
      "Epoch 74/200: 100%|██████████| 17/17 [00:00<00:00, 58.27it/s]\n",
      "Epoch 75/200: 100%|██████████| 17/17 [00:00<00:00, 58.17it/s]\n"
     ]
    },
    {
     "name": "stdout",
     "output_type": "stream",
     "text": [
      "Epoch 75/200\n",
      "Train Loss: 0.3135, Val Loss: 0.2890\n",
      "Learning Rate: 0.001000\n",
      "--------------------------------------------------\n"
     ]
    },
    {
     "name": "stderr",
     "output_type": "stream",
     "text": [
      "Epoch 76/200: 100%|██████████| 17/17 [00:00<00:00, 56.02it/s]\n",
      "Epoch 77/200: 100%|██████████| 17/17 [00:00<00:00, 58.67it/s]\n",
      "Epoch 78/200: 100%|██████████| 17/17 [00:00<00:00, 57.19it/s]\n",
      "Epoch 79/200: 100%|██████████| 17/17 [00:00<00:00, 57.03it/s]\n",
      "Epoch 80/200: 100%|██████████| 17/17 [00:00<00:00, 59.04it/s]\n"
     ]
    },
    {
     "name": "stdout",
     "output_type": "stream",
     "text": [
      "Epoch 80/200\n",
      "Train Loss: 0.1490, Val Loss: 0.4332\n",
      "Learning Rate: 0.001000\n",
      "--------------------------------------------------\n"
     ]
    },
    {
     "name": "stderr",
     "output_type": "stream",
     "text": [
      "Epoch 81/200: 100%|██████████| 17/17 [00:00<00:00, 58.09it/s]\n",
      "Epoch 82/200: 100%|██████████| 17/17 [00:00<00:00, 57.13it/s]\n",
      "Epoch 83/200: 100%|██████████| 17/17 [00:00<00:00, 58.03it/s]\n",
      "Epoch 84/200: 100%|██████████| 17/17 [00:00<00:00, 56.68it/s]\n",
      "Epoch 85/200: 100%|██████████| 17/17 [00:00<00:00, 56.98it/s]\n"
     ]
    },
    {
     "name": "stdout",
     "output_type": "stream",
     "text": [
      "Epoch 85/200\n",
      "Train Loss: 0.1315, Val Loss: 0.2485\n",
      "Learning Rate: 0.001000\n",
      "--------------------------------------------------\n"
     ]
    },
    {
     "name": "stderr",
     "output_type": "stream",
     "text": [
      "Epoch 86/200: 100%|██████████| 17/17 [00:00<00:00, 57.32it/s]\n",
      "Epoch 87/200: 100%|██████████| 17/17 [00:00<00:00, 59.90it/s]\n",
      "Epoch 88/200: 100%|██████████| 17/17 [00:00<00:00, 58.75it/s]\n",
      "Epoch 89/200: 100%|██████████| 17/17 [00:00<00:00, 58.05it/s]\n",
      "Epoch 90/200: 100%|██████████| 17/17 [00:00<00:00, 57.92it/s]\n"
     ]
    },
    {
     "name": "stdout",
     "output_type": "stream",
     "text": [
      "Epoch 90/200\n",
      "Train Loss: 0.1239, Val Loss: 0.2629\n",
      "Learning Rate: 0.001000\n",
      "--------------------------------------------------\n"
     ]
    },
    {
     "name": "stderr",
     "output_type": "stream",
     "text": [
      "Epoch 91/200: 100%|██████████| 17/17 [00:00<00:00, 56.52it/s]\n",
      "Epoch 92/200: 100%|██████████| 17/17 [00:00<00:00, 59.26it/s]\n",
      "Epoch 93/200: 100%|██████████| 17/17 [00:00<00:00, 58.12it/s]\n",
      "Epoch 94/200: 100%|██████████| 17/17 [00:00<00:00, 58.52it/s]\n",
      "Epoch 95/200: 100%|██████████| 17/17 [00:00<00:00, 57.29it/s]\n"
     ]
    },
    {
     "name": "stdout",
     "output_type": "stream",
     "text": [
      "Epoch 95/200\n",
      "Train Loss: 0.1238, Val Loss: 1.7289\n",
      "Learning Rate: 0.001000\n",
      "--------------------------------------------------\n"
     ]
    },
    {
     "name": "stderr",
     "output_type": "stream",
     "text": [
      "Epoch 96/200: 100%|██████████| 17/17 [00:00<00:00, 58.03it/s]\n",
      "Epoch 97/200: 100%|██████████| 17/17 [00:00<00:00, 59.78it/s]\n",
      "Epoch 98/200: 100%|██████████| 17/17 [00:00<00:00, 57.37it/s]\n",
      "Epoch 99/200: 100%|██████████| 17/17 [00:00<00:00, 58.92it/s]\n",
      "Epoch 100/200: 100%|██████████| 17/17 [00:00<00:00, 58.91it/s]\n"
     ]
    },
    {
     "name": "stdout",
     "output_type": "stream",
     "text": [
      "Epoch 100/200\n",
      "Train Loss: 0.1687, Val Loss: 0.2095\n",
      "Learning Rate: 0.001000\n",
      "--------------------------------------------------\n"
     ]
    },
    {
     "name": "stderr",
     "output_type": "stream",
     "text": [
      "Epoch 101/200: 100%|██████████| 17/17 [00:00<00:00, 53.68it/s]\n",
      "Epoch 102/200: 100%|██████████| 17/17 [00:00<00:00, 57.05it/s]\n",
      "Epoch 103/200: 100%|██████████| 17/17 [00:00<00:00, 58.05it/s]\n",
      "Epoch 104/200: 100%|██████████| 17/17 [00:00<00:00, 59.43it/s]\n",
      "Epoch 105/200: 100%|██████████| 17/17 [00:00<00:00, 57.24it/s]\n"
     ]
    },
    {
     "name": "stdout",
     "output_type": "stream",
     "text": [
      "Epoch 105/200\n",
      "Train Loss: 0.2157, Val Loss: 0.3326\n",
      "Learning Rate: 0.001000\n",
      "--------------------------------------------------\n"
     ]
    },
    {
     "name": "stderr",
     "output_type": "stream",
     "text": [
      "Epoch 106/200: 100%|██████████| 17/17 [00:00<00:00, 59.00it/s]\n",
      "Epoch 107/200: 100%|██████████| 17/17 [00:00<00:00, 58.86it/s]\n",
      "Epoch 108/200: 100%|██████████| 17/17 [00:00<00:00, 58.52it/s]\n",
      "Epoch 109/200: 100%|██████████| 17/17 [00:00<00:00, 59.90it/s]\n",
      "Epoch 110/200: 100%|██████████| 17/17 [00:00<00:00, 60.68it/s]\n"
     ]
    },
    {
     "name": "stdout",
     "output_type": "stream",
     "text": [
      "Epoch 110/200\n",
      "Train Loss: 0.1271, Val Loss: 0.2816\n",
      "Learning Rate: 0.001000\n",
      "--------------------------------------------------\n"
     ]
    },
    {
     "name": "stderr",
     "output_type": "stream",
     "text": [
      "Epoch 111/200: 100%|██████████| 17/17 [00:00<00:00, 59.34it/s]\n",
      "Epoch 112/200: 100%|██████████| 17/17 [00:00<00:00, 58.45it/s]\n",
      "Epoch 113/200: 100%|██████████| 17/17 [00:00<00:00, 59.73it/s]\n",
      "Epoch 114/200: 100%|██████████| 17/17 [00:00<00:00, 57.74it/s]\n",
      "Epoch 115/200: 100%|██████████| 17/17 [00:00<00:00, 59.33it/s]\n"
     ]
    },
    {
     "name": "stdout",
     "output_type": "stream",
     "text": [
      "Epoch 115/200\n",
      "Train Loss: 0.1732, Val Loss: 0.2561\n",
      "Learning Rate: 0.001000\n",
      "--------------------------------------------------\n"
     ]
    },
    {
     "name": "stderr",
     "output_type": "stream",
     "text": [
      "Epoch 116/200: 100%|██████████| 17/17 [00:00<00:00, 59.64it/s]\n",
      "Epoch 117/200: 100%|██████████| 17/17 [00:00<00:00, 58.65it/s]\n",
      "Epoch 118/200: 100%|██████████| 17/17 [00:00<00:00, 59.29it/s]\n",
      "Epoch 119/200: 100%|██████████| 17/17 [00:00<00:00, 59.75it/s]\n",
      "Epoch 120/200: 100%|██████████| 17/17 [00:00<00:00, 59.57it/s]\n"
     ]
    },
    {
     "name": "stdout",
     "output_type": "stream",
     "text": [
      "Epoch 120/200\n",
      "Train Loss: 0.1244, Val Loss: 0.8368\n",
      "Learning Rate: 0.001000\n",
      "--------------------------------------------------\n"
     ]
    },
    {
     "name": "stderr",
     "output_type": "stream",
     "text": [
      "Epoch 121/200: 100%|██████████| 17/17 [00:00<00:00, 59.21it/s]\n",
      "Epoch 122/200: 100%|██████████| 17/17 [00:00<00:00, 59.12it/s]\n",
      "Epoch 123/200: 100%|██████████| 17/17 [00:00<00:00, 59.59it/s]\n",
      "Epoch 124/200: 100%|██████████| 17/17 [00:00<00:00, 58.19it/s]\n",
      "Epoch 125/200: 100%|██████████| 17/17 [00:00<00:00, 58.81it/s]\n"
     ]
    },
    {
     "name": "stdout",
     "output_type": "stream",
     "text": [
      "Epoch 125/200\n",
      "Train Loss: 0.1417, Val Loss: 0.6518\n",
      "Learning Rate: 0.001000\n",
      "--------------------------------------------------\n"
     ]
    },
    {
     "name": "stderr",
     "output_type": "stream",
     "text": [
      "Epoch 126/200: 100%|██████████| 17/17 [00:00<00:00, 59.57it/s]\n",
      "Epoch 127/200: 100%|██████████| 17/17 [00:00<00:00, 55.85it/s]\n",
      "Epoch 128/200: 100%|██████████| 17/17 [00:00<00:00, 58.81it/s]\n",
      "Epoch 129/200: 100%|██████████| 17/17 [00:00<00:00, 59.22it/s]\n",
      "Epoch 130/200: 100%|██████████| 17/17 [00:00<00:00, 59.70it/s]\n"
     ]
    },
    {
     "name": "stdout",
     "output_type": "stream",
     "text": [
      "Epoch 130/200\n",
      "Train Loss: 0.1076, Val Loss: 0.7907\n",
      "Learning Rate: 0.001000\n",
      "--------------------------------------------------\n"
     ]
    },
    {
     "name": "stderr",
     "output_type": "stream",
     "text": [
      "Epoch 131/200: 100%|██████████| 17/17 [00:00<00:00, 59.19it/s]\n",
      "Epoch 132/200: 100%|██████████| 17/17 [00:00<00:00, 58.90it/s]\n",
      "Epoch 133/200: 100%|██████████| 17/17 [00:00<00:00, 60.34it/s]\n",
      "Epoch 134/200: 100%|██████████| 17/17 [00:00<00:00, 56.68it/s]\n",
      "Epoch 135/200: 100%|██████████| 17/17 [00:00<00:00, 56.47it/s]\n"
     ]
    },
    {
     "name": "stdout",
     "output_type": "stream",
     "text": [
      "Epoch 135/200\n",
      "Train Loss: 0.1036, Val Loss: 0.2719\n",
      "Learning Rate: 0.001000\n",
      "--------------------------------------------------\n"
     ]
    },
    {
     "name": "stderr",
     "output_type": "stream",
     "text": [
      "Epoch 136/200: 100%|██████████| 17/17 [00:00<00:00, 56.27it/s]\n",
      "Epoch 137/200: 100%|██████████| 17/17 [00:00<00:00, 52.47it/s]\n",
      "Epoch 138/200: 100%|██████████| 17/17 [00:00<00:00, 52.11it/s]\n",
      "Epoch 139/200: 100%|██████████| 17/17 [00:00<00:00, 56.97it/s]\n",
      "Epoch 140/200: 100%|██████████| 17/17 [00:00<00:00, 56.80it/s]\n"
     ]
    },
    {
     "name": "stdout",
     "output_type": "stream",
     "text": [
      "Epoch 140/200\n",
      "Train Loss: 0.1079, Val Loss: 2.7893\n",
      "Learning Rate: 0.001000\n",
      "--------------------------------------------------\n"
     ]
    },
    {
     "name": "stderr",
     "output_type": "stream",
     "text": [
      "Epoch 141/200: 100%|██████████| 17/17 [00:00<00:00, 55.59it/s]\n",
      "Epoch 142/200: 100%|██████████| 17/17 [00:00<00:00, 57.03it/s]\n",
      "Epoch 143/200: 100%|██████████| 17/17 [00:00<00:00, 57.34it/s]\n",
      "Epoch 144/200: 100%|██████████| 17/17 [00:00<00:00, 55.58it/s]\n",
      "Epoch 145/200: 100%|██████████| 17/17 [00:00<00:00, 56.86it/s]\n"
     ]
    },
    {
     "name": "stdout",
     "output_type": "stream",
     "text": [
      "Epoch 145/200\n",
      "Train Loss: 0.0966, Val Loss: 0.3672\n",
      "Learning Rate: 0.001000\n",
      "--------------------------------------------------\n"
     ]
    },
    {
     "name": "stderr",
     "output_type": "stream",
     "text": [
      "Epoch 146/200: 100%|██████████| 17/17 [00:00<00:00, 56.02it/s]\n",
      "Epoch 147/200: 100%|██████████| 17/17 [00:00<00:00, 53.55it/s]\n",
      "Epoch 148/200: 100%|██████████| 17/17 [00:00<00:00, 57.57it/s]\n",
      "Epoch 149/200: 100%|██████████| 17/17 [00:00<00:00, 56.45it/s]\n",
      "Epoch 150/200: 100%|██████████| 17/17 [00:00<00:00, 56.76it/s]\n"
     ]
    },
    {
     "name": "stdout",
     "output_type": "stream",
     "text": [
      "Epoch 150/200\n",
      "Train Loss: 0.1114, Val Loss: 0.2501\n",
      "Learning Rate: 0.001000\n",
      "--------------------------------------------------\n"
     ]
    },
    {
     "name": "stderr",
     "output_type": "stream",
     "text": [
      "Epoch 151/200: 100%|██████████| 17/17 [00:00<00:00, 55.43it/s]\n",
      "Epoch 152/200: 100%|██████████| 17/17 [00:00<00:00, 57.66it/s]\n",
      "Epoch 153/200: 100%|██████████| 17/17 [00:00<00:00, 56.96it/s]\n",
      "Epoch 154/200: 100%|██████████| 17/17 [00:00<00:00, 59.35it/s]\n",
      "Epoch 155/200: 100%|██████████| 17/17 [00:00<00:00, 56.12it/s]\n"
     ]
    },
    {
     "name": "stdout",
     "output_type": "stream",
     "text": [
      "Epoch 155/200\n",
      "Train Loss: 0.1065, Val Loss: 0.2648\n",
      "Learning Rate: 0.001000\n",
      "--------------------------------------------------\n"
     ]
    },
    {
     "name": "stderr",
     "output_type": "stream",
     "text": [
      "Epoch 156/200: 100%|██████████| 17/17 [00:00<00:00, 59.35it/s]\n",
      "Epoch 157/200: 100%|██████████| 17/17 [00:00<00:00, 56.10it/s]\n",
      "Epoch 158/200: 100%|██████████| 17/17 [00:00<00:00, 59.55it/s]\n",
      "Epoch 159/200: 100%|██████████| 17/17 [00:00<00:00, 57.32it/s]\n",
      "Epoch 160/200: 100%|██████████| 17/17 [00:00<00:00, 57.81it/s]\n"
     ]
    },
    {
     "name": "stdout",
     "output_type": "stream",
     "text": [
      "Epoch 160/200\n",
      "Train Loss: 0.1426, Val Loss: 0.3249\n",
      "Learning Rate: 0.001000\n",
      "--------------------------------------------------\n"
     ]
    },
    {
     "name": "stderr",
     "output_type": "stream",
     "text": [
      "Epoch 161/200: 100%|██████████| 17/17 [00:00<00:00, 55.73it/s]\n",
      "Epoch 162/200: 100%|██████████| 17/17 [00:00<00:00, 56.23it/s]\n",
      "Epoch 163/200: 100%|██████████| 17/17 [00:00<00:00, 57.54it/s]\n",
      "Epoch 164/200: 100%|██████████| 17/17 [00:00<00:00, 57.17it/s]\n",
      "Epoch 165/200: 100%|██████████| 17/17 [00:00<00:00, 56.70it/s]\n"
     ]
    },
    {
     "name": "stdout",
     "output_type": "stream",
     "text": [
      "Epoch 165/200\n",
      "Train Loss: 0.0930, Val Loss: 0.2208\n",
      "Learning Rate: 0.001000\n",
      "--------------------------------------------------\n"
     ]
    },
    {
     "name": "stderr",
     "output_type": "stream",
     "text": [
      "Epoch 166/200: 100%|██████████| 17/17 [00:00<00:00, 56.36it/s]\n",
      "Epoch 167/200: 100%|██████████| 17/17 [00:00<00:00, 58.94it/s]\n",
      "Epoch 168/200: 100%|██████████| 17/17 [00:00<00:00, 56.32it/s]\n",
      "Epoch 169/200: 100%|██████████| 17/17 [00:00<00:00, 58.15it/s]\n",
      "Epoch 170/200: 100%|██████████| 17/17 [00:00<00:00, 58.20it/s]\n"
     ]
    },
    {
     "name": "stdout",
     "output_type": "stream",
     "text": [
      "Epoch 170/200\n",
      "Train Loss: 0.2448, Val Loss: 0.2428\n",
      "Learning Rate: 0.001000\n",
      "--------------------------------------------------\n"
     ]
    },
    {
     "name": "stderr",
     "output_type": "stream",
     "text": [
      "Epoch 171/200: 100%|██████████| 17/17 [00:00<00:00, 57.41it/s]\n",
      "Epoch 172/200: 100%|██████████| 17/17 [00:00<00:00, 59.29it/s]\n",
      "Epoch 173/200: 100%|██████████| 17/17 [00:00<00:00, 58.47it/s]\n",
      "Epoch 174/200: 100%|██████████| 17/17 [00:00<00:00, 57.42it/s]\n",
      "Epoch 175/200: 100%|██████████| 17/17 [00:00<00:00, 57.01it/s]\n"
     ]
    },
    {
     "name": "stdout",
     "output_type": "stream",
     "text": [
      "Epoch 175/200\n",
      "Train Loss: 0.0944, Val Loss: 0.2838\n",
      "Learning Rate: 0.001000\n",
      "--------------------------------------------------\n"
     ]
    },
    {
     "name": "stderr",
     "output_type": "stream",
     "text": [
      "Epoch 176/200: 100%|██████████| 17/17 [00:00<00:00, 58.08it/s]\n",
      "Epoch 177/200: 100%|██████████| 17/17 [00:00<00:00, 57.45it/s]\n",
      "Epoch 178/200: 100%|██████████| 17/17 [00:00<00:00, 56.41it/s]\n",
      "Epoch 179/200: 100%|██████████| 17/17 [00:00<00:00, 59.65it/s]\n",
      "Epoch 180/200: 100%|██████████| 17/17 [00:00<00:00, 57.62it/s]\n"
     ]
    },
    {
     "name": "stdout",
     "output_type": "stream",
     "text": [
      "Epoch 180/200\n",
      "Train Loss: 0.1038, Val Loss: 0.2158\n",
      "Learning Rate: 0.001000\n",
      "--------------------------------------------------\n"
     ]
    },
    {
     "name": "stderr",
     "output_type": "stream",
     "text": [
      "Epoch 181/200: 100%|██████████| 17/17 [00:00<00:00, 56.28it/s]\n",
      "Epoch 182/200: 100%|██████████| 17/17 [00:00<00:00, 58.43it/s]\n",
      "Epoch 183/200: 100%|██████████| 17/17 [00:00<00:00, 57.77it/s]\n",
      "Epoch 184/200: 100%|██████████| 17/17 [00:00<00:00, 58.47it/s]\n",
      "Epoch 185/200: 100%|██████████| 17/17 [00:00<00:00, 57.11it/s]\n"
     ]
    },
    {
     "name": "stdout",
     "output_type": "stream",
     "text": [
      "Epoch 185/200\n",
      "Train Loss: 0.1109, Val Loss: 0.2476\n",
      "Learning Rate: 0.001000\n",
      "--------------------------------------------------\n"
     ]
    },
    {
     "name": "stderr",
     "output_type": "stream",
     "text": [
      "Epoch 186/200: 100%|██████████| 17/17 [00:00<00:00, 57.73it/s]\n",
      "Epoch 187/200: 100%|██████████| 17/17 [00:00<00:00, 57.91it/s]\n",
      "Epoch 188/200: 100%|██████████| 17/17 [00:00<00:00, 56.57it/s]\n",
      "Epoch 189/200: 100%|██████████| 17/17 [00:00<00:00, 58.50it/s]\n",
      "Epoch 190/200: 100%|██████████| 17/17 [00:00<00:00, 57.08it/s]\n"
     ]
    },
    {
     "name": "stdout",
     "output_type": "stream",
     "text": [
      "Epoch 190/200\n",
      "Train Loss: 0.1108, Val Loss: 0.2463\n",
      "Learning Rate: 0.001000\n",
      "--------------------------------------------------\n"
     ]
    },
    {
     "name": "stderr",
     "output_type": "stream",
     "text": [
      "Epoch 191/200: 100%|██████████| 17/17 [00:00<00:00, 59.33it/s]\n",
      "Epoch 192/200: 100%|██████████| 17/17 [00:00<00:00, 56.59it/s]\n",
      "Epoch 193/200: 100%|██████████| 17/17 [00:00<00:00, 59.64it/s]\n",
      "Epoch 194/200: 100%|██████████| 17/17 [00:00<00:00, 57.70it/s]\n",
      "Epoch 195/200: 100%|██████████| 17/17 [00:00<00:00, 58.32it/s]\n"
     ]
    },
    {
     "name": "stdout",
     "output_type": "stream",
     "text": [
      "Epoch 195/200\n",
      "Train Loss: 0.1185, Val Loss: 0.3334\n",
      "Learning Rate: 0.001000\n",
      "--------------------------------------------------\n"
     ]
    },
    {
     "name": "stderr",
     "output_type": "stream",
     "text": [
      "Epoch 196/200: 100%|██████████| 17/17 [00:00<00:00, 57.38it/s]\n",
      "Epoch 197/200: 100%|██████████| 17/17 [00:00<00:00, 57.08it/s]\n",
      "Epoch 198/200: 100%|██████████| 17/17 [00:00<00:00, 56.28it/s]\n",
      "Epoch 199/200: 100%|██████████| 17/17 [00:00<00:00, 55.43it/s]\n",
      "Epoch 200/200: 100%|██████████| 17/17 [00:00<00:00, 53.60it/s]\n"
     ]
    },
    {
     "name": "stdout",
     "output_type": "stream",
     "text": [
      "Epoch 200/200\n",
      "Train Loss: 0.0868, Val Loss: 0.3100\n",
      "Learning Rate: 0.001000\n",
      "--------------------------------------------------\n",
      "\n",
      "Test MSE: 0.2748\n",
      "Test MAE: 0.3867\n",
      "Test R²:  0.6930\n"
     ]
    },
    {
     "data": {
      "image/png": "[encoded data removed]",
      "text/plain": [
       "<Figure size 1500x500 with 2 Axes>"
      ]
     },
     "metadata": {},
     "output_type": "display_data"
    },
    {
     "name": "stdout",
     "output_type": "stream",
     "text": [
      "\n",
      "Model saved as 'cnn_model_em_max_onehot.pth'\n"
     ]
    }
   ],
   "source": [
    "\"\"\"Main training pipeline.\"\"\"\n",
    "TARGET_PROPERTY = 'brightness'  \n",
    "\n",
    "MAX_LENGTH = 256\n",
    "BATCH_SIZE = 64\n",
    "NUM_EPOCHS = 200\n",
    "LEARNING_RATE = 0.001\n",
    "\n",
    "model = ProteinCNN(\n",
    "    num_amino_acids=20, \n",
    "    num_filters=128,\n",
    "    dropout_rate=0.6\n",
    ")\n",
    "\n",
    "# Train the model\n",
    "trained_model, train_losses, val_losses = train_model(\n",
    "    model, train_loader, val_loader, NUM_EPOCHS, LEARNING_RATE\n",
    ")\n",
    "\n",
    "# Evaluate\n",
    "predictions1, true_values, mse, mae, r2 = evaluate_model(\n",
    "    trained_model, test_loader, dataset_test, TARGET_PROPERTY\n",
    ")\n",
    "\n",
    "# Plot\n",
    "plot_results(train_losses, val_losses, predictions1, true_values, TARGET_PROPERTY)\n",
    "\n",
    "# Save model\n",
    "torch.save(trained_model.state_dict(), f'weights/cnn_model_{TARGET_PROPERTY}_onehot.pth')\n",
    "print(f\"\\nModel saved as 'cnn_model_{TARGET_PROPERTY}_onehot.pth'\")"
   ]
  },
  {
   "cell_type": "code",
   "execution_count": 31,
   "id": "f01f60aa-9d66-4792-ab27-c5f020aa2bdd",
   "metadata": {},
   "outputs": [
    {
     "name": "stdout",
     "output_type": "stream",
     "text": [
      "\t RMSE: 60.79732131958008\n",
      "\t MAE: 50.817447662353516\n",
      "\t R2: -0.00016927719116210938\n",
      "\t MAE (med.): 38.7728271484375\n"
     ]
    }
   ],
   "source": [
    "trained_model.eval()\n",
    "\n",
    "predictions = []\n",
    "true_values = []\n",
    "\n",
    "with torch.no_grad():\n",
    "    for sequences, targets in test_loader:\n",
    "        sequences, targets = sequences.to(device), targets.to(device)\n",
    "        batch_predictions = model(sequences).squeeze()\n",
    "\n",
    "        predictions.extend(batch_predictions.cpu().numpy())\n",
    "        true_values.extend(targets.cpu().numpy())\n",
    "\n",
    "    # Convert back to original scale\n",
    "predictions = np.array(predictions)\n",
    "true_values = np.array(true_values)\n",
    "s_predictions = dataset.rescale_targets(predictions, TARGET_PROPERTY)\n",
    "s_true_values = dataset.rescale_targets(true_values, TARGET_PROPERTY)\n",
    "\n",
    "zv = get_regression_metrics(\n",
    "    s_predictions,\n",
    "    s_true_values\n",
    ")\n",
    "print(f'\\t RMSE: {zv[\"rmse\"]}')\n",
    "print(f'\\t MAE: {zv[\"mae\"]}')\n",
    "print(f'\\t R2: {zv[\"r2\"]}')\n",
    "print(f'\\t MAE (med.): {zv[\"mae_median\"]}')\n"
   ]
  },
  {
   "cell_type": "code",
   "execution_count": 32,
   "id": "593b7870",
   "metadata": {},
   "outputs": [
    {
     "name": "stdout",
     "output_type": "stream",
     "text": [
      "\n",
      "Metrics with 95% confidence intervals:\n",
      "RMSE: 61.01 +- 6.72\n",
      "MAE: 51.21 +- 5.12\n",
      "R2: -0.02 +- 0.02\n",
      "MAE Median: 39.50 +- 3.73\n"
     ]
    }
   ],
   "source": [
    "metrics_ci = bootstrap_metric_ci(\n",
    "    s_predictions, s_true_values, get_regression_metrics, \n",
    "    n_bootstrap=1000, alpha=0.05, random_state=42\n",
    ")\n",
    "\n",
    "# Print results in a nice format\n",
    "print(\"\\nMetrics with 95% confidence intervals:\")\n",
    "print(f\"RMSE: {(metrics_ci['rmse'][1] + metrics_ci['rmse'][2]) / 2:.2f} +- {(metrics_ci['rmse'][1] + metrics_ci['rmse'][2]) / 2 -metrics_ci['rmse'][1]:.2f}\")\n",
    "print(f\"MAE: {(metrics_ci['mae'][1] + metrics_ci['mae'][2]) / 2:.2f} +- {(metrics_ci['mae'][1] + metrics_ci['mae'][2]) / 2 -metrics_ci['mae'][1]:.2f}\")\n",
    "print(f\"R2: {(metrics_ci['r2'][1] + metrics_ci['r2'][2]) / 2:.2f} +- {(metrics_ci['r2'][1] + metrics_ci['r2'][2]) / 2 -metrics_ci['r2'][1]:.2f}\")\n",
    "print(f\"MAE Median: {(metrics_ci['mae_median'][1] + metrics_ci['mae_median'][2]) / 2:.2f} +- {(metrics_ci['mae_median'][1] + metrics_ci['mae_median'][2]) / 2 -metrics_ci['mae_median'][1]:.2f}\")"
   ]
  }
 ],
 "metadata": {
  "kernelspec": {
   "display_name": "venv",
   "language": "python",
   "name": "python3"
  },
  "language_info": {
   "codemirror_mode": {
    "name": "ipython",
    "version": 3
   },
   "file_extension": ".py",
   "mimetype": "text/x-python",
   "name": "python",
   "nbconvert_exporter": "python",
   "pygments_lexer": "ipython3",
   "version": "3.10.0"
  }
 },
 "nbformat": 4,
 "nbformat_minor": 5
}

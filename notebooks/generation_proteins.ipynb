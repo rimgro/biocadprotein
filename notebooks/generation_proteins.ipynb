{
 "cells": [
  {
   "cell_type": "markdown",
   "id": "39cecdc3",
   "metadata": {},
   "source": [
    "Загрузим библиотеку fpgen"
   ]
  },
  {
   "cell_type": "code",
   "execution_count": null,
   "id": "163b3e5e",
   "metadata": {},
   "outputs": [],
   "source": [
    "from IPython.display import clear_output\n",
    "\n",
    "! pip install --upgrade git+https://github.com/rimgro/biocadprotein.git\n",
    "\n",
    "clear_output()"
   ]
  },
  {
   "cell_type": "code",
   "execution_count": 3,
   "id": "ee61f950",
   "metadata": {},
   "outputs": [],
   "source": [
    "from fpgen.metrics import Metric"
   ]
  },
  {
   "cell_type": "code",
   "execution_count": 1,
   "id": "713c7667",
   "metadata": {},
   "outputs": [],
   "source": [
    "from fpgen.generator import ProteinGenerator\n",
    "from fpgen.metrics import Metric\n",
    "\n",
    "from esm.models.esm3 import ESM3\n",
    "from esm.sdk.api import ESMProtein\n",
    "from esm.utils.structure.protein_chain import ProteinChain"
   ]
  },
  {
   "cell_type": "code",
   "execution_count": 2,
   "id": "c4763f18",
   "metadata": {},
   "outputs": [],
   "source": [
    "# GFP\n",
    "gfp_protein = ESMProtein.from_protein_chain(\n",
    "    ProteinChain.from_rcsb('1qy3', chain_id='A')\n",
    ")\n",
    "gfp_aplha_phelix = [5, 133, 9, 138, 11, 139, 13, 140, 15, 141, 142, 180, 147, 181, 24, 182, 26, 32, 33, 34, 162, 164, 37, 38, 39, 166, 41, 43, 50, 178, 52, 53, 54, 55, 56, 57, 58, 59, 60, 61, 62, 63, 64, 65, 66, 67, 68, 69, 70, 71, 198, 202, 204, 79, 81, 82, 85, 215, 89, 217, 91, 92, 93, 219, 221, 222, 97, 103, 105, 109, 116, 118, 120, 122]\n",
    "\n",
    "# mScarlet\n",
    "mscarlet_protein = ESMProtein.from_protein_chain(\n",
    "    ProteinChain.from_rcsb('5lk4', chain_id='A')\n",
    ")\n",
    "mscarlet_aplha_phelix = [8, 12, 13, 14, 16, 18, 22, 27, 29, 34, 35, 36, 37, 38, 39, 40, 41, 42, 43, 44, 46, 48, 54, 56, 57, 58, 59, 60, 61, 62, 63, 64, 65, 69, 70, 71, 72, 73, 74, 75, 76, 79, 80, 81, 82, 83, 84, 85, 86, 87, 91, 93, 95, 97, 99, 105, 107, 109, 111, 118, 120, 122, 124, 129, 135, 140, 141, 142, 143, 144, 146, 148, 150, 157, 161, 163, 165, 177, 181, 185, 187, 188, 193, 195, 197, 199, 201, 208, 211, 213, 214, 215, 217, 218, 219]\n",
    "\n",
    "# sfGFP\n",
    "sfgfp_protein = ESMProtein.from_protein_chain(\n",
    "    ProteinChain.from_rcsb('2b3p', chain_id='A')\n",
    ")\n",
    "sfgfp_aplha_phelix = ..."
   ]
  },
  {
   "cell_type": "code",
   "execution_count": 4,
   "id": "033cd59b",
   "metadata": {},
   "outputs": [
    {
     "name": "stdout",
     "output_type": "stream",
     "text": [
      "^C\n"
     ]
    }
   ],
   "source": [
    "! pip uninstall fpgen"
   ]
  },
  {
   "cell_type": "code",
   "execution_count": 3,
   "id": "66549a0a",
   "metadata": {},
   "outputs": [
    {
     "ename": "ImportError",
     "evalue": "cannot import name 'get_active_site_residues' from 'fpgen.utils' (c:\\Users\\User\\AppData\\Local\\Programs\\Python\\Python311\\Lib\\site-packages\\fpgen\\utils.py)",
     "output_type": "error",
     "traceback": [
      "\u001b[31m---------------------------------------------------------------------------\u001b[39m",
      "\u001b[31mImportError\u001b[39m                               Traceback (most recent call last)",
      "\u001b[36mCell\u001b[39m\u001b[36m \u001b[39m\u001b[32mIn[3]\u001b[39m\u001b[32m, line 1\u001b[39m\n\u001b[32m----> \u001b[39m\u001b[32m1\u001b[39m \u001b[38;5;28;01mfrom\u001b[39;00m\u001b[38;5;250m \u001b[39m\u001b[34;01mfpgen\u001b[39;00m\u001b[34;01m.\u001b[39;00m\u001b[34;01mutils\u001b[39;00m\u001b[38;5;250m \u001b[39m\u001b[38;5;28;01mimport\u001b[39;00m get_active_site_residues\n\u001b[32m      3\u001b[39m residues = get_active_site_residues(\n\u001b[32m      4\u001b[39m     (\u001b[32m60\u001b[39m, \u001b[32m70\u001b[39m),\n\u001b[32m      5\u001b[39m     gfp_protein,\n\u001b[32m      6\u001b[39m     radius=\u001b[32m5\u001b[39m\n\u001b[32m      7\u001b[39m )\n\u001b[32m      9\u001b[39m \u001b[38;5;28mprint\u001b[39m(residues)\n",
      "\u001b[31mImportError\u001b[39m: cannot import name 'get_active_site_residues' from 'fpgen.utils' (c:\\Users\\User\\AppData\\Local\\Programs\\Python\\Python311\\Lib\\site-packages\\fpgen\\utils.py)"
     ]
    }
   ],
   "source": [
    "from fpgen.utils import get_active_site_residues\n",
    "\n",
    "residues = get_active_site_residues(\n",
    "    (60, 70),\n",
    "    gfp_protein,\n",
    "    radius=5\n",
    ")\n",
    "\n",
    "print(residues)\n",
    "print(len(residues))"
   ]
  },
  {
   "cell_type": "markdown",
   "id": "651f7cd6",
   "metadata": {},
   "source": [
    "Загрузим из базы данных PBD белок GFP и создадим объект генератора"
   ]
  },
  {
   "cell_type": "code",
   "execution_count": 7,
   "id": "bd36b2c1",
   "metadata": {},
   "outputs": [
    {
     "data": {
      "application/vnd.jupyter.widget-view+json": {
       "model_id": "6995490457b449a08cf229594c3c2828",
       "version_major": 2,
       "version_minor": 0
      },
      "text/plain": [
       "Fetching 22 files:   0%|          | 0/22 [00:00<?, ?it/s]"
      ]
     },
     "metadata": {},
     "output_type": "display_data"
    },
    {
     "name": "stderr",
     "output_type": "stream",
     "text": [
      "c:\\Users\\User\\AppData\\Local\\Programs\\Python\\Python311\\Lib\\site-packages\\esm\\models\\vqvae.py:286: FutureWarning: `torch.cuda.amp.autocast(args...)` is deprecated. Please use `torch.amp.autocast('cuda', args...)` instead.\n",
      "  with torch.no_grad(), torch.cuda.amp.autocast(enabled=False):  # type: ignore\n"
     ]
    }
   ],
   "source": [
    "model = ESM3.from_pretrained('esm3-open').to('cuda')\n",
    "gfp_generator = ProteinGenerator(gfp_protein, gfp_aplha_phelix, model)"
   ]
  },
  {
   "cell_type": "markdown",
   "id": "56e2d3a7",
   "metadata": {},
   "source": [
    "В библиотеке уже есть заготовленная функция для подсчета RMSD по всей структуре белка. Но нет для подсчета по альфа-спирали (по техническим причинам). Поэтому ее необходимо реализовать самостоятельно"
   ]
  },
  {
   "cell_type": "code",
   "execution_count": 8,
   "id": "a0b26fff",
   "metadata": {},
   "outputs": [],
   "source": [
    "def phelix_rmsd(generation_protein, template_protein, alpha_phelix) -> float:\n",
    "    template_chain: ProteinChain = template_protein.to_protein_chain()\n",
    "    generation_chain: ProteinChain = generation_protein.to_protein_chain()\n",
    "\n",
    "    rmsd = template_chain[alpha_phelix].rmsd(generation_chain[alpha_phelix])\n",
    "    return rmsd"
   ]
  },
  {
   "cell_type": "code",
   "execution_count": 9,
   "id": "7f0a89b7",
   "metadata": {},
   "outputs": [],
   "source": [
    "import os\n",
    "os.environ['DISABLE_ITERATIVE_SAMPLING_TQDM'] = '1'"
   ]
  },
  {
   "cell_type": "code",
   "execution_count": 10,
   "id": "3e0d8eb5",
   "metadata": {},
   "outputs": [],
   "source": [
    "from tqdm import trange"
   ]
  },
  {
   "cell_type": "code",
   "execution_count": 11,
   "id": "ccfbf01a",
   "metadata": {},
   "outputs": [],
   "source": [
    "metrics = []\n",
    "proteins = []"
   ]
  },
  {
   "cell_type": "code",
   "execution_count": 13,
   "id": "70c3dcc2-3ddc-4ff5-b8f5-6bdb5d955a85",
   "metadata": {},
   "outputs": [
    {
     "name": "stderr",
     "output_type": "stream",
     "text": [
      "c:\\Users\\User\\AppData\\Local\\Programs\\Python\\Python311\\Lib\\site-packages\\esm\\utils\\structure\\protein_complex.py:223: UserWarning: Entity ID not found in metadata, using None as default\n",
      "  warnings.warn(\"Entity ID not found in metadata, using None as default\")\n"
     ]
    }
   ],
   "source": [
    "protein, metric = gfp_generator.generate(\n",
    "    metric_list=[\n",
    "        Metric(phelix_rmsd, alpha_phelix=gfp_aplha_phelix),\n",
    "        Metric('rmsd'),\n",
    "        Metric('ptm', calculate_on_full_atom=False),\n",
    "        Metric('plddt', calculate_on_full_atom=False)\n",
    "    ],\n",
    "    fix_protein=True\n",
    ")"
   ]
  },
  {
   "cell_type": "code",
   "execution_count": 10,
   "id": "281e51a8-4328-4674-b36c-9c3eeac466a8",
   "metadata": {},
   "outputs": [
    {
     "name": "stdout",
     "output_type": "stream",
     "text": [
      "1\n",
      "2\n",
      "3\n",
      "4\n",
      "5\n"
     ]
    },
    {
     "name": "stderr",
     "output_type": "stream",
     "text": [
      "/opt/conda/lib/python3.11/site-packages/esm/utils/structure/protein_complex.py:223: UserWarning: Entity ID not found in metadata, using None as default\n",
      "  warnings.warn(\"Entity ID not found in metadata, using None as default\")\n"
     ]
    },
    {
     "name": "stdout",
     "output_type": "stream",
     "text": [
      "6\n"
     ]
    }
   ],
   "source": [
    "from fpgen import utils\n",
    "fixed_protein = utils.fix_protein(protein)"
   ]
  },
  {
   "cell_type": "code",
   "execution_count": 16,
   "id": "836d9e40",
   "metadata": {},
   "outputs": [
    {
     "name": "stderr",
     "output_type": "stream",
     "text": [
      "100%|██████████| 1/1 [00:25<00:00, 25.79s/it]\n"
     ]
    }
   ],
   "source": [
    "for _ in trange(1):\n",
    "    protein, metric = gfp_generator.generate(\n",
    "        metric_list=[\n",
    "            CustomMetric(phelix_rmsd, gfp_aplha_phelix),\n",
    "            'rmsd',\n",
    "            'ptm',\n",
    "            'plddt',\n",
    "            'identity'\n",
    "        ]\n",
    "    )\n",
    "\n",
    "    metrics.append(metric)\n",
    "    proteins.append(protein)"
   ]
  },
  {
   "cell_type": "code",
   "execution_count": 17,
   "id": "1c26c490",
   "metadata": {},
   "outputs": [],
   "source": [
    "import pandas as pd\n",
    "metrics_df = pd.DataFrame(metrics, columns=['alpha_rmsd', 'full_rmsd', 'ptm', 'plddt', 'identity'])"
   ]
  },
  {
   "cell_type": "code",
   "execution_count": 20,
   "id": "105de3cd-2890-4b48-a9aa-143fac15c2e2",
   "metadata": {},
   "outputs": [
    {
     "data": {
      "text/html": [
       "<div>\n",
       "<style scoped>\n",
       "    .dataframe tbody tr th:only-of-type {\n",
       "        vertical-align: middle;\n",
       "    }\n",
       "\n",
       "    .dataframe tbody tr th {\n",
       "        vertical-align: top;\n",
       "    }\n",
       "\n",
       "    .dataframe thead th {\n",
       "        text-align: right;\n",
       "    }\n",
       "</style>\n",
       "<table border=\"1\" class=\"dataframe\">\n",
       "  <thead>\n",
       "    <tr style=\"text-align: right;\">\n",
       "      <th></th>\n",
       "      <th>alpha_rmsd</th>\n",
       "      <th>full_rmsd</th>\n",
       "      <th>ptm</th>\n",
       "      <th>plddt</th>\n",
       "      <th>identity</th>\n",
       "    </tr>\n",
       "  </thead>\n",
       "  <tbody>\n",
       "    <tr>\n",
       "      <th>0</th>\n",
       "      <td>0.954218</td>\n",
       "      <td>1.683646</td>\n",
       "      <td>0.811762</td>\n",
       "      <td>0.855774</td>\n",
       "      <td>0.458515</td>\n",
       "    </tr>\n",
       "    <tr>\n",
       "      <th>1</th>\n",
       "      <td>1.217875</td>\n",
       "      <td>1.600548</td>\n",
       "      <td>0.846343</td>\n",
       "      <td>0.875950</td>\n",
       "      <td>0.468354</td>\n",
       "    </tr>\n",
       "    <tr>\n",
       "      <th>2</th>\n",
       "      <td>0.913113</td>\n",
       "      <td>1.503828</td>\n",
       "      <td>0.852738</td>\n",
       "      <td>0.881344</td>\n",
       "      <td>0.426087</td>\n",
       "    </tr>\n",
       "    <tr>\n",
       "      <th>3</th>\n",
       "      <td>0.453620</td>\n",
       "      <td>1.156076</td>\n",
       "      <td>0.853657</td>\n",
       "      <td>0.912881</td>\n",
       "      <td>0.456140</td>\n",
       "    </tr>\n",
       "  </tbody>\n",
       "</table>\n",
       "</div>"
      ],
      "text/plain": [
       "   alpha_rmsd  full_rmsd       ptm     plddt  identity\n",
       "0    0.954218   1.683646  0.811762  0.855774  0.458515\n",
       "1    1.217875   1.600548  0.846343  0.875950  0.468354\n",
       "2    0.913113   1.503828  0.852738  0.881344  0.426087\n",
       "3    0.453620   1.156076  0.853657  0.912881  0.456140"
      ]
     },
     "execution_count": 20,
     "metadata": {},
     "output_type": "execute_result"
    }
   ],
   "source": [
    "metrics_df.head()"
   ]
  },
  {
   "cell_type": "code",
   "execution_count": 21,
   "id": "c1b6780d-c565-404d-8295-61d80102e5be",
   "metadata": {},
   "outputs": [
    {
     "data": {
      "text/plain": [
       "<Axes: xlabel='alpha_rmsd', ylabel='Count'>"
      ]
     },
     "execution_count": 21,
     "metadata": {},
     "output_type": "execute_result"
    },
    {
     "data": {
      "image/png": "[encoded data removed]",
      "text/plain": [
       "<Figure size 640x480 with 1 Axes>"
      ]
     },
     "metadata": {},
     "output_type": "display_data"
    }
   ],
   "source": [
    "import seaborn as sns\n",
    "sns.histplot(data=metrics_df, x='alpha_rmsd')"
   ]
  },
  {
   "cell_type": "code",
   "execution_count": 19,
   "id": "6e8a8258-ad01-495c-9141-3a1272fbc8dc",
   "metadata": {},
   "outputs": [
    {
     "data": {
      "text/plain": [
       "<Axes: xlabel='full_rmsd', ylabel='Count'>"
      ]
     },
     "execution_count": 19,
     "metadata": {},
     "output_type": "execute_result"
    },
    {
     "data": {
      "image/png": "[encoded data removed]",
      "text/plain": [
       "<Figure size 640x480 with 1 Axes>"
      ]
     },
     "metadata": {},
     "output_type": "display_data"
    }
   ],
   "source": [
    "sns.histplot(data=metrics_df, x='full_rmsd')"
   ]
  },
  {
   "cell_type": "code",
   "execution_count": 20,
   "id": "f8cca072-51b0-4295-828b-e23f54c7f28d",
   "metadata": {},
   "outputs": [
    {
     "data": {
      "text/plain": [
       "<Axes: xlabel='ptm', ylabel='Count'>"
      ]
     },
     "execution_count": 20,
     "metadata": {},
     "output_type": "execute_result"
    },
    {
     "data": {
      "image/png": "[encoded data removed]",
      "text/plain": [
       "<Figure size 640x480 with 1 Axes>"
      ]
     },
     "metadata": {},
     "output_type": "display_data"
    }
   ],
   "source": [
    "sns.histplot(data=metrics_df, x='ptm')"
   ]
  },
  {
   "cell_type": "code",
   "execution_count": 21,
   "id": "e5f0cff6-3b46-404e-b56c-67d78b04d235",
   "metadata": {},
   "outputs": [
    {
     "data": {
      "text/plain": [
       "<Axes: xlabel='plddt', ylabel='Count'>"
      ]
     },
     "execution_count": 21,
     "metadata": {},
     "output_type": "execute_result"
    },
    {
     "data": {
      "image/png": "[encoded data removed]",
      "text/plain": [
       "<Figure size 640x480 with 1 Axes>"
      ]
     },
     "metadata": {},
     "output_type": "display_data"
    }
   ],
   "source": [
    "sns.histplot(data=metrics_df, x='plddt')"
   ]
  },
  {
   "cell_type": "code",
   "execution_count": 25,
   "id": "d38edcc3-79b9-4ba6-a524-dd273860706a",
   "metadata": {},
   "outputs": [
    {
     "data": {
      "text/html": [
       "<div>\n",
       "<style scoped>\n",
       "    .dataframe tbody tr th:only-of-type {\n",
       "        vertical-align: middle;\n",
       "    }\n",
       "\n",
       "    .dataframe tbody tr th {\n",
       "        vertical-align: top;\n",
       "    }\n",
       "\n",
       "    .dataframe thead th {\n",
       "        text-align: right;\n",
       "    }\n",
       "</style>\n",
       "<table border=\"1\" class=\"dataframe\">\n",
       "  <thead>\n",
       "    <tr style=\"text-align: right;\">\n",
       "      <th></th>\n",
       "      <th>alpha_rmsd</th>\n",
       "      <th>full_rmsd</th>\n",
       "      <th>ptm</th>\n",
       "      <th>plddt</th>\n",
       "    </tr>\n",
       "  </thead>\n",
       "  <tbody>\n",
       "    <tr>\n",
       "      <th>0</th>\n",
       "      <td>0.611167</td>\n",
       "      <td>1.230613</td>\n",
       "      <td>0.852457</td>\n",
       "      <td>0.886111</td>\n",
       "    </tr>\n",
       "    <tr>\n",
       "      <th>18</th>\n",
       "      <td>0.621562</td>\n",
       "      <td>1.211213</td>\n",
       "      <td>0.848693</td>\n",
       "      <td>0.876220</td>\n",
       "    </tr>\n",
       "    <tr>\n",
       "      <th>21</th>\n",
       "      <td>0.544998</td>\n",
       "      <td>1.163670</td>\n",
       "      <td>0.863488</td>\n",
       "      <td>0.895660</td>\n",
       "    </tr>\n",
       "    <tr>\n",
       "      <th>28</th>\n",
       "      <td>0.637094</td>\n",
       "      <td>1.401618</td>\n",
       "      <td>0.828433</td>\n",
       "      <td>0.845346</td>\n",
       "    </tr>\n",
       "    <tr>\n",
       "      <th>43</th>\n",
       "      <td>0.628094</td>\n",
       "      <td>1.240230</td>\n",
       "      <td>0.833423</td>\n",
       "      <td>0.864250</td>\n",
       "    </tr>\n",
       "    <tr>\n",
       "      <th>67</th>\n",
       "      <td>0.628669</td>\n",
       "      <td>1.219928</td>\n",
       "      <td>0.861889</td>\n",
       "      <td>0.911878</td>\n",
       "    </tr>\n",
       "    <tr>\n",
       "      <th>79</th>\n",
       "      <td>0.638440</td>\n",
       "      <td>1.372667</td>\n",
       "      <td>0.842022</td>\n",
       "      <td>0.880155</td>\n",
       "    </tr>\n",
       "    <tr>\n",
       "      <th>84</th>\n",
       "      <td>0.526568</td>\n",
       "      <td>1.345058</td>\n",
       "      <td>0.852936</td>\n",
       "      <td>0.896914</td>\n",
       "    </tr>\n",
       "    <tr>\n",
       "      <th>89</th>\n",
       "      <td>0.699207</td>\n",
       "      <td>1.373947</td>\n",
       "      <td>0.867753</td>\n",
       "      <td>0.895188</td>\n",
       "    </tr>\n",
       "    <tr>\n",
       "      <th>95</th>\n",
       "      <td>0.658336</td>\n",
       "      <td>1.272374</td>\n",
       "      <td>0.834743</td>\n",
       "      <td>0.858349</td>\n",
       "    </tr>\n",
       "    <tr>\n",
       "      <th>99</th>\n",
       "      <td>0.613838</td>\n",
       "      <td>1.228414</td>\n",
       "      <td>0.850083</td>\n",
       "      <td>0.890508</td>\n",
       "    </tr>\n",
       "  </tbody>\n",
       "</table>\n",
       "</div>"
      ],
      "text/plain": [
       "    alpha_rmsd  full_rmsd       ptm     plddt\n",
       "0     0.611167   1.230613  0.852457  0.886111\n",
       "18    0.621562   1.211213  0.848693  0.876220\n",
       "21    0.544998   1.163670  0.863488  0.895660\n",
       "28    0.637094   1.401618  0.828433  0.845346\n",
       "43    0.628094   1.240230  0.833423  0.864250\n",
       "67    0.628669   1.219928  0.861889  0.911878\n",
       "79    0.638440   1.372667  0.842022  0.880155\n",
       "84    0.526568   1.345058  0.852936  0.896914\n",
       "89    0.699207   1.373947  0.867753  0.895188\n",
       "95    0.658336   1.272374  0.834743  0.858349\n",
       "99    0.613838   1.228414  0.850083  0.890508"
      ]
     },
     "execution_count": 25,
     "metadata": {},
     "output_type": "execute_result"
    }
   ],
   "source": [
    "metrics_df_filtered = metrics_df[(metrics_df['alpha_rmsd'] <= 0.7) & (metrics_df['full_rmsd'] <= 1.5)]\n",
    "metrics_df_filtered"
   ]
  },
  {
   "cell_type": "code",
   "execution_count": 24,
   "id": "57c34d0e-f71a-4f7f-ba96-181c5f704903",
   "metadata": {},
   "outputs": [
    {
     "data": {
      "text/plain": [
       "11"
      ]
     },
     "execution_count": 24,
     "metadata": {},
     "output_type": "execute_result"
    }
   ],
   "source": [
    "len(metrics_df_filtered)"
   ]
  },
  {
   "cell_type": "code",
   "execution_count": 29,
   "id": "e5831a50-f118-41a4-ae10-3c04d5ccdae7",
   "metadata": {},
   "outputs": [
    {
     "data": {
      "text/plain": [
       "0.46255506607929514"
      ]
     },
     "execution_count": 29,
     "metadata": {},
     "output_type": "execute_result"
    }
   ],
   "source": [
    "from fpgen.metrics import seq_identity\n",
    "seq_identity(proteins[67], gfp_protein)"
   ]
  },
  {
   "cell_type": "code",
   "execution_count": null,
   "id": "264669d4-6033-49c5-914e-17c5c7aeb09e",
   "metadata": {},
   "outputs": [],
   "source": []
  }
 ],
 "metadata": {
  "kernelspec": {
   "display_name": "Python 3",
   "language": "python",
   "name": "python3"
  },
  "language_info": {
   "codemirror_mode": {
    "name": "ipython",
    "version": 3
   },
   "file_extension": ".py",
   "mimetype": "text/x-python",
   "name": "python",
   "nbconvert_exporter": "python",
   "pygments_lexer": "ipython3",
   "version": "3.11.9"
  }
 },
 "nbformat": 4,
 "nbformat_minor": 5
}

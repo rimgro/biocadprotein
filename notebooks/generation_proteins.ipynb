{
 "cells": [
  {
   "cell_type": "markdown",
   "id": "39cecdc3",
   "metadata": {},
   "source": [
    "# Генерация структуры молекулы по альфа-спирали\n",
    "## Подготовка\n",
    "Загрузим библиотеку fpgen (высокоуровневую обертку над ESM3, созданную в рамках проекта)"
   ]
  },
  {
   "cell_type": "code",
   "execution_count": 1,
   "id": "163b3e5e",
   "metadata": {},
   "outputs": [],
   "source": [
    "from IPython.display import clear_output\n",
    "\n",
    "! pip install --upgrade git+https://github.com/rimgro/biocadprotein.git\n",
    "\n",
    "clear_output()"
   ]
  },
  {
   "cell_type": "code",
   "execution_count": null,
   "id": "96836130",
   "metadata": {},
   "outputs": [],
   "source": [
    "import random\n",
    "\n",
    "from fpgen.generator import ProteinGenerator\n",
    "from fpgen.metrics import Metric\n",
    "\n",
    "from esm.models.esm3 import ESM3\n",
    "from esm.sdk.api import ESMProtein\n",
    "from esm.utils.structure.protein_chain import ProteinChain"
   ]
  },
  {
   "cell_type": "markdown",
   "id": "94299986-0d65-4060-bb34-8d55eebae36e",
   "metadata": {},
   "source": [
    "Выгрузим из базы данных белок GFP и зададим альфа спираль. Альфа спираль — список из индексов структуры, которые не будут замаскированы (нумерация начинается с 0)"
   ]
  },
  {
   "cell_type": "code",
   "execution_count": 4,
   "id": "c4763f18",
   "metadata": {},
   "outputs": [],
   "source": [
    "gfp_protein = ESMProtein.from_protein_chain(\n",
    "    ProteinChain.from_rcsb('1qy3', chain_id='A')\n",
    ")\n",
    "gfp_aplha_phelix = [5, 133, 9, 138, 11, 139, 13, 140, 15, 141, 142, 180, 147, 181, 24, 182, 26, 32, 33, 34, 162, 164, 37, 38, 39, 166, 41, 43, 50, 178, 52, 53, 54, 55, 56, 57, 58, 59, 60, 61, 62, 63, 64, 65, 66, 67, 68, 69, 70, 71, 198, 202, 204, 79, 81, 82, 85, 215, 89, 217, 91, 92, 93, 219, 221, 222, 97, 103, 105, 109, 116, 118, 120, 122]"
   ]
  },
  {
   "cell_type": "markdown",
   "id": "651f7cd6",
   "metadata": {},
   "source": [
    "Создадим объект модели ESM3 и генератор на его основе"
   ]
  },
  {
   "cell_type": "code",
   "execution_count": 5,
   "id": "bd36b2c1",
   "metadata": {},
   "outputs": [
    {
     "name": "stderr",
     "output_type": "stream",
     "text": [
      "/opt/conda/lib/python3.11/site-packages/torch/cuda/__init__.py:789: UserWarning: Can't initialize NVML\n",
      "  warnings.warn(\"Can't initialize NVML\")\n",
      "/opt/conda/lib/python3.11/site-packages/esm/models/vqvae.py:286: FutureWarning: `torch.cuda.amp.autocast(args...)` is deprecated. Please use `torch.amp.autocast('cuda', args...)` instead.\n",
      "  with torch.no_grad(), torch.cuda.amp.autocast(enabled=False):  # type: ignore\n"
     ]
    }
   ],
   "source": [
    "model = ESM3.from_pretrained('esm3-open').to('cuda')\n",
    "gfp_generator = ProteinGenerator(gfp_protein, gfp_aplha_phelix, model)"
   ]
  },
  {
   "cell_type": "markdown",
   "id": "56e2d3a7",
   "metadata": {},
   "source": [
    "В библиотеке уже есть заготовленная функция для подсчета RMSD по всей структуре белка. Но нет для подсчета по альфа-спирали (по техническим причинам). Поэтому ее необходимо реализовать самостоятельно"
   ]
  },
  {
   "cell_type": "code",
   "execution_count": 6,
   "id": "a0b26fff",
   "metadata": {},
   "outputs": [],
   "source": [
    "# Функция принимает на вход сгенерированный белок и белок, на основе которого мы производили генерацию. А также\n",
    "# список с индексами альфа-спирали. И возвращает на выходе значение метрики\n",
    "def phelix_rmsd(generation_protein, template_protein, alpha_phelix) -> float:\n",
    "    template_chain: ProteinChain = template_protein.to_protein_chain()\n",
    "    generation_chain: ProteinChain = generation_protein.to_protein_chain()\n",
    "\n",
    "    rmsd = template_chain[alpha_phelix].rmsd(generation_chain[alpha_phelix])\n",
    "    return rmsd"
   ]
  },
  {
   "cell_type": "code",
   "execution_count": 7,
   "id": "7f0a89b7",
   "metadata": {},
   "outputs": [],
   "source": [
    "import os\n",
    "os.environ['DISABLE_ITERATIVE_SAMPLING_TQDM'] = '1'"
   ]
  },
  {
   "cell_type": "code",
   "execution_count": 8,
   "id": "3e0d8eb5",
   "metadata": {},
   "outputs": [],
   "source": [
    "from tqdm import trange"
   ]
  },
  {
   "cell_type": "markdown",
   "id": "b219f291-044d-47b7-887c-78723c5a832d",
   "metadata": {},
   "source": [
    "## Генерация\n",
    "Создадим переменные для хранения сгенерированных белков"
   ]
  },
  {
   "cell_type": "code",
   "execution_count": 53,
   "id": "ccfbf01a",
   "metadata": {},
   "outputs": [],
   "source": [
    "data = [] # Информация для анализа\n",
    "proteins = [] # Структура и последовательность белков"
   ]
  },
  {
   "cell_type": "markdown",
   "id": "badff95f-10b2-4c45-8538-357e7e22b53d",
   "metadata": {},
   "source": [
    "И начнем генерацию белковых молекул"
   ]
  },
  {
   "cell_type": "code",
   "execution_count": 54,
   "id": "836d9e40",
   "metadata": {},
   "outputs": [
    {
     "name": "stderr",
     "output_type": "stream",
     "text": [
      "100%|███████████████████████████████████████████████████████████████████████████████████████████████████████████████| 300/300 [38:40<00:00,  7.73s/it]\n"
     ]
    }
   ],
   "source": [
    "for _ in trange(300):\n",
    "    # Случайно выбираем температуру\n",
    "    temperature = random.uniform(0.0, 1.5)\n",
    "\n",
    "    # Генерируем белок, передавая на вход список метрик, температуру и флаг fix_protein=True, который означает,\n",
    "    # что мы хотим получить полную структуру молекулы (а не только скелет), добавив недостающие атомы\n",
    "    protein, metric = gfp_generator.generate(\n",
    "        metric_list=[\n",
    "            Metric(phelix_rmsd, alpha_phelix=gfp_aplha_phelix, calculate_on_full_atom=True),\n",
    "            Metric('rmsd', calculate_on_full_atom=True),\n",
    "            'ptm',\n",
    "            'plddt',\n",
    "            'identity'\n",
    "        ],\n",
    "        temperature=temperature,\n",
    "        fix_protein=True\n",
    "    )\n",
    "\n",
    "    data.append(metric + [temperature])\n",
    "    proteins.append(protein['full_atom'])"
   ]
  },
  {
   "cell_type": "markdown",
   "id": "f451bf9b-c5b4-4b17-9273-1bf42ca694e0",
   "metadata": {},
   "source": [
    "Сохраняем данные в датафрейм (так удобнее работать)"
   ]
  },
  {
   "cell_type": "code",
   "execution_count": 56,
   "id": "1c26c490",
   "metadata": {},
   "outputs": [],
   "source": [
    "import pandas as pd\n",
    "metrics_df = pd.DataFrame(data, columns=['alpha_rmsd', 'full_rmsd', 'ptm', 'plddt', 'identity', 'temperature'])"
   ]
  },
  {
   "cell_type": "code",
   "execution_count": 57,
   "id": "105de3cd-2890-4b48-a9aa-143fac15c2e2",
   "metadata": {},
   "outputs": [
    {
     "data": {
      "text/html": [
       "<div>\n",
       "<style scoped>\n",
       "    .dataframe tbody tr th:only-of-type {\n",
       "        vertical-align: middle;\n",
       "    }\n",
       "\n",
       "    .dataframe tbody tr th {\n",
       "        vertical-align: top;\n",
       "    }\n",
       "\n",
       "    .dataframe thead th {\n",
       "        text-align: right;\n",
       "    }\n",
       "</style>\n",
       "<table border=\"1\" class=\"dataframe\">\n",
       "  <thead>\n",
       "    <tr style=\"text-align: right;\">\n",
       "      <th></th>\n",
       "      <th>alpha_rmsd</th>\n",
       "      <th>full_rmsd</th>\n",
       "      <th>ptm</th>\n",
       "      <th>plddt</th>\n",
       "      <th>identity</th>\n",
       "      <th>temperature</th>\n",
       "    </tr>\n",
       "  </thead>\n",
       "  <tbody>\n",
       "    <tr>\n",
       "      <th>0</th>\n",
       "      <td>1.467277</td>\n",
       "      <td>1.720697</td>\n",
       "      <td>0.845491</td>\n",
       "      <td>0.889637</td>\n",
       "      <td>0.407725</td>\n",
       "      <td>1.225379</td>\n",
       "    </tr>\n",
       "    <tr>\n",
       "      <th>1</th>\n",
       "      <td>1.824570</td>\n",
       "      <td>2.495011</td>\n",
       "      <td>0.848626</td>\n",
       "      <td>0.883532</td>\n",
       "      <td>0.457265</td>\n",
       "      <td>0.245705</td>\n",
       "    </tr>\n",
       "    <tr>\n",
       "      <th>2</th>\n",
       "      <td>1.571710</td>\n",
       "      <td>2.149830</td>\n",
       "      <td>0.862063</td>\n",
       "      <td>0.888149</td>\n",
       "      <td>0.436681</td>\n",
       "      <td>1.286259</td>\n",
       "    </tr>\n",
       "    <tr>\n",
       "      <th>3</th>\n",
       "      <td>1.997596</td>\n",
       "      <td>2.437820</td>\n",
       "      <td>0.756539</td>\n",
       "      <td>0.761424</td>\n",
       "      <td>0.436123</td>\n",
       "      <td>1.496759</td>\n",
       "    </tr>\n",
       "    <tr>\n",
       "      <th>4</th>\n",
       "      <td>1.790959</td>\n",
       "      <td>2.347659</td>\n",
       "      <td>0.842802</td>\n",
       "      <td>0.865365</td>\n",
       "      <td>0.462555</td>\n",
       "      <td>0.907759</td>\n",
       "    </tr>\n",
       "  </tbody>\n",
       "</table>\n",
       "</div>"
      ],
      "text/plain": [
       "   alpha_rmsd  full_rmsd       ptm     plddt  identity  temperature\n",
       "0    1.467277   1.720697  0.845491  0.889637  0.407725     1.225379\n",
       "1    1.824570   2.495011  0.848626  0.883532  0.457265     0.245705\n",
       "2    1.571710   2.149830  0.862063  0.888149  0.436681     1.286259\n",
       "3    1.997596   2.437820  0.756539  0.761424  0.436123     1.496759\n",
       "4    1.790959   2.347659  0.842802  0.865365  0.462555     0.907759"
      ]
     },
     "execution_count": 57,
     "metadata": {},
     "output_type": "execute_result"
    }
   ],
   "source": [
    "metrics_df.head()"
   ]
  },
  {
   "cell_type": "markdown",
   "id": "0431beb1-33bf-4e4b-8928-5f0e5c291fe6",
   "metadata": {},
   "source": [
    "## Анализ сгенерированных белков"
   ]
  },
  {
   "cell_type": "code",
   "execution_count": 58,
   "id": "c1b6780d-c565-404d-8295-61d80102e5be",
   "metadata": {},
   "outputs": [
    {
     "data": {
      "text/plain": [
       "<Axes: xlabel='alpha_rmsd', ylabel='Count'>"
      ]
     },
     "execution_count": 58,
     "metadata": {},
     "output_type": "execute_result"
    },
    {
     "data": {
      "image/png": "[encoded data removed]",
      "text/plain": [
       "<Figure size 640x480 with 1 Axes>"
      ]
     },
     "metadata": {},
     "output_type": "display_data"
    }
   ],
   "source": [
    "import seaborn as sns\n",
    "sns.histplot(data=metrics_df, x='alpha_rmsd')"
   ]
  },
  {
   "cell_type": "code",
   "execution_count": 59,
   "id": "6e8a8258-ad01-495c-9141-3a1272fbc8dc",
   "metadata": {},
   "outputs": [
    {
     "data": {
      "text/plain": [
       "<Axes: xlabel='full_rmsd', ylabel='Count'>"
      ]
     },
     "execution_count": 59,
     "metadata": {},
     "output_type": "execute_result"
    },
    {
     "data": {
      "image/png": "[encoded data removed]",
      "text/plain": [
       "<Figure size 640x480 with 1 Axes>"
      ]
     },
     "metadata": {},
     "output_type": "display_data"
    }
   ],
   "source": [
    "sns.histplot(data=metrics_df, x='full_rmsd')"
   ]
  },
  {
   "cell_type": "code",
   "execution_count": 60,
   "id": "f8cca072-51b0-4295-828b-e23f54c7f28d",
   "metadata": {},
   "outputs": [
    {
     "data": {
      "text/plain": [
       "<Axes: xlabel='ptm', ylabel='Count'>"
      ]
     },
     "execution_count": 60,
     "metadata": {},
     "output_type": "execute_result"
    },
    {
     "data": {
      "image/png": "[encoded data removed]",
      "text/plain": [
       "<Figure size 640x480 with 1 Axes>"
      ]
     },
     "metadata": {},
     "output_type": "display_data"
    }
   ],
   "source": [
    "sns.histplot(data=metrics_df, x='ptm')"
   ]
  },
  {
   "cell_type": "code",
   "execution_count": 61,
   "id": "e5f0cff6-3b46-404e-b56c-67d78b04d235",
   "metadata": {},
   "outputs": [
    {
     "data": {
      "text/plain": [
       "<Axes: xlabel='plddt', ylabel='Count'>"
      ]
     },
     "execution_count": 61,
     "metadata": {},
     "output_type": "execute_result"
    },
    {
     "data": {
      "image/png": "[encoded data removed]",
      "text/plain": [
       "<Figure size 640x480 with 1 Axes>"
      ]
     },
     "metadata": {},
     "output_type": "display_data"
    }
   ],
   "source": [
    "sns.histplot(data=metrics_df, x='plddt')"
   ]
  },
  {
   "cell_type": "code",
   "execution_count": 62,
   "id": "28917050-3e31-4061-a967-235c2d99deef",
   "metadata": {},
   "outputs": [
    {
     "data": {
      "text/plain": [
       "<Axes: xlabel='identity', ylabel='Count'>"
      ]
     },
     "execution_count": 62,
     "metadata": {},
     "output_type": "execute_result"
    },
    {
     "data": {
      "image/png": "[encoded data removed]",
      "text/plain": [
       "<Figure size 640x480 with 1 Axes>"
      ]
     },
     "metadata": {},
     "output_type": "display_data"
    }
   ],
   "source": [
    "import seaborn as sns\n",
    "sns.histplot(data=metrics_df, x='identity')"
   ]
  },
  {
   "cell_type": "code",
   "execution_count": 63,
   "id": "d38edcc3-79b9-4ba6-a524-dd273860706a",
   "metadata": {},
   "outputs": [
    {
     "data": {
      "text/html": [
       "<div>\n",
       "<style scoped>\n",
       "    .dataframe tbody tr th:only-of-type {\n",
       "        vertical-align: middle;\n",
       "    }\n",
       "\n",
       "    .dataframe tbody tr th {\n",
       "        vertical-align: top;\n",
       "    }\n",
       "\n",
       "    .dataframe thead th {\n",
       "        text-align: right;\n",
       "    }\n",
       "</style>\n",
       "<table border=\"1\" class=\"dataframe\">\n",
       "  <thead>\n",
       "    <tr style=\"text-align: right;\">\n",
       "      <th></th>\n",
       "      <th>alpha_rmsd</th>\n",
       "      <th>full_rmsd</th>\n",
       "      <th>ptm</th>\n",
       "      <th>plddt</th>\n",
       "      <th>identity</th>\n",
       "      <th>temperature</th>\n",
       "    </tr>\n",
       "  </thead>\n",
       "  <tbody>\n",
       "    <tr>\n",
       "      <th>63</th>\n",
       "      <td>1.263184</td>\n",
       "      <td>1.409898</td>\n",
       "      <td>0.866909</td>\n",
       "      <td>0.897248</td>\n",
       "      <td>0.456140</td>\n",
       "      <td>0.443437</td>\n",
       "    </tr>\n",
       "    <tr>\n",
       "      <th>190</th>\n",
       "      <td>1.370681</td>\n",
       "      <td>1.444292</td>\n",
       "      <td>0.876857</td>\n",
       "      <td>0.907539</td>\n",
       "      <td>0.452174</td>\n",
       "      <td>0.749214</td>\n",
       "    </tr>\n",
       "    <tr>\n",
       "      <th>222</th>\n",
       "      <td>1.295569</td>\n",
       "      <td>1.441263</td>\n",
       "      <td>0.856098</td>\n",
       "      <td>0.884410</td>\n",
       "      <td>0.436123</td>\n",
       "      <td>0.306040</td>\n",
       "    </tr>\n",
       "  </tbody>\n",
       "</table>\n",
       "</div>"
      ],
      "text/plain": [
       "     alpha_rmsd  full_rmsd       ptm     plddt  identity  temperature\n",
       "63     1.263184   1.409898  0.866909  0.897248  0.456140     0.443437\n",
       "190    1.370681   1.444292  0.876857  0.907539  0.452174     0.749214\n",
       "222    1.295569   1.441263  0.856098  0.884410  0.436123     0.306040"
      ]
     },
     "execution_count": 63,
     "metadata": {},
     "output_type": "execute_result"
    }
   ],
   "source": [
    "metrics_df_filtered = metrics_df[(metrics_df['alpha_rmsd'] <= 1.5) & (metrics_df['full_rmsd'] <= 1.5)]\n",
    "metrics_df_filtered"
   ]
  },
  {
   "cell_type": "code",
   "execution_count": null,
   "id": "9632f27c-e228-4f7d-be3a-53c277ffd542",
   "metadata": {},
   "outputs": [
    {
     "data": {
      "text/plain": [
       "'MFADGFGKPVPIEVSLTASVNGVDFTVTGKGTGDAASGKLDLTFTSSVPSLPVPWPTLVTTLTYGVQCFSRYPAELADKDFFKRVMPEGYTQEAVLTFSDGSKYVTTGEVYVENGVLVNEITLKQYPGTNPEKIANPNLEYNYGSFTVPIHTDTATNTFSYEFTIDHTVNGKKVGTVDHEQQNTVKGNPAEFYDLNGYLDIKSTLILPKSGSENSMKLDETVTFVLK'"
      ]
     },
     "execution_count": 50,
     "metadata": {},
     "output_type": "execute_result"
    }
   ],
   "source": [
    "proteins[63].sequence"
   ]
  },
  {
   "cell_type": "code",
   "execution_count": null,
   "id": "79afcd50-fffb-4d0b-96ec-89f13da8ad19",
   "metadata": {},
   "outputs": [],
   "source": [
    "proteins[63].to_pdb('gfp_5_2.pdb')"
   ]
  },
  {
   "cell_type": "code",
   "execution_count": null,
   "id": "79e43100-3058-4f1d-910e-6552bcb6be09",
   "metadata": {},
   "outputs": [],
   "source": []
  }
 ],
 "metadata": {
  "kernelspec": {
   "display_name": "Python 3",
   "language": "python",
   "name": "python3"
  },
  "language_info": {
   "codemirror_mode": {
    "name": "ipython",
    "version": 3
   },
   "file_extension": ".py",
   "mimetype": "text/x-python",
   "name": "python",
   "nbconvert_exporter": "python",
   "pygments_lexer": "ipython3",
   "version": "3.11.9"
  }
 },
 "nbformat": 4,
 "nbformat_minor": 5
}

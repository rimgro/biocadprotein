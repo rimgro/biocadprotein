{
 "cells": [
  {
   "cell_type": "markdown",
   "id": "39cecdc3",
   "metadata": {},
   "source": [
    "Загрузим библиотеку fpgen"
   ]
  },
  {
   "cell_type": "code",
   "execution_count": 1,
   "id": "163b3e5e",
   "metadata": {},
   "outputs": [],
   "source": [
    "from IPython.display import clear_output\n",
    "\n",
    "! pip install --upgrade git+https://github.com/rimgro/biocadprotein.git\n",
    "\n",
    "clear_output()"
   ]
  },
  {
   "cell_type": "code",
   "execution_count": 2,
   "id": "713c7667",
   "metadata": {},
   "outputs": [],
   "source": [
    "from fpgen.generator import ProteinGenerator\n",
    "from fpgen.metrics import CustomMetric\n",
    "\n",
    "from esm.models.esm3 import ESM3\n",
    "from esm.sdk.api import ESMProtein\n",
    "from esm.utils.structure.protein_chain import ProteinChain"
   ]
  },
  {
   "cell_type": "code",
   "execution_count": 3,
   "id": "c4763f18",
   "metadata": {},
   "outputs": [],
   "source": [
    "# GFP\n",
    "gfp_protein = ESMProtein.from_protein_chain(\n",
    "    ProteinChain.from_rcsb('1qy3', chain_id='A')\n",
    ")\n",
    "gfp_aplha_phelix = [5, 133, 9, 138, 11, 139, 13, 140, 15, 141, 142, 180, 147, 181, 24, 182, 26, 32, 33, 34, 162, 164, 37, 38, 39, 166, 41, 43, 50, 178, 52, 53, 54, 55, 56, 57, 58, 59, 60, 61, 62, 63, 64, 65, 66, 67, 68, 69, 70, 71, 198, 202, 204, 79, 81, 82, 85, 215, 89, 217, 91, 92, 93, 219, 221, 222, 97, 103, 105, 109, 116, 118, 120, 122]\n",
    "\n",
    "# mScarlet\n",
    "mscarlet_protein = ESMProtein.from_protein_chain(\n",
    "    ProteinChain.from_rcsb('5lk4', chain_id='A')\n",
    ")\n",
    "mscarlet_aplha_phelix = ...\n",
    "\n",
    "# sfGFP\n",
    "sfgfp_protein = ESMProtein.from_protein_chain(\n",
    "    ProteinChain.from_rcsb('2b3p', chain_id='A')\n",
    ")\n",
    "sfgfp_aplha_phelix = ..."
   ]
  },
  {
   "cell_type": "markdown",
   "id": "651f7cd6",
   "metadata": {},
   "source": [
    "Загрузим из базы данных PBD белок GFP и создадим объект генератора"
   ]
  },
  {
   "cell_type": "code",
   "execution_count": 4,
   "id": "bd36b2c1",
   "metadata": {},
   "outputs": [
    {
     "data": {
      "application/vnd.jupyter.widget-view+json": {
       "model_id": "164ce8e9ca304a84a2cc5bc85b85fa00",
       "version_major": 2,
       "version_minor": 0
      },
      "text/plain": [
       "Fetching 22 files:   0%|          | 0/22 [00:00<?, ?it/s]"
      ]
     },
     "metadata": {},
     "output_type": "display_data"
    },
    {
     "name": "stderr",
     "output_type": "stream",
     "text": [
      "c:\\Users\\User\\AppData\\Local\\Programs\\Python\\Python311\\Lib\\site-packages\\esm\\models\\vqvae.py:286: FutureWarning: `torch.cuda.amp.autocast(args...)` is deprecated. Please use `torch.amp.autocast('cuda', args...)` instead.\n",
      "  with torch.no_grad(), torch.cuda.amp.autocast(enabled=False):  # type: ignore\n"
     ]
    }
   ],
   "source": [
    "model = ESM3.from_pretrained('esm3-open').to('cuda')\n",
    "\n",
    "gfp_generator = ProteinGenerator(gfp_protein, gfp_aplha_phelix, model)"
   ]
  },
  {
   "cell_type": "markdown",
   "id": "56e2d3a7",
   "metadata": {},
   "source": [
    "В библиотеке уже есть заготовленная функция для подсчета RMSD по всей структуре белка. Но нет для подсчета по альфа-спирали (по техническим причинам). Поэтому ее необходимо реализовать самостоятельно"
   ]
  },
  {
   "cell_type": "code",
   "execution_count": 5,
   "id": "a0b26fff",
   "metadata": {},
   "outputs": [],
   "source": [
    "def phelix_rmsd(generation_protein, template_protein, alpha_phelix) -> float:\n",
    "    template_chain: ProteinChain = template_protein.to_protein_chain()\n",
    "    generation_chain: ProteinChain = generation_protein.to_protein_chain()\n",
    "\n",
    "    rmsd = template_chain[alpha_phelix].rmsd(generation_chain[alpha_phelix])\n",
    "    return rmsd"
   ]
  },
  {
   "cell_type": "code",
   "execution_count": 6,
   "id": "7f0a89b7",
   "metadata": {},
   "outputs": [],
   "source": [
    "import os\n",
    "os.environ['DISABLE_ITERATIVE_SAMPLING_TQDM'] = '1'"
   ]
  },
  {
   "cell_type": "code",
   "execution_count": 7,
   "id": "3e0d8eb5",
   "metadata": {},
   "outputs": [],
   "source": [
    "from tqdm import trange"
   ]
  },
  {
   "cell_type": "code",
   "execution_count": 8,
   "id": "ccfbf01a",
   "metadata": {},
   "outputs": [],
   "source": [
    "metrics = []\n",
    "proteins = []"
   ]
  },
  {
   "cell_type": "code",
   "execution_count": 9,
   "id": "56f37079",
   "metadata": {},
   "outputs": [],
   "source": [
    "protein, metric = gfp_generator.generate(\n",
    "    metric_list=[\n",
    "        CustomMetric(phelix_rmsd, gfp_aplha_phelix),\n",
    "        'rmsd',\n",
    "        'ptm',\n",
    "        'plddt'\n",
    "    ]\n",
    ")"
   ]
  },
  {
   "cell_type": "code",
   "execution_count": 10,
   "id": "327b5bbf",
   "metadata": {},
   "outputs": [
    {
     "name": "stdout",
     "output_type": "stream",
     "text": [
      "1\n",
      "2\n"
     ]
    },
    {
     "name": "stderr",
     "output_type": "stream",
     "text": [
      "c:\\Users\\User\\AppData\\Local\\Programs\\Python\\Python311\\Lib\\site-packages\\esm\\utils\\structure\\protein_complex.py:223: UserWarning: Entity ID not found in metadata, using None as default\n",
      "  warnings.warn(\"Entity ID not found in metadata, using None as default\")\n"
     ]
    },
    {
     "name": "stdout",
     "output_type": "stream",
     "text": [
      "3\n",
      "4\n",
      "5\n",
      "6\n"
     ]
    }
   ],
   "source": [
    "from fpgen import utils\n",
    "fixed_protein = utils.fix_protein(protein)"
   ]
  },
  {
   "cell_type": "code",
   "execution_count": null,
   "id": "836d9e40",
   "metadata": {},
   "outputs": [
    {
     "name": "stderr",
     "output_type": "stream",
     "text": [
      "100%|██████████| 20/20 [00:16<00:00,  1.18it/s]\n",
      "100%|██████████| 20/20 [00:16<00:00,  1.23it/s]\n"
     ]
    }
   ],
   "source": [
    "for _ in trange(1000):\n",
    "    protein, metric = gfp_generator.generate(\n",
    "        metric_list=[\n",
    "            CustomMetric(phelix_rmsd, gfp_aplha_phelix),\n",
    "            'rmsd',\n",
    "            'ptm',\n",
    "            'plddt'\n",
    "        ]\n",
    "    )\n",
    "\n",
    "    metrics.append(metric)\n",
    "    proteins.append(protein)"
   ]
  },
  {
   "cell_type": "code",
   "execution_count": null,
   "id": "1c26c490",
   "metadata": {},
   "outputs": [],
   "source": [
    "import pandas as pd\n",
    "metrics_df = pd.DataFrame(metrics, columns=['alpha_rmsd', 'full_rmsd', 'ptm', 'plddt'])"
   ]
  }
 ],
 "metadata": {
  "kernelspec": {
   "display_name": "Python 3",
   "language": "python",
   "name": "python3"
  },
  "language_info": {
   "codemirror_mode": {
    "name": "ipython",
    "version": 3
   },
   "file_extension": ".py",
   "mimetype": "text/x-python",
   "name": "python",
   "nbconvert_exporter": "python",
   "pygments_lexer": "ipython3",
   "version": "3.11.9"
  }
 },
 "nbformat": 4,
 "nbformat_minor": 5
}

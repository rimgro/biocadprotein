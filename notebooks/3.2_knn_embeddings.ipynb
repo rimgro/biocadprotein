{
 "cells": [
  {
   "cell_type": "markdown",
   "id": "7f49f573",
   "metadata": {},
   "source": [
    "## Baseline-решение предсказания свойств ФБ, с помощью kNN (эмбеддинги (ESM C))"
   ]
  },
  {
   "cell_type": "markdown",
   "id": "861e7e63",
   "metadata": {},
   "source": [
    "### Подготовка к работе"
   ]
  },
  {
   "cell_type": "code",
   "execution_count": null,
   "id": "b659754e",
   "metadata": {},
   "outputs": [],
   "source": [
    "! pip install --upgrade git+https://github.com/rimgro/biocadprotein.git"
   ]
  },
  {
   "cell_type": "code",
   "execution_count": 2,
   "id": "30e8a818",
   "metadata": {},
   "outputs": [],
   "source": [
    "from fpgen.prop_prediction.dataset import FPbase\n",
    "from fpgen.generation.metrics import identity\n",
    "\n",
    "from fpgen.prop_prediction.metrics import get_regression_metrics, get_classification_metrics\n",
    "\n",
    "from sklearn.model_selection import train_test_split, KFold\n",
    "\n",
    "from sklearn.model_selection import train_test_split, GridSearchCV, cross_validate\n",
    "from sklearn.neighbors import KNeighborsRegressor, KNeighborsClassifier\n",
    "\n",
    "import pandas as pd\n",
    "import numpy as np\n",
    "from tqdm import tqdm\n",
    "from collections import Counter\n",
    "\n",
    "import ast"
   ]
  },
  {
   "cell_type": "markdown",
   "id": "8a824e8f",
   "metadata": {},
   "source": [
    "### Загрузка датасета"
   ]
  },
  {
   "cell_type": "code",
   "execution_count": 3,
   "id": "efe2b181",
   "metadata": {},
   "outputs": [],
   "source": [
    "dataset = FPbase('../data/dataset_embedd.csv')"
   ]
  },
  {
   "cell_type": "markdown",
   "id": "672d986b",
   "metadata": {},
   "source": [
    "### Реализация алгоритма KNN"
   ]
  },
  {
   "cell_type": "markdown",
   "id": "a85be76e",
   "metadata": {},
   "source": [
    "Реализация KNN в задаче регрессии и классификации."
   ]
  },
  {
   "cell_type": "code",
   "execution_count": 4,
   "id": "95e5845c",
   "metadata": {},
   "outputs": [],
   "source": [
    "def knn(x_train, y_train, x_test, knn_type):\n",
    "    params = {'n_neighbors' : range(1, 30)}\n",
    "\n",
    "    if knn_type == 'reg':\n",
    "\n",
    "        knn_regressor = KNeighborsRegressor()\n",
    "        grid = GridSearchCV(knn_regressor, params, cv=4, scoring='neg_mean_squared_error') # MSE\n",
    "        grid.fit(x_train, y_train)\n",
    "\n",
    "        knn_regressor = KNeighborsRegressor(n_neighbors=grid.best_params_['n_neighbors'])\n",
    "        knn_regressor.fit(x_train, y_train)\n",
    "        predictions = knn_regressor.predict(x_test)\n",
    "\n",
    "    elif knn_type == 'class':\n",
    "\n",
    "        knn_classif = KNeighborsClassifier()\n",
    "        grid = GridSearchCV(knn_classif, params, cv=4, scoring='accuracy')\n",
    "        grid.fit(x_train, y_train)\n",
    "\n",
    "        scoring = ['accuracy', 'precision_weighted', 'recall_weighted', 'f1_weighted'] # метрики\n",
    "        results = cross_validate(knn_classif, x_train, y_train, cv=5, scoring=scoring)\n",
    "\n",
    "        knn_classif = KNeighborsClassifier(n_neighbors=grid.best_params_['n_neighbors'])\n",
    "        knn_classif.fit(x_train, y_train)\n",
    "        predictions = knn_classif.predict(x_test)\n",
    "        \n",
    "    return predictions"
   ]
  },
  {
   "cell_type": "markdown",
   "id": "b2ff7b0c",
   "metadata": {},
   "source": [
    "## Метрики"
   ]
  },
  {
   "cell_type": "code",
   "execution_count": 5,
   "id": "0b74a2dc",
   "metadata": {},
   "outputs": [],
   "source": [
    "def metrics_reg(metrics):\n",
    "    print(f'\\t RMSE: {metrics['rmse']}')\n",
    "    print(f'\\t MAE: {metrics['mae']}')\n",
    "    print(f'\\t R2: {metrics['r2']}')\n",
    "    print(f'\\t MAE (med.): {metrics['mae_median']}')\n",
    "\n",
    "def metrics_class(metrics):\n",
    "    print(f'\\t Accuracy: {metrics['accuracy']}')\n",
    "    print(f'\\t Precision: {metrics['precision']}')\n",
    "    print(f'\\t Recall: {metrics['recall']}')\n",
    "    print(f'\\t F1: {metrics['f1']}')"
   ]
  },
  {
   "cell_type": "code",
   "execution_count": 6,
   "id": "fd5fe38a",
   "metadata": {},
   "outputs": [],
   "source": [
    "def preproc(data):\n",
    "    processed = []\n",
    "    for line in data:\n",
    "        clean_line = line.replace('\\n', ' ').strip('[]')\n",
    "        numbers = np.fromstring(clean_line, sep=' ')\n",
    "        processed.append(numbers.tolist())\n",
    "    return np.array(processed)"
   ]
  },
  {
   "cell_type": "code",
   "execution_count": 8,
   "id": "1cc9067d",
   "metadata": {},
   "outputs": [
    {
     "name": "stdout",
     "output_type": "stream",
     "text": [
      "brightness\n",
      "Scaled:\n",
      "\t RMSE: 0.8897936198409858\n",
      "\t MAE: 0.5285885589696336\n",
      "\t R2: 0.26402106819229165\n",
      "\t MAE (med.): 0.30623113480727954\n",
      "Rescaled:\n",
      "\t RMSE: 27.43638807541911\n",
      "\t MAE: 16.298791666666666\n",
      "\t R2: 0.26402106819229165\n",
      "\t MAE (med.): 9.442499999999999\n",
      "\n",
      "em_max\n",
      "Scaled:\n",
      "\t RMSE: 0.5803172595847197\n",
      "\t MAE: 0.3649787673252432\n",
      "\t R2: 0.6237802764003194\n",
      "\t MAE (med.): 0.20854598241252914\n",
      "Rescaled:\n",
      "\t RMSE: 37.28794574931144\n",
      "\t MAE: 23.451497005988028\n",
      "\t R2: 0.6237802764003193\n",
      "\t MAE (med.): 13.399999999999977\n",
      "\n",
      "ex_max\n",
      "Scaled:\n",
      "\t RMSE: 0.6634388019103676\n",
      "\t MAE: 0.44404636093858496\n",
      "\t R2: 0.5339449006457315\n",
      "\t MAE (med.): 0.27435721586562567\n",
      "Rescaled:\n",
      "\t RMSE: 44.33287698781457\n",
      "\t MAE: 29.672447013487478\n",
      "\t R2: 0.5339449006457314\n",
      "\t MAE (med.): 18.333333333333314\n",
      "\n",
      "ext_coeff\n",
      "Scaled:\n",
      "\t RMSE: 0.954774649612648\n",
      "\t MAE: 0.6621336212847821\n",
      "\t R2: 0.2586937844734908\n",
      "\t MAE (med.): 0.47946678493033645\n",
      "Rescaled:\n",
      "\t RMSE: 36046.98229471582\n",
      "\t MAE: 24998.484126984127\n",
      "\t R2: 0.2586937844734908\n",
      "\t MAE (med.): 18102.0\n",
      "\n",
      "lifetime\n",
      "Scaled:\n",
      "\t RMSE: 1.8924329119431857\n",
      "\t MAE: 0.7615086521460377\n",
      "\t R2: 0.08038242522128536\n",
      "\t MAE (med.): 0.34122469458722393\n",
      "Rescaled:\n",
      "\t RMSE: 2.1999142118915778\n",
      "\t MAE: 0.8852380952380953\n",
      "\t R2: 0.08038242522128491\n",
      "\t MAE (med.): 0.3966666666666667\n",
      "\n",
      "maturation\n",
      "Scaled:\n",
      "\t RMSE: 0.5237333053024162\n",
      "\t MAE: 0.3893118614343951\n",
      "\t R2: -0.12322899885041205\n",
      "\t MAE (med.): 0.3227221486863252\n",
      "Rescaled:\n",
      "\t RMSE: 110.94643960304487\n",
      "\t MAE: 82.47091503267976\n",
      "\t R2: -0.12322899885041227\n",
      "\t MAE (med.): 68.36470588235294\n",
      "\n",
      "pka\n",
      "Scaled:\n",
      "\t RMSE: 1.1441939903244882\n",
      "\t MAE: 0.775563410783371\n",
      "\t R2: 0.22695295805562465\n",
      "\t MAE (med.): 0.5258810253616593\n",
      "Rescaled:\n",
      "\t RMSE: 1.2873281438700859\n",
      "\t MAE: 0.8725833333333334\n",
      "\t R2: 0.22695295805562443\n",
      "\t MAE (med.): 0.5916666666666663\n",
      "\n",
      "stokes_shift\n",
      "Scaled:\n",
      "\t RMSE: 0.7245194854895736\n",
      "\t MAE: 0.4725860104405594\n",
      "\t R2: 0.08468648649884736\n",
      "\t MAE (med.): 0.24399527738452698\n",
      "Rescaled:\n",
      "\t RMSE: 27.318476562148316\n",
      "\t MAE: 17.819161676646704\n",
      "\t R2: 0.08468648649884725\n",
      "\t MAE (med.): 9.200000000000003\n",
      "\n",
      "qy\n",
      "Scaled:\n",
      "\t RMSE: 0.7213618667634389\n",
      "\t MAE: 0.5565624464472493\n",
      "\t R2: 0.45938935933208347\n",
      "\t MAE (med.): 0.45836299078812726\n",
      "Rescaled:\n",
      "\t RMSE: 0.19409936088975208\n",
      "\t MAE: 0.14975620437956208\n",
      "\t R2: 0.4593893593320836\n",
      "\t MAE (med.): 0.1233333333333334\n",
      "\n",
      "agg\n"
     ]
    },
    {
     "name": "stderr",
     "output_type": "stream",
     "text": [
      "/home/paa/Develop/biocadprotein/.venv/lib64/python3/site-packages/sklearn/metrics/_classification.py:1706: UndefinedMetricWarning: Precision is ill-defined and being set to 0.0 in labels with no predicted samples. Use `zero_division` parameter to control this behavior.\n",
      "  _warn_prf(average, modifier, f\"{metric.capitalize()} is\", result.shape[0])\n",
      "/home/paa/Develop/biocadprotein/.venv/lib64/python3/site-packages/sklearn/metrics/_classification.py:1706: UndefinedMetricWarning: Precision is ill-defined and being set to 0.0 in labels with no predicted samples. Use `zero_division` parameter to control this behavior.\n",
      "  _warn_prf(average, modifier, f\"{metric.capitalize()} is\", result.shape[0])\n"
     ]
    },
    {
     "name": "stdout",
     "output_type": "stream",
     "text": [
      "\t Accuracy: 0.7762237762237763\n",
      "\t Precision: 0.7624345351618079\n",
      "\t Recall: 0.7762237762237763\n",
      "\t F1: 0.7646065758365224\n",
      "\n",
      "switch_type\n",
      "\t Accuracy: 0.9378531073446328\n",
      "\t Precision: 0.9359428930618761\n",
      "\t Recall: 0.9378531073446328\n",
      "\t F1: 0.9337233893429385\n",
      "\n"
     ]
    }
   ],
   "source": [
    "for item in dataset.targets:\n",
    "    if item != 'agg' and item != 'switch_type':\n",
    "        print(item)\n",
    "        x_train, y_train = dataset.get_train(item)\n",
    "        x_test, y_test = dataset.get_test(item)\n",
    "\n",
    "        x_train_processed = preproc(x_train)\n",
    "        x_test_processed = preproc(x_test)\n",
    "        \n",
    "        y_pred = knn(x_train_processed, y_train, x_test_processed, 'reg')\n",
    "\n",
    "        y_test_rescaled = dataset.rescale_targets(y_test, item)\n",
    "        y_pred_rescaled = dataset.rescale_targets(y_pred, item)\n",
    "\n",
    "        print('Scaled:')\n",
    "        metrics_reg(get_regression_metrics(y_pred, y_test))\n",
    "        print('Rescaled:')\n",
    "        metrics_reg(get_regression_metrics(y_pred_rescaled, y_test_rescaled))\n",
    "        print('')\n",
    "        \n",
    "    else:\n",
    "        print(item)\n",
    "        x_train, y_train = dataset.get_train(item, is_scaled=False)\n",
    "        x_test, y_test = dataset.get_test(item, is_scaled=False)\n",
    "\n",
    "        x_train_processed = preproc(x_train)\n",
    "        x_test_processed = preproc(x_test)\n",
    "        \n",
    "        y_pred = knn(x_train_processed, y_train, x_test_processed, 'class')\n",
    "        metrics_class(get_classification_metrics(y_pred, y_test))\n",
    "\n",
    "        print('')\n"
   ]
  }
 ],
 "metadata": {
  "kernelspec": {
   "display_name": ".venv",
   "language": "python",
   "name": "python3"
  },
  "language_info": {
   "codemirror_mode": {
    "name": "ipython",
    "version": 3
   },
   "file_extension": ".py",
   "mimetype": "text/x-python",
   "name": "python",
   "nbconvert_exporter": "python",
   "pygments_lexer": "ipython3",
   "version": "3.12.11"
  }
 },
 "nbformat": 4,
 "nbformat_minor": 5
}
